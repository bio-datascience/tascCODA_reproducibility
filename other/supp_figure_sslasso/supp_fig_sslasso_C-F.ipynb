{
 "cells": [
  {
   "cell_type": "markdown",
   "metadata": {
    "collapsed": true,
    "pycharm": {
     "name": "#%% md\n"
    }
   },
   "source": [
    "# How does treeCODA behave with lambda_1?\n",
    "## Producing supplementary figure 1 C-F (spike-and-slab LASSO prior)"
   ]
  },
  {
   "cell_type": "code",
   "execution_count": 1,
   "outputs": [],
   "source": [
    "# Setup\n",
    "import pandas as pd\n",
    "import toytree as tt\n",
    "import numpy as np\n",
    "import anndata as ad\n",
    "import os\n",
    "from tree_aggregation import tree_ana as ana\n",
    "import matplotlib.pyplot as plt\n",
    "import seaborn as sns\n",
    "import sccoda.util.data_visualization as viz"
   ],
   "metadata": {
    "collapsed": false,
    "pycharm": {
     "name": "#%%\n"
    }
   }
  },
  {
   "cell_type": "markdown",
   "source": [
    "Lets take one random dataset from the simulation study with 10 OTUs"
   ],
   "metadata": {
    "collapsed": false,
    "pycharm": {
     "name": "#%% md\n"
    }
   }
  },
  {
   "cell_type": "code",
   "execution_count": 2,
   "outputs": [
    {
     "name": "stdout",
     "output_type": "stream",
     "text": [
      "0.9\n",
      "50\n"
     ]
    },
    {
     "data": {
      "text/plain": "<AxesSubplot:xlabel='Cell type', ylabel='Proportion'>"
     },
     "execution_count": 2,
     "metadata": {},
     "output_type": "execute_result"
    },
    {
     "data": {
      "text/plain": "<Figure size 600x400 with 1 Axes>",
      "image/png": "[encoded data removed]"
     },
     "metadata": {},
     "output_type": "display_data"
    }
   ],
   "source": [
    "# id = 187\n",
    "id = 319\n",
    "dataset_path = os.path.abspath(\"../../../tascCODA_data/benchmarks/model_comparison/datasets/\")\n",
    "\n",
    "test_data = ad.read_h5ad(dataset_path + f\"/data_{id}\")\n",
    "test_data.uns[\"phylo_tree\"] = tt.tree(newick=test_data.uns[\"tree_newick\"])\n",
    "print(test_data.uns[\"effect_size\"])\n",
    "print(test_data.uns[\"num_samples\"])\n",
    "\n",
    "viz.boxplots(test_data, \"x_0\")"
   ],
   "metadata": {
    "collapsed": false,
    "pycharm": {
     "name": "#%%\n"
    }
   }
  },
  {
   "cell_type": "code",
   "execution_count": 3,
   "outputs": [
    {
     "data": {
      "text/plain": "(<toyplot.canvas.Canvas at 0x7f7f863bd130>,\n <toyplot.coordinates.Cartesian at 0x7f7f863bd100>,\n <toytree.Render.ToytreeMark at 0x7f7f863bdf40>)"
     },
     "execution_count": 3,
     "metadata": {},
     "output_type": "execute_result"
    },
    {
     "data": {
      "text/html": "<div class=\"toyplot\" id=\"ta85b49525f904d609c6979688e892a6b\" style=\"text-align:center\"><svg class=\"toyplot-canvas-Canvas\" xmlns:toyplot=\"http://www.sandia.gov/toyplot\" xmlns:xlink=\"http://www.w3.org/1999/xlink\" xmlns=\"http://www.w3.org/2000/svg\" width=\"255.0px\" height=\"275.0px\" viewBox=\"0 0 255.0 275.0\" preserveAspectRatio=\"xMidYMid meet\" style=\"background-color:transparent;border-color:#292724;border-style:none;border-width:1.0;fill:rgb(16.1%,15.3%,14.1%);fill-opacity:1.0;font-family:Helvetica;font-size:12px;opacity:1.0;stroke:rgb(16.1%,15.3%,14.1%);stroke-opacity:1.0;stroke-width:1.0\" id=\"tf15568ae7db74deb8ff4e5e21dc4087f\"><g class=\"toyplot-coordinates-Cartesian\" id=\"t69ac5c1eee994780ac3acd557ff6e98a\"><clipPath id=\"t87e5b6eb1e364006bcdd1fd1660ce11b\"><rect x=\"30.0\" y=\"30.0\" width=\"195.0\" height=\"215.0\"></rect></clipPath><g clip-path=\"url(#t87e5b6eb1e364006bcdd1fd1660ce11b)\"><g class=\"toytree-mark-Toytree\" id=\"t987237fd69a84590a4d604d82755b238\"><g class=\"toytree-Edges\" style=\"fill:none;stroke:rgb(14.9%,14.9%,14.9%);stroke-linecap:round;stroke-opacity:1;stroke-width:2\"><path d=\"M 50.0 116.3 L 50.0 73.8 L 86.0 73.8\" id=\"18,17\"></path><path d=\"M 50.0 116.3 L 50.0 158.7 L 86.0 158.7\" id=\"18,16\"></path><path d=\"M 86.0 73.8 L 86.0 73.8 L 122.1 73.8\" id=\"17,15\"></path><path d=\"M 86.0 158.7 L 86.0 158.7 L 122.1 158.7\" id=\"16,14\"></path><path d=\"M 122.1 73.8 L 122.1 61.0 L 158.1 61.0\" id=\"15,13\"></path><path d=\"M 122.1 73.8 L 122.1 86.5 L 158.1 86.5\" id=\"15,12\"></path><path d=\"M 122.1 158.7 L 122.1 129.0 L 158.1 129.0\" id=\"14,11\"></path><path d=\"M 122.1 158.7 L 122.1 188.5 L 158.1 188.5\" id=\"14,10\"></path><path d=\"M 158.1 61.0 L 158.1 61.0 L 194.1 61.0\" id=\"13,9\"></path><path d=\"M 158.1 86.5 L 158.1 78.0 L 194.1 78.0\" id=\"12,8\"></path><path d=\"M 158.1 86.5 L 158.1 95.0 L 194.1 95.0\" id=\"12,7\"></path><path d=\"M 158.1 129.0 L 158.1 112.0 L 194.1 112.0\" id=\"11,6\"></path><path d=\"M 158.1 129.0 L 158.1 129.0 L 194.1 129.0\" id=\"11,5\"></path><path d=\"M 158.1 129.0 L 158.1 146.0 L 194.1 146.0\" id=\"11,4\"></path><path d=\"M 158.1 188.5 L 158.1 163.0 L 194.1 163.0\" id=\"10,3\"></path><path d=\"M 158.1 188.5 L 158.1 180.0 L 194.1 180.0\" id=\"10,2\"></path><path d=\"M 158.1 188.5 L 158.1 197.0 L 194.1 197.0\" id=\"10,1\"></path><path d=\"M 158.1 188.5 L 158.1 214.0 L 194.1 214.0\" id=\"10,0\"></path></g><g class=\"toytree-AlignEdges\" style=\"stroke:rgb(66.3%,66.3%,66.3%);stroke-dasharray:2, 4;stroke-linecap:round;stroke-opacity:1.0;stroke-width:2\"><path d=\"M 194.1 214.0 L 194.1 214.0\"></path><path d=\"M 194.1 197.0 L 194.1 197.0\"></path><path d=\"M 194.1 180.0 L 194.1 180.0\"></path><path d=\"M 194.1 163.0 L 194.1 163.0\"></path><path d=\"M 194.1 146.0 L 194.1 146.0\"></path><path d=\"M 194.1 129.0 L 194.1 129.0\"></path><path d=\"M 194.1 112.0 L 194.1 112.0\"></path><path d=\"M 194.1 95.0 L 194.1 95.0\"></path><path d=\"M 194.1 78.0 L 194.1 78.0\"></path><path d=\"M 194.1 61.0 L 194.1 61.0\"></path></g><g class=\"toytree-Nodes\" style=\"fill:rgb(40%,76.1%,64.7%);fill-opacity:1.0;stroke:None;stroke-width:1\"><g id=\"node-0\" transform=\"translate(194.142,213.986)\"><circle r=\"0.0\"></circle></g><g id=\"node-1\" transform=\"translate(194.142,196.989)\"><circle r=\"0.0\"></circle></g><g id=\"node-2\" transform=\"translate(194.142,179.992)\"><circle r=\"0.0\"></circle></g><g id=\"node-3\" transform=\"translate(194.142,162.995)\"><circle r=\"0.0\"></circle></g><g id=\"node-4\" transform=\"translate(194.142,145.998)\"><circle r=\"0.0\"></circle></g><g id=\"node-5\" transform=\"translate(194.142,129.002)\"><circle r=\"0.0\"></circle></g><g id=\"node-6\" transform=\"translate(194.142,112.005)\"><circle r=\"0.0\"></circle></g><g id=\"node-7\" transform=\"translate(194.142,95.008)\"><circle r=\"0.0\"></circle></g><g id=\"node-8\" transform=\"translate(194.142,78.011)\"><circle r=\"0.0\"></circle></g><g id=\"node-9\" transform=\"translate(194.142,61.014)\"><circle r=\"0.0\"></circle></g><g id=\"node-10\" transform=\"translate(158.106,188.491)\"><circle r=\"5.0\"></circle></g><g id=\"node-11\" transform=\"translate(158.106,129.002)\"><circle r=\"5.0\"></circle></g><g id=\"node-12\" transform=\"translate(158.106,86.509)\"><circle r=\"5.0\"></circle></g><g id=\"node-13\" transform=\"translate(158.106,61.014)\"><circle r=\"5.0\"></circle></g><g id=\"node-14\" transform=\"translate(122.071,158.746)\"><circle r=\"5.0\"></circle></g><g id=\"node-15\" transform=\"translate(122.071,73.762)\"><circle r=\"5.0\"></circle></g><g id=\"node-16\" transform=\"translate(86.035,158.746)\"><circle r=\"5.0\"></circle></g><g id=\"node-17\" transform=\"translate(86.035,73.762)\"><circle r=\"5.0\"></circle></g><g id=\"node-18\" transform=\"translate(50.000,116.254)\"><circle r=\"0.0\"></circle></g></g><g class=\"toytree-NodeLabels\" style=\"fill:rgb(14.9%,14.9%,14.9%);fill-opacity:1.0;font-size:9px;stroke:none\"><g transform=\"translate(153.10,190.79)\"><text>10</text></g><g transform=\"translate(153.10,131.30)\"><text>11</text></g><g transform=\"translate(153.10,88.81)\"><text>12</text></g><g transform=\"translate(153.10,63.31)\"><text>13</text></g><g transform=\"translate(117.07,161.05)\"><text>14</text></g><g transform=\"translate(117.07,76.06)\"><text>15</text></g><g transform=\"translate(81.03,161.05)\"><text>16</text></g><g transform=\"translate(81.03,76.06)\"><text>17</text></g></g><g class=\"toytree-TipLabels\" style=\"fill:rgb(14.9%,14.9%,14.9%);fill-opacity:1.0;font-family:helvetica;font-size:11px;font-weight:normal;stroke:none;white-space:pre\"><g transform=\"translate(194.14,213.99)rotate(0)\"><text x=\"15.00\" y=\"2.81\" style=\"\">0</text></g><g transform=\"translate(194.14,196.99)rotate(0)\"><text x=\"15.00\" y=\"2.81\" style=\"\">1</text></g><g transform=\"translate(194.14,179.99)rotate(0)\"><text x=\"15.00\" y=\"2.81\" style=\"\">2</text></g><g transform=\"translate(194.14,163.00)rotate(0)\"><text x=\"15.00\" y=\"2.81\" style=\"\">3</text></g><g transform=\"translate(194.14,146.00)rotate(0)\"><text x=\"15.00\" y=\"2.81\" style=\"\">4</text></g><g transform=\"translate(194.14,129.00)rotate(0)\"><text x=\"15.00\" y=\"2.81\" style=\"\">5</text></g><g transform=\"translate(194.14,112.00)rotate(0)\"><text x=\"15.00\" y=\"2.81\" style=\"\">6</text></g><g transform=\"translate(194.14,95.01)rotate(0)\"><text x=\"15.00\" y=\"2.81\" style=\"\">7</text></g><g transform=\"translate(194.14,78.01)rotate(0)\"><text x=\"15.00\" y=\"2.81\" style=\"\">8</text></g><g transform=\"translate(194.14,61.01)rotate(0)\"><text x=\"15.00\" y=\"2.81\" style=\"\">9</text></g></g></g></g></g></svg><div class=\"toyplot-behavior\"><script>(function()\n{\nvar modules={};\n})();</script></div></div>"
     },
     "metadata": {},
     "output_type": "display_data"
    }
   ],
   "source": [
    "tt.tree(newick=test_data.uns[\"tree_newick\"]).draw(tip_labels_align=True, node_sizes=10, node_labels='idx')"
   ],
   "metadata": {
    "collapsed": false,
    "pycharm": {
     "name": "#%%\n"
    }
   }
  },
  {
   "cell_type": "markdown",
   "source": [
    "## Increasing $\\lambda_0$ (Figure S1C)"
   ],
   "metadata": {
    "collapsed": false,
    "pycharm": {
     "name": "#%% md\n"
    }
   }
  },
  {
   "cell_type": "code",
   "execution_count": 24,
   "outputs": [
    {
     "name": "stdout",
     "output_type": "stream",
     "text": [
      "[   1.      1.44    2.07    2.98    4.28    6.16    8.86   12.74   18.33\n",
      "   26.37   37.93   54.56   78.48  112.88  162.38  233.57  335.98  483.29\n",
      "  695.19 1000.  ]\n"
     ]
    },
    {
     "data": {
      "text/plain": "[<matplotlib.lines.Line2D at 0x7f7d0b0bc7f0>]"
     },
     "execution_count": 24,
     "metadata": {},
     "output_type": "execute_result"
    },
    {
     "data": {
      "text/plain": "<Figure size 432x288 with 1 Axes>",
      "image/png": "[encoded data removed]"
     },
     "metadata": {},
     "output_type": "display_data"
    }
   ],
   "source": [
    "# Define lambdas\n",
    "phi=0\n",
    "results = {}\n",
    "\n",
    "lambdas = np.round(np.logspace(start=0, stop=3, num=20), 2)\n",
    "print(lambdas)\n",
    "plt.plot(lambdas, np.zeros(len(lambdas)), 'o')\n"
   ],
   "metadata": {
    "collapsed": false,
    "pycharm": {
     "name": "#%%\n"
    }
   }
  },
  {
   "cell_type": "code",
   "execution_count": null,
   "outputs": [],
   "source": [
    "# Apply tascCODA\n",
    "for l in lambdas:\n",
    "\n",
    "    tree_mod = ana.CompositionalAnalysisTree(\n",
    "    test_data,\n",
    "    reference_cell_type=\"9\",\n",
    "    formula=\"x_0\",\n",
    "    reg=\"scaled\",\n",
    "    pen_args={\"lambda_0\": l, \"phi\":phi, \"lambda_1\": 1},\n",
    "    model=\"new\"\n",
    "\n",
    "    )\n",
    "    tree_res = tree_mod.sample_hmc_da(num_results=20000, num_burnin=5000)\n",
    "    results[l] = tree_res"
   ],
   "metadata": {
    "collapsed": false,
    "pycharm": {
     "name": "#%%\n"
    }
   }
  },
  {
   "cell_type": "code",
   "execution_count": 32,
   "outputs": [],
   "source": [
    "thetas = pd.DataFrame({\n",
    "    \"l_0\": lambdas,\n",
    "    \"theta\": [np.mean(r.posterior[\"theta\"].loc[{\"x\":0, \"chain\":0}]).item(0) for r in results.values()]\n",
    "})\n",
    "thetas.to_csv(f\"../../../tascCODA_data/lambda_traces_supp_fig_1/l0_theta\")\n",
    "for k, res in results.items():\n",
    "    res.node_df.to_csv(f\"../../../tascCODA_data/lambda_traces_supp_fig_1/l0_{np.round(k, 2)}\")"
   ],
   "metadata": {
    "collapsed": false,
    "pycharm": {
     "name": "#%%\n"
    }
   }
  },
  {
   "cell_type": "code",
   "execution_count": 33,
   "outputs": [
    {
     "data": {
      "text/plain": "l_0\n1.00       0.112329\n1.44       0.053091\n2.07       0.049907\n2.98       0.043845\n4.28       0.130115\n6.16       0.140681\n8.86       0.139043\n12.74      0.135394\n18.33      0.127228\n26.37      0.130922\n37.93      0.136057\n54.56      0.134168\n78.48      0.131345\n112.88     0.120991\n162.38     0.126865\n233.57     0.129405\n335.98     0.132417\n483.29     0.130509\n695.19     0.130818\n1000.00    0.130755\nName: theta, dtype: float64"
     },
     "execution_count": 33,
     "metadata": {},
     "output_type": "execute_result"
    }
   ],
   "source": [
    "l0_thetas = pd.read_csv(f\"../../../tascCODA_data/lambda_traces_supp_fig_1/l0_theta\", index_col=1)[\"theta\"]\n",
    "results = {}\n",
    "for l in lambdas:\n",
    "    results[l] = pd.read_csv(f\"../../../tascCODA_data/lambda_traces_supp_fig_1/l0_{l}\")"
   ],
   "metadata": {
    "collapsed": false,
    "pycharm": {
     "name": "#%%\n"
    }
   }
  },
  {
   "cell_type": "code",
   "execution_count": 37,
   "outputs": [
    {
     "name": "stdout",
     "output_type": "stream",
     "text": [
      "    index  Effect  lambda     theta  Node\n",
      "0       0   0.810  1000.0  0.130755     0\n",
      "1       1  -0.011  1000.0  0.130755     1\n",
      "2       2  -0.001  1000.0  0.130755     2\n",
      "3       3  -0.011  1000.0  0.130755     3\n",
      "4       4   0.872  1000.0  0.130755     4\n",
      "5       5  -0.012  1000.0  0.130755     5\n",
      "6       6  -0.023  1000.0  0.130755     6\n",
      "7       7   0.000  1000.0  0.130755     9\n",
      "8       8   0.019  1000.0  0.130755     7\n",
      "9       9   0.017  1000.0  0.130755     8\n",
      "10     10  -0.019  1000.0  0.130755    10\n",
      "11     11   0.000  1000.0  0.130755    11\n",
      "12     12   0.807  1000.0  0.130755    12\n",
      "13     13  -0.034  1000.0  0.130755    14\n",
      "14     14   0.000  1000.0  0.130755    15\n"
     ]
    }
   ],
   "source": [
    "\n",
    "effects = []\n",
    "for l, r in results.items():\n",
    "    eff = pd.DataFrame({\n",
    "        \"Effect\": r[\"Median\"],\n",
    "        \"lambda\": l,\n",
    "        \"theta\": l0_thetas[l],\n",
    "        \"Node\": r[\"Node\"]\n",
    "    }).reset_index()\n",
    "\n",
    "    effects.append(eff)\n",
    "\n",
    "print(effects[-1])\n",
    "\n",
    "all_effects = pd.concat(effects)"
   ],
   "metadata": {
    "collapsed": false,
    "pycharm": {
     "name": "#%%\n"
    }
   }
  },
  {
   "cell_type": "code",
   "execution_count": 38,
   "outputs": [
    {
     "data": {
      "text/plain": "<Figure size 432x288 with 1 Axes>",
      "image/png": "[encoded data removed]"
     },
     "metadata": {},
     "output_type": "display_data"
    }
   ],
   "source": [
    "# Plot\n",
    "g = sns.lineplot(\n",
    "    data=all_effects[(np.abs(all_effects[\"lambda\"]) >= 0.5)],\n",
    "    x=\"lambda\",\n",
    "    y=\"Effect\",\n",
    "    hue=\"Node\",\n",
    "    palette=\"tab20\"\n",
    ")\n",
    "g.set(xscale=\"log\")\n",
    "plt.legend(bbox_to_anchor=(1.05, 1), loc=2, borderaxespad=0., title=\"k\")\n",
    "plt.title(r\"$\\lambda_1 = 1$\")\n",
    "plt.xlabel(r\"$\\lambda_0$\")\n",
    "plt.ylabel(r\"$\\hat{\\beta}_k$\")\n",
    "plt.tight_layout()\n",
    "\n",
    "# plt.savefig(\"traces_lambda_0.svg\", format=\"svg\", bbox_inches=\"tight\")\n",
    "\n",
    "plt.show()"
   ],
   "metadata": {
    "collapsed": false,
    "pycharm": {
     "name": "#%%\n"
    }
   }
  },
  {
   "cell_type": "markdown",
   "source": [
    "## With lasso equivalent ($\\lambda_0 = \\lambda_1$, Figure S1D)"
   ],
   "metadata": {
    "collapsed": false,
    "pycharm": {
     "name": "#%% md\n"
    }
   }
  },
  {
   "cell_type": "code",
   "execution_count": 39,
   "outputs": [
    {
     "name": "stdout",
     "output_type": "stream",
     "text": [
      "[1.0000e-01 1.6000e-01 2.6000e-01 4.3000e-01 7.0000e-01 1.1300e+00\n",
      " 1.8300e+00 2.9800e+00 4.8300e+00 7.8500e+00 1.2740e+01 2.0690e+01\n",
      " 3.3600e+01 5.4560e+01 8.8590e+01 1.4384e+02 2.3357e+02 3.7927e+02\n",
      " 6.1585e+02 1.0000e+03]\n"
     ]
    }
   ],
   "source": [
    "lambdas = np.round(np.logspace(start=-1, stop=3, num=20), 2)\n",
    "print(lambdas)\n",
    "results_lasso = {}"
   ],
   "metadata": {
    "collapsed": false,
    "pycharm": {
     "name": "#%%\n"
    }
   }
  },
  {
   "cell_type": "code",
   "execution_count": null,
   "outputs": [],
   "source": [
    "for l in lambdas:\n",
    "\n",
    "    tree_mod = ana.CompositionalAnalysisTree(\n",
    "    test_data,\n",
    "    reference_cell_type=\"9\",\n",
    "    formula=\"x_0\",\n",
    "    reg=\"scaled\",\n",
    "    pen_args={\"lambda_0\": l, \"phi\":phi, \"lambda_1\": l},\n",
    "    model=\"new\"\n",
    "\n",
    "    )\n",
    "    tree_res = tree_mod.sample_hmc_da(num_results=20000, num_burnin=5000)\n",
    "    results_lasso[l] = tree_res"
   ],
   "metadata": {
    "collapsed": false,
    "pycharm": {
     "name": "#%%\n"
    }
   }
  },
  {
   "cell_type": "code",
   "execution_count": 41,
   "outputs": [],
   "source": [
    "thetas = pd.DataFrame({\n",
    "    \"l\": lambdas,\n",
    "    \"theta\": [np.mean(r.posterior[\"theta\"].loc[{\"x\":0, \"chain\":0}]).item(0) for r in results_lasso.values()]\n",
    "})\n",
    "thetas.to_csv(f\"../../../tascCODA_data/lambda_traces_supp_fig_1/lasso_theta\")\n",
    "for k, res in results_lasso.items():\n",
    "    res.node_df.to_csv(f\"../../../tascCODA_data/lambda_traces_supp_fig_1/lasso_{np.round(k, 2)}\")"
   ],
   "metadata": {
    "collapsed": false,
    "pycharm": {
     "name": "#%%\n"
    }
   }
  },
  {
   "cell_type": "code",
   "execution_count": 42,
   "outputs": [],
   "source": [
    "lasso_thetas = pd.read_csv(f\"../../../tascCODA_data/lambda_traces_supp_fig_1/lasso_theta\", index_col=1)[\"theta\"]\n",
    "results_lasso = {}\n",
    "for l in lambdas:\n",
    "    results_lasso[l] = pd.read_csv(f\"../../../tascCODA_data/lambda_traces_supp_fig_1/lasso_{l}\")\n"
   ],
   "metadata": {
    "collapsed": false,
    "pycharm": {
     "name": "#%%\n"
    }
   }
  },
  {
   "cell_type": "code",
   "execution_count": 43,
   "outputs": [
    {
     "name": "stdout",
     "output_type": "stream",
     "text": [
      "    index  Effect  lambda     theta  Node\n",
      "0       0    -0.0  1000.0  0.067963     0\n",
      "1       1    -0.0  1000.0  0.067963     1\n",
      "2       2     0.0  1000.0  0.067963     2\n",
      "3       3    -0.0  1000.0  0.067963     3\n",
      "4       4    -0.0  1000.0  0.067963     4\n",
      "5       5     0.0  1000.0  0.067963     5\n",
      "6       6     0.0  1000.0  0.067963     6\n",
      "7       7     0.0  1000.0  0.067963     9\n",
      "8       8    -0.0  1000.0  0.067963     7\n",
      "9       9    -0.0  1000.0  0.067963     8\n",
      "10     10     0.0  1000.0  0.067963    10\n",
      "11     11     0.0  1000.0  0.067963    11\n",
      "12     12     0.0  1000.0  0.067963    12\n",
      "13     13    -0.0  1000.0  0.067963    14\n",
      "14     14     0.0  1000.0  0.067963    15\n"
     ]
    }
   ],
   "source": [
    "effects_lasso = []\n",
    "for l, r in results_lasso.items():\n",
    "    eff = pd.DataFrame({\n",
    "        \"Effect\": r[\"Median\"],\n",
    "        \"lambda\": l,\n",
    "        \"theta\": lasso_thetas[l],\n",
    "        \"Node\": r[\"Node\"]\n",
    "    }).reset_index()\n",
    "\n",
    "    effects_lasso.append(eff)\n",
    "\n",
    "print(effects_lasso[-1])\n",
    "\n",
    "all_effects_lasso = pd.concat(effects_lasso)"
   ],
   "metadata": {
    "collapsed": false,
    "pycharm": {
     "name": "#%%\n"
    }
   }
  },
  {
   "cell_type": "code",
   "execution_count": 44,
   "outputs": [
    {
     "data": {
      "text/plain": "<Figure size 432x288 with 1 Axes>",
      "image/png": "[encoded data removed]"
     },
     "metadata": {},
     "output_type": "display_data"
    }
   ],
   "source": [
    "g = sns.lineplot(\n",
    "    data=all_effects_lasso,\n",
    "    x=\"lambda\",\n",
    "    y=\"Effect\",\n",
    "    hue=\"Node\",\n",
    "    palette=\"tab20\"\n",
    ")\n",
    "g.set(xscale=\"log\")\n",
    "plt.legend(bbox_to_anchor=(1.05, 1), loc=2, borderaxespad=0., title=\"k\")\n",
    "plt.title(r\"$\\lambda_0 = \\lambda_1$\")\n",
    "plt.xlabel(r\"$\\lambda$\")\n",
    "plt.ylabel(r\"$\\hat{\\beta}_k$\")\n",
    "plt.tight_layout()\n",
    "\n",
    "# plt.savefig(\"traces_lambda_lasso.svg\", format=\"svg\", bbox_inches=\"tight\")\n",
    "\n",
    "plt.show()"
   ],
   "metadata": {
    "collapsed": false,
    "pycharm": {
     "name": "#%%\n"
    }
   }
  },
  {
   "cell_type": "markdown",
   "source": [
    "## Scaling $\\lambda_1$ (Figure S1E)"
   ],
   "metadata": {
    "collapsed": false,
    "pycharm": {
     "name": "#%% md\n"
    }
   }
  },
  {
   "cell_type": "code",
   "execution_count": 45,
   "outputs": [
    {
     "name": "stdout",
     "output_type": "stream",
     "text": [
      "[ 0.05  0.07  0.1   0.15  0.21  0.3   0.44  0.63  0.9   1.29  1.86  2.66\n",
      "  3.82  5.48  7.87 11.29 16.2  23.24 33.35 47.86]\n"
     ]
    },
    {
     "data": {
      "text/plain": "[<matplotlib.lines.Line2D at 0x7f7da07b7d60>]"
     },
     "execution_count": 45,
     "metadata": {},
     "output_type": "execute_result"
    },
    {
     "data": {
      "text/plain": "<Figure size 432x288 with 1 Axes>",
      "image/png": "[encoded data removed]"
     },
     "metadata": {},
     "output_type": "display_data"
    }
   ],
   "source": [
    "lambdas = np.round(np.logspace(start=-1.3, stop=1.68, num=20), 2)\n",
    "print(lambdas)\n",
    "plt.plot(lambdas, np.zeros(len(lambdas)), 'o')\n"
   ],
   "metadata": {
    "collapsed": false,
    "pycharm": {
     "name": "#%%\n"
    }
   }
  },
  {
   "cell_type": "code",
   "execution_count": 7,
   "outputs": [
    {
     "name": "stdout",
     "output_type": "stream",
     "text": [
      "1/20\n"
     ]
    },
    {
     "name": "stderr",
     "output_type": "stream",
     "text": [
      "/Users/johannes.ostner/Documents/PhD/tree_aggregation/tree_aggregation/tree_agg_model_sslasso.py:447: UserWarning: This feature is untested and might yield different results than expected. Please use sample_hmc().\n",
      "  warnings.warn(\n"
     ]
    },
    {
     "name": "stdout",
     "output_type": "stream",
     "text": [
      "WARNING:tensorflow:From /Users/johannes.ostner/opt/anaconda3/envs/scCODA_3/lib/python3.8/site-packages/tensorflow/python/ops/array_ops.py:5043: calling gather (from tensorflow.python.ops.array_ops) with validate_indices is deprecated and will be removed in a future version.\n",
      "Instructions for updating:\n",
      "The `validate_indices` argument has no effect. Indices are always validated on CPU and never validated on GPU.\n"
     ]
    },
    {
     "name": "stderr",
     "output_type": "stream",
     "text": [
      "100%|██████████| 20000/20000 [02:09<00:00, 154.97it/s]\n"
     ]
    },
    {
     "name": "stdout",
     "output_type": "stream",
     "text": [
      "MCMC sampling finished. (168.380 sec)\n",
      "Acceptance rate: 86.1%\n",
      "2/20\n"
     ]
    },
    {
     "name": "stderr",
     "output_type": "stream",
     "text": [
      "/Users/johannes.ostner/Documents/PhD/tree_aggregation/tree_aggregation/tree_agg_model_sslasso.py:447: UserWarning: This feature is untested and might yield different results than expected. Please use sample_hmc().\n",
      "  warnings.warn(\n",
      "100%|██████████| 20000/20000 [02:16<00:00, 146.22it/s]\n"
     ]
    },
    {
     "name": "stdout",
     "output_type": "stream",
     "text": [
      "MCMC sampling finished. (171.918 sec)\n",
      "Acceptance rate: 84.5%\n",
      "3/20\n"
     ]
    },
    {
     "name": "stderr",
     "output_type": "stream",
     "text": [
      "/Users/johannes.ostner/Documents/PhD/tree_aggregation/tree_aggregation/tree_agg_model_sslasso.py:447: UserWarning: This feature is untested and might yield different results than expected. Please use sample_hmc().\n",
      "  warnings.warn(\n",
      "100%|██████████| 20000/20000 [01:57<00:00, 169.69it/s]\n"
     ]
    },
    {
     "name": "stdout",
     "output_type": "stream",
     "text": [
      "MCMC sampling finished. (148.440 sec)\n",
      "Acceptance rate: 90.1%\n",
      "4/20\n"
     ]
    },
    {
     "name": "stderr",
     "output_type": "stream",
     "text": [
      "/Users/johannes.ostner/Documents/PhD/tree_aggregation/tree_aggregation/tree_agg_model_sslasso.py:447: UserWarning: This feature is untested and might yield different results than expected. Please use sample_hmc().\n",
      "  warnings.warn(\n",
      "100%|██████████| 20000/20000 [01:51<00:00, 178.69it/s]\n"
     ]
    },
    {
     "name": "stdout",
     "output_type": "stream",
     "text": [
      "MCMC sampling finished. (142.000 sec)\n",
      "Acceptance rate: 83.0%\n",
      "5/20\n"
     ]
    },
    {
     "name": "stderr",
     "output_type": "stream",
     "text": [
      "/Users/johannes.ostner/Documents/PhD/tree_aggregation/tree_aggregation/tree_agg_model_sslasso.py:447: UserWarning: This feature is untested and might yield different results than expected. Please use sample_hmc().\n",
      "  warnings.warn(\n",
      "100%|██████████| 20000/20000 [01:53<00:00, 176.61it/s]\n"
     ]
    },
    {
     "name": "stdout",
     "output_type": "stream",
     "text": [
      "WARNING:tensorflow:5 out of the last 5 calls to <function CompositionalModel.sampling.<locals>.sample_mcmc at 0x7fcf407b5a60> triggered tf.function retracing. Tracing is expensive and the excessive number of tracings could be due to (1) creating @tf.function repeatedly in a loop, (2) passing tensors with different shapes, (3) passing Python objects instead of tensors. For (1), please define your @tf.function outside of the loop. For (2), @tf.function has experimental_relax_shapes=True option that relaxes argument shapes that can avoid unnecessary retracing. For (3), please refer to https://www.tensorflow.org/guide/function#controlling_retracing and https://www.tensorflow.org/api_docs/python/tf/function for  more details.\n",
      "MCMC sampling finished. (142.934 sec)\n",
      "Acceptance rate: 83.4%\n",
      "6/20\n"
     ]
    },
    {
     "name": "stderr",
     "output_type": "stream",
     "text": [
      "/Users/johannes.ostner/Documents/PhD/tree_aggregation/tree_aggregation/tree_agg_model_sslasso.py:447: UserWarning: This feature is untested and might yield different results than expected. Please use sample_hmc().\n",
      "  warnings.warn(\n",
      "100%|██████████| 20000/20000 [01:55<00:00, 173.90it/s]\n"
     ]
    },
    {
     "name": "stdout",
     "output_type": "stream",
     "text": [
      "WARNING:tensorflow:6 out of the last 6 calls to <function CompositionalModel.sampling.<locals>.sample_mcmc at 0x7fced799a940> triggered tf.function retracing. Tracing is expensive and the excessive number of tracings could be due to (1) creating @tf.function repeatedly in a loop, (2) passing tensors with different shapes, (3) passing Python objects instead of tensors. For (1), please define your @tf.function outside of the loop. For (2), @tf.function has experimental_relax_shapes=True option that relaxes argument shapes that can avoid unnecessary retracing. For (3), please refer to https://www.tensorflow.org/guide/function#controlling_retracing and https://www.tensorflow.org/api_docs/python/tf/function for  more details.\n",
      "MCMC sampling finished. (144.946 sec)\n",
      "Acceptance rate: 83.3%\n",
      "7/20\n"
     ]
    },
    {
     "name": "stderr",
     "output_type": "stream",
     "text": [
      "/Users/johannes.ostner/Documents/PhD/tree_aggregation/tree_aggregation/tree_agg_model_sslasso.py:447: UserWarning: This feature is untested and might yield different results than expected. Please use sample_hmc().\n",
      "  warnings.warn(\n",
      "100%|██████████| 20000/20000 [01:51<00:00, 179.11it/s]\n"
     ]
    },
    {
     "name": "stdout",
     "output_type": "stream",
     "text": [
      "MCMC sampling finished. (142.106 sec)\n",
      "Acceptance rate: 85.8%\n",
      "8/20\n"
     ]
    },
    {
     "name": "stderr",
     "output_type": "stream",
     "text": [
      "/Users/johannes.ostner/Documents/PhD/tree_aggregation/tree_aggregation/tree_agg_model_sslasso.py:447: UserWarning: This feature is untested and might yield different results than expected. Please use sample_hmc().\n",
      "  warnings.warn(\n",
      "100%|██████████| 20000/20000 [01:52<00:00, 177.20it/s]\n"
     ]
    },
    {
     "name": "stdout",
     "output_type": "stream",
     "text": [
      "MCMC sampling finished. (142.741 sec)\n",
      "Acceptance rate: 84.8%\n",
      "9/20\n"
     ]
    },
    {
     "name": "stderr",
     "output_type": "stream",
     "text": [
      "/Users/johannes.ostner/Documents/PhD/tree_aggregation/tree_aggregation/tree_agg_model_sslasso.py:447: UserWarning: This feature is untested and might yield different results than expected. Please use sample_hmc().\n",
      "  warnings.warn(\n",
      "100%|██████████| 20000/20000 [01:57<00:00, 170.19it/s]\n"
     ]
    },
    {
     "name": "stdout",
     "output_type": "stream",
     "text": [
      "MCMC sampling finished. (148.025 sec)\n",
      "Acceptance rate: 85.2%\n",
      "10/20\n"
     ]
    },
    {
     "name": "stderr",
     "output_type": "stream",
     "text": [
      "/Users/johannes.ostner/Documents/PhD/tree_aggregation/tree_aggregation/tree_agg_model_sslasso.py:447: UserWarning: This feature is untested and might yield different results than expected. Please use sample_hmc().\n",
      "  warnings.warn(\n",
      "100%|██████████| 20000/20000 [02:00<00:00, 166.22it/s]\n"
     ]
    },
    {
     "name": "stdout",
     "output_type": "stream",
     "text": [
      "MCMC sampling finished. (150.761 sec)\n",
      "Acceptance rate: 84.5%\n",
      "11/20\n"
     ]
    },
    {
     "name": "stderr",
     "output_type": "stream",
     "text": [
      "/Users/johannes.ostner/Documents/PhD/tree_aggregation/tree_aggregation/tree_agg_model_sslasso.py:447: UserWarning: This feature is untested and might yield different results than expected. Please use sample_hmc().\n",
      "  warnings.warn(\n",
      "100%|██████████| 20000/20000 [02:00<00:00, 166.52it/s]\n"
     ]
    },
    {
     "name": "stdout",
     "output_type": "stream",
     "text": [
      "MCMC sampling finished. (151.686 sec)\n",
      "Acceptance rate: 85.6%\n",
      "12/20\n"
     ]
    },
    {
     "name": "stderr",
     "output_type": "stream",
     "text": [
      "/Users/johannes.ostner/Documents/PhD/tree_aggregation/tree_aggregation/tree_agg_model_sslasso.py:447: UserWarning: This feature is untested and might yield different results than expected. Please use sample_hmc().\n",
      "  warnings.warn(\n",
      "100%|██████████| 20000/20000 [02:11<00:00, 151.66it/s]\n"
     ]
    },
    {
     "name": "stdout",
     "output_type": "stream",
     "text": [
      "MCMC sampling finished. (165.071 sec)\n",
      "Acceptance rate: 85.4%\n",
      "13/20\n"
     ]
    },
    {
     "name": "stderr",
     "output_type": "stream",
     "text": [
      "/Users/johannes.ostner/Documents/PhD/tree_aggregation/tree_aggregation/tree_agg_model_sslasso.py:447: UserWarning: This feature is untested and might yield different results than expected. Please use sample_hmc().\n",
      "  warnings.warn(\n",
      "100%|██████████| 20000/20000 [02:00<00:00, 165.95it/s]\n"
     ]
    },
    {
     "name": "stdout",
     "output_type": "stream",
     "text": [
      "MCMC sampling finished. (152.037 sec)\n",
      "Acceptance rate: 85.4%\n",
      "14/20\n"
     ]
    },
    {
     "name": "stderr",
     "output_type": "stream",
     "text": [
      "/Users/johannes.ostner/Documents/PhD/tree_aggregation/tree_aggregation/tree_agg_model_sslasso.py:447: UserWarning: This feature is untested and might yield different results than expected. Please use sample_hmc().\n",
      "  warnings.warn(\n",
      "100%|██████████| 20000/20000 [02:01<00:00, 165.28it/s]\n"
     ]
    },
    {
     "name": "stdout",
     "output_type": "stream",
     "text": [
      "MCMC sampling finished. (152.296 sec)\n",
      "Acceptance rate: 86.1%\n",
      "15/20\n"
     ]
    },
    {
     "name": "stderr",
     "output_type": "stream",
     "text": [
      "/Users/johannes.ostner/Documents/PhD/tree_aggregation/tree_aggregation/tree_agg_model_sslasso.py:447: UserWarning: This feature is untested and might yield different results than expected. Please use sample_hmc().\n",
      "  warnings.warn(\n",
      "100%|██████████| 20000/20000 [01:57<00:00, 169.90it/s]\n"
     ]
    },
    {
     "name": "stdout",
     "output_type": "stream",
     "text": [
      "MCMC sampling finished. (148.490 sec)\n",
      "Acceptance rate: 86.1%\n",
      "16/20\n"
     ]
    },
    {
     "name": "stderr",
     "output_type": "stream",
     "text": [
      "/Users/johannes.ostner/Documents/PhD/tree_aggregation/tree_aggregation/tree_agg_model_sslasso.py:447: UserWarning: This feature is untested and might yield different results than expected. Please use sample_hmc().\n",
      "  warnings.warn(\n",
      "100%|██████████| 20000/20000 [01:57<00:00, 170.23it/s]\n"
     ]
    },
    {
     "name": "stdout",
     "output_type": "stream",
     "text": [
      "MCMC sampling finished. (149.173 sec)\n",
      "Acceptance rate: 84.9%\n",
      "17/20\n"
     ]
    },
    {
     "name": "stderr",
     "output_type": "stream",
     "text": [
      "/Users/johannes.ostner/Documents/PhD/tree_aggregation/tree_aggregation/tree_agg_model_sslasso.py:447: UserWarning: This feature is untested and might yield different results than expected. Please use sample_hmc().\n",
      "  warnings.warn(\n",
      "100%|██████████| 20000/20000 [02:01<00:00, 164.33it/s]\n"
     ]
    },
    {
     "name": "stdout",
     "output_type": "stream",
     "text": [
      "MCMC sampling finished. (153.265 sec)\n",
      "Acceptance rate: 85.6%\n",
      "18/20\n"
     ]
    },
    {
     "name": "stderr",
     "output_type": "stream",
     "text": [
      "/Users/johannes.ostner/Documents/PhD/tree_aggregation/tree_aggregation/tree_agg_model_sslasso.py:447: UserWarning: This feature is untested and might yield different results than expected. Please use sample_hmc().\n",
      "  warnings.warn(\n",
      "100%|██████████| 20000/20000 [01:59<00:00, 167.03it/s]\n"
     ]
    },
    {
     "name": "stdout",
     "output_type": "stream",
     "text": [
      "MCMC sampling finished. (150.406 sec)\n",
      "Acceptance rate: 85.7%\n",
      "19/20\n"
     ]
    },
    {
     "name": "stderr",
     "output_type": "stream",
     "text": [
      "/Users/johannes.ostner/Documents/PhD/tree_aggregation/tree_aggregation/tree_agg_model_sslasso.py:447: UserWarning: This feature is untested and might yield different results than expected. Please use sample_hmc().\n",
      "  warnings.warn(\n",
      "100%|██████████| 20000/20000 [02:04<00:00, 161.14it/s]\n"
     ]
    },
    {
     "name": "stdout",
     "output_type": "stream",
     "text": [
      "MCMC sampling finished. (156.753 sec)\n",
      "Acceptance rate: 80.1%\n",
      "20/20\n"
     ]
    },
    {
     "name": "stderr",
     "output_type": "stream",
     "text": [
      "/Users/johannes.ostner/Documents/PhD/tree_aggregation/tree_aggregation/tree_agg_model_sslasso.py:447: UserWarning: This feature is untested and might yield different results than expected. Please use sample_hmc().\n",
      "  warnings.warn(\n",
      "100%|██████████| 20000/20000 [02:03<00:00, 161.63it/s]\n"
     ]
    },
    {
     "name": "stdout",
     "output_type": "stream",
     "text": [
      "MCMC sampling finished. (156.208 sec)\n",
      "Acceptance rate: 86.4%\n"
     ]
    }
   ],
   "source": [
    "results_l1 = {}\n",
    "c=0\n",
    "phi=0\n",
    "\n",
    "for l in lambdas:\n",
    "    c += 1\n",
    "    print(f\"{c}/{len(lambdas)}\")\n",
    "\n",
    "    tree_mod = ana.CompositionalAnalysisTree(\n",
    "    test_data,\n",
    "    reference_cell_type=\"9\",\n",
    "    formula=\"x_0\",\n",
    "    reg=\"scaled\",\n",
    "    pen_args={\"lambda_0\": 50, \"phi\":phi, \"lambda_1\": l},\n",
    "    model=\"new\"\n",
    "\n",
    "    )\n",
    "    tree_res = tree_mod.sample_hmc_da(num_results=20000, num_burnin=5000)\n",
    "    results_l1[l] = tree_res"
   ],
   "metadata": {
    "collapsed": false,
    "pycharm": {
     "name": "#%%\n"
    }
   }
  },
  {
   "cell_type": "code",
   "execution_count": 47,
   "outputs": [],
   "source": [
    "thetas = pd.DataFrame({\n",
    "    \"l_1\": lambdas,\n",
    "    \"theta\": [np.mean(r.posterior[\"theta\"].loc[{\"x\":0, \"chain\":0}]).item(0) for r in results_l1.values()]\n",
    "})\n",
    "thetas.to_csv(f\"../../../tascCODA_data/lambda_traces_supp_fig_1/l1_theta\")\n",
    "for k, res in results_l1.items():\n",
    "    res.node_df.to_csv(f\"../../../tascCODA_data/lambda_traces_supp_fig_1/l1_{np.round(k, 2)}\")"
   ],
   "metadata": {
    "collapsed": false,
    "pycharm": {
     "name": "#%%\n"
    }
   }
  },
  {
   "cell_type": "code",
   "execution_count": 48,
   "outputs": [],
   "source": [
    "l1_thetas = pd.read_csv(f\"../../../tascCODA_data/lambda_traces_supp_fig_1/l1_theta\", index_col=1)[\"theta\"]\n",
    "results = {}\n",
    "for l in lambdas:\n",
    "    results[l] = pd.read_csv(f\"../../../tascCODA_data/lambda_traces_supp_fig_1/l1_{l}\")"
   ],
   "metadata": {
    "collapsed": false,
    "pycharm": {
     "name": "#%%\n"
    }
   }
  },
  {
   "cell_type": "code",
   "execution_count": 49,
   "outputs": [
    {
     "name": "stdout",
     "output_type": "stream",
     "text": [
      "    index  Effect  lambda     theta  Node\n",
      "0       0    -0.0   47.86  0.066738     0\n",
      "1       1    -0.0   47.86  0.066738     1\n",
      "2       2    -0.0   47.86  0.066738     2\n",
      "3       3    -0.0   47.86  0.066738     3\n",
      "4       4     0.0   47.86  0.066738     4\n",
      "5       5    -0.0   47.86  0.066738     5\n",
      "6       6    -0.0   47.86  0.066738     6\n",
      "7       7     0.0   47.86  0.066738     9\n",
      "8       8     0.0   47.86  0.066738     7\n",
      "9       9     0.0   47.86  0.066738     8\n",
      "10     10    -0.0   47.86  0.066738    10\n",
      "11     11     0.0   47.86  0.066738    11\n",
      "12     12     0.0   47.86  0.066738    12\n",
      "13     13    -0.0   47.86  0.066738    14\n",
      "14     14     0.0   47.86  0.066738    15\n"
     ]
    }
   ],
   "source": [
    "\n",
    "effects_l1 = []\n",
    "for l, r in results.items():\n",
    "    eff = pd.DataFrame({\n",
    "        \"Effect\": r[\"Median\"],\n",
    "        \"lambda\": l,\n",
    "        \"theta\": l1_thetas[l],\n",
    "        \"Node\": r[\"Node\"]\n",
    "    }).reset_index()\n",
    "\n",
    "    effects_l1.append(eff)\n",
    "\n",
    "\n",
    "print(effects_l1[-1])\n",
    "\n",
    "all_effects_l1 = pd.concat(effects_l1)"
   ],
   "metadata": {
    "collapsed": false,
    "pycharm": {
     "name": "#%%\n"
    }
   }
  },
  {
   "cell_type": "code",
   "execution_count": 50,
   "outputs": [
    {
     "data": {
      "text/plain": "<Figure size 432x288 with 1 Axes>",
      "image/png": "[encoded data removed]"
     },
     "metadata": {},
     "output_type": "display_data"
    }
   ],
   "source": [
    "g = sns.lineplot(\n",
    "    data=all_effects_l1,\n",
    "    x=\"lambda\",\n",
    "    y=\"Effect\",\n",
    "    hue=\"Node\",\n",
    "    palette=\"tab20\"\n",
    ")\n",
    "\n",
    "plt.legend(bbox_to_anchor=(1.05, 1), loc=2, borderaxespad=0., title=\"k\")\n",
    "plt.title(r\"$\\lambda_0 = 50$\")\n",
    "plt.xlabel(r\"$\\lambda_1$\")\n",
    "plt.ylabel(r\"$\\hat{\\beta}_k$\")\n",
    "plt.tight_layout()\n",
    "\n",
    "# plt.savefig(\"traces_lambda_1.svg\", format=\"svg\", bbox_inches=\"tight\")\n",
    "plt.show()"
   ],
   "metadata": {
    "collapsed": false,
    "pycharm": {
     "name": "#%%\n"
    }
   }
  },
  {
   "cell_type": "markdown",
   "source": [
    "## Changing phi (Figure S1F)"
   ],
   "metadata": {
    "collapsed": false,
    "pycharm": {
     "name": "#%% md\n"
    }
   }
  },
  {
   "cell_type": "code",
   "execution_count": 51,
   "outputs": [
    {
     "name": "stdout",
     "output_type": "stream",
     "text": [
      "[-10.  -9.  -8.  -7.  -6.  -5.  -4.  -3.  -2.  -1.   0.   1.   2.   3.\n",
      "   4.   5.   6.   7.   8.   9.  10.]\n"
     ]
    }
   ],
   "source": [
    "phis = np.arange(-10, 10.1, 1)\n",
    "print(phis)\n"
   ],
   "metadata": {
    "collapsed": false,
    "pycharm": {
     "name": "#%%\n"
    }
   }
  },
  {
   "cell_type": "code",
   "execution_count": 20,
   "outputs": [
    {
     "name": "stdout",
     "output_type": "stream",
     "text": [
      "1/21\n"
     ]
    },
    {
     "name": "stderr",
     "output_type": "stream",
     "text": [
      "/Users/johannes.ostner/Documents/PhD/tree_aggregation/tree_aggregation/tree_agg_model_sslasso.py:452: UserWarning: This feature is untested and might yield different results than expected. Please use sample_hmc().\n",
      "  warnings.warn(\n",
      "100%|██████████| 20000/20000 [03:02<00:00, 109.88it/s]\n"
     ]
    },
    {
     "name": "stdout",
     "output_type": "stream",
     "text": [
      "MCMC sampling finished. (231.689 sec)\n",
      "Acceptance rate: 84.7%\n",
      "2/21\n"
     ]
    },
    {
     "name": "stderr",
     "output_type": "stream",
     "text": [
      "/Users/johannes.ostner/Documents/PhD/tree_aggregation/tree_aggregation/tree_agg_model_sslasso.py:452: UserWarning: This feature is untested and might yield different results than expected. Please use sample_hmc().\n",
      "  warnings.warn(\n",
      "100%|██████████| 20000/20000 [02:58<00:00, 111.76it/s]\n"
     ]
    },
    {
     "name": "stdout",
     "output_type": "stream",
     "text": [
      "MCMC sampling finished. (230.007 sec)\n",
      "Acceptance rate: 84.5%\n",
      "3/21\n"
     ]
    },
    {
     "name": "stderr",
     "output_type": "stream",
     "text": [
      "/Users/johannes.ostner/Documents/PhD/tree_aggregation/tree_aggregation/tree_agg_model_sslasso.py:452: UserWarning: This feature is untested and might yield different results than expected. Please use sample_hmc().\n",
      "  warnings.warn(\n",
      "100%|██████████| 20000/20000 [02:55<00:00, 114.28it/s]\n"
     ]
    },
    {
     "name": "stdout",
     "output_type": "stream",
     "text": [
      "MCMC sampling finished. (223.347 sec)\n",
      "Acceptance rate: 85.6%\n",
      "4/21\n"
     ]
    },
    {
     "name": "stderr",
     "output_type": "stream",
     "text": [
      "/Users/johannes.ostner/Documents/PhD/tree_aggregation/tree_aggregation/tree_agg_model_sslasso.py:452: UserWarning: This feature is untested and might yield different results than expected. Please use sample_hmc().\n",
      "  warnings.warn(\n",
      "100%|██████████| 20000/20000 [03:18<00:00, 100.57it/s]\n"
     ]
    },
    {
     "name": "stdout",
     "output_type": "stream",
     "text": [
      "MCMC sampling finished. (253.330 sec)\n",
      "Acceptance rate: 85.5%\n",
      "5/21\n"
     ]
    },
    {
     "name": "stderr",
     "output_type": "stream",
     "text": [
      "/Users/johannes.ostner/Documents/PhD/tree_aggregation/tree_aggregation/tree_agg_model_sslasso.py:452: UserWarning: This feature is untested and might yield different results than expected. Please use sample_hmc().\n",
      "  warnings.warn(\n",
      "100%|██████████| 20000/20000 [03:03<00:00, 108.79it/s]\n"
     ]
    },
    {
     "name": "stdout",
     "output_type": "stream",
     "text": [
      "MCMC sampling finished. (237.609 sec)\n",
      "Acceptance rate: 85.3%\n",
      "6/21\n"
     ]
    },
    {
     "name": "stderr",
     "output_type": "stream",
     "text": [
      "/Users/johannes.ostner/Documents/PhD/tree_aggregation/tree_aggregation/tree_agg_model_sslasso.py:452: UserWarning: This feature is untested and might yield different results than expected. Please use sample_hmc().\n",
      "  warnings.warn(\n",
      "100%|██████████| 20000/20000 [03:00<00:00, 110.55it/s]\n"
     ]
    },
    {
     "name": "stdout",
     "output_type": "stream",
     "text": [
      "MCMC sampling finished. (234.061 sec)\n",
      "Acceptance rate: 85.2%\n",
      "7/21\n"
     ]
    },
    {
     "name": "stderr",
     "output_type": "stream",
     "text": [
      "/Users/johannes.ostner/Documents/PhD/tree_aggregation/tree_aggregation/tree_agg_model_sslasso.py:452: UserWarning: This feature is untested and might yield different results than expected. Please use sample_hmc().\n",
      "  warnings.warn(\n",
      "100%|██████████| 20000/20000 [03:05<00:00, 108.01it/s]\n"
     ]
    },
    {
     "name": "stdout",
     "output_type": "stream",
     "text": [
      "MCMC sampling finished. (237.075 sec)\n",
      "Acceptance rate: 86.5%\n",
      "8/21\n"
     ]
    },
    {
     "name": "stderr",
     "output_type": "stream",
     "text": [
      "/Users/johannes.ostner/Documents/PhD/tree_aggregation/tree_aggregation/tree_agg_model_sslasso.py:452: UserWarning: This feature is untested and might yield different results than expected. Please use sample_hmc().\n",
      "  warnings.warn(\n",
      "100%|██████████| 20000/20000 [03:00<00:00, 111.01it/s]\n"
     ]
    },
    {
     "name": "stdout",
     "output_type": "stream",
     "text": [
      "MCMC sampling finished. (232.897 sec)\n",
      "Acceptance rate: 85.7%\n",
      "9/21\n"
     ]
    },
    {
     "name": "stderr",
     "output_type": "stream",
     "text": [
      "/Users/johannes.ostner/Documents/PhD/tree_aggregation/tree_aggregation/tree_agg_model_sslasso.py:452: UserWarning: This feature is untested and might yield different results than expected. Please use sample_hmc().\n",
      "  warnings.warn(\n",
      "100%|██████████| 20000/20000 [03:02<00:00, 109.51it/s]\n"
     ]
    },
    {
     "name": "stdout",
     "output_type": "stream",
     "text": [
      "MCMC sampling finished. (244.367 sec)\n",
      "Acceptance rate: 85.4%\n",
      "10/21\n"
     ]
    },
    {
     "name": "stderr",
     "output_type": "stream",
     "text": [
      "/Users/johannes.ostner/Documents/PhD/tree_aggregation/tree_aggregation/tree_agg_model_sslasso.py:452: UserWarning: This feature is untested and might yield different results than expected. Please use sample_hmc().\n",
      "  warnings.warn(\n",
      "100%|██████████| 20000/20000 [03:20<00:00, 99.55it/s] \n"
     ]
    },
    {
     "name": "stdout",
     "output_type": "stream",
     "text": [
      "MCMC sampling finished. (262.708 sec)\n",
      "Acceptance rate: 86.0%\n",
      "11/21\n"
     ]
    },
    {
     "name": "stderr",
     "output_type": "stream",
     "text": [
      "/Users/johannes.ostner/Documents/PhD/tree_aggregation/tree_aggregation/tree_agg_model_sslasso.py:452: UserWarning: This feature is untested and might yield different results than expected. Please use sample_hmc().\n",
      "  warnings.warn(\n",
      "100%|██████████| 20000/20000 [03:09<00:00, 105.40it/s]\n"
     ]
    },
    {
     "name": "stdout",
     "output_type": "stream",
     "text": [
      "MCMC sampling finished. (232.919 sec)\n",
      "Acceptance rate: 85.5%\n",
      "12/21\n"
     ]
    },
    {
     "name": "stderr",
     "output_type": "stream",
     "text": [
      "/Users/johannes.ostner/Documents/PhD/tree_aggregation/tree_aggregation/tree_agg_model_sslasso.py:452: UserWarning: This feature is untested and might yield different results than expected. Please use sample_hmc().\n",
      "  warnings.warn(\n",
      "100%|██████████| 20000/20000 [02:05<00:00, 158.75it/s]\n"
     ]
    },
    {
     "name": "stdout",
     "output_type": "stream",
     "text": [
      "MCMC sampling finished. (165.133 sec)\n",
      "Acceptance rate: 85.7%\n",
      "13/21\n"
     ]
    },
    {
     "name": "stderr",
     "output_type": "stream",
     "text": [
      "/Users/johannes.ostner/Documents/PhD/tree_aggregation/tree_aggregation/tree_agg_model_sslasso.py:452: UserWarning: This feature is untested and might yield different results than expected. Please use sample_hmc().\n",
      "  warnings.warn(\n",
      "100%|██████████| 20000/20000 [02:01<00:00, 164.95it/s]\n"
     ]
    },
    {
     "name": "stdout",
     "output_type": "stream",
     "text": [
      "MCMC sampling finished. (169.458 sec)\n",
      "Acceptance rate: 86.3%\n",
      "14/21\n"
     ]
    },
    {
     "name": "stderr",
     "output_type": "stream",
     "text": [
      "/Users/johannes.ostner/Documents/PhD/tree_aggregation/tree_aggregation/tree_agg_model_sslasso.py:452: UserWarning: This feature is untested and might yield different results than expected. Please use sample_hmc().\n",
      "  warnings.warn(\n",
      "100%|██████████| 20000/20000 [02:02<00:00, 163.88it/s]\n"
     ]
    },
    {
     "name": "stdout",
     "output_type": "stream",
     "text": [
      "MCMC sampling finished. (153.692 sec)\n",
      "Acceptance rate: 85.9%\n",
      "15/21\n"
     ]
    },
    {
     "name": "stderr",
     "output_type": "stream",
     "text": [
      "/Users/johannes.ostner/Documents/PhD/tree_aggregation/tree_aggregation/tree_agg_model_sslasso.py:452: UserWarning: This feature is untested and might yield different results than expected. Please use sample_hmc().\n",
      "  warnings.warn(\n",
      "100%|██████████| 20000/20000 [02:01<00:00, 165.07it/s]\n"
     ]
    },
    {
     "name": "stdout",
     "output_type": "stream",
     "text": [
      "MCMC sampling finished. (152.971 sec)\n",
      "Acceptance rate: 84.9%\n",
      "16/21\n"
     ]
    },
    {
     "name": "stderr",
     "output_type": "stream",
     "text": [
      "/Users/johannes.ostner/Documents/PhD/tree_aggregation/tree_aggregation/tree_agg_model_sslasso.py:452: UserWarning: This feature is untested and might yield different results than expected. Please use sample_hmc().\n",
      "  warnings.warn(\n",
      "100%|██████████| 20000/20000 [02:00<00:00, 165.51it/s]\n"
     ]
    },
    {
     "name": "stdout",
     "output_type": "stream",
     "text": [
      "MCMC sampling finished. (152.107 sec)\n",
      "Acceptance rate: 84.6%\n",
      "17/21\n"
     ]
    },
    {
     "name": "stderr",
     "output_type": "stream",
     "text": [
      "/Users/johannes.ostner/Documents/PhD/tree_aggregation/tree_aggregation/tree_agg_model_sslasso.py:452: UserWarning: This feature is untested and might yield different results than expected. Please use sample_hmc().\n",
      "  warnings.warn(\n",
      "100%|██████████| 20000/20000 [02:06<00:00, 158.45it/s]\n"
     ]
    },
    {
     "name": "stdout",
     "output_type": "stream",
     "text": [
      "MCMC sampling finished. (168.108 sec)\n",
      "Acceptance rate: 84.1%\n",
      "18/21\n"
     ]
    },
    {
     "name": "stderr",
     "output_type": "stream",
     "text": [
      "/Users/johannes.ostner/Documents/PhD/tree_aggregation/tree_aggregation/tree_agg_model_sslasso.py:452: UserWarning: This feature is untested and might yield different results than expected. Please use sample_hmc().\n",
      "  warnings.warn(\n",
      "100%|██████████| 20000/20000 [02:09<00:00, 154.39it/s]\n"
     ]
    },
    {
     "name": "stdout",
     "output_type": "stream",
     "text": [
      "MCMC sampling finished. (167.209 sec)\n",
      "Acceptance rate: 84.2%\n",
      "19/21\n"
     ]
    },
    {
     "name": "stderr",
     "output_type": "stream",
     "text": [
      "/Users/johannes.ostner/Documents/PhD/tree_aggregation/tree_aggregation/tree_agg_model_sslasso.py:452: UserWarning: This feature is untested and might yield different results than expected. Please use sample_hmc().\n",
      "  warnings.warn(\n",
      "100%|██████████| 20000/20000 [02:07<00:00, 156.67it/s]\n"
     ]
    },
    {
     "name": "stdout",
     "output_type": "stream",
     "text": [
      "MCMC sampling finished. (165.002 sec)\n",
      "Acceptance rate: 84.5%\n",
      "20/21\n"
     ]
    },
    {
     "name": "stderr",
     "output_type": "stream",
     "text": [
      "/Users/johannes.ostner/Documents/PhD/tree_aggregation/tree_aggregation/tree_agg_model_sslasso.py:452: UserWarning: This feature is untested and might yield different results than expected. Please use sample_hmc().\n",
      "  warnings.warn(\n",
      "100%|██████████| 20000/20000 [01:56<00:00, 172.12it/s]\n"
     ]
    },
    {
     "name": "stdout",
     "output_type": "stream",
     "text": [
      "MCMC sampling finished. (149.686 sec)\n",
      "Acceptance rate: 86.4%\n",
      "21/21\n"
     ]
    },
    {
     "name": "stderr",
     "output_type": "stream",
     "text": [
      "/Users/johannes.ostner/Documents/PhD/tree_aggregation/tree_aggregation/tree_agg_model_sslasso.py:452: UserWarning: This feature is untested and might yield different results than expected. Please use sample_hmc().\n",
      "  warnings.warn(\n",
      "100%|██████████| 20000/20000 [01:59<00:00, 168.00it/s]\n"
     ]
    },
    {
     "name": "stdout",
     "output_type": "stream",
     "text": [
      "MCMC sampling finished. (158.880 sec)\n",
      "Acceptance rate: 82.4%\n"
     ]
    }
   ],
   "source": [
    "results_phi = {}\n",
    "c=0\n",
    "phi=0\n",
    "\n",
    "for p in phis:\n",
    "    c += 1\n",
    "    print(f\"{c}/{len(phis)}\")\n",
    "\n",
    "    tree_mod = ana.CompositionalAnalysisTree(\n",
    "    test_data,\n",
    "    reference_cell_type=\"9\",\n",
    "    formula=\"x_0\",\n",
    "    reg=\"scaled_3\",\n",
    "    pen_args={\"lambda_0\": 50, \"phi\":p, \"lambda_1\": 10},\n",
    "    model=\"new\"\n",
    "\n",
    "    )\n",
    "    tree_res = tree_mod.sample_hmc_da(num_results=20000, num_burnin=5000)\n",
    "    results_phi[p] = tree_res"
   ],
   "metadata": {
    "collapsed": false,
    "pycharm": {
     "name": "#%%\n"
    }
   }
  },
  {
   "cell_type": "code",
   "execution_count": 56,
   "outputs": [],
   "source": [
    "thetas = pd.DataFrame({\n",
    "    \"phi\": phis,\n",
    "    \"theta\": [np.mean(r.posterior[\"theta\"].loc[{\"x\":0, \"chain\":0}]).item(0) for r in results_phi.values()]\n",
    "})\n",
    "thetas.to_csv(f\"../../../tascCODA_data/lambda_traces_supp_fig_1/phi_theta\")\n",
    "for k, res in results_phi.items():\n",
    "    res.node_df.to_csv(f\"../../../tascCODA_data/lambda_traces_supp_fig_1/phi_{np.round(k, 2)}\")"
   ],
   "metadata": {
    "collapsed": false,
    "pycharm": {
     "name": "#%%\n"
    }
   }
  },
  {
   "cell_type": "code",
   "execution_count": 57,
   "outputs": [],
   "source": [
    "phi_thetas = pd.read_csv(f\"../../../tascCODA_data/lambda_traces_supp_fig_1/phi_theta\", index_col=1)[\"theta\"]\n",
    "results = {}\n",
    "for p in phis:\n",
    "    results[p] = pd.read_csv(f\"../../../tascCODA_data/lambda_traces_supp_fig_1/phi_{p}\")"
   ],
   "metadata": {
    "collapsed": false,
    "pycharm": {
     "name": "#%%\n"
    }
   }
  },
  {
   "cell_type": "code",
   "execution_count": 58,
   "outputs": [
    {
     "name": "stdout",
     "output_type": "stream",
     "text": [
      "    index  Effect   phi     theta  Node\n",
      "0       0   0.774  10.0  0.013169     0\n",
      "1       1  -0.068  10.0  0.013169     1\n",
      "2       2  -0.046  10.0  0.013169     2\n",
      "3       3  -0.054  10.0  0.013169     3\n",
      "4       4   0.853  10.0  0.013169     4\n",
      "5       5  -0.015  10.0  0.013169     5\n",
      "6       6  -0.052  10.0  0.013169     6\n",
      "7       7   0.000  10.0  0.013169     9\n",
      "8       8   0.838  10.0  0.013169     7\n",
      "9       9   0.811  10.0  0.013169     8\n",
      "10     10  -0.000  10.0  0.013169    10\n",
      "11     11   0.001  10.0  0.013169    11\n",
      "12     12   0.007  10.0  0.013169    12\n",
      "13     13  -0.000  10.0  0.013169    14\n",
      "14     14   0.000  10.0  0.013169    15\n"
     ]
    }
   ],
   "source": [
    "\n",
    "effects_phi = []\n",
    "for p, r in results.items():\n",
    "    eff = pd.DataFrame({\n",
    "        \"Effect\": r[\"Median\"],\n",
    "        \"phi\": p,\n",
    "        \"theta\": phi_thetas[p],\n",
    "        \"Node\": r[\"Node\"]\n",
    "    }).reset_index()\n",
    "\n",
    "    effects_phi.append(eff)\n",
    "\n",
    "print(effects_phi[-1])\n",
    "\n",
    "all_effects_phi= pd.concat(effects_phi)"
   ],
   "metadata": {
    "collapsed": false,
    "pycharm": {
     "name": "#%%\n"
    }
   }
  },
  {
   "cell_type": "code",
   "execution_count": 59,
   "outputs": [
    {
     "data": {
      "text/plain": "     phi     delta   delta_m\n0  -10.0  0.059845 -0.059845\n1   -9.0  0.060043 -0.060043\n2   -8.0  0.059770 -0.059770\n3   -7.0  0.059667 -0.059667\n4   -6.0  0.060238 -0.060238\n5   -5.0  0.061550 -0.061550\n6   -4.0  0.062301 -0.062301\n7   -3.0  0.063987 -0.063987\n8   -2.0  0.066165 -0.066165\n9   -1.0  0.069005 -0.069005\n10   0.0  0.073177 -0.073177\n11   1.0  0.077727 -0.077727\n12   2.0  0.083489 -0.083489\n13   3.0  0.090420 -0.090420\n14   4.0  0.097191 -0.097191\n15   5.0  0.104965 -0.104965\n16   6.0  0.115156 -0.115156\n17   7.0  0.125209 -0.125209\n18   8.0  0.141597 -0.141597\n19   9.0  0.156138 -0.156138\n20  10.0  0.167932 -0.167932",
      "text/html": "<div>\n<style scoped>\n    .dataframe tbody tr th:only-of-type {\n        vertical-align: middle;\n    }\n\n    .dataframe tbody tr th {\n        vertical-align: top;\n    }\n\n    .dataframe thead th {\n        text-align: right;\n    }\n</style>\n<table border=\"1\" class=\"dataframe\">\n  <thead>\n    <tr style=\"text-align: right;\">\n      <th></th>\n      <th>phi</th>\n      <th>delta</th>\n      <th>delta_m</th>\n    </tr>\n  </thead>\n  <tbody>\n    <tr>\n      <th>0</th>\n      <td>-10.0</td>\n      <td>0.059845</td>\n      <td>-0.059845</td>\n    </tr>\n    <tr>\n      <th>1</th>\n      <td>-9.0</td>\n      <td>0.060043</td>\n      <td>-0.060043</td>\n    </tr>\n    <tr>\n      <th>2</th>\n      <td>-8.0</td>\n      <td>0.059770</td>\n      <td>-0.059770</td>\n    </tr>\n    <tr>\n      <th>3</th>\n      <td>-7.0</td>\n      <td>0.059667</td>\n      <td>-0.059667</td>\n    </tr>\n    <tr>\n      <th>4</th>\n      <td>-6.0</td>\n      <td>0.060238</td>\n      <td>-0.060238</td>\n    </tr>\n    <tr>\n      <th>5</th>\n      <td>-5.0</td>\n      <td>0.061550</td>\n      <td>-0.061550</td>\n    </tr>\n    <tr>\n      <th>6</th>\n      <td>-4.0</td>\n      <td>0.062301</td>\n      <td>-0.062301</td>\n    </tr>\n    <tr>\n      <th>7</th>\n      <td>-3.0</td>\n      <td>0.063987</td>\n      <td>-0.063987</td>\n    </tr>\n    <tr>\n      <th>8</th>\n      <td>-2.0</td>\n      <td>0.066165</td>\n      <td>-0.066165</td>\n    </tr>\n    <tr>\n      <th>9</th>\n      <td>-1.0</td>\n      <td>0.069005</td>\n      <td>-0.069005</td>\n    </tr>\n    <tr>\n      <th>10</th>\n      <td>0.0</td>\n      <td>0.073177</td>\n      <td>-0.073177</td>\n    </tr>\n    <tr>\n      <th>11</th>\n      <td>1.0</td>\n      <td>0.077727</td>\n      <td>-0.077727</td>\n    </tr>\n    <tr>\n      <th>12</th>\n      <td>2.0</td>\n      <td>0.083489</td>\n      <td>-0.083489</td>\n    </tr>\n    <tr>\n      <th>13</th>\n      <td>3.0</td>\n      <td>0.090420</td>\n      <td>-0.090420</td>\n    </tr>\n    <tr>\n      <th>14</th>\n      <td>4.0</td>\n      <td>0.097191</td>\n      <td>-0.097191</td>\n    </tr>\n    <tr>\n      <th>15</th>\n      <td>5.0</td>\n      <td>0.104965</td>\n      <td>-0.104965</td>\n    </tr>\n    <tr>\n      <th>16</th>\n      <td>6.0</td>\n      <td>0.115156</td>\n      <td>-0.115156</td>\n    </tr>\n    <tr>\n      <th>17</th>\n      <td>7.0</td>\n      <td>0.125209</td>\n      <td>-0.125209</td>\n    </tr>\n    <tr>\n      <th>18</th>\n      <td>8.0</td>\n      <td>0.141597</td>\n      <td>-0.141597</td>\n    </tr>\n    <tr>\n      <th>19</th>\n      <td>9.0</td>\n      <td>0.156138</td>\n      <td>-0.156138</td>\n    </tr>\n    <tr>\n      <th>20</th>\n      <td>10.0</td>\n      <td>0.167932</td>\n      <td>-0.167932</td>\n    </tr>\n  </tbody>\n</table>\n</div>"
     },
     "execution_count": 59,
     "metadata": {},
     "output_type": "execute_result"
    }
   ],
   "source": [
    "def delta(l_0, l_1, theta):\n",
    "    p_t = (theta * l_1 / 2) / ((theta * l_1 / 2) + ((1 - theta) * l_0 / 2))\n",
    "    return 1 / (l_0 - l_1) * np.log(1 / p_t - 1)\n",
    "\n",
    "deltas = [delta(50, 1, phi_thetas[p]) for p in phis]\n",
    "deltas_df = pd.DataFrame({\n",
    "    \"phi\": phis,\n",
    "    \"delta\": deltas,\n",
    "    \"delta_m\": [-1*d for d in deltas],\n",
    "})\n",
    "deltas_df"
   ],
   "metadata": {
    "collapsed": false,
    "pycharm": {
     "name": "#%%\n"
    }
   }
  },
  {
   "cell_type": "code",
   "execution_count": 60,
   "outputs": [
    {
     "data": {
      "text/plain": "<Figure size 432x288 with 1 Axes>",
      "image/png": "[encoded data removed]"
     },
     "metadata": {},
     "output_type": "display_data"
    }
   ],
   "source": [
    "g = sns.lineplot(\n",
    "    data=all_effects_phi,\n",
    "    x=\"phi\",\n",
    "    y=\"Effect\",\n",
    "    hue=\"Node\",\n",
    "    palette=\"tab20\"\n",
    ")\n",
    "\n",
    "sns.lineplot(data=deltas_df, x=\"phi\", y=\"delta\", color=\"black\", linestyle=\"--\")\n",
    "sns.lineplot(data=deltas_df, x=\"phi\", y=\"delta_m\", color=\"black\", linestyle=\"--\")\n",
    "\n",
    "plt.legend(bbox_to_anchor=(1.05, 1), loc=2, borderaxespad=0., title=\"k\")\n",
    "plt.title(r\"$\\lambda_0 = 50, \\lambda_1$ adaptive\")\n",
    "plt.xlabel(r\"$\\phi$\")\n",
    "plt.ylabel(r\"$\\hat{\\beta}_k$\")\n",
    "plt.tight_layout()\n",
    "\n",
    "# plt.savefig(\"traces_phi.svg\", format=\"svg\", bbox_inches=\"tight\")\n",
    "plt.show()"
   ],
   "metadata": {
    "collapsed": false,
    "pycharm": {
     "name": "#%%\n"
    }
   }
  }
 ],
 "metadata": {
  "kernelspec": {
   "display_name": "Python 3",
   "language": "python",
   "name": "python3"
  },
  "language_info": {
   "codemirror_mode": {
    "name": "ipython",
    "version": 2
   },
   "file_extension": ".py",
   "mimetype": "text/x-python",
   "name": "python",
   "nbconvert_exporter": "python",
   "pygments_lexer": "ipython2",
   "version": "2.7.6"
  }
 },
 "nbformat": 4,
 "nbformat_minor": 0
}