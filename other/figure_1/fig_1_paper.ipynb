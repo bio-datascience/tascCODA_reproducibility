{
 "cells": [
  {
   "cell_type": "markdown",
   "metadata": {
    "collapsed": true,
    "pycharm": {
     "name": "#%% md\n"
    }
   },
   "source": [
    "# Example tree for Figure 1"
   ]
  },
  {
   "cell_type": "code",
   "execution_count": 57,
   "outputs": [],
   "source": [
    "import toytree as tt\n",
    "import numpy as np\n",
    "import pandas as pd\n",
    "import toyplot as tp\n",
    "import toyplot.svg"
   ],
   "metadata": {
    "collapsed": false,
    "pycharm": {
     "name": "#%%\n"
    }
   }
  },
  {
   "cell_type": "code",
   "execution_count": 68,
   "outputs": [],
   "source": [
    "newick_example = \"(((T1, T2)N4, (T3, T4, T5, T6)N5)N2,((T7, T8)N6, (T9, T10)N7, (T11, T12, T13)N8)N3)N1;\"\n",
    "ex_tree = tt.tree(newick=newick_example, tree_format=8)"
   ],
   "metadata": {
    "collapsed": false,
    "pycharm": {
     "name": "#%%\n"
    }
   }
  },
  {
   "cell_type": "code",
   "execution_count": 69,
   "outputs": [],
   "source": [
    "canvas = tp.Canvas(width=800, height=400)\n",
    "ax0 = canvas.cartesian(bounds=(0, 800, 0, 400), padding=0)\n",
    "\n",
    "ex_tree.draw(\n",
    "    layout=\"d\",\n",
    "    edge_type=\"c\",\n",
    "    node_sizes=[30 for i in ex_tree.get_node_values(\"name\", 1, 1)],\n",
    "    node_style={\"stroke\": \"black\"},\n",
    "    node_labels=[x for x in ex_tree.get_node_values(\"name\", 1, 1)],\n",
    "    node_labels_style={\"font-size\": 12},\n",
    "    tip_labels=False,\n",
    "    node_colors=[\"lightblue\" if i in [\"N5\", \"T9\", \"T4\"] else \"lightgrey\" for i in ex_tree.get_node_values(\"name\", 1, 1)],\n",
    "    width=800,\n",
    "    height=400,\n",
    "    axes=ax0\n",
    ")\n",
    "tp.svg.render(canvas, \"./fig1_tree.svg\")"
   ],
   "metadata": {
    "collapsed": false,
    "pycharm": {
     "name": "#%%\n"
    }
   }
  },
  {
   "cell_type": "code",
   "execution_count": 70,
   "outputs": [
    {
     "name": "stdout",
     "output_type": "stream",
     "text": [
      "N1\n",
      "N2\n",
      "N3\n",
      "N4\n",
      "N5\n",
      "N6\n",
      "N7\n",
      "N8\n",
      "T1\n",
      "T2\n",
      "T3\n",
      "T4\n",
      "T5\n",
      "T6\n",
      "T7\n",
      "T8\n",
      "T9\n",
      "T10\n",
      "T11\n",
      "T12\n",
      "T13\n"
     ]
    }
   ],
   "source": [
    "for n in ex_tree.treenode.traverse():\n",
    "    print(n.name)"
   ],
   "metadata": {
    "collapsed": false,
    "pycharm": {
     "name": "#%%\n"
    }
   }
  },
  {
   "cell_type": "code",
   "execution_count": null,
   "outputs": [],
   "source": [],
   "metadata": {
    "collapsed": false,
    "pycharm": {
     "name": "#%%\n"
    }
   }
  }
 ],
 "metadata": {
  "kernelspec": {
   "display_name": "Python 3",
   "language": "python",
   "name": "python3"
  },
  "language_info": {
   "codemirror_mode": {
    "name": "ipython",
    "version": 2
   },
   "file_extension": ".py",
   "mimetype": "text/x-python",
   "name": "python",
   "nbconvert_exporter": "python",
   "pygments_lexer": "ipython2",
   "version": "2.7.6"
  }
 },
 "nbformat": 4,
 "nbformat_minor": 0
}