{
 "cells": [
  {
   "cell_type": "markdown",
   "metadata": {
    "collapsed": true,
    "pycharm": {
     "name": "#%% md\n"
    }
   },
   "source": [
    "# Example tree for Figure 1"
   ]
  },
  {
   "cell_type": "code",
   "execution_count": 1,
   "outputs": [],
   "source": [
    "import toytree as tt\n",
    "import toyplot as tp\n",
    "import toyplot.svg"
   ],
   "metadata": {
    "collapsed": false,
    "pycharm": {
     "name": "#%%\n"
    }
   }
  },
  {
   "cell_type": "markdown",
   "source": [
    "Define the newick string for the tree and import it into toytree"
   ],
   "metadata": {
    "collapsed": false,
    "pycharm": {
     "name": "#%% md\n"
    }
   }
  },
  {
   "cell_type": "code",
   "execution_count": 2,
   "outputs": [],
   "source": [
    "newick_example = \"(((T1, T2)N4, (T3, T4, T5, T6)N5)N2,((T7, T8)N6, (T9, T10)N7, (T11, T12, T13)N8)N3)N1;\"\n",
    "ex_tree = tt.tree(newick=newick_example, tree_format=8)"
   ],
   "metadata": {
    "collapsed": false,
    "pycharm": {
     "name": "#%%\n"
    }
   }
  },
  {
   "cell_type": "markdown",
   "source": [
    "Draw the tree"
   ],
   "metadata": {
    "collapsed": false,
    "pycharm": {
     "name": "#%% md\n"
    }
   }
  },
  {
   "cell_type": "code",
   "execution_count": 3,
   "outputs": [
    {
     "data": {
      "text/plain": "(None,\n <toyplot.coordinates.Cartesian at 0x7ff2dba5df70>,\n <toytree.Render.ToytreeMark at 0x7ff2dba71fa0>)"
     },
     "execution_count": 3,
     "metadata": {},
     "output_type": "execute_result"
    },
    {
     "data": {
      "text/html": "<div class=\"toyplot\" id=\"tc21bdb72265c4e6290190b6d69aa4497\" style=\"text-align:center\"><svg class=\"toyplot-canvas-Canvas\" xmlns:toyplot=\"http://www.sandia.gov/toyplot\" xmlns:xlink=\"http://www.w3.org/1999/xlink\" xmlns=\"http://www.w3.org/2000/svg\" width=\"800.0px\" height=\"400.0px\" viewBox=\"0 0 800.0 400.0\" preserveAspectRatio=\"xMidYMid meet\" style=\"background-color:transparent;border-color:#292724;border-style:none;border-width:1.0;fill:rgb(16.1%,15.3%,14.1%);fill-opacity:1.0;font-family:Helvetica;font-size:12px;opacity:1.0;stroke:rgb(16.1%,15.3%,14.1%);stroke-opacity:1.0;stroke-width:1.0\" id=\"tce0c720431e64d37b5fb887e476822c1\"><g class=\"toyplot-coordinates-Cartesian\" id=\"t332d5780e84246d28835499ad2ad8513\"><clipPath id=\"t12f683171e22475581084c7cd52e4796\"><rect x=\"-20.0\" y=\"-20.0\" width=\"840.0\" height=\"440.0\"></rect></clipPath><g clip-path=\"url(#t12f683171e22475581084c7cd52e4796)\"><g class=\"toytree-mark-Toytree\" id=\"t7b5b9c911c2a47adbedd31145ab6b118\"><g class=\"toytree-Edges\" style=\"fill:none;stroke:rgb(14.9%,14.9%,14.9%);stroke-linecap:round;stroke-opacity:1;stroke-width:2\"><path d=\"M 441.3 26.1 L 648.1 142.0\" id=\"20,19\"></path><path d=\"M 441.3 26.1 L 234.6 142.0\" id=\"20,18\"></path><path d=\"M 648.1 142.0 L 741.1 258.0\" id=\"19,17\"></path><path d=\"M 648.1 142.0 L 555.0 258.0\" id=\"19,16\"></path><path d=\"M 234.6 142.0 L 369.0 258.0\" id=\"18,15\"></path><path d=\"M 234.6 142.0 L 245.0 258.0\" id=\"18,14\"></path><path d=\"M 234.6 142.0 L 89.9 258.0\" id=\"18,13\"></path><path d=\"M 741.1 258.0 L 772.1 373.9\" id=\"17,12\"></path><path d=\"M 741.1 258.0 L 710.1 373.9\" id=\"17,11\"></path><path d=\"M 555.0 258.0 L 648.1 373.9\" id=\"16,10\"></path><path d=\"M 555.0 258.0 L 586.0 373.9\" id=\"16,9\"></path><path d=\"M 555.0 258.0 L 524.0 373.9\" id=\"16,8\"></path><path d=\"M 555.0 258.0 L 462.0 373.9\" id=\"16,7\"></path><path d=\"M 369.0 258.0 L 400.0 373.9\" id=\"15,6\"></path><path d=\"M 369.0 258.0 L 338.0 373.9\" id=\"15,5\"></path><path d=\"M 245.0 258.0 L 276.0 373.9\" id=\"14,4\"></path><path d=\"M 245.0 258.0 L 214.0 373.9\" id=\"14,3\"></path><path d=\"M 89.9 258.0 L 151.9 373.9\" id=\"13,2\"></path><path d=\"M 89.9 258.0 L 89.9 373.9\" id=\"13,1\"></path><path d=\"M 89.9 258.0 L 27.9 373.9\" id=\"13,0\"></path></g><g class=\"toytree-Nodes\" style=\"fill:rgb(40%,76.1%,64.7%);fill-opacity:1.0;stroke:rgb(0%,0%,0%);stroke-opacity:1.0;stroke-width:1\"><g fill=\"rgb(82.7%,82.7%,82.7%)\" fill-opacity=\"1.0\" id=\"node-0\" transform=\"translate(27.907,373.913)\"><circle r=\"15.0\"></circle></g><g fill=\"rgb(82.7%,82.7%,82.7%)\" fill-opacity=\"1.0\" id=\"node-1\" transform=\"translate(89.922,373.913)\"><circle r=\"15.0\"></circle></g><g fill=\"rgb(82.7%,82.7%,82.7%)\" fill-opacity=\"1.0\" id=\"node-2\" transform=\"translate(151.938,373.913)\"><circle r=\"15.0\"></circle></g><g fill=\"rgb(82.7%,82.7%,82.7%)\" fill-opacity=\"1.0\" id=\"node-3\" transform=\"translate(213.953,373.913)\"><circle r=\"15.0\"></circle></g><g fill=\"rgb(67.8%,84.7%,90.2%)\" fill-opacity=\"1.0\" id=\"node-4\" transform=\"translate(275.969,373.913)\"><circle r=\"15.0\"></circle></g><g fill=\"rgb(82.7%,82.7%,82.7%)\" fill-opacity=\"1.0\" id=\"node-5\" transform=\"translate(337.984,373.913)\"><circle r=\"15.0\"></circle></g><g fill=\"rgb(82.7%,82.7%,82.7%)\" fill-opacity=\"1.0\" id=\"node-6\" transform=\"translate(400.000,373.913)\"><circle r=\"15.0\"></circle></g><g fill=\"rgb(82.7%,82.7%,82.7%)\" fill-opacity=\"1.0\" id=\"node-7\" transform=\"translate(462.016,373.913)\"><circle r=\"15.0\"></circle></g><g fill=\"rgb(82.7%,82.7%,82.7%)\" fill-opacity=\"1.0\" id=\"node-8\" transform=\"translate(524.031,373.913)\"><circle r=\"15.0\"></circle></g><g fill=\"rgb(67.8%,84.7%,90.2%)\" fill-opacity=\"1.0\" id=\"node-9\" transform=\"translate(586.047,373.913)\"><circle r=\"15.0\"></circle></g><g fill=\"rgb(82.7%,82.7%,82.7%)\" fill-opacity=\"1.0\" id=\"node-10\" transform=\"translate(648.062,373.913)\"><circle r=\"15.0\"></circle></g><g fill=\"rgb(82.7%,82.7%,82.7%)\" fill-opacity=\"1.0\" id=\"node-11\" transform=\"translate(710.078,373.913)\"><circle r=\"15.0\"></circle></g><g fill=\"rgb(82.7%,82.7%,82.7%)\" fill-opacity=\"1.0\" id=\"node-12\" transform=\"translate(772.093,373.913)\"><circle r=\"15.0\"></circle></g><g fill=\"rgb(82.7%,82.7%,82.7%)\" fill-opacity=\"1.0\" id=\"node-13\" transform=\"translate(89.922,257.971)\"><circle r=\"15.0\"></circle></g><g fill=\"rgb(82.7%,82.7%,82.7%)\" fill-opacity=\"1.0\" id=\"node-14\" transform=\"translate(244.961,257.971)\"><circle r=\"15.0\"></circle></g><g fill=\"rgb(82.7%,82.7%,82.7%)\" fill-opacity=\"1.0\" id=\"node-15\" transform=\"translate(368.992,257.971)\"><circle r=\"15.0\"></circle></g><g fill=\"rgb(67.8%,84.7%,90.2%)\" fill-opacity=\"1.0\" id=\"node-16\" transform=\"translate(555.039,257.971)\"><circle r=\"15.0\"></circle></g><g fill=\"rgb(82.7%,82.7%,82.7%)\" fill-opacity=\"1.0\" id=\"node-17\" transform=\"translate(741.085,257.971)\"><circle r=\"15.0\"></circle></g><g fill=\"rgb(82.7%,82.7%,82.7%)\" fill-opacity=\"1.0\" id=\"node-18\" transform=\"translate(234.625,142.029)\"><circle r=\"15.0\"></circle></g><g fill=\"rgb(82.7%,82.7%,82.7%)\" fill-opacity=\"1.0\" id=\"node-19\" transform=\"translate(648.062,142.029)\"><circle r=\"15.0\"></circle></g><g fill=\"rgb(82.7%,82.7%,82.7%)\" fill-opacity=\"1.0\" id=\"node-20\" transform=\"translate(441.344,26.087)\"><circle r=\"15.0\"></circle></g></g><g class=\"toytree-NodeLabels\" style=\"fill:rgb(14.9%,14.9%,14.9%);fill-opacity:1.0;font-size:12;stroke:none\"><g transform=\"translate(17.57,376.98)\"><text>T13</text></g><g transform=\"translate(79.58,376.98)\"><text>T12</text></g><g transform=\"translate(141.60,376.98)\"><text>T11</text></g><g transform=\"translate(203.62,376.98)\"><text>T10</text></g><g transform=\"translate(268.97,376.98)\"><text>T9</text></g><g transform=\"translate(330.98,376.98)\"><text>T8</text></g><g transform=\"translate(393.00,376.98)\"><text>T7</text></g><g transform=\"translate(455.01,376.98)\"><text>T6</text></g><g transform=\"translate(517.03,376.98)\"><text>T5</text></g><g transform=\"translate(579.04,376.98)\"><text>T4</text></g><g transform=\"translate(641.06,376.98)\"><text>T3</text></g><g transform=\"translate(703.08,376.98)\"><text>T2</text></g><g transform=\"translate(765.09,376.98)\"><text>T1</text></g><g transform=\"translate(82.25,261.04)\"><text>N8</text></g><g transform=\"translate(237.29,261.04)\"><text>N7</text></g><g transform=\"translate(361.32,261.04)\"><text>N6</text></g><g transform=\"translate(547.37,261.04)\"><text>N5</text></g><g transform=\"translate(733.42,261.04)\"><text>N4</text></g><g transform=\"translate(226.96,145.09)\"><text>N3</text></g><g transform=\"translate(640.39,145.09)\"><text>N2</text></g><g transform=\"translate(433.68,29.15)\"><text>N1</text></g></g></g></g><g class=\"toyplot-coordinates-Axis\" id=\"t41b9090479c24b79b65532774b97af44\" transform=\"translate(0.0,400.0)translate(0,20.0)\"><line x1=\"27.90697674418604\" y1=\"0\" x2=\"772.0930232558139\" y2=\"0\" style=\"\"></line><g><g transform=\"translate(27.90697674418604,6)\"><text x=\"-2.78\" y=\"8.555\" style=\"fill:rgb(16.1%,15.3%,14.1%);fill-opacity:1.0;font-family:helvetica;font-size:10.0px;font-weight:normal;stroke:none;vertical-align:baseline;white-space:pre\">0</text></g><g transform=\"translate(275.968992248062,6)\"><text x=\"-2.78\" y=\"8.555\" style=\"fill:rgb(16.1%,15.3%,14.1%);fill-opacity:1.0;font-family:helvetica;font-size:10.0px;font-weight:normal;stroke:none;vertical-align:baseline;white-space:pre\">4</text></g><g transform=\"translate(524.031007751938,6)\"><text x=\"-2.78\" y=\"8.555\" style=\"fill:rgb(16.1%,15.3%,14.1%);fill-opacity:1.0;font-family:helvetica;font-size:10.0px;font-weight:normal;stroke:none;vertical-align:baseline;white-space:pre\">8</text></g><g transform=\"translate(772.0930232558139,6)\"><text x=\"-5.56\" y=\"8.555\" style=\"fill:rgb(16.1%,15.3%,14.1%);fill-opacity:1.0;font-family:helvetica;font-size:10.0px;font-weight:normal;stroke:none;vertical-align:baseline;white-space:pre\">12</text></g></g><g class=\"toyplot-coordinates-Axis-coordinates\" style=\"visibility:hidden\" transform=\"\"><line x1=\"0\" x2=\"0\" y1=\"-3.0\" y2=\"4.5\" style=\"stroke:rgb(43.9%,50.2%,56.5%);stroke-opacity:1.0;stroke-width:1.0\"></line><text x=\"0\" y=\"-6\" style=\"alignment-baseline:alphabetic;fill:rgb(43.9%,50.2%,56.5%);fill-opacity:1.0;font-size:10px;font-weight:normal;stroke:none;text-anchor:middle\"></text></g></g><g class=\"toyplot-coordinates-Axis\" id=\"t30db84fcb1c54cdb846213c4621cd01c\" transform=\"translate(0.0,400.0)rotate(-90.0)translate(0,-20.0)\"><line x1=\"26.08695652173913\" y1=\"0\" x2=\"373.9130434782609\" y2=\"0\" style=\"\"></line><g><g transform=\"translate(26.08695652173913,-6)\"><text x=\"-2.78\" y=\"-4.440892098500626e-16\" style=\"fill:rgb(16.1%,15.3%,14.1%);fill-opacity:1.0;font-family:helvetica;font-size:10.0px;font-weight:normal;stroke:none;vertical-align:baseline;white-space:pre\">0</text></g><g transform=\"translate(142.0289855072464,-6)\"><text x=\"-2.78\" y=\"-4.440892098500626e-16\" style=\"fill:rgb(16.1%,15.3%,14.1%);fill-opacity:1.0;font-family:helvetica;font-size:10.0px;font-weight:normal;stroke:none;vertical-align:baseline;white-space:pre\">1</text></g><g transform=\"translate(257.9710144927537,-6)\"><text x=\"-2.78\" y=\"-4.440892098500626e-16\" style=\"fill:rgb(16.1%,15.3%,14.1%);fill-opacity:1.0;font-family:helvetica;font-size:10.0px;font-weight:normal;stroke:none;vertical-align:baseline;white-space:pre\">2</text></g><g transform=\"translate(373.9130434782609,-6)\"><text x=\"-2.78\" y=\"-4.440892098500626e-16\" style=\"fill:rgb(16.1%,15.3%,14.1%);fill-opacity:1.0;font-family:helvetica;font-size:10.0px;font-weight:normal;stroke:none;vertical-align:baseline;white-space:pre\">3</text></g></g><g class=\"toyplot-coordinates-Axis-coordinates\" style=\"visibility:hidden\" transform=\"\"><line x1=\"0\" x2=\"0\" y1=\"3.0\" y2=\"-4.5\" style=\"stroke:rgb(43.9%,50.2%,56.5%);stroke-opacity:1.0;stroke-width:1.0\"></line><text x=\"0\" y=\"6\" style=\"alignment-baseline:hanging;fill:rgb(43.9%,50.2%,56.5%);fill-opacity:1.0;font-size:10px;font-weight:normal;stroke:none;text-anchor:middle\"></text></g></g></g></svg><div class=\"toyplot-behavior\"><script>(function()\n{\nvar modules={};\nmodules[\"toyplot/canvas/id\"] = \"tce0c720431e64d37b5fb887e476822c1\";\nmodules[\"toyplot/canvas\"] = (function(canvas_id)\n    {\n        return document.querySelector(\"#\" + canvas_id);\n    })(modules[\"toyplot/canvas/id\"]);\nmodules[\"toyplot.coordinates.Axis\"] = (\n        function(canvas)\n        {\n            function sign(x)\n            {\n                return x < 0 ? -1 : x > 0 ? 1 : 0;\n            }\n\n            function mix(a, b, amount)\n            {\n                return ((1.0 - amount) * a) + (amount * b);\n            }\n\n            function log(x, base)\n            {\n                return Math.log(Math.abs(x)) / Math.log(base);\n            }\n\n            function in_range(a, x, b)\n            {\n                var left = Math.min(a, b);\n                var right = Math.max(a, b);\n                return left <= x && x <= right;\n            }\n\n            function inside(range, projection)\n            {\n                for(var i = 0; i != projection.length; ++i)\n                {\n                    var segment = projection[i];\n                    if(in_range(segment.range.min, range, segment.range.max))\n                        return true;\n                }\n                return false;\n            }\n\n            function to_domain(range, projection)\n            {\n                for(var i = 0; i != projection.length; ++i)\n                {\n                    var segment = projection[i];\n                    if(in_range(segment.range.bounds.min, range, segment.range.bounds.max))\n                    {\n                        if(segment.scale == \"linear\")\n                        {\n                            var amount = (range - segment.range.min) / (segment.range.max - segment.range.min);\n                            return mix(segment.domain.min, segment.domain.max, amount)\n                        }\n                        else if(segment.scale[0] == \"log\")\n                        {\n                            var amount = (range - segment.range.min) / (segment.range.max - segment.range.min);\n                            var base = segment.scale[1];\n                            return sign(segment.domain.min) * Math.pow(base, mix(log(segment.domain.min, base), log(segment.domain.max, base), amount));\n                        }\n                    }\n                }\n            }\n\n            var axes = {};\n\n            function display_coordinates(e)\n            {\n                var current = canvas.createSVGPoint();\n                current.x = e.clientX;\n                current.y = e.clientY;\n\n                for(var axis_id in axes)\n                {\n                    var axis = document.querySelector(\"#\" + axis_id);\n                    var coordinates = axis.querySelector(\".toyplot-coordinates-Axis-coordinates\");\n                    if(coordinates)\n                    {\n                        var projection = axes[axis_id];\n                        var local = current.matrixTransform(axis.getScreenCTM().inverse());\n                        if(inside(local.x, projection))\n                        {\n                            var domain = to_domain(local.x, projection);\n                            coordinates.style.visibility = \"visible\";\n                            coordinates.setAttribute(\"transform\", \"translate(\" + local.x + \")\");\n                            var text = coordinates.querySelector(\"text\");\n                            text.textContent = domain.toFixed(2);\n                        }\n                        else\n                        {\n                            coordinates.style.visibility= \"hidden\";\n                        }\n                    }\n                }\n            }\n\n            canvas.addEventListener(\"click\", display_coordinates);\n\n            var module = {};\n            module.show_coordinates = function(axis_id, projection)\n            {\n                axes[axis_id] = projection;\n            }\n\n            return module;\n        })(modules[\"toyplot/canvas\"]);\n(function(axis, axis_id, projection)\n        {\n            axis.show_coordinates(axis_id, projection);\n        })(modules[\"toyplot.coordinates.Axis\"],\"t41b9090479c24b79b65532774b97af44\",[{\"domain\": {\"bounds\": {\"max\": Infinity, \"min\": -Infinity}, \"max\": 12.450000000000001, \"min\": -0.44999999999999996}, \"range\": {\"bounds\": {\"max\": Infinity, \"min\": -Infinity}, \"max\": 800.0, \"min\": 0.0}, \"scale\": \"linear\"}]);\n(function(axis, axis_id, projection)\n        {\n            axis.show_coordinates(axis_id, projection);\n        })(modules[\"toyplot.coordinates.Axis\"],\"t30db84fcb1c54cdb846213c4621cd01c\",[{\"domain\": {\"bounds\": {\"max\": Infinity, \"min\": -Infinity}, \"max\": 3.2249999999999996, \"min\": -0.22499999999999998}, \"range\": {\"bounds\": {\"max\": Infinity, \"min\": -Infinity}, \"max\": 400.0, \"min\": 0.0}, \"scale\": \"linear\"}]);\n})();</script></div></div>"
     },
     "metadata": {},
     "output_type": "display_data"
    }
   ],
   "source": [
    "canvas = tp.Canvas(width=800, height=400)\n",
    "ax0 = canvas.cartesian(bounds=(0, 800, 0, 400), padding=0)\n",
    "\n",
    "ex_tree.draw(\n",
    "    layout=\"d\",\n",
    "    edge_type=\"c\",\n",
    "    node_sizes=[30 for i in ex_tree.get_node_values(\"name\", 1, 1)],\n",
    "    node_style={\"stroke\": \"black\"},\n",
    "    node_labels=[x for x in ex_tree.get_node_values(\"name\", 1, 1)],\n",
    "    node_labels_style={\"font-size\": 12},\n",
    "    tip_labels=False,\n",
    "    node_colors=[\"lightblue\" if i in [\"N5\", \"T9\", \"T4\"] else \"lightgrey\" for i in ex_tree.get_node_values(\"name\", 1, 1)],\n",
    "    width=800,\n",
    "    height=400,\n",
    "    axes=ax0\n",
    ")\n",
    "# tp.svg.render(canvas, \"./fig1_tree.svg\")\n"
   ],
   "metadata": {
    "collapsed": false,
    "pycharm": {
     "name": "#%%\n"
    }
   }
  },
  {
   "cell_type": "code",
   "execution_count": 3,
   "outputs": [],
   "source": [],
   "metadata": {
    "collapsed": false,
    "pycharm": {
     "name": "#%%\n"
    }
   }
  }
 ],
 "metadata": {
  "kernelspec": {
   "display_name": "Python 3",
   "language": "python",
   "name": "python3"
  },
  "language_info": {
   "codemirror_mode": {
    "name": "ipython",
    "version": 2
   },
   "file_extension": ".py",
   "mimetype": "text/x-python",
   "name": "python",
   "nbconvert_exporter": "python",
   "pygments_lexer": "ipython2",
   "version": "2.7.6"
  }
 },
 "nbformat": 4,
 "nbformat_minor": 0
}