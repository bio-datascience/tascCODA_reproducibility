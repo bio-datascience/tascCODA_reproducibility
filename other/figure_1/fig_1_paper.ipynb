{
 "cells": [
  {
   "cell_type": "markdown",
   "metadata": {
    "collapsed": true,
    "pycharm": {
     "name": "#%% md\n"
    }
   },
   "source": [
    "# Example for Figure 1"
   ]
  },
  {
   "cell_type": "code",
   "execution_count": 50,
   "outputs": [],
   "source": [
    "import toytree as tt\n",
    "import toyplot as tp\n",
    "import toyplot.svg\n",
    "import numpy as np\n",
    "import pandas as pd\n",
    "\n",
    "import sccoda.util.cell_composition_data as dat\n",
    "import sccoda.util.data_visualization as viz\n",
    "import matplotlib.pyplot as plt\n",
    "import seaborn as sns\n",
    "import matplotlib\n",
    "import tasccoda.tree_utils as ut"
   ],
   "metadata": {
    "collapsed": false,
    "pycharm": {
     "name": "#%%\n"
    }
   }
  },
  {
   "cell_type": "markdown",
   "source": [
    "Define the newick string for the tree and import it into toytree"
   ],
   "metadata": {
    "collapsed": false,
    "pycharm": {
     "name": "#%% md\n"
    }
   }
  },
  {
   "cell_type": "code",
   "execution_count": 85,
   "outputs": [],
   "source": [
    "newick_example = \"((T1, T2, T3, T4)N2, (T5, T6)N3)N1;\"\n",
    "ex_tree = tt.tree(newick=newick_example, tree_format=8)"
   ],
   "metadata": {
    "collapsed": false,
    "pycharm": {
     "name": "#%%\n"
    }
   }
  },
  {
   "cell_type": "markdown",
   "source": [
    "Draw the tree"
   ],
   "metadata": {
    "collapsed": false,
    "pycharm": {
     "name": "#%% md\n"
    }
   }
  },
  {
   "cell_type": "code",
   "execution_count": 91,
   "outputs": [],
   "source": [
    "canvas = tp.Canvas(width=800, height=400)\n",
    "ax0 = canvas.cartesian(bounds=(0, 800, 0, 400), padding=0)\n",
    "\n",
    "ex_tree.draw(\n",
    "    layout=\"d\",\n",
    "    edge_type=\"c\",\n",
    "    node_sizes=[30 for i in ex_tree.get_node_values(\"name\", 1, 1)],\n",
    "    node_style={\"stroke\": \"black\"},\n",
    "    node_labels=[x for x in ex_tree.get_node_values(\"name\", 1, 1)],\n",
    "    node_labels_style={\"font-size\": 12},\n",
    "    tip_labels=False,\n",
    "    node_colors=[\n",
    "        \"lightblue\" if i in [\"T1\", \"N1\", \"N2\"] else\n",
    "        \"lightcoral\" if i in [\"N3\"] else\n",
    "        \"goldenrod\" if i in [\"T5\", \"T6\"] else\n",
    "        \"lightgrey\" for i in ex_tree.get_node_values(\"name\", 1, 1)],\n",
    "    width=800,\n",
    "    height=400,\n",
    "    axes=ax0\n",
    ")\n",
    "# tp.svg.render(canvas, \"./fig1_tree_v2.svg\")"
   ],
   "metadata": {
    "collapsed": false,
    "pycharm": {
     "name": "#%%\n"
    }
   }
  },
  {
   "cell_type": "markdown",
   "source": [
    "## Example dataset"
   ],
   "metadata": {
    "collapsed": false,
    "pycharm": {
     "name": "#%% md\n"
    }
   }
  },
  {
   "cell_type": "code",
   "execution_count": 87,
   "outputs": [
    {
     "name": "stderr",
     "output_type": "stream",
     "text": [
      "/Users/johannes.ostner/opt/anaconda3/envs/scCODA_3/lib/python3.8/site-packages/anndata/_core/anndata.py:120: ImplicitModificationWarning: Transforming to str index.\n",
      "  warnings.warn(\"Transforming to str index.\", ImplicitModificationWarning)\n"
     ]
    }
   ],
   "source": [
    "np.random.seed(1234)\n",
    "\n",
    "n = 20\n",
    "N = 3000\n",
    "base_abun = np.array([500, 500, 500, 500, 500, 500])\n",
    "pert_abun = np.array([250, 250, 250, 250, 1000, 1000])\n",
    "\n",
    "base_samples = np.random.multinomial(N, base_abun/N, int(n/2))\n",
    "pert_samples = np.random.multinomial(N, pert_abun/N, int(n/2))\n",
    "Y = np.concatenate([base_samples, pert_samples])\n",
    "otus = [\"T1\", \"T2\", \"T3\", \"T4\", \"T5\", \"T6\"]\n",
    "\n",
    "cov = pd.DataFrame({\"Condition\": np.repeat([\"Control\", \"Case\"], 10)})\n",
    "data_ = {\"Condition\": np.repeat([\"Control\", \"Case\"], int(n/2))}\n",
    "for i in range(len(otus)):\n",
    "    data_[otus[i]] = Y[:,i]\n",
    "data_ = pd.DataFrame(data_)\n",
    "\n",
    "data = dat.from_pandas(data_, covariate_columns=[\"Condition\"])\n",
    "data.uns[\"phylo_tree\"] = ex_tree"
   ],
   "metadata": {
    "collapsed": false,
    "pycharm": {
     "name": "#%%\n"
    }
   }
  },
  {
   "cell_type": "code",
   "execution_count": 88,
   "outputs": [
    {
     "data": {
      "text/plain": "<Figure size 500x800 with 1 Axes>",
      "image/png": "[encoded data removed]"
     },
     "metadata": {},
     "output_type": "display_data"
    }
   ],
   "source": [
    "viz.stacked_barplot(data, \"Condition\", cmap=matplotlib.cm.Set2, figsize=(5, 8))\n",
    "sns.despine()\n",
    "plt.legend(title=\"Feature\", bbox_to_anchor=(1.05, 1), loc=2, borderaxespad=0.,)\n",
    "plt.savefig(\"./example_stackbar.svg\", format=\"svg\", bbox_inches=\"tight\")\n",
    "plt.show()"
   ],
   "metadata": {
    "collapsed": false,
    "pycharm": {
     "name": "#%%\n"
    }
   }
  },
  {
   "cell_type": "markdown",
   "source": [
    "## Example ancestor matrix"
   ],
   "metadata": {
    "collapsed": false,
    "pycharm": {
     "name": "#%% md\n"
    }
   }
  },
  {
   "cell_type": "code",
   "execution_count": 89,
   "outputs": [
    {
     "name": "stdout",
     "output_type": "stream",
     "text": [
      "[[1 0 0 0 0 0 1 0]\n",
      " [0 1 0 0 0 0 1 0]\n",
      " [0 0 1 0 0 0 1 0]\n",
      " [0 0 0 1 0 0 1 0]\n",
      " [0 0 0 0 1 0 0 1]\n",
      " [0 0 0 0 0 1 0 1]]\n"
     ]
    }
   ],
   "source": [
    "A, _ = ut.get_A(ex_tree)\n",
    "A = A.astype(\"int\")\n",
    "print(A)"
   ],
   "metadata": {
    "collapsed": false,
    "pycharm": {
     "name": "#%%\n"
    }
   }
  },
  {
   "cell_type": "code",
   "execution_count": 90,
   "outputs": [],
   "source": [
    "# convert matrix to latex - from https://gist.github.com/tpaschalis/7a2943c2248b78b2558c457428086082\n",
    "def np2lat(A):\n",
    "\tfilename = './table.tex'\n",
    "\tf = open(filename, 'a')\n",
    "\tcols = A.shape[1]\n",
    "\n",
    "\t# Change alignment and format of your output\n",
    "\ttabformat = '%.0f'\n",
    "\ttabalign = 'c'*cols\n",
    "\n",
    "\tf.write('\\n\\\\begin{table}[h]\\n')\n",
    "\tf.write('\\\\centering\\n')\n",
    "\tf.write('\\\\begin{tabular}{%s}\\n' %tabalign)\n",
    "\n",
    "\t# Use some numpy magic, just addding correct delimiter and newlines\n",
    "\tnp.savetxt(f, A, fmt=tabformat, delimiter=' & ', newline='\\\\\\\\\\n')\n",
    "\n",
    "\tf.write('\\\\end{tabular}\\n')\n",
    "\tf.write('\\\\end{table}\\n')\n",
    "\n",
    "\tf.flush()\n",
    "\tf.close()\n",
    "\n",
    "np2lat(A.astype(int))"
   ],
   "metadata": {
    "collapsed": false,
    "pycharm": {
     "name": "#%%\n"
    }
   }
  },
  {
   "cell_type": "code",
   "execution_count": null,
   "outputs": [],
   "source": [],
   "metadata": {
    "collapsed": false,
    "pycharm": {
     "name": "#%%\n"
    }
   }
  }
 ],
 "metadata": {
  "kernelspec": {
   "display_name": "Python 3",
   "language": "python",
   "name": "python3"
  },
  "language_info": {
   "codemirror_mode": {
    "name": "ipython",
    "version": 2
   },
   "file_extension": ".py",
   "mimetype": "text/x-python",
   "name": "python",
   "nbconvert_exporter": "python",
   "pygments_lexer": "ipython2",
   "version": "2.7.6"
  }
 },
 "nbformat": 4,
 "nbformat_minor": 0
}