{
 "cells": [
  {
   "cell_type": "markdown",
   "metadata": {
    "collapsed": true,
    "pycharm": {
     "name": "#%% md\n"
    }
   },
   "source": [
    "# Out-of-sample prediciton for Smillie et al."
   ]
  },
  {
   "cell_type": "code",
   "execution_count": 3,
   "outputs": [],
   "source": [
    "# Setup\n",
    "import numpy as np\n",
    "import pandas as pd\n",
    "import toytree as tt\n",
    "from tasccoda import tree_utils as util\n",
    "from tasccoda import tree_ana as ana\n",
    "import anndata as ad\n",
    "from sccoda.util import comp_ana as ana2\n",
    "import matplotlib.pyplot as plt\n",
    "import seaborn as sns\n",
    "import pickle as pkl\n",
    "from sklearn.model_selection import KFold\n",
    "import os\n",
    "\n",
    "import importlib"
   ],
   "metadata": {
    "collapsed": false,
    "pycharm": {
     "name": "#%%\n"
    }
   }
  },
  {
   "cell_type": "code",
   "execution_count": 17,
   "outputs": [
    {
     "name": "stdout",
     "output_type": "stream",
     "text": [
      "(((((EnterocyteProgenitors,ImmatureEnterocytes2,ImmatureEnterocytes1)Immature cells,(TA1,TA2)TA cells,(Best4+Enterocytes,Enterocytes)Absorptive Mature cells)Absorptive,((CyclingTA)Cycling TA4)Cycling TA3,((ImmatureGoblet,SecretoryTA)Progenitor cells,(Enteroendocrine,Goblet,Tuft)Secretory Mature cells)Secretory,((Stem)Stem4)Stem3,((Mcells)M cells4)M cells3)Epithelial)Epithelial,((((CD8+IELs,CD8+LP,CyclingT,CD8+IL17+)CD8+ T,(CD4+Memory,CD4+ActivatedFos-lo,CD4+PD1+,CD4+ActivatedFos-hi,MT-hi,Tregs)CD4+ T)T cells,((CyclingB)Cycling B4,(GC)GC4,(Follicular)Follicular4,(Plasma)Plasma4)B cells,((NKs)NKs4)NKs3,((ILCs)ILCs4)ILCs3)Lymphoid,(((CD69+Mast)CD69+ Mast4,(CD69-Mast)CD69- Mast4)Mast,((Macrophages)Macrophages4,(DC2,DC1)DCs,(InflammatoryMonocytes)Inflammatory Monocytes4,(CyclingMonocytes)Cycling Monocytes4)Monocytes)Myeloid)Immune,((((WNT5B+2,WNT5B+1)WNT5B+,(WNT2B+Fos-hi,WNT2B+Fos-lo1,RSPO3+,WNT2B+Fos-lo2)WNT2B+,(InflammatoryFibroblasts)Inflammatory Fibroblast4,(Myofibroblasts)Myofibroblast4)Fibroblasts,((Pericytes,Microvascular,Endothelial,Post-capillaryVenules)EndothelialCells)Endothelial3,((Glia)Glia4)Glia3)Stromal)Stromal);\n"
     ]
    },
    {
     "name": "stderr",
     "output_type": "stream",
     "text": [
      "/Users/johannes.ostner/opt/anaconda3/envs/scCODA_3/lib/python3.8/site-packages/anndata/_core/anndata.py:120: ImplicitModificationWarning: Transforming to str index.\n",
      "  warnings.warn(\"Transforming to str index.\", ImplicitModificationWarning)\n"
     ]
    },
    {
     "data": {
      "text/html": "<div class=\"toyplot\" id=\"tff0b61454c6040f2a87f065f726bccaa\" style=\"text-align:center\"><svg class=\"toyplot-canvas-Canvas\" xmlns:toyplot=\"http://www.sandia.gov/toyplot\" xmlns:xlink=\"http://www.w3.org/1999/xlink\" xmlns=\"http://www.w3.org/2000/svg\" width=\"365.0px\" height=\"918.0px\" viewBox=\"0 0 365.0 918.0\" preserveAspectRatio=\"xMidYMid meet\" style=\"background-color:transparent;border-color:#292724;border-style:none;border-width:1.0;fill:rgb(16.1%,15.3%,14.1%);fill-opacity:1.0;font-family:Helvetica;font-size:12px;opacity:1.0;stroke:rgb(16.1%,15.3%,14.1%);stroke-opacity:1.0;stroke-width:1.0\" id=\"t170bcae43523491f9cb8e1d87baaeed6\"><g class=\"toyplot-coordinates-Cartesian\" id=\"t9b99055044694c60ba5457ef1175d3f5\"><clipPath id=\"t16bf695bd87c42b9bcfdf93341d274f0\"><rect x=\"30.0\" y=\"30.0\" width=\"305.0\" height=\"858.0\"></rect></clipPath><g clip-path=\"url(#t16bf695bd87c42b9bcfdf93341d274f0)\"><g class=\"toytree-mark-Toytree\" id=\"t476db770eb4e455c858eb3faeb273e78\"><g class=\"toytree-Edges\" style=\"fill:none;stroke:rgb(14.9%,14.9%,14.9%);stroke-linecap:round;stroke-opacity:1;stroke-width:2\"><path d=\"M 50.0 349.4 L 50.0 113.8 L 78.7 113.8\" id=\"100,99\"></path><path d=\"M 50.0 349.4 L 50.0 327.0 L 78.7 327.0\" id=\"100,98\"></path><path d=\"M 50.0 349.4 L 50.0 607.3 L 78.7 607.3\" id=\"100,97\"></path><path d=\"M 78.7 113.8 L 78.7 113.8 L 107.4 113.8\" id=\"99,96\"></path><path d=\"M 78.7 327.0 L 78.7 327.0 L 107.4 327.0\" id=\"98,95\"></path><path d=\"M 78.7 607.3 L 78.7 539.3 L 107.4 539.3\" id=\"97,94\"></path><path d=\"M 78.7 607.3 L 78.7 675.2 L 107.4 675.2\" id=\"97,93\"></path><path d=\"M 107.4 113.8 L 107.4 62.2 L 136.2 62.2\" id=\"96,92\"></path><path d=\"M 107.4 113.8 L 107.4 101.9 L 136.2 101.9\" id=\"96,91\"></path><path d=\"M 107.4 113.8 L 107.4 177.3 L 136.2 177.3\" id=\"96,90\"></path><path d=\"M 107.4 327.0 L 107.4 268.5 L 136.2 268.5\" id=\"95,89\"></path><path d=\"M 107.4 327.0 L 107.4 284.4 L 136.2 284.4\" id=\"95,88\"></path><path d=\"M 107.4 327.0 L 107.4 300.3 L 136.2 300.3\" id=\"95,87\"></path><path d=\"M 107.4 327.0 L 107.4 343.9 L 136.2 343.9\" id=\"95,86\"></path><path d=\"M 107.4 327.0 L 107.4 437.8 L 136.2 437.8\" id=\"95,85\"></path><path d=\"M 107.4 539.3 L 107.4 514.5 L 136.2 514.5\" id=\"94,84\"></path><path d=\"M 107.4 539.3 L 107.4 564.1 L 136.2 564.1\" id=\"94,83\"></path><path d=\"M 107.4 675.2 L 107.4 617.7 L 136.2 617.7\" id=\"93,82\"></path><path d=\"M 107.4 675.2 L 107.4 633.6 L 136.2 633.6\" id=\"93,81\"></path><path d=\"M 107.4 675.2 L 107.4 673.3 L 136.2 673.3\" id=\"93,80\"></path><path d=\"M 107.4 675.2 L 107.4 776.4 L 136.2 776.4\" id=\"93,79\"></path><path d=\"M 136.2 62.2 L 136.2 62.2 L 164.9 62.2\" id=\"92,78\"></path><path d=\"M 136.2 101.9 L 136.2 101.9 L 164.9 101.9\" id=\"91,77\"></path><path d=\"M 136.2 177.3 L 136.2 141.6 L 164.9 141.6\" id=\"90,76\"></path><path d=\"M 136.2 177.3 L 136.2 157.4 L 164.9 157.4\" id=\"90,75\"></path><path d=\"M 136.2 177.3 L 136.2 181.3 L 164.9 181.3\" id=\"90,74\"></path><path d=\"M 136.2 177.3 L 136.2 228.9 L 164.9 228.9\" id=\"90,73\"></path><path d=\"M 136.2 268.5 L 136.2 268.5 L 164.9 268.5\" id=\"89,72\"></path><path d=\"M 136.2 284.4 L 136.2 284.4 L 164.9 284.4\" id=\"88,71\"></path><path d=\"M 136.2 300.3 L 136.2 300.3 L 164.9 300.3\" id=\"87,70\"></path><path d=\"M 136.2 343.9 L 136.2 324.1 L 164.9 324.1\" id=\"86,69\"></path><path d=\"M 136.2 343.9 L 136.2 363.8 L 164.9 363.8\" id=\"86,68\"></path><path d=\"M 136.2 437.8 L 136.2 403.5 L 164.9 403.5\" id=\"85,67\"></path><path d=\"M 136.2 437.8 L 136.2 435.2 L 164.9 435.2\" id=\"85,66\"></path><path d=\"M 136.2 437.8 L 136.2 474.9 L 164.9 474.9\" id=\"85,65\"></path><path d=\"M 136.2 514.5 L 136.2 506.6 L 164.9 506.6\" id=\"84,64\"></path><path d=\"M 136.2 514.5 L 136.2 522.5 L 164.9 522.5\" id=\"84,63\"></path><path d=\"M 136.2 564.1 L 136.2 538.4 L 164.9 538.4\" id=\"83,62\"></path><path d=\"M 136.2 564.1 L 136.2 554.2 L 164.9 554.2\" id=\"83,61\"></path><path d=\"M 136.2 564.1 L 136.2 570.1 L 164.9 570.1\" id=\"83,60\"></path><path d=\"M 136.2 564.1 L 136.2 593.9 L 164.9 593.9\" id=\"83,59\"></path><path d=\"M 136.2 617.7 L 136.2 617.7 L 164.9 617.7\" id=\"82,58\"></path><path d=\"M 136.2 633.6 L 136.2 633.6 L 164.9 633.6\" id=\"81,57\"></path><path d=\"M 136.2 673.3 L 136.2 649.5 L 164.9 649.5\" id=\"80,56\"></path><path d=\"M 136.2 673.3 L 136.2 665.3 L 164.9 665.3\" id=\"80,55\"></path><path d=\"M 136.2 673.3 L 136.2 681.2 L 164.9 681.2\" id=\"80,54\"></path><path d=\"M 136.2 673.3 L 136.2 697.1 L 164.9 697.1\" id=\"80,53\"></path><path d=\"M 136.2 776.4 L 136.2 736.7 L 164.9 736.7\" id=\"79,52\"></path><path d=\"M 136.2 776.4 L 136.2 816.1 L 164.9 816.1\" id=\"79,51\"></path><path d=\"M 164.9 62.2 L 164.9 62.2 L 193.6 62.2\" id=\"78,50\"></path><path d=\"M 164.9 101.9 L 164.9 78.1 L 193.6 78.1\" id=\"77,49\"></path><path d=\"M 164.9 101.9 L 164.9 94.0 L 193.6 94.0\" id=\"77,48\"></path><path d=\"M 164.9 101.9 L 164.9 109.8 L 193.6 109.8\" id=\"77,47\"></path><path d=\"M 164.9 101.9 L 164.9 125.7 L 193.6 125.7\" id=\"77,46\"></path><path d=\"M 164.9 141.6 L 164.9 141.6 L 193.6 141.6\" id=\"76,45\"></path><path d=\"M 164.9 157.4 L 164.9 157.4 L 193.6 157.4\" id=\"75,44\"></path><path d=\"M 164.9 181.3 L 164.9 173.3 L 193.6 173.3\" id=\"74,43\"></path><path d=\"M 164.9 181.3 L 164.9 189.2 L 193.6 189.2\" id=\"74,42\"></path><path d=\"M 164.9 228.9 L 164.9 205.1 L 193.6 205.1\" id=\"73,41\"></path><path d=\"M 164.9 228.9 L 164.9 220.9 L 193.6 220.9\" id=\"73,40\"></path><path d=\"M 164.9 228.9 L 164.9 236.8 L 193.6 236.8\" id=\"73,39\"></path><path d=\"M 164.9 228.9 L 164.9 252.7 L 193.6 252.7\" id=\"73,38\"></path><path d=\"M 164.9 268.5 L 164.9 268.5 L 193.6 268.5\" id=\"72,37\"></path><path d=\"M 164.9 284.4 L 164.9 284.4 L 193.6 284.4\" id=\"71,36\"></path><path d=\"M 164.9 300.3 L 164.9 300.3 L 193.6 300.3\" id=\"70,35\"></path><path d=\"M 164.9 324.1 L 164.9 316.2 L 193.6 316.2\" id=\"69,34\"></path><path d=\"M 164.9 324.1 L 164.9 332.0 L 193.6 332.0\" id=\"69,33\"></path><path d=\"M 164.9 363.8 L 164.9 347.9 L 193.6 347.9\" id=\"68,32\"></path><path d=\"M 164.9 363.8 L 164.9 363.8 L 193.6 363.8\" id=\"68,31\"></path><path d=\"M 164.9 363.8 L 164.9 379.6 L 193.6 379.6\" id=\"68,30\"></path><path d=\"M 164.9 403.5 L 164.9 395.5 L 193.6 395.5\" id=\"67,29\"></path><path d=\"M 164.9 403.5 L 164.9 411.4 L 193.6 411.4\" id=\"67,28\"></path><path d=\"M 164.9 435.2 L 164.9 427.3 L 193.6 427.3\" id=\"66,27\"></path><path d=\"M 164.9 435.2 L 164.9 443.1 L 193.6 443.1\" id=\"66,26\"></path><path d=\"M 164.9 474.9 L 164.9 459.0 L 193.6 459.0\" id=\"65,25\"></path><path d=\"M 164.9 474.9 L 164.9 474.9 L 193.6 474.9\" id=\"65,24\"></path><path d=\"M 164.9 474.9 L 164.9 490.7 L 193.6 490.7\" id=\"65,23\"></path><path d=\"M 164.9 506.6 L 164.9 506.6 L 193.6 506.6\" id=\"64,22\"></path><path d=\"M 164.9 522.5 L 164.9 522.5 L 193.6 522.5\" id=\"63,21\"></path><path d=\"M 164.9 538.4 L 164.9 538.4 L 193.6 538.4\" id=\"62,20\"></path><path d=\"M 164.9 554.2 L 164.9 554.2 L 193.6 554.2\" id=\"61,19\"></path><path d=\"M 164.9 570.1 L 164.9 570.1 L 193.6 570.1\" id=\"60,18\"></path><path d=\"M 164.9 593.9 L 164.9 586.0 L 193.6 586.0\" id=\"59,17\"></path><path d=\"M 164.9 593.9 L 164.9 601.8 L 193.6 601.8\" id=\"59,16\"></path><path d=\"M 164.9 617.7 L 164.9 617.7 L 193.6 617.7\" id=\"58,15\"></path><path d=\"M 164.9 633.6 L 164.9 633.6 L 193.6 633.6\" id=\"57,14\"></path><path d=\"M 164.9 649.5 L 164.9 649.5 L 193.6 649.5\" id=\"56,13\"></path><path d=\"M 164.9 665.3 L 164.9 665.3 L 193.6 665.3\" id=\"55,12\"></path><path d=\"M 164.9 681.2 L 164.9 681.2 L 193.6 681.2\" id=\"54,11\"></path><path d=\"M 164.9 697.1 L 164.9 697.1 L 193.6 697.1\" id=\"53,10\"></path><path d=\"M 164.9 736.7 L 164.9 712.9 L 193.6 712.9\" id=\"52,9\"></path><path d=\"M 164.9 736.7 L 164.9 728.8 L 193.6 728.8\" id=\"52,8\"></path><path d=\"M 164.9 736.7 L 164.9 744.7 L 193.6 744.7\" id=\"52,7\"></path><path d=\"M 164.9 736.7 L 164.9 760.6 L 193.6 760.6\" id=\"52,6\"></path><path d=\"M 164.9 816.1 L 164.9 776.4 L 193.6 776.4\" id=\"51,5\"></path><path d=\"M 164.9 816.1 L 164.9 792.3 L 193.6 792.3\" id=\"51,4\"></path><path d=\"M 164.9 816.1 L 164.9 808.2 L 193.6 808.2\" id=\"51,3\"></path><path d=\"M 164.9 816.1 L 164.9 824.0 L 193.6 824.0\" id=\"51,2\"></path><path d=\"M 164.9 816.1 L 164.9 839.9 L 193.6 839.9\" id=\"51,1\"></path><path d=\"M 164.9 816.1 L 164.9 855.8 L 193.6 855.8\" id=\"51,0\"></path></g><g class=\"toytree-AlignEdges\" style=\"stroke:rgb(66.3%,66.3%,66.3%);stroke-dasharray:2, 4;stroke-linecap:round;stroke-opacity:1.0;stroke-width:2\"><path d=\"M 193.6 855.8 L 193.6 855.8\"></path><path d=\"M 193.6 839.9 L 193.6 839.9\"></path><path d=\"M 193.6 824.0 L 193.6 824.0\"></path><path d=\"M 193.6 808.2 L 193.6 808.2\"></path><path d=\"M 193.6 792.3 L 193.6 792.3\"></path><path d=\"M 193.6 776.4 L 193.6 776.4\"></path><path d=\"M 193.6 760.6 L 193.6 760.6\"></path><path d=\"M 193.6 744.7 L 193.6 744.7\"></path><path d=\"M 193.6 728.8 L 193.6 728.8\"></path><path d=\"M 193.6 712.9 L 193.6 712.9\"></path><path d=\"M 193.6 697.1 L 193.6 697.1\"></path><path d=\"M 193.6 681.2 L 193.6 681.2\"></path><path d=\"M 193.6 665.3 L 193.6 665.3\"></path><path d=\"M 193.6 649.5 L 193.6 649.5\"></path><path d=\"M 193.6 633.6 L 193.6 633.6\"></path><path d=\"M 193.6 617.7 L 193.6 617.7\"></path><path d=\"M 193.6 601.8 L 193.6 601.8\"></path><path d=\"M 193.6 586.0 L 193.6 586.0\"></path><path d=\"M 193.6 570.1 L 193.6 570.1\"></path><path d=\"M 193.6 554.2 L 193.6 554.2\"></path><path d=\"M 193.6 538.4 L 193.6 538.4\"></path><path d=\"M 193.6 522.5 L 193.6 522.5\"></path><path d=\"M 193.6 506.6 L 193.6 506.6\"></path><path d=\"M 193.6 490.7 L 193.6 490.7\"></path><path d=\"M 193.6 474.9 L 193.6 474.9\"></path><path d=\"M 193.6 459.0 L 193.6 459.0\"></path><path d=\"M 193.6 443.1 L 193.6 443.1\"></path><path d=\"M 193.6 427.3 L 193.6 427.3\"></path><path d=\"M 193.6 411.4 L 193.6 411.4\"></path><path d=\"M 193.6 395.5 L 193.6 395.5\"></path><path d=\"M 193.6 379.6 L 193.6 379.6\"></path><path d=\"M 193.6 363.8 L 193.6 363.8\"></path><path d=\"M 193.6 347.9 L 193.6 347.9\"></path><path d=\"M 193.6 332.0 L 193.6 332.0\"></path><path d=\"M 193.6 316.2 L 193.6 316.2\"></path><path d=\"M 193.6 300.3 L 193.6 300.3\"></path><path d=\"M 193.6 284.4 L 193.6 284.4\"></path><path d=\"M 193.6 268.5 L 193.6 268.5\"></path><path d=\"M 193.6 252.7 L 193.6 252.7\"></path><path d=\"M 193.6 236.8 L 193.6 236.8\"></path><path d=\"M 193.6 220.9 L 193.6 220.9\"></path><path d=\"M 193.6 205.1 L 193.6 205.1\"></path><path d=\"M 193.6 189.2 L 193.6 189.2\"></path><path d=\"M 193.6 173.3 L 193.6 173.3\"></path><path d=\"M 193.6 157.4 L 193.6 157.4\"></path><path d=\"M 193.6 141.6 L 193.6 141.6\"></path><path d=\"M 193.6 125.7 L 193.6 125.7\"></path><path d=\"M 193.6 109.8 L 193.6 109.8\"></path><path d=\"M 193.6 94.0 L 193.6 94.0\"></path><path d=\"M 193.6 78.1 L 193.6 78.1\"></path><path d=\"M 193.6 62.2 L 193.6 62.2\"></path></g><g class=\"toytree-Nodes\" style=\"fill:rgb(40%,76.1%,64.7%);fill-opacity:1.0;stroke:None;stroke-width:1\"><g id=\"node-0\" transform=\"translate(193.595,855.777)\"><circle r=\"0.0\"></circle></g><g id=\"node-1\" transform=\"translate(193.595,839.906)\"><circle r=\"0.0\"></circle></g><g id=\"node-2\" transform=\"translate(193.595,824.034)\"><circle r=\"0.0\"></circle></g><g id=\"node-3\" transform=\"translate(193.595,808.163)\"><circle r=\"0.0\"></circle></g><g id=\"node-4\" transform=\"translate(193.595,792.292)\"><circle r=\"0.0\"></circle></g><g id=\"node-5\" transform=\"translate(193.595,776.421)\"><circle r=\"0.0\"></circle></g><g id=\"node-6\" transform=\"translate(193.595,760.550)\"><circle r=\"0.0\"></circle></g><g id=\"node-7\" transform=\"translate(193.595,744.679)\"><circle r=\"0.0\"></circle></g><g id=\"node-8\" transform=\"translate(193.595,728.808)\"><circle r=\"0.0\"></circle></g><g id=\"node-9\" transform=\"translate(193.595,712.937)\"><circle r=\"0.0\"></circle></g><g id=\"node-10\" transform=\"translate(193.595,697.066)\"><circle r=\"0.0\"></circle></g><g id=\"node-11\" transform=\"translate(193.595,681.195)\"><circle r=\"0.0\"></circle></g><g id=\"node-12\" transform=\"translate(193.595,665.324)\"><circle r=\"0.0\"></circle></g><g id=\"node-13\" transform=\"translate(193.595,649.453)\"><circle r=\"0.0\"></circle></g><g id=\"node-14\" transform=\"translate(193.595,633.582)\"><circle r=\"0.0\"></circle></g><g id=\"node-15\" transform=\"translate(193.595,617.711)\"><circle r=\"0.0\"></circle></g><g id=\"node-16\" transform=\"translate(193.595,601.840)\"><circle r=\"0.0\"></circle></g><g id=\"node-17\" transform=\"translate(193.595,585.969)\"><circle r=\"0.0\"></circle></g><g id=\"node-18\" transform=\"translate(193.595,570.097)\"><circle r=\"0.0\"></circle></g><g id=\"node-19\" transform=\"translate(193.595,554.226)\"><circle r=\"0.0\"></circle></g><g id=\"node-20\" transform=\"translate(193.595,538.355)\"><circle r=\"0.0\"></circle></g><g id=\"node-21\" transform=\"translate(193.595,522.484)\"><circle r=\"0.0\"></circle></g><g id=\"node-22\" transform=\"translate(193.595,506.613)\"><circle r=\"0.0\"></circle></g><g id=\"node-23\" transform=\"translate(193.595,490.742)\"><circle r=\"0.0\"></circle></g><g id=\"node-24\" transform=\"translate(193.595,474.871)\"><circle r=\"0.0\"></circle></g><g id=\"node-25\" transform=\"translate(193.595,459.000)\"><circle r=\"0.0\"></circle></g><g id=\"node-26\" transform=\"translate(193.595,443.129)\"><circle r=\"0.0\"></circle></g><g id=\"node-27\" transform=\"translate(193.595,427.258)\"><circle r=\"0.0\"></circle></g><g id=\"node-28\" transform=\"translate(193.595,411.387)\"><circle r=\"0.0\"></circle></g><g id=\"node-29\" transform=\"translate(193.595,395.516)\"><circle r=\"0.0\"></circle></g><g id=\"node-30\" transform=\"translate(193.595,379.645)\"><circle r=\"0.0\"></circle></g><g id=\"node-31\" transform=\"translate(193.595,363.774)\"><circle r=\"0.0\"></circle></g><g id=\"node-32\" transform=\"translate(193.595,347.903)\"><circle r=\"0.0\"></circle></g><g id=\"node-33\" transform=\"translate(193.595,332.031)\"><circle r=\"0.0\"></circle></g><g id=\"node-34\" transform=\"translate(193.595,316.160)\"><circle r=\"0.0\"></circle></g><g id=\"node-35\" transform=\"translate(193.595,300.289)\"><circle r=\"0.0\"></circle></g><g id=\"node-36\" transform=\"translate(193.595,284.418)\"><circle r=\"0.0\"></circle></g><g id=\"node-37\" transform=\"translate(193.595,268.547)\"><circle r=\"0.0\"></circle></g><g id=\"node-38\" transform=\"translate(193.595,252.676)\"><circle r=\"0.0\"></circle></g><g id=\"node-39\" transform=\"translate(193.595,236.805)\"><circle r=\"0.0\"></circle></g><g id=\"node-40\" transform=\"translate(193.595,220.934)\"><circle r=\"0.0\"></circle></g><g id=\"node-41\" transform=\"translate(193.595,205.063)\"><circle r=\"0.0\"></circle></g><g id=\"node-42\" transform=\"translate(193.595,189.192)\"><circle r=\"0.0\"></circle></g><g id=\"node-43\" transform=\"translate(193.595,173.321)\"><circle r=\"0.0\"></circle></g><g id=\"node-44\" transform=\"translate(193.595,157.450)\"><circle r=\"0.0\"></circle></g><g id=\"node-45\" transform=\"translate(193.595,141.579)\"><circle r=\"0.0\"></circle></g><g id=\"node-46\" transform=\"translate(193.595,125.708)\"><circle r=\"0.0\"></circle></g><g id=\"node-47\" transform=\"translate(193.595,109.837)\"><circle r=\"0.0\"></circle></g><g id=\"node-48\" transform=\"translate(193.595,93.966)\"><circle r=\"0.0\"></circle></g><g id=\"node-49\" transform=\"translate(193.595,78.094)\"><circle r=\"0.0\"></circle></g><g id=\"node-50\" transform=\"translate(193.595,62.223)\"><circle r=\"0.0\"></circle></g><g id=\"node-51\" transform=\"translate(164.876,816.099)\"><circle r=\"5.0\"></circle></g><g id=\"node-52\" transform=\"translate(164.876,736.744)\"><circle r=\"5.0\"></circle></g><g id=\"node-53\" transform=\"translate(164.876,697.066)\"><circle r=\"5.0\"></circle></g><g id=\"node-54\" transform=\"translate(164.876,681.195)\"><circle r=\"5.0\"></circle></g><g id=\"node-55\" transform=\"translate(164.876,665.324)\"><circle r=\"5.0\"></circle></g><g id=\"node-56\" transform=\"translate(164.876,649.453)\"><circle r=\"5.0\"></circle></g><g id=\"node-57\" transform=\"translate(164.876,633.582)\"><circle r=\"5.0\"></circle></g><g id=\"node-58\" transform=\"translate(164.876,617.711)\"><circle r=\"5.0\"></circle></g><g id=\"node-59\" transform=\"translate(164.876,593.904)\"><circle r=\"5.0\"></circle></g><g id=\"node-60\" transform=\"translate(164.876,570.097)\"><circle r=\"5.0\"></circle></g><g id=\"node-61\" transform=\"translate(164.876,554.226)\"><circle r=\"5.0\"></circle></g><g id=\"node-62\" transform=\"translate(164.876,538.355)\"><circle r=\"5.0\"></circle></g><g id=\"node-63\" transform=\"translate(164.876,522.484)\"><circle r=\"5.0\"></circle></g><g id=\"node-64\" transform=\"translate(164.876,506.613)\"><circle r=\"5.0\"></circle></g><g id=\"node-65\" transform=\"translate(164.876,474.871)\"><circle r=\"5.0\"></circle></g><g id=\"node-66\" transform=\"translate(164.876,435.193)\"><circle r=\"5.0\"></circle></g><g id=\"node-67\" transform=\"translate(164.876,403.451)\"><circle r=\"5.0\"></circle></g><g id=\"node-68\" transform=\"translate(164.876,363.774)\"><circle r=\"5.0\"></circle></g><g id=\"node-69\" transform=\"translate(164.876,324.096)\"><circle r=\"5.0\"></circle></g><g id=\"node-70\" transform=\"translate(164.876,300.289)\"><circle r=\"5.0\"></circle></g><g id=\"node-71\" transform=\"translate(164.876,284.418)\"><circle r=\"5.0\"></circle></g><g id=\"node-72\" transform=\"translate(164.876,268.547)\"><circle r=\"5.0\"></circle></g><g id=\"node-73\" transform=\"translate(164.876,228.870)\"><circle r=\"5.0\"></circle></g><g id=\"node-74\" transform=\"translate(164.876,181.256)\"><circle r=\"5.0\"></circle></g><g id=\"node-75\" transform=\"translate(164.876,157.450)\"><circle r=\"5.0\"></circle></g><g id=\"node-76\" transform=\"translate(164.876,141.579)\"><circle r=\"5.0\"></circle></g><g id=\"node-77\" transform=\"translate(164.876,101.901)\"><circle r=\"5.0\"></circle></g><g id=\"node-78\" transform=\"translate(164.876,62.223)\"><circle r=\"5.0\"></circle></g><g id=\"node-79\" transform=\"translate(136.157,776.421)\"><circle r=\"5.0\"></circle></g><g id=\"node-80\" transform=\"translate(136.157,673.259)\"><circle r=\"5.0\"></circle></g><g id=\"node-81\" transform=\"translate(136.157,633.582)\"><circle r=\"5.0\"></circle></g><g id=\"node-82\" transform=\"translate(136.157,617.711)\"><circle r=\"5.0\"></circle></g><g id=\"node-83\" transform=\"translate(136.157,564.146)\"><circle r=\"5.0\"></circle></g><g id=\"node-84\" transform=\"translate(136.157,514.549)\"><circle r=\"5.0\"></circle></g><g id=\"node-85\" transform=\"translate(136.157,437.839)\"><circle r=\"5.0\"></circle></g><g id=\"node-86\" transform=\"translate(136.157,343.935)\"><circle r=\"5.0\"></circle></g><g id=\"node-87\" transform=\"translate(136.157,300.289)\"><circle r=\"5.0\"></circle></g><g id=\"node-88\" transform=\"translate(136.157,284.418)\"><circle r=\"5.0\"></circle></g><g id=\"node-89\" transform=\"translate(136.157,268.547)\"><circle r=\"5.0\"></circle></g><g id=\"node-90\" transform=\"translate(136.157,177.289)\"><circle r=\"5.0\"></circle></g><g id=\"node-91\" transform=\"translate(136.157,101.901)\"><circle r=\"5.0\"></circle></g><g id=\"node-92\" transform=\"translate(136.157,62.223)\"><circle r=\"5.0\"></circle></g><g id=\"node-93\" transform=\"translate(107.438,675.243)\"><circle r=\"5.0\"></circle></g><g id=\"node-94\" transform=\"translate(107.438,539.347)\"><circle r=\"5.0\"></circle></g><g id=\"node-95\" transform=\"translate(107.438,327.006)\"><circle r=\"5.0\"></circle></g><g id=\"node-96\" transform=\"translate(107.438,113.804)\"><circle r=\"5.0\"></circle></g><g id=\"node-97\" transform=\"translate(78.719,607.295)\"><circle r=\"5.0\"></circle></g><g id=\"node-98\" transform=\"translate(78.719,327.006)\"><circle r=\"5.0\"></circle></g><g id=\"node-99\" transform=\"translate(78.719,113.804)\"><circle r=\"5.0\"></circle></g><g id=\"node-100\" transform=\"translate(50.000,349.368)\"><circle r=\"0.0\"></circle></g></g><g class=\"toytree-NodeLabels\" style=\"fill:rgb(14.9%,14.9%,14.9%);fill-opacity:1.0;font-size:9px;stroke:none\"><g transform=\"translate(150.50,818.40)\"><text>CD4+T</text></g><g transform=\"translate(150.50,739.04)\"><text>CD8+T</text></g><g transform=\"translate(147.37,699.37)\"><text>Plasma4</text></g><g transform=\"translate(144.37,683.49)\"><text>Follicular4</text></g><g transform=\"translate(155.62,667.62)\"><text>GC4</text></g><g transform=\"translate(144.62,651.75)\"><text>CyclingB4</text></g><g transform=\"translate(153.12,635.88)\"><text>ILCs4</text></g><g transform=\"translate(153.87,620.01)\"><text>NKs4</text></g><g transform=\"translate(156.13,596.20)\"><text>DCs</text></g><g transform=\"translate(125.87,572.40)\"><text>CyclingMonocytes4</text></g><g transform=\"translate(114.61,556.53)\"><text>InflammatoryMonocytes4</text></g><g transform=\"translate(135.11,540.65)\"><text>Macrophages4</text></g><g transform=\"translate(139.62,524.78)\"><text>CD69-Mast4</text></g><g transform=\"translate(138.49,508.91)\"><text>CD69+Mast4</text></g><g transform=\"translate(136.87,477.17)\"><text>Immaturecells</text></g><g transform=\"translate(120.61,437.49)\"><text>AbsorptiveMaturecells</text></g><g transform=\"translate(150.13,405.75)\"><text>TAcells</text></g><g transform=\"translate(122.62,366.07)\"><text>SecretoryMaturecells</text></g><g transform=\"translate(135.12,326.40)\"><text>Progenitorcells</text></g><g transform=\"translate(149.63,302.59)\"><text>Mcells4</text></g><g transform=\"translate(151.87,286.72)\"><text>Stem4</text></g><g transform=\"translate(141.87,270.85)\"><text>CyclingTA4</text></g><g transform=\"translate(146.50,231.17)\"><text>WNT2B+</text></g><g transform=\"translate(146.50,183.56)\"><text>WNT5B+</text></g><g transform=\"translate(135.62,159.75)\"><text>Myofibroblast4</text></g><g transform=\"translate(116.61,143.88)\"><text>InflammatoryFibroblast4</text></g><g transform=\"translate(132.62,104.20)\"><text>EndothelialCells</text></g><g transform=\"translate(154.37,64.52)\"><text>Glia4</text></g><g transform=\"translate(124.41,778.72)\"><text>Tcells</text></g><g transform=\"translate(124.16,675.56)\"><text>Bcells</text></g><g transform=\"translate(124.40,635.88)\"><text>ILCs3</text></g><g transform=\"translate(125.15,620.01)\"><text>NKs3</text></g><g transform=\"translate(114.40,566.45)\"><text>Monocytes</text></g><g transform=\"translate(126.41,516.85)\"><text>Mast</text></g><g transform=\"translate(114.90,440.14)\"><text>Absorptive</text></g><g transform=\"translate(116.90,346.23)\"><text>Secretory</text></g><g transform=\"translate(120.91,302.59)\"><text>Mcells3</text></g><g transform=\"translate(123.15,286.72)\"><text>Stem3</text></g><g transform=\"translate(113.15,270.85)\"><text>CyclingTA3</text></g><g transform=\"translate(114.15,179.59)\"><text>Fibroblasts</text></g><g transform=\"translate(111.39,104.20)\"><text>Endothelial3</text></g><g transform=\"translate(125.65,64.52)\"><text>Glia3</text></g><g transform=\"translate(87.93,677.54)\"><text>Lymphoid</text></g><g transform=\"translate(91.94,541.65)\"><text>Myeloid</text></g><g transform=\"translate(89.18,329.31)\"><text>Epithelial</text></g><g transform=\"translate(91.94,116.10)\"><text>Stromal</text></g><g transform=\"translate(62.47,609.59)\"><text>Immune</text></g><g transform=\"translate(60.46,329.31)\"><text>Epithelial</text></g><g transform=\"translate(63.22,116.10)\"><text>Stromal</text></g></g><g class=\"toytree-TipLabels\" style=\"fill:rgb(14.9%,14.9%,14.9%);fill-opacity:1.0;font-family:helvetica;font-size:11px;font-weight:normal;stroke:none;white-space:pre\"><g transform=\"translate(193.60,855.78)rotate(0)\"><text x=\"15.00\" y=\"2.81\" style=\"\">Tregs</text></g><g transform=\"translate(193.60,839.91)rotate(0)\"><text x=\"15.00\" y=\"2.81\" style=\"\">MT-hi</text></g><g transform=\"translate(193.60,824.03)rotate(0)\"><text x=\"15.00\" y=\"2.81\" style=\"\">CD4+ActivatedFos-hi</text></g><g transform=\"translate(193.60,808.16)rotate(0)\"><text x=\"15.00\" y=\"2.81\" style=\"\">CD4+PD1+</text></g><g transform=\"translate(193.60,792.29)rotate(0)\"><text x=\"15.00\" y=\"2.81\" style=\"\">CD4+ActivatedFos-lo</text></g><g transform=\"translate(193.60,776.42)rotate(0)\"><text x=\"15.00\" y=\"2.81\" style=\"\">CD4+Memory</text></g><g transform=\"translate(193.60,760.55)rotate(0)\"><text x=\"15.00\" y=\"2.81\" style=\"\">CD8+IL17+</text></g><g transform=\"translate(193.60,744.68)rotate(0)\"><text x=\"15.00\" y=\"2.81\" style=\"\">CyclingT</text></g><g transform=\"translate(193.60,728.81)rotate(0)\"><text x=\"15.00\" y=\"2.81\" style=\"\">CD8+LP</text></g><g transform=\"translate(193.60,712.94)rotate(0)\"><text x=\"15.00\" y=\"2.81\" style=\"\">CD8+IELs</text></g><g transform=\"translate(193.60,697.07)rotate(0)\"><text x=\"15.00\" y=\"2.81\" style=\"\">Plasma</text></g><g transform=\"translate(193.60,681.19)rotate(0)\"><text x=\"15.00\" y=\"2.81\" style=\"\">Follicular</text></g><g transform=\"translate(193.60,665.32)rotate(0)\"><text x=\"15.00\" y=\"2.81\" style=\"\">GC</text></g><g transform=\"translate(193.60,649.45)rotate(0)\"><text x=\"15.00\" y=\"2.81\" style=\"\">CyclingB</text></g><g transform=\"translate(193.60,633.58)rotate(0)\"><text x=\"15.00\" y=\"2.81\" style=\"\">ILCs</text></g><g transform=\"translate(193.60,617.71)rotate(0)\"><text x=\"15.00\" y=\"2.81\" style=\"\">NKs</text></g><g transform=\"translate(193.60,601.84)rotate(0)\"><text x=\"15.00\" y=\"2.81\" style=\"\">DC1</text></g><g transform=\"translate(193.60,585.97)rotate(0)\"><text x=\"15.00\" y=\"2.81\" style=\"\">DC2</text></g><g transform=\"translate(193.60,570.10)rotate(0)\"><text x=\"15.00\" y=\"2.81\" style=\"\">CyclingMonocytes</text></g><g transform=\"translate(193.60,554.23)rotate(0)\"><text x=\"15.00\" y=\"2.81\" style=\"\">InflammatoryMonocytes</text></g><g transform=\"translate(193.60,538.36)rotate(0)\"><text x=\"15.00\" y=\"2.81\" style=\"\">Macrophages</text></g><g transform=\"translate(193.60,522.48)rotate(0)\"><text x=\"15.00\" y=\"2.81\" style=\"\">CD69-Mast</text></g><g transform=\"translate(193.60,506.61)rotate(0)\"><text x=\"15.00\" y=\"2.81\" style=\"\">CD69+Mast</text></g><g transform=\"translate(193.60,490.74)rotate(0)\"><text x=\"15.00\" y=\"2.81\" style=\"\">ImmatureEnterocytes1</text></g><g transform=\"translate(193.60,474.87)rotate(0)\"><text x=\"15.00\" y=\"2.81\" style=\"\">ImmatureEnterocytes2</text></g><g transform=\"translate(193.60,459.00)rotate(0)\"><text x=\"15.00\" y=\"2.81\" style=\"\">EnterocyteProgenitors</text></g><g transform=\"translate(193.60,443.13)rotate(0)\"><text x=\"15.00\" y=\"2.81\" style=\"\">Enterocytes</text></g><g transform=\"translate(193.60,427.26)rotate(0)\"><text x=\"15.00\" y=\"2.81\" style=\"\">Best4+Enterocytes</text></g><g transform=\"translate(193.60,411.39)rotate(0)\"><text x=\"15.00\" y=\"2.81\" style=\"\">TA2</text></g><g transform=\"translate(193.60,395.52)rotate(0)\"><text x=\"15.00\" y=\"2.81\" style=\"\">TA1</text></g><g transform=\"translate(193.60,379.64)rotate(0)\"><text x=\"15.00\" y=\"2.81\" style=\"\">Tuft</text></g><g transform=\"translate(193.60,363.77)rotate(0)\"><text x=\"15.00\" y=\"2.81\" style=\"\">Goblet</text></g><g transform=\"translate(193.60,347.90)rotate(0)\"><text x=\"15.00\" y=\"2.81\" style=\"\">Enteroendocrine</text></g><g transform=\"translate(193.60,332.03)rotate(0)\"><text x=\"15.00\" y=\"2.81\" style=\"\">SecretoryTA</text></g><g transform=\"translate(193.60,316.16)rotate(0)\"><text x=\"15.00\" y=\"2.81\" style=\"\">ImmatureGoblet</text></g><g transform=\"translate(193.60,300.29)rotate(0)\"><text x=\"15.00\" y=\"2.81\" style=\"\">Mcells</text></g><g transform=\"translate(193.60,284.42)rotate(0)\"><text x=\"15.00\" y=\"2.81\" style=\"\">Stem</text></g><g transform=\"translate(193.60,268.55)rotate(0)\"><text x=\"15.00\" y=\"2.81\" style=\"\">CyclingTA</text></g><g transform=\"translate(193.60,252.68)rotate(0)\"><text x=\"15.00\" y=\"2.81\" style=\"\">WNT2B+Fos-lo2</text></g><g transform=\"translate(193.60,236.81)rotate(0)\"><text x=\"15.00\" y=\"2.81\" style=\"\">RSPO3+</text></g><g transform=\"translate(193.60,220.93)rotate(0)\"><text x=\"15.00\" y=\"2.81\" style=\"\">WNT2B+Fos-lo1</text></g><g transform=\"translate(193.60,205.06)rotate(0)\"><text x=\"15.00\" y=\"2.81\" style=\"\">WNT2B+Fos-hi</text></g><g transform=\"translate(193.60,189.19)rotate(0)\"><text x=\"15.00\" y=\"2.81\" style=\"\">WNT5B+1</text></g><g transform=\"translate(193.60,173.32)rotate(0)\"><text x=\"15.00\" y=\"2.81\" style=\"\">WNT5B+2</text></g><g transform=\"translate(193.60,157.45)rotate(0)\"><text x=\"15.00\" y=\"2.81\" style=\"\">Myofibroblasts</text></g><g transform=\"translate(193.60,141.58)rotate(0)\"><text x=\"15.00\" y=\"2.81\" style=\"\">InflammatoryFibroblasts</text></g><g transform=\"translate(193.60,125.71)rotate(0)\"><text x=\"15.00\" y=\"2.81\" style=\"\">Post-capillaryVenules</text></g><g transform=\"translate(193.60,109.84)rotate(0)\"><text x=\"15.00\" y=\"2.81\" style=\"\">Endothelial</text></g><g transform=\"translate(193.60,93.97)rotate(0)\"><text x=\"15.00\" y=\"2.81\" style=\"\">Microvascular</text></g><g transform=\"translate(193.60,78.09)rotate(0)\"><text x=\"15.00\" y=\"2.81\" style=\"\">Pericytes</text></g><g transform=\"translate(193.60,62.22)rotate(0)\"><text x=\"15.00\" y=\"2.81\" style=\"\">Glia</text></g></g></g></g></g></svg><div class=\"toyplot-behavior\"><script>(function()\n{\nvar modules={};\n})();</script></div></div>"
     },
     "metadata": {},
     "output_type": "display_data"
    }
   ],
   "source": [
    "# prepare datasets\n",
    "\n",
    "data_path = '../../../tascCODA_data/applications/smillie_UC/SCP259/metadata/'\n",
    "meta = pd.read_csv(data_path + 'meta_processed.csv')\n",
    "meta[\"Cluster\"] = [str.replace(x, \" \", \"\") for x in meta[\"Cluster\"]]\n",
    "meta\n",
    "\n",
    "vars = meta.groupby(\"Cluster\").agg({\n",
    "    \"Major_l1\": \"first\",\n",
    "    \"Major_l2\": \"first\",\n",
    "    \"Major_l3\": \"first\",\n",
    "    \"Major_l4\": \"first\",\n",
    "})\n",
    "\n",
    "tree_levels = [\"Major_l1\", \"Major_l2\", \"Major_l3\", \"Major_l4\", \"Cluster\"]\n",
    "newick = util.df2newick(meta.loc[:, tree_levels].reset_index(drop=True), tree_levels)\n",
    "\n",
    "print(newick)\n",
    "tree = tt.tree(newick=newick, tree_format=8)\n",
    "tree.draw(tip_labels_align=True, node_sizes=10, node_labels='name')\n",
    "\n",
    "counts = pd.crosstab(\n",
    "    [meta[\"Sample\"], meta[\"Subject\"], meta[\"Location\"], meta[\"Health\"], meta[\"Replicate\"]],\n",
    "    meta[\"Cluster\"])\n",
    "obs = pd.DataFrame(index=counts.index).reset_index()\n",
    "counts = counts.reset_index(drop=True)\n",
    "\n",
    "data = ad.AnnData(X=counts, var=vars, obs=obs, uns={\"newick\": newick, \"phylo_tree\": tree})\n",
    "data_epi = data[data.obs[\"Location\"] == \"Epi\"]\n",
    "data_lp = data[data.obs[\"Location\"] == \"LP\"]\n",
    "all_data = {\"all\": data, \"epi\": data_epi, \"LP\": data_lp}\n",
    "\n",
    "data_epi_hn = data_epi[data_epi.obs[\"Health\"].isin([\"Healthy\", \"Non-inflamed\"])]\n",
    "data_epi_hi = data_epi[data_epi.obs[\"Health\"].isin([\"Healthy\", \"Inflamed\"])]\n",
    "data_epi_ni = data_epi[data_epi.obs[\"Health\"].isin([\"Non-inflamed\", \"Inflamed\"])]\n",
    "\n",
    "data_LP_hn = data_lp[data_lp.obs[\"Health\"].isin([\"Healthy\", \"Non-inflamed\"])]\n",
    "data_LP_hi = data_lp[data_lp.obs[\"Health\"].isin([\"Healthy\", \"Inflamed\"])]\n",
    "data_LP_ni = data_lp[data_lp.obs[\"Health\"].isin([\"Non-inflamed\", \"Inflamed\"])]\n",
    "\n",
    "datasets = {\n",
    "    \"epi_hn\": data_epi_hn,\n",
    "    \"epi_hi\": data_epi_hi,\n",
    "    \"epi_ni\": data_epi_ni,\n",
    "    \"LP_hn\": data_LP_hn,\n",
    "    \"LP_hi\": data_LP_hi,\n",
    "    \"LP_ni\": data_LP_ni,\n",
    "}"
   ],
   "metadata": {
    "collapsed": false,
    "pycharm": {
     "name": "#%%\n"
    }
   }
  },
  {
   "cell_type": "code",
   "execution_count": 18,
   "outputs": [],
   "source": [
    "# read scCODA and Dirihclet regression data\n",
    "results_dr = {}\n",
    "for name in os.listdir(\"../../../tascCODA_data/applications/smillie_UC/results_dr\"):\n",
    "    results_dr[name] = pd.read_csv(\"../../../tascCODA_data/applications/smillie_UC/results_dr\" + f\"/{name}\")\n",
    "\n",
    "results_sccoda = {}\n",
    "for name in os.listdir(\"../../../tascCODA_data/applications/smillie_UC/results_sccoda\"):\n",
    "    results_sccoda[name] = pd.read_csv(\"../../../tascCODA_data/applications/smillie_UC/results_sccoda\" + f\"/{name}\")"
   ],
   "metadata": {
    "collapsed": false,
    "pycharm": {
     "name": "#%%\n"
    }
   }
  },
  {
   "cell_type": "markdown",
   "source": [
    "Split each dataset into 5 folds (seeded)"
   ],
   "metadata": {
    "collapsed": false,
    "pycharm": {
     "name": "#%% md\n"
    }
   }
  },
  {
   "cell_type": "code",
   "execution_count": 19,
   "outputs": [
    {
     "name": "stdout",
     "output_type": "stream",
     "text": [
      "(AnnData object with n_obs × n_vars = 38 × 51\n",
      "    obs: 'Sample', 'Subject', 'Location', 'Health', 'Replicate'\n",
      "    var: 'Major_l1', 'Major_l2', 'Major_l3', 'Major_l4'\n",
      "    uns: 'newick', 'phylo_tree', AnnData object with n_obs × n_vars = 10 × 51\n",
      "    obs: 'Sample', 'Subject', 'Location', 'Health', 'Replicate'\n",
      "    var: 'Major_l1', 'Major_l2', 'Major_l3', 'Major_l4'\n",
      "    uns: 'newick', 'phylo_tree')\n"
     ]
    }
   ],
   "source": [
    "n_folds = 5\n",
    "fold_data = {}\n",
    "\n",
    "for name, data in datasets.items():\n",
    "    kf = KFold(n_splits=n_folds, random_state=1234, shuffle=True)\n",
    "    c = 0\n",
    "    for train_index, test_index in kf.split(data.X):\n",
    "\n",
    "        fold_data[(name, c)] = (data[train_index].copy(), data[test_index].copy())\n",
    "        c += 1\n",
    "\n",
    "print(fold_data[(\"LP_ni\", 2)])"
   ],
   "metadata": {
    "collapsed": false,
    "pycharm": {
     "name": "#%%\n"
    }
   }
  },
  {
   "cell_type": "markdown",
   "source": [
    "Run scCODA"
   ],
   "metadata": {
    "collapsed": false,
    "pycharm": {
     "name": "#%% md\n"
    }
   }
  },
  {
   "cell_type": "code",
   "execution_count": 48,
   "outputs": [
    {
     "name": "stdout",
     "output_type": "stream",
     "text": [
      "epi_ni\n",
      "Automatic reference selection! Reference cell type set to ImmatureGoblet\n",
      "Zero counts encountered in data! Added a pseudocount of 0.5.\n"
     ]
    },
    {
     "name": "stderr",
     "output_type": "stream",
     "text": [
      "/Users/johannes.ostner/Documents/PhD/scCODA/scCODA/sccoda/util/comp_ana.py:89: RuntimeWarning: invalid value encountered in true_divide\n",
      "  cell_type_disp = np.var(rel_abun, axis=0)/np.mean(rel_abun, axis=0)\n",
      "100%|██████████| 20000/20000 [02:01<00:00, 164.03it/s]\n"
     ]
    },
    {
     "name": "stdout",
     "output_type": "stream",
     "text": [
      "MCMC sampling finished. (159.331 sec)\n",
      "Acceptance rate: 51.3%\n"
     ]
    },
    {
     "name": "stderr",
     "output_type": "stream",
     "text": [
      "/Users/johannes.ostner/Documents/PhD/scCODA/scCODA/sccoda/util/result_classes.py:252: RuntimeWarning: Mean of empty slice.\n",
      "  beta_nonzero_mean.append(beta_i_raw[beta_i_raw_nonzero].mean())\n",
      "/Users/johannes.ostner/opt/anaconda3/envs/scCODA_3/lib/python3.8/site-packages/numpy/core/_methods.py:170: RuntimeWarning: invalid value encountered in double_scalars\n",
      "  ret = ret.dtype.type(ret / rcount)\n",
      "/Users/johannes.ostner/Documents/PhD/scCODA/scCODA/sccoda/util/comp_ana.py:89: RuntimeWarning: invalid value encountered in true_divide\n",
      "  cell_type_disp = np.var(rel_abun, axis=0)/np.mean(rel_abun, axis=0)\n"
     ]
    },
    {
     "name": "stdout",
     "output_type": "stream",
     "text": [
      "Automatic reference selection! Reference cell type set to ImmatureGoblet\n",
      "Zero counts encountered in data! Added a pseudocount of 0.5.\n"
     ]
    },
    {
     "name": "stderr",
     "output_type": "stream",
     "text": [
      "100%|██████████| 20000/20000 [02:00<00:00, 166.39it/s]\n"
     ]
    },
    {
     "name": "stdout",
     "output_type": "stream",
     "text": [
      "MCMC sampling finished. (157.305 sec)\n",
      "Acceptance rate: 64.3%\n"
     ]
    },
    {
     "name": "stderr",
     "output_type": "stream",
     "text": [
      "/Users/johannes.ostner/Documents/PhD/scCODA/scCODA/sccoda/util/result_classes.py:252: RuntimeWarning: Mean of empty slice.\n",
      "  beta_nonzero_mean.append(beta_i_raw[beta_i_raw_nonzero].mean())\n",
      "/Users/johannes.ostner/opt/anaconda3/envs/scCODA_3/lib/python3.8/site-packages/numpy/core/_methods.py:170: RuntimeWarning: invalid value encountered in double_scalars\n",
      "  ret = ret.dtype.type(ret / rcount)\n",
      "/Users/johannes.ostner/Documents/PhD/scCODA/scCODA/sccoda/util/comp_ana.py:89: RuntimeWarning: invalid value encountered in true_divide\n",
      "  cell_type_disp = np.var(rel_abun, axis=0)/np.mean(rel_abun, axis=0)\n"
     ]
    },
    {
     "name": "stdout",
     "output_type": "stream",
     "text": [
      "Automatic reference selection! Reference cell type set to ImmatureGoblet\n",
      "Zero counts encountered in data! Added a pseudocount of 0.5.\n"
     ]
    },
    {
     "name": "stderr",
     "output_type": "stream",
     "text": [
      "100%|██████████| 20000/20000 [02:04<00:00, 160.14it/s]\n"
     ]
    },
    {
     "name": "stdout",
     "output_type": "stream",
     "text": [
      "MCMC sampling finished. (161.385 sec)\n",
      "Acceptance rate: 45.4%\n"
     ]
    },
    {
     "name": "stderr",
     "output_type": "stream",
     "text": [
      "/Users/johannes.ostner/Documents/PhD/scCODA/scCODA/sccoda/util/result_classes.py:252: RuntimeWarning: Mean of empty slice.\n",
      "  beta_nonzero_mean.append(beta_i_raw[beta_i_raw_nonzero].mean())\n",
      "/Users/johannes.ostner/opt/anaconda3/envs/scCODA_3/lib/python3.8/site-packages/numpy/core/_methods.py:170: RuntimeWarning: invalid value encountered in double_scalars\n",
      "  ret = ret.dtype.type(ret / rcount)\n",
      "/Users/johannes.ostner/Documents/PhD/scCODA/scCODA/sccoda/util/comp_ana.py:89: RuntimeWarning: invalid value encountered in true_divide\n",
      "  cell_type_disp = np.var(rel_abun, axis=0)/np.mean(rel_abun, axis=0)\n"
     ]
    },
    {
     "name": "stdout",
     "output_type": "stream",
     "text": [
      "Automatic reference selection! Reference cell type set to ImmatureGoblet\n",
      "Zero counts encountered in data! Added a pseudocount of 0.5.\n"
     ]
    },
    {
     "name": "stderr",
     "output_type": "stream",
     "text": [
      "100%|██████████| 20000/20000 [02:01<00:00, 164.31it/s]\n"
     ]
    },
    {
     "name": "stdout",
     "output_type": "stream",
     "text": [
      "MCMC sampling finished. (164.869 sec)\n",
      "Acceptance rate: 64.9%\n"
     ]
    },
    {
     "name": "stderr",
     "output_type": "stream",
     "text": [
      "/Users/johannes.ostner/Documents/PhD/scCODA/scCODA/sccoda/util/result_classes.py:252: RuntimeWarning: Mean of empty slice.\n",
      "  beta_nonzero_mean.append(beta_i_raw[beta_i_raw_nonzero].mean())\n",
      "/Users/johannes.ostner/opt/anaconda3/envs/scCODA_3/lib/python3.8/site-packages/numpy/core/_methods.py:170: RuntimeWarning: invalid value encountered in double_scalars\n",
      "  ret = ret.dtype.type(ret / rcount)\n",
      "/Users/johannes.ostner/Documents/PhD/scCODA/scCODA/sccoda/util/comp_ana.py:89: RuntimeWarning: invalid value encountered in true_divide\n",
      "  cell_type_disp = np.var(rel_abun, axis=0)/np.mean(rel_abun, axis=0)\n"
     ]
    },
    {
     "name": "stdout",
     "output_type": "stream",
     "text": [
      "Automatic reference selection! Reference cell type set to ImmatureGoblet\n",
      "Zero counts encountered in data! Added a pseudocount of 0.5.\n"
     ]
    },
    {
     "name": "stderr",
     "output_type": "stream",
     "text": [
      "100%|██████████| 20000/20000 [02:13<00:00, 149.96it/s]\n"
     ]
    },
    {
     "name": "stdout",
     "output_type": "stream",
     "text": [
      "MCMC sampling finished. (171.121 sec)\n",
      "Acceptance rate: 42.1%\n"
     ]
    },
    {
     "name": "stderr",
     "output_type": "stream",
     "text": [
      "/Users/johannes.ostner/Documents/PhD/scCODA/scCODA/sccoda/util/result_classes.py:252: RuntimeWarning: Mean of empty slice.\n",
      "  beta_nonzero_mean.append(beta_i_raw[beta_i_raw_nonzero].mean())\n",
      "/Users/johannes.ostner/opt/anaconda3/envs/scCODA_3/lib/python3.8/site-packages/numpy/core/_methods.py:170: RuntimeWarning: invalid value encountered in double_scalars\n",
      "  ret = ret.dtype.type(ret / rcount)\n"
     ]
    }
   ],
   "source": [
    "for name in datasets.keys():\n",
    "    print(name)\n",
    "    res_sccoda = {}\n",
    "\n",
    "    file_name = f\"oos_sccoda_{name}_n_20000.pkl\"\n",
    "\n",
    "    for split in range(n_folds):\n",
    "        train_data, test_data = fold_data[(name, split)]\n",
    "\n",
    "        sccoda_mod = ana2.CompositionalAnalysis(train_data.copy(), \"Health\", \"automatic\")\n",
    "        sccoda_res = sccoda_mod.sample_hmc(num_results=20000, num_burnin=5000)\n",
    "        res_sccoda[split] = (sccoda_res.intercept_df, sccoda_res.effect_df)\n",
    "\n",
    "    with open(f\"../../../tascCODA_data/applications/smillie_UC/out_of_sample/{file_name}\", \"wb\") as f:\n",
    "        pkl.dump(res_sccoda, f)"
   ],
   "metadata": {
    "collapsed": false,
    "pycharm": {
     "name": "#%%\n"
    }
   }
  },
  {
   "cell_type": "markdown",
   "source": [
    "Run tascCODA"
   ],
   "metadata": {
    "collapsed": false,
    "pycharm": {
     "name": "#%% md\n"
    }
   }
  },
  {
   "cell_type": "code",
   "execution_count": 20,
   "outputs": [],
   "source": [
    "phis = [-5, -1, 0, 1, 5]"
   ],
   "metadata": {
    "collapsed": false,
    "pycharm": {
     "name": "#%%\n"
    }
   }
  },
  {
   "cell_type": "code",
   "execution_count": null,
   "outputs": [],
   "source": [
    "for p in phis:\n",
    "    for name in datasets.keys():\n",
    "        print(name)\n",
    "        res_tree = {}\n",
    "\n",
    "        file_name = f\"oos_tasccoda_{name}_phi_{p}_n_20000.pkl\"\n",
    "\n",
    "        for split in range(n_folds):\n",
    "            train_data, test_data = fold_data[(name, split)]\n",
    "\n",
    "            tree_mod= ana.CompositionalAnalysisTree(\n",
    "                train_data.copy().copy(),\n",
    "                reference_cell_type=\"automatic\",\n",
    "                formula=\"Health\",\n",
    "                reg=\"scaled_3\",\n",
    "                pen_args={\"lambda_0\": 50, \"phi\": p, \"lambda_1\": 5},\n",
    "                model=\"new\"\n",
    "            )\n",
    "\n",
    "            tree_res = tree_mod.sample_hmc_da(num_results=20000, num_burnin=int(20000/4))\n",
    "\n",
    "            res_tree[split] = (tree_res.intercept_df, tree_res.effect_df, tree_res.node_df)\n",
    "\n",
    "        with open(f\"../../../tascCODA_data/applications/smillie_UC/out_of_sample/{file_name}\", \"wb\") as f:\n",
    "            pkl.dump(res_tree, f)"
   ],
   "metadata": {
    "collapsed": false,
    "pycharm": {
     "name": "#%%\n"
    }
   }
  },
  {
   "cell_type": "markdown",
   "source": [
    "Out-of-sample prediction for scCODA"
   ],
   "metadata": {
    "collapsed": false,
    "pycharm": {
     "name": "#%% md\n"
    }
   }
  },
  {
   "cell_type": "code",
   "execution_count": 21,
   "outputs": [
    {
     "name": "stdout",
     "output_type": "stream",
     "text": [
      "epi_hn\n",
      "epi_hi\n",
      "epi_ni\n",
      "LP_hn\n",
      "LP_hi\n",
      "LP_ni\n"
     ]
    }
   ],
   "source": [
    "# Out-of-sample predictions for scCODA\n",
    "post_control_samples = pd.DataFrame(columns=[\"Cell type\", \"dataset\", \"phi\", \"model\", \"count\", \"type\"])\n",
    "post_case_samples = pd.DataFrame(columns=[\"Cell type\", \"dataset\", \"phi\", \"model\", \"count\", \"type\"])\n",
    "post_effects = pd.DataFrame(columns=[\"Cell type\", \"dataset\", \"phi\", \"model\", \"effect\"])\n",
    "\n",
    "mlses = []\n",
    "ps = []\n",
    "names = []\n",
    "models = []\n",
    "splits = []\n",
    "num_effects = []\n",
    "\n",
    "for name in datasets.keys():\n",
    "    print(name)\n",
    "\n",
    "    file_name = f\"../../../tascCODA_data/applications/smillie_UC/out_of_sample/oos_sccoda_{name}_n_20000.pkl\"\n",
    "    with open(file_name, \"rb\") as f:\n",
    "        results_sccoda = pkl.load(f)\n",
    "\n",
    "    if name in [\"epi_hn\", \"LP_hn\"]:\n",
    "        a = \"Healthy\"\n",
    "        b = \"Non-inflamed\"\n",
    "    elif name in [\"epi_hi\", \"LP_hi\"]:\n",
    "        a = \"Healthy\"\n",
    "        b = \"Inflamed\"\n",
    "    if name in [\"epi_ni\", \"LP_ni\"]:\n",
    "        a = \"Non-inflamed\"\n",
    "        b = \"Inflamed\"\n",
    "\n",
    "    cell_types = datasets[name].var.index\n",
    "\n",
    "    for split in range(n_folds):\n",
    "\n",
    "        post_mean_control_sccoda = np.array([results_sccoda[split][0].loc[i, \"Expected Sample\"] for i in cell_types])\n",
    "        edf_sccoda = results_sccoda[split][1].copy()\n",
    "        edf_sccoda.index = edf_sccoda.index.droplevel(0)\n",
    "        post_mean_case_sccoda = np.array([edf_sccoda.loc[i, \"Expected Sample\"] for i in cell_types])\n",
    "        pms = np.array([\n",
    "            post_mean_control_sccoda if h == a else post_mean_case_sccoda if h == b else [] for h in datasets[name].obs[\"Health\"]\n",
    "        ])\n",
    "\n",
    "        lse_sccoda = np.sum((np.log(datasets[name].X+1) - np.log(pms+1))**2, axis=1)\n",
    "        mlse_sccoda = np.mean(lse_sccoda).tolist()\n",
    "\n",
    "        num_effects_sccoda = len(edf_sccoda[edf_sccoda[\"Final Parameter\"] != 0])\n",
    "        num_effects.append(num_effects_sccoda)\n",
    "\n",
    "        mlses.append(mlse_sccoda)\n",
    "        ps.append(0)\n",
    "        names.append(name)\n",
    "        models.append(\"scCODA\")\n",
    "        splits.append(split)\n",
    "\n",
    "        mean_sample_control = np.mean(datasets[name].X[datasets[name].obs[\"Health\"] == a, :], axis=0)\n",
    "        mean_sample_case = np.mean(datasets[name].X[datasets[name].obs[\"Health\"] == b, :], axis=0)\n",
    "\n",
    "        post_control_samples = post_control_samples.append(pd.DataFrame({\n",
    "            \"Cell type\": cell_types,\n",
    "            \"dataset\": name,\n",
    "            \"phi\": 0,\n",
    "            \"model\": \"scCODA\",\n",
    "            \"count\": post_mean_control_sccoda,\n",
    "            \"type\": \"control\",\n",
    "            \"split\": split\n",
    "        }))\n",
    "        post_control_samples = post_control_samples.append(pd.DataFrame({\n",
    "            \"Cell type\": cell_types,\n",
    "            \"dataset\": name,\n",
    "            \"phi\": 0,\n",
    "            \"model\": \"data\",\n",
    "            \"count\": mean_sample_control,\n",
    "            \"type\": \"control\",\n",
    "            \"split\": split\n",
    "\n",
    "        }))\n",
    "\n",
    "        post_case_samples = post_case_samples.append(pd.DataFrame({\n",
    "            \"Cell type\": cell_types,\n",
    "            \"dataset\": name,\n",
    "            \"phi\": 0,\n",
    "            \"model\": \"scCODA\",\n",
    "            \"count\": post_mean_case_sccoda,\n",
    "            \"type\": \"case\",\n",
    "            \"split\": split\n",
    "            }))\n",
    "        post_case_samples = post_case_samples.append(pd.DataFrame({\n",
    "            \"Cell type\": cell_types,\n",
    "            \"dataset\": name,\n",
    "            \"phi\": 0,\n",
    "            \"model\": \"data\",\n",
    "            \"count\": mean_sample_case,\n",
    "            \"type\": \"case\",\n",
    "            \"split\": split\n",
    "        }))\n",
    "\n",
    "        post_effects = post_effects.append(pd.DataFrame({\n",
    "            \"Cell type\": cell_types,\n",
    "            \"dataset\": name,\n",
    "            \"phi\": 0,\n",
    "            \"model\": \"scCODA\",\n",
    "            \"effect\": np.array([edf_sccoda.loc[i, \"Final Parameter\"] for i in cell_types]),\n",
    "            \"split\": split\n",
    "        }))\n",
    "\n",
    "\n",
    "mse_df = pd.DataFrame({\"phi\": ps, \"name\": names, \"mlse\": mlses, \"model\": models, \"split\":splits, \"num_effects\": num_effects})"
   ],
   "metadata": {
    "collapsed": false,
    "pycharm": {
     "name": "#%%\n"
    }
   }
  },
  {
   "cell_type": "markdown",
   "source": [
    "Out-of-sample prediction for tascCODA\n"
   ],
   "metadata": {
    "collapsed": false
   }
  },
  {
   "cell_type": "code",
   "execution_count": 22,
   "outputs": [
    {
     "name": "stdout",
     "output_type": "stream",
     "text": [
      "-5\n",
      "epi_hn\n",
      "epi_hi\n",
      "epi_ni\n",
      "LP_hn\n",
      "LP_hi\n",
      "LP_ni\n",
      "-1\n",
      "epi_hn\n",
      "epi_hi\n",
      "epi_ni\n",
      "LP_hn\n",
      "LP_hi\n",
      "LP_ni\n",
      "0\n",
      "epi_hn\n",
      "epi_hi\n",
      "epi_ni\n",
      "LP_hn\n",
      "LP_hi\n",
      "LP_ni\n",
      "1\n",
      "epi_hn\n",
      "epi_hi\n",
      "epi_ni\n",
      "LP_hn\n",
      "LP_hi\n",
      "LP_ni\n",
      "5\n",
      "epi_hn\n",
      "epi_hi\n",
      "epi_ni\n",
      "LP_hn\n",
      "LP_hi\n",
      "LP_ni\n"
     ]
    }
   ],
   "source": [
    "# same for tascCODA\n",
    "\n",
    "mlses = []\n",
    "ps = []\n",
    "names = []\n",
    "models = []\n",
    "splits = []\n",
    "num_effects = []\n",
    "\n",
    "for p in phis:\n",
    "    print(p)\n",
    "\n",
    "    for name in datasets.keys():\n",
    "        print(name)\n",
    "\n",
    "        file_name = f\"../../../tascCODA_data/applications/smillie_UC/out_of_sample/oos_tasccoda_{name}_phi_{p}_n_20000.pkl\"\n",
    "        with open(file_name, \"rb\") as f:\n",
    "            results_tasccoda = pkl.load(f)\n",
    "\n",
    "        if name in [\"epi_hn\", \"LP_hn\"]:\n",
    "            a = \"Healthy\"\n",
    "            b = \"Non-inflamed\"\n",
    "        elif name in [\"epi_hi\", \"LP_hi\"]:\n",
    "            a = \"Healthy\"\n",
    "            b = \"Inflamed\"\n",
    "        if name in [\"epi_ni\", \"LP_ni\"]:\n",
    "            a = \"Non-inflamed\"\n",
    "            b = \"Inflamed\"\n",
    "\n",
    "        cell_types = datasets[name].var.index\n",
    "\n",
    "        for split in range(n_folds):\n",
    "\n",
    "            post_mean_control_tasccoda = np.array([results_tasccoda[split][0].loc[i, \"Expected Sample\"] for i in cell_types])\n",
    "            edf_tasccoda = results_tasccoda[split][1].copy()\n",
    "            edf_tasccoda.index = edf_tasccoda.index.droplevel(0)\n",
    "            post_mean_case_tasccoda = np.array([edf_tasccoda.loc[i, \"Expected Sample\"] for i in cell_types])\n",
    "            pms = np.array([\n",
    "                post_mean_control_tasccoda if h == a else post_mean_case_tasccoda if h == b else [] for h in datasets[name].obs[\"Health\"]\n",
    "            ])\n",
    "\n",
    "            lse_tasccoda = np.sum((np.log(datasets[name].X+1) - np.log(pms+1))**2, axis=1)\n",
    "            mlse_tasccoda = np.mean(lse_tasccoda).tolist()\n",
    "\n",
    "            mlses.append(mlse_tasccoda)\n",
    "            ps.append(p)\n",
    "            names.append(name)\n",
    "            models.append(\"tascCODA\")\n",
    "            splits.append(split)\n",
    "\n",
    "            mean_sample_control = np.mean(datasets[name].X[datasets[name].obs[\"Health\"] == a, :], axis=0)\n",
    "            mean_sample_case = np.mean(datasets[name].X[datasets[name].obs[\"Health\"] == b, :], axis=0)\n",
    "\n",
    "            num_effects_tasccoda = len(results_tasccoda[split][2][results_tasccoda[split][2][\"Final Parameter\"] != 0])\n",
    "            num_effects.append(num_effects_tasccoda)\n",
    "\n",
    "            post_control_samples = post_control_samples.append(pd.DataFrame({\n",
    "                \"Cell type\": cell_types,\n",
    "                \"dataset\": name,\n",
    "                \"phi\": p,\n",
    "                \"model\": \"tascCODA\",\n",
    "                \"count\": post_mean_control_tasccoda,\n",
    "                \"type\": \"control\",\n",
    "                \"split\": split\n",
    "            }))\n",
    "\n",
    "            post_case_samples = post_case_samples.append(pd.DataFrame({\n",
    "                \"Cell type\": cell_types,\n",
    "                \"dataset\": name,\n",
    "                \"phi\": p,\n",
    "                \"model\": \"tascCODA\",\n",
    "                \"count\": post_mean_case_tasccoda,\n",
    "                \"type\": \"case\",\n",
    "                \"split\": split\n",
    "                }))\n",
    "\n",
    "            post_effects = post_effects.append(pd.DataFrame({\n",
    "                \"Cell type\": cell_types,\n",
    "                \"dataset\": name,\n",
    "                \"phi\": p,\n",
    "                \"model\": \"tascCODA\",\n",
    "                \"effect\": np.array([edf_tasccoda.loc[i, \"Effect\"] for i in cell_types]),\n",
    "                \"split\": split\n",
    "            }))\n",
    "\n",
    "\n",
    "mse_df_ = pd.DataFrame({\"phi\": ps, \"name\": names, \"mlse\": mlses, \"model\": models, \"split\":splits, \"num_effects\": num_effects})\n",
    "mse_df = pd.concat([mse_df, mse_df_])"
   ],
   "metadata": {
    "collapsed": false,
    "pycharm": {
     "name": "#%%\n"
    }
   }
  },
  {
   "cell_type": "code",
   "execution_count": 23,
   "outputs": [
    {
     "data": {
      "text/plain": "     phi    name        mlse     model  split  num_effects\n0      0  epi_hn  125.998490    scCODA      0            4\n1      0  epi_hn  134.507272    scCODA      1            1\n2      0  epi_hn  133.667067    scCODA      2            2\n3      0  epi_hn  134.148217    scCODA      3            3\n4      0  epi_hn  146.468290    scCODA      4            2\n..   ...     ...         ...       ...    ...          ...\n145    5   LP_ni  225.071064  tascCODA      0            1\n146    5   LP_ni  209.827258  tascCODA      1            1\n147    5   LP_ni  233.402986  tascCODA      2            1\n148    5   LP_ni  203.706893  tascCODA      3            3\n149    5   LP_ni  211.754597  tascCODA      4            1\n\n[180 rows x 6 columns]",
      "text/html": "<div>\n<style scoped>\n    .dataframe tbody tr th:only-of-type {\n        vertical-align: middle;\n    }\n\n    .dataframe tbody tr th {\n        vertical-align: top;\n    }\n\n    .dataframe thead th {\n        text-align: right;\n    }\n</style>\n<table border=\"1\" class=\"dataframe\">\n  <thead>\n    <tr style=\"text-align: right;\">\n      <th></th>\n      <th>phi</th>\n      <th>name</th>\n      <th>mlse</th>\n      <th>model</th>\n      <th>split</th>\n      <th>num_effects</th>\n    </tr>\n  </thead>\n  <tbody>\n    <tr>\n      <th>0</th>\n      <td>0</td>\n      <td>epi_hn</td>\n      <td>125.998490</td>\n      <td>scCODA</td>\n      <td>0</td>\n      <td>4</td>\n    </tr>\n    <tr>\n      <th>1</th>\n      <td>0</td>\n      <td>epi_hn</td>\n      <td>134.507272</td>\n      <td>scCODA</td>\n      <td>1</td>\n      <td>1</td>\n    </tr>\n    <tr>\n      <th>2</th>\n      <td>0</td>\n      <td>epi_hn</td>\n      <td>133.667067</td>\n      <td>scCODA</td>\n      <td>2</td>\n      <td>2</td>\n    </tr>\n    <tr>\n      <th>3</th>\n      <td>0</td>\n      <td>epi_hn</td>\n      <td>134.148217</td>\n      <td>scCODA</td>\n      <td>3</td>\n      <td>3</td>\n    </tr>\n    <tr>\n      <th>4</th>\n      <td>0</td>\n      <td>epi_hn</td>\n      <td>146.468290</td>\n      <td>scCODA</td>\n      <td>4</td>\n      <td>2</td>\n    </tr>\n    <tr>\n      <th>...</th>\n      <td>...</td>\n      <td>...</td>\n      <td>...</td>\n      <td>...</td>\n      <td>...</td>\n      <td>...</td>\n    </tr>\n    <tr>\n      <th>145</th>\n      <td>5</td>\n      <td>LP_ni</td>\n      <td>225.071064</td>\n      <td>tascCODA</td>\n      <td>0</td>\n      <td>1</td>\n    </tr>\n    <tr>\n      <th>146</th>\n      <td>5</td>\n      <td>LP_ni</td>\n      <td>209.827258</td>\n      <td>tascCODA</td>\n      <td>1</td>\n      <td>1</td>\n    </tr>\n    <tr>\n      <th>147</th>\n      <td>5</td>\n      <td>LP_ni</td>\n      <td>233.402986</td>\n      <td>tascCODA</td>\n      <td>2</td>\n      <td>1</td>\n    </tr>\n    <tr>\n      <th>148</th>\n      <td>5</td>\n      <td>LP_ni</td>\n      <td>203.706893</td>\n      <td>tascCODA</td>\n      <td>3</td>\n      <td>3</td>\n    </tr>\n    <tr>\n      <th>149</th>\n      <td>5</td>\n      <td>LP_ni</td>\n      <td>211.754597</td>\n      <td>tascCODA</td>\n      <td>4</td>\n      <td>1</td>\n    </tr>\n  </tbody>\n</table>\n<p>180 rows × 6 columns</p>\n</div>"
     },
     "execution_count": 23,
     "metadata": {},
     "output_type": "execute_result"
    }
   ],
   "source": [
    "mse_df"
   ],
   "metadata": {
    "collapsed": false,
    "pycharm": {
     "name": "#%%\n"
    }
   }
  },
  {
   "cell_type": "markdown",
   "source": [
    "Plots and table for paper"
   ],
   "metadata": {
    "collapsed": false,
    "pycharm": {
     "name": "#%% md\n"
    }
   }
  },
  {
   "cell_type": "code",
   "execution_count": 24,
   "outputs": [],
   "source": [
    "mse_df[\"group\"] = mse_df[\"model\"] + mse_df[\"phi\"].astype(str)"
   ],
   "metadata": {
    "collapsed": false,
    "pycharm": {
     "name": "#%%\n"
    }
   }
  },
  {
   "cell_type": "code",
   "execution_count": 25,
   "outputs": [
    {
     "data": {
      "text/plain": "<Figure size 432x288 with 1 Axes>",
      "image/png": "[encoded data removed]"
     },
     "metadata": {
      "needs_background": "light"
     },
     "output_type": "display_data"
    }
   ],
   "source": [
    "sns.set_context(\"paper\", font_scale=1.3)\n",
    "g = sns.barplot(\n",
    "    data=mse_df,\n",
    "    x=\"name\",\n",
    "    y=\"mlse\",\n",
    "    hue=\"group\",\n",
    "    hue_order=[\"tascCODA-5\", \"tascCODA-1\", \"tascCODA0\", \"tascCODA1\", \"tascCODA5\", \"scCODA0\"],\n",
    "    palette=sns.dark_palette(\"#69d\", n_colors=5) + [\"red\"]\n",
    ")\n",
    "\n",
    "titles = {\n",
    "            \"epi_hn\": \"Epithelium; Healthy vs. Non-inflamed\",\n",
    "            \"epi_hi\": \"Epithelium; Healthy vs. Inflamed\",\n",
    "            \"epi_ni\": \"Epithelium; Non-inflamed vs. Inflamed\",\n",
    "            \"LP_hn\": \"Lamina Propria; Healthy vs. Non-inflamed\",\n",
    "            \"LP_hi\": \"Lamina Propria; Healthy vs. Inflamed\",\n",
    "            \"LP_ni\": \"Lamina Propria; Non-inflamed vs. Inflamed\",\n",
    "        }\n",
    "\n",
    "h, l = g.get_legend_handles_labels()\n",
    "labels = [r\"tascCODA, $\\phi=-5$\", r\"tascCODA, $\\phi=-1$\", r\"tascCODA, $\\phi=0$\", r\"tascCODA, $\\phi=1$\", r\"tascCODA, $\\phi=5$\", \"scCODA\"]\n",
    "plt.legend(\n",
    "    h,\n",
    "    labels,\n",
    "    bbox_to_anchor=(1.04, 1),\n",
    "    loc=2,\n",
    "    borderaxespad=0.,\n",
    "    title=\"Model\"\n",
    ")\n",
    "plt.ylabel(\"Mean log-squared error\")\n",
    "plt.xlabel(\"Scenario\")\n",
    "plt.xticks(\n",
    "    ticks=np.arange(6),\n",
    "    labels = [titles[x.get_text()] for x in g.get_xticklabels()],\n",
    "    rotation=90\n",
    ")\n",
    "\n",
    "# plt.savefig(\"./plots_smillie/oos_bars_smillie.svg\", bbox_inches=\"tight\", format=\"svg\")\n",
    "plt.show()"
   ],
   "metadata": {
    "collapsed": false,
    "pycharm": {
     "name": "#%%\n"
    }
   }
  },
  {
   "cell_type": "code",
   "execution_count": 26,
   "outputs": [
    {
     "data": {
      "text/plain": "<Figure size 432x288 with 1 Axes>",
      "image/png": "[encoded data removed]"
     },
     "metadata": {
      "needs_background": "light"
     },
     "output_type": "display_data"
    }
   ],
   "source": [
    "sns.set_context(\"paper\", font_scale=1.3)\n",
    "g = sns.barplot(\n",
    "    data=mse_df,\n",
    "    x=\"name\",\n",
    "    y=\"num_effects\",\n",
    "    hue=\"group\",\n",
    "    hue_order=[\"tascCODA-5\", \"tascCODA-1\", \"tascCODA0\", \"tascCODA1\", \"tascCODA5\", \"scCODA0\"],\n",
    "    palette=sns.dark_palette(\"#69d\", n_colors=5) + [\"red\"]\n",
    ")\n",
    "\n",
    "titles = {\n",
    "            \"epi_hn\": \"Epithelium; Healthy vs. Non-inflamed\",\n",
    "            \"epi_hi\": \"Epithelium; Healthy vs. Inflamed\",\n",
    "            \"epi_ni\": \"Epithelium; Non-inflamed vs. Inflamed\",\n",
    "            \"LP_hn\": \"Lamina Propria; Healthy vs. Non-inflamed\",\n",
    "            \"LP_hi\": \"Lamina Propria; Healthy vs. Inflamed\",\n",
    "            \"LP_ni\": \"Lamina Propria; Non-inflamed vs. Inflamed\",\n",
    "        }\n",
    "\n",
    "h, l = g.get_legend_handles_labels()\n",
    "labels = [r\"tascCODA, $\\phi=-5$\", r\"tascCODA, $\\phi=-1$\", r\"tascCODA, $\\phi=0$\", r\"tascCODA, $\\phi=1$\", r\"tascCODA, $\\phi=5$\", \"scCODA\"]\n",
    "plt.legend(\n",
    "    h,\n",
    "    labels,\n",
    "    bbox_to_anchor=(1.04, 1),\n",
    "    loc=2,\n",
    "    borderaxespad=0.,\n",
    "    title=\"Model\"\n",
    ")\n",
    "plt.ylabel(\"Number of Effects\")\n",
    "plt.xlabel(\"Scenario\")\n",
    "plt.xticks(\n",
    "    ticks=np.arange(6),\n",
    "    labels = [titles[x.get_text()] for x in g.get_xticklabels()],\n",
    "    rotation=90\n",
    ")\n",
    "\n",
    "# plt.savefig(\"./plots_smillie/oos_bars_smillie.svg\", bbox_inches=\"tight\", format=\"svg\")\n",
    "plt.show()\n"
   ],
   "metadata": {
    "collapsed": false,
    "pycharm": {
     "name": "#%%\n"
    }
   }
  },
  {
   "cell_type": "code",
   "execution_count": 27,
   "outputs": [
    {
     "name": "stdout",
     "output_type": "stream",
     "text": [
      "MultiIndex([(   'MLSE',  'LP_hi'),\n",
      "            (   'MLSE',  'LP_hn'),\n",
      "            (   'MLSE',  'LP_ni'),\n",
      "            (   'MLSE', 'epi_hi'),\n",
      "            (   'MLSE', 'epi_hn'),\n",
      "            (   'MLSE', 'epi_ni'),\n",
      "            ('Effects',  'LP_hi'),\n",
      "            ('Effects',  'LP_hn'),\n",
      "            ('Effects',  'LP_ni'),\n",
      "            ('Effects', 'epi_hi'),\n",
      "            ('Effects', 'epi_hn'),\n",
      "            ('Effects', 'epi_ni')],\n",
      "           names=[None, 'Scenario'])\n",
      "MultiIndex([('epi_hn',    'MLSE'),\n",
      "            ('epi_hn', 'Effects'),\n",
      "            ('epi_hi',    'MLSE'),\n",
      "            ('epi_hi', 'Effects'),\n",
      "            ('epi_ni',    'MLSE'),\n",
      "            ('epi_ni', 'Effects'),\n",
      "            ( 'LP_hn',    'MLSE'),\n",
      "            ( 'LP_hn', 'Effects'),\n",
      "            ( 'LP_hi',    'MLSE'),\n",
      "            ( 'LP_hi', 'Effects'),\n",
      "            ( 'LP_ni',    'MLSE'),\n",
      "            ( 'LP_ni', 'Effects')],\n",
      "           names=['Scenario', None])\n"
     ]
    },
    {
     "data": {
      "text/plain": "Scenario         epi_hn          epi_hi          epi_ni           LP_hn  \\\n                   MLSE Effects    MLSE Effects    MLSE Effects    MLSE   \nModel    $\\phi$                                                           \nscCODA    0      134.96     2.4  154.44    10.8  174.78     5.2  154.02   \ntascCODA -5      142.22     0.0  167.46     0.0  173.94     0.0  162.76   \n         -1      142.16     0.0  163.60     1.6  174.10     0.0  157.62   \n          0      142.18     0.0  160.68     2.6  174.10     0.0  155.16   \n          1      138.56     1.2  158.06     3.2  175.86     0.2  152.80   \n          5      134.36     3.2  154.64     8.2  177.26     3.6  149.58   \n\nScenario                  LP_hi           LP_ni          \n                Effects    MLSE Effects    MLSE Effects  \nModel    $\\phi$                                          \nscCODA    0        14.4  173.40    17.4  218.62     0.4  \ntascCODA -5         0.4  188.58     0.0  219.72     0.0  \n         -1         1.8  182.96     1.8  219.70     0.0  \n          0         3.0  178.88     4.8  219.66     0.0  \n          1         6.2  176.02     7.8  219.68     0.0  \n          5        16.0  173.32    17.8  216.76     1.4  ",
      "text/html": "<div>\n<style scoped>\n    .dataframe tbody tr th:only-of-type {\n        vertical-align: middle;\n    }\n\n    .dataframe tbody tr th {\n        vertical-align: top;\n    }\n\n    .dataframe thead tr th {\n        text-align: left;\n    }\n\n    .dataframe thead tr:last-of-type th {\n        text-align: right;\n    }\n</style>\n<table border=\"1\" class=\"dataframe\">\n  <thead>\n    <tr>\n      <th></th>\n      <th>Scenario</th>\n      <th colspan=\"2\" halign=\"left\">epi_hn</th>\n      <th colspan=\"2\" halign=\"left\">epi_hi</th>\n      <th colspan=\"2\" halign=\"left\">epi_ni</th>\n      <th colspan=\"2\" halign=\"left\">LP_hn</th>\n      <th colspan=\"2\" halign=\"left\">LP_hi</th>\n      <th colspan=\"2\" halign=\"left\">LP_ni</th>\n    </tr>\n    <tr>\n      <th></th>\n      <th></th>\n      <th>MLSE</th>\n      <th>Effects</th>\n      <th>MLSE</th>\n      <th>Effects</th>\n      <th>MLSE</th>\n      <th>Effects</th>\n      <th>MLSE</th>\n      <th>Effects</th>\n      <th>MLSE</th>\n      <th>Effects</th>\n      <th>MLSE</th>\n      <th>Effects</th>\n    </tr>\n    <tr>\n      <th>Model</th>\n      <th>$\\phi$</th>\n      <th></th>\n      <th></th>\n      <th></th>\n      <th></th>\n      <th></th>\n      <th></th>\n      <th></th>\n      <th></th>\n      <th></th>\n      <th></th>\n      <th></th>\n      <th></th>\n    </tr>\n  </thead>\n  <tbody>\n    <tr>\n      <th>scCODA</th>\n      <th>0</th>\n      <td>134.96</td>\n      <td>2.4</td>\n      <td>154.44</td>\n      <td>10.8</td>\n      <td>174.78</td>\n      <td>5.2</td>\n      <td>154.02</td>\n      <td>14.4</td>\n      <td>173.40</td>\n      <td>17.4</td>\n      <td>218.62</td>\n      <td>0.4</td>\n    </tr>\n    <tr>\n      <th rowspan=\"5\" valign=\"top\">tascCODA</th>\n      <th>-5</th>\n      <td>142.22</td>\n      <td>0.0</td>\n      <td>167.46</td>\n      <td>0.0</td>\n      <td>173.94</td>\n      <td>0.0</td>\n      <td>162.76</td>\n      <td>0.4</td>\n      <td>188.58</td>\n      <td>0.0</td>\n      <td>219.72</td>\n      <td>0.0</td>\n    </tr>\n    <tr>\n      <th>-1</th>\n      <td>142.16</td>\n      <td>0.0</td>\n      <td>163.60</td>\n      <td>1.6</td>\n      <td>174.10</td>\n      <td>0.0</td>\n      <td>157.62</td>\n      <td>1.8</td>\n      <td>182.96</td>\n      <td>1.8</td>\n      <td>219.70</td>\n      <td>0.0</td>\n    </tr>\n    <tr>\n      <th>0</th>\n      <td>142.18</td>\n      <td>0.0</td>\n      <td>160.68</td>\n      <td>2.6</td>\n      <td>174.10</td>\n      <td>0.0</td>\n      <td>155.16</td>\n      <td>3.0</td>\n      <td>178.88</td>\n      <td>4.8</td>\n      <td>219.66</td>\n      <td>0.0</td>\n    </tr>\n    <tr>\n      <th>1</th>\n      <td>138.56</td>\n      <td>1.2</td>\n      <td>158.06</td>\n      <td>3.2</td>\n      <td>175.86</td>\n      <td>0.2</td>\n      <td>152.80</td>\n      <td>6.2</td>\n      <td>176.02</td>\n      <td>7.8</td>\n      <td>219.68</td>\n      <td>0.0</td>\n    </tr>\n    <tr>\n      <th>5</th>\n      <td>134.36</td>\n      <td>3.2</td>\n      <td>154.64</td>\n      <td>8.2</td>\n      <td>177.26</td>\n      <td>3.6</td>\n      <td>149.58</td>\n      <td>16.0</td>\n      <td>173.32</td>\n      <td>17.8</td>\n      <td>216.76</td>\n      <td>1.4</td>\n    </tr>\n  </tbody>\n</table>\n</div>"
     },
     "execution_count": 27,
     "metadata": {},
     "output_type": "execute_result"
    }
   ],
   "source": [
    "mse_df = mse_df.rename(columns={\n",
    "    \"name\": \"Scenario\",\n",
    "    \"num_effects\": \"Effects\",\n",
    "    \"phi\": r\"$\\phi$\",\n",
    "    \"model\": \"Model\"\n",
    "})\n",
    "mse_df[\"MLSE\"] = np.round(mse_df[\"mlse\"], 1)\n",
    "mse_avg = mse_df.groupby([\"Scenario\", \"Model\", r\"$\\phi$\"]).agg({\"MLSE\": \"mean\", \"Effects\": \"mean\"}).unstack(level=0)\n",
    "print(mse_avg.columns)\n",
    "mse_avg.columns = mse_avg.columns.swaplevel(1,0)\n",
    "mse_avg.sort_index(level=0, axis=1, inplace=True)\n",
    "mse_avg = mse_avg[[(\"epi_hn\", \"MLSE\"), (\"epi_hn\", \"Effects\"),\n",
    "                   (\"epi_hi\", \"MLSE\"), (\"epi_hi\", \"Effects\"),\n",
    "                   (\"epi_ni\", \"MLSE\"), (\"epi_ni\", \"Effects\"),\n",
    "                   (\"LP_hn\", \"MLSE\"), (\"LP_hn\", \"Effects\"),\n",
    "                   (\"LP_hi\", \"MLSE\"), (\"LP_hi\", \"Effects\"),\n",
    "                   (\"LP_ni\", \"MLSE\"), (\"LP_ni\", \"Effects\")]]\n",
    "print(mse_avg.columns)\n",
    "\n",
    "mse_avg"
   ],
   "metadata": {
    "collapsed": false,
    "pycharm": {
     "name": "#%%\n"
    }
   }
  },
  {
   "cell_type": "code",
   "execution_count": 28,
   "outputs": [
    {
     "name": "stdout",
     "output_type": "stream",
     "text": [
      "\\begin{tabular}{llrrrrrrrrrrrr}\n",
      "\\toprule\n",
      "         & Scenario & \\multicolumn{2}{l}{epi\\_hn} & \\multicolumn{2}{l}{epi\\_hi} & \\multicolumn{2}{l}{epi\\_ni} & \\multicolumn{2}{l}{LP\\_hn} & \\multicolumn{2}{l}{LP\\_hi} & \\multicolumn{2}{l}{LP\\_ni} \\\\\n",
      "         & {} &    MLSE & Effects &    MLSE & Effects &    MLSE & Effects &    MLSE & Effects &    MLSE & Effects &    MLSE & Effects \\\\\n",
      "Model & \\$\\textbackslash phi\\$ &         &         &         &         &         &         &         &         &         &         &         &         \\\\\n",
      "\\midrule\n",
      "scCODA &  0 &  134.96 &     2.4 &  154.44 &    10.8 &  174.78 &     5.2 &  154.02 &    14.4 &  173.40 &    17.4 &  218.62 &     0.4 \\\\\n",
      "tascCODA & -5 &  142.22 &     0.0 &  167.46 &     0.0 &  173.94 &     0.0 &  162.76 &     0.4 &  188.58 &     0.0 &  219.72 &     0.0 \\\\\n",
      "         & -1 &  142.16 &     0.0 &  163.60 &     1.6 &  174.10 &     0.0 &  157.62 &     1.8 &  182.96 &     1.8 &  219.70 &     0.0 \\\\\n",
      "         &  0 &  142.18 &     0.0 &  160.68 &     2.6 &  174.10 &     0.0 &  155.16 &     3.0 &  178.88 &     4.8 &  219.66 &     0.0 \\\\\n",
      "         &  1 &  138.56 &     1.2 &  158.06 &     3.2 &  175.86 &     0.2 &  152.80 &     6.2 &  176.02 &     7.8 &  219.68 &     0.0 \\\\\n",
      "         &  5 &  134.36 &     3.2 &  154.64 &     8.2 &  177.26 &     3.6 &  149.58 &    16.0 &  173.32 &    17.8 &  216.76 &     1.4 \\\\\n",
      "\\bottomrule\n",
      "\\end{tabular}\n",
      "\n"
     ]
    }
   ],
   "source": [
    "print(mse_avg.to_latex())"
   ],
   "metadata": {
    "collapsed": false,
    "pycharm": {
     "name": "#%%\n"
    }
   }
  },
  {
   "cell_type": "code",
   "execution_count": 29,
   "outputs": [
    {
     "data": {
      "text/plain": "Model            tascCODA                                  scCODA\n$\\phi$                 -5      -1       0       1       5       0\nScenario                                                         \nepi_hn   MLSE      142.22  142.16  142.18  138.56  134.36  134.96\n         Effects     0.00    0.00    0.00    1.20    3.20    2.40\nepi_hi   MLSE      167.46  163.60  160.68  158.06  154.64  154.44\n         Effects     0.00    1.60    2.60    3.20    8.20   10.80\nepi_ni   MLSE      173.94  174.10  174.10  175.86  177.26  174.78\n         Effects     0.00    0.00    0.00    0.20    3.60    5.20\nLP_hn    MLSE      162.76  157.62  155.16  152.80  149.58  154.02\n         Effects     0.40    1.80    3.00    6.20   16.00   14.40\nLP_hi    MLSE      188.58  182.96  178.88  176.02  173.32  173.40\n         Effects     0.00    1.80    4.80    7.80   17.80   17.40\nLP_ni    MLSE      219.72  219.70  219.66  219.68  216.76  218.62\n         Effects     0.00    0.00    0.00    0.00    1.40    0.40",
      "text/html": "<div>\n<style scoped>\n    .dataframe tbody tr th:only-of-type {\n        vertical-align: middle;\n    }\n\n    .dataframe tbody tr th {\n        vertical-align: top;\n    }\n\n    .dataframe thead tr th {\n        text-align: left;\n    }\n\n    .dataframe thead tr:last-of-type th {\n        text-align: right;\n    }\n</style>\n<table border=\"1\" class=\"dataframe\">\n  <thead>\n    <tr>\n      <th></th>\n      <th>Model</th>\n      <th colspan=\"5\" halign=\"left\">tascCODA</th>\n      <th>scCODA</th>\n    </tr>\n    <tr>\n      <th></th>\n      <th>$\\phi$</th>\n      <th>-5</th>\n      <th>-1</th>\n      <th>0</th>\n      <th>1</th>\n      <th>5</th>\n      <th>0</th>\n    </tr>\n    <tr>\n      <th>Scenario</th>\n      <th></th>\n      <th></th>\n      <th></th>\n      <th></th>\n      <th></th>\n      <th></th>\n      <th></th>\n    </tr>\n  </thead>\n  <tbody>\n    <tr>\n      <th rowspan=\"2\" valign=\"top\">epi_hn</th>\n      <th>MLSE</th>\n      <td>142.22</td>\n      <td>142.16</td>\n      <td>142.18</td>\n      <td>138.56</td>\n      <td>134.36</td>\n      <td>134.96</td>\n    </tr>\n    <tr>\n      <th>Effects</th>\n      <td>0.00</td>\n      <td>0.00</td>\n      <td>0.00</td>\n      <td>1.20</td>\n      <td>3.20</td>\n      <td>2.40</td>\n    </tr>\n    <tr>\n      <th rowspan=\"2\" valign=\"top\">epi_hi</th>\n      <th>MLSE</th>\n      <td>167.46</td>\n      <td>163.60</td>\n      <td>160.68</td>\n      <td>158.06</td>\n      <td>154.64</td>\n      <td>154.44</td>\n    </tr>\n    <tr>\n      <th>Effects</th>\n      <td>0.00</td>\n      <td>1.60</td>\n      <td>2.60</td>\n      <td>3.20</td>\n      <td>8.20</td>\n      <td>10.80</td>\n    </tr>\n    <tr>\n      <th rowspan=\"2\" valign=\"top\">epi_ni</th>\n      <th>MLSE</th>\n      <td>173.94</td>\n      <td>174.10</td>\n      <td>174.10</td>\n      <td>175.86</td>\n      <td>177.26</td>\n      <td>174.78</td>\n    </tr>\n    <tr>\n      <th>Effects</th>\n      <td>0.00</td>\n      <td>0.00</td>\n      <td>0.00</td>\n      <td>0.20</td>\n      <td>3.60</td>\n      <td>5.20</td>\n    </tr>\n    <tr>\n      <th rowspan=\"2\" valign=\"top\">LP_hn</th>\n      <th>MLSE</th>\n      <td>162.76</td>\n      <td>157.62</td>\n      <td>155.16</td>\n      <td>152.80</td>\n      <td>149.58</td>\n      <td>154.02</td>\n    </tr>\n    <tr>\n      <th>Effects</th>\n      <td>0.40</td>\n      <td>1.80</td>\n      <td>3.00</td>\n      <td>6.20</td>\n      <td>16.00</td>\n      <td>14.40</td>\n    </tr>\n    <tr>\n      <th rowspan=\"2\" valign=\"top\">LP_hi</th>\n      <th>MLSE</th>\n      <td>188.58</td>\n      <td>182.96</td>\n      <td>178.88</td>\n      <td>176.02</td>\n      <td>173.32</td>\n      <td>173.40</td>\n    </tr>\n    <tr>\n      <th>Effects</th>\n      <td>0.00</td>\n      <td>1.80</td>\n      <td>4.80</td>\n      <td>7.80</td>\n      <td>17.80</td>\n      <td>17.40</td>\n    </tr>\n    <tr>\n      <th rowspan=\"2\" valign=\"top\">LP_ni</th>\n      <th>MLSE</th>\n      <td>219.72</td>\n      <td>219.70</td>\n      <td>219.66</td>\n      <td>219.68</td>\n      <td>216.76</td>\n      <td>218.62</td>\n    </tr>\n    <tr>\n      <th>Effects</th>\n      <td>0.00</td>\n      <td>0.00</td>\n      <td>0.00</td>\n      <td>0.00</td>\n      <td>1.40</td>\n      <td>0.40</td>\n    </tr>\n  </tbody>\n</table>\n</div>"
     },
     "execution_count": 29,
     "metadata": {},
     "output_type": "execute_result"
    }
   ],
   "source": [
    "mse_avg = mse_df.groupby([\"Scenario\", \"Model\", r\"$\\phi$\"]).agg({\"MLSE\": \"mean\", \"Effects\": \"mean\"}).unstack([1,2]).stack(0)\n",
    "mse_avg= mse_avg.loc[[\n",
    "    (\"epi_hn\", \"MLSE\"), (\"epi_hn\", \"Effects\"),\n",
    "    (\"epi_hi\", \"MLSE\"), (\"epi_hi\", \"Effects\"),\n",
    "    (\"epi_ni\", \"MLSE\"), (\"epi_ni\", \"Effects\"),\n",
    "    (\"LP_hn\", \"MLSE\"), (\"LP_hn\", \"Effects\"),\n",
    "    (\"LP_hi\", \"MLSE\"), (\"LP_hi\", \"Effects\"),\n",
    "    (\"LP_ni\", \"MLSE\"), (\"LP_ni\", \"Effects\")\n",
    "], [\n",
    "    (\"tascCODA\", -5), (\"tascCODA\", -1), (\"tascCODA\", 0), (\"tascCODA\", 1), (\"tascCODA\", 5), (\"scCODA\", 0)\n",
    "]]\n",
    "mse_avg"
   ],
   "metadata": {
    "collapsed": false,
    "pycharm": {
     "name": "#%%\n"
    }
   }
  },
  {
   "cell_type": "code",
   "execution_count": 30,
   "outputs": [
    {
     "name": "stdout",
     "output_type": "stream",
     "text": [
      "\\begin{tabular}{llrrrrrr}\n",
      "\\toprule\n",
      "      & Model & \\multicolumn{5}{l}{tascCODA} &  scCODA \\\\\n",
      "      & \\$\\textbackslash phi\\$ &       -5 &      -1 &       0 &       1 &       5 &       0 \\\\\n",
      "Scenario & {} &          &         &         &         &         &         \\\\\n",
      "\\midrule\n",
      "epi\\_hn & MLSE &   142.22 &  142.16 &  142.18 &  138.56 &  134.36 &  134.96 \\\\\n",
      "      & Effects &     0.00 &    0.00 &    0.00 &    1.20 &    3.20 &    2.40 \\\\\n",
      "epi\\_hi & MLSE &   167.46 &  163.60 &  160.68 &  158.06 &  154.64 &  154.44 \\\\\n",
      "      & Effects &     0.00 &    1.60 &    2.60 &    3.20 &    8.20 &   10.80 \\\\\n",
      "epi\\_ni & MLSE &   173.94 &  174.10 &  174.10 &  175.86 &  177.26 &  174.78 \\\\\n",
      "      & Effects &     0.00 &    0.00 &    0.00 &    0.20 &    3.60 &    5.20 \\\\\n",
      "LP\\_hn & MLSE &   162.76 &  157.62 &  155.16 &  152.80 &  149.58 &  154.02 \\\\\n",
      "      & Effects &     0.40 &    1.80 &    3.00 &    6.20 &   16.00 &   14.40 \\\\\n",
      "LP\\_hi & MLSE &   188.58 &  182.96 &  178.88 &  176.02 &  173.32 &  173.40 \\\\\n",
      "      & Effects &     0.00 &    1.80 &    4.80 &    7.80 &   17.80 &   17.40 \\\\\n",
      "LP\\_ni & MLSE &   219.72 &  219.70 &  219.66 &  219.68 &  216.76 &  218.62 \\\\\n",
      "      & Effects &     0.00 &    0.00 &    0.00 &    0.00 &    1.40 &    0.40 \\\\\n",
      "\\bottomrule\n",
      "\\end{tabular}\n",
      "\n"
     ]
    }
   ],
   "source": [
    "print(mse_avg.to_latex())"
   ],
   "metadata": {
    "collapsed": false,
    "pycharm": {
     "name": "#%%\n"
    }
   }
  },
  {
   "cell_type": "code",
   "execution_count": null,
   "outputs": [],
   "source": [],
   "metadata": {
    "collapsed": false,
    "pycharm": {
     "name": "#%%\n"
    }
   }
  }
 ],
 "metadata": {
  "kernelspec": {
   "display_name": "Python 3",
   "language": "python",
   "name": "python3"
  },
  "language_info": {
   "codemirror_mode": {
    "name": "ipython",
    "version": 2
   },
   "file_extension": ".py",
   "mimetype": "text/x-python",
   "name": "python",
   "nbconvert_exporter": "python",
   "pygments_lexer": "ipython2",
   "version": "2.7.6"
  }
 },
 "nbformat": 4,
 "nbformat_minor": 0
}