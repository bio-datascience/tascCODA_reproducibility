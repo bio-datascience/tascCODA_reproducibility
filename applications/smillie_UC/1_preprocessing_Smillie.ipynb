{
 "cells": [
  {
   "cell_type": "code",
   "execution_count": 1,
   "metadata": {
    "collapsed": false
   },
   "outputs": [],
   "source": [
    "import numpy as np\n",
    "import pandas as pd\n",
    "import re\n",
    "import toytree as tt\n",
    "from tasccoda import tree_utils as util"
   ]
  },
  {
   "cell_type": "markdown",
   "metadata": {},
   "source": [
    "# Introduction\n",
    "\n",
    "(Analysis by Maren Büttner)\n",
    "\n",
    "In this notebook, we examine publicly available data of Smillie et al (2019), Cell. The purpose is to determine compositional changes using our scCODA model in the three conditions (Healthy, Non-inflamed, Inflamed). \n",
    "\n",
    "We perform the following steps:\n",
    "1. Load the data\n",
    "2. Preprocess data"
   ]
  },
  {
   "cell_type": "markdown",
   "metadata": {},
   "source": [
    "# Read the data"
   ]
  },
  {
   "cell_type": "code",
   "execution_count": 2,
   "metadata": {
    "collapsed": true
   },
   "outputs": [],
   "source": [
    "data_path = '../../../tascCODA_data/applications/smillie_UC/SCP259/metadata/'"
   ]
  },
  {
   "cell_type": "markdown",
   "metadata": {},
   "source": [
    "Read meta data. \n",
    "The data were downloaded from Single Cell Portal (SCP259).\n",
    "The project contains also mtx-files, but we are only interested in the metadata."
   ]
  },
  {
   "cell_type": "code",
   "execution_count": 3,
   "metadata": {
    "collapsed": true
   },
   "outputs": [
    {
     "name": "stderr",
     "output_type": "stream",
     "text": [
      "/Users/johannes.ostner/opt/anaconda3/envs/scCODA_3/lib/python3.8/site-packages/IPython/core/interactiveshell.py:3418: DtypeWarning: Columns (2,3) have mixed types.Specify dtype option on import or set low_memory=False.\n",
      "  exec(code_obj, self.user_global_ns, self.user_ns)\n"
     ]
    }
   ],
   "source": [
    "meta = pd.read_table(data_path + 'all.meta2.txt', sep='\\t')"
   ]
  },
  {
   "cell_type": "code",
   "execution_count": 4,
   "metadata": {
    "collapsed": true
   },
   "outputs": [],
   "source": [
    "meta = meta.drop([0])"
   ]
  },
  {
   "cell_type": "markdown",
   "metadata": {},
   "source": [
    "Set index to \"NAME\" column."
   ]
  },
  {
   "cell_type": "code",
   "execution_count": 5,
   "metadata": {
    "collapsed": true
   },
   "outputs": [
    {
     "data": {
      "text/plain": "(365492, 7)"
     },
     "execution_count": 5,
     "metadata": {},
     "output_type": "execute_result"
    }
   ],
   "source": [
    "meta.index = meta['NAME']\n",
    "meta = meta.drop(columns = ['NAME'])\n",
    "\n",
    "meta.shape"
   ]
  },
  {
   "cell_type": "code",
   "execution_count": 6,
   "outputs": [
    {
     "data": {
      "text/plain": "                                       Cluster nGene nUMI Subject  \\\nNAME                                                                \nN7.EpiA.AAACATACACACTG                    TA 1   328  891      N7   \nN7.EpiA.AAACCGTGCATCAG                    TA 1   257  663      N7   \nN7.EpiA.AAACGCACAATCGC                    TA 2   300  639      N7   \nN7.EpiA.AAAGATCTAACCGT  Enterocyte Progenitors   250  649      N7   \nN7.EpiA.AAAGATCTAGGCGA  Enterocyte Progenitors   284  769      N7   \nN7.EpiA.AAAGCCTGCTCGAA  Enterocyte Progenitors   339  951      N7   \nN7.EpiA.AAATCAACATCACG                    TA 1   262  600      N7   \nN7.EpiA.AAATCAACCTTGGA         Immature Goblet   308  976      N7   \nN7.EpiA.AAATCATGGAAAGT  Enterocyte Progenitors   316  934      N7   \nN7.EpiA.AAATCCCTCACTTT  Enterocyte Progenitors   267  655      N7   \n\n                              Health Location   Sample  \nNAME                                                    \nN7.EpiA.AAACATACACACTG  Non-inflamed      Epi  N7.EpiA  \nN7.EpiA.AAACCGTGCATCAG  Non-inflamed      Epi  N7.EpiA  \nN7.EpiA.AAACGCACAATCGC  Non-inflamed      Epi  N7.EpiA  \nN7.EpiA.AAAGATCTAACCGT  Non-inflamed      Epi  N7.EpiA  \nN7.EpiA.AAAGATCTAGGCGA  Non-inflamed      Epi  N7.EpiA  \nN7.EpiA.AAAGCCTGCTCGAA  Non-inflamed      Epi  N7.EpiA  \nN7.EpiA.AAATCAACATCACG  Non-inflamed      Epi  N7.EpiA  \nN7.EpiA.AAATCAACCTTGGA  Non-inflamed      Epi  N7.EpiA  \nN7.EpiA.AAATCATGGAAAGT  Non-inflamed      Epi  N7.EpiA  \nN7.EpiA.AAATCCCTCACTTT  Non-inflamed      Epi  N7.EpiA  ",
      "text/html": "<div>\n<style scoped>\n    .dataframe tbody tr th:only-of-type {\n        vertical-align: middle;\n    }\n\n    .dataframe tbody tr th {\n        vertical-align: top;\n    }\n\n    .dataframe thead th {\n        text-align: right;\n    }\n</style>\n<table border=\"1\" class=\"dataframe\">\n  <thead>\n    <tr style=\"text-align: right;\">\n      <th></th>\n      <th>Cluster</th>\n      <th>nGene</th>\n      <th>nUMI</th>\n      <th>Subject</th>\n      <th>Health</th>\n      <th>Location</th>\n      <th>Sample</th>\n    </tr>\n    <tr>\n      <th>NAME</th>\n      <th></th>\n      <th></th>\n      <th></th>\n      <th></th>\n      <th></th>\n      <th></th>\n      <th></th>\n    </tr>\n  </thead>\n  <tbody>\n    <tr>\n      <th>N7.EpiA.AAACATACACACTG</th>\n      <td>TA 1</td>\n      <td>328</td>\n      <td>891</td>\n      <td>N7</td>\n      <td>Non-inflamed</td>\n      <td>Epi</td>\n      <td>N7.EpiA</td>\n    </tr>\n    <tr>\n      <th>N7.EpiA.AAACCGTGCATCAG</th>\n      <td>TA 1</td>\n      <td>257</td>\n      <td>663</td>\n      <td>N7</td>\n      <td>Non-inflamed</td>\n      <td>Epi</td>\n      <td>N7.EpiA</td>\n    </tr>\n    <tr>\n      <th>N7.EpiA.AAACGCACAATCGC</th>\n      <td>TA 2</td>\n      <td>300</td>\n      <td>639</td>\n      <td>N7</td>\n      <td>Non-inflamed</td>\n      <td>Epi</td>\n      <td>N7.EpiA</td>\n    </tr>\n    <tr>\n      <th>N7.EpiA.AAAGATCTAACCGT</th>\n      <td>Enterocyte Progenitors</td>\n      <td>250</td>\n      <td>649</td>\n      <td>N7</td>\n      <td>Non-inflamed</td>\n      <td>Epi</td>\n      <td>N7.EpiA</td>\n    </tr>\n    <tr>\n      <th>N7.EpiA.AAAGATCTAGGCGA</th>\n      <td>Enterocyte Progenitors</td>\n      <td>284</td>\n      <td>769</td>\n      <td>N7</td>\n      <td>Non-inflamed</td>\n      <td>Epi</td>\n      <td>N7.EpiA</td>\n    </tr>\n    <tr>\n      <th>N7.EpiA.AAAGCCTGCTCGAA</th>\n      <td>Enterocyte Progenitors</td>\n      <td>339</td>\n      <td>951</td>\n      <td>N7</td>\n      <td>Non-inflamed</td>\n      <td>Epi</td>\n      <td>N7.EpiA</td>\n    </tr>\n    <tr>\n      <th>N7.EpiA.AAATCAACATCACG</th>\n      <td>TA 1</td>\n      <td>262</td>\n      <td>600</td>\n      <td>N7</td>\n      <td>Non-inflamed</td>\n      <td>Epi</td>\n      <td>N7.EpiA</td>\n    </tr>\n    <tr>\n      <th>N7.EpiA.AAATCAACCTTGGA</th>\n      <td>Immature Goblet</td>\n      <td>308</td>\n      <td>976</td>\n      <td>N7</td>\n      <td>Non-inflamed</td>\n      <td>Epi</td>\n      <td>N7.EpiA</td>\n    </tr>\n    <tr>\n      <th>N7.EpiA.AAATCATGGAAAGT</th>\n      <td>Enterocyte Progenitors</td>\n      <td>316</td>\n      <td>934</td>\n      <td>N7</td>\n      <td>Non-inflamed</td>\n      <td>Epi</td>\n      <td>N7.EpiA</td>\n    </tr>\n    <tr>\n      <th>N7.EpiA.AAATCCCTCACTTT</th>\n      <td>Enterocyte Progenitors</td>\n      <td>267</td>\n      <td>655</td>\n      <td>N7</td>\n      <td>Non-inflamed</td>\n      <td>Epi</td>\n      <td>N7.EpiA</td>\n    </tr>\n  </tbody>\n</table>\n</div>"
     },
     "execution_count": 6,
     "metadata": {},
     "output_type": "execute_result"
    }
   ],
   "source": [
    "meta.head(10)"
   ],
   "metadata": {
    "collapsed": false,
    "pycharm": {
     "name": "#%%\n"
    }
   }
  },
  {
   "cell_type": "markdown",
   "metadata": {},
   "source": [
    "# Adjust metadata according to manuscript"
   ]
  },
  {
   "cell_type": "code",
   "execution_count": 7,
   "metadata": {
    "collapsed": false
   },
   "outputs": [
    {
     "data": {
      "text/plain": "N58.LPB1      16723\nN111.LPB1     13175\nN661.LPA2     12345\nN661.LPA1     12253\nN661.LPB1      9450\n              ...  \nN106.EpiA       135\nN52.EpiA2b      109\nN52.EpiA2a      108\nN58.EpiB2        33\nN49.EpiA         21\nName: Sample, Length: 133, dtype: int64"
     },
     "execution_count": 7,
     "metadata": {},
     "output_type": "execute_result"
    }
   ],
   "source": [
    "meta['Sample'].value_counts()"
   ]
  },
  {
   "cell_type": "code",
   "execution_count": 8,
   "metadata": {
    "collapsed": false
   },
   "outputs": [
    {
     "data": {
      "text/plain": "LP     266286\nEpi     99206\nName: Location, dtype: int64"
     },
     "execution_count": 8,
     "metadata": {},
     "output_type": "execute_result"
    }
   ],
   "source": [
    "meta['Location'].value_counts()"
   ]
  },
  {
   "cell_type": "code",
   "execution_count": 9,
   "metadata": {
    "collapsed": false
   },
   "outputs": [
    {
     "data": {
      "text/plain": "Non-inflamed    130263\nInflamed        125119\nHealthy         110110\nName: Health, dtype: int64"
     },
     "execution_count": 9,
     "metadata": {},
     "output_type": "execute_result"
    }
   ],
   "source": [
    "meta['Health'].value_counts()"
   ]
  },
  {
   "cell_type": "code",
   "execution_count": 10,
   "metadata": {
    "collapsed": false
   },
   "outputs": [
    {
     "data": {
      "text/plain": "30"
     },
     "execution_count": 10,
     "metadata": {},
     "output_type": "execute_result"
    }
   ],
   "source": [
    "len(np.unique(meta['Subject']))"
   ]
  },
  {
   "cell_type": "code",
   "execution_count": 11,
   "metadata": {
    "collapsed": false
   },
   "outputs": [
    {
     "data": {
      "text/plain": "Health   Healthy  Inflamed  Non-inflamed\nSubject                                 \nN10        16643         0             0\nN106           0      4848          2694\nN11         6799         0             0\nN110           0      3834          6570\nN111           0     19648          5738\nN12            0      1355          1009\nN13         4695         0             0\nN14            0      2276          2676\nN15        10649         0             0\nN16         5417         0             0\nN17         5781         0             0\nN18         8059         0             0\nN19            0      2423          4957\nN20         9563         0             0\nN21         6952         0             0\nN23            0      6341          6839\nN24            0      5511          7854\nN26            0      4360          6864\nN44            0      6392          8045\nN46        10317         0             0\nN49            0      4015          4769\nN50            0      4917          5584\nN51        23011         0             0\nN52            0     12901         20429\nN539           0      3345          4449\nN58            0     17599          7667\nN661           0     18589         24598\nN7             0      1833          2613\nN8          2224         0             0\nN9             0      4932          6908",
      "text/html": "<div>\n<style scoped>\n    .dataframe tbody tr th:only-of-type {\n        vertical-align: middle;\n    }\n\n    .dataframe tbody tr th {\n        vertical-align: top;\n    }\n\n    .dataframe thead th {\n        text-align: right;\n    }\n</style>\n<table border=\"1\" class=\"dataframe\">\n  <thead>\n    <tr style=\"text-align: right;\">\n      <th>Health</th>\n      <th>Healthy</th>\n      <th>Inflamed</th>\n      <th>Non-inflamed</th>\n    </tr>\n    <tr>\n      <th>Subject</th>\n      <th></th>\n      <th></th>\n      <th></th>\n    </tr>\n  </thead>\n  <tbody>\n    <tr>\n      <th>N10</th>\n      <td>16643</td>\n      <td>0</td>\n      <td>0</td>\n    </tr>\n    <tr>\n      <th>N106</th>\n      <td>0</td>\n      <td>4848</td>\n      <td>2694</td>\n    </tr>\n    <tr>\n      <th>N11</th>\n      <td>6799</td>\n      <td>0</td>\n      <td>0</td>\n    </tr>\n    <tr>\n      <th>N110</th>\n      <td>0</td>\n      <td>3834</td>\n      <td>6570</td>\n    </tr>\n    <tr>\n      <th>N111</th>\n      <td>0</td>\n      <td>19648</td>\n      <td>5738</td>\n    </tr>\n    <tr>\n      <th>N12</th>\n      <td>0</td>\n      <td>1355</td>\n      <td>1009</td>\n    </tr>\n    <tr>\n      <th>N13</th>\n      <td>4695</td>\n      <td>0</td>\n      <td>0</td>\n    </tr>\n    <tr>\n      <th>N14</th>\n      <td>0</td>\n      <td>2276</td>\n      <td>2676</td>\n    </tr>\n    <tr>\n      <th>N15</th>\n      <td>10649</td>\n      <td>0</td>\n      <td>0</td>\n    </tr>\n    <tr>\n      <th>N16</th>\n      <td>5417</td>\n      <td>0</td>\n      <td>0</td>\n    </tr>\n    <tr>\n      <th>N17</th>\n      <td>5781</td>\n      <td>0</td>\n      <td>0</td>\n    </tr>\n    <tr>\n      <th>N18</th>\n      <td>8059</td>\n      <td>0</td>\n      <td>0</td>\n    </tr>\n    <tr>\n      <th>N19</th>\n      <td>0</td>\n      <td>2423</td>\n      <td>4957</td>\n    </tr>\n    <tr>\n      <th>N20</th>\n      <td>9563</td>\n      <td>0</td>\n      <td>0</td>\n    </tr>\n    <tr>\n      <th>N21</th>\n      <td>6952</td>\n      <td>0</td>\n      <td>0</td>\n    </tr>\n    <tr>\n      <th>N23</th>\n      <td>0</td>\n      <td>6341</td>\n      <td>6839</td>\n    </tr>\n    <tr>\n      <th>N24</th>\n      <td>0</td>\n      <td>5511</td>\n      <td>7854</td>\n    </tr>\n    <tr>\n      <th>N26</th>\n      <td>0</td>\n      <td>4360</td>\n      <td>6864</td>\n    </tr>\n    <tr>\n      <th>N44</th>\n      <td>0</td>\n      <td>6392</td>\n      <td>8045</td>\n    </tr>\n    <tr>\n      <th>N46</th>\n      <td>10317</td>\n      <td>0</td>\n      <td>0</td>\n    </tr>\n    <tr>\n      <th>N49</th>\n      <td>0</td>\n      <td>4015</td>\n      <td>4769</td>\n    </tr>\n    <tr>\n      <th>N50</th>\n      <td>0</td>\n      <td>4917</td>\n      <td>5584</td>\n    </tr>\n    <tr>\n      <th>N51</th>\n      <td>23011</td>\n      <td>0</td>\n      <td>0</td>\n    </tr>\n    <tr>\n      <th>N52</th>\n      <td>0</td>\n      <td>12901</td>\n      <td>20429</td>\n    </tr>\n    <tr>\n      <th>N539</th>\n      <td>0</td>\n      <td>3345</td>\n      <td>4449</td>\n    </tr>\n    <tr>\n      <th>N58</th>\n      <td>0</td>\n      <td>17599</td>\n      <td>7667</td>\n    </tr>\n    <tr>\n      <th>N661</th>\n      <td>0</td>\n      <td>18589</td>\n      <td>24598</td>\n    </tr>\n    <tr>\n      <th>N7</th>\n      <td>0</td>\n      <td>1833</td>\n      <td>2613</td>\n    </tr>\n    <tr>\n      <th>N8</th>\n      <td>2224</td>\n      <td>0</td>\n      <td>0</td>\n    </tr>\n    <tr>\n      <th>N9</th>\n      <td>0</td>\n      <td>4932</td>\n      <td>6908</td>\n    </tr>\n  </tbody>\n</table>\n</div>"
     },
     "execution_count": 11,
     "metadata": {},
     "output_type": "execute_result"
    }
   ],
   "source": [
    "pd.crosstab(meta['Subject'], meta['Health'])"
   ]
  },
  {
   "cell_type": "code",
   "execution_count": 12,
   "metadata": {
    "collapsed": true
   },
   "outputs": [],
   "source": [
    "health = meta[['Health', 'Subject', 'Sample']]\n",
    "\n",
    "replicates = pd.DataFrame([sample.split('.') for sample in np.unique(meta['Sample'])], \n",
    "                          columns=['Subject', 'Sample'], index= np.unique(meta['Sample']) )\n",
    "\n",
    "replicates['Location']= [re.split('A|B',region)[0] for region in replicates['Sample']]\n",
    "replicates['Replicate'] = [re.split('Epi|LP',region)[1] for region in replicates['Sample']]"
   ]
  },
  {
   "cell_type": "code",
   "execution_count": 13,
   "metadata": {
    "collapsed": false
   },
   "outputs": [
    {
     "data": {
      "text/plain": "          Subject Sample Location Replicate\nN10.EpiA      N10   EpiA      Epi         A\nN10.EpiB      N10   EpiB      Epi         B\nN10.LPA       N10    LPA       LP         A\nN10.LPB       N10    LPB       LP         B\nN106.EpiA    N106   EpiA      Epi         A\n...           ...    ...      ...       ...\nN8.LPB         N8    LPB       LP         B\nN9.EpiA        N9   EpiA      Epi         A\nN9.EpiB        N9   EpiB      Epi         B\nN9.LPA         N9    LPA       LP         A\nN9.LPB         N9    LPB       LP         B\n\n[133 rows x 4 columns]",
      "text/html": "<div>\n<style scoped>\n    .dataframe tbody tr th:only-of-type {\n        vertical-align: middle;\n    }\n\n    .dataframe tbody tr th {\n        vertical-align: top;\n    }\n\n    .dataframe thead th {\n        text-align: right;\n    }\n</style>\n<table border=\"1\" class=\"dataframe\">\n  <thead>\n    <tr style=\"text-align: right;\">\n      <th></th>\n      <th>Subject</th>\n      <th>Sample</th>\n      <th>Location</th>\n      <th>Replicate</th>\n    </tr>\n  </thead>\n  <tbody>\n    <tr>\n      <th>N10.EpiA</th>\n      <td>N10</td>\n      <td>EpiA</td>\n      <td>Epi</td>\n      <td>A</td>\n    </tr>\n    <tr>\n      <th>N10.EpiB</th>\n      <td>N10</td>\n      <td>EpiB</td>\n      <td>Epi</td>\n      <td>B</td>\n    </tr>\n    <tr>\n      <th>N10.LPA</th>\n      <td>N10</td>\n      <td>LPA</td>\n      <td>LP</td>\n      <td>A</td>\n    </tr>\n    <tr>\n      <th>N10.LPB</th>\n      <td>N10</td>\n      <td>LPB</td>\n      <td>LP</td>\n      <td>B</td>\n    </tr>\n    <tr>\n      <th>N106.EpiA</th>\n      <td>N106</td>\n      <td>EpiA</td>\n      <td>Epi</td>\n      <td>A</td>\n    </tr>\n    <tr>\n      <th>...</th>\n      <td>...</td>\n      <td>...</td>\n      <td>...</td>\n      <td>...</td>\n    </tr>\n    <tr>\n      <th>N8.LPB</th>\n      <td>N8</td>\n      <td>LPB</td>\n      <td>LP</td>\n      <td>B</td>\n    </tr>\n    <tr>\n      <th>N9.EpiA</th>\n      <td>N9</td>\n      <td>EpiA</td>\n      <td>Epi</td>\n      <td>A</td>\n    </tr>\n    <tr>\n      <th>N9.EpiB</th>\n      <td>N9</td>\n      <td>EpiB</td>\n      <td>Epi</td>\n      <td>B</td>\n    </tr>\n    <tr>\n      <th>N9.LPA</th>\n      <td>N9</td>\n      <td>LPA</td>\n      <td>LP</td>\n      <td>A</td>\n    </tr>\n    <tr>\n      <th>N9.LPB</th>\n      <td>N9</td>\n      <td>LPB</td>\n      <td>LP</td>\n      <td>B</td>\n    </tr>\n  </tbody>\n</table>\n<p>133 rows × 4 columns</p>\n</div>"
     },
     "execution_count": 13,
     "metadata": {},
     "output_type": "execute_result"
    }
   ],
   "source": [
    "replicates"
   ]
  },
  {
   "cell_type": "markdown",
   "metadata": {},
   "source": [
    "Merge health status info and replicate info."
   ]
  },
  {
   "cell_type": "code",
   "execution_count": 14,
   "metadata": {
    "collapsed": true
   },
   "outputs": [],
   "source": [
    "new_meta = replicates.merge(health, how='outer', \n",
    "                            left_index=True, right_on='Sample', suffixes=('', '_y'))\n",
    "\n",
    "new_meta = new_meta.drop(columns = ['Subject_y', 'Sample_y'])"
   ]
  },
  {
   "cell_type": "markdown",
   "metadata": {},
   "source": [
    "Examine the different numbers of repicates per sample."
   ]
  },
  {
   "cell_type": "code",
   "execution_count": 15,
   "metadata": {
    "collapsed": false
   },
   "outputs": [
    {
     "data": {
      "text/plain": "N52     12\nN58      8\nN111     7\nN10      4\nN106     4\nN8       4\nN7       4\nN661     4\nN539     4\nN51      4\nN50      4\nN46      4\nN44      4\nN26      4\nN24      4\nN23      4\nN21      4\nN20      4\nN19      4\nN18      4\nN17      4\nN16      4\nN15      4\nN14      4\nN13      4\nN12      4\nN11      4\nN9       4\nN49      3\nN110     3\nName: Subject, dtype: int64"
     },
     "execution_count": 15,
     "metadata": {},
     "output_type": "execute_result"
    }
   ],
   "source": [
    "replicates['Subject'].value_counts()"
   ]
  },
  {
   "cell_type": "code",
   "execution_count": 16,
   "metadata": {
    "collapsed": false
   },
   "outputs": [
    {
     "data": {
      "text/plain": "                       Subject Sample Location Replicate   Health\nNAME                                                             \nN8.EpiA.AAACATTGCGTTGA      N8   EpiA      Epi         A  Healthy\nN8.EpiB.AAAGTTTGACCCTC      N8   EpiB      Epi         B  Healthy\nN8.LPA.AACAATACAGTGTC       N8    LPA       LP         A  Healthy\nN8.LPB.AACTCGGATGTCCC       N8    LPB       LP         B  Healthy",
      "text/html": "<div>\n<style scoped>\n    .dataframe tbody tr th:only-of-type {\n        vertical-align: middle;\n    }\n\n    .dataframe tbody tr th {\n        vertical-align: top;\n    }\n\n    .dataframe thead th {\n        text-align: right;\n    }\n</style>\n<table border=\"1\" class=\"dataframe\">\n  <thead>\n    <tr style=\"text-align: right;\">\n      <th></th>\n      <th>Subject</th>\n      <th>Sample</th>\n      <th>Location</th>\n      <th>Replicate</th>\n      <th>Health</th>\n    </tr>\n    <tr>\n      <th>NAME</th>\n      <th></th>\n      <th></th>\n      <th></th>\n      <th></th>\n      <th></th>\n    </tr>\n  </thead>\n  <tbody>\n    <tr>\n      <th>N8.EpiA.AAACATTGCGTTGA</th>\n      <td>N8</td>\n      <td>EpiA</td>\n      <td>Epi</td>\n      <td>A</td>\n      <td>Healthy</td>\n    </tr>\n    <tr>\n      <th>N8.EpiB.AAAGTTTGACCCTC</th>\n      <td>N8</td>\n      <td>EpiB</td>\n      <td>Epi</td>\n      <td>B</td>\n      <td>Healthy</td>\n    </tr>\n    <tr>\n      <th>N8.LPA.AACAATACAGTGTC</th>\n      <td>N8</td>\n      <td>LPA</td>\n      <td>LP</td>\n      <td>A</td>\n      <td>Healthy</td>\n    </tr>\n    <tr>\n      <th>N8.LPB.AACTCGGATGTCCC</th>\n      <td>N8</td>\n      <td>LPB</td>\n      <td>LP</td>\n      <td>B</td>\n      <td>Healthy</td>\n    </tr>\n  </tbody>\n</table>\n</div>"
     },
     "execution_count": 16,
     "metadata": {},
     "output_type": "execute_result"
    }
   ],
   "source": [
    "new_meta.loc[new_meta['Subject']=='N52'].drop_duplicates()\n",
    "new_meta.loc[new_meta['Subject']=='N58'].drop_duplicates()\n",
    "new_meta.loc[new_meta['Subject']=='N111'].drop_duplicates()\n",
    "new_meta.loc[new_meta['Subject']=='N110'].drop_duplicates()\n",
    "new_meta.loc[new_meta['Subject']=='N49'].drop_duplicates()\n",
    "new_meta.loc[new_meta['Subject']=='N19'].drop_duplicates()\n",
    "new_meta.loc[new_meta['Subject']=='N8'].drop_duplicates()"
   ]
  },
  {
   "cell_type": "markdown",
   "metadata": {},
   "source": [
    "Check the number of cell types."
   ]
  },
  {
   "cell_type": "code",
   "execution_count": 17,
   "metadata": {
    "collapsed": false
   },
   "outputs": [
    {
     "data": {
      "text/plain": "51"
     },
     "execution_count": 17,
     "metadata": {},
     "output_type": "execute_result"
    }
   ],
   "source": [
    "len(np.unique(meta['Cluster']))"
   ]
  },
  {
   "cell_type": "markdown",
   "metadata": {},
   "source": [
    "Merge health status info and replicate info with the remaining metadata."
   ]
  },
  {
   "cell_type": "code",
   "execution_count": 18,
   "metadata": {
    "collapsed": true
   },
   "outputs": [
    {
     "data": {
      "text/plain": "                        Subject Sample Location Replicate    Health  \\\nNAME                                                                  \nN10.EpiA.AAACATACAACCAC     N10   EpiA      Epi         A   Healthy   \nN10.EpiA.AAACATACAGGCGA     N10   EpiA      Epi         A   Healthy   \nN10.EpiA.AAACATACCACTAG     N10   EpiA      Epi         A   Healthy   \nN10.EpiA.AAACATACCCTTTA     N10   EpiA      Epi         A   Healthy   \nN10.EpiA.AAACATACTGCAAC     N10   EpiA      Epi         A   Healthy   \n...                         ...    ...      ...       ...       ...   \nN9.LPB.TTTATCCTAACGAA        N9    LPB       LP         B  Inflamed   \nN9.LPB.TTTATCCTGTAAAG        N9    LPB       LP         B  Inflamed   \nN9.LPB.TTTATCCTGTCGTA        N9    LPB       LP         B  Inflamed   \nN9.LPB.TTTCAGTGGCGTTA        N9    LPB       LP         B  Inflamed   \nN9.LPB.TTTGCATGGATACC        N9    LPB       LP         B  Inflamed   \n\n                                        Cluster nGene   nUMI  \nNAME                                                          \nN10.EpiA.AAACATACAACCAC  Enterocyte Progenitors   425    968  \nN10.EpiA.AAACATACAGGCGA              Cycling TA  1695   7273  \nN10.EpiA.AAACATACCACTAG         Immature Goblet   391   1190  \nN10.EpiA.AAACATACCCTTTA            Secretory TA  1327   5620  \nN10.EpiA.AAACATACTGCAAC  Immature Enterocytes 2  1383   4676  \n...                                         ...   ...    ...  \nN9.LPB.TTTATCCTAACGAA               Enterocytes  2768  18811  \nN9.LPB.TTTATCCTGTAAAG                    Plasma  1392  27685  \nN9.LPB.TTTATCCTGTCGTA                    Plasma   574   5478  \nN9.LPB.TTTCAGTGGCGTTA               Macrophages  1437   5698  \nN9.LPB.TTTGCATGGATACC                   CD8+ LP   544   1348  \n\n[365492 rows x 8 columns]",
      "text/html": "<div>\n<style scoped>\n    .dataframe tbody tr th:only-of-type {\n        vertical-align: middle;\n    }\n\n    .dataframe tbody tr th {\n        vertical-align: top;\n    }\n\n    .dataframe thead th {\n        text-align: right;\n    }\n</style>\n<table border=\"1\" class=\"dataframe\">\n  <thead>\n    <tr style=\"text-align: right;\">\n      <th></th>\n      <th>Subject</th>\n      <th>Sample</th>\n      <th>Location</th>\n      <th>Replicate</th>\n      <th>Health</th>\n      <th>Cluster</th>\n      <th>nGene</th>\n      <th>nUMI</th>\n    </tr>\n    <tr>\n      <th>NAME</th>\n      <th></th>\n      <th></th>\n      <th></th>\n      <th></th>\n      <th></th>\n      <th></th>\n      <th></th>\n      <th></th>\n    </tr>\n  </thead>\n  <tbody>\n    <tr>\n      <th>N10.EpiA.AAACATACAACCAC</th>\n      <td>N10</td>\n      <td>EpiA</td>\n      <td>Epi</td>\n      <td>A</td>\n      <td>Healthy</td>\n      <td>Enterocyte Progenitors</td>\n      <td>425</td>\n      <td>968</td>\n    </tr>\n    <tr>\n      <th>N10.EpiA.AAACATACAGGCGA</th>\n      <td>N10</td>\n      <td>EpiA</td>\n      <td>Epi</td>\n      <td>A</td>\n      <td>Healthy</td>\n      <td>Cycling TA</td>\n      <td>1695</td>\n      <td>7273</td>\n    </tr>\n    <tr>\n      <th>N10.EpiA.AAACATACCACTAG</th>\n      <td>N10</td>\n      <td>EpiA</td>\n      <td>Epi</td>\n      <td>A</td>\n      <td>Healthy</td>\n      <td>Immature Goblet</td>\n      <td>391</td>\n      <td>1190</td>\n    </tr>\n    <tr>\n      <th>N10.EpiA.AAACATACCCTTTA</th>\n      <td>N10</td>\n      <td>EpiA</td>\n      <td>Epi</td>\n      <td>A</td>\n      <td>Healthy</td>\n      <td>Secretory TA</td>\n      <td>1327</td>\n      <td>5620</td>\n    </tr>\n    <tr>\n      <th>N10.EpiA.AAACATACTGCAAC</th>\n      <td>N10</td>\n      <td>EpiA</td>\n      <td>Epi</td>\n      <td>A</td>\n      <td>Healthy</td>\n      <td>Immature Enterocytes 2</td>\n      <td>1383</td>\n      <td>4676</td>\n    </tr>\n    <tr>\n      <th>...</th>\n      <td>...</td>\n      <td>...</td>\n      <td>...</td>\n      <td>...</td>\n      <td>...</td>\n      <td>...</td>\n      <td>...</td>\n      <td>...</td>\n    </tr>\n    <tr>\n      <th>N9.LPB.TTTATCCTAACGAA</th>\n      <td>N9</td>\n      <td>LPB</td>\n      <td>LP</td>\n      <td>B</td>\n      <td>Inflamed</td>\n      <td>Enterocytes</td>\n      <td>2768</td>\n      <td>18811</td>\n    </tr>\n    <tr>\n      <th>N9.LPB.TTTATCCTGTAAAG</th>\n      <td>N9</td>\n      <td>LPB</td>\n      <td>LP</td>\n      <td>B</td>\n      <td>Inflamed</td>\n      <td>Plasma</td>\n      <td>1392</td>\n      <td>27685</td>\n    </tr>\n    <tr>\n      <th>N9.LPB.TTTATCCTGTCGTA</th>\n      <td>N9</td>\n      <td>LPB</td>\n      <td>LP</td>\n      <td>B</td>\n      <td>Inflamed</td>\n      <td>Plasma</td>\n      <td>574</td>\n      <td>5478</td>\n    </tr>\n    <tr>\n      <th>N9.LPB.TTTCAGTGGCGTTA</th>\n      <td>N9</td>\n      <td>LPB</td>\n      <td>LP</td>\n      <td>B</td>\n      <td>Inflamed</td>\n      <td>Macrophages</td>\n      <td>1437</td>\n      <td>5698</td>\n    </tr>\n    <tr>\n      <th>N9.LPB.TTTGCATGGATACC</th>\n      <td>N9</td>\n      <td>LPB</td>\n      <td>LP</td>\n      <td>B</td>\n      <td>Inflamed</td>\n      <td>CD8+ LP</td>\n      <td>544</td>\n      <td>1348</td>\n    </tr>\n  </tbody>\n</table>\n<p>365492 rows × 8 columns</p>\n</div>"
     },
     "execution_count": 18,
     "metadata": {},
     "output_type": "execute_result"
    }
   ],
   "source": [
    "meta = new_meta.merge(meta, how='outer', left_index=True, right_index=True, suffixes=('', '_y'))\n",
    "# Drop duplicate columns.\n",
    "meta = meta.drop(columns = [full_name for full_name in meta.columns if full_name.endswith('_y')])\n",
    "meta"
   ]
  },
  {
   "cell_type": "markdown",
   "metadata": {},
   "source": [
    "## Build lineage tree from Figure 1D\n",
    "\n",
    "(Analysis from here by Johannes Ostner)"
   ]
  },
  {
   "cell_type": "markdown",
   "metadata": {},
   "source": [
    "The following cell lineage assignments were extracted from Figure 1D and the methods section (\"Cell Lineage dendrogram\") of Smillie et al. (2019).\n",
    "Unfortunately, the tree and the description do not match. We use the assignment provided in the text.\n",
    "\n",
    "- Epithelial cells\n",
    "    - Absorptive\n",
    "        - TA cells\n",
    "            - TA 1\n",
    "            - TA 2\n",
    "        - Immature cells\n",
    "            - Immature Enterocytes 1\n",
    "            - Immature Enterocytes 2\n",
    "            - Enterocyte Progenitors\n",
    "        - Mature cells\n",
    "            - Enterocytes\n",
    "            - BEST4+ Enterocytes\n",
    "    - Secretory\n",
    "        - Progenitor cells\n",
    "            - Secretory TA\n",
    "            - Immature Goblet\n",
    "        - Mature cells\n",
    "            - Goblet\n",
    "            - Tuft\n",
    "            - Enteroendocrine\n",
    "    - Stem\n",
    "    - Cycling TA\n",
    "    - M cells\n",
    "- Stromal cells\n",
    "    - Glia\n",
    "    - Fibroblast\n",
    "        - WNT2B+\n",
    "            - WNT2B+ Fos-hi\n",
    "            - WNT2B+ Fos-lo 1\n",
    "            - WNT2B+ Fos-lo 2\n",
    "            - RSPO3+\n",
    "        - WNT5B+\n",
    "            - WNT5B+ 1\n",
    "            - WNT5B+ 2\n",
    "        - Inflammatory Fibroblast\n",
    "        - Myofibroblast\n",
    "    - Endothelial\n",
    "        - Endothelial\n",
    "        - Microvascular\n",
    "        - Post-capillary venules\n",
    "        - Pericytes\n",
    "- Immune cells\n",
    "    - Myeloid cells\n",
    "        - Mast\n",
    "            - CD69+ Mast\n",
    "            - CD69- Mast\n",
    "        - Monocytes\n",
    "            - Macrophages\n",
    "            - Cycling Monocytes\n",
    "            - Inflammatory Monocytes\n",
    "            - DCs\n",
    "                - DC1\n",
    "                - DC2\n",
    "    - Lymphoid cells\n",
    "        - NK cells\n",
    "        - ILCs\n",
    "        - B cells\n",
    "            - Plasma\n",
    "            - Follicular\n",
    "            - GC\n",
    "            - Cycling B\n",
    "        - T cells\n",
    "            - CD4+ T cells\n",
    "                - CD4+ Activated Fos-lo\n",
    "                - CD4+ Activated Fos-hi\n",
    "                - CD4+ Memory, Tregs\n",
    "                - PD1+\n",
    "                - MT-hi\n",
    "                - Tregs\n",
    "            - CD8+ T cells\n",
    "                - CD8+ IELs\n",
    "                - CD8+ LP\n",
    "                - CD8+IL-17+\n",
    "                - Cycling T\n",
    "\n",
    "\n",
    "The rough annotation in Figure 1C can be inferred as follows:\n",
    "- Fibroblasts: WNT2B+ Fos-hi, WNT2B+ Fos-lo 1,WNT2B+ Fos-lo 2, WNT5B+ 1, WNT5B+ 2, RSPO3+, Inflammatory Fibroblasts, Myofibroblasts, \n",
    "- Endothelial: Endothelial, Microvascular, Post-capillary Venules, Pericytes \n",
    "- Glia\n",
    "- NKs/ILCs: NKs, ILCs\n",
    "- Myeloid: Macrophages, DC1, DC2, Inflammatory Monocytes, CD69+ Mast, CD69- Mast, Cycling Monocytes\n",
    "- T cells: CD4+ Activated Fos-hi, CD4+ Activated Fos-lo, CD4+ Memory, Tregs, CD4+ PD1+, CD8+ IELs, CD8+ IL17+, CD8+ LP, MT-hi, Cycling T\n",
    "- B cells: Plasma, Follicular, GC, Cycling B\n",
    "- Epithelial: Stem, TA 1, TA 2, Cycling TA, Immature Enterocytes 1, Immature Enterocytes 2, Enterocytes, M-like cells, Best4+ Enterocytes, Secretory TA, Immature Goblet, Goblet, Tuft, Enteroendocrine, Enterocyte Progenitors"
   ]
  },
  {
   "cell_type": "code",
   "execution_count": 19,
   "metadata": {
    "collapsed": true
   },
   "outputs": [
    {
     "data": {
      "text/plain": "                        Subject Sample Location Replicate    Health  \\\nNAME                                                                  \nN10.EpiA.AAACATACAACCAC     N10   EpiA      Epi         A   Healthy   \nN10.EpiA.AAACATACAGGCGA     N10   EpiA      Epi         A   Healthy   \nN10.EpiA.AAACATACCACTAG     N10   EpiA      Epi         A   Healthy   \nN10.EpiA.AAACATACCCTTTA     N10   EpiA      Epi         A   Healthy   \nN10.EpiA.AAACATACTGCAAC     N10   EpiA      Epi         A   Healthy   \n...                         ...    ...      ...       ...       ...   \nN9.LPB.TTTATCCTAACGAA        N9    LPB       LP         B  Inflamed   \nN9.LPB.TTTATCCTGTAAAG        N9    LPB       LP         B  Inflamed   \nN9.LPB.TTTATCCTGTCGTA        N9    LPB       LP         B  Inflamed   \nN9.LPB.TTTCAGTGGCGTTA        N9    LPB       LP         B  Inflamed   \nN9.LPB.TTTGCATGGATACC        N9    LPB       LP         B  Inflamed   \n\n                                        Cluster nGene   nUMI  \nNAME                                                          \nN10.EpiA.AAACATACAACCAC  Enterocyte Progenitors   425    968  \nN10.EpiA.AAACATACAGGCGA              Cycling TA  1695   7273  \nN10.EpiA.AAACATACCACTAG         Immature Goblet   391   1190  \nN10.EpiA.AAACATACCCTTTA            Secretory TA  1327   5620  \nN10.EpiA.AAACATACTGCAAC  Immature Enterocytes 2  1383   4676  \n...                                         ...   ...    ...  \nN9.LPB.TTTATCCTAACGAA               Enterocytes  2768  18811  \nN9.LPB.TTTATCCTGTAAAG                    Plasma  1392  27685  \nN9.LPB.TTTATCCTGTCGTA                    Plasma   574   5478  \nN9.LPB.TTTCAGTGGCGTTA               Macrophages  1437   5698  \nN9.LPB.TTTGCATGGATACC                   CD8+ LP   544   1348  \n\n[365492 rows x 8 columns]",
      "text/html": "<div>\n<style scoped>\n    .dataframe tbody tr th:only-of-type {\n        vertical-align: middle;\n    }\n\n    .dataframe tbody tr th {\n        vertical-align: top;\n    }\n\n    .dataframe thead th {\n        text-align: right;\n    }\n</style>\n<table border=\"1\" class=\"dataframe\">\n  <thead>\n    <tr style=\"text-align: right;\">\n      <th></th>\n      <th>Subject</th>\n      <th>Sample</th>\n      <th>Location</th>\n      <th>Replicate</th>\n      <th>Health</th>\n      <th>Cluster</th>\n      <th>nGene</th>\n      <th>nUMI</th>\n    </tr>\n    <tr>\n      <th>NAME</th>\n      <th></th>\n      <th></th>\n      <th></th>\n      <th></th>\n      <th></th>\n      <th></th>\n      <th></th>\n      <th></th>\n    </tr>\n  </thead>\n  <tbody>\n    <tr>\n      <th>N10.EpiA.AAACATACAACCAC</th>\n      <td>N10</td>\n      <td>EpiA</td>\n      <td>Epi</td>\n      <td>A</td>\n      <td>Healthy</td>\n      <td>Enterocyte Progenitors</td>\n      <td>425</td>\n      <td>968</td>\n    </tr>\n    <tr>\n      <th>N10.EpiA.AAACATACAGGCGA</th>\n      <td>N10</td>\n      <td>EpiA</td>\n      <td>Epi</td>\n      <td>A</td>\n      <td>Healthy</td>\n      <td>Cycling TA</td>\n      <td>1695</td>\n      <td>7273</td>\n    </tr>\n    <tr>\n      <th>N10.EpiA.AAACATACCACTAG</th>\n      <td>N10</td>\n      <td>EpiA</td>\n      <td>Epi</td>\n      <td>A</td>\n      <td>Healthy</td>\n      <td>Immature Goblet</td>\n      <td>391</td>\n      <td>1190</td>\n    </tr>\n    <tr>\n      <th>N10.EpiA.AAACATACCCTTTA</th>\n      <td>N10</td>\n      <td>EpiA</td>\n      <td>Epi</td>\n      <td>A</td>\n      <td>Healthy</td>\n      <td>Secretory TA</td>\n      <td>1327</td>\n      <td>5620</td>\n    </tr>\n    <tr>\n      <th>N10.EpiA.AAACATACTGCAAC</th>\n      <td>N10</td>\n      <td>EpiA</td>\n      <td>Epi</td>\n      <td>A</td>\n      <td>Healthy</td>\n      <td>Immature Enterocytes 2</td>\n      <td>1383</td>\n      <td>4676</td>\n    </tr>\n    <tr>\n      <th>...</th>\n      <td>...</td>\n      <td>...</td>\n      <td>...</td>\n      <td>...</td>\n      <td>...</td>\n      <td>...</td>\n      <td>...</td>\n      <td>...</td>\n    </tr>\n    <tr>\n      <th>N9.LPB.TTTATCCTAACGAA</th>\n      <td>N9</td>\n      <td>LPB</td>\n      <td>LP</td>\n      <td>B</td>\n      <td>Inflamed</td>\n      <td>Enterocytes</td>\n      <td>2768</td>\n      <td>18811</td>\n    </tr>\n    <tr>\n      <th>N9.LPB.TTTATCCTGTAAAG</th>\n      <td>N9</td>\n      <td>LPB</td>\n      <td>LP</td>\n      <td>B</td>\n      <td>Inflamed</td>\n      <td>Plasma</td>\n      <td>1392</td>\n      <td>27685</td>\n    </tr>\n    <tr>\n      <th>N9.LPB.TTTATCCTGTCGTA</th>\n      <td>N9</td>\n      <td>LPB</td>\n      <td>LP</td>\n      <td>B</td>\n      <td>Inflamed</td>\n      <td>Plasma</td>\n      <td>574</td>\n      <td>5478</td>\n    </tr>\n    <tr>\n      <th>N9.LPB.TTTCAGTGGCGTTA</th>\n      <td>N9</td>\n      <td>LPB</td>\n      <td>LP</td>\n      <td>B</td>\n      <td>Inflamed</td>\n      <td>Macrophages</td>\n      <td>1437</td>\n      <td>5698</td>\n    </tr>\n    <tr>\n      <th>N9.LPB.TTTGCATGGATACC</th>\n      <td>N9</td>\n      <td>LPB</td>\n      <td>LP</td>\n      <td>B</td>\n      <td>Inflamed</td>\n      <td>CD8+ LP</td>\n      <td>544</td>\n      <td>1348</td>\n    </tr>\n  </tbody>\n</table>\n<p>365492 rows × 8 columns</p>\n</div>"
     },
     "execution_count": 19,
     "metadata": {},
     "output_type": "execute_result"
    }
   ],
   "source": [
    "meta['Cluster'] = meta['Cluster'].astype('category')\n",
    "\n",
    "meta"
   ]
  },
  {
   "cell_type": "code",
   "execution_count": 20,
   "metadata": {
    "collapsed": true
   },
   "outputs": [],
   "source": [
    "meta['Major_l1'] = meta['Cluster'].cat.add_categories(['Stromal', 'Epithelial', 'Immune'])\n",
    "meta['Major_l1'][np.in1d(meta['Major_l1'], ['WNT2B+ Fos-hi', 'WNT2B+ Fos-lo 1', 'WNT2B+ Fos-lo 2', 'WNT5B+ 1', 'WNT5B+ 2', 'RSPO3+', \n",
    "                                      'Inflammatory Fibroblasts', 'Myofibroblasts', 'Endothelial', 'Microvascular', \n",
    "                                      'Post-capillary Venules', 'Pericytes', 'Glia'])] = 'Stromal'\n",
    "meta['Major_l1'][np.in1d(meta['Major_l1'], ['Stem', 'TA 1', 'TA 2', 'Cycling TA', 'Immature Enterocytes 1', 'Immature Enterocytes 2', \n",
    "                         'Enterocytes', 'M cells', 'Best4+ Enterocytes', 'Secretory TA', 'Immature Goblet', 'Goblet', \n",
    "                         'Tuft', 'Enteroendocrine', 'Enterocyte Progenitors'])] = 'Epithelial'\n",
    "meta['Major_l1'][np.in1d(meta['Major_l1'], ['Macrophages', 'DC1', 'DC2', 'Inflammatory Monocytes', 'CD69+ Mast', 'CD69- Mast', \n",
    "                                      'Cycling Monocytes', 'CD4+ Activated Fos-hi', 'CD4+ Activated Fos-lo', 'CD4+ Memory', \n",
    "                                      'NKs', 'ILCs', 'Tregs', 'CD4+ PD1+', 'CD8+ IELs', 'CD8+ IL17+', 'CD8+ LP', 'MT-hi', \n",
    "                                      'Cycling T', 'Plasma', 'Follicular', 'GC', 'Cycling B'])] = 'Immune'\n",
    "meta['Major_l1'] = meta['Major_l1'].cat.remove_unused_categories()"
   ]
  },
  {
   "cell_type": "code",
   "execution_count": 21,
   "outputs": [],
   "source": [
    "meta['Major_l2'] = meta['Cluster'].cat.add_categories(['Stromal', 'Epithelial', 'Myeloid', 'Lymphoid'])\n",
    "meta['Major_l2'][np.in1d(meta['Major_l2'], ['WNT2B+ Fos-hi', 'WNT2B+ Fos-lo 1', 'WNT2B+ Fos-lo 2', 'WNT5B+ 1', 'WNT5B+ 2', 'RSPO3+',\n",
    "                                      'Inflammatory Fibroblasts', 'Myofibroblasts', 'Endothelial', 'Microvascular',\n",
    "                                      'Post-capillary Venules', 'Pericytes', 'Glia'])] = 'Stromal'\n",
    "meta['Major_l2'][np.in1d(meta['Major_l2'], ['Stem', 'TA 1', 'TA 2', 'Cycling TA', 'Immature Enterocytes 1', 'Immature Enterocytes 2',\n",
    "                         'Enterocytes', 'M cells', 'Best4+ Enterocytes', 'Secretory TA', 'Immature Goblet', 'Goblet',\n",
    "                         'Tuft', 'Enteroendocrine', 'Enterocyte Progenitors'])] = 'Epithelial'\n",
    "meta['Major_l2'][np.in1d(meta['Major_l2'], ['Macrophages', 'DC1', 'DC2', 'Inflammatory Monocytes', 'CD69+ Mast', 'CD69- Mast',\n",
    "                                      'Cycling Monocytes'])] = 'Myeloid'\n",
    "meta['Major_l2'][np.in1d(meta['Major_l2'], ['CD4+ Activated Fos-hi', 'CD4+ Activated Fos-lo', 'CD4+ Memory',\n",
    "                                      'NKs', 'ILCs', 'Tregs', 'CD4+ PD1+', 'CD8+ IELs', 'CD8+ IL17+', 'CD8+ LP', 'MT-hi',\n",
    "                                      'Cycling T', 'Plasma', 'Follicular', 'GC', 'Cycling B'])] = 'Lymphoid'\n",
    "meta['Major_l2'] = meta['Major_l2'].cat.remove_unused_categories()"
   ],
   "metadata": {
    "collapsed": false,
    "pycharm": {
     "name": "#%%\n"
    }
   }
  },
  {
   "cell_type": "code",
   "execution_count": 22,
   "metadata": {
    "collapsed": true
   },
   "outputs": [],
   "source": [
    "meta['Major_l3'] = meta['Cluster'].cat.add_categories(['Absorptive', 'Secretory', 'Stem3', 'Cycling TA3', 'M cells3', 'Glia3', 'Fibroblasts', 'Endothelial3', 'Mast', 'Monocytes', 'NKs3', 'ILCs3', 'B cells', 'T cells'])\n",
    "\n",
    "meta['Major_l3'][np.in1d(meta['Major_l3'], ['WNT2B+ Fos-hi', 'WNT2B+ Fos-lo 1', 'WNT2B+ Fos-lo 2', 'WNT5B+ 1', 'WNT5B+ 2', 'RSPO3+',\n",
    "                                      'Inflammatory Fibroblasts', 'Myofibroblasts'])] = 'Fibroblasts'\n",
    "meta['Major_l3'][np.in1d(meta['Major_l3'], ['Endothelial', 'Microvascular',\n",
    "                                      'Post-capillary Venules', 'Pericytes'])] = 'Endothelial3'\n",
    "meta['Major_l3'][np.in1d(meta['Major_l3'], ['Glia'])] = 'Glia3'\n",
    "\n",
    "meta['Major_l3'][np.in1d(meta['Major_l3'], ['TA 1', 'TA 2', 'Immature Enterocytes 1', 'Immature Enterocytes 2',\n",
    "                         'Enterocytes', 'Best4+ Enterocytes', 'Enterocyte Progenitors'])] = 'Absorptive'\n",
    "meta['Major_l3'][np.in1d(meta['Major_l3'], ['Secretory TA', 'Immature Goblet', 'Goblet', 'Tuft', 'Enteroendocrine'])] = 'Secretory'\n",
    "meta['Major_l3'][np.in1d(meta['Major_l3'], ['Stem'])] = 'Stem3'\n",
    "meta['Major_l3'][np.in1d(meta['Major_l3'], ['Cycling TA'])] = 'Cycling TA3'\n",
    "meta['Major_l3'][np.in1d(meta['Major_l3'], ['M cells'])] = 'M cells3'\n",
    "\n",
    "meta['Major_l3'][np.in1d(meta['Major_l3'], ['Plasma', 'Follicular', 'GC', 'Cycling B'])] = 'B cells'\n",
    "meta['Major_l3'][np.in1d(meta['Major_l3'], [ 'CD4+ Activated Fos-hi', 'CD4+ Activated Fos-lo', 'CD4+ Memory',\n",
    "                                      'Tregs', 'CD4+ PD1+', 'CD8+ IELs', 'CD8+ IL17+', 'CD8+ LP', 'MT-hi',\n",
    "                                      'Cycling T'])] = 'T cells'\n",
    "meta['Major_l3'][np.in1d(meta['Major_l3'], ['CD69+ Mast', 'CD69- Mast'])] = 'Mast'\n",
    "meta['Major_l3'][np.in1d(meta['Major_l3'], ['Macrophages', 'DC1', 'DC2', 'Inflammatory Monocytes', 'Cycling Monocytes'])] = 'Monocytes'\n",
    "meta['Major_l3'][np.in1d(meta['Major_l3'], ['NKs'])] = 'NKs3'\n",
    "meta['Major_l3'][np.in1d(meta['Major_l3'], ['ILCs'])] = 'ILCs3'\n",
    "\n",
    "meta['Major_l3'] = meta['Major_l3'].cat.remove_unused_categories()"
   ]
  },
  {
   "cell_type": "code",
   "execution_count": 23,
   "outputs": [],
   "source": [
    "meta['Major_l4'] = meta['Cluster'].cat.add_categories(['TA cells', 'Immature cells', 'Absorptive Mature cells', 'Progenitor cells', 'Secretory Mature cells', 'Stem4', 'Cycling TA4', 'M cells4',\n",
    "                                                       'Glia4', 'WNT2B+', 'WNT5B+', 'Inflammatory Fibroblast4', 'Myofibroblast4', 'EndothelialCells', 'Microvascular4', 'Post-capillary venules4', 'Pericytes4',\n",
    "                                                       'CD69+ Mast4', 'CD69- Mast4', 'Macrophages4', 'Cycling Monocytes4', 'Inflammatory Monocytes4', 'DCs',\n",
    "                                                       'NKs4', 'ILCs4', 'Plasma4', 'Follicular4', 'GC4', 'Cycling B4', 'CD4+ T', 'CD8+ T'])\n",
    "\n",
    "meta['Major_l4'][np.in1d(meta['Major_l4'], ['WNT2B+ Fos-hi', 'WNT2B+ Fos-lo 1', 'WNT2B+ Fos-lo 2', 'RSPO3+'])] = 'WNT2B+'\n",
    "meta['Major_l4'][np.in1d(meta['Major_l4'], ['WNT5B+ 1', 'WNT5B+ 2'])] = 'WNT5B+'\n",
    "meta['Major_l4'][np.in1d(meta['Major_l4'], ['Inflammatory Fibroblasts'])] = 'Inflammatory Fibroblast4'\n",
    "meta['Major_l4'][np.in1d(meta['Major_l4'], ['Myofibroblasts'])] = 'Myofibroblast4'\n",
    "\n",
    "meta['Major_l4'][np.in1d(meta['Major_l4'], ['Endothelial', 'Microvascular', 'Post-capillary Venules', 'Pericytes'])] = 'EndothelialCells'\n",
    "meta['Major_l4'][np.in1d(meta['Major_l4'], ['Glia'])] = 'Glia4'\n",
    "\n",
    "meta['Major_l4'][np.in1d(meta['Major_l4'], ['TA 1', 'TA 2'])] = 'TA cells'\n",
    "meta['Major_l4'][np.in1d(meta['Major_l4'], ['Immature Enterocytes 1', 'Immature Enterocytes 2', 'Enterocyte Progenitors'])] = 'Immature cells'\n",
    "meta['Major_l4'][np.in1d(meta['Major_l4'], ['Enterocytes', 'Best4+ Enterocytes'])] = 'Absorptive Mature cells'\n",
    "\n",
    "meta['Major_l4'][np.in1d(meta['Major_l4'], ['Secretory TA', 'Immature Goblet'])] = 'Progenitor cells'\n",
    "meta['Major_l4'][np.in1d(meta['Major_l4'], ['Goblet', 'Tuft', 'Enteroendocrine'])] = 'Secretory Mature cells'\n",
    "\n",
    "meta['Major_l4'][np.in1d(meta['Major_l4'], ['Stem'])] = 'Stem4'\n",
    "meta['Major_l4'][np.in1d(meta['Major_l4'], ['Cycling TA'])] = 'Cycling TA4'\n",
    "meta['Major_l4'][np.in1d(meta['Major_l4'], ['M cells'])] = 'M cells4'\n",
    "\n",
    "meta['Major_l4'][np.in1d(meta['Major_l4'], ['Plasma'])] = 'Plasma4'\n",
    "meta['Major_l4'][np.in1d(meta['Major_l4'], ['Follicular'])] = 'Follicular4'\n",
    "meta['Major_l4'][np.in1d(meta['Major_l4'], ['GC'])] = 'GC4'\n",
    "meta['Major_l4'][np.in1d(meta['Major_l4'], ['Cycling B'])] = 'Cycling B4'\n",
    "\n",
    "meta['Major_l4'][np.in1d(meta['Major_l4'], [ 'CD4+ Activated Fos-hi', 'CD4+ Activated Fos-lo', 'CD4+ Memory',\n",
    "                                      'Tregs', 'CD4+ PD1+', 'MT-hi'])] = 'CD4+ T'\n",
    "meta['Major_l4'][np.in1d(meta['Major_l4'], ['CD8+ IELs', 'CD8+ IL17+', 'CD8+ LP', 'Cycling T'])] = 'CD8+ T'\n",
    "\n",
    "meta['Major_l4'][np.in1d(meta['Major_l4'], ['CD69+ Mast'])] = 'CD69+ Mast4'\n",
    "meta['Major_l4'][np.in1d(meta['Major_l4'], ['CD69- Mast'])] = 'CD69- Mast4'\n",
    "\n",
    "meta['Major_l4'][np.in1d(meta['Major_l4'], ['Macrophages'])] = 'Macrophages4'\n",
    "meta['Major_l4'][np.in1d(meta['Major_l4'], ['DC1', 'DC2'])] = 'DCs'\n",
    "meta['Major_l4'][np.in1d(meta['Major_l4'], ['Inflammatory Monocytes'])] = 'Inflammatory Monocytes4'\n",
    "meta['Major_l4'][np.in1d(meta['Major_l4'], ['Cycling Monocytes'])] = 'Cycling Monocytes4'\n",
    "\n",
    "meta['Major_l4'][np.in1d(meta['Major_l4'], ['NKs'])] = 'NKs4'\n",
    "meta['Major_l4'][np.in1d(meta['Major_l4'], ['ILCs'])] = 'ILCs4'\n",
    "\n",
    "meta['Major_l4'] = meta['Major_l4'].cat.remove_unused_categories()"
   ],
   "metadata": {
    "collapsed": false,
    "pycharm": {
     "name": "#%%\n"
    }
   }
  },
  {
   "cell_type": "code",
   "execution_count": 24,
   "metadata": {
    "collapsed": false
   },
   "outputs": [
    {
     "data": {
      "text/plain": "Immune        210614\nEpithelial    123006\nStromal        31872\nName: Major_l1, dtype: int64"
     },
     "execution_count": 24,
     "metadata": {},
     "output_type": "execute_result"
    }
   ],
   "source": [
    "pd.value_counts(meta['Major_l1'])"
   ]
  },
  {
   "cell_type": "code",
   "execution_count": 25,
   "metadata": {
    "collapsed": false
   },
   "outputs": [
    {
     "data": {
      "text/plain": "Lymphoid      183304\nEpithelial    123006\nStromal        31872\nMyeloid        27310\nName: Major_l2, dtype: int64"
     },
     "execution_count": 25,
     "metadata": {},
     "output_type": "execute_result"
    }
   ],
   "source": [
    "pd.value_counts(meta['Major_l2'])"
   ]
  },
  {
   "cell_type": "code",
   "execution_count": 26,
   "outputs": [
    {
     "data": {
      "text/plain": "B cells         107246\nAbsorptive       83833\nT cells          73526\nFibroblasts      24290\nMonocytes        21513\nCycling TA3      18204\nSecretory        18125\nEndothelial3      6320\nMast              5797\nStem3             2403\nNKs3              2023\nGlia3             1262\nILCs3              509\nM cells3           441\nName: Major_l3, dtype: int64"
     },
     "execution_count": 26,
     "metadata": {},
     "output_type": "execute_result"
    }
   ],
   "source": [
    "pd.value_counts(meta['Major_l3'])"
   ],
   "metadata": {
    "collapsed": false,
    "pycharm": {
     "name": "#%%\n"
    }
   }
  },
  {
   "cell_type": "code",
   "execution_count": 27,
   "outputs": [
    {
     "data": {
      "text/plain": "Plasma4                     82651\nCD4+ T                      53968\nTA cells                    49445\nImmature cells              26585\nFollicular4                 21468\nCD8+ T                      19558\nCycling TA4                 18204\nMacrophages4                16692\nProgenitor cells            14436\nWNT2B+                      14179\nAbsorptive Mature cells      7803\nEndothelialCells             6320\nWNT5B+                       5855\nCD69+ Mast4                  5654\nSecretory Mature cells       3689\nDCs                          2819\nStem4                        2403\nInflammatory Fibroblast4     2268\nCycling B4                   2211\nNKs4                         2023\nMyofibroblast4               1988\nInflammatory Monocytes4      1652\nGlia4                        1262\nGC4                           916\nILCs4                         509\nM cells4                      441\nCycling Monocytes4            350\nCD69- Mast4                   143\nName: Major_l4, dtype: int64"
     },
     "execution_count": 27,
     "metadata": {},
     "output_type": "execute_result"
    }
   ],
   "source": [
    "pd.value_counts(meta['Major_l4'])"
   ],
   "metadata": {
    "collapsed": false,
    "pycharm": {
     "name": "#%%\n"
    }
   }
  },
  {
   "cell_type": "code",
   "execution_count": 28,
   "metadata": {
    "collapsed": true
   },
   "outputs": [],
   "source": [
    "meta['Major_l1'] = meta['Major_l1'].astype(str)\n",
    "meta['Major_l2'] = meta['Major_l2'].astype(str)\n",
    "meta['Major_l3'] = meta['Major_l3'].astype(str)\n",
    "meta['Major_l4'] = meta['Major_l4'].astype(str)"
   ]
  },
  {
   "cell_type": "markdown",
   "source": [
    "Try to make a tree out of this"
   ],
   "metadata": {
    "collapsed": false,
    "pycharm": {
     "name": "#%% md\n"
    }
   }
  },
  {
   "cell_type": "code",
   "execution_count": 29,
   "outputs": [
    {
     "name": "stdout",
     "output_type": "stream",
     "text": [
      "(((((Enterocyte Progenitors,Immature Enterocytes 2,Immature Enterocytes 1)Immature cells,(TA 1,TA 2)TA cells,(Best4+ Enterocytes,Enterocytes)Absorptive Mature cells)Absorptive,((Cycling TA)Cycling TA4)Cycling TA3,((Immature Goblet,Secretory TA)Progenitor cells,(Enteroendocrine,Goblet,Tuft)Secretory Mature cells)Secretory,((Stem)Stem4)Stem3,((M cells)M cells4)M cells3)Epithelial)Epithelial,((((CD8+ IELs,CD8+ LP,Cycling T,CD8+ IL17+)CD8+ T,(CD4+ Memory,CD4+ Activated Fos-lo,CD4+ PD1+,CD4+ Activated Fos-hi,MT-hi,Tregs)CD4+ T)T cells,((Cycling B)Cycling B4,(GC)GC4,(Follicular)Follicular4,(Plasma)Plasma4)B cells,((NKs)NKs4)NKs3,((ILCs)ILCs4)ILCs3)Lymphoid,(((CD69+ Mast)CD69+ Mast4,(CD69- Mast)CD69- Mast4)Mast,((Macrophages)Macrophages4,(DC2,DC1)DCs,(Inflammatory Monocytes)Inflammatory Monocytes4,(Cycling Monocytes)Cycling Monocytes4)Monocytes)Myeloid)Immune,((((WNT5B+ 2,WNT5B+ 1)WNT5B+,(WNT2B+ Fos-hi,WNT2B+ Fos-lo 1,RSPO3+,WNT2B+ Fos-lo 2)WNT2B+,(Inflammatory Fibroblasts)Inflammatory Fibroblast4,(Myofibroblasts)Myofibroblast4)Fibroblasts,((Pericytes,Microvascular,Endothelial,Post-capillary Venules)EndothelialCells)Endothelial3,((Glia)Glia4)Glia3)Stromal)Stromal);\n"
     ]
    }
   ],
   "source": [
    "tree_levels = [\"Major_l1\", \"Major_l2\", \"Major_l3\", \"Major_l4\", \"Cluster\"]\n",
    "newick = util.df2newick(meta.loc[:, tree_levels].reset_index(drop=True), tree_levels)\n",
    "print(newick)"
   ],
   "metadata": {
    "collapsed": false,
    "pycharm": {
     "name": "#%%\n"
    }
   }
  },
  {
   "cell_type": "code",
   "execution_count": 30,
   "outputs": [
    {
     "data": {
      "text/plain": "(<toyplot.canvas.Canvas at 0x7fc355834c70>,\n <toyplot.coordinates.Cartesian at 0x7fc3558347c0>,\n <toytree.Render.ToytreeMark at 0x7fc354e32eb0>)"
     },
     "execution_count": 30,
     "metadata": {},
     "output_type": "execute_result"
    },
    {
     "data": {
      "text/html": "<div class=\"toyplot\" id=\"tb747033b129f4d678312e3ec148d034f\" style=\"text-align:center\"><svg class=\"toyplot-canvas-Canvas\" xmlns:toyplot=\"http://www.sandia.gov/toyplot\" xmlns:xlink=\"http://www.w3.org/1999/xlink\" xmlns=\"http://www.w3.org/2000/svg\" width=\"365.0px\" height=\"918.0px\" viewBox=\"0 0 365.0 918.0\" preserveAspectRatio=\"xMidYMid meet\" style=\"background-color:transparent;border-color:#292724;border-style:none;border-width:1.0;fill:rgb(16.1%,15.3%,14.1%);fill-opacity:1.0;font-family:Helvetica;font-size:12px;opacity:1.0;stroke:rgb(16.1%,15.3%,14.1%);stroke-opacity:1.0;stroke-width:1.0\" id=\"te6dedd2aff36454a807c137a7c87f512\"><g class=\"toyplot-coordinates-Cartesian\" id=\"tfc4a5a8364d040eeb446a61a16afddc3\"><clipPath id=\"t3f9aa3fd58344327ba118cbedb8c49e6\"><rect x=\"30.0\" y=\"30.0\" width=\"305.0\" height=\"858.0\"></rect></clipPath><g clip-path=\"url(#t3f9aa3fd58344327ba118cbedb8c49e6)\"><g class=\"toytree-mark-Toytree\" id=\"t863d80d708fb4e498d79d8fd737e3633\"><g class=\"toytree-Edges\" style=\"fill:none;stroke:rgb(14.9%,14.9%,14.9%);stroke-linecap:round;stroke-opacity:1;stroke-width:2\"><path d=\"M 50.0 349.4 L 50.0 113.8 L 78.7 113.8\" id=\"100,99\"></path><path d=\"M 50.0 349.4 L 50.0 327.0 L 78.7 327.0\" id=\"100,98\"></path><path d=\"M 50.0 349.4 L 50.0 607.3 L 78.7 607.3\" id=\"100,97\"></path><path d=\"M 78.7 113.8 L 78.7 113.8 L 107.4 113.8\" id=\"99,96\"></path><path d=\"M 78.7 327.0 L 78.7 327.0 L 107.4 327.0\" id=\"98,95\"></path><path d=\"M 78.7 607.3 L 78.7 539.3 L 107.4 539.3\" id=\"97,94\"></path><path d=\"M 78.7 607.3 L 78.7 675.2 L 107.4 675.2\" id=\"97,93\"></path><path d=\"M 107.4 113.8 L 107.4 62.2 L 136.2 62.2\" id=\"96,92\"></path><path d=\"M 107.4 113.8 L 107.4 101.9 L 136.2 101.9\" id=\"96,91\"></path><path d=\"M 107.4 113.8 L 107.4 177.3 L 136.2 177.3\" id=\"96,90\"></path><path d=\"M 107.4 327.0 L 107.4 268.5 L 136.2 268.5\" id=\"95,89\"></path><path d=\"M 107.4 327.0 L 107.4 284.4 L 136.2 284.4\" id=\"95,88\"></path><path d=\"M 107.4 327.0 L 107.4 300.3 L 136.2 300.3\" id=\"95,87\"></path><path d=\"M 107.4 327.0 L 107.4 343.9 L 136.2 343.9\" id=\"95,86\"></path><path d=\"M 107.4 327.0 L 107.4 437.8 L 136.2 437.8\" id=\"95,85\"></path><path d=\"M 107.4 539.3 L 107.4 514.5 L 136.2 514.5\" id=\"94,84\"></path><path d=\"M 107.4 539.3 L 107.4 564.1 L 136.2 564.1\" id=\"94,83\"></path><path d=\"M 107.4 675.2 L 107.4 617.7 L 136.2 617.7\" id=\"93,82\"></path><path d=\"M 107.4 675.2 L 107.4 633.6 L 136.2 633.6\" id=\"93,81\"></path><path d=\"M 107.4 675.2 L 107.4 673.3 L 136.2 673.3\" id=\"93,80\"></path><path d=\"M 107.4 675.2 L 107.4 776.4 L 136.2 776.4\" id=\"93,79\"></path><path d=\"M 136.2 62.2 L 136.2 62.2 L 164.9 62.2\" id=\"92,78\"></path><path d=\"M 136.2 101.9 L 136.2 101.9 L 164.9 101.9\" id=\"91,77\"></path><path d=\"M 136.2 177.3 L 136.2 141.6 L 164.9 141.6\" id=\"90,76\"></path><path d=\"M 136.2 177.3 L 136.2 157.4 L 164.9 157.4\" id=\"90,75\"></path><path d=\"M 136.2 177.3 L 136.2 181.3 L 164.9 181.3\" id=\"90,74\"></path><path d=\"M 136.2 177.3 L 136.2 228.9 L 164.9 228.9\" id=\"90,73\"></path><path d=\"M 136.2 268.5 L 136.2 268.5 L 164.9 268.5\" id=\"89,72\"></path><path d=\"M 136.2 284.4 L 136.2 284.4 L 164.9 284.4\" id=\"88,71\"></path><path d=\"M 136.2 300.3 L 136.2 300.3 L 164.9 300.3\" id=\"87,70\"></path><path d=\"M 136.2 343.9 L 136.2 324.1 L 164.9 324.1\" id=\"86,69\"></path><path d=\"M 136.2 343.9 L 136.2 363.8 L 164.9 363.8\" id=\"86,68\"></path><path d=\"M 136.2 437.8 L 136.2 403.5 L 164.9 403.5\" id=\"85,67\"></path><path d=\"M 136.2 437.8 L 136.2 435.2 L 164.9 435.2\" id=\"85,66\"></path><path d=\"M 136.2 437.8 L 136.2 474.9 L 164.9 474.9\" id=\"85,65\"></path><path d=\"M 136.2 514.5 L 136.2 506.6 L 164.9 506.6\" id=\"84,64\"></path><path d=\"M 136.2 514.5 L 136.2 522.5 L 164.9 522.5\" id=\"84,63\"></path><path d=\"M 136.2 564.1 L 136.2 538.4 L 164.9 538.4\" id=\"83,62\"></path><path d=\"M 136.2 564.1 L 136.2 554.2 L 164.9 554.2\" id=\"83,61\"></path><path d=\"M 136.2 564.1 L 136.2 570.1 L 164.9 570.1\" id=\"83,60\"></path><path d=\"M 136.2 564.1 L 136.2 593.9 L 164.9 593.9\" id=\"83,59\"></path><path d=\"M 136.2 617.7 L 136.2 617.7 L 164.9 617.7\" id=\"82,58\"></path><path d=\"M 136.2 633.6 L 136.2 633.6 L 164.9 633.6\" id=\"81,57\"></path><path d=\"M 136.2 673.3 L 136.2 649.5 L 164.9 649.5\" id=\"80,56\"></path><path d=\"M 136.2 673.3 L 136.2 665.3 L 164.9 665.3\" id=\"80,55\"></path><path d=\"M 136.2 673.3 L 136.2 681.2 L 164.9 681.2\" id=\"80,54\"></path><path d=\"M 136.2 673.3 L 136.2 697.1 L 164.9 697.1\" id=\"80,53\"></path><path d=\"M 136.2 776.4 L 136.2 736.7 L 164.9 736.7\" id=\"79,52\"></path><path d=\"M 136.2 776.4 L 136.2 816.1 L 164.9 816.1\" id=\"79,51\"></path><path d=\"M 164.9 62.2 L 164.9 62.2 L 193.6 62.2\" id=\"78,50\"></path><path d=\"M 164.9 101.9 L 164.9 78.1 L 193.6 78.1\" id=\"77,49\"></path><path d=\"M 164.9 101.9 L 164.9 94.0 L 193.6 94.0\" id=\"77,48\"></path><path d=\"M 164.9 101.9 L 164.9 109.8 L 193.6 109.8\" id=\"77,47\"></path><path d=\"M 164.9 101.9 L 164.9 125.7 L 193.6 125.7\" id=\"77,46\"></path><path d=\"M 164.9 141.6 L 164.9 141.6 L 193.6 141.6\" id=\"76,45\"></path><path d=\"M 164.9 157.4 L 164.9 157.4 L 193.6 157.4\" id=\"75,44\"></path><path d=\"M 164.9 181.3 L 164.9 173.3 L 193.6 173.3\" id=\"74,43\"></path><path d=\"M 164.9 181.3 L 164.9 189.2 L 193.6 189.2\" id=\"74,42\"></path><path d=\"M 164.9 228.9 L 164.9 205.1 L 193.6 205.1\" id=\"73,41\"></path><path d=\"M 164.9 228.9 L 164.9 220.9 L 193.6 220.9\" id=\"73,40\"></path><path d=\"M 164.9 228.9 L 164.9 236.8 L 193.6 236.8\" id=\"73,39\"></path><path d=\"M 164.9 228.9 L 164.9 252.7 L 193.6 252.7\" id=\"73,38\"></path><path d=\"M 164.9 268.5 L 164.9 268.5 L 193.6 268.5\" id=\"72,37\"></path><path d=\"M 164.9 284.4 L 164.9 284.4 L 193.6 284.4\" id=\"71,36\"></path><path d=\"M 164.9 300.3 L 164.9 300.3 L 193.6 300.3\" id=\"70,35\"></path><path d=\"M 164.9 324.1 L 164.9 316.2 L 193.6 316.2\" id=\"69,34\"></path><path d=\"M 164.9 324.1 L 164.9 332.0 L 193.6 332.0\" id=\"69,33\"></path><path d=\"M 164.9 363.8 L 164.9 347.9 L 193.6 347.9\" id=\"68,32\"></path><path d=\"M 164.9 363.8 L 164.9 363.8 L 193.6 363.8\" id=\"68,31\"></path><path d=\"M 164.9 363.8 L 164.9 379.6 L 193.6 379.6\" id=\"68,30\"></path><path d=\"M 164.9 403.5 L 164.9 395.5 L 193.6 395.5\" id=\"67,29\"></path><path d=\"M 164.9 403.5 L 164.9 411.4 L 193.6 411.4\" id=\"67,28\"></path><path d=\"M 164.9 435.2 L 164.9 427.3 L 193.6 427.3\" id=\"66,27\"></path><path d=\"M 164.9 435.2 L 164.9 443.1 L 193.6 443.1\" id=\"66,26\"></path><path d=\"M 164.9 474.9 L 164.9 459.0 L 193.6 459.0\" id=\"65,25\"></path><path d=\"M 164.9 474.9 L 164.9 474.9 L 193.6 474.9\" id=\"65,24\"></path><path d=\"M 164.9 474.9 L 164.9 490.7 L 193.6 490.7\" id=\"65,23\"></path><path d=\"M 164.9 506.6 L 164.9 506.6 L 193.6 506.6\" id=\"64,22\"></path><path d=\"M 164.9 522.5 L 164.9 522.5 L 193.6 522.5\" id=\"63,21\"></path><path d=\"M 164.9 538.4 L 164.9 538.4 L 193.6 538.4\" id=\"62,20\"></path><path d=\"M 164.9 554.2 L 164.9 554.2 L 193.6 554.2\" id=\"61,19\"></path><path d=\"M 164.9 570.1 L 164.9 570.1 L 193.6 570.1\" id=\"60,18\"></path><path d=\"M 164.9 593.9 L 164.9 586.0 L 193.6 586.0\" id=\"59,17\"></path><path d=\"M 164.9 593.9 L 164.9 601.8 L 193.6 601.8\" id=\"59,16\"></path><path d=\"M 164.9 617.7 L 164.9 617.7 L 193.6 617.7\" id=\"58,15\"></path><path d=\"M 164.9 633.6 L 164.9 633.6 L 193.6 633.6\" id=\"57,14\"></path><path d=\"M 164.9 649.5 L 164.9 649.5 L 193.6 649.5\" id=\"56,13\"></path><path d=\"M 164.9 665.3 L 164.9 665.3 L 193.6 665.3\" id=\"55,12\"></path><path d=\"M 164.9 681.2 L 164.9 681.2 L 193.6 681.2\" id=\"54,11\"></path><path d=\"M 164.9 697.1 L 164.9 697.1 L 193.6 697.1\" id=\"53,10\"></path><path d=\"M 164.9 736.7 L 164.9 712.9 L 193.6 712.9\" id=\"52,9\"></path><path d=\"M 164.9 736.7 L 164.9 728.8 L 193.6 728.8\" id=\"52,8\"></path><path d=\"M 164.9 736.7 L 164.9 744.7 L 193.6 744.7\" id=\"52,7\"></path><path d=\"M 164.9 736.7 L 164.9 760.6 L 193.6 760.6\" id=\"52,6\"></path><path d=\"M 164.9 816.1 L 164.9 776.4 L 193.6 776.4\" id=\"51,5\"></path><path d=\"M 164.9 816.1 L 164.9 792.3 L 193.6 792.3\" id=\"51,4\"></path><path d=\"M 164.9 816.1 L 164.9 808.2 L 193.6 808.2\" id=\"51,3\"></path><path d=\"M 164.9 816.1 L 164.9 824.0 L 193.6 824.0\" id=\"51,2\"></path><path d=\"M 164.9 816.1 L 164.9 839.9 L 193.6 839.9\" id=\"51,1\"></path><path d=\"M 164.9 816.1 L 164.9 855.8 L 193.6 855.8\" id=\"51,0\"></path></g><g class=\"toytree-AlignEdges\" style=\"stroke:rgb(66.3%,66.3%,66.3%);stroke-dasharray:2, 4;stroke-linecap:round;stroke-opacity:1.0;stroke-width:2\"><path d=\"M 193.6 855.8 L 193.6 855.8\"></path><path d=\"M 193.6 839.9 L 193.6 839.9\"></path><path d=\"M 193.6 824.0 L 193.6 824.0\"></path><path d=\"M 193.6 808.2 L 193.6 808.2\"></path><path d=\"M 193.6 792.3 L 193.6 792.3\"></path><path d=\"M 193.6 776.4 L 193.6 776.4\"></path><path d=\"M 193.6 760.6 L 193.6 760.6\"></path><path d=\"M 193.6 744.7 L 193.6 744.7\"></path><path d=\"M 193.6 728.8 L 193.6 728.8\"></path><path d=\"M 193.6 712.9 L 193.6 712.9\"></path><path d=\"M 193.6 697.1 L 193.6 697.1\"></path><path d=\"M 193.6 681.2 L 193.6 681.2\"></path><path d=\"M 193.6 665.3 L 193.6 665.3\"></path><path d=\"M 193.6 649.5 L 193.6 649.5\"></path><path d=\"M 193.6 633.6 L 193.6 633.6\"></path><path d=\"M 193.6 617.7 L 193.6 617.7\"></path><path d=\"M 193.6 601.8 L 193.6 601.8\"></path><path d=\"M 193.6 586.0 L 193.6 586.0\"></path><path d=\"M 193.6 570.1 L 193.6 570.1\"></path><path d=\"M 193.6 554.2 L 193.6 554.2\"></path><path d=\"M 193.6 538.4 L 193.6 538.4\"></path><path d=\"M 193.6 522.5 L 193.6 522.5\"></path><path d=\"M 193.6 506.6 L 193.6 506.6\"></path><path d=\"M 193.6 490.7 L 193.6 490.7\"></path><path d=\"M 193.6 474.9 L 193.6 474.9\"></path><path d=\"M 193.6 459.0 L 193.6 459.0\"></path><path d=\"M 193.6 443.1 L 193.6 443.1\"></path><path d=\"M 193.6 427.3 L 193.6 427.3\"></path><path d=\"M 193.6 411.4 L 193.6 411.4\"></path><path d=\"M 193.6 395.5 L 193.6 395.5\"></path><path d=\"M 193.6 379.6 L 193.6 379.6\"></path><path d=\"M 193.6 363.8 L 193.6 363.8\"></path><path d=\"M 193.6 347.9 L 193.6 347.9\"></path><path d=\"M 193.6 332.0 L 193.6 332.0\"></path><path d=\"M 193.6 316.2 L 193.6 316.2\"></path><path d=\"M 193.6 300.3 L 193.6 300.3\"></path><path d=\"M 193.6 284.4 L 193.6 284.4\"></path><path d=\"M 193.6 268.5 L 193.6 268.5\"></path><path d=\"M 193.6 252.7 L 193.6 252.7\"></path><path d=\"M 193.6 236.8 L 193.6 236.8\"></path><path d=\"M 193.6 220.9 L 193.6 220.9\"></path><path d=\"M 193.6 205.1 L 193.6 205.1\"></path><path d=\"M 193.6 189.2 L 193.6 189.2\"></path><path d=\"M 193.6 173.3 L 193.6 173.3\"></path><path d=\"M 193.6 157.4 L 193.6 157.4\"></path><path d=\"M 193.6 141.6 L 193.6 141.6\"></path><path d=\"M 193.6 125.7 L 193.6 125.7\"></path><path d=\"M 193.6 109.8 L 193.6 109.8\"></path><path d=\"M 193.6 94.0 L 193.6 94.0\"></path><path d=\"M 193.6 78.1 L 193.6 78.1\"></path><path d=\"M 193.6 62.2 L 193.6 62.2\"></path></g><g class=\"toytree-Nodes\" style=\"fill:rgb(40%,76.1%,64.7%);fill-opacity:1.0;stroke:None;stroke-width:1\"><g id=\"node-0\" transform=\"translate(193.595,855.777)\"><circle r=\"0.0\"></circle></g><g id=\"node-1\" transform=\"translate(193.595,839.906)\"><circle r=\"0.0\"></circle></g><g id=\"node-2\" transform=\"translate(193.595,824.034)\"><circle r=\"0.0\"></circle></g><g id=\"node-3\" transform=\"translate(193.595,808.163)\"><circle r=\"0.0\"></circle></g><g id=\"node-4\" transform=\"translate(193.595,792.292)\"><circle r=\"0.0\"></circle></g><g id=\"node-5\" transform=\"translate(193.595,776.421)\"><circle r=\"0.0\"></circle></g><g id=\"node-6\" transform=\"translate(193.595,760.550)\"><circle r=\"0.0\"></circle></g><g id=\"node-7\" transform=\"translate(193.595,744.679)\"><circle r=\"0.0\"></circle></g><g id=\"node-8\" transform=\"translate(193.595,728.808)\"><circle r=\"0.0\"></circle></g><g id=\"node-9\" transform=\"translate(193.595,712.937)\"><circle r=\"0.0\"></circle></g><g id=\"node-10\" transform=\"translate(193.595,697.066)\"><circle r=\"0.0\"></circle></g><g id=\"node-11\" transform=\"translate(193.595,681.195)\"><circle r=\"0.0\"></circle></g><g id=\"node-12\" transform=\"translate(193.595,665.324)\"><circle r=\"0.0\"></circle></g><g id=\"node-13\" transform=\"translate(193.595,649.453)\"><circle r=\"0.0\"></circle></g><g id=\"node-14\" transform=\"translate(193.595,633.582)\"><circle r=\"0.0\"></circle></g><g id=\"node-15\" transform=\"translate(193.595,617.711)\"><circle r=\"0.0\"></circle></g><g id=\"node-16\" transform=\"translate(193.595,601.840)\"><circle r=\"0.0\"></circle></g><g id=\"node-17\" transform=\"translate(193.595,585.969)\"><circle r=\"0.0\"></circle></g><g id=\"node-18\" transform=\"translate(193.595,570.097)\"><circle r=\"0.0\"></circle></g><g id=\"node-19\" transform=\"translate(193.595,554.226)\"><circle r=\"0.0\"></circle></g><g id=\"node-20\" transform=\"translate(193.595,538.355)\"><circle r=\"0.0\"></circle></g><g id=\"node-21\" transform=\"translate(193.595,522.484)\"><circle r=\"0.0\"></circle></g><g id=\"node-22\" transform=\"translate(193.595,506.613)\"><circle r=\"0.0\"></circle></g><g id=\"node-23\" transform=\"translate(193.595,490.742)\"><circle r=\"0.0\"></circle></g><g id=\"node-24\" transform=\"translate(193.595,474.871)\"><circle r=\"0.0\"></circle></g><g id=\"node-25\" transform=\"translate(193.595,459.000)\"><circle r=\"0.0\"></circle></g><g id=\"node-26\" transform=\"translate(193.595,443.129)\"><circle r=\"0.0\"></circle></g><g id=\"node-27\" transform=\"translate(193.595,427.258)\"><circle r=\"0.0\"></circle></g><g id=\"node-28\" transform=\"translate(193.595,411.387)\"><circle r=\"0.0\"></circle></g><g id=\"node-29\" transform=\"translate(193.595,395.516)\"><circle r=\"0.0\"></circle></g><g id=\"node-30\" transform=\"translate(193.595,379.645)\"><circle r=\"0.0\"></circle></g><g id=\"node-31\" transform=\"translate(193.595,363.774)\"><circle r=\"0.0\"></circle></g><g id=\"node-32\" transform=\"translate(193.595,347.903)\"><circle r=\"0.0\"></circle></g><g id=\"node-33\" transform=\"translate(193.595,332.031)\"><circle r=\"0.0\"></circle></g><g id=\"node-34\" transform=\"translate(193.595,316.160)\"><circle r=\"0.0\"></circle></g><g id=\"node-35\" transform=\"translate(193.595,300.289)\"><circle r=\"0.0\"></circle></g><g id=\"node-36\" transform=\"translate(193.595,284.418)\"><circle r=\"0.0\"></circle></g><g id=\"node-37\" transform=\"translate(193.595,268.547)\"><circle r=\"0.0\"></circle></g><g id=\"node-38\" transform=\"translate(193.595,252.676)\"><circle r=\"0.0\"></circle></g><g id=\"node-39\" transform=\"translate(193.595,236.805)\"><circle r=\"0.0\"></circle></g><g id=\"node-40\" transform=\"translate(193.595,220.934)\"><circle r=\"0.0\"></circle></g><g id=\"node-41\" transform=\"translate(193.595,205.063)\"><circle r=\"0.0\"></circle></g><g id=\"node-42\" transform=\"translate(193.595,189.192)\"><circle r=\"0.0\"></circle></g><g id=\"node-43\" transform=\"translate(193.595,173.321)\"><circle r=\"0.0\"></circle></g><g id=\"node-44\" transform=\"translate(193.595,157.450)\"><circle r=\"0.0\"></circle></g><g id=\"node-45\" transform=\"translate(193.595,141.579)\"><circle r=\"0.0\"></circle></g><g id=\"node-46\" transform=\"translate(193.595,125.708)\"><circle r=\"0.0\"></circle></g><g id=\"node-47\" transform=\"translate(193.595,109.837)\"><circle r=\"0.0\"></circle></g><g id=\"node-48\" transform=\"translate(193.595,93.966)\"><circle r=\"0.0\"></circle></g><g id=\"node-49\" transform=\"translate(193.595,78.094)\"><circle r=\"0.0\"></circle></g><g id=\"node-50\" transform=\"translate(193.595,62.223)\"><circle r=\"0.0\"></circle></g><g id=\"node-51\" transform=\"translate(164.876,816.099)\"><circle r=\"5.0\"></circle></g><g id=\"node-52\" transform=\"translate(164.876,736.744)\"><circle r=\"5.0\"></circle></g><g id=\"node-53\" transform=\"translate(164.876,697.066)\"><circle r=\"5.0\"></circle></g><g id=\"node-54\" transform=\"translate(164.876,681.195)\"><circle r=\"5.0\"></circle></g><g id=\"node-55\" transform=\"translate(164.876,665.324)\"><circle r=\"5.0\"></circle></g><g id=\"node-56\" transform=\"translate(164.876,649.453)\"><circle r=\"5.0\"></circle></g><g id=\"node-57\" transform=\"translate(164.876,633.582)\"><circle r=\"5.0\"></circle></g><g id=\"node-58\" transform=\"translate(164.876,617.711)\"><circle r=\"5.0\"></circle></g><g id=\"node-59\" transform=\"translate(164.876,593.904)\"><circle r=\"5.0\"></circle></g><g id=\"node-60\" transform=\"translate(164.876,570.097)\"><circle r=\"5.0\"></circle></g><g id=\"node-61\" transform=\"translate(164.876,554.226)\"><circle r=\"5.0\"></circle></g><g id=\"node-62\" transform=\"translate(164.876,538.355)\"><circle r=\"5.0\"></circle></g><g id=\"node-63\" transform=\"translate(164.876,522.484)\"><circle r=\"5.0\"></circle></g><g id=\"node-64\" transform=\"translate(164.876,506.613)\"><circle r=\"5.0\"></circle></g><g id=\"node-65\" transform=\"translate(164.876,474.871)\"><circle r=\"5.0\"></circle></g><g id=\"node-66\" transform=\"translate(164.876,435.193)\"><circle r=\"5.0\"></circle></g><g id=\"node-67\" transform=\"translate(164.876,403.451)\"><circle r=\"5.0\"></circle></g><g id=\"node-68\" transform=\"translate(164.876,363.774)\"><circle r=\"5.0\"></circle></g><g id=\"node-69\" transform=\"translate(164.876,324.096)\"><circle r=\"5.0\"></circle></g><g id=\"node-70\" transform=\"translate(164.876,300.289)\"><circle r=\"5.0\"></circle></g><g id=\"node-71\" transform=\"translate(164.876,284.418)\"><circle r=\"5.0\"></circle></g><g id=\"node-72\" transform=\"translate(164.876,268.547)\"><circle r=\"5.0\"></circle></g><g id=\"node-73\" transform=\"translate(164.876,228.870)\"><circle r=\"5.0\"></circle></g><g id=\"node-74\" transform=\"translate(164.876,181.256)\"><circle r=\"5.0\"></circle></g><g id=\"node-75\" transform=\"translate(164.876,157.450)\"><circle r=\"5.0\"></circle></g><g id=\"node-76\" transform=\"translate(164.876,141.579)\"><circle r=\"5.0\"></circle></g><g id=\"node-77\" transform=\"translate(164.876,101.901)\"><circle r=\"5.0\"></circle></g><g id=\"node-78\" transform=\"translate(164.876,62.223)\"><circle r=\"5.0\"></circle></g><g id=\"node-79\" transform=\"translate(136.157,776.421)\"><circle r=\"5.0\"></circle></g><g id=\"node-80\" transform=\"translate(136.157,673.259)\"><circle r=\"5.0\"></circle></g><g id=\"node-81\" transform=\"translate(136.157,633.582)\"><circle r=\"5.0\"></circle></g><g id=\"node-82\" transform=\"translate(136.157,617.711)\"><circle r=\"5.0\"></circle></g><g id=\"node-83\" transform=\"translate(136.157,564.146)\"><circle r=\"5.0\"></circle></g><g id=\"node-84\" transform=\"translate(136.157,514.549)\"><circle r=\"5.0\"></circle></g><g id=\"node-85\" transform=\"translate(136.157,437.839)\"><circle r=\"5.0\"></circle></g><g id=\"node-86\" transform=\"translate(136.157,343.935)\"><circle r=\"5.0\"></circle></g><g id=\"node-87\" transform=\"translate(136.157,300.289)\"><circle r=\"5.0\"></circle></g><g id=\"node-88\" transform=\"translate(136.157,284.418)\"><circle r=\"5.0\"></circle></g><g id=\"node-89\" transform=\"translate(136.157,268.547)\"><circle r=\"5.0\"></circle></g><g id=\"node-90\" transform=\"translate(136.157,177.289)\"><circle r=\"5.0\"></circle></g><g id=\"node-91\" transform=\"translate(136.157,101.901)\"><circle r=\"5.0\"></circle></g><g id=\"node-92\" transform=\"translate(136.157,62.223)\"><circle r=\"5.0\"></circle></g><g id=\"node-93\" transform=\"translate(107.438,675.243)\"><circle r=\"5.0\"></circle></g><g id=\"node-94\" transform=\"translate(107.438,539.347)\"><circle r=\"5.0\"></circle></g><g id=\"node-95\" transform=\"translate(107.438,327.006)\"><circle r=\"5.0\"></circle></g><g id=\"node-96\" transform=\"translate(107.438,113.804)\"><circle r=\"5.0\"></circle></g><g id=\"node-97\" transform=\"translate(78.719,607.295)\"><circle r=\"5.0\"></circle></g><g id=\"node-98\" transform=\"translate(78.719,327.006)\"><circle r=\"5.0\"></circle></g><g id=\"node-99\" transform=\"translate(78.719,113.804)\"><circle r=\"5.0\"></circle></g><g id=\"node-100\" transform=\"translate(50.000,349.368)\"><circle r=\"0.0\"></circle></g></g><g class=\"toytree-NodeLabels\" style=\"fill:rgb(14.9%,14.9%,14.9%);fill-opacity:1.0;font-size:9px;stroke:none\"><g transform=\"translate(150.50,818.40)\"><text>CD4+T</text></g><g transform=\"translate(150.50,739.04)\"><text>CD8+T</text></g><g transform=\"translate(147.37,699.37)\"><text>Plasma4</text></g><g transform=\"translate(144.37,683.49)\"><text>Follicular4</text></g><g transform=\"translate(155.62,667.62)\"><text>GC4</text></g><g transform=\"translate(144.62,651.75)\"><text>CyclingB4</text></g><g transform=\"translate(153.12,635.88)\"><text>ILCs4</text></g><g transform=\"translate(153.87,620.01)\"><text>NKs4</text></g><g transform=\"translate(156.13,596.20)\"><text>DCs</text></g><g transform=\"translate(125.87,572.40)\"><text>CyclingMonocytes4</text></g><g transform=\"translate(114.61,556.53)\"><text>InflammatoryMonocytes4</text></g><g transform=\"translate(135.11,540.65)\"><text>Macrophages4</text></g><g transform=\"translate(139.62,524.78)\"><text>CD69-Mast4</text></g><g transform=\"translate(138.49,508.91)\"><text>CD69+Mast4</text></g><g transform=\"translate(136.87,477.17)\"><text>Immaturecells</text></g><g transform=\"translate(120.61,437.49)\"><text>AbsorptiveMaturecells</text></g><g transform=\"translate(150.13,405.75)\"><text>TAcells</text></g><g transform=\"translate(122.62,366.07)\"><text>SecretoryMaturecells</text></g><g transform=\"translate(135.12,326.40)\"><text>Progenitorcells</text></g><g transform=\"translate(149.63,302.59)\"><text>Mcells4</text></g><g transform=\"translate(151.87,286.72)\"><text>Stem4</text></g><g transform=\"translate(141.87,270.85)\"><text>CyclingTA4</text></g><g transform=\"translate(146.50,231.17)\"><text>WNT2B+</text></g><g transform=\"translate(146.50,183.56)\"><text>WNT5B+</text></g><g transform=\"translate(135.62,159.75)\"><text>Myofibroblast4</text></g><g transform=\"translate(116.61,143.88)\"><text>InflammatoryFibroblast4</text></g><g transform=\"translate(132.62,104.20)\"><text>EndothelialCells</text></g><g transform=\"translate(154.37,64.52)\"><text>Glia4</text></g><g transform=\"translate(124.41,778.72)\"><text>Tcells</text></g><g transform=\"translate(124.16,675.56)\"><text>Bcells</text></g><g transform=\"translate(124.40,635.88)\"><text>ILCs3</text></g><g transform=\"translate(125.15,620.01)\"><text>NKs3</text></g><g transform=\"translate(114.40,566.45)\"><text>Monocytes</text></g><g transform=\"translate(126.41,516.85)\"><text>Mast</text></g><g transform=\"translate(114.90,440.14)\"><text>Absorptive</text></g><g transform=\"translate(116.90,346.23)\"><text>Secretory</text></g><g transform=\"translate(120.91,302.59)\"><text>Mcells3</text></g><g transform=\"translate(123.15,286.72)\"><text>Stem3</text></g><g transform=\"translate(113.15,270.85)\"><text>CyclingTA3</text></g><g transform=\"translate(114.15,179.59)\"><text>Fibroblasts</text></g><g transform=\"translate(111.39,104.20)\"><text>Endothelial3</text></g><g transform=\"translate(125.65,64.52)\"><text>Glia3</text></g><g transform=\"translate(87.93,677.54)\"><text>Lymphoid</text></g><g transform=\"translate(91.94,541.65)\"><text>Myeloid</text></g><g transform=\"translate(89.18,329.31)\"><text>Epithelial</text></g><g transform=\"translate(91.94,116.10)\"><text>Stromal</text></g><g transform=\"translate(62.47,609.59)\"><text>Immune</text></g><g transform=\"translate(60.46,329.31)\"><text>Epithelial</text></g><g transform=\"translate(63.22,116.10)\"><text>Stromal</text></g></g><g class=\"toytree-TipLabels\" style=\"fill:rgb(14.9%,14.9%,14.9%);fill-opacity:1.0;font-family:helvetica;font-size:11px;font-weight:normal;stroke:none;white-space:pre\"><g transform=\"translate(193.60,855.78)rotate(0)\"><text x=\"15.00\" y=\"2.81\" style=\"\">Tregs</text></g><g transform=\"translate(193.60,839.91)rotate(0)\"><text x=\"15.00\" y=\"2.81\" style=\"\">MT-hi</text></g><g transform=\"translate(193.60,824.03)rotate(0)\"><text x=\"15.00\" y=\"2.81\" style=\"\">CD4+ActivatedFos-hi</text></g><g transform=\"translate(193.60,808.16)rotate(0)\"><text x=\"15.00\" y=\"2.81\" style=\"\">CD4+PD1+</text></g><g transform=\"translate(193.60,792.29)rotate(0)\"><text x=\"15.00\" y=\"2.81\" style=\"\">CD4+ActivatedFos-lo</text></g><g transform=\"translate(193.60,776.42)rotate(0)\"><text x=\"15.00\" y=\"2.81\" style=\"\">CD4+Memory</text></g><g transform=\"translate(193.60,760.55)rotate(0)\"><text x=\"15.00\" y=\"2.81\" style=\"\">CD8+IL17+</text></g><g transform=\"translate(193.60,744.68)rotate(0)\"><text x=\"15.00\" y=\"2.81\" style=\"\">CyclingT</text></g><g transform=\"translate(193.60,728.81)rotate(0)\"><text x=\"15.00\" y=\"2.81\" style=\"\">CD8+LP</text></g><g transform=\"translate(193.60,712.94)rotate(0)\"><text x=\"15.00\" y=\"2.81\" style=\"\">CD8+IELs</text></g><g transform=\"translate(193.60,697.07)rotate(0)\"><text x=\"15.00\" y=\"2.81\" style=\"\">Plasma</text></g><g transform=\"translate(193.60,681.19)rotate(0)\"><text x=\"15.00\" y=\"2.81\" style=\"\">Follicular</text></g><g transform=\"translate(193.60,665.32)rotate(0)\"><text x=\"15.00\" y=\"2.81\" style=\"\">GC</text></g><g transform=\"translate(193.60,649.45)rotate(0)\"><text x=\"15.00\" y=\"2.81\" style=\"\">CyclingB</text></g><g transform=\"translate(193.60,633.58)rotate(0)\"><text x=\"15.00\" y=\"2.81\" style=\"\">ILCs</text></g><g transform=\"translate(193.60,617.71)rotate(0)\"><text x=\"15.00\" y=\"2.81\" style=\"\">NKs</text></g><g transform=\"translate(193.60,601.84)rotate(0)\"><text x=\"15.00\" y=\"2.81\" style=\"\">DC1</text></g><g transform=\"translate(193.60,585.97)rotate(0)\"><text x=\"15.00\" y=\"2.81\" style=\"\">DC2</text></g><g transform=\"translate(193.60,570.10)rotate(0)\"><text x=\"15.00\" y=\"2.81\" style=\"\">CyclingMonocytes</text></g><g transform=\"translate(193.60,554.23)rotate(0)\"><text x=\"15.00\" y=\"2.81\" style=\"\">InflammatoryMonocytes</text></g><g transform=\"translate(193.60,538.36)rotate(0)\"><text x=\"15.00\" y=\"2.81\" style=\"\">Macrophages</text></g><g transform=\"translate(193.60,522.48)rotate(0)\"><text x=\"15.00\" y=\"2.81\" style=\"\">CD69-Mast</text></g><g transform=\"translate(193.60,506.61)rotate(0)\"><text x=\"15.00\" y=\"2.81\" style=\"\">CD69+Mast</text></g><g transform=\"translate(193.60,490.74)rotate(0)\"><text x=\"15.00\" y=\"2.81\" style=\"\">ImmatureEnterocytes1</text></g><g transform=\"translate(193.60,474.87)rotate(0)\"><text x=\"15.00\" y=\"2.81\" style=\"\">ImmatureEnterocytes2</text></g><g transform=\"translate(193.60,459.00)rotate(0)\"><text x=\"15.00\" y=\"2.81\" style=\"\">EnterocyteProgenitors</text></g><g transform=\"translate(193.60,443.13)rotate(0)\"><text x=\"15.00\" y=\"2.81\" style=\"\">Enterocytes</text></g><g transform=\"translate(193.60,427.26)rotate(0)\"><text x=\"15.00\" y=\"2.81\" style=\"\">Best4+Enterocytes</text></g><g transform=\"translate(193.60,411.39)rotate(0)\"><text x=\"15.00\" y=\"2.81\" style=\"\">TA2</text></g><g transform=\"translate(193.60,395.52)rotate(0)\"><text x=\"15.00\" y=\"2.81\" style=\"\">TA1</text></g><g transform=\"translate(193.60,379.64)rotate(0)\"><text x=\"15.00\" y=\"2.81\" style=\"\">Tuft</text></g><g transform=\"translate(193.60,363.77)rotate(0)\"><text x=\"15.00\" y=\"2.81\" style=\"\">Goblet</text></g><g transform=\"translate(193.60,347.90)rotate(0)\"><text x=\"15.00\" y=\"2.81\" style=\"\">Enteroendocrine</text></g><g transform=\"translate(193.60,332.03)rotate(0)\"><text x=\"15.00\" y=\"2.81\" style=\"\">SecretoryTA</text></g><g transform=\"translate(193.60,316.16)rotate(0)\"><text x=\"15.00\" y=\"2.81\" style=\"\">ImmatureGoblet</text></g><g transform=\"translate(193.60,300.29)rotate(0)\"><text x=\"15.00\" y=\"2.81\" style=\"\">Mcells</text></g><g transform=\"translate(193.60,284.42)rotate(0)\"><text x=\"15.00\" y=\"2.81\" style=\"\">Stem</text></g><g transform=\"translate(193.60,268.55)rotate(0)\"><text x=\"15.00\" y=\"2.81\" style=\"\">CyclingTA</text></g><g transform=\"translate(193.60,252.68)rotate(0)\"><text x=\"15.00\" y=\"2.81\" style=\"\">WNT2B+Fos-lo2</text></g><g transform=\"translate(193.60,236.81)rotate(0)\"><text x=\"15.00\" y=\"2.81\" style=\"\">RSPO3+</text></g><g transform=\"translate(193.60,220.93)rotate(0)\"><text x=\"15.00\" y=\"2.81\" style=\"\">WNT2B+Fos-lo1</text></g><g transform=\"translate(193.60,205.06)rotate(0)\"><text x=\"15.00\" y=\"2.81\" style=\"\">WNT2B+Fos-hi</text></g><g transform=\"translate(193.60,189.19)rotate(0)\"><text x=\"15.00\" y=\"2.81\" style=\"\">WNT5B+1</text></g><g transform=\"translate(193.60,173.32)rotate(0)\"><text x=\"15.00\" y=\"2.81\" style=\"\">WNT5B+2</text></g><g transform=\"translate(193.60,157.45)rotate(0)\"><text x=\"15.00\" y=\"2.81\" style=\"\">Myofibroblasts</text></g><g transform=\"translate(193.60,141.58)rotate(0)\"><text x=\"15.00\" y=\"2.81\" style=\"\">InflammatoryFibroblasts</text></g><g transform=\"translate(193.60,125.71)rotate(0)\"><text x=\"15.00\" y=\"2.81\" style=\"\">Post-capillaryVenules</text></g><g transform=\"translate(193.60,109.84)rotate(0)\"><text x=\"15.00\" y=\"2.81\" style=\"\">Endothelial</text></g><g transform=\"translate(193.60,93.97)rotate(0)\"><text x=\"15.00\" y=\"2.81\" style=\"\">Microvascular</text></g><g transform=\"translate(193.60,78.09)rotate(0)\"><text x=\"15.00\" y=\"2.81\" style=\"\">Pericytes</text></g><g transform=\"translate(193.60,62.22)rotate(0)\"><text x=\"15.00\" y=\"2.81\" style=\"\">Glia</text></g></g></g></g></g></svg><div class=\"toyplot-behavior\"><script>(function()\n{\nvar modules={};\n})();</script></div></div>"
     },
     "metadata": {},
     "output_type": "display_data"
    }
   ],
   "source": [
    "# Build tree\n",
    "tree = tt.tree(newick=newick, tree_format=8)\n",
    "tree.draw(tip_labels_align=True, node_sizes=10, node_labels='name')"
   ],
   "metadata": {
    "collapsed": false,
    "pycharm": {
     "name": "#%%\n"
    }
   }
  },
  {
   "cell_type": "code",
   "execution_count": 31,
   "outputs": [
    {
     "data": {
      "text/plain": "(<toyplot.canvas.Canvas at 0x7fc3554a7f70>,\n <toyplot.coordinates.Cartesian at 0x7fc3554a7a60>,\n <toytree.Render.ToytreeMark at 0x7fc354e32b50>)"
     },
     "execution_count": 31,
     "metadata": {},
     "output_type": "execute_result"
    },
    {
     "data": {
      "text/html": "<div class=\"toyplot\" id=\"t1ada0bbffc92465ba8a37bfa5ee242b0\" style=\"text-align:center\"><svg class=\"toyplot-canvas-Canvas\" xmlns:toyplot=\"http://www.sandia.gov/toyplot\" xmlns:xlink=\"http://www.w3.org/1999/xlink\" xmlns=\"http://www.w3.org/2000/svg\" width=\"365.0px\" height=\"918.0px\" viewBox=\"0 0 365.0 918.0\" preserveAspectRatio=\"xMidYMid meet\" style=\"background-color:transparent;border-color:#292724;border-style:none;border-width:1.0;fill:rgb(16.1%,15.3%,14.1%);fill-opacity:1.0;font-family:Helvetica;font-size:12px;opacity:1.0;stroke:rgb(16.1%,15.3%,14.1%);stroke-opacity:1.0;stroke-width:1.0\" id=\"t473125a5213243b78ea8bf80b05234b0\"><g class=\"toyplot-coordinates-Cartesian\" id=\"t9d0f2a2f1a0b4ce695b15dc28717229f\"><clipPath id=\"tae9c046d2feb4d3db60b6623723d69e4\"><rect x=\"30.0\" y=\"30.0\" width=\"305.0\" height=\"858.0\"></rect></clipPath><g clip-path=\"url(#tae9c046d2feb4d3db60b6623723d69e4)\"><g class=\"toytree-mark-Toytree\" id=\"t6963a82925bf4d5bb14aa9920f20a92b\"><g class=\"toytree-Edges\" style=\"fill:none;stroke:rgb(14.9%,14.9%,14.9%);stroke-linecap:round;stroke-opacity:1;stroke-width:2\"><path d=\"M 50.0 516.1 L 50.0 213.5 L 80.3 213.5\" id=\"74,73\"></path><path d=\"M 50.0 516.1 L 50.0 547.6 L 80.3 547.6\" id=\"74,72\"></path><path d=\"M 50.0 516.1 L 50.0 787.3 L 80.3 787.3\" id=\"74,71\"></path><path d=\"M 80.3 213.5 L 80.3 100.9 L 110.5 100.9\" id=\"73,70\"></path><path d=\"M 80.3 213.5 L 80.3 326.1 L 110.5 326.1\" id=\"73,69\"></path><path d=\"M 80.3 547.6 L 80.3 494.7 L 110.5 494.7\" id=\"72,68\"></path><path d=\"M 80.3 547.6 L 80.3 593.9 L 110.5 593.9\" id=\"72,67\"></path><path d=\"M 80.3 787.3 L 80.3 661.4 L 110.5 661.4\" id=\"71,66\"></path><path d=\"M 80.3 787.3 L 80.3 755.3 L 110.5 755.3\" id=\"71,65\"></path><path d=\"M 110.5 100.9 L 110.5 70.2 L 140.8 70.2\" id=\"70,64\"></path><path d=\"M 110.5 100.9 L 110.5 131.7 L 140.8 131.7\" id=\"70,63\"></path><path d=\"M 110.5 326.1 L 110.5 197.1 L 140.8 197.1\" id=\"69,62\"></path><path d=\"M 110.5 326.1 L 110.5 300.3 L 140.8 300.3\" id=\"69,61\"></path><path d=\"M 110.5 494.7 L 110.5 435.2 L 140.8 435.2\" id=\"68,60\"></path><path d=\"M 110.5 494.7 L 110.5 482.8 L 140.8 482.8\" id=\"68,59\"></path><path d=\"M 110.5 661.4 L 110.5 641.5 L 140.8 641.5\" id=\"66,58\"></path><path d=\"M 110.5 661.4 L 110.5 681.2 L 140.8 681.2\" id=\"66,57\"></path><path d=\"M 110.5 755.3 L 110.5 720.9 L 140.8 720.9\" id=\"65,56\"></path><path d=\"M 110.5 755.3 L 110.5 752.6 L 140.8 752.6\" id=\"65,55\"></path><path d=\"M 110.5 755.3 L 110.5 792.3 L 140.8 792.3\" id=\"65,54\"></path><path d=\"M 140.8 131.7 L 140.8 101.9 L 171.1 101.9\" id=\"63,53\"></path><path d=\"M 140.8 300.3 L 140.8 260.6 L 171.1 260.6\" id=\"61,52\"></path><path d=\"M 140.8 300.3 L 140.8 340.0 L 171.1 340.0\" id=\"61,51\"></path><path d=\"M 140.8 70.2 L 140.8 62.2 L 171.1 62.2\" id=\"64,50\"></path><path d=\"M 140.8 70.2 L 140.8 78.1 L 171.1 78.1\" id=\"64,49\"></path><path d=\"M 171.1 101.9 L 171.1 94.0 L 201.4 94.0\" id=\"53,48\"></path><path d=\"M 171.1 101.9 L 171.1 109.8 L 201.4 109.8\" id=\"53,47\"></path><path d=\"M 140.8 131.7 L 140.8 125.7 L 171.1 125.7\" id=\"63,46\"></path><path d=\"M 140.8 131.7 L 140.8 141.6 L 171.1 141.6\" id=\"63,45\"></path><path d=\"M 140.8 131.7 L 140.8 157.4 L 171.1 157.4\" id=\"63,44\"></path><path d=\"M 140.8 197.1 L 140.8 173.3 L 171.1 173.3\" id=\"62,43\"></path><path d=\"M 140.8 197.1 L 140.8 189.2 L 171.1 189.2\" id=\"62,42\"></path><path d=\"M 140.8 197.1 L 140.8 205.1 L 171.1 205.1\" id=\"62,41\"></path><path d=\"M 140.8 197.1 L 140.8 220.9 L 171.1 220.9\" id=\"62,40\"></path><path d=\"M 171.1 260.6 L 171.1 236.8 L 201.4 236.8\" id=\"52,39\"></path><path d=\"M 171.1 260.6 L 171.1 252.7 L 201.4 252.7\" id=\"52,38\"></path><path d=\"M 171.1 260.6 L 171.1 268.5 L 201.4 268.5\" id=\"52,37\"></path><path d=\"M 171.1 260.6 L 171.1 284.4 L 201.4 284.4\" id=\"52,36\"></path><path d=\"M 171.1 340.0 L 171.1 300.3 L 201.4 300.3\" id=\"51,35\"></path><path d=\"M 171.1 340.0 L 171.1 316.2 L 201.4 316.2\" id=\"51,34\"></path><path d=\"M 171.1 340.0 L 171.1 332.0 L 201.4 332.0\" id=\"51,33\"></path><path d=\"M 171.1 340.0 L 171.1 347.9 L 201.4 347.9\" id=\"51,32\"></path><path d=\"M 171.1 340.0 L 171.1 363.8 L 201.4 363.8\" id=\"51,31\"></path><path d=\"M 171.1 340.0 L 171.1 379.6 L 201.4 379.6\" id=\"51,30\"></path><path d=\"M 110.5 326.1 L 110.5 395.5 L 140.8 395.5\" id=\"69,29\"></path><path d=\"M 110.5 326.1 L 110.5 411.4 L 140.8 411.4\" id=\"69,28\"></path><path d=\"M 140.8 435.2 L 140.8 427.3 L 171.1 427.3\" id=\"60,27\"></path><path d=\"M 140.8 435.2 L 140.8 443.1 L 171.1 443.1\" id=\"60,26\"></path><path d=\"M 140.8 482.8 L 140.8 459.0 L 171.1 459.0\" id=\"59,25\"></path><path d=\"M 140.8 482.8 L 140.8 474.9 L 171.1 474.9\" id=\"59,24\"></path><path d=\"M 140.8 482.8 L 140.8 490.7 L 171.1 490.7\" id=\"59,23\"></path><path d=\"M 140.8 482.8 L 140.8 506.6 L 171.1 506.6\" id=\"59,22\"></path><path d=\"M 110.5 494.7 L 110.5 522.5 L 140.8 522.5\" id=\"68,21\"></path><path d=\"M 110.5 494.7 L 110.5 538.4 L 140.8 538.4\" id=\"68,20\"></path><path d=\"M 80.3 547.6 L 80.3 554.2 L 110.5 554.2\" id=\"72,19\"></path><path d=\"M 110.5 593.9 L 110.5 570.1 L 140.8 570.1\" id=\"67,18\"></path><path d=\"M 110.5 593.9 L 110.5 586.0 L 140.8 586.0\" id=\"67,17\"></path><path d=\"M 110.5 593.9 L 110.5 601.8 L 140.8 601.8\" id=\"67,16\"></path><path d=\"M 110.5 593.9 L 110.5 617.7 L 140.8 617.7\" id=\"67,15\"></path><path d=\"M 140.8 641.5 L 140.8 633.6 L 171.1 633.6\" id=\"58,14\"></path><path d=\"M 140.8 641.5 L 140.8 649.5 L 171.1 649.5\" id=\"58,13\"></path><path d=\"M 140.8 681.2 L 140.8 665.3 L 171.1 665.3\" id=\"57,12\"></path><path d=\"M 140.8 681.2 L 140.8 681.2 L 171.1 681.2\" id=\"57,11\"></path><path d=\"M 140.8 681.2 L 140.8 697.1 L 171.1 697.1\" id=\"57,10\"></path><path d=\"M 140.8 720.9 L 140.8 712.9 L 171.1 712.9\" id=\"56,9\"></path><path d=\"M 140.8 720.9 L 140.8 728.8 L 171.1 728.8\" id=\"56,8\"></path><path d=\"M 140.8 752.6 L 140.8 744.7 L 171.1 744.7\" id=\"55,7\"></path><path d=\"M 140.8 752.6 L 140.8 760.6 L 171.1 760.6\" id=\"55,6\"></path><path d=\"M 140.8 792.3 L 140.8 776.4 L 171.1 776.4\" id=\"54,5\"></path><path d=\"M 140.8 792.3 L 140.8 792.3 L 171.1 792.3\" id=\"54,4\"></path><path d=\"M 140.8 792.3 L 140.8 808.2 L 171.1 808.2\" id=\"54,3\"></path><path d=\"M 80.3 787.3 L 80.3 824.0 L 110.5 824.0\" id=\"71,2\"></path><path d=\"M 80.3 787.3 L 80.3 839.9 L 110.5 839.9\" id=\"71,1\"></path><path d=\"M 80.3 787.3 L 80.3 855.8 L 110.5 855.8\" id=\"71,0\"></path></g><g class=\"toytree-AlignEdges\" style=\"stroke:rgb(66.3%,66.3%,66.3%);stroke-dasharray:2, 4;stroke-linecap:round;stroke-opacity:1.0;stroke-width:2\"><path d=\"M 201.4 855.8 L 110.5 855.8\"></path><path d=\"M 201.4 839.9 L 110.5 839.9\"></path><path d=\"M 201.4 824.0 L 110.5 824.0\"></path><path d=\"M 201.4 808.2 L 171.1 808.2\"></path><path d=\"M 201.4 792.3 L 171.1 792.3\"></path><path d=\"M 201.4 776.4 L 171.1 776.4\"></path><path d=\"M 201.4 760.6 L 171.1 760.6\"></path><path d=\"M 201.4 744.7 L 171.1 744.7\"></path><path d=\"M 201.4 728.8 L 171.1 728.8\"></path><path d=\"M 201.4 712.9 L 171.1 712.9\"></path><path d=\"M 201.4 697.1 L 171.1 697.1\"></path><path d=\"M 201.4 681.2 L 171.1 681.2\"></path><path d=\"M 201.4 665.3 L 171.1 665.3\"></path><path d=\"M 201.4 649.5 L 171.1 649.5\"></path><path d=\"M 201.4 633.6 L 171.1 633.6\"></path><path d=\"M 201.4 617.7 L 140.8 617.7\"></path><path d=\"M 201.4 601.8 L 140.8 601.8\"></path><path d=\"M 201.4 586.0 L 140.8 586.0\"></path><path d=\"M 201.4 570.1 L 140.8 570.1\"></path><path d=\"M 201.4 554.2 L 110.5 554.2\"></path><path d=\"M 201.4 538.4 L 140.8 538.4\"></path><path d=\"M 201.4 522.5 L 140.8 522.5\"></path><path d=\"M 201.4 506.6 L 171.1 506.6\"></path><path d=\"M 201.4 490.7 L 171.1 490.7\"></path><path d=\"M 201.4 474.9 L 171.1 474.9\"></path><path d=\"M 201.4 459.0 L 171.1 459.0\"></path><path d=\"M 201.4 443.1 L 171.1 443.1\"></path><path d=\"M 201.4 427.3 L 171.1 427.3\"></path><path d=\"M 201.4 411.4 L 140.8 411.4\"></path><path d=\"M 201.4 395.5 L 140.8 395.5\"></path><path d=\"M 201.4 379.6 L 201.4 379.6\"></path><path d=\"M 201.4 363.8 L 201.4 363.8\"></path><path d=\"M 201.4 347.9 L 201.4 347.9\"></path><path d=\"M 201.4 332.0 L 201.4 332.0\"></path><path d=\"M 201.4 316.2 L 201.4 316.2\"></path><path d=\"M 201.4 300.3 L 201.4 300.3\"></path><path d=\"M 201.4 284.4 L 201.4 284.4\"></path><path d=\"M 201.4 268.5 L 201.4 268.5\"></path><path d=\"M 201.4 252.7 L 201.4 252.7\"></path><path d=\"M 201.4 236.8 L 201.4 236.8\"></path><path d=\"M 201.4 220.9 L 171.1 220.9\"></path><path d=\"M 201.4 205.1 L 171.1 205.1\"></path><path d=\"M 201.4 189.2 L 171.1 189.2\"></path><path d=\"M 201.4 173.3 L 171.1 173.3\"></path><path d=\"M 201.4 157.4 L 171.1 157.4\"></path><path d=\"M 201.4 141.6 L 171.1 141.6\"></path><path d=\"M 201.4 125.7 L 171.1 125.7\"></path><path d=\"M 201.4 109.8 L 201.4 109.8\"></path><path d=\"M 201.4 94.0 L 201.4 94.0\"></path><path d=\"M 201.4 78.1 L 171.1 78.1\"></path><path d=\"M 201.4 62.2 L 171.1 62.2\"></path></g><g class=\"toytree-Nodes\" style=\"fill:rgb(40%,76.1%,64.7%);fill-opacity:1.0;stroke:None;stroke-width:1\"><g id=\"node-0\" transform=\"translate(110.542,855.777)\"><circle r=\"0.0\"></circle></g><g id=\"node-1\" transform=\"translate(110.542,839.906)\"><circle r=\"0.0\"></circle></g><g id=\"node-2\" transform=\"translate(110.542,824.034)\"><circle r=\"0.0\"></circle></g><g id=\"node-3\" transform=\"translate(171.084,808.163)\"><circle r=\"0.0\"></circle></g><g id=\"node-4\" transform=\"translate(171.084,792.292)\"><circle r=\"0.0\"></circle></g><g id=\"node-5\" transform=\"translate(171.084,776.421)\"><circle r=\"0.0\"></circle></g><g id=\"node-6\" transform=\"translate(171.084,760.550)\"><circle r=\"0.0\"></circle></g><g id=\"node-7\" transform=\"translate(171.084,744.679)\"><circle r=\"0.0\"></circle></g><g id=\"node-8\" transform=\"translate(171.084,728.808)\"><circle r=\"0.0\"></circle></g><g id=\"node-9\" transform=\"translate(171.084,712.937)\"><circle r=\"0.0\"></circle></g><g id=\"node-10\" transform=\"translate(171.084,697.066)\"><circle r=\"0.0\"></circle></g><g id=\"node-11\" transform=\"translate(171.084,681.195)\"><circle r=\"0.0\"></circle></g><g id=\"node-12\" transform=\"translate(171.084,665.324)\"><circle r=\"0.0\"></circle></g><g id=\"node-13\" transform=\"translate(171.084,649.453)\"><circle r=\"0.0\"></circle></g><g id=\"node-14\" transform=\"translate(171.084,633.582)\"><circle r=\"0.0\"></circle></g><g id=\"node-15\" transform=\"translate(140.813,617.711)\"><circle r=\"0.0\"></circle></g><g id=\"node-16\" transform=\"translate(140.813,601.840)\"><circle r=\"0.0\"></circle></g><g id=\"node-17\" transform=\"translate(140.813,585.969)\"><circle r=\"0.0\"></circle></g><g id=\"node-18\" transform=\"translate(140.813,570.097)\"><circle r=\"0.0\"></circle></g><g id=\"node-19\" transform=\"translate(110.542,554.226)\"><circle r=\"0.0\"></circle></g><g id=\"node-20\" transform=\"translate(140.813,538.355)\"><circle r=\"0.0\"></circle></g><g id=\"node-21\" transform=\"translate(140.813,522.484)\"><circle r=\"0.0\"></circle></g><g id=\"node-22\" transform=\"translate(171.084,506.613)\"><circle r=\"0.0\"></circle></g><g id=\"node-23\" transform=\"translate(171.084,490.742)\"><circle r=\"0.0\"></circle></g><g id=\"node-24\" transform=\"translate(171.084,474.871)\"><circle r=\"0.0\"></circle></g><g id=\"node-25\" transform=\"translate(171.084,459.000)\"><circle r=\"0.0\"></circle></g><g id=\"node-26\" transform=\"translate(171.084,443.129)\"><circle r=\"0.0\"></circle></g><g id=\"node-27\" transform=\"translate(171.084,427.258)\"><circle r=\"0.0\"></circle></g><g id=\"node-28\" transform=\"translate(140.813,411.387)\"><circle r=\"0.0\"></circle></g><g id=\"node-29\" transform=\"translate(140.813,395.516)\"><circle r=\"0.0\"></circle></g><g id=\"node-30\" transform=\"translate(201.355,379.645)\"><circle r=\"0.0\"></circle></g><g id=\"node-31\" transform=\"translate(201.355,363.774)\"><circle r=\"0.0\"></circle></g><g id=\"node-32\" transform=\"translate(201.355,347.903)\"><circle r=\"0.0\"></circle></g><g id=\"node-33\" transform=\"translate(201.355,332.031)\"><circle r=\"0.0\"></circle></g><g id=\"node-34\" transform=\"translate(201.355,316.160)\"><circle r=\"0.0\"></circle></g><g id=\"node-35\" transform=\"translate(201.355,300.289)\"><circle r=\"0.0\"></circle></g><g id=\"node-36\" transform=\"translate(201.355,284.418)\"><circle r=\"0.0\"></circle></g><g id=\"node-37\" transform=\"translate(201.355,268.547)\"><circle r=\"0.0\"></circle></g><g id=\"node-38\" transform=\"translate(201.355,252.676)\"><circle r=\"0.0\"></circle></g><g id=\"node-39\" transform=\"translate(201.355,236.805)\"><circle r=\"0.0\"></circle></g><g id=\"node-40\" transform=\"translate(171.084,220.934)\"><circle r=\"0.0\"></circle></g><g id=\"node-41\" transform=\"translate(171.084,205.063)\"><circle r=\"0.0\"></circle></g><g id=\"node-42\" transform=\"translate(171.084,189.192)\"><circle r=\"0.0\"></circle></g><g id=\"node-43\" transform=\"translate(171.084,173.321)\"><circle r=\"0.0\"></circle></g><g id=\"node-44\" transform=\"translate(171.084,157.450)\"><circle r=\"0.0\"></circle></g><g id=\"node-45\" transform=\"translate(171.084,141.579)\"><circle r=\"0.0\"></circle></g><g id=\"node-46\" transform=\"translate(171.084,125.708)\"><circle r=\"0.0\"></circle></g><g id=\"node-47\" transform=\"translate(201.355,109.837)\"><circle r=\"0.0\"></circle></g><g id=\"node-48\" transform=\"translate(201.355,93.966)\"><circle r=\"0.0\"></circle></g><g id=\"node-49\" transform=\"translate(171.084,78.094)\"><circle r=\"0.0\"></circle></g><g id=\"node-50\" transform=\"translate(171.084,62.223)\"><circle r=\"0.0\"></circle></g><g id=\"node-51\" transform=\"translate(171.084,339.967)\"><circle r=\"5.0\"></circle></g><g id=\"node-52\" transform=\"translate(171.084,260.612)\"><circle r=\"5.0\"></circle></g><g id=\"node-53\" transform=\"translate(171.084,101.901)\"><circle r=\"5.0\"></circle></g><g id=\"node-54\" transform=\"translate(140.813,792.292)\"><circle r=\"5.0\"></circle></g><g id=\"node-55\" transform=\"translate(140.813,752.615)\"><circle r=\"5.0\"></circle></g><g id=\"node-56\" transform=\"translate(140.813,720.873)\"><circle r=\"5.0\"></circle></g><g id=\"node-57\" transform=\"translate(140.813,681.195)\"><circle r=\"5.0\"></circle></g><g id=\"node-58\" transform=\"translate(140.813,641.517)\"><circle r=\"5.0\"></circle></g><g id=\"node-59\" transform=\"translate(140.813,482.807)\"><circle r=\"5.0\"></circle></g><g id=\"node-60\" transform=\"translate(140.813,435.193)\"><circle r=\"5.0\"></circle></g><g id=\"node-61\" transform=\"translate(140.813,300.289)\"><circle r=\"5.0\"></circle></g><g id=\"node-62\" transform=\"translate(140.813,197.127)\"><circle r=\"5.0\"></circle></g><g id=\"node-63\" transform=\"translate(140.813,131.659)\"><circle r=\"5.0\"></circle></g><g id=\"node-64\" transform=\"translate(140.813,70.159)\"><circle r=\"5.0\"></circle></g><g id=\"node-65\" transform=\"translate(110.542,755.260)\"><circle r=\"5.0\"></circle></g><g id=\"node-66\" transform=\"translate(110.542,661.356)\"><circle r=\"5.0\"></circle></g><g id=\"node-67\" transform=\"translate(110.542,593.904)\"><circle r=\"5.0\"></circle></g><g id=\"node-68\" transform=\"translate(110.542,494.710)\"><circle r=\"5.0\"></circle></g><g id=\"node-69\" transform=\"translate(110.542,326.080)\"><circle r=\"5.0\"></circle></g><g id=\"node-70\" transform=\"translate(110.542,100.909)\"><circle r=\"5.0\"></circle></g><g id=\"node-71\" transform=\"translate(80.271,787.266)\"><circle r=\"5.0\"></circle></g><g id=\"node-72\" transform=\"translate(80.271,547.613)\"><circle r=\"5.0\"></circle></g><g id=\"node-73\" transform=\"translate(80.271,213.495)\"><circle r=\"5.0\"></circle></g><g id=\"node-74\" transform=\"translate(50.000,516.125)\"><circle r=\"0.0\"></circle></g></g><g class=\"toytree-NodeLabels\" style=\"fill:rgb(14.9%,14.9%,14.9%);fill-opacity:1.0;font-size:9px;stroke:none\"><g transform=\"translate(156.71,342.27)\"><text>CD4+T</text></g><g transform=\"translate(156.71,262.91)\"><text>CD8+T</text></g><g transform=\"translate(162.34,104.20)\"><text>DCs</text></g><g transform=\"translate(112.81,794.59)\"><text>Immaturecells</text></g><g transform=\"translate(96.55,754.91)\"><text>AbsorptiveMaturecells</text></g><g transform=\"translate(126.06,723.17)\"><text>TAcells</text></g><g transform=\"translate(98.55,683.49)\"><text>SecretoryMaturecells</text></g><g transform=\"translate(111.05,643.82)\"><text>Progenitorcells</text></g><g transform=\"translate(122.44,485.11)\"><text>WNT2B+</text></g><g transform=\"translate(122.44,437.49)\"><text>WNT5B+</text></g><g transform=\"translate(129.06,302.59)\"><text>Tcells</text></g><g transform=\"translate(128.81,199.43)\"><text>Bcells</text></g><g transform=\"translate(119.06,133.96)\"><text>Monocytes</text></g><g transform=\"translate(131.06,72.46)\"><text>Mast</text></g><g transform=\"translate(89.28,757.56)\"><text>Absorptive</text></g><g transform=\"translate(91.29,663.66)\"><text>Secretory</text></g><g transform=\"translate(78.28,596.20)\"><text>EndothelialCells</text></g><g transform=\"translate(88.54,497.01)\"><text>Fibroblasts</text></g><g transform=\"translate(91.03,328.38)\"><text>Lymphoid</text></g><g transform=\"translate(95.04,103.21)\"><text>Myeloid</text></g><g transform=\"translate(62.01,789.57)\"><text>Epithelial</text></g><g transform=\"translate(64.77,549.91)\"><text>Stromal</text></g><g transform=\"translate(64.02,215.79)\"><text>Immune</text></g></g><g class=\"toytree-TipLabels\" style=\"fill:rgb(14.9%,14.9%,14.9%);fill-opacity:1.0;font-family:helvetica;font-size:11px;font-weight:normal;stroke:none;white-space:pre\"><g transform=\"translate(201.36,855.78)rotate(0)\"><text x=\"15.00\" y=\"2.81\" style=\"\">Mcells</text></g><g transform=\"translate(201.36,839.91)rotate(0)\"><text x=\"15.00\" y=\"2.81\" style=\"\">Stem</text></g><g transform=\"translate(201.36,824.03)rotate(0)\"><text x=\"15.00\" y=\"2.81\" style=\"\">CyclingTA</text></g><g transform=\"translate(201.36,808.16)rotate(0)\"><text x=\"15.00\" y=\"2.81\" style=\"\">ImmatureEnterocytes1</text></g><g transform=\"translate(201.36,792.29)rotate(0)\"><text x=\"15.00\" y=\"2.81\" style=\"\">ImmatureEnterocytes2</text></g><g transform=\"translate(201.36,776.42)rotate(0)\"><text x=\"15.00\" y=\"2.81\" style=\"\">EnterocyteProgenitors</text></g><g transform=\"translate(201.36,760.55)rotate(0)\"><text x=\"15.00\" y=\"2.81\" style=\"\">Enterocytes</text></g><g transform=\"translate(201.36,744.68)rotate(0)\"><text x=\"15.00\" y=\"2.81\" style=\"\">Best4+Enterocytes</text></g><g transform=\"translate(201.36,728.81)rotate(0)\"><text x=\"15.00\" y=\"2.81\" style=\"\">TA2</text></g><g transform=\"translate(201.36,712.94)rotate(0)\"><text x=\"15.00\" y=\"2.81\" style=\"\">TA1</text></g><g transform=\"translate(201.36,697.07)rotate(0)\"><text x=\"15.00\" y=\"2.81\" style=\"\">Tuft</text></g><g transform=\"translate(201.36,681.19)rotate(0)\"><text x=\"15.00\" y=\"2.81\" style=\"\">Goblet</text></g><g transform=\"translate(201.36,665.32)rotate(0)\"><text x=\"15.00\" y=\"2.81\" style=\"\">Enteroendocrine</text></g><g transform=\"translate(201.36,649.45)rotate(0)\"><text x=\"15.00\" y=\"2.81\" style=\"\">SecretoryTA</text></g><g transform=\"translate(201.36,633.58)rotate(0)\"><text x=\"15.00\" y=\"2.81\" style=\"\">ImmatureGoblet</text></g><g transform=\"translate(201.36,617.71)rotate(0)\"><text x=\"15.00\" y=\"2.81\" style=\"\">Post-capillaryVenules</text></g><g transform=\"translate(201.36,601.84)rotate(0)\"><text x=\"15.00\" y=\"2.81\" style=\"\">Endothelial</text></g><g transform=\"translate(201.36,585.97)rotate(0)\"><text x=\"15.00\" y=\"2.81\" style=\"\">Microvascular</text></g><g transform=\"translate(201.36,570.10)rotate(0)\"><text x=\"15.00\" y=\"2.81\" style=\"\">Pericytes</text></g><g transform=\"translate(201.36,554.23)rotate(0)\"><text x=\"15.00\" y=\"2.81\" style=\"\">Glia</text></g><g transform=\"translate(201.36,538.36)rotate(0)\"><text x=\"15.00\" y=\"2.81\" style=\"\">Myofibroblasts</text></g><g transform=\"translate(201.36,522.48)rotate(0)\"><text x=\"15.00\" y=\"2.81\" style=\"\">InflammatoryFibroblasts</text></g><g transform=\"translate(201.36,506.61)rotate(0)\"><text x=\"15.00\" y=\"2.81\" style=\"\">WNT2B+Fos-lo2</text></g><g transform=\"translate(201.36,490.74)rotate(0)\"><text x=\"15.00\" y=\"2.81\" style=\"\">RSPO3+</text></g><g transform=\"translate(201.36,474.87)rotate(0)\"><text x=\"15.00\" y=\"2.81\" style=\"\">WNT2B+Fos-lo1</text></g><g transform=\"translate(201.36,459.00)rotate(0)\"><text x=\"15.00\" y=\"2.81\" style=\"\">WNT2B+Fos-hi</text></g><g transform=\"translate(201.36,443.13)rotate(0)\"><text x=\"15.00\" y=\"2.81\" style=\"\">WNT5B+1</text></g><g transform=\"translate(201.36,427.26)rotate(0)\"><text x=\"15.00\" y=\"2.81\" style=\"\">WNT5B+2</text></g><g transform=\"translate(201.36,411.39)rotate(0)\"><text x=\"15.00\" y=\"2.81\" style=\"\">ILCs</text></g><g transform=\"translate(201.36,395.52)rotate(0)\"><text x=\"15.00\" y=\"2.81\" style=\"\">NKs</text></g><g transform=\"translate(201.36,379.64)rotate(0)\"><text x=\"15.00\" y=\"2.81\" style=\"\">Tregs</text></g><g transform=\"translate(201.36,363.77)rotate(0)\"><text x=\"15.00\" y=\"2.81\" style=\"\">MT-hi</text></g><g transform=\"translate(201.36,347.90)rotate(0)\"><text x=\"15.00\" y=\"2.81\" style=\"\">CD4+ActivatedFos-hi</text></g><g transform=\"translate(201.36,332.03)rotate(0)\"><text x=\"15.00\" y=\"2.81\" style=\"\">CD4+PD1+</text></g><g transform=\"translate(201.36,316.16)rotate(0)\"><text x=\"15.00\" y=\"2.81\" style=\"\">CD4+ActivatedFos-lo</text></g><g transform=\"translate(201.36,300.29)rotate(0)\"><text x=\"15.00\" y=\"2.81\" style=\"\">CD4+Memory</text></g><g transform=\"translate(201.36,284.42)rotate(0)\"><text x=\"15.00\" y=\"2.81\" style=\"\">CD8+IL17+</text></g><g transform=\"translate(201.36,268.55)rotate(0)\"><text x=\"15.00\" y=\"2.81\" style=\"\">CyclingT</text></g><g transform=\"translate(201.36,252.68)rotate(0)\"><text x=\"15.00\" y=\"2.81\" style=\"\">CD8+LP</text></g><g transform=\"translate(201.36,236.81)rotate(0)\"><text x=\"15.00\" y=\"2.81\" style=\"\">CD8+IELs</text></g><g transform=\"translate(201.36,220.93)rotate(0)\"><text x=\"15.00\" y=\"2.81\" style=\"\">Plasma</text></g><g transform=\"translate(201.36,205.06)rotate(0)\"><text x=\"15.00\" y=\"2.81\" style=\"\">Follicular</text></g><g transform=\"translate(201.36,189.19)rotate(0)\"><text x=\"15.00\" y=\"2.81\" style=\"\">GC</text></g><g transform=\"translate(201.36,173.32)rotate(0)\"><text x=\"15.00\" y=\"2.81\" style=\"\">CyclingB</text></g><g transform=\"translate(201.36,157.45)rotate(0)\"><text x=\"15.00\" y=\"2.81\" style=\"\">CyclingMonocytes</text></g><g transform=\"translate(201.36,141.58)rotate(0)\"><text x=\"15.00\" y=\"2.81\" style=\"\">InflammatoryMonocytes</text></g><g transform=\"translate(201.36,125.71)rotate(0)\"><text x=\"15.00\" y=\"2.81\" style=\"\">Macrophages</text></g><g transform=\"translate(201.36,109.84)rotate(0)\"><text x=\"15.00\" y=\"2.81\" style=\"\">DC1</text></g><g transform=\"translate(201.36,93.97)rotate(0)\"><text x=\"15.00\" y=\"2.81\" style=\"\">DC2</text></g><g transform=\"translate(201.36,78.09)rotate(0)\"><text x=\"15.00\" y=\"2.81\" style=\"\">CD69-Mast</text></g><g transform=\"translate(201.36,62.22)rotate(0)\"><text x=\"15.00\" y=\"2.81\" style=\"\">CD69+Mast</text></g></g></g></g></g></svg><div class=\"toyplot-behavior\"><script>(function()\n{\nvar modules={};\n})();</script></div></div>"
     },
     "metadata": {},
     "output_type": "display_data"
    }
   ],
   "source": [
    "# Collapse all the singularities\n",
    "tree2 = util.collapse_singularities(tree)\n",
    "tree2.draw(tip_labels_align=True, node_sizes=10, node_labels='name')"
   ],
   "metadata": {
    "collapsed": false,
    "pycharm": {
     "name": "#%%\n"
    }
   }
  },
  {
   "cell_type": "markdown",
   "metadata": {},
   "source": [
    "Save to file."
   ]
  },
  {
   "cell_type": "code",
   "execution_count": 32,
   "metadata": {
    "collapsed": true
   },
   "outputs": [],
   "source": [
    "meta.to_csv(data_path + 'meta_processed.csv')"
   ]
  },
  {
   "cell_type": "code",
   "execution_count": 33,
   "outputs": [
    {
     "data": {
      "text/plain": "                        Subject Sample Location Replicate    Health  \\\nNAME                                                                  \nN10.EpiA.AAACATACAACCAC     N10   EpiA      Epi         A   Healthy   \nN10.EpiA.AAACATACAGGCGA     N10   EpiA      Epi         A   Healthy   \nN10.EpiA.AAACATACCACTAG     N10   EpiA      Epi         A   Healthy   \nN10.EpiA.AAACATACCCTTTA     N10   EpiA      Epi         A   Healthy   \nN10.EpiA.AAACATACTGCAAC     N10   EpiA      Epi         A   Healthy   \n...                         ...    ...      ...       ...       ...   \nN9.LPB.TTTATCCTAACGAA        N9    LPB       LP         B  Inflamed   \nN9.LPB.TTTATCCTGTAAAG        N9    LPB       LP         B  Inflamed   \nN9.LPB.TTTATCCTGTCGTA        N9    LPB       LP         B  Inflamed   \nN9.LPB.TTTCAGTGGCGTTA        N9    LPB       LP         B  Inflamed   \nN9.LPB.TTTGCATGGATACC        N9    LPB       LP         B  Inflamed   \n\n                                        Cluster nGene   nUMI    Major_l1  \\\nNAME                                                                       \nN10.EpiA.AAACATACAACCAC  Enterocyte Progenitors   425    968  Epithelial   \nN10.EpiA.AAACATACAGGCGA              Cycling TA  1695   7273  Epithelial   \nN10.EpiA.AAACATACCACTAG         Immature Goblet   391   1190  Epithelial   \nN10.EpiA.AAACATACCCTTTA            Secretory TA  1327   5620  Epithelial   \nN10.EpiA.AAACATACTGCAAC  Immature Enterocytes 2  1383   4676  Epithelial   \n...                                         ...   ...    ...         ...   \nN9.LPB.TTTATCCTAACGAA               Enterocytes  2768  18811  Epithelial   \nN9.LPB.TTTATCCTGTAAAG                    Plasma  1392  27685      Immune   \nN9.LPB.TTTATCCTGTCGTA                    Plasma   574   5478      Immune   \nN9.LPB.TTTCAGTGGCGTTA               Macrophages  1437   5698      Immune   \nN9.LPB.TTTGCATGGATACC                   CD8+ LP   544   1348      Immune   \n\n                           Major_l2     Major_l3                 Major_l4  \nNAME                                                                       \nN10.EpiA.AAACATACAACCAC  Epithelial   Absorptive           Immature cells  \nN10.EpiA.AAACATACAGGCGA  Epithelial  Cycling TA3              Cycling TA4  \nN10.EpiA.AAACATACCACTAG  Epithelial    Secretory         Progenitor cells  \nN10.EpiA.AAACATACCCTTTA  Epithelial    Secretory         Progenitor cells  \nN10.EpiA.AAACATACTGCAAC  Epithelial   Absorptive           Immature cells  \n...                             ...          ...                      ...  \nN9.LPB.TTTATCCTAACGAA    Epithelial   Absorptive  Absorptive Mature cells  \nN9.LPB.TTTATCCTGTAAAG      Lymphoid      B cells                  Plasma4  \nN9.LPB.TTTATCCTGTCGTA      Lymphoid      B cells                  Plasma4  \nN9.LPB.TTTCAGTGGCGTTA       Myeloid    Monocytes             Macrophages4  \nN9.LPB.TTTGCATGGATACC      Lymphoid      T cells                   CD8+ T  \n\n[365492 rows x 12 columns]",
      "text/html": "<div>\n<style scoped>\n    .dataframe tbody tr th:only-of-type {\n        vertical-align: middle;\n    }\n\n    .dataframe tbody tr th {\n        vertical-align: top;\n    }\n\n    .dataframe thead th {\n        text-align: right;\n    }\n</style>\n<table border=\"1\" class=\"dataframe\">\n  <thead>\n    <tr style=\"text-align: right;\">\n      <th></th>\n      <th>Subject</th>\n      <th>Sample</th>\n      <th>Location</th>\n      <th>Replicate</th>\n      <th>Health</th>\n      <th>Cluster</th>\n      <th>nGene</th>\n      <th>nUMI</th>\n      <th>Major_l1</th>\n      <th>Major_l2</th>\n      <th>Major_l3</th>\n      <th>Major_l4</th>\n    </tr>\n    <tr>\n      <th>NAME</th>\n      <th></th>\n      <th></th>\n      <th></th>\n      <th></th>\n      <th></th>\n      <th></th>\n      <th></th>\n      <th></th>\n      <th></th>\n      <th></th>\n      <th></th>\n      <th></th>\n    </tr>\n  </thead>\n  <tbody>\n    <tr>\n      <th>N10.EpiA.AAACATACAACCAC</th>\n      <td>N10</td>\n      <td>EpiA</td>\n      <td>Epi</td>\n      <td>A</td>\n      <td>Healthy</td>\n      <td>Enterocyte Progenitors</td>\n      <td>425</td>\n      <td>968</td>\n      <td>Epithelial</td>\n      <td>Epithelial</td>\n      <td>Absorptive</td>\n      <td>Immature cells</td>\n    </tr>\n    <tr>\n      <th>N10.EpiA.AAACATACAGGCGA</th>\n      <td>N10</td>\n      <td>EpiA</td>\n      <td>Epi</td>\n      <td>A</td>\n      <td>Healthy</td>\n      <td>Cycling TA</td>\n      <td>1695</td>\n      <td>7273</td>\n      <td>Epithelial</td>\n      <td>Epithelial</td>\n      <td>Cycling TA3</td>\n      <td>Cycling TA4</td>\n    </tr>\n    <tr>\n      <th>N10.EpiA.AAACATACCACTAG</th>\n      <td>N10</td>\n      <td>EpiA</td>\n      <td>Epi</td>\n      <td>A</td>\n      <td>Healthy</td>\n      <td>Immature Goblet</td>\n      <td>391</td>\n      <td>1190</td>\n      <td>Epithelial</td>\n      <td>Epithelial</td>\n      <td>Secretory</td>\n      <td>Progenitor cells</td>\n    </tr>\n    <tr>\n      <th>N10.EpiA.AAACATACCCTTTA</th>\n      <td>N10</td>\n      <td>EpiA</td>\n      <td>Epi</td>\n      <td>A</td>\n      <td>Healthy</td>\n      <td>Secretory TA</td>\n      <td>1327</td>\n      <td>5620</td>\n      <td>Epithelial</td>\n      <td>Epithelial</td>\n      <td>Secretory</td>\n      <td>Progenitor cells</td>\n    </tr>\n    <tr>\n      <th>N10.EpiA.AAACATACTGCAAC</th>\n      <td>N10</td>\n      <td>EpiA</td>\n      <td>Epi</td>\n      <td>A</td>\n      <td>Healthy</td>\n      <td>Immature Enterocytes 2</td>\n      <td>1383</td>\n      <td>4676</td>\n      <td>Epithelial</td>\n      <td>Epithelial</td>\n      <td>Absorptive</td>\n      <td>Immature cells</td>\n    </tr>\n    <tr>\n      <th>...</th>\n      <td>...</td>\n      <td>...</td>\n      <td>...</td>\n      <td>...</td>\n      <td>...</td>\n      <td>...</td>\n      <td>...</td>\n      <td>...</td>\n      <td>...</td>\n      <td>...</td>\n      <td>...</td>\n      <td>...</td>\n    </tr>\n    <tr>\n      <th>N9.LPB.TTTATCCTAACGAA</th>\n      <td>N9</td>\n      <td>LPB</td>\n      <td>LP</td>\n      <td>B</td>\n      <td>Inflamed</td>\n      <td>Enterocytes</td>\n      <td>2768</td>\n      <td>18811</td>\n      <td>Epithelial</td>\n      <td>Epithelial</td>\n      <td>Absorptive</td>\n      <td>Absorptive Mature cells</td>\n    </tr>\n    <tr>\n      <th>N9.LPB.TTTATCCTGTAAAG</th>\n      <td>N9</td>\n      <td>LPB</td>\n      <td>LP</td>\n      <td>B</td>\n      <td>Inflamed</td>\n      <td>Plasma</td>\n      <td>1392</td>\n      <td>27685</td>\n      <td>Immune</td>\n      <td>Lymphoid</td>\n      <td>B cells</td>\n      <td>Plasma4</td>\n    </tr>\n    <tr>\n      <th>N9.LPB.TTTATCCTGTCGTA</th>\n      <td>N9</td>\n      <td>LPB</td>\n      <td>LP</td>\n      <td>B</td>\n      <td>Inflamed</td>\n      <td>Plasma</td>\n      <td>574</td>\n      <td>5478</td>\n      <td>Immune</td>\n      <td>Lymphoid</td>\n      <td>B cells</td>\n      <td>Plasma4</td>\n    </tr>\n    <tr>\n      <th>N9.LPB.TTTCAGTGGCGTTA</th>\n      <td>N9</td>\n      <td>LPB</td>\n      <td>LP</td>\n      <td>B</td>\n      <td>Inflamed</td>\n      <td>Macrophages</td>\n      <td>1437</td>\n      <td>5698</td>\n      <td>Immune</td>\n      <td>Myeloid</td>\n      <td>Monocytes</td>\n      <td>Macrophages4</td>\n    </tr>\n    <tr>\n      <th>N9.LPB.TTTGCATGGATACC</th>\n      <td>N9</td>\n      <td>LPB</td>\n      <td>LP</td>\n      <td>B</td>\n      <td>Inflamed</td>\n      <td>CD8+ LP</td>\n      <td>544</td>\n      <td>1348</td>\n      <td>Immune</td>\n      <td>Lymphoid</td>\n      <td>T cells</td>\n      <td>CD8+ T</td>\n    </tr>\n  </tbody>\n</table>\n<p>365492 rows × 12 columns</p>\n</div>"
     },
     "execution_count": 33,
     "metadata": {},
     "output_type": "execute_result"
    }
   ],
   "source": [
    "meta"
   ],
   "metadata": {
    "collapsed": false,
    "pycharm": {
     "name": "#%%\n"
    }
   }
  },
  {
   "cell_type": "code",
   "execution_count": 33,
   "outputs": [],
   "source": [],
   "metadata": {
    "collapsed": false,
    "pycharm": {
     "name": "#%%\n"
    }
   }
  }
 ],
 "metadata": {
  "kernelspec": {
   "name": "python3",
   "language": "python",
   "display_name": "Python 3"
  },
  "language_info": {
   "codemirror_mode": {
    "name": "ipython",
    "version": 3
   },
   "file_extension": ".py",
   "mimetype": "text/x-python",
   "name": "python",
   "nbconvert_exporter": "python",
   "pygments_lexer": "ipython3",
   "version": "3.7.3"
  },
  "latex_envs": {
   "bibliofile": "biblio.bib",
   "cite_by": "apalike",
   "current_citInitial": 1,
   "eqLabelWithNumbers": true,
   "eqNumInitial": 0
  },
  "toc": {
   "toc_cell": false,
   "toc_number_sections": true,
   "toc_threshold": 6,
   "toc_window_display": false
  }
 },
 "nbformat": 4,
 "nbformat_minor": 4
}