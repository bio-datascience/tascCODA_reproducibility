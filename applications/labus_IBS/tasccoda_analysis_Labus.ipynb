{
 "cells": [
  {
   "cell_type": "markdown",
   "metadata": {
    "collapsed": true,
    "pycharm": {
     "name": "#%% md\n"
    }
   },
   "source": [
    "# Analyzing data from Labus et al. with tascCODA"
   ]
  },
  {
   "cell_type": "code",
   "execution_count": 1,
   "outputs": [
    {
     "name": "stderr",
     "output_type": "stream",
     "text": [
      "/Users/johannes.ostner/opt/anaconda3/envs/scCODA_3/lib/python3.8/site-packages/skbio/util/_testing.py:15: FutureWarning: pandas.util.testing is deprecated. Use the functions in the public API at pandas.testing instead.\n",
      "  import pandas.util.testing as pdt\n"
     ]
    }
   ],
   "source": [
    "# Setup\n",
    "import re\n",
    "\n",
    "import numpy as np\n",
    "import pandas as pd\n",
    "import toyplot\n",
    "import toytree as tt\n",
    "import re\n",
    "import toyplot.svg\n",
    "\n",
    "import ibs_util_functions as util\n",
    "import tasccoda.tree_ana as ta"
   ],
   "metadata": {
    "collapsed": false,
    "pycharm": {
     "name": "#%%\n"
    }
   }
  },
  {
   "cell_type": "code",
   "execution_count": 2,
   "outputs": [],
   "source": [
    "# tascCODA running function\n",
    "data_dir = '../../../tascCODA_data/applications/labus_IBS/results/'\n",
    "\n",
    "tax_levels = [\"Kingdom\", \"Phylum\", \"Class\", \"Order\", \"Family\", \"Genus\"]\n",
    "\n",
    "def run_tree_agg_Labus(\n",
    "    level,\n",
    "    result_name,\n",
    "    data=None,\n",
    "    pen_args={\"lambda_0\": 50, \"phi\": 0, \"lambda_1\": 5},\n",
    "    formula = \"C(host_disease, Treatment('Healthy'))\",\n",
    "    num_samples = 2000\n",
    "):\n",
    "    author = \"Labus\"\n",
    "    year = 2017\n",
    "    references = {\n",
    "        \"Genus\": \"Bacteria*Bacteroidota*Bacteroidia*Bacteroidales*Rikenellaceae*Alistipes\",\n",
    "        \"Family\": \"Bacteria*Bacteroidota*Bacteroidia*Bacteroidales*Rikenellaceae\",\n",
    "        \"Order\": \"Bacteria*Bacteroidota*Bacteroidia*Bacteroidales\",\n",
    "        \"Class\": \"Bacteria*Bacteroidota*Bacteroidia\",\n",
    "        \"Phylum\": \"Bacteria*Bacteroidota\",\n",
    "    }\n",
    "\n",
    "    if data is None:\n",
    "        data = util.agg_ibs_data(author, level)\n",
    "    n_level = tax_levels.index(level)+1\n",
    "\n",
    "    for char in data.var.index:\n",
    "        split = char.split(sep=\"*\")\n",
    "\n",
    "        for n in range(n_level):\n",
    "            data.var.loc[char, tax_levels[n]] = \"*\".join(split[:n+1])\n",
    "\n",
    "    newick = util.df2newick(data.var.reset_index(drop=True))\n",
    "\n",
    "    tree = tt.tree(newick, tree_format=1)\n",
    "    data.uns[\"phylo_tree\"] = tree\n",
    "\n",
    "    data = data[:, tree.get_tip_labels()]\n",
    "\n",
    "    model = ta.CompositionalAnalysisTree(\n",
    "        data=data,\n",
    "        formula=formula,\n",
    "        # reference_cell_type=references[level],\n",
    "        reference_cell_type=references[\"Genus\"],\n",
    "        reg=\"scaled_3\",\n",
    "        pen_args=pen_args,\n",
    "        model=\"new\",\n",
    "        automatic_reference_absence_threshold=0.2\n",
    "    )\n",
    "    result = model.sample_hmc_da(num_results=num_samples, num_burnin=int(num_samples/4))\n",
    "\n",
    "    eff_lv = util.get_phylo_levels(result.effect_df.reset_index(), level)\n",
    "    cov_lv = result.effect_df.index.get_level_values(\"Covariate\").to_list()\n",
    "    eff_lv.insert(0, 'Covariate', cov_lv)\n",
    "\n",
    "    result.effect_df.index = pd.MultiIndex.from_frame(eff_lv)\n",
    "\n",
    "    nd = result.node_df.reset_index()\n",
    "    node_lv = util.get_phylo_levels(nd, level, \"Node\")\n",
    "    cov_lv = result.node_df.index.get_level_values(\"Covariate\").to_list()\n",
    "    node_lv.insert(0, 'Covariate', cov_lv)\n",
    "\n",
    "    result.node_df.index = pd.MultiIndex.from_frame(node_lv)\n",
    "    result.node_df[\"Cell Type\"] = np.array(nd.loc[:, \"Node\"])\n",
    "\n",
    "    filename = f\"../../../tascCODA_data/applications/labus_IBS/results/{author.lower()}_{level.lower()}_\"\n",
    "    result.node_df.to_csv(filename + f\"tree_agg_{result_name}.csv\")\n",
    "\n",
    "    return result"
   ],
   "metadata": {
    "collapsed": false,
    "pycharm": {
     "name": "#%%\n"
    }
   }
  },
  {
   "cell_type": "markdown",
   "source": [
    "We first look at IBS vs. healthy\n",
    "To get some credible results, we set $\\lambda_1 = 1$.\n",
    "\n",
    "We then get:\n",
    "- one effect for $\\phi = -5$\n",
    "- two effects for $\\phi = 0$\n",
    "- eight effects for $\\phi = 5$\n",
    "\n",
    "These effects are similar to what scCODA finds."
   ],
   "metadata": {
    "collapsed": false,
    "pycharm": {
     "name": "#%% md\n"
    }
   }
  },
  {
   "cell_type": "code",
   "execution_count": 3,
   "outputs": [],
   "source": [
    "results = {}"
   ],
   "metadata": {
    "collapsed": false,
    "pycharm": {
     "name": "#%%\n"
    }
   }
  },
  {
   "cell_type": "code",
   "execution_count": 30,
   "outputs": [
    {
     "name": "stderr",
     "output_type": "stream",
     "text": [
      "Trying to set attribute `.X` of view, copying.\n"
     ]
    },
    {
     "name": "stdout",
     "output_type": "stream",
     "text": [
      "Zero counts encountered in data! Added a pseudocount of 0.5.\n"
     ]
    },
    {
     "name": "stderr",
     "output_type": "stream",
     "text": [
      "/Users/johannes.ostner/Documents/PhD/tree_aggregation/tree_aggregation/tree_agg_model_sslasso.py:455: UserWarning: This feature is untested and might yield different results than expected. Please use sample_hmc().\n",
      "  warnings.warn(\n",
      "100%|██████████| 20000/20000 [03:28<00:00, 95.96it/s] \n"
     ]
    },
    {
     "name": "stdout",
     "output_type": "stream",
     "text": [
      "MCMC sampling finished. (264.728 sec)\n",
      "Acceptance rate: 85.8%\n"
     ]
    },
    {
     "name": "stderr",
     "output_type": "stream",
     "text": [
      "Trying to set attribute `.X` of view, copying.\n"
     ]
    },
    {
     "name": "stdout",
     "output_type": "stream",
     "text": [
      "\n",
      "phi_-5_l1_1\n",
      "Covariate                                          Kingdom   Phylum      Class  Order  Family  Genus\n",
      "C(host_disease, Treatment('Healthy'))[T.IBS]_node  Bacteria  Firmicutes  NaN    NaN    NaN     NaN     -0.313\n",
      "Name: Final Parameter, dtype: float64\n",
      "Zero counts encountered in data! Added a pseudocount of 0.5.\n"
     ]
    },
    {
     "name": "stderr",
     "output_type": "stream",
     "text": [
      "/Users/johannes.ostner/Documents/PhD/tree_aggregation/tree_aggregation/tree_agg_model_sslasso.py:455: UserWarning: This feature is untested and might yield different results than expected. Please use sample_hmc().\n",
      "  warnings.warn(\n",
      "100%|██████████| 20000/20000 [03:23<00:00, 98.33it/s] \n"
     ]
    },
    {
     "name": "stdout",
     "output_type": "stream",
     "text": [
      "MCMC sampling finished. (261.427 sec)\n",
      "Acceptance rate: 86.0%\n"
     ]
    },
    {
     "name": "stderr",
     "output_type": "stream",
     "text": [
      "Trying to set attribute `.X` of view, copying.\n"
     ]
    },
    {
     "name": "stdout",
     "output_type": "stream",
     "text": [
      "\n",
      "phi_0_l1_1\n",
      "Covariate                                          Kingdom   Phylum        Class        Order            Family          Genus          \n",
      "C(host_disease, Treatment('Healthy'))[T.IBS]_node  Bacteria  Bacteroidota  Bacteroidia  Bacteroidales    Tannerellaceae  Parabacteroides   -0.156\n",
      "                                                                                                         Bacteroidaceae  Bacteroides       -0.662\n",
      "                                                             Firmicutes    Clostridia   Oscillospirales  NaN             NaN               -0.232\n",
      "Name: Final Parameter, dtype: float64\n",
      "Zero counts encountered in data! Added a pseudocount of 0.5.\n"
     ]
    },
    {
     "name": "stderr",
     "output_type": "stream",
     "text": [
      "/Users/johannes.ostner/Documents/PhD/tree_aggregation/tree_aggregation/tree_agg_model_sslasso.py:455: UserWarning: This feature is untested and might yield different results than expected. Please use sample_hmc().\n",
      "  warnings.warn(\n",
      "100%|██████████| 20000/20000 [03:33<00:00, 93.56it/s] \n"
     ]
    },
    {
     "name": "stdout",
     "output_type": "stream",
     "text": [
      "MCMC sampling finished. (270.470 sec)\n",
      "Acceptance rate: 86.3%\n",
      "\n",
      "phi_5_l1_1\n",
      "Covariate                                          Kingdom   Phylum        Class          Order              Family              Genus                \n",
      "C(host_disease, Treatment('Healthy'))[T.IBS]_node  Bacteria  Bacteroidota  Bacteroidia    Bacteroidales      Tannerellaceae      Parabacteroides         -0.845\n",
      "                                                                                                             Bacteroidaceae      Bacteroides             -1.001\n",
      "                                                                                                             Prevotellaceae      Prevotella              -0.413\n",
      "                                                             Firmicutes    Clostridia     Lachnospirales     Lachnospiraceae     Agathobacter            -0.610\n",
      "                                                                                          Oscillospirales    Ruminococcaceae     Subdoligranulum         -0.224\n",
      "                                                                                                                                 Faecalibacterium        -0.252\n",
      "                                                                           Negativicutes  Acidaminococcales  Acidaminococcaceae  Phascolarctobacterium   -0.250\n",
      "                                                                           Clostridia     Oscillospirales    Ruminococcaceae     NaN                     -0.340\n",
      "Name: Final Parameter, dtype: float64\n"
     ]
    }
   ],
   "source": [
    "phis = [-5, 0, 5]\n",
    "lambdas = [1]\n",
    "formula = \"C(host_disease, Treatment('Healthy'))\"\n",
    "\n",
    "for phi in phis:\n",
    "    for l_1 in lambdas:\n",
    "        name = f\"phi_{phi}_l1_{l_1}\"\n",
    "        pa = {\"lambda_0\": 50, \"phi\": phi, \"lambda_1\": l_1}\n",
    "        res = run_tree_agg_Labus(\n",
    "            level=\"Genus\",\n",
    "            result_name=f\"test_phi_{phi}_l1_{l_1}\",\n",
    "            pen_args=pa,\n",
    "            formula=formula,\n",
    "            num_samples=20000\n",
    "        )\n",
    "\n",
    "        results[(phi, l_1)] = res\n",
    "        print(\"\")\n",
    "        print(name)\n",
    "        print(res.node_df.loc[np.abs(res.node_df[\"Final Parameter\"]) != 0, \"Final Parameter\"])\n"
   ],
   "metadata": {
    "collapsed": false,
    "pycharm": {
     "name": "#%%\n"
    }
   }
  },
  {
   "cell_type": "code",
   "execution_count": 3,
   "outputs": [],
   "source": [
    "# tree drawing function\n",
    "def draw_tree(node_df, title=\"\", add_sccoda=True, tip_labels=True, save_path=None, eff_max=None):\n",
    "\n",
    "    node_df = node_df.reset_index()\n",
    "    tree_dat = {}\n",
    "    node_df[\"level\"] = \"Kingdom\"\n",
    "    for l in tax_levels[1:]:\n",
    "        node_df.loc[pd.notna(node_df.reset_index()[l]), \"level\"] = l\n",
    "\n",
    "    for l in tax_levels[1:]:\n",
    "        tree_dat[l] = node_df.loc[node_df[\"level\"] == l].reset_index()\n",
    "\n",
    "    tree, markers = util.build_fancy_tree(tree_dat)\n",
    "    canvas = toyplot.Canvas(width=1000, height=1000)\n",
    "    ax0 = canvas.cartesian(bounds=(50, 800, 50, 800), padding=0)\n",
    "    ax0.x.show = False\n",
    "    ax0.y.show = False\n",
    "\n",
    "    if eff_max is None:\n",
    "        eff_max = np.max([np.abs(n.effect) for n in tree.treenode.traverse()])\n",
    "\n",
    "    if add_sccoda:\n",
    "        data_sccoda = util.read_authors_results([\"Labus\"], data_dir, method=\"sccoda\", add=None)[\"Genus\"]\n",
    "        label_colors = [\n",
    "            \"darkgrey\" if n==\"Alistipes\"\n",
    "            else \"red\" if data_sccoda.loc[data_sccoda[\"Genus\"]==n, \"Final Parameter\"].tolist()[0] != 0\n",
    "            else \"black\" for n in tree.get_tip_labels()\n",
    "        ]\n",
    "    else:\n",
    "        label_colors = [\"darkgrey\" if n==\"Alistipes\" else \"black\" for n in tree.get_tip_labels()]\n",
    "\n",
    "    tree.draw(\n",
    "        axes=ax0,\n",
    "        layout='c',\n",
    "        edge_type='p',\n",
    "        node_sizes=[(np.abs(n.effect) * 20 / eff_max) + 10 if n.effect != 0 else 0 for n in tree.treenode.traverse()],\n",
    "        node_colors=[n.color for n in tree.treenode.traverse()],\n",
    "        node_style={\n",
    "            \"stroke\": \"black\",\n",
    "            \"stroke-width\": \"1\"\n",
    "        },\n",
    "        # node_style={\"fill\": \"blue\"},\n",
    "        width=800,\n",
    "        height=800,\n",
    "        tip_labels=tip_labels,\n",
    "        tip_labels_align=True,\n",
    "        tip_labels_style={\"font-size\": \"12px\"},\n",
    "        tip_labels_colors=label_colors,\n",
    "        edge_colors=[tree.idx_dict[x[1]].edge_color for x in tree.get_edges()],\n",
    "        edge_widths=3\n",
    "    )\n",
    "\n",
    "    ax1 = canvas.cartesian(bounds=(50, 800, 50, 100), padding=0, label=title)\n",
    "    ax1.x.show=False\n",
    "    ax1.y.show=False\n",
    "\n",
    "    canvas.legend(markers,\n",
    "            bounds=(800, 1000, 275, 375),\n",
    "            label=\"Phylum\"\n",
    "    )\n",
    "    markers2 = [\n",
    "        (f\"{eff_max}\",toyplot.marker.create(shape=\"o\", size=20, mstyle={\"fill\": \"black\"})),\n",
    "        (f\"{-1*eff_max}\",toyplot.marker.create(shape=\"o\", size=20, mstyle={\"fill\": \"white\"}))\n",
    "    ]\n",
    "    canvas.legend(markers2,\n",
    "        bounds=(800, 1000, 425, 525),\n",
    "        label=f\"tascCODA Effects\"\n",
    "    )\n",
    "\n",
    "    if save_path is not None:\n",
    "        toyplot.svg.render(canvas, save_path)"
   ],
   "metadata": {
    "collapsed": false,
    "pycharm": {
     "name": "#%%\n"
    }
   }
  },
  {
   "cell_type": "markdown",
   "source": [
    "Comparing with scCODA, we recover all effects found by scCODA and a few more."
   ],
   "metadata": {
    "collapsed": false,
    "pycharm": {
     "name": "#%% md\n"
    }
   }
  },
  {
   "cell_type": "code",
   "execution_count": 23,
   "outputs": [
    {
     "data": {
      "text/html": "<div class=\"toyplot\" id=\"td6eb61f09b054a3787ea393642867e4c\" style=\"text-align:center\"><svg class=\"toyplot-canvas-Canvas\" xmlns:toyplot=\"http://www.sandia.gov/toyplot\" xmlns:xlink=\"http://www.w3.org/1999/xlink\" xmlns=\"http://www.w3.org/2000/svg\" width=\"1000.0px\" height=\"1000.0px\" viewBox=\"0 0 1000.0 1000.0\" preserveAspectRatio=\"xMidYMid meet\" style=\"background-color:transparent;border-color:#292724;border-style:none;border-width:1.0;fill:rgb(16.1%,15.3%,14.1%);fill-opacity:1.0;font-family:Helvetica;font-size:12px;opacity:1.0;stroke:rgb(16.1%,15.3%,14.1%);stroke-opacity:1.0;stroke-width:1.0\" id=\"te1345a08f1be45d8a7d115e5923a617f\"><g class=\"toyplot-coordinates-Cartesian\" id=\"t8aa7128df10d48f5b9ffcb32912e6159\"><clipPath id=\"t91c57572d4eb4bb0b5ff1c6fc2b4f88d\"><rect x=\"30.0\" y=\"30.0\" width=\"790.0\" height=\"790.0\"></rect></clipPath><g clip-path=\"url(#t91c57572d4eb4bb0b5ff1c6fc2b4f88d)\"><g class=\"toytree-mark-Toytree\" id=\"tc6d33dedbfa14cf794676abd70be2254\"><g class=\"toytree-Edges\" style=\"fill:none;stroke:rgb(14.9%,14.9%,14.9%);stroke-linecap:round;stroke-opacity:1;stroke-width:2\"><path d=\"M 438.7 447.0 L 425.0 425.0 A -0.0 -0.0 0 0 0 425.0 425.0\" id=\"150,149\" style=\"stroke:rgb(0%,0%,0%);stroke-opacity:1.0\"></path><path d=\"M 476.8 428.6 L 450.9 426.8 A 25.9 25.9 0 0 1 438.7 447.0\" id=\"149,148\" style=\"stroke:rgb(100%,49.8%,0%);stroke-opacity:1.0\"></path><path d=\"M 475.5 437.0 L 450.2 431.0 A 25.9 25.9 0 0 1 438.7 447.0\" id=\"149,147\" style=\"stroke:rgb(21.6%,49.4%,72.2%);stroke-opacity:1.0\"></path><path d=\"M 465.8 457.1 L 445.4 441.1 A 25.9 25.9 0 0 1 438.7 447.0\" id=\"149,146\" style=\"stroke:rgb(59.6%,30.6%,63.9%);stroke-opacity:1.0\"></path><path d=\"M 438.0 475.2 L 431.5 450.1 A 25.9 25.9 0 0 0 438.7 447.0\" id=\"149,145\" style=\"stroke:rgb(30.2%,68.6%,29%);stroke-opacity:1.0\"></path><path d=\"M 376.4 443.2 L 400.7 434.1 A 25.9 25.9 0 0 0 438.7 447.0\" id=\"149,144\" style=\"stroke:rgb(89.4%,10.2%,11%);stroke-opacity:1.0\"></path><path d=\"M 502.6 430.4 L 476.8 428.6 A 51.9 51.9 0 0 1 476.8 428.6\" id=\"148,143\" style=\"stroke:rgb(100%,49.8%,0%);stroke-opacity:1.0\"></path><path d=\"M 500.7 443.0 L 475.5 437.0 A 51.9 51.9 0 0 1 475.5 437.0\" id=\"147,142\" style=\"stroke:rgb(21.6%,49.4%,72.2%);stroke-opacity:1.0\"></path><path d=\"M 486.1 473.2 L 465.8 457.1 A 51.9 51.9 0 0 1 465.8 457.1\" id=\"146,141\" style=\"stroke:rgb(59.6%,30.6%,63.9%);stroke-opacity:1.0\"></path><path d=\"M 444.5 500.3 L 438.0 475.2 A 51.9 51.9 0 0 1 438.0 475.2\" id=\"145,140\" style=\"stroke:rgb(30.2%,68.6%,29%);stroke-opacity:1.0\"></path><path d=\"M 388.8 493.9 L 400.9 470.9 A 51.9 51.9 0 0 1 376.4 443.2\" id=\"144,139\" style=\"stroke:rgb(89.4%,10.2%,11%);stroke-opacity:1.0\"></path><path d=\"M 360.6 468.7 L 382.0 454.1 A 51.9 51.9 0 0 1 376.4 443.2\" id=\"144,138\" style=\"stroke:rgb(89.4%,10.2%,11%);stroke-opacity:1.0\"></path><path d=\"M 361.1 380.5 L 382.4 395.4 A 51.9 51.9 0 0 0 376.4 443.2\" id=\"144,137\" style=\"stroke:rgb(89.4%,10.2%,11%);stroke-opacity:1.0\"></path><path d=\"M 528.5 432.2 L 502.6 430.4 A 77.8 77.8 0 0 1 502.6 430.4\" id=\"143,136\" style=\"stroke:rgb(100%,49.8%,0%);stroke-opacity:1.0\"></path><path d=\"M 527.8 439.3 L 502.1 435.7 A 77.8 77.8 0 0 1 500.7 443.0\" id=\"142,135\" style=\"stroke:rgb(21.6%,49.4%,72.2%);stroke-opacity:1.0\"></path><path d=\"M 523.2 458.4 L 498.7 450.1 A 77.8 77.8 0 0 0 500.7 443.0\" id=\"142,134\" style=\"stroke:rgb(21.6%,49.4%,72.2%);stroke-opacity:1.0\"></path><path d=\"M 506.5 489.2 L 486.1 473.2 A 77.8 77.8 0 0 1 486.1 473.2\" id=\"141,133\" style=\"stroke:rgb(59.6%,30.6%,63.9%);stroke-opacity:1.0\"></path><path d=\"M 451.0 525.5 L 444.5 500.3 A 77.8 77.8 0 0 1 444.5 500.3\" id=\"140,132\" style=\"stroke:rgb(30.2%,68.6%,29%);stroke-opacity:1.0\"></path><path d=\"M 384.9 520.7 L 394.9 496.8 A 77.8 77.8 0 0 1 388.8 493.9\" id=\"139,131\" style=\"stroke:rgb(89.4%,10.2%,11%);stroke-opacity:1.0\"></path><path d=\"M 369.0 512.4 L 383.0 490.5 A 77.8 77.8 0 0 0 388.8 493.9\" id=\"139,130\" style=\"stroke:rgb(89.4%,10.2%,11%);stroke-opacity:1.0\"></path><path d=\"M 352.3 499.0 L 370.4 480.5 A 77.8 77.8 0 0 1 360.6 468.7\" id=\"138,129\" style=\"stroke:rgb(89.4%,10.2%,11%);stroke-opacity:1.0\"></path><path d=\"M 329.3 465.1 L 353.2 455.1 A 77.8 77.8 0 0 0 360.6 468.7\" id=\"138,128\" style=\"stroke:rgb(89.4%,10.2%,11%);stroke-opacity:1.0\"></path><path d=\"M 321.3 428.6 L 347.2 427.7 A 77.8 77.8 0 0 1 361.1 380.5\" id=\"137,127\" style=\"stroke:rgb(89.4%,10.2%,11%);stroke-opacity:1.0\"></path><path d=\"M 321.3 421.4 L 347.2 422.3 A 77.8 77.8 0 0 1 361.1 380.5\" id=\"137,126\" style=\"stroke:rgb(89.4%,10.2%,11%);stroke-opacity:1.0\"></path><path d=\"M 321.8 414.3 L 347.6 417.0 A 77.8 77.8 0 0 1 361.1 380.5\" id=\"137,125\" style=\"stroke:rgb(89.4%,10.2%,11%);stroke-opacity:1.0\"></path><path d=\"M 323.4 403.7 L 348.8 409.0 A 77.8 77.8 0 0 1 361.1 380.5\" id=\"137,124\" style=\"stroke:rgb(89.4%,10.2%,11%);stroke-opacity:1.0\"></path><path d=\"M 328.6 386.5 L 352.7 396.2 A 77.8 77.8 0 0 1 361.1 380.5\" id=\"137,123\" style=\"stroke:rgb(89.4%,10.2%,11%);stroke-opacity:1.0\"></path><path d=\"M 388.2 328.0 L 397.4 352.2 A 77.8 77.8 0 0 0 361.1 380.5\" id=\"137,122\" style=\"stroke:rgb(89.4%,10.2%,11%);stroke-opacity:1.0\"></path><path d=\"M 498.6 351.8 L 480.2 370.1 A 77.8 77.8 0 0 0 361.1 380.5\" id=\"137,121\" style=\"stroke:rgb(89.4%,10.2%,11%);stroke-opacity:1.0\"></path><path d=\"M 554.4 433.9 L 528.5 432.2 A 103.8 103.8 0 0 1 528.5 432.2\" id=\"136,120\" style=\"stroke:rgb(100%,49.8%,0%);stroke-opacity:1.0\"></path><path d=\"M 553.5 442.9 L 527.8 439.3 A 103.8 103.8 0 0 1 527.8 439.3\" id=\"135,119\" style=\"stroke:rgb(21.6%,49.4%,72.2%);stroke-opacity:1.0\"></path><path d=\"M 550.9 456.0 L 525.8 449.8 A 103.8 103.8 0 0 1 523.2 458.4\" id=\"134,118\" style=\"stroke:rgb(21.6%,49.4%,72.2%);stroke-opacity:1.0\"></path><path d=\"M 543.7 477.2 L 520.0 466.8 A 103.8 103.8 0 0 0 523.2 458.4\" id=\"134,117\" style=\"stroke:rgb(21.6%,49.4%,72.2%);stroke-opacity:1.0\"></path><path d=\"M 535.4 493.1 L 513.3 479.4 A 103.8 103.8 0 0 1 506.5 489.2\" id=\"133,116\" style=\"stroke:rgb(59.6%,30.6%,63.9%);stroke-opacity:1.0\"></path><path d=\"M 530.5 500.5 L 509.4 485.4 A 103.8 103.8 0 0 1 506.5 489.2\" id=\"133,115\" style=\"stroke:rgb(59.6%,30.6%,63.9%);stroke-opacity:1.0\"></path><path d=\"M 512.7 520.6 L 495.1 501.5 A 103.8 103.8 0 0 0 506.5 489.2\" id=\"133,114\" style=\"stroke:rgb(59.6%,30.6%,63.9%);stroke-opacity:1.0\"></path><path d=\"M 491.1 536.6 L 477.9 514.3 A 103.8 103.8 0 0 1 451.0 525.5\" id=\"132,113\" style=\"stroke:rgb(30.2%,68.6%,29%);stroke-opacity:1.0\"></path><path d=\"M 483.3 540.9 L 471.6 517.7 A 103.8 103.8 0 0 1 451.0 525.5\" id=\"132,112\" style=\"stroke:rgb(30.2%,68.6%,29%);stroke-opacity:1.0\"></path><path d=\"M 471.0 546.3 L 461.8 522.0 A 103.8 103.8 0 0 1 451.0 525.5\" id=\"132,111\" style=\"stroke:rgb(30.2%,68.6%,29%);stroke-opacity:1.0\"></path><path d=\"M 453.9 551.4 L 448.1 526.2 A 103.8 103.8 0 0 0 451.0 525.5\" id=\"132,110\" style=\"stroke:rgb(30.2%,68.6%,29%);stroke-opacity:1.0\"></path><path d=\"M 436.2 554.2 L 433.9 528.4 A 103.8 103.8 0 0 0 451.0 525.5\" id=\"132,109\" style=\"stroke:rgb(30.2%,68.6%,29%);stroke-opacity:1.0\"></path><path d=\"M 404.9 553.1 L 408.9 527.5 A 103.8 103.8 0 0 0 451.0 525.5\" id=\"132,108\" style=\"stroke:rgb(30.2%,68.6%,29%);stroke-opacity:1.0\"></path><path d=\"M 374.8 544.6 L 384.9 520.7 A 103.8 103.8 0 0 0 384.9 520.7\" id=\"131,107\" style=\"stroke:rgb(89.4%,10.2%,11%);stroke-opacity:1.0\"></path><path d=\"M 355.0 534.2 L 369.0 512.4 A 103.8 103.8 0 0 0 369.0 512.4\" id=\"130,106\" style=\"stroke:rgb(89.4%,10.2%,11%);stroke-opacity:1.0\"></path><path d=\"M 340.7 523.6 L 357.5 503.8 A 103.8 103.8 0 0 1 352.3 499.0\" id=\"129,105\" style=\"stroke:rgb(89.4%,10.2%,11%);stroke-opacity:1.0\"></path><path d=\"M 334.1 517.5 L 352.3 499.0 A 103.8 103.8 0 0 0 352.3 499.0\" id=\"129,104\" style=\"stroke:rgb(89.4%,10.2%,11%);stroke-opacity:1.0\"></path><path d=\"M 327.9 511.0 L 347.3 493.8 A 103.8 103.8 0 0 0 352.3 499.0\" id=\"129,103\" style=\"stroke:rgb(89.4%,10.2%,11%);stroke-opacity:1.0\"></path><path d=\"M 314.6 493.1 L 336.7 479.4 A 103.8 103.8 0 0 1 329.3 465.1\" id=\"128,102\" style=\"stroke:rgb(89.4%,10.2%,11%);stroke-opacity:1.0\"></path><path d=\"M 299.1 456.0 L 324.2 449.8 A 103.8 103.8 0 0 0 329.3 465.1\" id=\"128,101\" style=\"stroke:rgb(89.4%,10.2%,11%);stroke-opacity:1.0\"></path><path d=\"M 295.4 429.5 L 321.3 428.6 A 103.8 103.8 0 0 0 321.3 428.6\" id=\"127,100\" style=\"stroke:rgb(89.4%,10.2%,11%);stroke-opacity:1.0\"></path><path d=\"M 295.4 420.5 L 321.3 421.4 A 103.8 103.8 0 0 1 321.3 421.4\" id=\"126,99\" style=\"stroke:rgb(89.4%,10.2%,11%);stroke-opacity:1.0\"></path><path d=\"M 296.0 411.6 L 321.8 414.3 A 103.8 103.8 0 0 1 321.8 414.3\" id=\"125,98\" style=\"stroke:rgb(89.4%,10.2%,11%);stroke-opacity:1.0\"></path><path d=\"M 298.1 398.3 L 323.4 403.7 A 103.8 103.8 0 0 1 323.4 403.7\" id=\"124,97\" style=\"stroke:rgb(89.4%,10.2%,11%);stroke-opacity:1.0\"></path><path d=\"M 301.5 385.3 L 326.2 393.3 A 103.8 103.8 0 0 1 328.6 386.5\" id=\"123,96\" style=\"stroke:rgb(89.4%,10.2%,11%);stroke-opacity:1.0\"></path><path d=\"M 308.1 368.7 L 331.5 380.0 A 103.8 103.8 0 0 0 328.6 386.5\" id=\"123,95\" style=\"stroke:rgb(89.4%,10.2%,11%);stroke-opacity:1.0\"></path><path d=\"M 379.0 303.7 L 388.2 328.0 A 103.8 103.8 0 0 1 388.2 328.0\" id=\"122,94\" style=\"stroke:rgb(89.4%,10.2%,11%);stroke-opacity:1.0\"></path><path d=\"M 471.0 303.7 L 461.8 328.0 A 103.8 103.8 0 0 1 498.6 351.8\" id=\"121,93\" style=\"stroke:rgb(89.4%,10.2%,11%);stroke-opacity:1.0\"></path><path d=\"M 509.3 326.4 L 492.5 346.2 A 103.8 103.8 0 0 1 498.6 351.8\" id=\"121,92\" style=\"stroke:rgb(89.4%,10.2%,11%);stroke-opacity:1.0\"></path><path d=\"M 549.8 389.6 L 524.8 396.7 A 103.8 103.8 0 0 0 498.6 351.8\" id=\"121,91\" style=\"stroke:rgb(89.4%,10.2%,11%);stroke-opacity:1.0\"></path><path d=\"M 580.3 435.7 L 554.4 433.9 A 129.7 129.7 0 0 1 554.4 433.9\" id=\"120,90\" style=\"stroke:rgb(100%,49.8%,0%);stroke-opacity:1.0\"></path><path d=\"M 579.2 446.4 L 553.5 442.9 A 129.7 129.7 0 0 1 553.5 442.9\" id=\"119,89\" style=\"stroke:rgb(21.6%,49.4%,72.2%);stroke-opacity:1.0\"></path><path d=\"M 577.3 457.0 L 551.9 451.7 A 129.7 129.7 0 0 1 550.9 456.0\" id=\"118,88\" style=\"stroke:rgb(21.6%,49.4%,72.2%);stroke-opacity:1.0\"></path><path d=\"M 574.8 467.4 L 549.8 460.4 A 129.7 129.7 0 0 0 550.9 456.0\" id=\"118,87\" style=\"stroke:rgb(21.6%,49.4%,72.2%);stroke-opacity:1.0\"></path><path d=\"M 571.5 477.7 L 547.1 468.9 A 129.7 129.7 0 0 1 543.7 477.2\" id=\"117,86\" style=\"stroke:rgb(21.6%,49.4%,72.2%);stroke-opacity:1.0\"></path><path d=\"M 567.5 487.6 L 543.7 477.2 A 129.7 129.7 0 0 1 543.7 477.2\" id=\"117,85\" style=\"stroke:rgb(21.6%,49.4%,72.2%);stroke-opacity:1.0\"></path><path d=\"M 562.8 497.3 L 539.9 485.3 A 129.7 129.7 0 0 0 543.7 477.2\" id=\"117,84\" style=\"stroke:rgb(21.6%,49.4%,72.2%);stroke-opacity:1.0\"></path><path d=\"M 557.5 506.7 L 535.4 493.1 A 129.7 129.7 0 0 1 535.4 493.1\" id=\"116,83\" style=\"stroke:rgb(59.6%,30.6%,63.9%);stroke-opacity:1.0\"></path><path d=\"M 551.6 515.6 L 530.5 500.5 A 129.7 129.7 0 0 1 530.5 500.5\" id=\"115,82\" style=\"stroke:rgb(59.6%,30.6%,63.9%);stroke-opacity:1.0\"></path><path d=\"M 545.0 524.1 L 525.0 507.6 A 129.7 129.7 0 0 1 512.7 520.6\" id=\"114,81\" style=\"stroke:rgb(59.6%,30.6%,63.9%);stroke-opacity:1.0\"></path><path d=\"M 537.9 532.2 L 519.1 514.3 A 129.7 129.7 0 0 1 512.7 520.6\" id=\"114,80\" style=\"stroke:rgb(59.6%,30.6%,63.9%);stroke-opacity:1.0\"></path><path d=\"M 530.2 539.7 L 512.7 520.6 A 129.7 129.7 0 0 1 512.7 520.6\" id=\"114,79\" style=\"stroke:rgb(59.6%,30.6%,63.9%);stroke-opacity:1.0\"></path><path d=\"M 522.0 546.7 L 505.9 526.4 A 129.7 129.7 0 0 0 512.7 520.6\" id=\"114,78\" style=\"stroke:rgb(59.6%,30.6%,63.9%);stroke-opacity:1.0\"></path><path d=\"M 513.4 553.1 L 498.7 531.7 A 129.7 129.7 0 0 0 512.7 520.6\" id=\"114,77\" style=\"stroke:rgb(59.6%,30.6%,63.9%);stroke-opacity:1.0\"></path><path d=\"M 504.4 558.9 L 491.1 536.6 A 129.7 129.7 0 0 1 491.1 536.6\" id=\"113,76\" style=\"stroke:rgb(30.2%,68.6%,29%);stroke-opacity:1.0\"></path><path d=\"M 494.9 564.0 L 483.3 540.9 A 129.7 129.7 0 0 1 483.3 540.9\" id=\"112,75\" style=\"stroke:rgb(30.2%,68.6%,29%);stroke-opacity:1.0\"></path><path d=\"M 485.2 568.5 L 475.2 544.6 A 129.7 129.7 0 0 1 471.0 546.3\" id=\"111,74\" style=\"stroke:rgb(30.2%,68.6%,29%);stroke-opacity:1.0\"></path><path d=\"M 475.1 572.3 L 466.8 547.8 A 129.7 129.7 0 0 0 471.0 546.3\" id=\"111,73\" style=\"stroke:rgb(30.2%,68.6%,29%);stroke-opacity:1.0\"></path><path d=\"M 464.9 575.5 L 458.2 550.4 A 129.7 129.7 0 0 1 453.9 551.4\" id=\"110,72\" style=\"stroke:rgb(30.2%,68.6%,29%);stroke-opacity:1.0\"></path><path d=\"M 454.4 577.8 L 449.5 552.4 A 129.7 129.7 0 0 0 453.9 551.4\" id=\"110,71\" style=\"stroke:rgb(30.2%,68.6%,29%);stroke-opacity:1.0\"></path><path d=\"M 443.8 579.5 L 440.6 553.8 A 129.7 129.7 0 0 1 436.2 554.2\" id=\"109,70\" style=\"stroke:rgb(30.2%,68.6%,29%);stroke-opacity:1.0\"></path><path d=\"M 433.1 580.4 L 431.7 554.5 A 129.7 129.7 0 0 0 436.2 554.2\" id=\"109,69\" style=\"stroke:rgb(30.2%,68.6%,29%);stroke-opacity:1.0\"></path><path d=\"M 422.3 580.6 L 422.8 554.7 A 129.7 129.7 0 0 1 404.9 553.1\" id=\"108,68\" style=\"stroke:rgb(30.2%,68.6%,29%);stroke-opacity:1.0\"></path><path d=\"M 411.6 580.1 L 413.8 554.2 A 129.7 129.7 0 0 1 404.9 553.1\" id=\"108,67\" style=\"stroke:rgb(30.2%,68.6%,29%);stroke-opacity:1.0\"></path><path d=\"M 400.9 578.8 L 404.9 553.1 A 129.7 129.7 0 0 0 404.9 553.1\" id=\"108,66\" style=\"stroke:rgb(30.2%,68.6%,29%);stroke-opacity:1.0\"></path><path d=\"M 390.4 576.7 L 396.1 551.5 A 129.7 129.7 0 0 0 404.9 553.1\" id=\"108,65\" style=\"stroke:rgb(30.2%,68.6%,29%);stroke-opacity:1.0\"></path><path d=\"M 380.0 574.0 L 387.5 549.2 A 129.7 129.7 0 0 0 404.9 553.1\" id=\"108,64\" style=\"stroke:rgb(30.2%,68.6%,29%);stroke-opacity:1.0\"></path><path d=\"M 369.8 570.5 L 379.0 546.3 A 129.7 129.7 0 0 1 374.8 544.6\" id=\"107,63\" style=\"stroke:rgb(89.4%,10.2%,11%);stroke-opacity:1.0\"></path><path d=\"M 359.9 566.4 L 370.7 542.8 A 129.7 129.7 0 0 0 374.8 544.6\" id=\"107,62\" style=\"stroke:rgb(89.4%,10.2%,11%);stroke-opacity:1.0\"></path><path d=\"M 350.3 561.5 L 362.7 538.8 A 129.7 129.7 0 0 1 355.0 534.2\" id=\"106,61\" style=\"stroke:rgb(89.4%,10.2%,11%);stroke-opacity:1.0\"></path><path d=\"M 341.1 556.1 L 355.0 534.2 A 129.7 129.7 0 0 0 355.0 534.2\" id=\"106,60\" style=\"stroke:rgb(89.4%,10.2%,11%);stroke-opacity:1.0\"></path><path d=\"M 332.2 550.0 L 347.7 529.1 A 129.7 129.7 0 0 0 355.0 534.2\" id=\"106,59\" style=\"stroke:rgb(89.4%,10.2%,11%);stroke-opacity:1.0\"></path><path d=\"M 323.8 543.3 L 340.7 523.6 A 129.7 129.7 0 0 0 340.7 523.6\" id=\"105,58\" style=\"stroke:rgb(89.4%,10.2%,11%);stroke-opacity:1.0\"></path><path d=\"M 315.9 536.0 L 334.1 517.5 A 129.7 129.7 0 0 0 334.1 517.5\" id=\"104,57\" style=\"stroke:rgb(89.4%,10.2%,11%);stroke-opacity:1.0\"></path><path d=\"M 308.5 528.2 L 327.9 511.0 A 129.7 129.7 0 0 0 327.9 511.0\" id=\"103,56\" style=\"stroke:rgb(89.4%,10.2%,11%);stroke-opacity:1.0\"></path><path d=\"M 301.6 519.9 L 322.2 504.1 A 129.7 129.7 0 0 1 314.6 493.1\" id=\"102,55\" style=\"stroke:rgb(89.4%,10.2%,11%);stroke-opacity:1.0\"></path><path d=\"M 295.4 511.2 L 317.0 496.8 A 129.7 129.7 0 0 1 314.6 493.1\" id=\"102,54\" style=\"stroke:rgb(89.4%,10.2%,11%);stroke-opacity:1.0\"></path><path d=\"M 289.8 502.0 L 312.3 489.2 A 129.7 129.7 0 0 0 314.6 493.1\" id=\"102,53\" style=\"stroke:rgb(89.4%,10.2%,11%);stroke-opacity:1.0\"></path><path d=\"M 284.8 492.5 L 308.1 481.3 A 129.7 129.7 0 0 0 314.6 493.1\" id=\"102,52\" style=\"stroke:rgb(89.4%,10.2%,11%);stroke-opacity:1.0\"></path><path d=\"M 280.4 482.7 L 304.5 473.1 A 129.7 129.7 0 0 1 299.1 456.0\" id=\"101,51\" style=\"stroke:rgb(89.4%,10.2%,11%);stroke-opacity:1.0\"></path><path d=\"M 276.8 472.6 L 301.5 464.7 A 129.7 129.7 0 0 1 299.1 456.0\" id=\"101,50\" style=\"stroke:rgb(89.4%,10.2%,11%);stroke-opacity:1.0\"></path><path d=\"M 273.9 462.2 L 299.1 456.0 A 129.7 129.7 0 0 0 299.1 456.0\" id=\"101,49\" style=\"stroke:rgb(89.4%,10.2%,11%);stroke-opacity:1.0\"></path><path d=\"M 271.7 451.7 L 297.2 447.3 A 129.7 129.7 0 0 0 299.1 456.0\" id=\"101,48\" style=\"stroke:rgb(89.4%,10.2%,11%);stroke-opacity:1.0\"></path><path d=\"M 270.2 441.1 L 296.0 438.4 A 129.7 129.7 0 0 0 299.1 456.0\" id=\"101,47\" style=\"stroke:rgb(89.4%,10.2%,11%);stroke-opacity:1.0\"></path><path d=\"M 269.4 430.4 L 295.4 429.5 A 129.7 129.7 0 0 0 295.4 429.5\" id=\"100,46\" style=\"stroke:rgb(89.4%,10.2%,11%);stroke-opacity:1.0\"></path><path d=\"M 269.4 419.6 L 295.4 420.5 A 129.7 129.7 0 0 1 295.4 420.5\" id=\"99,45\" style=\"stroke:rgb(89.4%,10.2%,11%);stroke-opacity:1.0\"></path><path d=\"M 270.2 408.9 L 296.0 411.6 A 129.7 129.7 0 0 1 296.0 411.6\" id=\"98,44\" style=\"stroke:rgb(89.4%,10.2%,11%);stroke-opacity:1.0\"></path><path d=\"M 271.7 398.3 L 297.2 402.7 A 129.7 129.7 0 0 1 298.1 398.3\" id=\"97,43\" style=\"stroke:rgb(89.4%,10.2%,11%);stroke-opacity:1.0\"></path><path d=\"M 273.9 387.8 L 299.1 394.0 A 129.7 129.7 0 0 0 298.1 398.3\" id=\"97,42\" style=\"stroke:rgb(89.4%,10.2%,11%);stroke-opacity:1.0\"></path><path d=\"M 276.8 377.4 L 301.5 385.3 A 129.7 129.7 0 0 1 301.5 385.3\" id=\"96,41\" style=\"stroke:rgb(89.4%,10.2%,11%);stroke-opacity:1.0\"></path><path d=\"M 280.4 367.3 L 304.5 376.9 A 129.7 129.7 0 0 1 308.1 368.7\" id=\"95,40\" style=\"stroke:rgb(89.4%,10.2%,11%);stroke-opacity:1.0\"></path><path d=\"M 284.8 357.5 L 308.1 368.7 A 129.7 129.7 0 0 1 308.1 368.7\" id=\"95,39\" style=\"stroke:rgb(89.4%,10.2%,11%);stroke-opacity:1.0\"></path><path d=\"M 289.8 348.0 L 312.3 360.8 A 129.7 129.7 0 0 0 308.1 368.7\" id=\"95,38\" style=\"stroke:rgb(89.4%,10.2%,11%);stroke-opacity:1.0\"></path><path d=\"M 295.4 338.8 L 317.0 353.2 A 129.7 129.7 0 0 1 379.0 303.7\" id=\"94,37\" style=\"stroke:rgb(89.4%,10.2%,11%);stroke-opacity:1.0\"></path><path d=\"M 301.6 330.1 L 322.2 345.9 A 129.7 129.7 0 0 1 379.0 303.7\" id=\"94,36\" style=\"stroke:rgb(89.4%,10.2%,11%);stroke-opacity:1.0\"></path><path d=\"M 308.5 321.8 L 327.9 339.0 A 129.7 129.7 0 0 1 379.0 303.7\" id=\"94,35\" style=\"stroke:rgb(89.4%,10.2%,11%);stroke-opacity:1.0\"></path><path d=\"M 315.9 314.0 L 334.1 332.5 A 129.7 129.7 0 0 1 379.0 303.7\" id=\"94,34\" style=\"stroke:rgb(89.4%,10.2%,11%);stroke-opacity:1.0\"></path><path d=\"M 323.8 306.7 L 340.7 326.4 A 129.7 129.7 0 0 1 379.0 303.7\" id=\"94,33\" style=\"stroke:rgb(89.4%,10.2%,11%);stroke-opacity:1.0\"></path><path d=\"M 332.2 300.0 L 347.7 320.9 A 129.7 129.7 0 0 1 379.0 303.7\" id=\"94,32\" style=\"stroke:rgb(89.4%,10.2%,11%);stroke-opacity:1.0\"></path><path d=\"M 341.1 293.9 L 355.0 315.8 A 129.7 129.7 0 0 1 379.0 303.7\" id=\"94,31\" style=\"stroke:rgb(89.4%,10.2%,11%);stroke-opacity:1.0\"></path><path d=\"M 350.3 288.5 L 362.7 311.2 A 129.7 129.7 0 0 1 379.0 303.7\" id=\"94,30\" style=\"stroke:rgb(89.4%,10.2%,11%);stroke-opacity:1.0\"></path><path d=\"M 359.9 283.6 L 370.7 307.2 A 129.7 129.7 0 0 1 379.0 303.7\" id=\"94,29\" style=\"stroke:rgb(89.4%,10.2%,11%);stroke-opacity:1.0\"></path><path d=\"M 369.8 279.5 L 379.0 303.7 A 129.7 129.7 0 0 1 379.0 303.7\" id=\"94,28\" style=\"stroke:rgb(89.4%,10.2%,11%);stroke-opacity:1.0\"></path><path d=\"M 380.0 276.0 L 387.5 300.8 A 129.7 129.7 0 0 0 379.0 303.7\" id=\"94,27\" style=\"stroke:rgb(89.4%,10.2%,11%);stroke-opacity:1.0\"></path><path d=\"M 390.4 273.3 L 396.1 298.5 A 129.7 129.7 0 0 0 379.0 303.7\" id=\"94,26\" style=\"stroke:rgb(89.4%,10.2%,11%);stroke-opacity:1.0\"></path><path d=\"M 400.9 271.2 L 404.9 296.9 A 129.7 129.7 0 0 0 379.0 303.7\" id=\"94,25\" style=\"stroke:rgb(89.4%,10.2%,11%);stroke-opacity:1.0\"></path><path d=\"M 411.6 269.9 L 413.8 295.8 A 129.7 129.7 0 0 0 379.0 303.7\" id=\"94,24\" style=\"stroke:rgb(89.4%,10.2%,11%);stroke-opacity:1.0\"></path><path d=\"M 422.3 269.4 L 422.8 295.3 A 129.7 129.7 0 0 0 379.0 303.7\" id=\"94,23\" style=\"stroke:rgb(89.4%,10.2%,11%);stroke-opacity:1.0\"></path><path d=\"M 433.1 269.6 L 431.7 295.5 A 129.7 129.7 0 0 0 379.0 303.7\" id=\"94,22\" style=\"stroke:rgb(89.4%,10.2%,11%);stroke-opacity:1.0\"></path><path d=\"M 443.8 270.5 L 440.6 296.2 A 129.7 129.7 0 0 0 379.0 303.7\" id=\"94,21\" style=\"stroke:rgb(89.4%,10.2%,11%);stroke-opacity:1.0\"></path><path d=\"M 454.4 272.2 L 449.5 297.6 A 129.7 129.7 0 0 0 379.0 303.7\" id=\"94,20\" style=\"stroke:rgb(89.4%,10.2%,11%);stroke-opacity:1.0\"></path><path d=\"M 464.9 274.5 L 458.2 299.6 A 129.7 129.7 0 0 0 379.0 303.7\" id=\"94,19\" style=\"stroke:rgb(89.4%,10.2%,11%);stroke-opacity:1.0\"></path><path d=\"M 475.1 277.7 L 466.8 302.2 A 129.7 129.7 0 0 1 471.0 303.7\" id=\"93,18\" style=\"stroke:rgb(89.4%,10.2%,11%);stroke-opacity:1.0\"></path><path d=\"M 485.2 281.5 L 475.2 305.4 A 129.7 129.7 0 0 0 471.0 303.7\" id=\"93,17\" style=\"stroke:rgb(89.4%,10.2%,11%);stroke-opacity:1.0\"></path><path d=\"M 494.9 286.0 L 483.3 309.1 A 129.7 129.7 0 0 1 509.3 326.4\" id=\"92,16\" style=\"stroke:rgb(89.4%,10.2%,11%);stroke-opacity:1.0\"></path><path d=\"M 504.4 291.1 L 491.1 313.4 A 129.7 129.7 0 0 1 509.3 326.4\" id=\"92,15\" style=\"stroke:rgb(89.4%,10.2%,11%);stroke-opacity:1.0\"></path><path d=\"M 513.4 296.9 L 498.7 318.3 A 129.7 129.7 0 0 1 509.3 326.4\" id=\"92,14\" style=\"stroke:rgb(89.4%,10.2%,11%);stroke-opacity:1.0\"></path><path d=\"M 522.0 303.3 L 505.9 323.6 A 129.7 129.7 0 0 1 509.3 326.4\" id=\"92,13\" style=\"stroke:rgb(89.4%,10.2%,11%);stroke-opacity:1.0\"></path><path d=\"M 530.2 310.3 L 512.7 329.4 A 129.7 129.7 0 0 0 509.3 326.4\" id=\"92,12\" style=\"stroke:rgb(89.4%,10.2%,11%);stroke-opacity:1.0\"></path><path d=\"M 537.9 317.8 L 519.1 335.7 A 129.7 129.7 0 0 0 509.3 326.4\" id=\"92,11\" style=\"stroke:rgb(89.4%,10.2%,11%);stroke-opacity:1.0\"></path><path d=\"M 545.0 325.9 L 525.0 342.4 A 129.7 129.7 0 0 0 509.3 326.4\" id=\"92,10\" style=\"stroke:rgb(89.4%,10.2%,11%);stroke-opacity:1.0\"></path><path d=\"M 551.6 334.4 L 530.5 349.5 A 129.7 129.7 0 0 0 509.3 326.4\" id=\"92,9\" style=\"stroke:rgb(89.4%,10.2%,11%);stroke-opacity:1.0\"></path><path d=\"M 557.5 343.3 L 535.4 356.9 A 129.7 129.7 0 0 1 549.8 389.6\" id=\"91,8\" style=\"stroke:rgb(89.4%,10.2%,11%);stroke-opacity:1.0\"></path><path d=\"M 562.8 352.7 L 539.9 364.7 A 129.7 129.7 0 0 1 549.8 389.6\" id=\"91,7\" style=\"stroke:rgb(89.4%,10.2%,11%);stroke-opacity:1.0\"></path><path d=\"M 567.5 362.4 L 543.7 372.8 A 129.7 129.7 0 0 1 549.8 389.6\" id=\"91,6\" style=\"stroke:rgb(89.4%,10.2%,11%);stroke-opacity:1.0\"></path><path d=\"M 571.5 372.3 L 547.1 381.1 A 129.7 129.7 0 0 1 549.8 389.6\" id=\"91,5\" style=\"stroke:rgb(89.4%,10.2%,11%);stroke-opacity:1.0\"></path><path d=\"M 574.8 382.6 L 549.8 389.6 A 129.7 129.7 0 0 0 549.8 389.6\" id=\"91,4\" style=\"stroke:rgb(89.4%,10.2%,11%);stroke-opacity:1.0\"></path><path d=\"M 577.3 393.0 L 551.9 398.3 A 129.7 129.7 0 0 0 549.8 389.6\" id=\"91,3\" style=\"stroke:rgb(89.4%,10.2%,11%);stroke-opacity:1.0\"></path><path d=\"M 579.2 403.6 L 553.5 407.1 A 129.7 129.7 0 0 0 549.8 389.6\" id=\"91,2\" style=\"stroke:rgb(89.4%,10.2%,11%);stroke-opacity:1.0\"></path><path d=\"M 580.3 414.3 L 554.4 416.1 A 129.7 129.7 0 0 0 549.8 389.6\" id=\"91,1\" style=\"stroke:rgb(89.4%,10.2%,11%);stroke-opacity:1.0\"></path><path d=\"M 580.7 425.0 L 554.7 425.0 A 129.7 129.7 0 0 0 549.8 389.6\" id=\"91,0\" style=\"stroke:rgb(89.4%,10.2%,11%);stroke-opacity:1.0\"></path></g><g class=\"toytree-AlignEdges\" style=\"stroke:rgb(66.3%,66.3%,66.3%);stroke-dasharray:2, 4;stroke-linecap:round;stroke-opacity:1.0;stroke-width:2\"><path d=\"M 580.7 425.0 L 580.7 425.0\"></path><path d=\"M 580.3 414.3 L 580.3 414.3\"></path><path d=\"M 579.2 403.6 L 579.2 403.6\"></path><path d=\"M 577.3 393.0 L 577.3 393.0\"></path><path d=\"M 574.8 382.6 L 574.8 382.6\"></path><path d=\"M 571.5 372.3 L 571.5 372.3\"></path><path d=\"M 567.5 362.4 L 567.5 362.4\"></path><path d=\"M 562.8 352.7 L 562.8 352.7\"></path><path d=\"M 557.5 343.3 L 557.5 343.3\"></path><path d=\"M 551.6 334.4 L 551.6 334.4\"></path><path d=\"M 545.0 325.9 L 545.0 325.9\"></path><path d=\"M 537.9 317.8 L 537.9 317.8\"></path><path d=\"M 530.2 310.3 L 530.2 310.3\"></path><path d=\"M 522.0 303.3 L 522.0 303.3\"></path><path d=\"M 513.4 296.9 L 513.4 296.9\"></path><path d=\"M 504.4 291.1 L 504.4 291.1\"></path><path d=\"M 494.9 286.0 L 494.9 286.0\"></path><path d=\"M 485.2 281.5 L 485.2 281.5\"></path><path d=\"M 475.1 277.7 L 475.1 277.7\"></path><path d=\"M 464.9 274.5 L 464.9 274.5\"></path><path d=\"M 454.4 272.2 L 454.4 272.2\"></path><path d=\"M 443.8 270.5 L 443.8 270.5\"></path><path d=\"M 433.1 269.6 L 433.1 269.6\"></path><path d=\"M 422.3 269.4 L 422.3 269.4\"></path><path d=\"M 411.6 269.9 L 411.6 269.9\"></path><path d=\"M 400.9 271.2 L 400.9 271.2\"></path><path d=\"M 390.4 273.3 L 390.4 273.3\"></path><path d=\"M 380.0 276.0 L 380.0 276.0\"></path><path d=\"M 369.8 279.5 L 369.8 279.5\"></path><path d=\"M 359.9 283.6 L 359.9 283.6\"></path><path d=\"M 350.3 288.5 L 350.3 288.5\"></path><path d=\"M 341.1 293.9 L 341.1 293.9\"></path><path d=\"M 332.2 300.0 L 332.2 300.0\"></path><path d=\"M 323.8 306.7 L 323.8 306.7\"></path><path d=\"M 315.9 314.0 L 315.9 314.0\"></path><path d=\"M 308.5 321.8 L 308.5 321.8\"></path><path d=\"M 301.6 330.1 L 301.6 330.1\"></path><path d=\"M 295.4 338.8 L 295.4 338.8\"></path><path d=\"M 289.8 348.0 L 289.8 348.0\"></path><path d=\"M 284.8 357.5 L 284.8 357.5\"></path><path d=\"M 280.4 367.3 L 280.4 367.3\"></path><path d=\"M 276.8 377.4 L 276.8 377.4\"></path><path d=\"M 273.9 387.8 L 273.9 387.8\"></path><path d=\"M 271.7 398.3 L 271.7 398.3\"></path><path d=\"M 270.2 408.9 L 270.2 408.9\"></path><path d=\"M 269.4 419.6 L 269.4 419.6\"></path><path d=\"M 269.4 430.4 L 269.4 430.4\"></path><path d=\"M 270.2 441.1 L 270.2 441.1\"></path><path d=\"M 271.7 451.7 L 271.7 451.7\"></path><path d=\"M 273.9 462.2 L 273.9 462.2\"></path><path d=\"M 276.8 472.6 L 276.8 472.6\"></path><path d=\"M 280.4 482.7 L 280.4 482.7\"></path><path d=\"M 284.8 492.5 L 284.8 492.5\"></path><path d=\"M 289.8 502.0 L 289.8 502.0\"></path><path d=\"M 295.4 511.2 L 295.4 511.2\"></path><path d=\"M 301.6 519.9 L 301.6 519.9\"></path><path d=\"M 308.5 528.2 L 308.5 528.2\"></path><path d=\"M 315.9 536.0 L 315.9 536.0\"></path><path d=\"M 323.8 543.3 L 323.8 543.3\"></path><path d=\"M 332.2 550.0 L 332.2 550.0\"></path><path d=\"M 341.1 556.1 L 341.1 556.1\"></path><path d=\"M 350.3 561.5 L 350.3 561.5\"></path><path d=\"M 359.9 566.4 L 359.9 566.4\"></path><path d=\"M 369.8 570.5 L 369.8 570.5\"></path><path d=\"M 380.0 574.0 L 380.0 574.0\"></path><path d=\"M 390.4 576.7 L 390.4 576.7\"></path><path d=\"M 400.9 578.8 L 400.9 578.8\"></path><path d=\"M 411.6 580.1 L 411.6 580.1\"></path><path d=\"M 422.3 580.6 L 422.3 580.6\"></path><path d=\"M 433.1 580.4 L 433.1 580.4\"></path><path d=\"M 443.8 579.5 L 443.8 579.5\"></path><path d=\"M 454.4 577.8 L 454.4 577.8\"></path><path d=\"M 464.9 575.5 L 464.9 575.5\"></path><path d=\"M 475.1 572.3 L 475.1 572.3\"></path><path d=\"M 485.2 568.5 L 485.2 568.5\"></path><path d=\"M 494.9 564.0 L 494.9 564.0\"></path><path d=\"M 504.4 558.9 L 504.4 558.9\"></path><path d=\"M 513.4 553.1 L 513.4 553.1\"></path><path d=\"M 522.0 546.7 L 522.0 546.7\"></path><path d=\"M 530.2 539.7 L 530.2 539.7\"></path><path d=\"M 537.9 532.2 L 537.9 532.2\"></path><path d=\"M 545.0 524.1 L 545.0 524.1\"></path><path d=\"M 551.6 515.6 L 551.6 515.6\"></path><path d=\"M 557.5 506.7 L 557.5 506.7\"></path><path d=\"M 562.8 497.3 L 562.8 497.3\"></path><path d=\"M 567.5 487.6 L 567.5 487.6\"></path><path d=\"M 571.5 477.7 L 571.5 477.7\"></path><path d=\"M 574.8 467.4 L 574.8 467.4\"></path><path d=\"M 577.3 457.0 L 577.3 457.0\"></path><path d=\"M 579.2 446.4 L 579.2 446.4\"></path><path d=\"M 580.3 435.7 L 580.3 435.7\"></path></g><g class=\"toytree-Nodes\" style=\"fill:rgb(40%,76.1%,64.7%);fill-opacity:1.0;stroke:rgb(0%,0%,0%);stroke-opacity:1.0;stroke-width:1\"><g fill=\"rgb(0%,100%,100%)\" fill-opacity=\"1.0\" id=\"node-0\" transform=\"translate(580.653,425.000)\"><circle r=\"0.0\"></circle></g><g fill=\"rgb(0%,100%,100%)\" fill-opacity=\"1.0\" id=\"node-1\" transform=\"translate(580.282,414.262)\"><circle r=\"0.0\"></circle></g><g fill=\"rgb(0%,100%,100%)\" fill-opacity=\"1.0\" id=\"node-2\" transform=\"translate(579.171,403.576)\"><circle r=\"0.0\"></circle></g><g fill=\"rgb(0%,100%,100%)\" fill-opacity=\"1.0\" id=\"node-3\" transform=\"translate(577.325,392.991)\"><circle r=\"0.0\"></circle></g><g fill=\"rgb(0%,100%,100%)\" fill-opacity=\"1.0\" id=\"node-4\" transform=\"translate(574.754,382.559)\"><circle r=\"0.0\"></circle></g><g fill=\"rgb(0%,100%,100%)\" fill-opacity=\"1.0\" id=\"node-5\" transform=\"translate(571.469,372.330)\"><circle r=\"0.0\"></circle></g><g fill=\"rgb(0%,100%,100%)\" fill-opacity=\"1.0\" id=\"node-6\" transform=\"translate(567.486,362.351)\"><circle r=\"0.0\"></circle></g><g fill=\"rgb(0%,100%,100%)\" fill-opacity=\"1.0\" id=\"node-7\" transform=\"translate(562.823,352.671)\"><circle r=\"0.0\"></circle></g><g fill=\"rgb(0%,100%,100%)\" fill-opacity=\"1.0\" id=\"node-8\" transform=\"translate(557.505,343.336)\"><circle r=\"0.0\"></circle></g><g fill=\"rgb(0%,100%,100%)\" fill-opacity=\"1.0\" id=\"node-9\" transform=\"translate(551.554,334.389)\"><circle r=\"0.0\"></circle></g><g fill=\"rgb(0%,100%,100%)\" fill-opacity=\"1.0\" id=\"node-10\" transform=\"translate(545.001,325.875)\"><circle r=\"0.0\"></circle></g><g fill=\"rgb(0%,100%,100%)\" fill-opacity=\"1.0\" id=\"node-11\" transform=\"translate(537.876,317.833)\"><circle r=\"0.0\"></circle></g><g fill=\"rgb(0%,100%,100%)\" fill-opacity=\"1.0\" id=\"node-12\" transform=\"translate(530.212,310.301)\"><circle r=\"0.0\"></circle></g><g fill=\"rgb(0%,100%,100%)\" fill-opacity=\"1.0\" id=\"node-13\" transform=\"translate(522.048,303.317)\"><circle r=\"0.0\"></circle></g><g fill=\"rgb(0%,100%,100%)\" fill-opacity=\"1.0\" id=\"node-14\" transform=\"translate(513.421,296.912)\"><circle r=\"0.0\"></circle></g><g fill=\"rgb(0%,100%,100%)\" fill-opacity=\"1.0\" id=\"node-15\" transform=\"translate(504.372,291.117)\"><circle r=\"0.0\"></circle></g><g fill=\"rgb(0%,100%,100%)\" fill-opacity=\"1.0\" id=\"node-16\" transform=\"translate(494.946,285.961)\"><circle r=\"0.0\"></circle></g><g fill=\"rgb(0%,100%,100%)\" fill-opacity=\"1.0\" id=\"node-17\" transform=\"translate(485.186,281.467)\"><circle r=\"0.0\"></circle></g><g fill=\"rgb(0%,100%,100%)\" fill-opacity=\"1.0\" id=\"node-18\" transform=\"translate(475.139,277.657)\"><circle r=\"0.0\"></circle></g><g fill=\"rgb(0%,100%,100%)\" fill-opacity=\"1.0\" id=\"node-19\" transform=\"translate(464.853,274.549)\"><circle r=\"0.0\"></circle></g><g fill=\"rgb(0%,100%,100%)\" fill-opacity=\"1.0\" id=\"node-20\" transform=\"translate(454.377,272.158)\"><circle r=\"0.0\"></circle></g><g fill=\"rgb(0%,100%,100%)\" fill-opacity=\"1.0\" id=\"node-21\" transform=\"translate(443.762,270.496)\"><circle r=\"0.0\"></circle></g><g fill=\"rgb(0%,100%,100%)\" fill-opacity=\"1.0\" id=\"node-22\" transform=\"translate(433.057,269.570)\"><circle r=\"0.0\"></circle></g><g fill=\"rgb(0%,100%,100%)\" fill-opacity=\"1.0\" id=\"node-23\" transform=\"translate(422.313,269.384)\"><circle r=\"0.0\"></circle></g><g fill=\"rgb(0%,100%,100%)\" fill-opacity=\"1.0\" id=\"node-24\" transform=\"translate(411.583,269.940)\"><circle r=\"0.0\"></circle></g><g fill=\"rgb(0%,100%,100%)\" fill-opacity=\"1.0\" id=\"node-25\" transform=\"translate(400.916,271.235)\"><circle r=\"0.0\"></circle></g><g fill=\"rgb(0%,100%,100%)\" fill-opacity=\"1.0\" id=\"node-26\" transform=\"translate(390.364,273.263)\"><circle r=\"0.0\"></circle></g><g fill=\"rgb(0%,100%,100%)\" fill-opacity=\"1.0\" id=\"node-27\" transform=\"translate(379.977,276.014)\"><circle r=\"0.0\"></circle></g><g fill=\"rgb(0%,100%,100%)\" fill-opacity=\"1.0\" id=\"node-28\" transform=\"translate(369.805,279.475)\"><circle r=\"0.0\"></circle></g><g fill=\"rgb(0%,100%,100%)\" fill-opacity=\"1.0\" id=\"node-29\" transform=\"translate(359.896,283.629)\"><circle r=\"0.0\"></circle></g><g fill=\"rgb(0%,100%,100%)\" fill-opacity=\"1.0\" id=\"node-30\" transform=\"translate(350.297,288.457)\"><circle r=\"0.0\"></circle></g><g fill=\"rgb(0%,100%,100%)\" fill-opacity=\"1.0\" id=\"node-31\" transform=\"translate(341.053,293.936)\"><circle r=\"0.0\"></circle></g><g fill=\"rgb(0%,100%,100%)\" fill-opacity=\"1.0\" id=\"node-32\" transform=\"translate(332.210,300.040)\"><circle r=\"0.0\"></circle></g><g fill=\"rgb(0%,100%,100%)\" fill-opacity=\"1.0\" id=\"node-33\" transform=\"translate(323.810,306.738)\"><circle r=\"0.0\"></circle></g><g fill=\"rgb(0%,100%,100%)\" fill-opacity=\"1.0\" id=\"node-34\" transform=\"translate(315.891,314.001)\"><circle r=\"0.0\"></circle></g><g fill=\"rgb(0%,100%,100%)\" fill-opacity=\"1.0\" id=\"node-35\" transform=\"translate(308.492,321.792)\"><circle r=\"0.0\"></circle></g><g fill=\"rgb(0%,100%,100%)\" fill-opacity=\"1.0\" id=\"node-36\" transform=\"translate(301.649,330.075)\"><circle r=\"0.0\"></circle></g><g fill=\"rgb(0%,100%,100%)\" fill-opacity=\"1.0\" id=\"node-37\" transform=\"translate(295.393,338.811)\"><circle r=\"0.0\"></circle></g><g fill=\"rgb(0%,100%,100%)\" fill-opacity=\"1.0\" id=\"node-38\" transform=\"translate(289.755,347.957)\"><circle r=\"0.0\"></circle></g><g fill=\"rgb(0%,100%,100%)\" fill-opacity=\"1.0\" id=\"node-39\" transform=\"translate(284.762,357.471)\"><circle r=\"0.0\"></circle></g><g fill=\"rgb(0%,100%,100%)\" fill-opacity=\"1.0\" id=\"node-40\" transform=\"translate(280.437,367.306)\"><circle r=\"0.0\"></circle></g><g fill=\"rgb(0%,100%,100%)\" fill-opacity=\"1.0\" id=\"node-41\" transform=\"translate(276.800,377.416)\"><circle r=\"0.0\"></circle></g><g fill=\"rgb(0%,100%,100%)\" fill-opacity=\"1.0\" id=\"node-42\" transform=\"translate(273.870,387.753)\"><circle r=\"0.0\"></circle></g><g fill=\"rgb(0%,100%,100%)\" fill-opacity=\"1.0\" id=\"node-43\" transform=\"translate(271.661,398.268)\"><circle r=\"0.0\"></circle></g><g fill=\"rgb(0%,100%,100%)\" fill-opacity=\"1.0\" id=\"node-44\" transform=\"translate(270.182,408.909)\"><circle r=\"0.0\"></circle></g><g fill=\"rgb(0%,100%,100%)\" fill-opacity=\"1.0\" id=\"node-45\" transform=\"translate(269.440,419.628)\"><circle r=\"0.0\"></circle></g><g fill=\"rgb(0%,100%,100%)\" fill-opacity=\"1.0\" id=\"node-46\" transform=\"translate(269.440,430.372)\"><circle r=\"0.0\"></circle></g><g fill=\"rgb(0%,100%,100%)\" fill-opacity=\"1.0\" id=\"node-47\" transform=\"translate(270.182,441.091)\"><circle r=\"0.0\"></circle></g><g fill=\"rgb(0%,100%,100%)\" fill-opacity=\"1.0\" id=\"node-48\" transform=\"translate(271.661,451.732)\"><circle r=\"0.0\"></circle></g><g fill=\"rgb(0%,100%,100%)\" fill-opacity=\"1.0\" id=\"node-49\" transform=\"translate(273.870,462.247)\"><circle r=\"0.0\"></circle></g><g fill=\"rgb(0%,100%,100%)\" fill-opacity=\"1.0\" id=\"node-50\" transform=\"translate(276.800,472.584)\"><circle r=\"0.0\"></circle></g><g fill=\"rgb(0%,100%,100%)\" fill-opacity=\"1.0\" id=\"node-51\" transform=\"translate(280.437,482.694)\"><circle r=\"0.0\"></circle></g><g fill=\"rgb(0%,100%,100%)\" fill-opacity=\"1.0\" id=\"node-52\" transform=\"translate(284.762,492.529)\"><circle r=\"0.0\"></circle></g><g fill=\"rgb(0%,100%,100%)\" fill-opacity=\"1.0\" id=\"node-53\" transform=\"translate(289.755,502.043)\"><circle r=\"0.0\"></circle></g><g fill=\"rgb(0%,100%,100%)\" fill-opacity=\"1.0\" id=\"node-54\" transform=\"translate(295.393,511.189)\"><circle r=\"0.0\"></circle></g><g fill=\"rgb(0%,100%,100%)\" fill-opacity=\"1.0\" id=\"node-55\" transform=\"translate(301.649,519.925)\"><circle r=\"0.0\"></circle></g><g fill=\"rgb(0%,100%,100%)\" fill-opacity=\"1.0\" id=\"node-56\" transform=\"translate(308.492,528.208)\"><circle r=\"0.0\"></circle></g><g fill=\"rgb(0%,100%,100%)\" fill-opacity=\"1.0\" id=\"node-57\" transform=\"translate(315.891,535.999)\"><circle r=\"0.0\"></circle></g><g fill=\"rgb(0%,100%,100%)\" fill-opacity=\"1.0\" id=\"node-58\" transform=\"translate(323.810,543.262)\"><circle r=\"0.0\"></circle></g><g fill=\"rgb(0%,100%,100%)\" fill-opacity=\"1.0\" id=\"node-59\" transform=\"translate(332.210,549.960)\"><circle r=\"0.0\"></circle></g><g fill=\"rgb(0%,100%,100%)\" fill-opacity=\"1.0\" id=\"node-60\" transform=\"translate(341.053,556.064)\"><circle r=\"0.0\"></circle></g><g fill=\"rgb(0%,100%,100%)\" fill-opacity=\"1.0\" id=\"node-61\" transform=\"translate(350.297,561.543)\"><circle r=\"0.0\"></circle></g><g fill=\"rgb(0%,100%,100%)\" fill-opacity=\"1.0\" id=\"node-62\" transform=\"translate(359.896,566.371)\"><circle r=\"0.0\"></circle></g><g fill=\"rgb(0%,100%,100%)\" fill-opacity=\"1.0\" id=\"node-63\" transform=\"translate(369.805,570.525)\"><circle r=\"0.0\"></circle></g><g fill=\"rgb(0%,100%,100%)\" fill-opacity=\"1.0\" id=\"node-64\" transform=\"translate(379.977,573.986)\"><circle r=\"0.0\"></circle></g><g fill=\"rgb(0%,100%,100%)\" fill-opacity=\"1.0\" id=\"node-65\" transform=\"translate(390.364,576.737)\"><circle r=\"0.0\"></circle></g><g fill=\"rgb(0%,100%,100%)\" fill-opacity=\"1.0\" id=\"node-66\" transform=\"translate(400.916,578.765)\"><circle r=\"0.0\"></circle></g><g fill=\"rgb(0%,100%,100%)\" fill-opacity=\"1.0\" id=\"node-67\" transform=\"translate(411.583,580.060)\"><circle r=\"0.0\"></circle></g><g fill=\"rgb(0%,100%,100%)\" fill-opacity=\"1.0\" id=\"node-68\" transform=\"translate(422.313,580.616)\"><circle r=\"0.0\"></circle></g><g fill=\"rgb(0%,100%,100%)\" fill-opacity=\"1.0\" id=\"node-69\" transform=\"translate(433.057,580.430)\"><circle r=\"0.0\"></circle></g><g fill=\"rgb(0%,100%,100%)\" fill-opacity=\"1.0\" id=\"node-70\" transform=\"translate(443.762,579.504)\"><circle r=\"0.0\"></circle></g><g fill=\"rgb(0%,100%,100%)\" fill-opacity=\"1.0\" id=\"node-71\" transform=\"translate(454.377,577.842)\"><circle r=\"0.0\"></circle></g><g fill=\"rgb(0%,100%,100%)\" fill-opacity=\"1.0\" id=\"node-72\" transform=\"translate(464.853,575.451)\"><circle r=\"0.0\"></circle></g><g fill=\"rgb(0%,100%,100%)\" fill-opacity=\"1.0\" id=\"node-73\" transform=\"translate(475.139,572.343)\"><circle r=\"0.0\"></circle></g><g fill=\"rgb(0%,100%,100%)\" fill-opacity=\"1.0\" id=\"node-74\" transform=\"translate(485.186,568.533)\"><circle r=\"0.0\"></circle></g><g fill=\"rgb(0%,100%,100%)\" fill-opacity=\"1.0\" id=\"node-75\" transform=\"translate(494.946,564.039)\"><circle r=\"0.0\"></circle></g><g fill=\"rgb(0%,100%,100%)\" fill-opacity=\"1.0\" id=\"node-76\" transform=\"translate(504.372,558.883)\"><circle r=\"0.0\"></circle></g><g fill=\"rgb(0%,100%,100%)\" fill-opacity=\"1.0\" id=\"node-77\" transform=\"translate(513.421,553.088)\"><circle r=\"0.0\"></circle></g><g fill=\"rgb(0%,100%,100%)\" fill-opacity=\"1.0\" id=\"node-78\" transform=\"translate(522.048,546.683)\"><circle r=\"0.0\"></circle></g><g fill=\"rgb(0%,100%,100%)\" fill-opacity=\"1.0\" id=\"node-79\" transform=\"translate(530.212,539.699)\"><circle r=\"0.0\"></circle></g><g fill=\"rgb(0%,100%,100%)\" fill-opacity=\"1.0\" id=\"node-80\" transform=\"translate(537.876,532.167)\"><circle r=\"0.0\"></circle></g><g fill=\"rgb(0%,100%,100%)\" fill-opacity=\"1.0\" id=\"node-81\" transform=\"translate(545.001,524.125)\"><circle r=\"0.0\"></circle></g><g fill=\"rgb(0%,100%,100%)\" fill-opacity=\"1.0\" id=\"node-82\" transform=\"translate(551.554,515.611)\"><circle r=\"0.0\"></circle></g><g fill=\"rgb(0%,100%,100%)\" fill-opacity=\"1.0\" id=\"node-83\" transform=\"translate(557.505,506.664)\"><circle r=\"0.0\"></circle></g><g fill=\"rgb(0%,100%,100%)\" fill-opacity=\"1.0\" id=\"node-84\" transform=\"translate(562.823,497.329)\"><circle r=\"0.0\"></circle></g><g fill=\"rgb(0%,100%,100%)\" fill-opacity=\"1.0\" id=\"node-85\" transform=\"translate(567.486,487.649)\"><circle r=\"0.0\"></circle></g><g fill=\"rgb(0%,100%,100%)\" fill-opacity=\"1.0\" id=\"node-86\" transform=\"translate(571.469,477.670)\"><circle r=\"0.0\"></circle></g><g fill=\"rgb(0%,100%,100%)\" fill-opacity=\"1.0\" id=\"node-87\" transform=\"translate(574.754,467.441)\"><circle r=\"0.0\"></circle></g><g fill=\"rgb(0%,100%,100%)\" fill-opacity=\"1.0\" id=\"node-88\" transform=\"translate(577.325,457.009)\"><circle r=\"0.0\"></circle></g><g fill=\"rgb(0%,100%,100%)\" fill-opacity=\"1.0\" id=\"node-89\" transform=\"translate(579.171,446.424)\"><circle r=\"0.0\"></circle></g><g fill=\"rgb(0%,100%,100%)\" fill-opacity=\"1.0\" id=\"node-90\" transform=\"translate(580.282,435.738)\"><circle r=\"0.0\"></circle></g><g fill=\"rgb(0%,100%,100%)\" fill-opacity=\"1.0\" id=\"node-91\" transform=\"translate(549.795,389.633)\"><circle r=\"0.0\"></circle></g><g fill=\"rgb(0%,100%,100%)\" fill-opacity=\"1.0\" id=\"node-92\" transform=\"translate(509.325,326.449)\"><circle r=\"0.0\"></circle></g><g fill=\"rgb(0%,100%,100%)\" fill-opacity=\"1.0\" id=\"node-93\" transform=\"translate(470.996,303.729)\"><circle r=\"0.0\"></circle></g><g fill=\"rgb(0%,100%,100%)\" fill-opacity=\"1.0\" id=\"node-94\" transform=\"translate(379.004,303.729)\"><circle r=\"0.0\"></circle></g><g fill=\"rgb(0%,100%,100%)\" fill-opacity=\"1.0\" id=\"node-95\" transform=\"translate(308.135,368.726)\"><circle r=\"0.0\"></circle></g><g fill=\"rgb(0%,100%,100%)\" fill-opacity=\"1.0\" id=\"node-96\" transform=\"translate(301.500,385.347)\"><circle r=\"0.0\"></circle></g><g fill=\"rgb(0%,100%,100%)\" fill-opacity=\"1.0\" id=\"node-97\" transform=\"translate(298.062,398.326)\"><circle r=\"0.0\"></circle></g><g fill=\"rgb(0%,100%,100%)\" fill-opacity=\"1.0\" id=\"node-98\" transform=\"translate(295.985,411.591)\"><circle r=\"0.0\"></circle></g><g fill=\"rgb(0%,100%,100%)\" fill-opacity=\"1.0\" id=\"node-99\" transform=\"translate(295.367,420.523)\"><circle r=\"0.0\"></circle></g><g fill=\"rgb(0%,100%,100%)\" fill-opacity=\"1.0\" id=\"node-100\" transform=\"translate(295.367,429.477)\"><circle r=\"0.0\"></circle></g><g fill=\"rgb(0%,100%,100%)\" fill-opacity=\"1.0\" id=\"node-101\" transform=\"translate(299.059,456.039)\"><circle r=\"0.0\"></circle></g><g fill=\"rgb(0%,100%,100%)\" fill-opacity=\"1.0\" id=\"node-102\" transform=\"translate(314.580,493.054)\"><circle r=\"0.0\"></circle></g><g fill=\"rgb(0%,100%,100%)\" fill-opacity=\"1.0\" id=\"node-103\" transform=\"translate(327.910,511.006)\"><circle r=\"0.0\"></circle></g><g fill=\"rgb(0%,100%,100%)\" fill-opacity=\"1.0\" id=\"node-104\" transform=\"translate(334.076,517.499)\"><circle r=\"0.0\"></circle></g><g fill=\"rgb(0%,100%,100%)\" fill-opacity=\"1.0\" id=\"node-105\" transform=\"translate(340.675,523.551)\"><circle r=\"0.0\"></circle></g><g fill=\"rgb(0%,100%,100%)\" fill-opacity=\"1.0\" id=\"node-106\" transform=\"translate(355.045,534.220)\"><circle r=\"0.0\"></circle></g><g fill=\"rgb(0%,100%,100%)\" fill-opacity=\"1.0\" id=\"node-107\" transform=\"translate(374.845,544.611)\"><circle r=\"0.0\"></circle></g><g fill=\"rgb(0%,100%,100%)\" fill-opacity=\"1.0\" id=\"node-108\" transform=\"translate(404.930,553.137)\"><circle r=\"0.0\"></circle></g><g fill=\"rgb(0%,100%,100%)\" fill-opacity=\"1.0\" id=\"node-109\" transform=\"translate(436.181,554.216)\"><circle r=\"0.0\"></circle></g><g fill=\"rgb(0%,100%,100%)\" fill-opacity=\"1.0\" id=\"node-110\" transform=\"translate(453.863,551.447)\"><circle r=\"0.0\"></circle></g><g fill=\"rgb(0%,100%,100%)\" fill-opacity=\"1.0\" id=\"node-111\" transform=\"translate(470.996,546.271)\"><circle r=\"0.0\"></circle></g><g fill=\"rgb(0%,100%,100%)\" fill-opacity=\"1.0\" id=\"node-112\" transform=\"translate(483.288,540.866)\"><circle r=\"0.0\"></circle></g><g fill=\"rgb(0%,100%,100%)\" fill-opacity=\"1.0\" id=\"node-113\" transform=\"translate(491.144,536.569)\"><circle r=\"0.0\"></circle></g><g fill=\"rgb(0%,100%,100%)\" fill-opacity=\"1.0\" id=\"node-114\" transform=\"translate(512.677,520.582)\"><circle r=\"0.0\"></circle></g><g fill=\"rgb(0%,100%,100%)\" fill-opacity=\"1.0\" id=\"node-115\" transform=\"translate(530.462,500.509)\"><circle r=\"0.0\"></circle></g><g fill=\"rgb(0%,100%,100%)\" fill-opacity=\"1.0\" id=\"node-116\" transform=\"translate(535.420,493.054)\"><circle r=\"0.0\"></circle></g><g fill=\"rgb(0%,100%,100%)\" fill-opacity=\"1.0\" id=\"node-117\" transform=\"translate(543.738,477.207)\"><circle r=\"0.0\"></circle></g><g fill=\"rgb(0%,100%,100%)\" fill-opacity=\"1.0\" id=\"node-118\" transform=\"translate(550.941,456.039)\"><circle r=\"0.0\"></circle></g><g fill=\"rgb(0%,100%,100%)\" fill-opacity=\"1.0\" id=\"node-119\" transform=\"translate(553.476,442.854)\"><circle r=\"0.0\"></circle></g><g fill=\"rgb(0%,100%,100%)\" fill-opacity=\"1.0\" id=\"node-120\" transform=\"translate(554.401,433.948)\"><circle r=\"0.0\"></circle></g><g fill=\"rgb(0%,100%,100%)\" fill-opacity=\"1.0\" id=\"node-121\" transform=\"translate(498.586,351.842)\"><circle r=\"0.0\"></circle></g><g fill=\"rgb(0%,100%,100%)\" fill-opacity=\"1.0\" id=\"node-122\" transform=\"translate(388.203,327.983)\"><circle r=\"0.0\"></circle></g><g fill=\"rgb(0%,100%,100%)\" fill-opacity=\"1.0\" id=\"node-123\" transform=\"translate(328.624,386.537)\"><circle r=\"0.0\"></circle></g><g fill=\"rgb(0%,100%,100%)\" fill-opacity=\"1.0\" id=\"node-124\" transform=\"translate(323.450,403.661)\"><circle r=\"0.0\"></circle></g><g fill=\"rgb(0%,100%,100%)\" fill-opacity=\"1.0\" id=\"node-125\" transform=\"translate(321.788,414.273)\"><circle r=\"0.0\"></circle></g><g fill=\"rgb(0%,100%,100%)\" fill-opacity=\"1.0\" id=\"node-126\" transform=\"translate(321.293,421.419)\"><circle r=\"0.0\"></circle></g><g fill=\"rgb(0%,100%,100%)\" fill-opacity=\"1.0\" id=\"node-127\" transform=\"translate(321.293,428.581)\"><circle r=\"0.0\"></circle></g><g fill=\"rgb(0%,100%,100%)\" fill-opacity=\"1.0\" id=\"node-128\" transform=\"translate(329.303,465.120)\"><circle r=\"0.0\"></circle></g><g fill=\"rgb(0%,100%,100%)\" fill-opacity=\"1.0\" id=\"node-129\" transform=\"translate(352.261,498.999)\"><circle r=\"0.0\"></circle></g><g fill=\"rgb(0%,100%,100%)\" fill-opacity=\"1.0\" id=\"node-130\" transform=\"translate(369.036,512.376)\"><circle r=\"0.0\"></circle></g><g fill=\"rgb(0%,100%,100%)\" fill-opacity=\"1.0\" id=\"node-131\" transform=\"translate(384.876,520.689)\"><circle r=\"0.0\"></circle></g><g fill=\"rgb(0%,100%,100%)\" fill-opacity=\"1.0\" id=\"node-132\" transform=\"translate(450.991,525.452)\"><circle r=\"0.0\"></circle></g><g fill=\"rgb(0%,100%,100%)\" fill-opacity=\"1.0\" id=\"node-133\" transform=\"translate(506.500,489.225)\"><circle r=\"0.0\"></circle></g><g fill=\"rgb(0%,100%,100%)\" fill-opacity=\"1.0\" id=\"node-134\" transform=\"translate(523.237,458.423)\"><circle r=\"0.0\"></circle></g><g fill=\"rgb(0%,100%,100%)\" fill-opacity=\"1.0\" id=\"node-135\" transform=\"translate(527.781,439.283)\"><circle r=\"0.0\"></circle></g><g fill=\"rgb(0%,100%,100%)\" fill-opacity=\"1.0\" id=\"node-136\" transform=\"translate(528.521,432.158)\"><circle r=\"0.0\"></circle></g><g fill=\"rgb(0%,100%,100%)\" fill-opacity=\"1.0\" id=\"node-137\" transform=\"translate(361.132,380.531)\"><circle r=\"0.0\"></circle></g><g fill=\"rgb(0%,100%,100%)\" fill-opacity=\"1.0\" id=\"node-138\" transform=\"translate(360.571,468.652)\"><circle r=\"0.0\"></circle></g><g fill=\"rgb(0%,100%,100%)\" fill-opacity=\"1.0\" id=\"node-139\" transform=\"translate(388.832,493.906)\"><circle r=\"0.0\"></circle></g><g fill=\"rgb(0%,100%,100%)\" fill-opacity=\"1.0\" id=\"node-140\" transform=\"translate(444.493,500.339)\"><circle r=\"0.0\"></circle></g><g fill=\"rgb(0%,100%,100%)\" fill-opacity=\"1.0\" id=\"node-141\" transform=\"translate(486.125,473.169)\"><circle r=\"0.0\"></circle></g><g fill=\"rgb(0%,100%,100%)\" fill-opacity=\"1.0\" id=\"node-142\" transform=\"translate(500.723,442.971)\"><circle r=\"0.0\"></circle></g><g fill=\"rgb(0%,100%,100%)\" fill-opacity=\"1.0\" id=\"node-143\" transform=\"translate(502.641,430.369)\"><circle r=\"0.0\"></circle></g><g fill=\"rgb(100%,100%,100%)\" fill-opacity=\"1.0\" id=\"node-144\" transform=\"translate(376.410,443.191)\"><circle r=\"10.0\"></circle></g><g fill=\"rgb(0%,100%,100%)\" fill-opacity=\"1.0\" id=\"node-145\" transform=\"translate(437.996,475.226)\"><circle r=\"0.0\"></circle></g><g fill=\"rgb(0%,100%,100%)\" fill-opacity=\"1.0\" id=\"node-146\" transform=\"translate(465.750,457.113)\"><circle r=\"0.0\"></circle></g><g fill=\"rgb(0%,100%,100%)\" fill-opacity=\"1.0\" id=\"node-147\" transform=\"translate(475.482,436.980)\"><circle r=\"0.0\"></circle></g><g fill=\"rgb(0%,100%,100%)\" fill-opacity=\"1.0\" id=\"node-148\" transform=\"translate(476.761,428.579)\"><circle r=\"0.0\"></circle></g><g fill=\"rgb(0%,100%,100%)\" fill-opacity=\"1.0\" id=\"node-149\" transform=\"translate(438.707,447.023)\"><circle r=\"0.0\"></circle></g><g fill=\"rgb(0%,100%,100%)\" fill-opacity=\"1.0\" id=\"node-150\" transform=\"translate(425.000,425.000)\"><circle r=\"0.0\"></circle></g></g><g class=\"toytree-TipLabels\" style=\"fill:rgb(14.9%,14.9%,14.9%);fill-opacity:1.0;font-family:helvetica;font-size:12px;font-weight:normal;stroke:none;white-space:pre\"><g transform=\"translate(580.65,425.00)rotate(-0)\"><text x=\"15.00\" y=\"3.07\" style=\"fill:rgb(100%,0%,0%);fill-opacity:1.0\">Faecalibacterium</text></g><g transform=\"translate(580.28,414.26)rotate(-4)\"><text x=\"15.00\" y=\"3.07\" style=\"fill:rgb(100%,0%,0%);fill-opacity:1.0\">Subdoligranulum</text></g><g transform=\"translate(579.17,403.58)rotate(-8)\"><text x=\"15.00\" y=\"3.07\" style=\"fill:rgb(100%,0%,0%);fill-opacity:1.0\">Ruminococcus</text></g><g transform=\"translate(577.33,392.99)rotate(-12)\"><text x=\"15.00\" y=\"3.07\" style=\"fill:rgb(0%,0%,0%);fill-opacity:1.0\">Anaerofilum</text></g><g transform=\"translate(574.75,382.56)rotate(-16)\"><text x=\"15.00\" y=\"3.07\" style=\"fill:rgb(0%,0%,0%);fill-opacity:1.0\">Paludicola</text></g><g transform=\"translate(571.47,372.33)rotate(-20)\"><text x=\"15.00\" y=\"3.07\" style=\"fill:rgb(0%,0%,0%);fill-opacity:1.0\">UBA1819</text></g><g transform=\"translate(567.49,362.35)rotate(-24)\"><text x=\"15.00\" y=\"3.07\" style=\"fill:rgb(0%,0%,0%);fill-opacity:1.0\">Incertae_Sedis</text></g><g transform=\"translate(562.82,352.67)rotate(-28)\"><text x=\"15.00\" y=\"3.07\" style=\"fill:rgb(0%,0%,0%);fill-opacity:1.0\">Angelakisella</text></g><g transform=\"translate(557.50,343.34)rotate(-32)\"><text x=\"15.00\" y=\"3.07\" style=\"fill:rgb(0%,0%,0%);fill-opacity:1.0\">Negativibacillus</text></g><g transform=\"translate(551.55,334.39)rotate(-36)\"><text x=\"15.00\" y=\"3.07\" style=\"fill:rgb(0%,0%,0%);fill-opacity:1.0\">UCG-002</text></g><g transform=\"translate(545.00,325.87)rotate(-40)\"><text x=\"15.00\" y=\"3.07\" style=\"fill:rgb(0%,0%,0%);fill-opacity:1.0\">UCG-005</text></g><g transform=\"translate(537.88,317.83)rotate(-44)\"><text x=\"15.00\" y=\"3.07\" style=\"fill:rgb(0%,0%,0%);fill-opacity:1.0\">UCG-003</text></g><g transform=\"translate(530.21,310.30)rotate(-47)\"><text x=\"15.00\" y=\"3.07\" style=\"fill:rgb(0%,0%,0%);fill-opacity:1.0\">Flavonifractor</text></g><g transform=\"translate(522.05,303.32)rotate(-51)\"><text x=\"15.00\" y=\"3.07\" style=\"fill:rgb(0%,0%,0%);fill-opacity:1.0\">V9D2013_group</text></g><g transform=\"translate(513.42,296.91)rotate(-55)\"><text x=\"15.00\" y=\"3.07\" style=\"fill:rgb(0%,0%,0%);fill-opacity:1.0\">Oscillibacter</text></g><g transform=\"translate(504.37,291.12)rotate(-59)\"><text x=\"15.00\" y=\"3.07\" style=\"fill:rgb(0%,0%,0%);fill-opacity:1.0\">NK4A214_group</text></g><g transform=\"translate(494.95,285.96)rotate(-63)\"><text x=\"15.00\" y=\"3.07\" style=\"fill:rgb(0%,0%,0%);fill-opacity:1.0\">Intestinimonas</text></g><g transform=\"translate(485.19,281.47)rotate(-67)\"><text x=\"15.00\" y=\"3.07\" style=\"fill:rgb(0%,0%,0%);fill-opacity:1.0\">Butyricicoccus</text></g><g transform=\"translate(475.14,277.66)rotate(-71)\"><text x=\"15.00\" y=\"3.07\" style=\"fill:rgb(0%,0%,0%);fill-opacity:1.0\">UCG-008</text></g><g transform=\"translate(464.85,274.55)rotate(-75)\"><text x=\"15.00\" y=\"3.07\" style=\"fill:rgb(0%,0%,0%);fill-opacity:1.0\">Blautia</text></g><g transform=\"translate(454.38,272.16)rotate(-79)\"><text x=\"15.00\" y=\"3.07\" style=\"fill:rgb(0%,0%,0%);fill-opacity:1.0\">Dorea</text></g><g transform=\"translate(443.76,270.50)rotate(-83)\"><text x=\"15.00\" y=\"3.07\" style=\"fill:rgb(0%,0%,0%);fill-opacity:1.0\">Agathobacter</text></g><g transform=\"translate(433.06,269.57)rotate(-87)\"><text x=\"15.00\" y=\"3.07\" style=\"fill:rgb(0%,0%,0%);fill-opacity:1.0\">Fusicatenibacter</text></g><g transform=\"translate(422.31,269.38)rotate(89)\"><text x=\"-85.03\" y=\"3.07\" style=\"fill:rgb(0%,0%,0%);fill-opacity:1.0\">Anaerostipes</text></g><g transform=\"translate(411.58,269.94)rotate(85)\"><text x=\"-201.77\" y=\"3.07\" style=\"fill:rgb(0%,0%,0%);fill-opacity:1.0\">Lachnospiraceae_NK4A136_group</text></g><g transform=\"translate(400.92,271.24)rotate(81)\"><text x=\"-85.02\" y=\"3.07\" style=\"fill:rgb(0%,0%,0%);fill-opacity:1.0\">Coprococcus</text></g><g transform=\"translate(390.36,273.26)rotate(77)\"><text x=\"-69.68\" y=\"3.07\" style=\"fill:rgb(0%,0%,0%);fill-opacity:1.0\">Roseburia</text></g><g transform=\"translate(379.98,276.01)rotate(73)\"><text x=\"-111.70\" y=\"3.07\" style=\"fill:rgb(0%,0%,0%);fill-opacity:1.0\">Lachnoclostridium</text></g><g transform=\"translate(369.80,279.48)rotate(69)\"><text x=\"-73.68\" y=\"3.07\" style=\"fill:rgb(0%,0%,0%);fill-opacity:1.0\">Sellimonas</text></g><g transform=\"translate(359.90,283.63)rotate(65)\"><text x=\"-93.68\" y=\"3.07\" style=\"fill:rgb(0%,0%,0%);fill-opacity:1.0\">Marvinbryantia</text></g><g transform=\"translate(350.30,288.46)rotate(61)\"><text x=\"-70.34\" y=\"3.07\" style=\"fill:rgb(0%,0%,0%);fill-opacity:1.0\">Tuzzerella</text></g><g transform=\"translate(341.05,293.94)rotate(57)\"><text x=\"-193.76\" y=\"3.07\" style=\"fill:rgb(0%,0%,0%);fill-opacity:1.0\">Lachnospiraceae_AC2044_group</text></g><g transform=\"translate(332.21,300.04)rotate(53)\"><text x=\"-58.34\" y=\"3.07\" style=\"fill:rgb(0%,0%,0%);fill-opacity:1.0\">CAG-56</text></g><g transform=\"translate(323.81,306.74)rotate(49)\"><text x=\"-80.36\" y=\"3.07\" style=\"fill:rgb(0%,0%,0%);fill-opacity:1.0\">Lachnospira</text></g><g transform=\"translate(315.89,314.00)rotate(45)\"><text x=\"-163.73\" y=\"3.07\" style=\"fill:rgb(0%,0%,0%);fill-opacity:1.0\">Lachnospiraceae_UCG-003</text></g><g transform=\"translate(308.49,321.79)rotate(42)\"><text x=\"-90.36\" y=\"3.07\" style=\"fill:rgb(0%,0%,0%);fill-opacity:1.0\">Eisenbergiella</text></g><g transform=\"translate(301.65,330.08)rotate(38)\"><text x=\"-163.73\" y=\"3.07\" style=\"fill:rgb(0%,0%,0%);fill-opacity:1.0\">Lachnospiraceae_UCG-010</text></g><g transform=\"translate(295.39,338.81)rotate(34)\"><text x=\"-163.73\" y=\"3.07\" style=\"fill:rgb(0%,0%,0%);fill-opacity:1.0\">Lachnospiraceae_UCG-001</text></g><g transform=\"translate(289.76,347.96)rotate(30)\"><text x=\"-79.02\" y=\"3.07\" style=\"fill:rgb(0%,0%,0%);fill-opacity:1.0\">Romboutsia</text></g><g transform=\"translate(284.76,357.47)rotate(26)\"><text x=\"-103.02\" y=\"3.07\" style=\"fill:rgb(0%,0%,0%);fill-opacity:1.0\">Terrisporobacter</text></g><g transform=\"translate(280.44,367.31)rotate(22)\"><text x=\"-89.70\" y=\"3.07\" style=\"fill:rgb(0%,0%,0%);fill-opacity:1.0\">Intestinibacter</text></g><g transform=\"translate(276.80,377.42)rotate(18)\"><text x=\"-162.40\" y=\"3.07\" style=\"fill:rgb(0%,0%,0%);fill-opacity:1.0\">Family_XIII_AD3011_group</text></g><g transform=\"translate(273.87,387.75)rotate(14)\"><text x=\"-187.07\" y=\"3.07\" style=\"fill:rgb(0%,0%,0%);fill-opacity:1.0\">Christensenellaceae_R-7_group</text></g><g transform=\"translate(271.66,398.27)rotate(10)\"><text x=\"-97.69\" y=\"3.07\" style=\"fill:rgb(0%,0%,0%);fill-opacity:1.0\">Christensenella</text></g><g transform=\"translate(270.18,408.91)rotate(6)\"><text x=\"-80.36\" y=\"3.07\" style=\"fill:rgb(0%,0%,0%);fill-opacity:1.0\">Monoglobus</text></g><g transform=\"translate(269.44,419.63)rotate(2)\"><text x=\"-165.71\" y=\"3.07\" style=\"fill:rgb(0%,0%,0%);fill-opacity:1.0\">Clostridium_sensu_stricto_1</text></g><g transform=\"translate(269.44,430.37)rotate(-2)\"><text x=\"-83.70\" y=\"3.07\" style=\"fill:rgb(0%,0%,0%);fill-opacity:1.0\">Peptococcus</text></g><g transform=\"translate(270.18,441.09)rotate(-6)\"><text x=\"-88.36\" y=\"3.07\" style=\"fill:rgb(0%,0%,0%);fill-opacity:1.0\">Holdemanella</text></g><g transform=\"translate(271.66,451.73)rotate(-10)\"><text x=\"-77.68\" y=\"3.07\" style=\"fill:rgb(0%,0%,0%);fill-opacity:1.0\">Turicibacter</text></g><g transform=\"translate(273.87,462.25)rotate(-14)\"><text x=\"-93.04\" y=\"3.07\" style=\"fill:rgb(0%,0%,0%);fill-opacity:1.0\">Catenisphaera</text></g><g transform=\"translate(276.80,472.58)rotate(-18)\"><text x=\"-79.02\" y=\"3.07\" style=\"fill:rgb(0%,0%,0%);fill-opacity:1.0\">Holdemania</text></g><g transform=\"translate(280.44,482.69)rotate(-22)\"><text x=\"-79.69\" y=\"3.07\" style=\"fill:rgb(0%,0%,0%);fill-opacity:1.0\">Faecalitalea</text></g><g transform=\"translate(284.76,492.53)rotate(-26)\"><text x=\"-177.05\" y=\"3.07\" style=\"fill:rgb(0%,0%,0%);fill-opacity:1.0\">Erysipelotrichaceae_UCG-003</text></g><g transform=\"translate(289.76,502.04)rotate(-30)\"><text x=\"-102.36\" y=\"3.07\" style=\"fill:rgb(0%,0%,0%);fill-opacity:1.0\">Catenibacterium</text></g><g transform=\"translate(295.39,511.19)rotate(-34)\"><text x=\"-131.69\" y=\"3.07\" style=\"fill:rgb(0%,0%,0%);fill-opacity:1.0\">Erysipelatoclostridium</text></g><g transform=\"translate(301.65,519.92)rotate(-38)\"><text x=\"-87.68\" y=\"3.07\" style=\"fill:rgb(0%,0%,0%);fill-opacity:1.0\">Coprobacillus</text></g><g transform=\"translate(308.49,528.21)rotate(-42)\"><text x=\"-84.36\" y=\"3.07\" style=\"fill:rgb(0%,0%,0%);fill-opacity:1.0\">Lactobacillus</text></g><g transform=\"translate(315.89,536.00)rotate(-45)\"><text x=\"-91.03\" y=\"3.07\" style=\"fill:rgb(0%,0%,0%);fill-opacity:1.0\">Streptococcus</text></g><g transform=\"translate(323.81,543.26)rotate(-49)\"><text x=\"-87.70\" y=\"3.07\" style=\"fill:rgb(0%,0%,0%);fill-opacity:1.0\">Enterococcus</text></g><g transform=\"translate(332.21,549.96)rotate(-53)\"><text x=\"-58.33\" y=\"3.07\" style=\"fill:rgb(0%,0%,0%);fill-opacity:1.0\">Dialister</text></g><g transform=\"translate(341.05,556.06)rotate(-57)\"><text x=\"-88.37\" y=\"3.07\" style=\"fill:rgb(0%,0%,0%);fill-opacity:1.0\">Megasphaera</text></g><g transform=\"translate(350.30,561.54)rotate(-61)\"><text x=\"-69.68\" y=\"3.07\" style=\"fill:rgb(0%,0%,0%);fill-opacity:1.0\">Veillonella</text></g><g transform=\"translate(359.90,566.37)rotate(-65)\"><text x=\"-108.36\" y=\"3.07\" style=\"fill:rgb(0%,0%,0%);fill-opacity:1.0\">Acidaminococcus</text></g><g transform=\"translate(369.80,570.52)rotate(-69)\"><text x=\"-137.04\" y=\"3.07\" style=\"fill:rgb(0%,0%,0%);fill-opacity:1.0\">Phascolarctobacterium</text></g><g transform=\"translate(379.98,573.99)rotate(-73)\"><text x=\"-68.35\" y=\"3.07\" style=\"fill:rgb(0%,0%,0%);fill-opacity:1.0\">Prevotella</text></g><g transform=\"translate(390.36,576.74)rotate(-77)\"><text x=\"-183.08\" y=\"3.07\" style=\"fill:rgb(0%,0%,0%);fill-opacity:1.0\">Prevotellaceae_NK3B31_group</text></g><g transform=\"translate(400.92,578.76)rotate(-81)\"><text x=\"-92.36\" y=\"3.07\" style=\"fill:rgb(0%,0%,0%);fill-opacity:1.0\">Paraprevotella</text></g><g transform=\"translate(411.58,580.06)rotate(-85)\"><text x=\"-87.02\" y=\"3.07\" style=\"fill:rgb(0%,0%,0%);fill-opacity:1.0\">Alloprevotella</text></g><g transform=\"translate(422.31,580.62)rotate(-89)\"><text x=\"-189.10\" y=\"3.07\" style=\"fill:rgb(0%,0%,0%);fill-opacity:1.0\">Prevotellaceae_YAB2003_group</text></g><g transform=\"translate(433.06,580.43)rotate(-273)\"><text x=\"15.00\" y=\"3.07\" style=\"fill:rgb(66.3%,66.3%,66.3%);fill-opacity:1.0\">Alistipes</text></g><g transform=\"translate(443.76,579.50)rotate(-277)\"><text x=\"15.00\" y=\"3.07\" style=\"fill:rgb(0%,0%,0%);fill-opacity:1.0\">Rikenellaceae_RC9_gut_group</text></g><g transform=\"translate(454.38,577.84)rotate(-281)\"><text x=\"15.00\" y=\"3.07\" style=\"fill:rgb(0%,0%,0%);fill-opacity:1.0\">Barnesiella</text></g><g transform=\"translate(464.85,575.45)rotate(-285)\"><text x=\"15.00\" y=\"3.07\" style=\"fill:rgb(0%,0%,0%);fill-opacity:1.0\">Coprobacter</text></g><g transform=\"translate(475.14,572.34)rotate(-289)\"><text x=\"15.00\" y=\"3.07\" style=\"fill:rgb(0%,0%,0%);fill-opacity:1.0\">Odoribacter</text></g><g transform=\"translate(485.19,568.53)rotate(-293)\"><text x=\"15.00\" y=\"3.07\" style=\"fill:rgb(0%,0%,0%);fill-opacity:1.0\">Butyricimonas</text></g><g transform=\"translate(494.95,564.04)rotate(-297)\"><text x=\"15.00\" y=\"3.07\" style=\"fill:rgb(100%,0%,0%);fill-opacity:1.0\">Bacteroides</text></g><g transform=\"translate(504.37,558.88)rotate(-301)\"><text x=\"15.00\" y=\"3.07\" style=\"fill:rgb(100%,0%,0%);fill-opacity:1.0\">Parabacteroides</text></g><g transform=\"translate(513.42,553.09)rotate(-305)\"><text x=\"15.00\" y=\"3.07\" style=\"fill:rgb(0%,0%,0%);fill-opacity:1.0\">Eggerthella</text></g><g transform=\"translate(522.05,546.68)rotate(-309)\"><text x=\"15.00\" y=\"3.07\" style=\"fill:rgb(0%,0%,0%);fill-opacity:1.0\">Gordonibacter</text></g><g transform=\"translate(530.21,539.70)rotate(-313)\"><text x=\"15.00\" y=\"3.07\" style=\"fill:rgb(0%,0%,0%);fill-opacity:1.0\">Slackia</text></g><g transform=\"translate(537.88,532.17)rotate(-316)\"><text x=\"15.00\" y=\"3.07\" style=\"fill:rgb(0%,0%,0%);fill-opacity:1.0\">Senegalimassilia</text></g><g transform=\"translate(545.00,524.13)rotate(-320)\"><text x=\"15.00\" y=\"3.07\" style=\"fill:rgb(0%,0%,0%);fill-opacity:1.0\">Enterorhabdus</text></g><g transform=\"translate(551.55,515.61)rotate(-324)\"><text x=\"15.00\" y=\"3.07\" style=\"fill:rgb(0%,0%,0%);fill-opacity:1.0\">Collinsella</text></g><g transform=\"translate(557.50,506.66)rotate(-328)\"><text x=\"15.00\" y=\"3.07\" style=\"fill:rgb(0%,0%,0%);fill-opacity:1.0\">Atopobium</text></g><g transform=\"translate(562.82,497.33)rotate(-332)\"><text x=\"15.00\" y=\"3.07\" style=\"fill:rgb(0%,0%,0%);fill-opacity:1.0\">Cronobacter</text></g><g transform=\"translate(567.49,487.65)rotate(-336)\"><text x=\"15.00\" y=\"3.07\" style=\"fill:rgb(0%,0%,0%);fill-opacity:1.0\">Escherichia/Shigella</text></g><g transform=\"translate(571.47,477.67)rotate(-340)\"><text x=\"15.00\" y=\"3.07\" style=\"fill:rgb(0%,0%,0%);fill-opacity:1.0\">Enterobacter</text></g><g transform=\"translate(574.75,467.44)rotate(-344)\"><text x=\"15.00\" y=\"3.07\" style=\"fill:rgb(0%,0%,0%);fill-opacity:1.0\">Yersinia</text></g><g transform=\"translate(577.33,457.01)rotate(-348)\"><text x=\"15.00\" y=\"3.07\" style=\"fill:rgb(0%,0%,0%);fill-opacity:1.0\">Serratia</text></g><g transform=\"translate(579.17,446.42)rotate(-352)\"><text x=\"15.00\" y=\"3.07\" style=\"fill:rgb(0%,0%,0%);fill-opacity:1.0\">Parasutterella</text></g><g transform=\"translate(580.28,435.74)rotate(-356)\"><text x=\"15.00\" y=\"3.07\" style=\"fill:rgb(0%,0%,0%);fill-opacity:1.0\">Cloacibacillus</text></g></g></g></g></g><g class=\"toyplot-coordinates-Cartesian\" id=\"ta2502533677f4e35a310dd431ae3b09d\"><clipPath id=\"t373c9d446aee4a96a7cdd76e32b34e5c\"><rect x=\"0.0\" y=\"50.0\" width=\"1000.0\" height=\"50.0\"></rect></clipPath><g clip-path=\"url(#t373c9d446aee4a96a7cdd76e32b34e5c)\"></g><g transform=\"translate(500.0,42.0)\"><text x=\"-20.615\" y=\"-4.823\" style=\"fill:rgb(16.1%,15.3%,14.1%);fill-opacity:1.0;font-family:helvetica;font-size:14.0px;font-weight:bold;stroke:none;vertical-align:baseline;white-space:pre\">Labus</text></g></g><g class=\"toyplot-coordinates-Table\" id=\"t524c8eaf3f1249b68bf712fc62fa0004\"><g transform=\"translate(800.0,275.0)\"><text x=\"-25.284000000000002\" y=\"-10.423\" style=\"fill:rgb(16.1%,15.3%,14.1%);fill-opacity:1.0;font-family:helvetica;font-size:14.0px;font-weight:bold;stroke:none;vertical-align:baseline;white-space:pre\">Phylum</text></g><g transform=\"translate(795.0,285.0)\"><g style=\"fill:rgb(100%,49.8%,0%);fill-opacity:1.0\" transform=\"translate(-5.55, -4.440892098500626e-16)\"><circle r=\"4.0\"></circle></g></g><g transform=\"translate(805.0,285.0)\"><text x=\"0\" y=\"3.066\" style=\"fill:rgb(16.1%,15.3%,14.1%);fill-opacity:1.0;font-family:helvetica;font-size:12.0px;font-weight:normal;stroke:none;vertical-align:baseline;white-space:pre\">Synergistota</text></g><g transform=\"translate(795.0,305.0)\"><g style=\"fill:rgb(21.6%,49.4%,72.2%);fill-opacity:1.0\" transform=\"translate(-5.55, -4.440892098500626e-16)\"><circle r=\"4.0\"></circle></g></g><g transform=\"translate(805.0,305.0)\"><text x=\"0\" y=\"3.066\" style=\"fill:rgb(16.1%,15.3%,14.1%);fill-opacity:1.0;font-family:helvetica;font-size:12.0px;font-weight:normal;stroke:none;vertical-align:baseline;white-space:pre\">Proteobacteria</text></g><g transform=\"translate(795.0,325.0)\"><g style=\"fill:rgb(59.6%,30.6%,63.9%);fill-opacity:1.0\" transform=\"translate(-5.55, -4.440892098500626e-16)\"><circle r=\"4.0\"></circle></g></g><g transform=\"translate(805.0,325.0)\"><text x=\"0\" y=\"3.066\" style=\"fill:rgb(16.1%,15.3%,14.1%);fill-opacity:1.0;font-family:helvetica;font-size:12.0px;font-weight:normal;stroke:none;vertical-align:baseline;white-space:pre\">Actinobacteriota</text></g><g transform=\"translate(795.0,345.0)\"><g style=\"fill:rgb(30.2%,68.6%,29%);fill-opacity:1.0\" transform=\"translate(-5.55, -4.440892098500626e-16)\"><circle r=\"4.0\"></circle></g></g><g transform=\"translate(805.0,345.0)\"><text x=\"0\" y=\"3.066\" style=\"fill:rgb(16.1%,15.3%,14.1%);fill-opacity:1.0;font-family:helvetica;font-size:12.0px;font-weight:normal;stroke:none;vertical-align:baseline;white-space:pre\">Bacteroidota</text></g><g transform=\"translate(795.0,365.0)\"><g style=\"fill:rgb(89.4%,10.2%,11%);fill-opacity:1.0\" transform=\"translate(-5.55, -4.440892098500626e-16)\"><circle r=\"4.0\"></circle></g></g><g transform=\"translate(805.0,365.0)\"><text x=\"0\" y=\"3.066\" style=\"fill:rgb(16.1%,15.3%,14.1%);fill-opacity:1.0;font-family:helvetica;font-size:12.0px;font-weight:normal;stroke:none;vertical-align:baseline;white-space:pre\">Firmicutes</text></g></g><g class=\"toyplot-coordinates-Table\" id=\"t38c9bd48565d4ac697aa077868855187\"><g transform=\"translate(800.0,425.0)\"><text x=\"-59.899\" y=\"-10.423\" style=\"fill:rgb(16.1%,15.3%,14.1%);fill-opacity:1.0;font-family:helvetica;font-size:14.0px;font-weight:bold;stroke:none;vertical-align:baseline;white-space:pre\">tascCODA Effects</text></g><g transform=\"translate(795.0,450.0)\"><g style=\"fill:rgb(0%,0%,0%);fill-opacity:1.0\" transform=\"translate(-5.55, -4.440892098500626e-16)\"><circle r=\"10.0\"></circle></g></g><g transform=\"translate(805.0,450.0)\"><text x=\"0\" y=\"3.066\" style=\"fill:rgb(16.1%,15.3%,14.1%);fill-opacity:1.0;font-family:helvetica;font-size:12.0px;font-weight:normal;stroke:none;vertical-align:baseline;white-space:pre\">0.315</text></g><g transform=\"translate(795.0,500.0)\"><g style=\"fill:rgb(100%,100%,100%);fill-opacity:1.0\" transform=\"translate(-5.55, -4.440892098500626e-16)\"><circle r=\"10.0\"></circle></g></g><g transform=\"translate(805.0,500.0)\"><text x=\"0\" y=\"3.066\" style=\"fill:rgb(16.1%,15.3%,14.1%);fill-opacity:1.0;font-family:helvetica;font-size:12.0px;font-weight:normal;stroke:none;vertical-align:baseline;white-space:pre\">-0.315</text></g></g></svg><div class=\"toyplot-behavior\"><script>(function()\n{\nvar modules={};\n})();</script></div></div>"
     },
     "metadata": {},
     "output_type": "display_data"
    },
    {
     "data": {
      "text/html": "<div class=\"toyplot\" id=\"te2fef102230c47e1a1a0afd5745e5e1e\" style=\"text-align:center\"><svg class=\"toyplot-canvas-Canvas\" xmlns:toyplot=\"http://www.sandia.gov/toyplot\" xmlns:xlink=\"http://www.w3.org/1999/xlink\" xmlns=\"http://www.w3.org/2000/svg\" width=\"1000.0px\" height=\"1000.0px\" viewBox=\"0 0 1000.0 1000.0\" preserveAspectRatio=\"xMidYMid meet\" style=\"background-color:transparent;border-color:#292724;border-style:none;border-width:1.0;fill:rgb(16.1%,15.3%,14.1%);fill-opacity:1.0;font-family:Helvetica;font-size:12px;opacity:1.0;stroke:rgb(16.1%,15.3%,14.1%);stroke-opacity:1.0;stroke-width:1.0\" id=\"ta650978a703646d48a3b846484c7a74c\"><g class=\"toyplot-coordinates-Cartesian\" id=\"t8f0a7ce6925b40ab8effdc33618fb448\"><clipPath id=\"te78041040d7e40648d8fb5bfcb58436e\"><rect x=\"30.0\" y=\"30.0\" width=\"790.0\" height=\"790.0\"></rect></clipPath><g clip-path=\"url(#te78041040d7e40648d8fb5bfcb58436e)\"><g class=\"toytree-mark-Toytree\" id=\"t355dd9e0e17e4adbbf34cd791e617379\"><g class=\"toytree-Edges\" style=\"fill:none;stroke:rgb(14.9%,14.9%,14.9%);stroke-linecap:round;stroke-opacity:1;stroke-width:2\"><path d=\"M 438.7 447.0 L 425.0 425.0 A -0.0 -0.0 0 0 0 425.0 425.0\" id=\"150,149\" style=\"stroke:rgb(0%,0%,0%);stroke-opacity:1.0\"></path><path d=\"M 476.8 428.6 L 450.9 426.8 A 25.9 25.9 0 0 1 438.7 447.0\" id=\"149,148\" style=\"stroke:rgb(100%,49.8%,0%);stroke-opacity:1.0\"></path><path d=\"M 475.5 437.0 L 450.2 431.0 A 25.9 25.9 0 0 1 438.7 447.0\" id=\"149,147\" style=\"stroke:rgb(21.6%,49.4%,72.2%);stroke-opacity:1.0\"></path><path d=\"M 465.8 457.1 L 445.4 441.1 A 25.9 25.9 0 0 1 438.7 447.0\" id=\"149,146\" style=\"stroke:rgb(59.6%,30.6%,63.9%);stroke-opacity:1.0\"></path><path d=\"M 438.0 475.2 L 431.5 450.1 A 25.9 25.9 0 0 0 438.7 447.0\" id=\"149,145\" style=\"stroke:rgb(30.2%,68.6%,29%);stroke-opacity:1.0\"></path><path d=\"M 376.4 443.2 L 400.7 434.1 A 25.9 25.9 0 0 0 438.7 447.0\" id=\"149,144\" style=\"stroke:rgb(89.4%,10.2%,11%);stroke-opacity:1.0\"></path><path d=\"M 502.6 430.4 L 476.8 428.6 A 51.9 51.9 0 0 1 476.8 428.6\" id=\"148,143\" style=\"stroke:rgb(100%,49.8%,0%);stroke-opacity:1.0\"></path><path d=\"M 500.7 443.0 L 475.5 437.0 A 51.9 51.9 0 0 1 475.5 437.0\" id=\"147,142\" style=\"stroke:rgb(21.6%,49.4%,72.2%);stroke-opacity:1.0\"></path><path d=\"M 486.1 473.2 L 465.8 457.1 A 51.9 51.9 0 0 1 465.8 457.1\" id=\"146,141\" style=\"stroke:rgb(59.6%,30.6%,63.9%);stroke-opacity:1.0\"></path><path d=\"M 444.5 500.3 L 438.0 475.2 A 51.9 51.9 0 0 1 438.0 475.2\" id=\"145,140\" style=\"stroke:rgb(30.2%,68.6%,29%);stroke-opacity:1.0\"></path><path d=\"M 388.8 493.9 L 400.9 470.9 A 51.9 51.9 0 0 1 376.4 443.2\" id=\"144,139\" style=\"stroke:rgb(89.4%,10.2%,11%);stroke-opacity:1.0\"></path><path d=\"M 360.6 468.7 L 382.0 454.1 A 51.9 51.9 0 0 1 376.4 443.2\" id=\"144,138\" style=\"stroke:rgb(89.4%,10.2%,11%);stroke-opacity:1.0\"></path><path d=\"M 361.1 380.5 L 382.4 395.4 A 51.9 51.9 0 0 0 376.4 443.2\" id=\"144,137\" style=\"stroke:rgb(89.4%,10.2%,11%);stroke-opacity:1.0\"></path><path d=\"M 528.5 432.2 L 502.6 430.4 A 77.8 77.8 0 0 1 502.6 430.4\" id=\"143,136\" style=\"stroke:rgb(100%,49.8%,0%);stroke-opacity:1.0\"></path><path d=\"M 527.8 439.3 L 502.1 435.7 A 77.8 77.8 0 0 1 500.7 443.0\" id=\"142,135\" style=\"stroke:rgb(21.6%,49.4%,72.2%);stroke-opacity:1.0\"></path><path d=\"M 523.2 458.4 L 498.7 450.1 A 77.8 77.8 0 0 0 500.7 443.0\" id=\"142,134\" style=\"stroke:rgb(21.6%,49.4%,72.2%);stroke-opacity:1.0\"></path><path d=\"M 506.5 489.2 L 486.1 473.2 A 77.8 77.8 0 0 1 486.1 473.2\" id=\"141,133\" style=\"stroke:rgb(59.6%,30.6%,63.9%);stroke-opacity:1.0\"></path><path d=\"M 451.0 525.5 L 444.5 500.3 A 77.8 77.8 0 0 1 444.5 500.3\" id=\"140,132\" style=\"stroke:rgb(30.2%,68.6%,29%);stroke-opacity:1.0\"></path><path d=\"M 384.9 520.7 L 394.9 496.8 A 77.8 77.8 0 0 1 388.8 493.9\" id=\"139,131\" style=\"stroke:rgb(89.4%,10.2%,11%);stroke-opacity:1.0\"></path><path d=\"M 369.0 512.4 L 383.0 490.5 A 77.8 77.8 0 0 0 388.8 493.9\" id=\"139,130\" style=\"stroke:rgb(89.4%,10.2%,11%);stroke-opacity:1.0\"></path><path d=\"M 352.3 499.0 L 370.4 480.5 A 77.8 77.8 0 0 1 360.6 468.7\" id=\"138,129\" style=\"stroke:rgb(89.4%,10.2%,11%);stroke-opacity:1.0\"></path><path d=\"M 329.3 465.1 L 353.2 455.1 A 77.8 77.8 0 0 0 360.6 468.7\" id=\"138,128\" style=\"stroke:rgb(89.4%,10.2%,11%);stroke-opacity:1.0\"></path><path d=\"M 321.3 428.6 L 347.2 427.7 A 77.8 77.8 0 0 1 361.1 380.5\" id=\"137,127\" style=\"stroke:rgb(89.4%,10.2%,11%);stroke-opacity:1.0\"></path><path d=\"M 321.3 421.4 L 347.2 422.3 A 77.8 77.8 0 0 1 361.1 380.5\" id=\"137,126\" style=\"stroke:rgb(89.4%,10.2%,11%);stroke-opacity:1.0\"></path><path d=\"M 321.8 414.3 L 347.6 417.0 A 77.8 77.8 0 0 1 361.1 380.5\" id=\"137,125\" style=\"stroke:rgb(89.4%,10.2%,11%);stroke-opacity:1.0\"></path><path d=\"M 323.4 403.7 L 348.8 409.0 A 77.8 77.8 0 0 1 361.1 380.5\" id=\"137,124\" style=\"stroke:rgb(89.4%,10.2%,11%);stroke-opacity:1.0\"></path><path d=\"M 328.6 386.5 L 352.7 396.2 A 77.8 77.8 0 0 1 361.1 380.5\" id=\"137,123\" style=\"stroke:rgb(89.4%,10.2%,11%);stroke-opacity:1.0\"></path><path d=\"M 388.2 328.0 L 397.4 352.2 A 77.8 77.8 0 0 0 361.1 380.5\" id=\"137,122\" style=\"stroke:rgb(89.4%,10.2%,11%);stroke-opacity:1.0\"></path><path d=\"M 498.6 351.8 L 480.2 370.1 A 77.8 77.8 0 0 0 361.1 380.5\" id=\"137,121\" style=\"stroke:rgb(89.4%,10.2%,11%);stroke-opacity:1.0\"></path><path d=\"M 554.4 433.9 L 528.5 432.2 A 103.8 103.8 0 0 1 528.5 432.2\" id=\"136,120\" style=\"stroke:rgb(100%,49.8%,0%);stroke-opacity:1.0\"></path><path d=\"M 553.5 442.9 L 527.8 439.3 A 103.8 103.8 0 0 1 527.8 439.3\" id=\"135,119\" style=\"stroke:rgb(21.6%,49.4%,72.2%);stroke-opacity:1.0\"></path><path d=\"M 550.9 456.0 L 525.8 449.8 A 103.8 103.8 0 0 1 523.2 458.4\" id=\"134,118\" style=\"stroke:rgb(21.6%,49.4%,72.2%);stroke-opacity:1.0\"></path><path d=\"M 543.7 477.2 L 520.0 466.8 A 103.8 103.8 0 0 0 523.2 458.4\" id=\"134,117\" style=\"stroke:rgb(21.6%,49.4%,72.2%);stroke-opacity:1.0\"></path><path d=\"M 535.4 493.1 L 513.3 479.4 A 103.8 103.8 0 0 1 506.5 489.2\" id=\"133,116\" style=\"stroke:rgb(59.6%,30.6%,63.9%);stroke-opacity:1.0\"></path><path d=\"M 530.5 500.5 L 509.4 485.4 A 103.8 103.8 0 0 1 506.5 489.2\" id=\"133,115\" style=\"stroke:rgb(59.6%,30.6%,63.9%);stroke-opacity:1.0\"></path><path d=\"M 512.7 520.6 L 495.1 501.5 A 103.8 103.8 0 0 0 506.5 489.2\" id=\"133,114\" style=\"stroke:rgb(59.6%,30.6%,63.9%);stroke-opacity:1.0\"></path><path d=\"M 491.1 536.6 L 477.9 514.3 A 103.8 103.8 0 0 1 451.0 525.5\" id=\"132,113\" style=\"stroke:rgb(30.2%,68.6%,29%);stroke-opacity:1.0\"></path><path d=\"M 483.3 540.9 L 471.6 517.7 A 103.8 103.8 0 0 1 451.0 525.5\" id=\"132,112\" style=\"stroke:rgb(30.2%,68.6%,29%);stroke-opacity:1.0\"></path><path d=\"M 471.0 546.3 L 461.8 522.0 A 103.8 103.8 0 0 1 451.0 525.5\" id=\"132,111\" style=\"stroke:rgb(30.2%,68.6%,29%);stroke-opacity:1.0\"></path><path d=\"M 453.9 551.4 L 448.1 526.2 A 103.8 103.8 0 0 0 451.0 525.5\" id=\"132,110\" style=\"stroke:rgb(30.2%,68.6%,29%);stroke-opacity:1.0\"></path><path d=\"M 436.2 554.2 L 433.9 528.4 A 103.8 103.8 0 0 0 451.0 525.5\" id=\"132,109\" style=\"stroke:rgb(30.2%,68.6%,29%);stroke-opacity:1.0\"></path><path d=\"M 404.9 553.1 L 408.9 527.5 A 103.8 103.8 0 0 0 451.0 525.5\" id=\"132,108\" style=\"stroke:rgb(30.2%,68.6%,29%);stroke-opacity:1.0\"></path><path d=\"M 374.8 544.6 L 384.9 520.7 A 103.8 103.8 0 0 0 384.9 520.7\" id=\"131,107\" style=\"stroke:rgb(89.4%,10.2%,11%);stroke-opacity:1.0\"></path><path d=\"M 355.0 534.2 L 369.0 512.4 A 103.8 103.8 0 0 0 369.0 512.4\" id=\"130,106\" style=\"stroke:rgb(89.4%,10.2%,11%);stroke-opacity:1.0\"></path><path d=\"M 340.7 523.6 L 357.5 503.8 A 103.8 103.8 0 0 1 352.3 499.0\" id=\"129,105\" style=\"stroke:rgb(89.4%,10.2%,11%);stroke-opacity:1.0\"></path><path d=\"M 334.1 517.5 L 352.3 499.0 A 103.8 103.8 0 0 0 352.3 499.0\" id=\"129,104\" style=\"stroke:rgb(89.4%,10.2%,11%);stroke-opacity:1.0\"></path><path d=\"M 327.9 511.0 L 347.3 493.8 A 103.8 103.8 0 0 0 352.3 499.0\" id=\"129,103\" style=\"stroke:rgb(89.4%,10.2%,11%);stroke-opacity:1.0\"></path><path d=\"M 314.6 493.1 L 336.7 479.4 A 103.8 103.8 0 0 1 329.3 465.1\" id=\"128,102\" style=\"stroke:rgb(89.4%,10.2%,11%);stroke-opacity:1.0\"></path><path d=\"M 299.1 456.0 L 324.2 449.8 A 103.8 103.8 0 0 0 329.3 465.1\" id=\"128,101\" style=\"stroke:rgb(89.4%,10.2%,11%);stroke-opacity:1.0\"></path><path d=\"M 295.4 429.5 L 321.3 428.6 A 103.8 103.8 0 0 0 321.3 428.6\" id=\"127,100\" style=\"stroke:rgb(89.4%,10.2%,11%);stroke-opacity:1.0\"></path><path d=\"M 295.4 420.5 L 321.3 421.4 A 103.8 103.8 0 0 1 321.3 421.4\" id=\"126,99\" style=\"stroke:rgb(89.4%,10.2%,11%);stroke-opacity:1.0\"></path><path d=\"M 296.0 411.6 L 321.8 414.3 A 103.8 103.8 0 0 1 321.8 414.3\" id=\"125,98\" style=\"stroke:rgb(89.4%,10.2%,11%);stroke-opacity:1.0\"></path><path d=\"M 298.1 398.3 L 323.4 403.7 A 103.8 103.8 0 0 1 323.4 403.7\" id=\"124,97\" style=\"stroke:rgb(89.4%,10.2%,11%);stroke-opacity:1.0\"></path><path d=\"M 301.5 385.3 L 326.2 393.3 A 103.8 103.8 0 0 1 328.6 386.5\" id=\"123,96\" style=\"stroke:rgb(89.4%,10.2%,11%);stroke-opacity:1.0\"></path><path d=\"M 308.1 368.7 L 331.5 380.0 A 103.8 103.8 0 0 0 328.6 386.5\" id=\"123,95\" style=\"stroke:rgb(89.4%,10.2%,11%);stroke-opacity:1.0\"></path><path d=\"M 379.0 303.7 L 388.2 328.0 A 103.8 103.8 0 0 1 388.2 328.0\" id=\"122,94\" style=\"stroke:rgb(89.4%,10.2%,11%);stroke-opacity:1.0\"></path><path d=\"M 471.0 303.7 L 461.8 328.0 A 103.8 103.8 0 0 1 498.6 351.8\" id=\"121,93\" style=\"stroke:rgb(89.4%,10.2%,11%);stroke-opacity:1.0\"></path><path d=\"M 509.3 326.4 L 492.5 346.2 A 103.8 103.8 0 0 1 498.6 351.8\" id=\"121,92\" style=\"stroke:rgb(89.4%,10.2%,11%);stroke-opacity:1.0\"></path><path d=\"M 549.8 389.6 L 524.8 396.7 A 103.8 103.8 0 0 0 498.6 351.8\" id=\"121,91\" style=\"stroke:rgb(89.4%,10.2%,11%);stroke-opacity:1.0\"></path><path d=\"M 580.3 435.7 L 554.4 433.9 A 129.7 129.7 0 0 1 554.4 433.9\" id=\"120,90\" style=\"stroke:rgb(100%,49.8%,0%);stroke-opacity:1.0\"></path><path d=\"M 579.2 446.4 L 553.5 442.9 A 129.7 129.7 0 0 1 553.5 442.9\" id=\"119,89\" style=\"stroke:rgb(21.6%,49.4%,72.2%);stroke-opacity:1.0\"></path><path d=\"M 577.3 457.0 L 551.9 451.7 A 129.7 129.7 0 0 1 550.9 456.0\" id=\"118,88\" style=\"stroke:rgb(21.6%,49.4%,72.2%);stroke-opacity:1.0\"></path><path d=\"M 574.8 467.4 L 549.8 460.4 A 129.7 129.7 0 0 0 550.9 456.0\" id=\"118,87\" style=\"stroke:rgb(21.6%,49.4%,72.2%);stroke-opacity:1.0\"></path><path d=\"M 571.5 477.7 L 547.1 468.9 A 129.7 129.7 0 0 1 543.7 477.2\" id=\"117,86\" style=\"stroke:rgb(21.6%,49.4%,72.2%);stroke-opacity:1.0\"></path><path d=\"M 567.5 487.6 L 543.7 477.2 A 129.7 129.7 0 0 1 543.7 477.2\" id=\"117,85\" style=\"stroke:rgb(21.6%,49.4%,72.2%);stroke-opacity:1.0\"></path><path d=\"M 562.8 497.3 L 539.9 485.3 A 129.7 129.7 0 0 0 543.7 477.2\" id=\"117,84\" style=\"stroke:rgb(21.6%,49.4%,72.2%);stroke-opacity:1.0\"></path><path d=\"M 557.5 506.7 L 535.4 493.1 A 129.7 129.7 0 0 1 535.4 493.1\" id=\"116,83\" style=\"stroke:rgb(59.6%,30.6%,63.9%);stroke-opacity:1.0\"></path><path d=\"M 551.6 515.6 L 530.5 500.5 A 129.7 129.7 0 0 1 530.5 500.5\" id=\"115,82\" style=\"stroke:rgb(59.6%,30.6%,63.9%);stroke-opacity:1.0\"></path><path d=\"M 545.0 524.1 L 525.0 507.6 A 129.7 129.7 0 0 1 512.7 520.6\" id=\"114,81\" style=\"stroke:rgb(59.6%,30.6%,63.9%);stroke-opacity:1.0\"></path><path d=\"M 537.9 532.2 L 519.1 514.3 A 129.7 129.7 0 0 1 512.7 520.6\" id=\"114,80\" style=\"stroke:rgb(59.6%,30.6%,63.9%);stroke-opacity:1.0\"></path><path d=\"M 530.2 539.7 L 512.7 520.6 A 129.7 129.7 0 0 1 512.7 520.6\" id=\"114,79\" style=\"stroke:rgb(59.6%,30.6%,63.9%);stroke-opacity:1.0\"></path><path d=\"M 522.0 546.7 L 505.9 526.4 A 129.7 129.7 0 0 0 512.7 520.6\" id=\"114,78\" style=\"stroke:rgb(59.6%,30.6%,63.9%);stroke-opacity:1.0\"></path><path d=\"M 513.4 553.1 L 498.7 531.7 A 129.7 129.7 0 0 0 512.7 520.6\" id=\"114,77\" style=\"stroke:rgb(59.6%,30.6%,63.9%);stroke-opacity:1.0\"></path><path d=\"M 504.4 558.9 L 491.1 536.6 A 129.7 129.7 0 0 1 491.1 536.6\" id=\"113,76\" style=\"stroke:rgb(30.2%,68.6%,29%);stroke-opacity:1.0\"></path><path d=\"M 494.9 564.0 L 483.3 540.9 A 129.7 129.7 0 0 1 483.3 540.9\" id=\"112,75\" style=\"stroke:rgb(30.2%,68.6%,29%);stroke-opacity:1.0\"></path><path d=\"M 485.2 568.5 L 475.2 544.6 A 129.7 129.7 0 0 1 471.0 546.3\" id=\"111,74\" style=\"stroke:rgb(30.2%,68.6%,29%);stroke-opacity:1.0\"></path><path d=\"M 475.1 572.3 L 466.8 547.8 A 129.7 129.7 0 0 0 471.0 546.3\" id=\"111,73\" style=\"stroke:rgb(30.2%,68.6%,29%);stroke-opacity:1.0\"></path><path d=\"M 464.9 575.5 L 458.2 550.4 A 129.7 129.7 0 0 1 453.9 551.4\" id=\"110,72\" style=\"stroke:rgb(30.2%,68.6%,29%);stroke-opacity:1.0\"></path><path d=\"M 454.4 577.8 L 449.5 552.4 A 129.7 129.7 0 0 0 453.9 551.4\" id=\"110,71\" style=\"stroke:rgb(30.2%,68.6%,29%);stroke-opacity:1.0\"></path><path d=\"M 443.8 579.5 L 440.6 553.8 A 129.7 129.7 0 0 1 436.2 554.2\" id=\"109,70\" style=\"stroke:rgb(30.2%,68.6%,29%);stroke-opacity:1.0\"></path><path d=\"M 433.1 580.4 L 431.7 554.5 A 129.7 129.7 0 0 0 436.2 554.2\" id=\"109,69\" style=\"stroke:rgb(30.2%,68.6%,29%);stroke-opacity:1.0\"></path><path d=\"M 422.3 580.6 L 422.8 554.7 A 129.7 129.7 0 0 1 404.9 553.1\" id=\"108,68\" style=\"stroke:rgb(30.2%,68.6%,29%);stroke-opacity:1.0\"></path><path d=\"M 411.6 580.1 L 413.8 554.2 A 129.7 129.7 0 0 1 404.9 553.1\" id=\"108,67\" style=\"stroke:rgb(30.2%,68.6%,29%);stroke-opacity:1.0\"></path><path d=\"M 400.9 578.8 L 404.9 553.1 A 129.7 129.7 0 0 0 404.9 553.1\" id=\"108,66\" style=\"stroke:rgb(30.2%,68.6%,29%);stroke-opacity:1.0\"></path><path d=\"M 390.4 576.7 L 396.1 551.5 A 129.7 129.7 0 0 0 404.9 553.1\" id=\"108,65\" style=\"stroke:rgb(30.2%,68.6%,29%);stroke-opacity:1.0\"></path><path d=\"M 380.0 574.0 L 387.5 549.2 A 129.7 129.7 0 0 0 404.9 553.1\" id=\"108,64\" style=\"stroke:rgb(30.2%,68.6%,29%);stroke-opacity:1.0\"></path><path d=\"M 369.8 570.5 L 379.0 546.3 A 129.7 129.7 0 0 1 374.8 544.6\" id=\"107,63\" style=\"stroke:rgb(89.4%,10.2%,11%);stroke-opacity:1.0\"></path><path d=\"M 359.9 566.4 L 370.7 542.8 A 129.7 129.7 0 0 0 374.8 544.6\" id=\"107,62\" style=\"stroke:rgb(89.4%,10.2%,11%);stroke-opacity:1.0\"></path><path d=\"M 350.3 561.5 L 362.7 538.8 A 129.7 129.7 0 0 1 355.0 534.2\" id=\"106,61\" style=\"stroke:rgb(89.4%,10.2%,11%);stroke-opacity:1.0\"></path><path d=\"M 341.1 556.1 L 355.0 534.2 A 129.7 129.7 0 0 0 355.0 534.2\" id=\"106,60\" style=\"stroke:rgb(89.4%,10.2%,11%);stroke-opacity:1.0\"></path><path d=\"M 332.2 550.0 L 347.7 529.1 A 129.7 129.7 0 0 0 355.0 534.2\" id=\"106,59\" style=\"stroke:rgb(89.4%,10.2%,11%);stroke-opacity:1.0\"></path><path d=\"M 323.8 543.3 L 340.7 523.6 A 129.7 129.7 0 0 0 340.7 523.6\" id=\"105,58\" style=\"stroke:rgb(89.4%,10.2%,11%);stroke-opacity:1.0\"></path><path d=\"M 315.9 536.0 L 334.1 517.5 A 129.7 129.7 0 0 0 334.1 517.5\" id=\"104,57\" style=\"stroke:rgb(89.4%,10.2%,11%);stroke-opacity:1.0\"></path><path d=\"M 308.5 528.2 L 327.9 511.0 A 129.7 129.7 0 0 0 327.9 511.0\" id=\"103,56\" style=\"stroke:rgb(89.4%,10.2%,11%);stroke-opacity:1.0\"></path><path d=\"M 301.6 519.9 L 322.2 504.1 A 129.7 129.7 0 0 1 314.6 493.1\" id=\"102,55\" style=\"stroke:rgb(89.4%,10.2%,11%);stroke-opacity:1.0\"></path><path d=\"M 295.4 511.2 L 317.0 496.8 A 129.7 129.7 0 0 1 314.6 493.1\" id=\"102,54\" style=\"stroke:rgb(89.4%,10.2%,11%);stroke-opacity:1.0\"></path><path d=\"M 289.8 502.0 L 312.3 489.2 A 129.7 129.7 0 0 0 314.6 493.1\" id=\"102,53\" style=\"stroke:rgb(89.4%,10.2%,11%);stroke-opacity:1.0\"></path><path d=\"M 284.8 492.5 L 308.1 481.3 A 129.7 129.7 0 0 0 314.6 493.1\" id=\"102,52\" style=\"stroke:rgb(89.4%,10.2%,11%);stroke-opacity:1.0\"></path><path d=\"M 280.4 482.7 L 304.5 473.1 A 129.7 129.7 0 0 1 299.1 456.0\" id=\"101,51\" style=\"stroke:rgb(89.4%,10.2%,11%);stroke-opacity:1.0\"></path><path d=\"M 276.8 472.6 L 301.5 464.7 A 129.7 129.7 0 0 1 299.1 456.0\" id=\"101,50\" style=\"stroke:rgb(89.4%,10.2%,11%);stroke-opacity:1.0\"></path><path d=\"M 273.9 462.2 L 299.1 456.0 A 129.7 129.7 0 0 0 299.1 456.0\" id=\"101,49\" style=\"stroke:rgb(89.4%,10.2%,11%);stroke-opacity:1.0\"></path><path d=\"M 271.7 451.7 L 297.2 447.3 A 129.7 129.7 0 0 0 299.1 456.0\" id=\"101,48\" style=\"stroke:rgb(89.4%,10.2%,11%);stroke-opacity:1.0\"></path><path d=\"M 270.2 441.1 L 296.0 438.4 A 129.7 129.7 0 0 0 299.1 456.0\" id=\"101,47\" style=\"stroke:rgb(89.4%,10.2%,11%);stroke-opacity:1.0\"></path><path d=\"M 269.4 430.4 L 295.4 429.5 A 129.7 129.7 0 0 0 295.4 429.5\" id=\"100,46\" style=\"stroke:rgb(89.4%,10.2%,11%);stroke-opacity:1.0\"></path><path d=\"M 269.4 419.6 L 295.4 420.5 A 129.7 129.7 0 0 1 295.4 420.5\" id=\"99,45\" style=\"stroke:rgb(89.4%,10.2%,11%);stroke-opacity:1.0\"></path><path d=\"M 270.2 408.9 L 296.0 411.6 A 129.7 129.7 0 0 1 296.0 411.6\" id=\"98,44\" style=\"stroke:rgb(89.4%,10.2%,11%);stroke-opacity:1.0\"></path><path d=\"M 271.7 398.3 L 297.2 402.7 A 129.7 129.7 0 0 1 298.1 398.3\" id=\"97,43\" style=\"stroke:rgb(89.4%,10.2%,11%);stroke-opacity:1.0\"></path><path d=\"M 273.9 387.8 L 299.1 394.0 A 129.7 129.7 0 0 0 298.1 398.3\" id=\"97,42\" style=\"stroke:rgb(89.4%,10.2%,11%);stroke-opacity:1.0\"></path><path d=\"M 276.8 377.4 L 301.5 385.3 A 129.7 129.7 0 0 1 301.5 385.3\" id=\"96,41\" style=\"stroke:rgb(89.4%,10.2%,11%);stroke-opacity:1.0\"></path><path d=\"M 280.4 367.3 L 304.5 376.9 A 129.7 129.7 0 0 1 308.1 368.7\" id=\"95,40\" style=\"stroke:rgb(89.4%,10.2%,11%);stroke-opacity:1.0\"></path><path d=\"M 284.8 357.5 L 308.1 368.7 A 129.7 129.7 0 0 1 308.1 368.7\" id=\"95,39\" style=\"stroke:rgb(89.4%,10.2%,11%);stroke-opacity:1.0\"></path><path d=\"M 289.8 348.0 L 312.3 360.8 A 129.7 129.7 0 0 0 308.1 368.7\" id=\"95,38\" style=\"stroke:rgb(89.4%,10.2%,11%);stroke-opacity:1.0\"></path><path d=\"M 295.4 338.8 L 317.0 353.2 A 129.7 129.7 0 0 1 379.0 303.7\" id=\"94,37\" style=\"stroke:rgb(89.4%,10.2%,11%);stroke-opacity:1.0\"></path><path d=\"M 301.6 330.1 L 322.2 345.9 A 129.7 129.7 0 0 1 379.0 303.7\" id=\"94,36\" style=\"stroke:rgb(89.4%,10.2%,11%);stroke-opacity:1.0\"></path><path d=\"M 308.5 321.8 L 327.9 339.0 A 129.7 129.7 0 0 1 379.0 303.7\" id=\"94,35\" style=\"stroke:rgb(89.4%,10.2%,11%);stroke-opacity:1.0\"></path><path d=\"M 315.9 314.0 L 334.1 332.5 A 129.7 129.7 0 0 1 379.0 303.7\" id=\"94,34\" style=\"stroke:rgb(89.4%,10.2%,11%);stroke-opacity:1.0\"></path><path d=\"M 323.8 306.7 L 340.7 326.4 A 129.7 129.7 0 0 1 379.0 303.7\" id=\"94,33\" style=\"stroke:rgb(89.4%,10.2%,11%);stroke-opacity:1.0\"></path><path d=\"M 332.2 300.0 L 347.7 320.9 A 129.7 129.7 0 0 1 379.0 303.7\" id=\"94,32\" style=\"stroke:rgb(89.4%,10.2%,11%);stroke-opacity:1.0\"></path><path d=\"M 341.1 293.9 L 355.0 315.8 A 129.7 129.7 0 0 1 379.0 303.7\" id=\"94,31\" style=\"stroke:rgb(89.4%,10.2%,11%);stroke-opacity:1.0\"></path><path d=\"M 350.3 288.5 L 362.7 311.2 A 129.7 129.7 0 0 1 379.0 303.7\" id=\"94,30\" style=\"stroke:rgb(89.4%,10.2%,11%);stroke-opacity:1.0\"></path><path d=\"M 359.9 283.6 L 370.7 307.2 A 129.7 129.7 0 0 1 379.0 303.7\" id=\"94,29\" style=\"stroke:rgb(89.4%,10.2%,11%);stroke-opacity:1.0\"></path><path d=\"M 369.8 279.5 L 379.0 303.7 A 129.7 129.7 0 0 1 379.0 303.7\" id=\"94,28\" style=\"stroke:rgb(89.4%,10.2%,11%);stroke-opacity:1.0\"></path><path d=\"M 380.0 276.0 L 387.5 300.8 A 129.7 129.7 0 0 0 379.0 303.7\" id=\"94,27\" style=\"stroke:rgb(89.4%,10.2%,11%);stroke-opacity:1.0\"></path><path d=\"M 390.4 273.3 L 396.1 298.5 A 129.7 129.7 0 0 0 379.0 303.7\" id=\"94,26\" style=\"stroke:rgb(89.4%,10.2%,11%);stroke-opacity:1.0\"></path><path d=\"M 400.9 271.2 L 404.9 296.9 A 129.7 129.7 0 0 0 379.0 303.7\" id=\"94,25\" style=\"stroke:rgb(89.4%,10.2%,11%);stroke-opacity:1.0\"></path><path d=\"M 411.6 269.9 L 413.8 295.8 A 129.7 129.7 0 0 0 379.0 303.7\" id=\"94,24\" style=\"stroke:rgb(89.4%,10.2%,11%);stroke-opacity:1.0\"></path><path d=\"M 422.3 269.4 L 422.8 295.3 A 129.7 129.7 0 0 0 379.0 303.7\" id=\"94,23\" style=\"stroke:rgb(89.4%,10.2%,11%);stroke-opacity:1.0\"></path><path d=\"M 433.1 269.6 L 431.7 295.5 A 129.7 129.7 0 0 0 379.0 303.7\" id=\"94,22\" style=\"stroke:rgb(89.4%,10.2%,11%);stroke-opacity:1.0\"></path><path d=\"M 443.8 270.5 L 440.6 296.2 A 129.7 129.7 0 0 0 379.0 303.7\" id=\"94,21\" style=\"stroke:rgb(89.4%,10.2%,11%);stroke-opacity:1.0\"></path><path d=\"M 454.4 272.2 L 449.5 297.6 A 129.7 129.7 0 0 0 379.0 303.7\" id=\"94,20\" style=\"stroke:rgb(89.4%,10.2%,11%);stroke-opacity:1.0\"></path><path d=\"M 464.9 274.5 L 458.2 299.6 A 129.7 129.7 0 0 0 379.0 303.7\" id=\"94,19\" style=\"stroke:rgb(89.4%,10.2%,11%);stroke-opacity:1.0\"></path><path d=\"M 475.1 277.7 L 466.8 302.2 A 129.7 129.7 0 0 1 471.0 303.7\" id=\"93,18\" style=\"stroke:rgb(89.4%,10.2%,11%);stroke-opacity:1.0\"></path><path d=\"M 485.2 281.5 L 475.2 305.4 A 129.7 129.7 0 0 0 471.0 303.7\" id=\"93,17\" style=\"stroke:rgb(89.4%,10.2%,11%);stroke-opacity:1.0\"></path><path d=\"M 494.9 286.0 L 483.3 309.1 A 129.7 129.7 0 0 1 509.3 326.4\" id=\"92,16\" style=\"stroke:rgb(89.4%,10.2%,11%);stroke-opacity:1.0\"></path><path d=\"M 504.4 291.1 L 491.1 313.4 A 129.7 129.7 0 0 1 509.3 326.4\" id=\"92,15\" style=\"stroke:rgb(89.4%,10.2%,11%);stroke-opacity:1.0\"></path><path d=\"M 513.4 296.9 L 498.7 318.3 A 129.7 129.7 0 0 1 509.3 326.4\" id=\"92,14\" style=\"stroke:rgb(89.4%,10.2%,11%);stroke-opacity:1.0\"></path><path d=\"M 522.0 303.3 L 505.9 323.6 A 129.7 129.7 0 0 1 509.3 326.4\" id=\"92,13\" style=\"stroke:rgb(89.4%,10.2%,11%);stroke-opacity:1.0\"></path><path d=\"M 530.2 310.3 L 512.7 329.4 A 129.7 129.7 0 0 0 509.3 326.4\" id=\"92,12\" style=\"stroke:rgb(89.4%,10.2%,11%);stroke-opacity:1.0\"></path><path d=\"M 537.9 317.8 L 519.1 335.7 A 129.7 129.7 0 0 0 509.3 326.4\" id=\"92,11\" style=\"stroke:rgb(89.4%,10.2%,11%);stroke-opacity:1.0\"></path><path d=\"M 545.0 325.9 L 525.0 342.4 A 129.7 129.7 0 0 0 509.3 326.4\" id=\"92,10\" style=\"stroke:rgb(89.4%,10.2%,11%);stroke-opacity:1.0\"></path><path d=\"M 551.6 334.4 L 530.5 349.5 A 129.7 129.7 0 0 0 509.3 326.4\" id=\"92,9\" style=\"stroke:rgb(89.4%,10.2%,11%);stroke-opacity:1.0\"></path><path d=\"M 557.5 343.3 L 535.4 356.9 A 129.7 129.7 0 0 1 549.8 389.6\" id=\"91,8\" style=\"stroke:rgb(89.4%,10.2%,11%);stroke-opacity:1.0\"></path><path d=\"M 562.8 352.7 L 539.9 364.7 A 129.7 129.7 0 0 1 549.8 389.6\" id=\"91,7\" style=\"stroke:rgb(89.4%,10.2%,11%);stroke-opacity:1.0\"></path><path d=\"M 567.5 362.4 L 543.7 372.8 A 129.7 129.7 0 0 1 549.8 389.6\" id=\"91,6\" style=\"stroke:rgb(89.4%,10.2%,11%);stroke-opacity:1.0\"></path><path d=\"M 571.5 372.3 L 547.1 381.1 A 129.7 129.7 0 0 1 549.8 389.6\" id=\"91,5\" style=\"stroke:rgb(89.4%,10.2%,11%);stroke-opacity:1.0\"></path><path d=\"M 574.8 382.6 L 549.8 389.6 A 129.7 129.7 0 0 0 549.8 389.6\" id=\"91,4\" style=\"stroke:rgb(89.4%,10.2%,11%);stroke-opacity:1.0\"></path><path d=\"M 577.3 393.0 L 551.9 398.3 A 129.7 129.7 0 0 0 549.8 389.6\" id=\"91,3\" style=\"stroke:rgb(89.4%,10.2%,11%);stroke-opacity:1.0\"></path><path d=\"M 579.2 403.6 L 553.5 407.1 A 129.7 129.7 0 0 0 549.8 389.6\" id=\"91,2\" style=\"stroke:rgb(89.4%,10.2%,11%);stroke-opacity:1.0\"></path><path d=\"M 580.3 414.3 L 554.4 416.1 A 129.7 129.7 0 0 0 549.8 389.6\" id=\"91,1\" style=\"stroke:rgb(89.4%,10.2%,11%);stroke-opacity:1.0\"></path><path d=\"M 580.7 425.0 L 554.7 425.0 A 129.7 129.7 0 0 0 549.8 389.6\" id=\"91,0\" style=\"stroke:rgb(89.4%,10.2%,11%);stroke-opacity:1.0\"></path></g><g class=\"toytree-AlignEdges\" style=\"stroke:rgb(66.3%,66.3%,66.3%);stroke-dasharray:2, 4;stroke-linecap:round;stroke-opacity:1.0;stroke-width:2\"><path d=\"M 580.7 425.0 L 580.7 425.0\"></path><path d=\"M 580.3 414.3 L 580.3 414.3\"></path><path d=\"M 579.2 403.6 L 579.2 403.6\"></path><path d=\"M 577.3 393.0 L 577.3 393.0\"></path><path d=\"M 574.8 382.6 L 574.8 382.6\"></path><path d=\"M 571.5 372.3 L 571.5 372.3\"></path><path d=\"M 567.5 362.4 L 567.5 362.4\"></path><path d=\"M 562.8 352.7 L 562.8 352.7\"></path><path d=\"M 557.5 343.3 L 557.5 343.3\"></path><path d=\"M 551.6 334.4 L 551.6 334.4\"></path><path d=\"M 545.0 325.9 L 545.0 325.9\"></path><path d=\"M 537.9 317.8 L 537.9 317.8\"></path><path d=\"M 530.2 310.3 L 530.2 310.3\"></path><path d=\"M 522.0 303.3 L 522.0 303.3\"></path><path d=\"M 513.4 296.9 L 513.4 296.9\"></path><path d=\"M 504.4 291.1 L 504.4 291.1\"></path><path d=\"M 494.9 286.0 L 494.9 286.0\"></path><path d=\"M 485.2 281.5 L 485.2 281.5\"></path><path d=\"M 475.1 277.7 L 475.1 277.7\"></path><path d=\"M 464.9 274.5 L 464.9 274.5\"></path><path d=\"M 454.4 272.2 L 454.4 272.2\"></path><path d=\"M 443.8 270.5 L 443.8 270.5\"></path><path d=\"M 433.1 269.6 L 433.1 269.6\"></path><path d=\"M 422.3 269.4 L 422.3 269.4\"></path><path d=\"M 411.6 269.9 L 411.6 269.9\"></path><path d=\"M 400.9 271.2 L 400.9 271.2\"></path><path d=\"M 390.4 273.3 L 390.4 273.3\"></path><path d=\"M 380.0 276.0 L 380.0 276.0\"></path><path d=\"M 369.8 279.5 L 369.8 279.5\"></path><path d=\"M 359.9 283.6 L 359.9 283.6\"></path><path d=\"M 350.3 288.5 L 350.3 288.5\"></path><path d=\"M 341.1 293.9 L 341.1 293.9\"></path><path d=\"M 332.2 300.0 L 332.2 300.0\"></path><path d=\"M 323.8 306.7 L 323.8 306.7\"></path><path d=\"M 315.9 314.0 L 315.9 314.0\"></path><path d=\"M 308.5 321.8 L 308.5 321.8\"></path><path d=\"M 301.6 330.1 L 301.6 330.1\"></path><path d=\"M 295.4 338.8 L 295.4 338.8\"></path><path d=\"M 289.8 348.0 L 289.8 348.0\"></path><path d=\"M 284.8 357.5 L 284.8 357.5\"></path><path d=\"M 280.4 367.3 L 280.4 367.3\"></path><path d=\"M 276.8 377.4 L 276.8 377.4\"></path><path d=\"M 273.9 387.8 L 273.9 387.8\"></path><path d=\"M 271.7 398.3 L 271.7 398.3\"></path><path d=\"M 270.2 408.9 L 270.2 408.9\"></path><path d=\"M 269.4 419.6 L 269.4 419.6\"></path><path d=\"M 269.4 430.4 L 269.4 430.4\"></path><path d=\"M 270.2 441.1 L 270.2 441.1\"></path><path d=\"M 271.7 451.7 L 271.7 451.7\"></path><path d=\"M 273.9 462.2 L 273.9 462.2\"></path><path d=\"M 276.8 472.6 L 276.8 472.6\"></path><path d=\"M 280.4 482.7 L 280.4 482.7\"></path><path d=\"M 284.8 492.5 L 284.8 492.5\"></path><path d=\"M 289.8 502.0 L 289.8 502.0\"></path><path d=\"M 295.4 511.2 L 295.4 511.2\"></path><path d=\"M 301.6 519.9 L 301.6 519.9\"></path><path d=\"M 308.5 528.2 L 308.5 528.2\"></path><path d=\"M 315.9 536.0 L 315.9 536.0\"></path><path d=\"M 323.8 543.3 L 323.8 543.3\"></path><path d=\"M 332.2 550.0 L 332.2 550.0\"></path><path d=\"M 341.1 556.1 L 341.1 556.1\"></path><path d=\"M 350.3 561.5 L 350.3 561.5\"></path><path d=\"M 359.9 566.4 L 359.9 566.4\"></path><path d=\"M 369.8 570.5 L 369.8 570.5\"></path><path d=\"M 380.0 574.0 L 380.0 574.0\"></path><path d=\"M 390.4 576.7 L 390.4 576.7\"></path><path d=\"M 400.9 578.8 L 400.9 578.8\"></path><path d=\"M 411.6 580.1 L 411.6 580.1\"></path><path d=\"M 422.3 580.6 L 422.3 580.6\"></path><path d=\"M 433.1 580.4 L 433.1 580.4\"></path><path d=\"M 443.8 579.5 L 443.8 579.5\"></path><path d=\"M 454.4 577.8 L 454.4 577.8\"></path><path d=\"M 464.9 575.5 L 464.9 575.5\"></path><path d=\"M 475.1 572.3 L 475.1 572.3\"></path><path d=\"M 485.2 568.5 L 485.2 568.5\"></path><path d=\"M 494.9 564.0 L 494.9 564.0\"></path><path d=\"M 504.4 558.9 L 504.4 558.9\"></path><path d=\"M 513.4 553.1 L 513.4 553.1\"></path><path d=\"M 522.0 546.7 L 522.0 546.7\"></path><path d=\"M 530.2 539.7 L 530.2 539.7\"></path><path d=\"M 537.9 532.2 L 537.9 532.2\"></path><path d=\"M 545.0 524.1 L 545.0 524.1\"></path><path d=\"M 551.6 515.6 L 551.6 515.6\"></path><path d=\"M 557.5 506.7 L 557.5 506.7\"></path><path d=\"M 562.8 497.3 L 562.8 497.3\"></path><path d=\"M 567.5 487.6 L 567.5 487.6\"></path><path d=\"M 571.5 477.7 L 571.5 477.7\"></path><path d=\"M 574.8 467.4 L 574.8 467.4\"></path><path d=\"M 577.3 457.0 L 577.3 457.0\"></path><path d=\"M 579.2 446.4 L 579.2 446.4\"></path><path d=\"M 580.3 435.7 L 580.3 435.7\"></path></g><g class=\"toytree-Nodes\" style=\"fill:rgb(40%,76.1%,64.7%);fill-opacity:1.0;stroke:rgb(0%,0%,0%);stroke-opacity:1.0;stroke-width:1\"><g fill=\"rgb(0%,100%,100%)\" fill-opacity=\"1.0\" id=\"node-0\" transform=\"translate(580.653,425.000)\"><circle r=\"0.0\"></circle></g><g fill=\"rgb(0%,100%,100%)\" fill-opacity=\"1.0\" id=\"node-1\" transform=\"translate(580.282,414.262)\"><circle r=\"0.0\"></circle></g><g fill=\"rgb(0%,100%,100%)\" fill-opacity=\"1.0\" id=\"node-2\" transform=\"translate(579.171,403.576)\"><circle r=\"0.0\"></circle></g><g fill=\"rgb(0%,100%,100%)\" fill-opacity=\"1.0\" id=\"node-3\" transform=\"translate(577.325,392.991)\"><circle r=\"0.0\"></circle></g><g fill=\"rgb(0%,100%,100%)\" fill-opacity=\"1.0\" id=\"node-4\" transform=\"translate(574.754,382.559)\"><circle r=\"0.0\"></circle></g><g fill=\"rgb(0%,100%,100%)\" fill-opacity=\"1.0\" id=\"node-5\" transform=\"translate(571.469,372.330)\"><circle r=\"0.0\"></circle></g><g fill=\"rgb(0%,100%,100%)\" fill-opacity=\"1.0\" id=\"node-6\" transform=\"translate(567.486,362.351)\"><circle r=\"0.0\"></circle></g><g fill=\"rgb(0%,100%,100%)\" fill-opacity=\"1.0\" id=\"node-7\" transform=\"translate(562.823,352.671)\"><circle r=\"0.0\"></circle></g><g fill=\"rgb(0%,100%,100%)\" fill-opacity=\"1.0\" id=\"node-8\" transform=\"translate(557.505,343.336)\"><circle r=\"0.0\"></circle></g><g fill=\"rgb(0%,100%,100%)\" fill-opacity=\"1.0\" id=\"node-9\" transform=\"translate(551.554,334.389)\"><circle r=\"0.0\"></circle></g><g fill=\"rgb(0%,100%,100%)\" fill-opacity=\"1.0\" id=\"node-10\" transform=\"translate(545.001,325.875)\"><circle r=\"0.0\"></circle></g><g fill=\"rgb(0%,100%,100%)\" fill-opacity=\"1.0\" id=\"node-11\" transform=\"translate(537.876,317.833)\"><circle r=\"0.0\"></circle></g><g fill=\"rgb(0%,100%,100%)\" fill-opacity=\"1.0\" id=\"node-12\" transform=\"translate(530.212,310.301)\"><circle r=\"0.0\"></circle></g><g fill=\"rgb(0%,100%,100%)\" fill-opacity=\"1.0\" id=\"node-13\" transform=\"translate(522.048,303.317)\"><circle r=\"0.0\"></circle></g><g fill=\"rgb(0%,100%,100%)\" fill-opacity=\"1.0\" id=\"node-14\" transform=\"translate(513.421,296.912)\"><circle r=\"0.0\"></circle></g><g fill=\"rgb(0%,100%,100%)\" fill-opacity=\"1.0\" id=\"node-15\" transform=\"translate(504.372,291.117)\"><circle r=\"0.0\"></circle></g><g fill=\"rgb(0%,100%,100%)\" fill-opacity=\"1.0\" id=\"node-16\" transform=\"translate(494.946,285.961)\"><circle r=\"0.0\"></circle></g><g fill=\"rgb(0%,100%,100%)\" fill-opacity=\"1.0\" id=\"node-17\" transform=\"translate(485.186,281.467)\"><circle r=\"0.0\"></circle></g><g fill=\"rgb(0%,100%,100%)\" fill-opacity=\"1.0\" id=\"node-18\" transform=\"translate(475.139,277.657)\"><circle r=\"0.0\"></circle></g><g fill=\"rgb(0%,100%,100%)\" fill-opacity=\"1.0\" id=\"node-19\" transform=\"translate(464.853,274.549)\"><circle r=\"0.0\"></circle></g><g fill=\"rgb(0%,100%,100%)\" fill-opacity=\"1.0\" id=\"node-20\" transform=\"translate(454.377,272.158)\"><circle r=\"0.0\"></circle></g><g fill=\"rgb(0%,100%,100%)\" fill-opacity=\"1.0\" id=\"node-21\" transform=\"translate(443.762,270.496)\"><circle r=\"0.0\"></circle></g><g fill=\"rgb(0%,100%,100%)\" fill-opacity=\"1.0\" id=\"node-22\" transform=\"translate(433.057,269.570)\"><circle r=\"0.0\"></circle></g><g fill=\"rgb(0%,100%,100%)\" fill-opacity=\"1.0\" id=\"node-23\" transform=\"translate(422.313,269.384)\"><circle r=\"0.0\"></circle></g><g fill=\"rgb(0%,100%,100%)\" fill-opacity=\"1.0\" id=\"node-24\" transform=\"translate(411.583,269.940)\"><circle r=\"0.0\"></circle></g><g fill=\"rgb(0%,100%,100%)\" fill-opacity=\"1.0\" id=\"node-25\" transform=\"translate(400.916,271.235)\"><circle r=\"0.0\"></circle></g><g fill=\"rgb(0%,100%,100%)\" fill-opacity=\"1.0\" id=\"node-26\" transform=\"translate(390.364,273.263)\"><circle r=\"0.0\"></circle></g><g fill=\"rgb(0%,100%,100%)\" fill-opacity=\"1.0\" id=\"node-27\" transform=\"translate(379.977,276.014)\"><circle r=\"0.0\"></circle></g><g fill=\"rgb(0%,100%,100%)\" fill-opacity=\"1.0\" id=\"node-28\" transform=\"translate(369.805,279.475)\"><circle r=\"0.0\"></circle></g><g fill=\"rgb(0%,100%,100%)\" fill-opacity=\"1.0\" id=\"node-29\" transform=\"translate(359.896,283.629)\"><circle r=\"0.0\"></circle></g><g fill=\"rgb(0%,100%,100%)\" fill-opacity=\"1.0\" id=\"node-30\" transform=\"translate(350.297,288.457)\"><circle r=\"0.0\"></circle></g><g fill=\"rgb(0%,100%,100%)\" fill-opacity=\"1.0\" id=\"node-31\" transform=\"translate(341.053,293.936)\"><circle r=\"0.0\"></circle></g><g fill=\"rgb(0%,100%,100%)\" fill-opacity=\"1.0\" id=\"node-32\" transform=\"translate(332.210,300.040)\"><circle r=\"0.0\"></circle></g><g fill=\"rgb(0%,100%,100%)\" fill-opacity=\"1.0\" id=\"node-33\" transform=\"translate(323.810,306.738)\"><circle r=\"0.0\"></circle></g><g fill=\"rgb(0%,100%,100%)\" fill-opacity=\"1.0\" id=\"node-34\" transform=\"translate(315.891,314.001)\"><circle r=\"0.0\"></circle></g><g fill=\"rgb(0%,100%,100%)\" fill-opacity=\"1.0\" id=\"node-35\" transform=\"translate(308.492,321.792)\"><circle r=\"0.0\"></circle></g><g fill=\"rgb(0%,100%,100%)\" fill-opacity=\"1.0\" id=\"node-36\" transform=\"translate(301.649,330.075)\"><circle r=\"0.0\"></circle></g><g fill=\"rgb(0%,100%,100%)\" fill-opacity=\"1.0\" id=\"node-37\" transform=\"translate(295.393,338.811)\"><circle r=\"0.0\"></circle></g><g fill=\"rgb(0%,100%,100%)\" fill-opacity=\"1.0\" id=\"node-38\" transform=\"translate(289.755,347.957)\"><circle r=\"0.0\"></circle></g><g fill=\"rgb(0%,100%,100%)\" fill-opacity=\"1.0\" id=\"node-39\" transform=\"translate(284.762,357.471)\"><circle r=\"0.0\"></circle></g><g fill=\"rgb(0%,100%,100%)\" fill-opacity=\"1.0\" id=\"node-40\" transform=\"translate(280.437,367.306)\"><circle r=\"0.0\"></circle></g><g fill=\"rgb(0%,100%,100%)\" fill-opacity=\"1.0\" id=\"node-41\" transform=\"translate(276.800,377.416)\"><circle r=\"0.0\"></circle></g><g fill=\"rgb(0%,100%,100%)\" fill-opacity=\"1.0\" id=\"node-42\" transform=\"translate(273.870,387.753)\"><circle r=\"0.0\"></circle></g><g fill=\"rgb(0%,100%,100%)\" fill-opacity=\"1.0\" id=\"node-43\" transform=\"translate(271.661,398.268)\"><circle r=\"0.0\"></circle></g><g fill=\"rgb(0%,100%,100%)\" fill-opacity=\"1.0\" id=\"node-44\" transform=\"translate(270.182,408.909)\"><circle r=\"0.0\"></circle></g><g fill=\"rgb(0%,100%,100%)\" fill-opacity=\"1.0\" id=\"node-45\" transform=\"translate(269.440,419.628)\"><circle r=\"0.0\"></circle></g><g fill=\"rgb(0%,100%,100%)\" fill-opacity=\"1.0\" id=\"node-46\" transform=\"translate(269.440,430.372)\"><circle r=\"0.0\"></circle></g><g fill=\"rgb(0%,100%,100%)\" fill-opacity=\"1.0\" id=\"node-47\" transform=\"translate(270.182,441.091)\"><circle r=\"0.0\"></circle></g><g fill=\"rgb(0%,100%,100%)\" fill-opacity=\"1.0\" id=\"node-48\" transform=\"translate(271.661,451.732)\"><circle r=\"0.0\"></circle></g><g fill=\"rgb(0%,100%,100%)\" fill-opacity=\"1.0\" id=\"node-49\" transform=\"translate(273.870,462.247)\"><circle r=\"0.0\"></circle></g><g fill=\"rgb(0%,100%,100%)\" fill-opacity=\"1.0\" id=\"node-50\" transform=\"translate(276.800,472.584)\"><circle r=\"0.0\"></circle></g><g fill=\"rgb(0%,100%,100%)\" fill-opacity=\"1.0\" id=\"node-51\" transform=\"translate(280.437,482.694)\"><circle r=\"0.0\"></circle></g><g fill=\"rgb(0%,100%,100%)\" fill-opacity=\"1.0\" id=\"node-52\" transform=\"translate(284.762,492.529)\"><circle r=\"0.0\"></circle></g><g fill=\"rgb(0%,100%,100%)\" fill-opacity=\"1.0\" id=\"node-53\" transform=\"translate(289.755,502.043)\"><circle r=\"0.0\"></circle></g><g fill=\"rgb(0%,100%,100%)\" fill-opacity=\"1.0\" id=\"node-54\" transform=\"translate(295.393,511.189)\"><circle r=\"0.0\"></circle></g><g fill=\"rgb(0%,100%,100%)\" fill-opacity=\"1.0\" id=\"node-55\" transform=\"translate(301.649,519.925)\"><circle r=\"0.0\"></circle></g><g fill=\"rgb(0%,100%,100%)\" fill-opacity=\"1.0\" id=\"node-56\" transform=\"translate(308.492,528.208)\"><circle r=\"0.0\"></circle></g><g fill=\"rgb(0%,100%,100%)\" fill-opacity=\"1.0\" id=\"node-57\" transform=\"translate(315.891,535.999)\"><circle r=\"0.0\"></circle></g><g fill=\"rgb(0%,100%,100%)\" fill-opacity=\"1.0\" id=\"node-58\" transform=\"translate(323.810,543.262)\"><circle r=\"0.0\"></circle></g><g fill=\"rgb(0%,100%,100%)\" fill-opacity=\"1.0\" id=\"node-59\" transform=\"translate(332.210,549.960)\"><circle r=\"0.0\"></circle></g><g fill=\"rgb(0%,100%,100%)\" fill-opacity=\"1.0\" id=\"node-60\" transform=\"translate(341.053,556.064)\"><circle r=\"0.0\"></circle></g><g fill=\"rgb(0%,100%,100%)\" fill-opacity=\"1.0\" id=\"node-61\" transform=\"translate(350.297,561.543)\"><circle r=\"0.0\"></circle></g><g fill=\"rgb(0%,100%,100%)\" fill-opacity=\"1.0\" id=\"node-62\" transform=\"translate(359.896,566.371)\"><circle r=\"0.0\"></circle></g><g fill=\"rgb(0%,100%,100%)\" fill-opacity=\"1.0\" id=\"node-63\" transform=\"translate(369.805,570.525)\"><circle r=\"0.0\"></circle></g><g fill=\"rgb(0%,100%,100%)\" fill-opacity=\"1.0\" id=\"node-64\" transform=\"translate(379.977,573.986)\"><circle r=\"0.0\"></circle></g><g fill=\"rgb(0%,100%,100%)\" fill-opacity=\"1.0\" id=\"node-65\" transform=\"translate(390.364,576.737)\"><circle r=\"0.0\"></circle></g><g fill=\"rgb(0%,100%,100%)\" fill-opacity=\"1.0\" id=\"node-66\" transform=\"translate(400.916,578.765)\"><circle r=\"0.0\"></circle></g><g fill=\"rgb(0%,100%,100%)\" fill-opacity=\"1.0\" id=\"node-67\" transform=\"translate(411.583,580.060)\"><circle r=\"0.0\"></circle></g><g fill=\"rgb(0%,100%,100%)\" fill-opacity=\"1.0\" id=\"node-68\" transform=\"translate(422.313,580.616)\"><circle r=\"0.0\"></circle></g><g fill=\"rgb(0%,100%,100%)\" fill-opacity=\"1.0\" id=\"node-69\" transform=\"translate(433.057,580.430)\"><circle r=\"0.0\"></circle></g><g fill=\"rgb(0%,100%,100%)\" fill-opacity=\"1.0\" id=\"node-70\" transform=\"translate(443.762,579.504)\"><circle r=\"0.0\"></circle></g><g fill=\"rgb(0%,100%,100%)\" fill-opacity=\"1.0\" id=\"node-71\" transform=\"translate(454.377,577.842)\"><circle r=\"0.0\"></circle></g><g fill=\"rgb(0%,100%,100%)\" fill-opacity=\"1.0\" id=\"node-72\" transform=\"translate(464.853,575.451)\"><circle r=\"0.0\"></circle></g><g fill=\"rgb(0%,100%,100%)\" fill-opacity=\"1.0\" id=\"node-73\" transform=\"translate(475.139,572.343)\"><circle r=\"0.0\"></circle></g><g fill=\"rgb(0%,100%,100%)\" fill-opacity=\"1.0\" id=\"node-74\" transform=\"translate(485.186,568.533)\"><circle r=\"0.0\"></circle></g><g fill=\"rgb(100%,100%,100%)\" fill-opacity=\"1.0\" id=\"node-75\" transform=\"translate(494.946,564.039)\"><circle r=\"10.0\"></circle></g><g fill=\"rgb(0%,100%,100%)\" fill-opacity=\"1.0\" id=\"node-76\" transform=\"translate(504.372,558.883)\"><circle r=\"0.0\"></circle></g><g fill=\"rgb(0%,100%,100%)\" fill-opacity=\"1.0\" id=\"node-77\" transform=\"translate(513.421,553.088)\"><circle r=\"0.0\"></circle></g><g fill=\"rgb(0%,100%,100%)\" fill-opacity=\"1.0\" id=\"node-78\" transform=\"translate(522.048,546.683)\"><circle r=\"0.0\"></circle></g><g fill=\"rgb(0%,100%,100%)\" fill-opacity=\"1.0\" id=\"node-79\" transform=\"translate(530.212,539.699)\"><circle r=\"0.0\"></circle></g><g fill=\"rgb(0%,100%,100%)\" fill-opacity=\"1.0\" id=\"node-80\" transform=\"translate(537.876,532.167)\"><circle r=\"0.0\"></circle></g><g fill=\"rgb(0%,100%,100%)\" fill-opacity=\"1.0\" id=\"node-81\" transform=\"translate(545.001,524.125)\"><circle r=\"0.0\"></circle></g><g fill=\"rgb(0%,100%,100%)\" fill-opacity=\"1.0\" id=\"node-82\" transform=\"translate(551.554,515.611)\"><circle r=\"0.0\"></circle></g><g fill=\"rgb(0%,100%,100%)\" fill-opacity=\"1.0\" id=\"node-83\" transform=\"translate(557.505,506.664)\"><circle r=\"0.0\"></circle></g><g fill=\"rgb(0%,100%,100%)\" fill-opacity=\"1.0\" id=\"node-84\" transform=\"translate(562.823,497.329)\"><circle r=\"0.0\"></circle></g><g fill=\"rgb(0%,100%,100%)\" fill-opacity=\"1.0\" id=\"node-85\" transform=\"translate(567.486,487.649)\"><circle r=\"0.0\"></circle></g><g fill=\"rgb(0%,100%,100%)\" fill-opacity=\"1.0\" id=\"node-86\" transform=\"translate(571.469,477.670)\"><circle r=\"0.0\"></circle></g><g fill=\"rgb(0%,100%,100%)\" fill-opacity=\"1.0\" id=\"node-87\" transform=\"translate(574.754,467.441)\"><circle r=\"0.0\"></circle></g><g fill=\"rgb(0%,100%,100%)\" fill-opacity=\"1.0\" id=\"node-88\" transform=\"translate(577.325,457.009)\"><circle r=\"0.0\"></circle></g><g fill=\"rgb(0%,100%,100%)\" fill-opacity=\"1.0\" id=\"node-89\" transform=\"translate(579.171,446.424)\"><circle r=\"0.0\"></circle></g><g fill=\"rgb(0%,100%,100%)\" fill-opacity=\"1.0\" id=\"node-90\" transform=\"translate(580.282,435.738)\"><circle r=\"0.0\"></circle></g><g fill=\"rgb(0%,100%,100%)\" fill-opacity=\"1.0\" id=\"node-91\" transform=\"translate(549.795,389.633)\"><circle r=\"0.0\"></circle></g><g fill=\"rgb(0%,100%,100%)\" fill-opacity=\"1.0\" id=\"node-92\" transform=\"translate(509.325,326.449)\"><circle r=\"0.0\"></circle></g><g fill=\"rgb(0%,100%,100%)\" fill-opacity=\"1.0\" id=\"node-93\" transform=\"translate(470.996,303.729)\"><circle r=\"0.0\"></circle></g><g fill=\"rgb(0%,100%,100%)\" fill-opacity=\"1.0\" id=\"node-94\" transform=\"translate(379.004,303.729)\"><circle r=\"0.0\"></circle></g><g fill=\"rgb(0%,100%,100%)\" fill-opacity=\"1.0\" id=\"node-95\" transform=\"translate(308.135,368.726)\"><circle r=\"0.0\"></circle></g><g fill=\"rgb(0%,100%,100%)\" fill-opacity=\"1.0\" id=\"node-96\" transform=\"translate(301.500,385.347)\"><circle r=\"0.0\"></circle></g><g fill=\"rgb(0%,100%,100%)\" fill-opacity=\"1.0\" id=\"node-97\" transform=\"translate(298.062,398.326)\"><circle r=\"0.0\"></circle></g><g fill=\"rgb(0%,100%,100%)\" fill-opacity=\"1.0\" id=\"node-98\" transform=\"translate(295.985,411.591)\"><circle r=\"0.0\"></circle></g><g fill=\"rgb(0%,100%,100%)\" fill-opacity=\"1.0\" id=\"node-99\" transform=\"translate(295.367,420.523)\"><circle r=\"0.0\"></circle></g><g fill=\"rgb(0%,100%,100%)\" fill-opacity=\"1.0\" id=\"node-100\" transform=\"translate(295.367,429.477)\"><circle r=\"0.0\"></circle></g><g fill=\"rgb(0%,100%,100%)\" fill-opacity=\"1.0\" id=\"node-101\" transform=\"translate(299.059,456.039)\"><circle r=\"0.0\"></circle></g><g fill=\"rgb(0%,100%,100%)\" fill-opacity=\"1.0\" id=\"node-102\" transform=\"translate(314.580,493.054)\"><circle r=\"0.0\"></circle></g><g fill=\"rgb(0%,100%,100%)\" fill-opacity=\"1.0\" id=\"node-103\" transform=\"translate(327.910,511.006)\"><circle r=\"0.0\"></circle></g><g fill=\"rgb(0%,100%,100%)\" fill-opacity=\"1.0\" id=\"node-104\" transform=\"translate(334.076,517.499)\"><circle r=\"0.0\"></circle></g><g fill=\"rgb(0%,100%,100%)\" fill-opacity=\"1.0\" id=\"node-105\" transform=\"translate(340.675,523.551)\"><circle r=\"0.0\"></circle></g><g fill=\"rgb(0%,100%,100%)\" fill-opacity=\"1.0\" id=\"node-106\" transform=\"translate(355.045,534.220)\"><circle r=\"0.0\"></circle></g><g fill=\"rgb(0%,100%,100%)\" fill-opacity=\"1.0\" id=\"node-107\" transform=\"translate(374.845,544.611)\"><circle r=\"0.0\"></circle></g><g fill=\"rgb(0%,100%,100%)\" fill-opacity=\"1.0\" id=\"node-108\" transform=\"translate(404.930,553.137)\"><circle r=\"0.0\"></circle></g><g fill=\"rgb(0%,100%,100%)\" fill-opacity=\"1.0\" id=\"node-109\" transform=\"translate(436.181,554.216)\"><circle r=\"0.0\"></circle></g><g fill=\"rgb(0%,100%,100%)\" fill-opacity=\"1.0\" id=\"node-110\" transform=\"translate(453.863,551.447)\"><circle r=\"0.0\"></circle></g><g fill=\"rgb(0%,100%,100%)\" fill-opacity=\"1.0\" id=\"node-111\" transform=\"translate(470.996,546.271)\"><circle r=\"0.0\"></circle></g><g fill=\"rgb(0%,100%,100%)\" fill-opacity=\"1.0\" id=\"node-112\" transform=\"translate(483.288,540.866)\"><circle r=\"0.0\"></circle></g><g fill=\"rgb(0%,100%,100%)\" fill-opacity=\"1.0\" id=\"node-113\" transform=\"translate(491.144,536.569)\"><circle r=\"0.0\"></circle></g><g fill=\"rgb(0%,100%,100%)\" fill-opacity=\"1.0\" id=\"node-114\" transform=\"translate(512.677,520.582)\"><circle r=\"0.0\"></circle></g><g fill=\"rgb(0%,100%,100%)\" fill-opacity=\"1.0\" id=\"node-115\" transform=\"translate(530.462,500.509)\"><circle r=\"0.0\"></circle></g><g fill=\"rgb(0%,100%,100%)\" fill-opacity=\"1.0\" id=\"node-116\" transform=\"translate(535.420,493.054)\"><circle r=\"0.0\"></circle></g><g fill=\"rgb(0%,100%,100%)\" fill-opacity=\"1.0\" id=\"node-117\" transform=\"translate(543.738,477.207)\"><circle r=\"0.0\"></circle></g><g fill=\"rgb(0%,100%,100%)\" fill-opacity=\"1.0\" id=\"node-118\" transform=\"translate(550.941,456.039)\"><circle r=\"0.0\"></circle></g><g fill=\"rgb(0%,100%,100%)\" fill-opacity=\"1.0\" id=\"node-119\" transform=\"translate(553.476,442.854)\"><circle r=\"0.0\"></circle></g><g fill=\"rgb(0%,100%,100%)\" fill-opacity=\"1.0\" id=\"node-120\" transform=\"translate(554.401,433.948)\"><circle r=\"0.0\"></circle></g><g fill=\"rgb(100%,100%,100%)\" fill-opacity=\"1.0\" id=\"node-121\" transform=\"translate(498.586,351.842)\"><circle r=\"3.476874003189793\"></circle></g><g fill=\"rgb(0%,100%,100%)\" fill-opacity=\"1.0\" id=\"node-122\" transform=\"translate(388.203,327.983)\"><circle r=\"0.0\"></circle></g><g fill=\"rgb(0%,100%,100%)\" fill-opacity=\"1.0\" id=\"node-123\" transform=\"translate(328.624,386.537)\"><circle r=\"0.0\"></circle></g><g fill=\"rgb(0%,100%,100%)\" fill-opacity=\"1.0\" id=\"node-124\" transform=\"translate(323.450,403.661)\"><circle r=\"0.0\"></circle></g><g fill=\"rgb(0%,100%,100%)\" fill-opacity=\"1.0\" id=\"node-125\" transform=\"translate(321.788,414.273)\"><circle r=\"0.0\"></circle></g><g fill=\"rgb(0%,100%,100%)\" fill-opacity=\"1.0\" id=\"node-126\" transform=\"translate(321.293,421.419)\"><circle r=\"0.0\"></circle></g><g fill=\"rgb(0%,100%,100%)\" fill-opacity=\"1.0\" id=\"node-127\" transform=\"translate(321.293,428.581)\"><circle r=\"0.0\"></circle></g><g fill=\"rgb(0%,100%,100%)\" fill-opacity=\"1.0\" id=\"node-128\" transform=\"translate(329.303,465.120)\"><circle r=\"0.0\"></circle></g><g fill=\"rgb(0%,100%,100%)\" fill-opacity=\"1.0\" id=\"node-129\" transform=\"translate(352.261,498.999)\"><circle r=\"0.0\"></circle></g><g fill=\"rgb(0%,100%,100%)\" fill-opacity=\"1.0\" id=\"node-130\" transform=\"translate(369.036,512.376)\"><circle r=\"0.0\"></circle></g><g fill=\"rgb(0%,100%,100%)\" fill-opacity=\"1.0\" id=\"node-131\" transform=\"translate(384.876,520.689)\"><circle r=\"0.0\"></circle></g><g fill=\"rgb(0%,100%,100%)\" fill-opacity=\"1.0\" id=\"node-132\" transform=\"translate(450.991,525.452)\"><circle r=\"0.0\"></circle></g><g fill=\"rgb(0%,100%,100%)\" fill-opacity=\"1.0\" id=\"node-133\" transform=\"translate(506.500,489.225)\"><circle r=\"0.0\"></circle></g><g fill=\"rgb(0%,100%,100%)\" fill-opacity=\"1.0\" id=\"node-134\" transform=\"translate(523.237,458.423)\"><circle r=\"0.0\"></circle></g><g fill=\"rgb(0%,100%,100%)\" fill-opacity=\"1.0\" id=\"node-135\" transform=\"translate(527.781,439.283)\"><circle r=\"0.0\"></circle></g><g fill=\"rgb(0%,100%,100%)\" fill-opacity=\"1.0\" id=\"node-136\" transform=\"translate(528.521,432.158)\"><circle r=\"0.0\"></circle></g><g fill=\"rgb(0%,100%,100%)\" fill-opacity=\"1.0\" id=\"node-137\" transform=\"translate(361.132,380.531)\"><circle r=\"0.0\"></circle></g><g fill=\"rgb(0%,100%,100%)\" fill-opacity=\"1.0\" id=\"node-138\" transform=\"translate(360.571,468.652)\"><circle r=\"0.0\"></circle></g><g fill=\"rgb(0%,100%,100%)\" fill-opacity=\"1.0\" id=\"node-139\" transform=\"translate(388.832,493.906)\"><circle r=\"0.0\"></circle></g><g fill=\"rgb(0%,100%,100%)\" fill-opacity=\"1.0\" id=\"node-140\" transform=\"translate(444.493,500.339)\"><circle r=\"0.0\"></circle></g><g fill=\"rgb(0%,100%,100%)\" fill-opacity=\"1.0\" id=\"node-141\" transform=\"translate(486.125,473.169)\"><circle r=\"0.0\"></circle></g><g fill=\"rgb(0%,100%,100%)\" fill-opacity=\"1.0\" id=\"node-142\" transform=\"translate(500.723,442.971)\"><circle r=\"0.0\"></circle></g><g fill=\"rgb(0%,100%,100%)\" fill-opacity=\"1.0\" id=\"node-143\" transform=\"translate(502.641,430.369)\"><circle r=\"0.0\"></circle></g><g fill=\"rgb(0%,100%,100%)\" fill-opacity=\"1.0\" id=\"node-144\" transform=\"translate(376.410,443.191)\"><circle r=\"0.0\"></circle></g><g fill=\"rgb(0%,100%,100%)\" fill-opacity=\"1.0\" id=\"node-145\" transform=\"translate(437.996,475.226)\"><circle r=\"0.0\"></circle></g><g fill=\"rgb(0%,100%,100%)\" fill-opacity=\"1.0\" id=\"node-146\" transform=\"translate(465.750,457.113)\"><circle r=\"0.0\"></circle></g><g fill=\"rgb(0%,100%,100%)\" fill-opacity=\"1.0\" id=\"node-147\" transform=\"translate(475.482,436.980)\"><circle r=\"0.0\"></circle></g><g fill=\"rgb(0%,100%,100%)\" fill-opacity=\"1.0\" id=\"node-148\" transform=\"translate(476.761,428.579)\"><circle r=\"0.0\"></circle></g><g fill=\"rgb(0%,100%,100%)\" fill-opacity=\"1.0\" id=\"node-149\" transform=\"translate(438.707,447.023)\"><circle r=\"0.0\"></circle></g><g fill=\"rgb(0%,100%,100%)\" fill-opacity=\"1.0\" id=\"node-150\" transform=\"translate(425.000,425.000)\"><circle r=\"0.0\"></circle></g></g><g class=\"toytree-TipLabels\" style=\"fill:rgb(14.9%,14.9%,14.9%);fill-opacity:1.0;font-family:helvetica;font-size:12px;font-weight:normal;stroke:none;white-space:pre\"><g transform=\"translate(580.65,425.00)rotate(-0)\"><text x=\"15.00\" y=\"3.07\" style=\"fill:rgb(100%,0%,0%);fill-opacity:1.0\">Faecalibacterium</text></g><g transform=\"translate(580.28,414.26)rotate(-4)\"><text x=\"15.00\" y=\"3.07\" style=\"fill:rgb(100%,0%,0%);fill-opacity:1.0\">Subdoligranulum</text></g><g transform=\"translate(579.17,403.58)rotate(-8)\"><text x=\"15.00\" y=\"3.07\" style=\"fill:rgb(100%,0%,0%);fill-opacity:1.0\">Ruminococcus</text></g><g transform=\"translate(577.33,392.99)rotate(-12)\"><text x=\"15.00\" y=\"3.07\" style=\"fill:rgb(0%,0%,0%);fill-opacity:1.0\">Anaerofilum</text></g><g transform=\"translate(574.75,382.56)rotate(-16)\"><text x=\"15.00\" y=\"3.07\" style=\"fill:rgb(0%,0%,0%);fill-opacity:1.0\">Paludicola</text></g><g transform=\"translate(571.47,372.33)rotate(-20)\"><text x=\"15.00\" y=\"3.07\" style=\"fill:rgb(0%,0%,0%);fill-opacity:1.0\">UBA1819</text></g><g transform=\"translate(567.49,362.35)rotate(-24)\"><text x=\"15.00\" y=\"3.07\" style=\"fill:rgb(0%,0%,0%);fill-opacity:1.0\">Incertae_Sedis</text></g><g transform=\"translate(562.82,352.67)rotate(-28)\"><text x=\"15.00\" y=\"3.07\" style=\"fill:rgb(0%,0%,0%);fill-opacity:1.0\">Angelakisella</text></g><g transform=\"translate(557.50,343.34)rotate(-32)\"><text x=\"15.00\" y=\"3.07\" style=\"fill:rgb(0%,0%,0%);fill-opacity:1.0\">Negativibacillus</text></g><g transform=\"translate(551.55,334.39)rotate(-36)\"><text x=\"15.00\" y=\"3.07\" style=\"fill:rgb(0%,0%,0%);fill-opacity:1.0\">UCG-002</text></g><g transform=\"translate(545.00,325.87)rotate(-40)\"><text x=\"15.00\" y=\"3.07\" style=\"fill:rgb(0%,0%,0%);fill-opacity:1.0\">UCG-005</text></g><g transform=\"translate(537.88,317.83)rotate(-44)\"><text x=\"15.00\" y=\"3.07\" style=\"fill:rgb(0%,0%,0%);fill-opacity:1.0\">UCG-003</text></g><g transform=\"translate(530.21,310.30)rotate(-47)\"><text x=\"15.00\" y=\"3.07\" style=\"fill:rgb(0%,0%,0%);fill-opacity:1.0\">Flavonifractor</text></g><g transform=\"translate(522.05,303.32)rotate(-51)\"><text x=\"15.00\" y=\"3.07\" style=\"fill:rgb(0%,0%,0%);fill-opacity:1.0\">V9D2013_group</text></g><g transform=\"translate(513.42,296.91)rotate(-55)\"><text x=\"15.00\" y=\"3.07\" style=\"fill:rgb(0%,0%,0%);fill-opacity:1.0\">Oscillibacter</text></g><g transform=\"translate(504.37,291.12)rotate(-59)\"><text x=\"15.00\" y=\"3.07\" style=\"fill:rgb(0%,0%,0%);fill-opacity:1.0\">NK4A214_group</text></g><g transform=\"translate(494.95,285.96)rotate(-63)\"><text x=\"15.00\" y=\"3.07\" style=\"fill:rgb(0%,0%,0%);fill-opacity:1.0\">Intestinimonas</text></g><g transform=\"translate(485.19,281.47)rotate(-67)\"><text x=\"15.00\" y=\"3.07\" style=\"fill:rgb(0%,0%,0%);fill-opacity:1.0\">Butyricicoccus</text></g><g transform=\"translate(475.14,277.66)rotate(-71)\"><text x=\"15.00\" y=\"3.07\" style=\"fill:rgb(0%,0%,0%);fill-opacity:1.0\">UCG-008</text></g><g transform=\"translate(464.85,274.55)rotate(-75)\"><text x=\"15.00\" y=\"3.07\" style=\"fill:rgb(0%,0%,0%);fill-opacity:1.0\">Blautia</text></g><g transform=\"translate(454.38,272.16)rotate(-79)\"><text x=\"15.00\" y=\"3.07\" style=\"fill:rgb(0%,0%,0%);fill-opacity:1.0\">Dorea</text></g><g transform=\"translate(443.76,270.50)rotate(-83)\"><text x=\"15.00\" y=\"3.07\" style=\"fill:rgb(0%,0%,0%);fill-opacity:1.0\">Agathobacter</text></g><g transform=\"translate(433.06,269.57)rotate(-87)\"><text x=\"15.00\" y=\"3.07\" style=\"fill:rgb(0%,0%,0%);fill-opacity:1.0\">Fusicatenibacter</text></g><g transform=\"translate(422.31,269.38)rotate(89)\"><text x=\"-85.03\" y=\"3.07\" style=\"fill:rgb(0%,0%,0%);fill-opacity:1.0\">Anaerostipes</text></g><g transform=\"translate(411.58,269.94)rotate(85)\"><text x=\"-201.77\" y=\"3.07\" style=\"fill:rgb(0%,0%,0%);fill-opacity:1.0\">Lachnospiraceae_NK4A136_group</text></g><g transform=\"translate(400.92,271.24)rotate(81)\"><text x=\"-85.02\" y=\"3.07\" style=\"fill:rgb(0%,0%,0%);fill-opacity:1.0\">Coprococcus</text></g><g transform=\"translate(390.36,273.26)rotate(77)\"><text x=\"-69.68\" y=\"3.07\" style=\"fill:rgb(0%,0%,0%);fill-opacity:1.0\">Roseburia</text></g><g transform=\"translate(379.98,276.01)rotate(73)\"><text x=\"-111.70\" y=\"3.07\" style=\"fill:rgb(0%,0%,0%);fill-opacity:1.0\">Lachnoclostridium</text></g><g transform=\"translate(369.80,279.48)rotate(69)\"><text x=\"-73.68\" y=\"3.07\" style=\"fill:rgb(0%,0%,0%);fill-opacity:1.0\">Sellimonas</text></g><g transform=\"translate(359.90,283.63)rotate(65)\"><text x=\"-93.68\" y=\"3.07\" style=\"fill:rgb(0%,0%,0%);fill-opacity:1.0\">Marvinbryantia</text></g><g transform=\"translate(350.30,288.46)rotate(61)\"><text x=\"-70.34\" y=\"3.07\" style=\"fill:rgb(0%,0%,0%);fill-opacity:1.0\">Tuzzerella</text></g><g transform=\"translate(341.05,293.94)rotate(57)\"><text x=\"-193.76\" y=\"3.07\" style=\"fill:rgb(0%,0%,0%);fill-opacity:1.0\">Lachnospiraceae_AC2044_group</text></g><g transform=\"translate(332.21,300.04)rotate(53)\"><text x=\"-58.34\" y=\"3.07\" style=\"fill:rgb(0%,0%,0%);fill-opacity:1.0\">CAG-56</text></g><g transform=\"translate(323.81,306.74)rotate(49)\"><text x=\"-80.36\" y=\"3.07\" style=\"fill:rgb(0%,0%,0%);fill-opacity:1.0\">Lachnospira</text></g><g transform=\"translate(315.89,314.00)rotate(45)\"><text x=\"-163.73\" y=\"3.07\" style=\"fill:rgb(0%,0%,0%);fill-opacity:1.0\">Lachnospiraceae_UCG-003</text></g><g transform=\"translate(308.49,321.79)rotate(42)\"><text x=\"-90.36\" y=\"3.07\" style=\"fill:rgb(0%,0%,0%);fill-opacity:1.0\">Eisenbergiella</text></g><g transform=\"translate(301.65,330.08)rotate(38)\"><text x=\"-163.73\" y=\"3.07\" style=\"fill:rgb(0%,0%,0%);fill-opacity:1.0\">Lachnospiraceae_UCG-010</text></g><g transform=\"translate(295.39,338.81)rotate(34)\"><text x=\"-163.73\" y=\"3.07\" style=\"fill:rgb(0%,0%,0%);fill-opacity:1.0\">Lachnospiraceae_UCG-001</text></g><g transform=\"translate(289.76,347.96)rotate(30)\"><text x=\"-79.02\" y=\"3.07\" style=\"fill:rgb(0%,0%,0%);fill-opacity:1.0\">Romboutsia</text></g><g transform=\"translate(284.76,357.47)rotate(26)\"><text x=\"-103.02\" y=\"3.07\" style=\"fill:rgb(0%,0%,0%);fill-opacity:1.0\">Terrisporobacter</text></g><g transform=\"translate(280.44,367.31)rotate(22)\"><text x=\"-89.70\" y=\"3.07\" style=\"fill:rgb(0%,0%,0%);fill-opacity:1.0\">Intestinibacter</text></g><g transform=\"translate(276.80,377.42)rotate(18)\"><text x=\"-162.40\" y=\"3.07\" style=\"fill:rgb(0%,0%,0%);fill-opacity:1.0\">Family_XIII_AD3011_group</text></g><g transform=\"translate(273.87,387.75)rotate(14)\"><text x=\"-187.07\" y=\"3.07\" style=\"fill:rgb(0%,0%,0%);fill-opacity:1.0\">Christensenellaceae_R-7_group</text></g><g transform=\"translate(271.66,398.27)rotate(10)\"><text x=\"-97.69\" y=\"3.07\" style=\"fill:rgb(0%,0%,0%);fill-opacity:1.0\">Christensenella</text></g><g transform=\"translate(270.18,408.91)rotate(6)\"><text x=\"-80.36\" y=\"3.07\" style=\"fill:rgb(0%,0%,0%);fill-opacity:1.0\">Monoglobus</text></g><g transform=\"translate(269.44,419.63)rotate(2)\"><text x=\"-165.71\" y=\"3.07\" style=\"fill:rgb(0%,0%,0%);fill-opacity:1.0\">Clostridium_sensu_stricto_1</text></g><g transform=\"translate(269.44,430.37)rotate(-2)\"><text x=\"-83.70\" y=\"3.07\" style=\"fill:rgb(0%,0%,0%);fill-opacity:1.0\">Peptococcus</text></g><g transform=\"translate(270.18,441.09)rotate(-6)\"><text x=\"-88.36\" y=\"3.07\" style=\"fill:rgb(0%,0%,0%);fill-opacity:1.0\">Holdemanella</text></g><g transform=\"translate(271.66,451.73)rotate(-10)\"><text x=\"-77.68\" y=\"3.07\" style=\"fill:rgb(0%,0%,0%);fill-opacity:1.0\">Turicibacter</text></g><g transform=\"translate(273.87,462.25)rotate(-14)\"><text x=\"-93.04\" y=\"3.07\" style=\"fill:rgb(0%,0%,0%);fill-opacity:1.0\">Catenisphaera</text></g><g transform=\"translate(276.80,472.58)rotate(-18)\"><text x=\"-79.02\" y=\"3.07\" style=\"fill:rgb(0%,0%,0%);fill-opacity:1.0\">Holdemania</text></g><g transform=\"translate(280.44,482.69)rotate(-22)\"><text x=\"-79.69\" y=\"3.07\" style=\"fill:rgb(0%,0%,0%);fill-opacity:1.0\">Faecalitalea</text></g><g transform=\"translate(284.76,492.53)rotate(-26)\"><text x=\"-177.05\" y=\"3.07\" style=\"fill:rgb(0%,0%,0%);fill-opacity:1.0\">Erysipelotrichaceae_UCG-003</text></g><g transform=\"translate(289.76,502.04)rotate(-30)\"><text x=\"-102.36\" y=\"3.07\" style=\"fill:rgb(0%,0%,0%);fill-opacity:1.0\">Catenibacterium</text></g><g transform=\"translate(295.39,511.19)rotate(-34)\"><text x=\"-131.69\" y=\"3.07\" style=\"fill:rgb(0%,0%,0%);fill-opacity:1.0\">Erysipelatoclostridium</text></g><g transform=\"translate(301.65,519.92)rotate(-38)\"><text x=\"-87.68\" y=\"3.07\" style=\"fill:rgb(0%,0%,0%);fill-opacity:1.0\">Coprobacillus</text></g><g transform=\"translate(308.49,528.21)rotate(-42)\"><text x=\"-84.36\" y=\"3.07\" style=\"fill:rgb(0%,0%,0%);fill-opacity:1.0\">Lactobacillus</text></g><g transform=\"translate(315.89,536.00)rotate(-45)\"><text x=\"-91.03\" y=\"3.07\" style=\"fill:rgb(0%,0%,0%);fill-opacity:1.0\">Streptococcus</text></g><g transform=\"translate(323.81,543.26)rotate(-49)\"><text x=\"-87.70\" y=\"3.07\" style=\"fill:rgb(0%,0%,0%);fill-opacity:1.0\">Enterococcus</text></g><g transform=\"translate(332.21,549.96)rotate(-53)\"><text x=\"-58.33\" y=\"3.07\" style=\"fill:rgb(0%,0%,0%);fill-opacity:1.0\">Dialister</text></g><g transform=\"translate(341.05,556.06)rotate(-57)\"><text x=\"-88.37\" y=\"3.07\" style=\"fill:rgb(0%,0%,0%);fill-opacity:1.0\">Megasphaera</text></g><g transform=\"translate(350.30,561.54)rotate(-61)\"><text x=\"-69.68\" y=\"3.07\" style=\"fill:rgb(0%,0%,0%);fill-opacity:1.0\">Veillonella</text></g><g transform=\"translate(359.90,566.37)rotate(-65)\"><text x=\"-108.36\" y=\"3.07\" style=\"fill:rgb(0%,0%,0%);fill-opacity:1.0\">Acidaminococcus</text></g><g transform=\"translate(369.80,570.52)rotate(-69)\"><text x=\"-137.04\" y=\"3.07\" style=\"fill:rgb(0%,0%,0%);fill-opacity:1.0\">Phascolarctobacterium</text></g><g transform=\"translate(379.98,573.99)rotate(-73)\"><text x=\"-68.35\" y=\"3.07\" style=\"fill:rgb(0%,0%,0%);fill-opacity:1.0\">Prevotella</text></g><g transform=\"translate(390.36,576.74)rotate(-77)\"><text x=\"-183.08\" y=\"3.07\" style=\"fill:rgb(0%,0%,0%);fill-opacity:1.0\">Prevotellaceae_NK3B31_group</text></g><g transform=\"translate(400.92,578.76)rotate(-81)\"><text x=\"-92.36\" y=\"3.07\" style=\"fill:rgb(0%,0%,0%);fill-opacity:1.0\">Paraprevotella</text></g><g transform=\"translate(411.58,580.06)rotate(-85)\"><text x=\"-87.02\" y=\"3.07\" style=\"fill:rgb(0%,0%,0%);fill-opacity:1.0\">Alloprevotella</text></g><g transform=\"translate(422.31,580.62)rotate(-89)\"><text x=\"-189.10\" y=\"3.07\" style=\"fill:rgb(0%,0%,0%);fill-opacity:1.0\">Prevotellaceae_YAB2003_group</text></g><g transform=\"translate(433.06,580.43)rotate(-273)\"><text x=\"15.00\" y=\"3.07\" style=\"fill:rgb(66.3%,66.3%,66.3%);fill-opacity:1.0\">Alistipes</text></g><g transform=\"translate(443.76,579.50)rotate(-277)\"><text x=\"15.00\" y=\"3.07\" style=\"fill:rgb(0%,0%,0%);fill-opacity:1.0\">Rikenellaceae_RC9_gut_group</text></g><g transform=\"translate(454.38,577.84)rotate(-281)\"><text x=\"15.00\" y=\"3.07\" style=\"fill:rgb(0%,0%,0%);fill-opacity:1.0\">Barnesiella</text></g><g transform=\"translate(464.85,575.45)rotate(-285)\"><text x=\"15.00\" y=\"3.07\" style=\"fill:rgb(0%,0%,0%);fill-opacity:1.0\">Coprobacter</text></g><g transform=\"translate(475.14,572.34)rotate(-289)\"><text x=\"15.00\" y=\"3.07\" style=\"fill:rgb(0%,0%,0%);fill-opacity:1.0\">Odoribacter</text></g><g transform=\"translate(485.19,568.53)rotate(-293)\"><text x=\"15.00\" y=\"3.07\" style=\"fill:rgb(0%,0%,0%);fill-opacity:1.0\">Butyricimonas</text></g><g transform=\"translate(494.95,564.04)rotate(-297)\"><text x=\"15.00\" y=\"3.07\" style=\"fill:rgb(100%,0%,0%);fill-opacity:1.0\">Bacteroides</text></g><g transform=\"translate(504.37,558.88)rotate(-301)\"><text x=\"15.00\" y=\"3.07\" style=\"fill:rgb(100%,0%,0%);fill-opacity:1.0\">Parabacteroides</text></g><g transform=\"translate(513.42,553.09)rotate(-305)\"><text x=\"15.00\" y=\"3.07\" style=\"fill:rgb(0%,0%,0%);fill-opacity:1.0\">Eggerthella</text></g><g transform=\"translate(522.05,546.68)rotate(-309)\"><text x=\"15.00\" y=\"3.07\" style=\"fill:rgb(0%,0%,0%);fill-opacity:1.0\">Gordonibacter</text></g><g transform=\"translate(530.21,539.70)rotate(-313)\"><text x=\"15.00\" y=\"3.07\" style=\"fill:rgb(0%,0%,0%);fill-opacity:1.0\">Slackia</text></g><g transform=\"translate(537.88,532.17)rotate(-316)\"><text x=\"15.00\" y=\"3.07\" style=\"fill:rgb(0%,0%,0%);fill-opacity:1.0\">Senegalimassilia</text></g><g transform=\"translate(545.00,524.13)rotate(-320)\"><text x=\"15.00\" y=\"3.07\" style=\"fill:rgb(0%,0%,0%);fill-opacity:1.0\">Enterorhabdus</text></g><g transform=\"translate(551.55,515.61)rotate(-324)\"><text x=\"15.00\" y=\"3.07\" style=\"fill:rgb(0%,0%,0%);fill-opacity:1.0\">Collinsella</text></g><g transform=\"translate(557.50,506.66)rotate(-328)\"><text x=\"15.00\" y=\"3.07\" style=\"fill:rgb(0%,0%,0%);fill-opacity:1.0\">Atopobium</text></g><g transform=\"translate(562.82,497.33)rotate(-332)\"><text x=\"15.00\" y=\"3.07\" style=\"fill:rgb(0%,0%,0%);fill-opacity:1.0\">Cronobacter</text></g><g transform=\"translate(567.49,487.65)rotate(-336)\"><text x=\"15.00\" y=\"3.07\" style=\"fill:rgb(0%,0%,0%);fill-opacity:1.0\">Escherichia/Shigella</text></g><g transform=\"translate(571.47,477.67)rotate(-340)\"><text x=\"15.00\" y=\"3.07\" style=\"fill:rgb(0%,0%,0%);fill-opacity:1.0\">Enterobacter</text></g><g transform=\"translate(574.75,467.44)rotate(-344)\"><text x=\"15.00\" y=\"3.07\" style=\"fill:rgb(0%,0%,0%);fill-opacity:1.0\">Yersinia</text></g><g transform=\"translate(577.33,457.01)rotate(-348)\"><text x=\"15.00\" y=\"3.07\" style=\"fill:rgb(0%,0%,0%);fill-opacity:1.0\">Serratia</text></g><g transform=\"translate(579.17,446.42)rotate(-352)\"><text x=\"15.00\" y=\"3.07\" style=\"fill:rgb(0%,0%,0%);fill-opacity:1.0\">Parasutterella</text></g><g transform=\"translate(580.28,435.74)rotate(-356)\"><text x=\"15.00\" y=\"3.07\" style=\"fill:rgb(0%,0%,0%);fill-opacity:1.0\">Cloacibacillus</text></g></g></g></g></g><g class=\"toyplot-coordinates-Cartesian\" id=\"tacb86f04ea9c48f19775807c7f6088d1\"><clipPath id=\"t2f02910e0482473db4234c9a5bcaaa68\"><rect x=\"0.0\" y=\"50.0\" width=\"1000.0\" height=\"50.0\"></rect></clipPath><g clip-path=\"url(#t2f02910e0482473db4234c9a5bcaaa68)\"></g><g transform=\"translate(500.0,42.0)\"><text x=\"-20.615\" y=\"-4.823\" style=\"fill:rgb(16.1%,15.3%,14.1%);fill-opacity:1.0;font-family:helvetica;font-size:14.0px;font-weight:bold;stroke:none;vertical-align:baseline;white-space:pre\">Labus</text></g></g><g class=\"toyplot-coordinates-Table\" id=\"te1a6582177514586bea974d64a6bd1cb\"><g transform=\"translate(800.0,275.0)\"><text x=\"-25.284000000000002\" y=\"-10.423\" style=\"fill:rgb(16.1%,15.3%,14.1%);fill-opacity:1.0;font-family:helvetica;font-size:14.0px;font-weight:bold;stroke:none;vertical-align:baseline;white-space:pre\">Phylum</text></g><g transform=\"translate(795.0,285.0)\"><g style=\"fill:rgb(100%,49.8%,0%);fill-opacity:1.0\" transform=\"translate(-5.55, -4.440892098500626e-16)\"><circle r=\"4.0\"></circle></g></g><g transform=\"translate(805.0,285.0)\"><text x=\"0\" y=\"3.066\" style=\"fill:rgb(16.1%,15.3%,14.1%);fill-opacity:1.0;font-family:helvetica;font-size:12.0px;font-weight:normal;stroke:none;vertical-align:baseline;white-space:pre\">Synergistota</text></g><g transform=\"translate(795.0,305.0)\"><g style=\"fill:rgb(21.6%,49.4%,72.2%);fill-opacity:1.0\" transform=\"translate(-5.55, -4.440892098500626e-16)\"><circle r=\"4.0\"></circle></g></g><g transform=\"translate(805.0,305.0)\"><text x=\"0\" y=\"3.066\" style=\"fill:rgb(16.1%,15.3%,14.1%);fill-opacity:1.0;font-family:helvetica;font-size:12.0px;font-weight:normal;stroke:none;vertical-align:baseline;white-space:pre\">Proteobacteria</text></g><g transform=\"translate(795.0,325.0)\"><g style=\"fill:rgb(59.6%,30.6%,63.9%);fill-opacity:1.0\" transform=\"translate(-5.55, -4.440892098500626e-16)\"><circle r=\"4.0\"></circle></g></g><g transform=\"translate(805.0,325.0)\"><text x=\"0\" y=\"3.066\" style=\"fill:rgb(16.1%,15.3%,14.1%);fill-opacity:1.0;font-family:helvetica;font-size:12.0px;font-weight:normal;stroke:none;vertical-align:baseline;white-space:pre\">Actinobacteriota</text></g><g transform=\"translate(795.0,345.0)\"><g style=\"fill:rgb(30.2%,68.6%,29%);fill-opacity:1.0\" transform=\"translate(-5.55, -4.440892098500626e-16)\"><circle r=\"4.0\"></circle></g></g><g transform=\"translate(805.0,345.0)\"><text x=\"0\" y=\"3.066\" style=\"fill:rgb(16.1%,15.3%,14.1%);fill-opacity:1.0;font-family:helvetica;font-size:12.0px;font-weight:normal;stroke:none;vertical-align:baseline;white-space:pre\">Bacteroidota</text></g><g transform=\"translate(795.0,365.0)\"><g style=\"fill:rgb(89.4%,10.2%,11%);fill-opacity:1.0\" transform=\"translate(-5.55, -4.440892098500626e-16)\"><circle r=\"4.0\"></circle></g></g><g transform=\"translate(805.0,365.0)\"><text x=\"0\" y=\"3.066\" style=\"fill:rgb(16.1%,15.3%,14.1%);fill-opacity:1.0;font-family:helvetica;font-size:12.0px;font-weight:normal;stroke:none;vertical-align:baseline;white-space:pre\">Firmicutes</text></g></g><g class=\"toyplot-coordinates-Table\" id=\"t2710470acb7b49e1b3877456d58f10fa\"><g transform=\"translate(800.0,425.0)\"><text x=\"-59.899\" y=\"-10.423\" style=\"fill:rgb(16.1%,15.3%,14.1%);fill-opacity:1.0;font-family:helvetica;font-size:14.0px;font-weight:bold;stroke:none;vertical-align:baseline;white-space:pre\">tascCODA Effects</text></g><g transform=\"translate(795.0,450.0)\"><g style=\"fill:rgb(0%,0%,0%);fill-opacity:1.0\" transform=\"translate(-5.55, -4.440892098500626e-16)\"><circle r=\"10.0\"></circle></g></g><g transform=\"translate(805.0,450.0)\"><text x=\"0\" y=\"3.066\" style=\"fill:rgb(16.1%,15.3%,14.1%);fill-opacity:1.0;font-family:helvetica;font-size:12.0px;font-weight:normal;stroke:none;vertical-align:baseline;white-space:pre\">0.627</text></g><g transform=\"translate(795.0,500.0)\"><g style=\"fill:rgb(100%,100%,100%);fill-opacity:1.0\" transform=\"translate(-5.55, -4.440892098500626e-16)\"><circle r=\"10.0\"></circle></g></g><g transform=\"translate(805.0,500.0)\"><text x=\"0\" y=\"3.066\" style=\"fill:rgb(16.1%,15.3%,14.1%);fill-opacity:1.0;font-family:helvetica;font-size:12.0px;font-weight:normal;stroke:none;vertical-align:baseline;white-space:pre\">-0.627</text></g></g></svg><div class=\"toyplot-behavior\"><script>(function()\n{\nvar modules={};\n})();</script></div></div>"
     },
     "metadata": {},
     "output_type": "display_data"
    },
    {
     "data": {
      "text/html": "<div class=\"toyplot\" id=\"tc68806106e214bc7b67c046f3101c6f5\" style=\"text-align:center\"><svg class=\"toyplot-canvas-Canvas\" xmlns:toyplot=\"http://www.sandia.gov/toyplot\" xmlns:xlink=\"http://www.w3.org/1999/xlink\" xmlns=\"http://www.w3.org/2000/svg\" width=\"1000.0px\" height=\"1000.0px\" viewBox=\"0 0 1000.0 1000.0\" preserveAspectRatio=\"xMidYMid meet\" style=\"background-color:transparent;border-color:#292724;border-style:none;border-width:1.0;fill:rgb(16.1%,15.3%,14.1%);fill-opacity:1.0;font-family:Helvetica;font-size:12px;opacity:1.0;stroke:rgb(16.1%,15.3%,14.1%);stroke-opacity:1.0;stroke-width:1.0\" id=\"tdabbcf5a320843ab90f154f253cc77f3\"><g class=\"toyplot-coordinates-Cartesian\" id=\"tcad2d94275de4b6db927606e02635997\"><clipPath id=\"t35ff652df65d4807b023e39a6ab7d3f7\"><rect x=\"30.0\" y=\"30.0\" width=\"790.0\" height=\"790.0\"></rect></clipPath><g clip-path=\"url(#t35ff652df65d4807b023e39a6ab7d3f7)\"><g class=\"toytree-mark-Toytree\" id=\"ta91ebad46e484283be2dd2302b7154c6\"><g class=\"toytree-Edges\" style=\"fill:none;stroke:rgb(14.9%,14.9%,14.9%);stroke-linecap:round;stroke-opacity:1;stroke-width:2\"><path d=\"M 438.7 447.0 L 425.0 425.0 A -0.0 -0.0 0 0 0 425.0 425.0\" id=\"150,149\" style=\"stroke:rgb(0%,0%,0%);stroke-opacity:1.0\"></path><path d=\"M 476.8 428.6 L 450.9 426.8 A 25.9 25.9 0 0 1 438.7 447.0\" id=\"149,148\" style=\"stroke:rgb(100%,49.8%,0%);stroke-opacity:1.0\"></path><path d=\"M 475.5 437.0 L 450.2 431.0 A 25.9 25.9 0 0 1 438.7 447.0\" id=\"149,147\" style=\"stroke:rgb(21.6%,49.4%,72.2%);stroke-opacity:1.0\"></path><path d=\"M 465.8 457.1 L 445.4 441.1 A 25.9 25.9 0 0 1 438.7 447.0\" id=\"149,146\" style=\"stroke:rgb(59.6%,30.6%,63.9%);stroke-opacity:1.0\"></path><path d=\"M 438.0 475.2 L 431.5 450.1 A 25.9 25.9 0 0 0 438.7 447.0\" id=\"149,145\" style=\"stroke:rgb(30.2%,68.6%,29%);stroke-opacity:1.0\"></path><path d=\"M 376.4 443.2 L 400.7 434.1 A 25.9 25.9 0 0 0 438.7 447.0\" id=\"149,144\" style=\"stroke:rgb(89.4%,10.2%,11%);stroke-opacity:1.0\"></path><path d=\"M 502.6 430.4 L 476.8 428.6 A 51.9 51.9 0 0 1 476.8 428.6\" id=\"148,143\" style=\"stroke:rgb(100%,49.8%,0%);stroke-opacity:1.0\"></path><path d=\"M 500.7 443.0 L 475.5 437.0 A 51.9 51.9 0 0 1 475.5 437.0\" id=\"147,142\" style=\"stroke:rgb(21.6%,49.4%,72.2%);stroke-opacity:1.0\"></path><path d=\"M 486.1 473.2 L 465.8 457.1 A 51.9 51.9 0 0 1 465.8 457.1\" id=\"146,141\" style=\"stroke:rgb(59.6%,30.6%,63.9%);stroke-opacity:1.0\"></path><path d=\"M 444.5 500.3 L 438.0 475.2 A 51.9 51.9 0 0 1 438.0 475.2\" id=\"145,140\" style=\"stroke:rgb(30.2%,68.6%,29%);stroke-opacity:1.0\"></path><path d=\"M 388.8 493.9 L 400.9 470.9 A 51.9 51.9 0 0 1 376.4 443.2\" id=\"144,139\" style=\"stroke:rgb(89.4%,10.2%,11%);stroke-opacity:1.0\"></path><path d=\"M 360.6 468.7 L 382.0 454.1 A 51.9 51.9 0 0 1 376.4 443.2\" id=\"144,138\" style=\"stroke:rgb(89.4%,10.2%,11%);stroke-opacity:1.0\"></path><path d=\"M 361.1 380.5 L 382.4 395.4 A 51.9 51.9 0 0 0 376.4 443.2\" id=\"144,137\" style=\"stroke:rgb(89.4%,10.2%,11%);stroke-opacity:1.0\"></path><path d=\"M 528.5 432.2 L 502.6 430.4 A 77.8 77.8 0 0 1 502.6 430.4\" id=\"143,136\" style=\"stroke:rgb(100%,49.8%,0%);stroke-opacity:1.0\"></path><path d=\"M 527.8 439.3 L 502.1 435.7 A 77.8 77.8 0 0 1 500.7 443.0\" id=\"142,135\" style=\"stroke:rgb(21.6%,49.4%,72.2%);stroke-opacity:1.0\"></path><path d=\"M 523.2 458.4 L 498.7 450.1 A 77.8 77.8 0 0 0 500.7 443.0\" id=\"142,134\" style=\"stroke:rgb(21.6%,49.4%,72.2%);stroke-opacity:1.0\"></path><path d=\"M 506.5 489.2 L 486.1 473.2 A 77.8 77.8 0 0 1 486.1 473.2\" id=\"141,133\" style=\"stroke:rgb(59.6%,30.6%,63.9%);stroke-opacity:1.0\"></path><path d=\"M 451.0 525.5 L 444.5 500.3 A 77.8 77.8 0 0 1 444.5 500.3\" id=\"140,132\" style=\"stroke:rgb(30.2%,68.6%,29%);stroke-opacity:1.0\"></path><path d=\"M 384.9 520.7 L 394.9 496.8 A 77.8 77.8 0 0 1 388.8 493.9\" id=\"139,131\" style=\"stroke:rgb(89.4%,10.2%,11%);stroke-opacity:1.0\"></path><path d=\"M 369.0 512.4 L 383.0 490.5 A 77.8 77.8 0 0 0 388.8 493.9\" id=\"139,130\" style=\"stroke:rgb(89.4%,10.2%,11%);stroke-opacity:1.0\"></path><path d=\"M 352.3 499.0 L 370.4 480.5 A 77.8 77.8 0 0 1 360.6 468.7\" id=\"138,129\" style=\"stroke:rgb(89.4%,10.2%,11%);stroke-opacity:1.0\"></path><path d=\"M 329.3 465.1 L 353.2 455.1 A 77.8 77.8 0 0 0 360.6 468.7\" id=\"138,128\" style=\"stroke:rgb(89.4%,10.2%,11%);stroke-opacity:1.0\"></path><path d=\"M 321.3 428.6 L 347.2 427.7 A 77.8 77.8 0 0 1 361.1 380.5\" id=\"137,127\" style=\"stroke:rgb(89.4%,10.2%,11%);stroke-opacity:1.0\"></path><path d=\"M 321.3 421.4 L 347.2 422.3 A 77.8 77.8 0 0 1 361.1 380.5\" id=\"137,126\" style=\"stroke:rgb(89.4%,10.2%,11%);stroke-opacity:1.0\"></path><path d=\"M 321.8 414.3 L 347.6 417.0 A 77.8 77.8 0 0 1 361.1 380.5\" id=\"137,125\" style=\"stroke:rgb(89.4%,10.2%,11%);stroke-opacity:1.0\"></path><path d=\"M 323.4 403.7 L 348.8 409.0 A 77.8 77.8 0 0 1 361.1 380.5\" id=\"137,124\" style=\"stroke:rgb(89.4%,10.2%,11%);stroke-opacity:1.0\"></path><path d=\"M 328.6 386.5 L 352.7 396.2 A 77.8 77.8 0 0 1 361.1 380.5\" id=\"137,123\" style=\"stroke:rgb(89.4%,10.2%,11%);stroke-opacity:1.0\"></path><path d=\"M 388.2 328.0 L 397.4 352.2 A 77.8 77.8 0 0 0 361.1 380.5\" id=\"137,122\" style=\"stroke:rgb(89.4%,10.2%,11%);stroke-opacity:1.0\"></path><path d=\"M 498.6 351.8 L 480.2 370.1 A 77.8 77.8 0 0 0 361.1 380.5\" id=\"137,121\" style=\"stroke:rgb(89.4%,10.2%,11%);stroke-opacity:1.0\"></path><path d=\"M 554.4 433.9 L 528.5 432.2 A 103.8 103.8 0 0 1 528.5 432.2\" id=\"136,120\" style=\"stroke:rgb(100%,49.8%,0%);stroke-opacity:1.0\"></path><path d=\"M 553.5 442.9 L 527.8 439.3 A 103.8 103.8 0 0 1 527.8 439.3\" id=\"135,119\" style=\"stroke:rgb(21.6%,49.4%,72.2%);stroke-opacity:1.0\"></path><path d=\"M 550.9 456.0 L 525.8 449.8 A 103.8 103.8 0 0 1 523.2 458.4\" id=\"134,118\" style=\"stroke:rgb(21.6%,49.4%,72.2%);stroke-opacity:1.0\"></path><path d=\"M 543.7 477.2 L 520.0 466.8 A 103.8 103.8 0 0 0 523.2 458.4\" id=\"134,117\" style=\"stroke:rgb(21.6%,49.4%,72.2%);stroke-opacity:1.0\"></path><path d=\"M 535.4 493.1 L 513.3 479.4 A 103.8 103.8 0 0 1 506.5 489.2\" id=\"133,116\" style=\"stroke:rgb(59.6%,30.6%,63.9%);stroke-opacity:1.0\"></path><path d=\"M 530.5 500.5 L 509.4 485.4 A 103.8 103.8 0 0 1 506.5 489.2\" id=\"133,115\" style=\"stroke:rgb(59.6%,30.6%,63.9%);stroke-opacity:1.0\"></path><path d=\"M 512.7 520.6 L 495.1 501.5 A 103.8 103.8 0 0 0 506.5 489.2\" id=\"133,114\" style=\"stroke:rgb(59.6%,30.6%,63.9%);stroke-opacity:1.0\"></path><path d=\"M 491.1 536.6 L 477.9 514.3 A 103.8 103.8 0 0 1 451.0 525.5\" id=\"132,113\" style=\"stroke:rgb(30.2%,68.6%,29%);stroke-opacity:1.0\"></path><path d=\"M 483.3 540.9 L 471.6 517.7 A 103.8 103.8 0 0 1 451.0 525.5\" id=\"132,112\" style=\"stroke:rgb(30.2%,68.6%,29%);stroke-opacity:1.0\"></path><path d=\"M 471.0 546.3 L 461.8 522.0 A 103.8 103.8 0 0 1 451.0 525.5\" id=\"132,111\" style=\"stroke:rgb(30.2%,68.6%,29%);stroke-opacity:1.0\"></path><path d=\"M 453.9 551.4 L 448.1 526.2 A 103.8 103.8 0 0 0 451.0 525.5\" id=\"132,110\" style=\"stroke:rgb(30.2%,68.6%,29%);stroke-opacity:1.0\"></path><path d=\"M 436.2 554.2 L 433.9 528.4 A 103.8 103.8 0 0 0 451.0 525.5\" id=\"132,109\" style=\"stroke:rgb(30.2%,68.6%,29%);stroke-opacity:1.0\"></path><path d=\"M 404.9 553.1 L 408.9 527.5 A 103.8 103.8 0 0 0 451.0 525.5\" id=\"132,108\" style=\"stroke:rgb(30.2%,68.6%,29%);stroke-opacity:1.0\"></path><path d=\"M 374.8 544.6 L 384.9 520.7 A 103.8 103.8 0 0 0 384.9 520.7\" id=\"131,107\" style=\"stroke:rgb(89.4%,10.2%,11%);stroke-opacity:1.0\"></path><path d=\"M 355.0 534.2 L 369.0 512.4 A 103.8 103.8 0 0 0 369.0 512.4\" id=\"130,106\" style=\"stroke:rgb(89.4%,10.2%,11%);stroke-opacity:1.0\"></path><path d=\"M 340.7 523.6 L 357.5 503.8 A 103.8 103.8 0 0 1 352.3 499.0\" id=\"129,105\" style=\"stroke:rgb(89.4%,10.2%,11%);stroke-opacity:1.0\"></path><path d=\"M 334.1 517.5 L 352.3 499.0 A 103.8 103.8 0 0 0 352.3 499.0\" id=\"129,104\" style=\"stroke:rgb(89.4%,10.2%,11%);stroke-opacity:1.0\"></path><path d=\"M 327.9 511.0 L 347.3 493.8 A 103.8 103.8 0 0 0 352.3 499.0\" id=\"129,103\" style=\"stroke:rgb(89.4%,10.2%,11%);stroke-opacity:1.0\"></path><path d=\"M 314.6 493.1 L 336.7 479.4 A 103.8 103.8 0 0 1 329.3 465.1\" id=\"128,102\" style=\"stroke:rgb(89.4%,10.2%,11%);stroke-opacity:1.0\"></path><path d=\"M 299.1 456.0 L 324.2 449.8 A 103.8 103.8 0 0 0 329.3 465.1\" id=\"128,101\" style=\"stroke:rgb(89.4%,10.2%,11%);stroke-opacity:1.0\"></path><path d=\"M 295.4 429.5 L 321.3 428.6 A 103.8 103.8 0 0 0 321.3 428.6\" id=\"127,100\" style=\"stroke:rgb(89.4%,10.2%,11%);stroke-opacity:1.0\"></path><path d=\"M 295.4 420.5 L 321.3 421.4 A 103.8 103.8 0 0 1 321.3 421.4\" id=\"126,99\" style=\"stroke:rgb(89.4%,10.2%,11%);stroke-opacity:1.0\"></path><path d=\"M 296.0 411.6 L 321.8 414.3 A 103.8 103.8 0 0 1 321.8 414.3\" id=\"125,98\" style=\"stroke:rgb(89.4%,10.2%,11%);stroke-opacity:1.0\"></path><path d=\"M 298.1 398.3 L 323.4 403.7 A 103.8 103.8 0 0 1 323.4 403.7\" id=\"124,97\" style=\"stroke:rgb(89.4%,10.2%,11%);stroke-opacity:1.0\"></path><path d=\"M 301.5 385.3 L 326.2 393.3 A 103.8 103.8 0 0 1 328.6 386.5\" id=\"123,96\" style=\"stroke:rgb(89.4%,10.2%,11%);stroke-opacity:1.0\"></path><path d=\"M 308.1 368.7 L 331.5 380.0 A 103.8 103.8 0 0 0 328.6 386.5\" id=\"123,95\" style=\"stroke:rgb(89.4%,10.2%,11%);stroke-opacity:1.0\"></path><path d=\"M 379.0 303.7 L 388.2 328.0 A 103.8 103.8 0 0 1 388.2 328.0\" id=\"122,94\" style=\"stroke:rgb(89.4%,10.2%,11%);stroke-opacity:1.0\"></path><path d=\"M 471.0 303.7 L 461.8 328.0 A 103.8 103.8 0 0 1 498.6 351.8\" id=\"121,93\" style=\"stroke:rgb(89.4%,10.2%,11%);stroke-opacity:1.0\"></path><path d=\"M 509.3 326.4 L 492.5 346.2 A 103.8 103.8 0 0 1 498.6 351.8\" id=\"121,92\" style=\"stroke:rgb(89.4%,10.2%,11%);stroke-opacity:1.0\"></path><path d=\"M 549.8 389.6 L 524.8 396.7 A 103.8 103.8 0 0 0 498.6 351.8\" id=\"121,91\" style=\"stroke:rgb(89.4%,10.2%,11%);stroke-opacity:1.0\"></path><path d=\"M 580.3 435.7 L 554.4 433.9 A 129.7 129.7 0 0 1 554.4 433.9\" id=\"120,90\" style=\"stroke:rgb(100%,49.8%,0%);stroke-opacity:1.0\"></path><path d=\"M 579.2 446.4 L 553.5 442.9 A 129.7 129.7 0 0 1 553.5 442.9\" id=\"119,89\" style=\"stroke:rgb(21.6%,49.4%,72.2%);stroke-opacity:1.0\"></path><path d=\"M 577.3 457.0 L 551.9 451.7 A 129.7 129.7 0 0 1 550.9 456.0\" id=\"118,88\" style=\"stroke:rgb(21.6%,49.4%,72.2%);stroke-opacity:1.0\"></path><path d=\"M 574.8 467.4 L 549.8 460.4 A 129.7 129.7 0 0 0 550.9 456.0\" id=\"118,87\" style=\"stroke:rgb(21.6%,49.4%,72.2%);stroke-opacity:1.0\"></path><path d=\"M 571.5 477.7 L 547.1 468.9 A 129.7 129.7 0 0 1 543.7 477.2\" id=\"117,86\" style=\"stroke:rgb(21.6%,49.4%,72.2%);stroke-opacity:1.0\"></path><path d=\"M 567.5 487.6 L 543.7 477.2 A 129.7 129.7 0 0 1 543.7 477.2\" id=\"117,85\" style=\"stroke:rgb(21.6%,49.4%,72.2%);stroke-opacity:1.0\"></path><path d=\"M 562.8 497.3 L 539.9 485.3 A 129.7 129.7 0 0 0 543.7 477.2\" id=\"117,84\" style=\"stroke:rgb(21.6%,49.4%,72.2%);stroke-opacity:1.0\"></path><path d=\"M 557.5 506.7 L 535.4 493.1 A 129.7 129.7 0 0 1 535.4 493.1\" id=\"116,83\" style=\"stroke:rgb(59.6%,30.6%,63.9%);stroke-opacity:1.0\"></path><path d=\"M 551.6 515.6 L 530.5 500.5 A 129.7 129.7 0 0 1 530.5 500.5\" id=\"115,82\" style=\"stroke:rgb(59.6%,30.6%,63.9%);stroke-opacity:1.0\"></path><path d=\"M 545.0 524.1 L 525.0 507.6 A 129.7 129.7 0 0 1 512.7 520.6\" id=\"114,81\" style=\"stroke:rgb(59.6%,30.6%,63.9%);stroke-opacity:1.0\"></path><path d=\"M 537.9 532.2 L 519.1 514.3 A 129.7 129.7 0 0 1 512.7 520.6\" id=\"114,80\" style=\"stroke:rgb(59.6%,30.6%,63.9%);stroke-opacity:1.0\"></path><path d=\"M 530.2 539.7 L 512.7 520.6 A 129.7 129.7 0 0 1 512.7 520.6\" id=\"114,79\" style=\"stroke:rgb(59.6%,30.6%,63.9%);stroke-opacity:1.0\"></path><path d=\"M 522.0 546.7 L 505.9 526.4 A 129.7 129.7 0 0 0 512.7 520.6\" id=\"114,78\" style=\"stroke:rgb(59.6%,30.6%,63.9%);stroke-opacity:1.0\"></path><path d=\"M 513.4 553.1 L 498.7 531.7 A 129.7 129.7 0 0 0 512.7 520.6\" id=\"114,77\" style=\"stroke:rgb(59.6%,30.6%,63.9%);stroke-opacity:1.0\"></path><path d=\"M 504.4 558.9 L 491.1 536.6 A 129.7 129.7 0 0 1 491.1 536.6\" id=\"113,76\" style=\"stroke:rgb(30.2%,68.6%,29%);stroke-opacity:1.0\"></path><path d=\"M 494.9 564.0 L 483.3 540.9 A 129.7 129.7 0 0 1 483.3 540.9\" id=\"112,75\" style=\"stroke:rgb(30.2%,68.6%,29%);stroke-opacity:1.0\"></path><path d=\"M 485.2 568.5 L 475.2 544.6 A 129.7 129.7 0 0 1 471.0 546.3\" id=\"111,74\" style=\"stroke:rgb(30.2%,68.6%,29%);stroke-opacity:1.0\"></path><path d=\"M 475.1 572.3 L 466.8 547.8 A 129.7 129.7 0 0 0 471.0 546.3\" id=\"111,73\" style=\"stroke:rgb(30.2%,68.6%,29%);stroke-opacity:1.0\"></path><path d=\"M 464.9 575.5 L 458.2 550.4 A 129.7 129.7 0 0 1 453.9 551.4\" id=\"110,72\" style=\"stroke:rgb(30.2%,68.6%,29%);stroke-opacity:1.0\"></path><path d=\"M 454.4 577.8 L 449.5 552.4 A 129.7 129.7 0 0 0 453.9 551.4\" id=\"110,71\" style=\"stroke:rgb(30.2%,68.6%,29%);stroke-opacity:1.0\"></path><path d=\"M 443.8 579.5 L 440.6 553.8 A 129.7 129.7 0 0 1 436.2 554.2\" id=\"109,70\" style=\"stroke:rgb(30.2%,68.6%,29%);stroke-opacity:1.0\"></path><path d=\"M 433.1 580.4 L 431.7 554.5 A 129.7 129.7 0 0 0 436.2 554.2\" id=\"109,69\" style=\"stroke:rgb(30.2%,68.6%,29%);stroke-opacity:1.0\"></path><path d=\"M 422.3 580.6 L 422.8 554.7 A 129.7 129.7 0 0 1 404.9 553.1\" id=\"108,68\" style=\"stroke:rgb(30.2%,68.6%,29%);stroke-opacity:1.0\"></path><path d=\"M 411.6 580.1 L 413.8 554.2 A 129.7 129.7 0 0 1 404.9 553.1\" id=\"108,67\" style=\"stroke:rgb(30.2%,68.6%,29%);stroke-opacity:1.0\"></path><path d=\"M 400.9 578.8 L 404.9 553.1 A 129.7 129.7 0 0 0 404.9 553.1\" id=\"108,66\" style=\"stroke:rgb(30.2%,68.6%,29%);stroke-opacity:1.0\"></path><path d=\"M 390.4 576.7 L 396.1 551.5 A 129.7 129.7 0 0 0 404.9 553.1\" id=\"108,65\" style=\"stroke:rgb(30.2%,68.6%,29%);stroke-opacity:1.0\"></path><path d=\"M 380.0 574.0 L 387.5 549.2 A 129.7 129.7 0 0 0 404.9 553.1\" id=\"108,64\" style=\"stroke:rgb(30.2%,68.6%,29%);stroke-opacity:1.0\"></path><path d=\"M 369.8 570.5 L 379.0 546.3 A 129.7 129.7 0 0 1 374.8 544.6\" id=\"107,63\" style=\"stroke:rgb(89.4%,10.2%,11%);stroke-opacity:1.0\"></path><path d=\"M 359.9 566.4 L 370.7 542.8 A 129.7 129.7 0 0 0 374.8 544.6\" id=\"107,62\" style=\"stroke:rgb(89.4%,10.2%,11%);stroke-opacity:1.0\"></path><path d=\"M 350.3 561.5 L 362.7 538.8 A 129.7 129.7 0 0 1 355.0 534.2\" id=\"106,61\" style=\"stroke:rgb(89.4%,10.2%,11%);stroke-opacity:1.0\"></path><path d=\"M 341.1 556.1 L 355.0 534.2 A 129.7 129.7 0 0 0 355.0 534.2\" id=\"106,60\" style=\"stroke:rgb(89.4%,10.2%,11%);stroke-opacity:1.0\"></path><path d=\"M 332.2 550.0 L 347.7 529.1 A 129.7 129.7 0 0 0 355.0 534.2\" id=\"106,59\" style=\"stroke:rgb(89.4%,10.2%,11%);stroke-opacity:1.0\"></path><path d=\"M 323.8 543.3 L 340.7 523.6 A 129.7 129.7 0 0 0 340.7 523.6\" id=\"105,58\" style=\"stroke:rgb(89.4%,10.2%,11%);stroke-opacity:1.0\"></path><path d=\"M 315.9 536.0 L 334.1 517.5 A 129.7 129.7 0 0 0 334.1 517.5\" id=\"104,57\" style=\"stroke:rgb(89.4%,10.2%,11%);stroke-opacity:1.0\"></path><path d=\"M 308.5 528.2 L 327.9 511.0 A 129.7 129.7 0 0 0 327.9 511.0\" id=\"103,56\" style=\"stroke:rgb(89.4%,10.2%,11%);stroke-opacity:1.0\"></path><path d=\"M 301.6 519.9 L 322.2 504.1 A 129.7 129.7 0 0 1 314.6 493.1\" id=\"102,55\" style=\"stroke:rgb(89.4%,10.2%,11%);stroke-opacity:1.0\"></path><path d=\"M 295.4 511.2 L 317.0 496.8 A 129.7 129.7 0 0 1 314.6 493.1\" id=\"102,54\" style=\"stroke:rgb(89.4%,10.2%,11%);stroke-opacity:1.0\"></path><path d=\"M 289.8 502.0 L 312.3 489.2 A 129.7 129.7 0 0 0 314.6 493.1\" id=\"102,53\" style=\"stroke:rgb(89.4%,10.2%,11%);stroke-opacity:1.0\"></path><path d=\"M 284.8 492.5 L 308.1 481.3 A 129.7 129.7 0 0 0 314.6 493.1\" id=\"102,52\" style=\"stroke:rgb(89.4%,10.2%,11%);stroke-opacity:1.0\"></path><path d=\"M 280.4 482.7 L 304.5 473.1 A 129.7 129.7 0 0 1 299.1 456.0\" id=\"101,51\" style=\"stroke:rgb(89.4%,10.2%,11%);stroke-opacity:1.0\"></path><path d=\"M 276.8 472.6 L 301.5 464.7 A 129.7 129.7 0 0 1 299.1 456.0\" id=\"101,50\" style=\"stroke:rgb(89.4%,10.2%,11%);stroke-opacity:1.0\"></path><path d=\"M 273.9 462.2 L 299.1 456.0 A 129.7 129.7 0 0 0 299.1 456.0\" id=\"101,49\" style=\"stroke:rgb(89.4%,10.2%,11%);stroke-opacity:1.0\"></path><path d=\"M 271.7 451.7 L 297.2 447.3 A 129.7 129.7 0 0 0 299.1 456.0\" id=\"101,48\" style=\"stroke:rgb(89.4%,10.2%,11%);stroke-opacity:1.0\"></path><path d=\"M 270.2 441.1 L 296.0 438.4 A 129.7 129.7 0 0 0 299.1 456.0\" id=\"101,47\" style=\"stroke:rgb(89.4%,10.2%,11%);stroke-opacity:1.0\"></path><path d=\"M 269.4 430.4 L 295.4 429.5 A 129.7 129.7 0 0 0 295.4 429.5\" id=\"100,46\" style=\"stroke:rgb(89.4%,10.2%,11%);stroke-opacity:1.0\"></path><path d=\"M 269.4 419.6 L 295.4 420.5 A 129.7 129.7 0 0 1 295.4 420.5\" id=\"99,45\" style=\"stroke:rgb(89.4%,10.2%,11%);stroke-opacity:1.0\"></path><path d=\"M 270.2 408.9 L 296.0 411.6 A 129.7 129.7 0 0 1 296.0 411.6\" id=\"98,44\" style=\"stroke:rgb(89.4%,10.2%,11%);stroke-opacity:1.0\"></path><path d=\"M 271.7 398.3 L 297.2 402.7 A 129.7 129.7 0 0 1 298.1 398.3\" id=\"97,43\" style=\"stroke:rgb(89.4%,10.2%,11%);stroke-opacity:1.0\"></path><path d=\"M 273.9 387.8 L 299.1 394.0 A 129.7 129.7 0 0 0 298.1 398.3\" id=\"97,42\" style=\"stroke:rgb(89.4%,10.2%,11%);stroke-opacity:1.0\"></path><path d=\"M 276.8 377.4 L 301.5 385.3 A 129.7 129.7 0 0 1 301.5 385.3\" id=\"96,41\" style=\"stroke:rgb(89.4%,10.2%,11%);stroke-opacity:1.0\"></path><path d=\"M 280.4 367.3 L 304.5 376.9 A 129.7 129.7 0 0 1 308.1 368.7\" id=\"95,40\" style=\"stroke:rgb(89.4%,10.2%,11%);stroke-opacity:1.0\"></path><path d=\"M 284.8 357.5 L 308.1 368.7 A 129.7 129.7 0 0 1 308.1 368.7\" id=\"95,39\" style=\"stroke:rgb(89.4%,10.2%,11%);stroke-opacity:1.0\"></path><path d=\"M 289.8 348.0 L 312.3 360.8 A 129.7 129.7 0 0 0 308.1 368.7\" id=\"95,38\" style=\"stroke:rgb(89.4%,10.2%,11%);stroke-opacity:1.0\"></path><path d=\"M 295.4 338.8 L 317.0 353.2 A 129.7 129.7 0 0 1 379.0 303.7\" id=\"94,37\" style=\"stroke:rgb(89.4%,10.2%,11%);stroke-opacity:1.0\"></path><path d=\"M 301.6 330.1 L 322.2 345.9 A 129.7 129.7 0 0 1 379.0 303.7\" id=\"94,36\" style=\"stroke:rgb(89.4%,10.2%,11%);stroke-opacity:1.0\"></path><path d=\"M 308.5 321.8 L 327.9 339.0 A 129.7 129.7 0 0 1 379.0 303.7\" id=\"94,35\" style=\"stroke:rgb(89.4%,10.2%,11%);stroke-opacity:1.0\"></path><path d=\"M 315.9 314.0 L 334.1 332.5 A 129.7 129.7 0 0 1 379.0 303.7\" id=\"94,34\" style=\"stroke:rgb(89.4%,10.2%,11%);stroke-opacity:1.0\"></path><path d=\"M 323.8 306.7 L 340.7 326.4 A 129.7 129.7 0 0 1 379.0 303.7\" id=\"94,33\" style=\"stroke:rgb(89.4%,10.2%,11%);stroke-opacity:1.0\"></path><path d=\"M 332.2 300.0 L 347.7 320.9 A 129.7 129.7 0 0 1 379.0 303.7\" id=\"94,32\" style=\"stroke:rgb(89.4%,10.2%,11%);stroke-opacity:1.0\"></path><path d=\"M 341.1 293.9 L 355.0 315.8 A 129.7 129.7 0 0 1 379.0 303.7\" id=\"94,31\" style=\"stroke:rgb(89.4%,10.2%,11%);stroke-opacity:1.0\"></path><path d=\"M 350.3 288.5 L 362.7 311.2 A 129.7 129.7 0 0 1 379.0 303.7\" id=\"94,30\" style=\"stroke:rgb(89.4%,10.2%,11%);stroke-opacity:1.0\"></path><path d=\"M 359.9 283.6 L 370.7 307.2 A 129.7 129.7 0 0 1 379.0 303.7\" id=\"94,29\" style=\"stroke:rgb(89.4%,10.2%,11%);stroke-opacity:1.0\"></path><path d=\"M 369.8 279.5 L 379.0 303.7 A 129.7 129.7 0 0 1 379.0 303.7\" id=\"94,28\" style=\"stroke:rgb(89.4%,10.2%,11%);stroke-opacity:1.0\"></path><path d=\"M 380.0 276.0 L 387.5 300.8 A 129.7 129.7 0 0 0 379.0 303.7\" id=\"94,27\" style=\"stroke:rgb(89.4%,10.2%,11%);stroke-opacity:1.0\"></path><path d=\"M 390.4 273.3 L 396.1 298.5 A 129.7 129.7 0 0 0 379.0 303.7\" id=\"94,26\" style=\"stroke:rgb(89.4%,10.2%,11%);stroke-opacity:1.0\"></path><path d=\"M 400.9 271.2 L 404.9 296.9 A 129.7 129.7 0 0 0 379.0 303.7\" id=\"94,25\" style=\"stroke:rgb(89.4%,10.2%,11%);stroke-opacity:1.0\"></path><path d=\"M 411.6 269.9 L 413.8 295.8 A 129.7 129.7 0 0 0 379.0 303.7\" id=\"94,24\" style=\"stroke:rgb(89.4%,10.2%,11%);stroke-opacity:1.0\"></path><path d=\"M 422.3 269.4 L 422.8 295.3 A 129.7 129.7 0 0 0 379.0 303.7\" id=\"94,23\" style=\"stroke:rgb(89.4%,10.2%,11%);stroke-opacity:1.0\"></path><path d=\"M 433.1 269.6 L 431.7 295.5 A 129.7 129.7 0 0 0 379.0 303.7\" id=\"94,22\" style=\"stroke:rgb(89.4%,10.2%,11%);stroke-opacity:1.0\"></path><path d=\"M 443.8 270.5 L 440.6 296.2 A 129.7 129.7 0 0 0 379.0 303.7\" id=\"94,21\" style=\"stroke:rgb(89.4%,10.2%,11%);stroke-opacity:1.0\"></path><path d=\"M 454.4 272.2 L 449.5 297.6 A 129.7 129.7 0 0 0 379.0 303.7\" id=\"94,20\" style=\"stroke:rgb(89.4%,10.2%,11%);stroke-opacity:1.0\"></path><path d=\"M 464.9 274.5 L 458.2 299.6 A 129.7 129.7 0 0 0 379.0 303.7\" id=\"94,19\" style=\"stroke:rgb(89.4%,10.2%,11%);stroke-opacity:1.0\"></path><path d=\"M 475.1 277.7 L 466.8 302.2 A 129.7 129.7 0 0 1 471.0 303.7\" id=\"93,18\" style=\"stroke:rgb(89.4%,10.2%,11%);stroke-opacity:1.0\"></path><path d=\"M 485.2 281.5 L 475.2 305.4 A 129.7 129.7 0 0 0 471.0 303.7\" id=\"93,17\" style=\"stroke:rgb(89.4%,10.2%,11%);stroke-opacity:1.0\"></path><path d=\"M 494.9 286.0 L 483.3 309.1 A 129.7 129.7 0 0 1 509.3 326.4\" id=\"92,16\" style=\"stroke:rgb(89.4%,10.2%,11%);stroke-opacity:1.0\"></path><path d=\"M 504.4 291.1 L 491.1 313.4 A 129.7 129.7 0 0 1 509.3 326.4\" id=\"92,15\" style=\"stroke:rgb(89.4%,10.2%,11%);stroke-opacity:1.0\"></path><path d=\"M 513.4 296.9 L 498.7 318.3 A 129.7 129.7 0 0 1 509.3 326.4\" id=\"92,14\" style=\"stroke:rgb(89.4%,10.2%,11%);stroke-opacity:1.0\"></path><path d=\"M 522.0 303.3 L 505.9 323.6 A 129.7 129.7 0 0 1 509.3 326.4\" id=\"92,13\" style=\"stroke:rgb(89.4%,10.2%,11%);stroke-opacity:1.0\"></path><path d=\"M 530.2 310.3 L 512.7 329.4 A 129.7 129.7 0 0 0 509.3 326.4\" id=\"92,12\" style=\"stroke:rgb(89.4%,10.2%,11%);stroke-opacity:1.0\"></path><path d=\"M 537.9 317.8 L 519.1 335.7 A 129.7 129.7 0 0 0 509.3 326.4\" id=\"92,11\" style=\"stroke:rgb(89.4%,10.2%,11%);stroke-opacity:1.0\"></path><path d=\"M 545.0 325.9 L 525.0 342.4 A 129.7 129.7 0 0 0 509.3 326.4\" id=\"92,10\" style=\"stroke:rgb(89.4%,10.2%,11%);stroke-opacity:1.0\"></path><path d=\"M 551.6 334.4 L 530.5 349.5 A 129.7 129.7 0 0 0 509.3 326.4\" id=\"92,9\" style=\"stroke:rgb(89.4%,10.2%,11%);stroke-opacity:1.0\"></path><path d=\"M 557.5 343.3 L 535.4 356.9 A 129.7 129.7 0 0 1 549.8 389.6\" id=\"91,8\" style=\"stroke:rgb(89.4%,10.2%,11%);stroke-opacity:1.0\"></path><path d=\"M 562.8 352.7 L 539.9 364.7 A 129.7 129.7 0 0 1 549.8 389.6\" id=\"91,7\" style=\"stroke:rgb(89.4%,10.2%,11%);stroke-opacity:1.0\"></path><path d=\"M 567.5 362.4 L 543.7 372.8 A 129.7 129.7 0 0 1 549.8 389.6\" id=\"91,6\" style=\"stroke:rgb(89.4%,10.2%,11%);stroke-opacity:1.0\"></path><path d=\"M 571.5 372.3 L 547.1 381.1 A 129.7 129.7 0 0 1 549.8 389.6\" id=\"91,5\" style=\"stroke:rgb(89.4%,10.2%,11%);stroke-opacity:1.0\"></path><path d=\"M 574.8 382.6 L 549.8 389.6 A 129.7 129.7 0 0 0 549.8 389.6\" id=\"91,4\" style=\"stroke:rgb(89.4%,10.2%,11%);stroke-opacity:1.0\"></path><path d=\"M 577.3 393.0 L 551.9 398.3 A 129.7 129.7 0 0 0 549.8 389.6\" id=\"91,3\" style=\"stroke:rgb(89.4%,10.2%,11%);stroke-opacity:1.0\"></path><path d=\"M 579.2 403.6 L 553.5 407.1 A 129.7 129.7 0 0 0 549.8 389.6\" id=\"91,2\" style=\"stroke:rgb(89.4%,10.2%,11%);stroke-opacity:1.0\"></path><path d=\"M 580.3 414.3 L 554.4 416.1 A 129.7 129.7 0 0 0 549.8 389.6\" id=\"91,1\" style=\"stroke:rgb(89.4%,10.2%,11%);stroke-opacity:1.0\"></path><path d=\"M 580.7 425.0 L 554.7 425.0 A 129.7 129.7 0 0 0 549.8 389.6\" id=\"91,0\" style=\"stroke:rgb(89.4%,10.2%,11%);stroke-opacity:1.0\"></path></g><g class=\"toytree-AlignEdges\" style=\"stroke:rgb(66.3%,66.3%,66.3%);stroke-dasharray:2, 4;stroke-linecap:round;stroke-opacity:1.0;stroke-width:2\"><path d=\"M 580.7 425.0 L 580.7 425.0\"></path><path d=\"M 580.3 414.3 L 580.3 414.3\"></path><path d=\"M 579.2 403.6 L 579.2 403.6\"></path><path d=\"M 577.3 393.0 L 577.3 393.0\"></path><path d=\"M 574.8 382.6 L 574.8 382.6\"></path><path d=\"M 571.5 372.3 L 571.5 372.3\"></path><path d=\"M 567.5 362.4 L 567.5 362.4\"></path><path d=\"M 562.8 352.7 L 562.8 352.7\"></path><path d=\"M 557.5 343.3 L 557.5 343.3\"></path><path d=\"M 551.6 334.4 L 551.6 334.4\"></path><path d=\"M 545.0 325.9 L 545.0 325.9\"></path><path d=\"M 537.9 317.8 L 537.9 317.8\"></path><path d=\"M 530.2 310.3 L 530.2 310.3\"></path><path d=\"M 522.0 303.3 L 522.0 303.3\"></path><path d=\"M 513.4 296.9 L 513.4 296.9\"></path><path d=\"M 504.4 291.1 L 504.4 291.1\"></path><path d=\"M 494.9 286.0 L 494.9 286.0\"></path><path d=\"M 485.2 281.5 L 485.2 281.5\"></path><path d=\"M 475.1 277.7 L 475.1 277.7\"></path><path d=\"M 464.9 274.5 L 464.9 274.5\"></path><path d=\"M 454.4 272.2 L 454.4 272.2\"></path><path d=\"M 443.8 270.5 L 443.8 270.5\"></path><path d=\"M 433.1 269.6 L 433.1 269.6\"></path><path d=\"M 422.3 269.4 L 422.3 269.4\"></path><path d=\"M 411.6 269.9 L 411.6 269.9\"></path><path d=\"M 400.9 271.2 L 400.9 271.2\"></path><path d=\"M 390.4 273.3 L 390.4 273.3\"></path><path d=\"M 380.0 276.0 L 380.0 276.0\"></path><path d=\"M 369.8 279.5 L 369.8 279.5\"></path><path d=\"M 359.9 283.6 L 359.9 283.6\"></path><path d=\"M 350.3 288.5 L 350.3 288.5\"></path><path d=\"M 341.1 293.9 L 341.1 293.9\"></path><path d=\"M 332.2 300.0 L 332.2 300.0\"></path><path d=\"M 323.8 306.7 L 323.8 306.7\"></path><path d=\"M 315.9 314.0 L 315.9 314.0\"></path><path d=\"M 308.5 321.8 L 308.5 321.8\"></path><path d=\"M 301.6 330.1 L 301.6 330.1\"></path><path d=\"M 295.4 338.8 L 295.4 338.8\"></path><path d=\"M 289.8 348.0 L 289.8 348.0\"></path><path d=\"M 284.8 357.5 L 284.8 357.5\"></path><path d=\"M 280.4 367.3 L 280.4 367.3\"></path><path d=\"M 276.8 377.4 L 276.8 377.4\"></path><path d=\"M 273.9 387.8 L 273.9 387.8\"></path><path d=\"M 271.7 398.3 L 271.7 398.3\"></path><path d=\"M 270.2 408.9 L 270.2 408.9\"></path><path d=\"M 269.4 419.6 L 269.4 419.6\"></path><path d=\"M 269.4 430.4 L 269.4 430.4\"></path><path d=\"M 270.2 441.1 L 270.2 441.1\"></path><path d=\"M 271.7 451.7 L 271.7 451.7\"></path><path d=\"M 273.9 462.2 L 273.9 462.2\"></path><path d=\"M 276.8 472.6 L 276.8 472.6\"></path><path d=\"M 280.4 482.7 L 280.4 482.7\"></path><path d=\"M 284.8 492.5 L 284.8 492.5\"></path><path d=\"M 289.8 502.0 L 289.8 502.0\"></path><path d=\"M 295.4 511.2 L 295.4 511.2\"></path><path d=\"M 301.6 519.9 L 301.6 519.9\"></path><path d=\"M 308.5 528.2 L 308.5 528.2\"></path><path d=\"M 315.9 536.0 L 315.9 536.0\"></path><path d=\"M 323.8 543.3 L 323.8 543.3\"></path><path d=\"M 332.2 550.0 L 332.2 550.0\"></path><path d=\"M 341.1 556.1 L 341.1 556.1\"></path><path d=\"M 350.3 561.5 L 350.3 561.5\"></path><path d=\"M 359.9 566.4 L 359.9 566.4\"></path><path d=\"M 369.8 570.5 L 369.8 570.5\"></path><path d=\"M 380.0 574.0 L 380.0 574.0\"></path><path d=\"M 390.4 576.7 L 390.4 576.7\"></path><path d=\"M 400.9 578.8 L 400.9 578.8\"></path><path d=\"M 411.6 580.1 L 411.6 580.1\"></path><path d=\"M 422.3 580.6 L 422.3 580.6\"></path><path d=\"M 433.1 580.4 L 433.1 580.4\"></path><path d=\"M 443.8 579.5 L 443.8 579.5\"></path><path d=\"M 454.4 577.8 L 454.4 577.8\"></path><path d=\"M 464.9 575.5 L 464.9 575.5\"></path><path d=\"M 475.1 572.3 L 475.1 572.3\"></path><path d=\"M 485.2 568.5 L 485.2 568.5\"></path><path d=\"M 494.9 564.0 L 494.9 564.0\"></path><path d=\"M 504.4 558.9 L 504.4 558.9\"></path><path d=\"M 513.4 553.1 L 513.4 553.1\"></path><path d=\"M 522.0 546.7 L 522.0 546.7\"></path><path d=\"M 530.2 539.7 L 530.2 539.7\"></path><path d=\"M 537.9 532.2 L 537.9 532.2\"></path><path d=\"M 545.0 524.1 L 545.0 524.1\"></path><path d=\"M 551.6 515.6 L 551.6 515.6\"></path><path d=\"M 557.5 506.7 L 557.5 506.7\"></path><path d=\"M 562.8 497.3 L 562.8 497.3\"></path><path d=\"M 567.5 487.6 L 567.5 487.6\"></path><path d=\"M 571.5 477.7 L 571.5 477.7\"></path><path d=\"M 574.8 467.4 L 574.8 467.4\"></path><path d=\"M 577.3 457.0 L 577.3 457.0\"></path><path d=\"M 579.2 446.4 L 579.2 446.4\"></path><path d=\"M 580.3 435.7 L 580.3 435.7\"></path></g><g class=\"toytree-Nodes\" style=\"fill:rgb(40%,76.1%,64.7%);fill-opacity:1.0;stroke:rgb(0%,0%,0%);stroke-opacity:1.0;stroke-width:1\"><g fill=\"rgb(100%,100%,100%)\" fill-opacity=\"1.0\" id=\"node-0\" transform=\"translate(580.653,425.000)\"><circle r=\"2.9141104294478524\"></circle></g><g fill=\"rgb(100%,100%,100%)\" fill-opacity=\"1.0\" id=\"node-1\" transform=\"translate(580.282,414.262)\"><circle r=\"2.9550102249488748\"></circle></g><g fill=\"rgb(0%,100%,100%)\" fill-opacity=\"1.0\" id=\"node-2\" transform=\"translate(579.171,403.576)\"><circle r=\"0.0\"></circle></g><g fill=\"rgb(0%,100%,100%)\" fill-opacity=\"1.0\" id=\"node-3\" transform=\"translate(577.325,392.991)\"><circle r=\"0.0\"></circle></g><g fill=\"rgb(0%,100%,100%)\" fill-opacity=\"1.0\" id=\"node-4\" transform=\"translate(574.754,382.559)\"><circle r=\"0.0\"></circle></g><g fill=\"rgb(0%,100%,100%)\" fill-opacity=\"1.0\" id=\"node-5\" transform=\"translate(571.469,372.330)\"><circle r=\"0.0\"></circle></g><g fill=\"rgb(0%,100%,100%)\" fill-opacity=\"1.0\" id=\"node-6\" transform=\"translate(567.486,362.351)\"><circle r=\"0.0\"></circle></g><g fill=\"rgb(0%,100%,100%)\" fill-opacity=\"1.0\" id=\"node-7\" transform=\"translate(562.823,352.671)\"><circle r=\"0.0\"></circle></g><g fill=\"rgb(0%,100%,100%)\" fill-opacity=\"1.0\" id=\"node-8\" transform=\"translate(557.505,343.336)\"><circle r=\"0.0\"></circle></g><g fill=\"rgb(0%,100%,100%)\" fill-opacity=\"1.0\" id=\"node-9\" transform=\"translate(551.554,334.389)\"><circle r=\"0.0\"></circle></g><g fill=\"rgb(0%,100%,100%)\" fill-opacity=\"1.0\" id=\"node-10\" transform=\"translate(545.001,325.875)\"><circle r=\"0.0\"></circle></g><g fill=\"rgb(0%,100%,100%)\" fill-opacity=\"1.0\" id=\"node-11\" transform=\"translate(537.876,317.833)\"><circle r=\"0.0\"></circle></g><g fill=\"rgb(0%,100%,100%)\" fill-opacity=\"1.0\" id=\"node-12\" transform=\"translate(530.212,310.301)\"><circle r=\"0.0\"></circle></g><g fill=\"rgb(0%,100%,100%)\" fill-opacity=\"1.0\" id=\"node-13\" transform=\"translate(522.048,303.317)\"><circle r=\"0.0\"></circle></g><g fill=\"rgb(0%,100%,100%)\" fill-opacity=\"1.0\" id=\"node-14\" transform=\"translate(513.421,296.912)\"><circle r=\"0.0\"></circle></g><g fill=\"rgb(0%,100%,100%)\" fill-opacity=\"1.0\" id=\"node-15\" transform=\"translate(504.372,291.117)\"><circle r=\"0.0\"></circle></g><g fill=\"rgb(0%,100%,100%)\" fill-opacity=\"1.0\" id=\"node-16\" transform=\"translate(494.946,285.961)\"><circle r=\"0.0\"></circle></g><g fill=\"rgb(0%,100%,100%)\" fill-opacity=\"1.0\" id=\"node-17\" transform=\"translate(485.186,281.467)\"><circle r=\"0.0\"></circle></g><g fill=\"rgb(0%,100%,100%)\" fill-opacity=\"1.0\" id=\"node-18\" transform=\"translate(475.139,277.657)\"><circle r=\"0.0\"></circle></g><g fill=\"rgb(0%,100%,100%)\" fill-opacity=\"1.0\" id=\"node-19\" transform=\"translate(464.853,274.549)\"><circle r=\"0.0\"></circle></g><g fill=\"rgb(0%,100%,100%)\" fill-opacity=\"1.0\" id=\"node-20\" transform=\"translate(454.377,272.158)\"><circle r=\"0.0\"></circle></g><g fill=\"rgb(100%,100%,100%)\" fill-opacity=\"1.0\" id=\"node-21\" transform=\"translate(443.762,270.496)\"><circle r=\"7.361963190184048\"></circle></g><g fill=\"rgb(0%,100%,100%)\" fill-opacity=\"1.0\" id=\"node-22\" transform=\"translate(433.057,269.570)\"><circle r=\"0.0\"></circle></g><g fill=\"rgb(0%,100%,100%)\" fill-opacity=\"1.0\" id=\"node-23\" transform=\"translate(422.313,269.384)\"><circle r=\"0.0\"></circle></g><g fill=\"rgb(0%,100%,100%)\" fill-opacity=\"1.0\" id=\"node-24\" transform=\"translate(411.583,269.940)\"><circle r=\"0.0\"></circle></g><g fill=\"rgb(0%,100%,100%)\" fill-opacity=\"1.0\" id=\"node-25\" transform=\"translate(400.916,271.235)\"><circle r=\"0.0\"></circle></g><g fill=\"rgb(0%,100%,100%)\" fill-opacity=\"1.0\" id=\"node-26\" transform=\"translate(390.364,273.263)\"><circle r=\"0.0\"></circle></g><g fill=\"rgb(0%,100%,100%)\" fill-opacity=\"1.0\" id=\"node-27\" transform=\"translate(379.977,276.014)\"><circle r=\"0.0\"></circle></g><g fill=\"rgb(0%,100%,100%)\" fill-opacity=\"1.0\" id=\"node-28\" transform=\"translate(369.805,279.475)\"><circle r=\"0.0\"></circle></g><g fill=\"rgb(0%,100%,100%)\" fill-opacity=\"1.0\" id=\"node-29\" transform=\"translate(359.896,283.629)\"><circle r=\"0.0\"></circle></g><g fill=\"rgb(0%,100%,100%)\" fill-opacity=\"1.0\" id=\"node-30\" transform=\"translate(350.297,288.457)\"><circle r=\"0.0\"></circle></g><g fill=\"rgb(0%,100%,100%)\" fill-opacity=\"1.0\" id=\"node-31\" transform=\"translate(341.053,293.936)\"><circle r=\"0.0\"></circle></g><g fill=\"rgb(0%,100%,100%)\" fill-opacity=\"1.0\" id=\"node-32\" transform=\"translate(332.210,300.040)\"><circle r=\"0.0\"></circle></g><g fill=\"rgb(0%,100%,100%)\" fill-opacity=\"1.0\" id=\"node-33\" transform=\"translate(323.810,306.738)\"><circle r=\"0.0\"></circle></g><g fill=\"rgb(0%,100%,100%)\" fill-opacity=\"1.0\" id=\"node-34\" transform=\"translate(315.891,314.001)\"><circle r=\"0.0\"></circle></g><g fill=\"rgb(0%,100%,100%)\" fill-opacity=\"1.0\" id=\"node-35\" transform=\"translate(308.492,321.792)\"><circle r=\"0.0\"></circle></g><g fill=\"rgb(0%,100%,100%)\" fill-opacity=\"1.0\" id=\"node-36\" transform=\"translate(301.649,330.075)\"><circle r=\"0.0\"></circle></g><g fill=\"rgb(0%,100%,100%)\" fill-opacity=\"1.0\" id=\"node-37\" transform=\"translate(295.393,338.811)\"><circle r=\"0.0\"></circle></g><g fill=\"rgb(0%,100%,100%)\" fill-opacity=\"1.0\" id=\"node-38\" transform=\"translate(289.755,347.957)\"><circle r=\"0.0\"></circle></g><g fill=\"rgb(0%,100%,100%)\" fill-opacity=\"1.0\" id=\"node-39\" transform=\"translate(284.762,357.471)\"><circle r=\"0.0\"></circle></g><g fill=\"rgb(0%,100%,100%)\" fill-opacity=\"1.0\" id=\"node-40\" transform=\"translate(280.437,367.306)\"><circle r=\"0.0\"></circle></g><g fill=\"rgb(0%,100%,100%)\" fill-opacity=\"1.0\" id=\"node-41\" transform=\"translate(276.800,377.416)\"><circle r=\"0.0\"></circle></g><g fill=\"rgb(0%,100%,100%)\" fill-opacity=\"1.0\" id=\"node-42\" transform=\"translate(273.870,387.753)\"><circle r=\"0.0\"></circle></g><g fill=\"rgb(0%,100%,100%)\" fill-opacity=\"1.0\" id=\"node-43\" transform=\"translate(271.661,398.268)\"><circle r=\"0.0\"></circle></g><g fill=\"rgb(0%,100%,100%)\" fill-opacity=\"1.0\" id=\"node-44\" transform=\"translate(270.182,408.909)\"><circle r=\"0.0\"></circle></g><g fill=\"rgb(0%,100%,100%)\" fill-opacity=\"1.0\" id=\"node-45\" transform=\"translate(269.440,419.628)\"><circle r=\"0.0\"></circle></g><g fill=\"rgb(0%,100%,100%)\" fill-opacity=\"1.0\" id=\"node-46\" transform=\"translate(269.440,430.372)\"><circle r=\"0.0\"></circle></g><g fill=\"rgb(0%,100%,100%)\" fill-opacity=\"1.0\" id=\"node-47\" transform=\"translate(270.182,441.091)\"><circle r=\"0.0\"></circle></g><g fill=\"rgb(0%,100%,100%)\" fill-opacity=\"1.0\" id=\"node-48\" transform=\"translate(271.661,451.732)\"><circle r=\"0.0\"></circle></g><g fill=\"rgb(0%,100%,100%)\" fill-opacity=\"1.0\" id=\"node-49\" transform=\"translate(273.870,462.247)\"><circle r=\"0.0\"></circle></g><g fill=\"rgb(0%,100%,100%)\" fill-opacity=\"1.0\" id=\"node-50\" transform=\"translate(276.800,472.584)\"><circle r=\"0.0\"></circle></g><g fill=\"rgb(0%,100%,100%)\" fill-opacity=\"1.0\" id=\"node-51\" transform=\"translate(280.437,482.694)\"><circle r=\"0.0\"></circle></g><g fill=\"rgb(0%,100%,100%)\" fill-opacity=\"1.0\" id=\"node-52\" transform=\"translate(284.762,492.529)\"><circle r=\"0.0\"></circle></g><g fill=\"rgb(0%,100%,100%)\" fill-opacity=\"1.0\" id=\"node-53\" transform=\"translate(289.755,502.043)\"><circle r=\"0.0\"></circle></g><g fill=\"rgb(0%,100%,100%)\" fill-opacity=\"1.0\" id=\"node-54\" transform=\"translate(295.393,511.189)\"><circle r=\"0.0\"></circle></g><g fill=\"rgb(0%,100%,100%)\" fill-opacity=\"1.0\" id=\"node-55\" transform=\"translate(301.649,519.925)\"><circle r=\"0.0\"></circle></g><g fill=\"rgb(0%,100%,100%)\" fill-opacity=\"1.0\" id=\"node-56\" transform=\"translate(308.492,528.208)\"><circle r=\"0.0\"></circle></g><g fill=\"rgb(0%,100%,100%)\" fill-opacity=\"1.0\" id=\"node-57\" transform=\"translate(315.891,535.999)\"><circle r=\"0.0\"></circle></g><g fill=\"rgb(0%,100%,100%)\" fill-opacity=\"1.0\" id=\"node-58\" transform=\"translate(323.810,543.262)\"><circle r=\"0.0\"></circle></g><g fill=\"rgb(0%,100%,100%)\" fill-opacity=\"1.0\" id=\"node-59\" transform=\"translate(332.210,549.960)\"><circle r=\"0.0\"></circle></g><g fill=\"rgb(0%,100%,100%)\" fill-opacity=\"1.0\" id=\"node-60\" transform=\"translate(341.053,556.064)\"><circle r=\"0.0\"></circle></g><g fill=\"rgb(0%,100%,100%)\" fill-opacity=\"1.0\" id=\"node-61\" transform=\"translate(350.297,561.543)\"><circle r=\"0.0\"></circle></g><g fill=\"rgb(0%,100%,100%)\" fill-opacity=\"1.0\" id=\"node-62\" transform=\"translate(359.896,566.371)\"><circle r=\"0.0\"></circle></g><g fill=\"rgb(100%,100%,100%)\" fill-opacity=\"1.0\" id=\"node-63\" transform=\"translate(369.805,570.525)\"><circle r=\"2.4335378323108383\"></circle></g><g fill=\"rgb(100%,100%,100%)\" fill-opacity=\"1.0\" id=\"node-64\" transform=\"translate(379.977,573.986)\"><circle r=\"5.2044989775051125\"></circle></g><g fill=\"rgb(0%,100%,100%)\" fill-opacity=\"1.0\" id=\"node-65\" transform=\"translate(390.364,576.737)\"><circle r=\"0.0\"></circle></g><g fill=\"rgb(0%,100%,100%)\" fill-opacity=\"1.0\" id=\"node-66\" transform=\"translate(400.916,578.765)\"><circle r=\"0.0\"></circle></g><g fill=\"rgb(0%,100%,100%)\" fill-opacity=\"1.0\" id=\"node-67\" transform=\"translate(411.583,580.060)\"><circle r=\"0.0\"></circle></g><g fill=\"rgb(0%,100%,100%)\" fill-opacity=\"1.0\" id=\"node-68\" transform=\"translate(422.313,580.616)\"><circle r=\"0.0\"></circle></g><g fill=\"rgb(0%,100%,100%)\" fill-opacity=\"1.0\" id=\"node-69\" transform=\"translate(433.057,580.430)\"><circle r=\"0.0\"></circle></g><g fill=\"rgb(0%,100%,100%)\" fill-opacity=\"1.0\" id=\"node-70\" transform=\"translate(443.762,579.504)\"><circle r=\"0.0\"></circle></g><g fill=\"rgb(0%,100%,100%)\" fill-opacity=\"1.0\" id=\"node-71\" transform=\"translate(454.377,577.842)\"><circle r=\"0.0\"></circle></g><g fill=\"rgb(0%,100%,100%)\" fill-opacity=\"1.0\" id=\"node-72\" transform=\"translate(464.853,575.451)\"><circle r=\"0.0\"></circle></g><g fill=\"rgb(0%,100%,100%)\" fill-opacity=\"1.0\" id=\"node-73\" transform=\"translate(475.139,572.343)\"><circle r=\"0.0\"></circle></g><g fill=\"rgb(0%,100%,100%)\" fill-opacity=\"1.0\" id=\"node-74\" transform=\"translate(485.186,568.533)\"><circle r=\"0.0\"></circle></g><g fill=\"rgb(100%,100%,100%)\" fill-opacity=\"1.0\" id=\"node-75\" transform=\"translate(494.946,564.039)\"><circle r=\"10.0\"></circle></g><g fill=\"rgb(100%,100%,100%)\" fill-opacity=\"1.0\" id=\"node-76\" transform=\"translate(504.372,558.883)\"><circle r=\"8.721881390593046\"></circle></g><g fill=\"rgb(0%,100%,100%)\" fill-opacity=\"1.0\" id=\"node-77\" transform=\"translate(513.421,553.088)\"><circle r=\"0.0\"></circle></g><g fill=\"rgb(0%,100%,100%)\" fill-opacity=\"1.0\" id=\"node-78\" transform=\"translate(522.048,546.683)\"><circle r=\"0.0\"></circle></g><g fill=\"rgb(0%,100%,100%)\" fill-opacity=\"1.0\" id=\"node-79\" transform=\"translate(530.212,539.699)\"><circle r=\"0.0\"></circle></g><g fill=\"rgb(0%,100%,100%)\" fill-opacity=\"1.0\" id=\"node-80\" transform=\"translate(537.876,532.167)\"><circle r=\"0.0\"></circle></g><g fill=\"rgb(0%,100%,100%)\" fill-opacity=\"1.0\" id=\"node-81\" transform=\"translate(545.001,524.125)\"><circle r=\"0.0\"></circle></g><g fill=\"rgb(0%,100%,100%)\" fill-opacity=\"1.0\" id=\"node-82\" transform=\"translate(551.554,515.611)\"><circle r=\"0.0\"></circle></g><g fill=\"rgb(0%,100%,100%)\" fill-opacity=\"1.0\" id=\"node-83\" transform=\"translate(557.505,506.664)\"><circle r=\"0.0\"></circle></g><g fill=\"rgb(0%,100%,100%)\" fill-opacity=\"1.0\" id=\"node-84\" transform=\"translate(562.823,497.329)\"><circle r=\"0.0\"></circle></g><g fill=\"rgb(0%,100%,100%)\" fill-opacity=\"1.0\" id=\"node-85\" transform=\"translate(567.486,487.649)\"><circle r=\"0.0\"></circle></g><g fill=\"rgb(0%,100%,100%)\" fill-opacity=\"1.0\" id=\"node-86\" transform=\"translate(571.469,477.670)\"><circle r=\"0.0\"></circle></g><g fill=\"rgb(0%,100%,100%)\" fill-opacity=\"1.0\" id=\"node-87\" transform=\"translate(574.754,467.441)\"><circle r=\"0.0\"></circle></g><g fill=\"rgb(0%,100%,100%)\" fill-opacity=\"1.0\" id=\"node-88\" transform=\"translate(577.325,457.009)\"><circle r=\"0.0\"></circle></g><g fill=\"rgb(0%,100%,100%)\" fill-opacity=\"1.0\" id=\"node-89\" transform=\"translate(579.171,446.424)\"><circle r=\"0.0\"></circle></g><g fill=\"rgb(0%,100%,100%)\" fill-opacity=\"1.0\" id=\"node-90\" transform=\"translate(580.282,435.738)\"><circle r=\"0.0\"></circle></g><g fill=\"rgb(0%,100%,100%)\" fill-opacity=\"1.0\" id=\"node-91\" transform=\"translate(549.795,389.633)\"><circle r=\"0.0\"></circle></g><g fill=\"rgb(0%,100%,100%)\" fill-opacity=\"1.0\" id=\"node-92\" transform=\"translate(509.325,326.449)\"><circle r=\"0.0\"></circle></g><g fill=\"rgb(0%,100%,100%)\" fill-opacity=\"1.0\" id=\"node-93\" transform=\"translate(470.996,303.729)\"><circle r=\"0.0\"></circle></g><g fill=\"rgb(0%,100%,100%)\" fill-opacity=\"1.0\" id=\"node-94\" transform=\"translate(379.004,303.729)\"><circle r=\"0.0\"></circle></g><g fill=\"rgb(0%,100%,100%)\" fill-opacity=\"1.0\" id=\"node-95\" transform=\"translate(308.135,368.726)\"><circle r=\"0.0\"></circle></g><g fill=\"rgb(0%,100%,100%)\" fill-opacity=\"1.0\" id=\"node-96\" transform=\"translate(301.500,385.347)\"><circle r=\"0.0\"></circle></g><g fill=\"rgb(0%,100%,100%)\" fill-opacity=\"1.0\" id=\"node-97\" transform=\"translate(298.062,398.326)\"><circle r=\"0.0\"></circle></g><g fill=\"rgb(0%,100%,100%)\" fill-opacity=\"1.0\" id=\"node-98\" transform=\"translate(295.985,411.591)\"><circle r=\"0.0\"></circle></g><g fill=\"rgb(0%,100%,100%)\" fill-opacity=\"1.0\" id=\"node-99\" transform=\"translate(295.367,420.523)\"><circle r=\"0.0\"></circle></g><g fill=\"rgb(0%,100%,100%)\" fill-opacity=\"1.0\" id=\"node-100\" transform=\"translate(295.367,429.477)\"><circle r=\"0.0\"></circle></g><g fill=\"rgb(0%,100%,100%)\" fill-opacity=\"1.0\" id=\"node-101\" transform=\"translate(299.059,456.039)\"><circle r=\"0.0\"></circle></g><g fill=\"rgb(0%,100%,100%)\" fill-opacity=\"1.0\" id=\"node-102\" transform=\"translate(314.580,493.054)\"><circle r=\"0.0\"></circle></g><g fill=\"rgb(0%,100%,100%)\" fill-opacity=\"1.0\" id=\"node-103\" transform=\"translate(327.910,511.006)\"><circle r=\"0.0\"></circle></g><g fill=\"rgb(0%,100%,100%)\" fill-opacity=\"1.0\" id=\"node-104\" transform=\"translate(334.076,517.499)\"><circle r=\"0.0\"></circle></g><g fill=\"rgb(0%,100%,100%)\" fill-opacity=\"1.0\" id=\"node-105\" transform=\"translate(340.675,523.551)\"><circle r=\"0.0\"></circle></g><g fill=\"rgb(0%,100%,100%)\" fill-opacity=\"1.0\" id=\"node-106\" transform=\"translate(355.045,534.220)\"><circle r=\"0.0\"></circle></g><g fill=\"rgb(0%,100%,100%)\" fill-opacity=\"1.0\" id=\"node-107\" transform=\"translate(374.845,544.611)\"><circle r=\"0.0\"></circle></g><g fill=\"rgb(0%,100%,100%)\" fill-opacity=\"1.0\" id=\"node-108\" transform=\"translate(404.930,553.137)\"><circle r=\"0.0\"></circle></g><g fill=\"rgb(0%,100%,100%)\" fill-opacity=\"1.0\" id=\"node-109\" transform=\"translate(436.181,554.216)\"><circle r=\"0.0\"></circle></g><g fill=\"rgb(0%,100%,100%)\" fill-opacity=\"1.0\" id=\"node-110\" transform=\"translate(453.863,551.447)\"><circle r=\"0.0\"></circle></g><g fill=\"rgb(0%,100%,100%)\" fill-opacity=\"1.0\" id=\"node-111\" transform=\"translate(470.996,546.271)\"><circle r=\"0.0\"></circle></g><g fill=\"rgb(0%,100%,100%)\" fill-opacity=\"1.0\" id=\"node-112\" transform=\"translate(483.288,540.866)\"><circle r=\"0.0\"></circle></g><g fill=\"rgb(0%,100%,100%)\" fill-opacity=\"1.0\" id=\"node-113\" transform=\"translate(491.144,536.569)\"><circle r=\"0.0\"></circle></g><g fill=\"rgb(0%,100%,100%)\" fill-opacity=\"1.0\" id=\"node-114\" transform=\"translate(512.677,520.582)\"><circle r=\"0.0\"></circle></g><g fill=\"rgb(0%,100%,100%)\" fill-opacity=\"1.0\" id=\"node-115\" transform=\"translate(530.462,500.509)\"><circle r=\"0.0\"></circle></g><g fill=\"rgb(0%,100%,100%)\" fill-opacity=\"1.0\" id=\"node-116\" transform=\"translate(535.420,493.054)\"><circle r=\"0.0\"></circle></g><g fill=\"rgb(0%,100%,100%)\" fill-opacity=\"1.0\" id=\"node-117\" transform=\"translate(543.738,477.207)\"><circle r=\"0.0\"></circle></g><g fill=\"rgb(0%,100%,100%)\" fill-opacity=\"1.0\" id=\"node-118\" transform=\"translate(550.941,456.039)\"><circle r=\"0.0\"></circle></g><g fill=\"rgb(0%,100%,100%)\" fill-opacity=\"1.0\" id=\"node-119\" transform=\"translate(553.476,442.854)\"><circle r=\"0.0\"></circle></g><g fill=\"rgb(0%,100%,100%)\" fill-opacity=\"1.0\" id=\"node-120\" transform=\"translate(554.401,433.948)\"><circle r=\"0.0\"></circle></g><g fill=\"rgb(0%,100%,100%)\" fill-opacity=\"1.0\" id=\"node-121\" transform=\"translate(498.586,351.842)\"><circle r=\"0.0\"></circle></g><g fill=\"rgb(0%,100%,100%)\" fill-opacity=\"1.0\" id=\"node-122\" transform=\"translate(388.203,327.983)\"><circle r=\"0.0\"></circle></g><g fill=\"rgb(0%,100%,100%)\" fill-opacity=\"1.0\" id=\"node-123\" transform=\"translate(328.624,386.537)\"><circle r=\"0.0\"></circle></g><g fill=\"rgb(0%,100%,100%)\" fill-opacity=\"1.0\" id=\"node-124\" transform=\"translate(323.450,403.661)\"><circle r=\"0.0\"></circle></g><g fill=\"rgb(0%,100%,100%)\" fill-opacity=\"1.0\" id=\"node-125\" transform=\"translate(321.788,414.273)\"><circle r=\"0.0\"></circle></g><g fill=\"rgb(0%,100%,100%)\" fill-opacity=\"1.0\" id=\"node-126\" transform=\"translate(321.293,421.419)\"><circle r=\"0.0\"></circle></g><g fill=\"rgb(0%,100%,100%)\" fill-opacity=\"1.0\" id=\"node-127\" transform=\"translate(321.293,428.581)\"><circle r=\"0.0\"></circle></g><g fill=\"rgb(0%,100%,100%)\" fill-opacity=\"1.0\" id=\"node-128\" transform=\"translate(329.303,465.120)\"><circle r=\"0.0\"></circle></g><g fill=\"rgb(0%,100%,100%)\" fill-opacity=\"1.0\" id=\"node-129\" transform=\"translate(352.261,498.999)\"><circle r=\"0.0\"></circle></g><g fill=\"rgb(0%,100%,100%)\" fill-opacity=\"1.0\" id=\"node-130\" transform=\"translate(369.036,512.376)\"><circle r=\"0.0\"></circle></g><g fill=\"rgb(0%,100%,100%)\" fill-opacity=\"1.0\" id=\"node-131\" transform=\"translate(384.876,520.689)\"><circle r=\"0.0\"></circle></g><g fill=\"rgb(0%,100%,100%)\" fill-opacity=\"1.0\" id=\"node-132\" transform=\"translate(450.991,525.452)\"><circle r=\"0.0\"></circle></g><g fill=\"rgb(0%,100%,100%)\" fill-opacity=\"1.0\" id=\"node-133\" transform=\"translate(506.500,489.225)\"><circle r=\"0.0\"></circle></g><g fill=\"rgb(0%,100%,100%)\" fill-opacity=\"1.0\" id=\"node-134\" transform=\"translate(523.237,458.423)\"><circle r=\"0.0\"></circle></g><g fill=\"rgb(0%,100%,100%)\" fill-opacity=\"1.0\" id=\"node-135\" transform=\"translate(527.781,439.283)\"><circle r=\"0.0\"></circle></g><g fill=\"rgb(0%,100%,100%)\" fill-opacity=\"1.0\" id=\"node-136\" transform=\"translate(528.521,432.158)\"><circle r=\"0.0\"></circle></g><g fill=\"rgb(0%,100%,100%)\" fill-opacity=\"1.0\" id=\"node-137\" transform=\"translate(361.132,380.531)\"><circle r=\"0.0\"></circle></g><g fill=\"rgb(0%,100%,100%)\" fill-opacity=\"1.0\" id=\"node-138\" transform=\"translate(360.571,468.652)\"><circle r=\"0.0\"></circle></g><g fill=\"rgb(0%,100%,100%)\" fill-opacity=\"1.0\" id=\"node-139\" transform=\"translate(388.832,493.906)\"><circle r=\"0.0\"></circle></g><g fill=\"rgb(0%,100%,100%)\" fill-opacity=\"1.0\" id=\"node-140\" transform=\"translate(444.493,500.339)\"><circle r=\"0.0\"></circle></g><g fill=\"rgb(0%,100%,100%)\" fill-opacity=\"1.0\" id=\"node-141\" transform=\"translate(486.125,473.169)\"><circle r=\"0.0\"></circle></g><g fill=\"rgb(100%,100%,100%)\" fill-opacity=\"1.0\" id=\"node-142\" transform=\"translate(500.723,442.971)\"><circle r=\"2.5460122699386507\"></circle></g><g fill=\"rgb(0%,100%,100%)\" fill-opacity=\"1.0\" id=\"node-143\" transform=\"translate(502.641,430.369)\"><circle r=\"0.0\"></circle></g><g fill=\"rgb(0%,100%,100%)\" fill-opacity=\"1.0\" id=\"node-144\" transform=\"translate(376.410,443.191)\"><circle r=\"0.0\"></circle></g><g fill=\"rgb(0%,100%,100%)\" fill-opacity=\"1.0\" id=\"node-145\" transform=\"translate(437.996,475.226)\"><circle r=\"0.0\"></circle></g><g fill=\"rgb(0%,100%,100%)\" fill-opacity=\"1.0\" id=\"node-146\" transform=\"translate(465.750,457.113)\"><circle r=\"0.0\"></circle></g><g fill=\"rgb(0%,100%,100%)\" fill-opacity=\"1.0\" id=\"node-147\" transform=\"translate(475.482,436.980)\"><circle r=\"0.0\"></circle></g><g fill=\"rgb(0%,100%,100%)\" fill-opacity=\"1.0\" id=\"node-148\" transform=\"translate(476.761,428.579)\"><circle r=\"0.0\"></circle></g><g fill=\"rgb(0%,100%,100%)\" fill-opacity=\"1.0\" id=\"node-149\" transform=\"translate(438.707,447.023)\"><circle r=\"0.0\"></circle></g><g fill=\"rgb(0%,100%,100%)\" fill-opacity=\"1.0\" id=\"node-150\" transform=\"translate(425.000,425.000)\"><circle r=\"0.0\"></circle></g></g><g class=\"toytree-TipLabels\" style=\"fill:rgb(14.9%,14.9%,14.9%);fill-opacity:1.0;font-family:helvetica;font-size:12px;font-weight:normal;stroke:none;white-space:pre\"><g transform=\"translate(580.65,425.00)rotate(-0)\"><text x=\"15.00\" y=\"3.07\" style=\"fill:rgb(100%,0%,0%);fill-opacity:1.0\">Faecalibacterium</text></g><g transform=\"translate(580.28,414.26)rotate(-4)\"><text x=\"15.00\" y=\"3.07\" style=\"fill:rgb(100%,0%,0%);fill-opacity:1.0\">Subdoligranulum</text></g><g transform=\"translate(579.17,403.58)rotate(-8)\"><text x=\"15.00\" y=\"3.07\" style=\"fill:rgb(100%,0%,0%);fill-opacity:1.0\">Ruminococcus</text></g><g transform=\"translate(577.33,392.99)rotate(-12)\"><text x=\"15.00\" y=\"3.07\" style=\"fill:rgb(0%,0%,0%);fill-opacity:1.0\">Anaerofilum</text></g><g transform=\"translate(574.75,382.56)rotate(-16)\"><text x=\"15.00\" y=\"3.07\" style=\"fill:rgb(0%,0%,0%);fill-opacity:1.0\">Paludicola</text></g><g transform=\"translate(571.47,372.33)rotate(-20)\"><text x=\"15.00\" y=\"3.07\" style=\"fill:rgb(0%,0%,0%);fill-opacity:1.0\">UBA1819</text></g><g transform=\"translate(567.49,362.35)rotate(-24)\"><text x=\"15.00\" y=\"3.07\" style=\"fill:rgb(0%,0%,0%);fill-opacity:1.0\">Incertae_Sedis</text></g><g transform=\"translate(562.82,352.67)rotate(-28)\"><text x=\"15.00\" y=\"3.07\" style=\"fill:rgb(0%,0%,0%);fill-opacity:1.0\">Angelakisella</text></g><g transform=\"translate(557.50,343.34)rotate(-32)\"><text x=\"15.00\" y=\"3.07\" style=\"fill:rgb(0%,0%,0%);fill-opacity:1.0\">Negativibacillus</text></g><g transform=\"translate(551.55,334.39)rotate(-36)\"><text x=\"15.00\" y=\"3.07\" style=\"fill:rgb(0%,0%,0%);fill-opacity:1.0\">UCG-002</text></g><g transform=\"translate(545.00,325.87)rotate(-40)\"><text x=\"15.00\" y=\"3.07\" style=\"fill:rgb(0%,0%,0%);fill-opacity:1.0\">UCG-005</text></g><g transform=\"translate(537.88,317.83)rotate(-44)\"><text x=\"15.00\" y=\"3.07\" style=\"fill:rgb(0%,0%,0%);fill-opacity:1.0\">UCG-003</text></g><g transform=\"translate(530.21,310.30)rotate(-47)\"><text x=\"15.00\" y=\"3.07\" style=\"fill:rgb(0%,0%,0%);fill-opacity:1.0\">Flavonifractor</text></g><g transform=\"translate(522.05,303.32)rotate(-51)\"><text x=\"15.00\" y=\"3.07\" style=\"fill:rgb(0%,0%,0%);fill-opacity:1.0\">V9D2013_group</text></g><g transform=\"translate(513.42,296.91)rotate(-55)\"><text x=\"15.00\" y=\"3.07\" style=\"fill:rgb(0%,0%,0%);fill-opacity:1.0\">Oscillibacter</text></g><g transform=\"translate(504.37,291.12)rotate(-59)\"><text x=\"15.00\" y=\"3.07\" style=\"fill:rgb(0%,0%,0%);fill-opacity:1.0\">NK4A214_group</text></g><g transform=\"translate(494.95,285.96)rotate(-63)\"><text x=\"15.00\" y=\"3.07\" style=\"fill:rgb(0%,0%,0%);fill-opacity:1.0\">Intestinimonas</text></g><g transform=\"translate(485.19,281.47)rotate(-67)\"><text x=\"15.00\" y=\"3.07\" style=\"fill:rgb(0%,0%,0%);fill-opacity:1.0\">Butyricicoccus</text></g><g transform=\"translate(475.14,277.66)rotate(-71)\"><text x=\"15.00\" y=\"3.07\" style=\"fill:rgb(0%,0%,0%);fill-opacity:1.0\">UCG-008</text></g><g transform=\"translate(464.85,274.55)rotate(-75)\"><text x=\"15.00\" y=\"3.07\" style=\"fill:rgb(0%,0%,0%);fill-opacity:1.0\">Blautia</text></g><g transform=\"translate(454.38,272.16)rotate(-79)\"><text x=\"15.00\" y=\"3.07\" style=\"fill:rgb(0%,0%,0%);fill-opacity:1.0\">Dorea</text></g><g transform=\"translate(443.76,270.50)rotate(-83)\"><text x=\"15.00\" y=\"3.07\" style=\"fill:rgb(0%,0%,0%);fill-opacity:1.0\">Agathobacter</text></g><g transform=\"translate(433.06,269.57)rotate(-87)\"><text x=\"15.00\" y=\"3.07\" style=\"fill:rgb(0%,0%,0%);fill-opacity:1.0\">Fusicatenibacter</text></g><g transform=\"translate(422.31,269.38)rotate(89)\"><text x=\"-85.03\" y=\"3.07\" style=\"fill:rgb(0%,0%,0%);fill-opacity:1.0\">Anaerostipes</text></g><g transform=\"translate(411.58,269.94)rotate(85)\"><text x=\"-201.77\" y=\"3.07\" style=\"fill:rgb(0%,0%,0%);fill-opacity:1.0\">Lachnospiraceae_NK4A136_group</text></g><g transform=\"translate(400.92,271.24)rotate(81)\"><text x=\"-85.02\" y=\"3.07\" style=\"fill:rgb(0%,0%,0%);fill-opacity:1.0\">Coprococcus</text></g><g transform=\"translate(390.36,273.26)rotate(77)\"><text x=\"-69.68\" y=\"3.07\" style=\"fill:rgb(0%,0%,0%);fill-opacity:1.0\">Roseburia</text></g><g transform=\"translate(379.98,276.01)rotate(73)\"><text x=\"-111.70\" y=\"3.07\" style=\"fill:rgb(0%,0%,0%);fill-opacity:1.0\">Lachnoclostridium</text></g><g transform=\"translate(369.80,279.48)rotate(69)\"><text x=\"-73.68\" y=\"3.07\" style=\"fill:rgb(0%,0%,0%);fill-opacity:1.0\">Sellimonas</text></g><g transform=\"translate(359.90,283.63)rotate(65)\"><text x=\"-93.68\" y=\"3.07\" style=\"fill:rgb(0%,0%,0%);fill-opacity:1.0\">Marvinbryantia</text></g><g transform=\"translate(350.30,288.46)rotate(61)\"><text x=\"-70.34\" y=\"3.07\" style=\"fill:rgb(0%,0%,0%);fill-opacity:1.0\">Tuzzerella</text></g><g transform=\"translate(341.05,293.94)rotate(57)\"><text x=\"-193.76\" y=\"3.07\" style=\"fill:rgb(0%,0%,0%);fill-opacity:1.0\">Lachnospiraceae_AC2044_group</text></g><g transform=\"translate(332.21,300.04)rotate(53)\"><text x=\"-58.34\" y=\"3.07\" style=\"fill:rgb(0%,0%,0%);fill-opacity:1.0\">CAG-56</text></g><g transform=\"translate(323.81,306.74)rotate(49)\"><text x=\"-80.36\" y=\"3.07\" style=\"fill:rgb(0%,0%,0%);fill-opacity:1.0\">Lachnospira</text></g><g transform=\"translate(315.89,314.00)rotate(45)\"><text x=\"-163.73\" y=\"3.07\" style=\"fill:rgb(0%,0%,0%);fill-opacity:1.0\">Lachnospiraceae_UCG-003</text></g><g transform=\"translate(308.49,321.79)rotate(42)\"><text x=\"-90.36\" y=\"3.07\" style=\"fill:rgb(0%,0%,0%);fill-opacity:1.0\">Eisenbergiella</text></g><g transform=\"translate(301.65,330.08)rotate(38)\"><text x=\"-163.73\" y=\"3.07\" style=\"fill:rgb(0%,0%,0%);fill-opacity:1.0\">Lachnospiraceae_UCG-010</text></g><g transform=\"translate(295.39,338.81)rotate(34)\"><text x=\"-163.73\" y=\"3.07\" style=\"fill:rgb(0%,0%,0%);fill-opacity:1.0\">Lachnospiraceae_UCG-001</text></g><g transform=\"translate(289.76,347.96)rotate(30)\"><text x=\"-79.02\" y=\"3.07\" style=\"fill:rgb(0%,0%,0%);fill-opacity:1.0\">Romboutsia</text></g><g transform=\"translate(284.76,357.47)rotate(26)\"><text x=\"-103.02\" y=\"3.07\" style=\"fill:rgb(0%,0%,0%);fill-opacity:1.0\">Terrisporobacter</text></g><g transform=\"translate(280.44,367.31)rotate(22)\"><text x=\"-89.70\" y=\"3.07\" style=\"fill:rgb(0%,0%,0%);fill-opacity:1.0\">Intestinibacter</text></g><g transform=\"translate(276.80,377.42)rotate(18)\"><text x=\"-162.40\" y=\"3.07\" style=\"fill:rgb(0%,0%,0%);fill-opacity:1.0\">Family_XIII_AD3011_group</text></g><g transform=\"translate(273.87,387.75)rotate(14)\"><text x=\"-187.07\" y=\"3.07\" style=\"fill:rgb(0%,0%,0%);fill-opacity:1.0\">Christensenellaceae_R-7_group</text></g><g transform=\"translate(271.66,398.27)rotate(10)\"><text x=\"-97.69\" y=\"3.07\" style=\"fill:rgb(0%,0%,0%);fill-opacity:1.0\">Christensenella</text></g><g transform=\"translate(270.18,408.91)rotate(6)\"><text x=\"-80.36\" y=\"3.07\" style=\"fill:rgb(0%,0%,0%);fill-opacity:1.0\">Monoglobus</text></g><g transform=\"translate(269.44,419.63)rotate(2)\"><text x=\"-165.71\" y=\"3.07\" style=\"fill:rgb(0%,0%,0%);fill-opacity:1.0\">Clostridium_sensu_stricto_1</text></g><g transform=\"translate(269.44,430.37)rotate(-2)\"><text x=\"-83.70\" y=\"3.07\" style=\"fill:rgb(0%,0%,0%);fill-opacity:1.0\">Peptococcus</text></g><g transform=\"translate(270.18,441.09)rotate(-6)\"><text x=\"-88.36\" y=\"3.07\" style=\"fill:rgb(0%,0%,0%);fill-opacity:1.0\">Holdemanella</text></g><g transform=\"translate(271.66,451.73)rotate(-10)\"><text x=\"-77.68\" y=\"3.07\" style=\"fill:rgb(0%,0%,0%);fill-opacity:1.0\">Turicibacter</text></g><g transform=\"translate(273.87,462.25)rotate(-14)\"><text x=\"-93.04\" y=\"3.07\" style=\"fill:rgb(0%,0%,0%);fill-opacity:1.0\">Catenisphaera</text></g><g transform=\"translate(276.80,472.58)rotate(-18)\"><text x=\"-79.02\" y=\"3.07\" style=\"fill:rgb(0%,0%,0%);fill-opacity:1.0\">Holdemania</text></g><g transform=\"translate(280.44,482.69)rotate(-22)\"><text x=\"-79.69\" y=\"3.07\" style=\"fill:rgb(0%,0%,0%);fill-opacity:1.0\">Faecalitalea</text></g><g transform=\"translate(284.76,492.53)rotate(-26)\"><text x=\"-177.05\" y=\"3.07\" style=\"fill:rgb(0%,0%,0%);fill-opacity:1.0\">Erysipelotrichaceae_UCG-003</text></g><g transform=\"translate(289.76,502.04)rotate(-30)\"><text x=\"-102.36\" y=\"3.07\" style=\"fill:rgb(0%,0%,0%);fill-opacity:1.0\">Catenibacterium</text></g><g transform=\"translate(295.39,511.19)rotate(-34)\"><text x=\"-131.69\" y=\"3.07\" style=\"fill:rgb(0%,0%,0%);fill-opacity:1.0\">Erysipelatoclostridium</text></g><g transform=\"translate(301.65,519.92)rotate(-38)\"><text x=\"-87.68\" y=\"3.07\" style=\"fill:rgb(0%,0%,0%);fill-opacity:1.0\">Coprobacillus</text></g><g transform=\"translate(308.49,528.21)rotate(-42)\"><text x=\"-84.36\" y=\"3.07\" style=\"fill:rgb(0%,0%,0%);fill-opacity:1.0\">Lactobacillus</text></g><g transform=\"translate(315.89,536.00)rotate(-45)\"><text x=\"-91.03\" y=\"3.07\" style=\"fill:rgb(0%,0%,0%);fill-opacity:1.0\">Streptococcus</text></g><g transform=\"translate(323.81,543.26)rotate(-49)\"><text x=\"-87.70\" y=\"3.07\" style=\"fill:rgb(0%,0%,0%);fill-opacity:1.0\">Enterococcus</text></g><g transform=\"translate(332.21,549.96)rotate(-53)\"><text x=\"-58.33\" y=\"3.07\" style=\"fill:rgb(0%,0%,0%);fill-opacity:1.0\">Dialister</text></g><g transform=\"translate(341.05,556.06)rotate(-57)\"><text x=\"-88.37\" y=\"3.07\" style=\"fill:rgb(0%,0%,0%);fill-opacity:1.0\">Megasphaera</text></g><g transform=\"translate(350.30,561.54)rotate(-61)\"><text x=\"-69.68\" y=\"3.07\" style=\"fill:rgb(0%,0%,0%);fill-opacity:1.0\">Veillonella</text></g><g transform=\"translate(359.90,566.37)rotate(-65)\"><text x=\"-108.36\" y=\"3.07\" style=\"fill:rgb(0%,0%,0%);fill-opacity:1.0\">Acidaminococcus</text></g><g transform=\"translate(369.80,570.52)rotate(-69)\"><text x=\"-137.04\" y=\"3.07\" style=\"fill:rgb(0%,0%,0%);fill-opacity:1.0\">Phascolarctobacterium</text></g><g transform=\"translate(379.98,573.99)rotate(-73)\"><text x=\"-68.35\" y=\"3.07\" style=\"fill:rgb(0%,0%,0%);fill-opacity:1.0\">Prevotella</text></g><g transform=\"translate(390.36,576.74)rotate(-77)\"><text x=\"-183.08\" y=\"3.07\" style=\"fill:rgb(0%,0%,0%);fill-opacity:1.0\">Prevotellaceae_NK3B31_group</text></g><g transform=\"translate(400.92,578.76)rotate(-81)\"><text x=\"-92.36\" y=\"3.07\" style=\"fill:rgb(0%,0%,0%);fill-opacity:1.0\">Paraprevotella</text></g><g transform=\"translate(411.58,580.06)rotate(-85)\"><text x=\"-87.02\" y=\"3.07\" style=\"fill:rgb(0%,0%,0%);fill-opacity:1.0\">Alloprevotella</text></g><g transform=\"translate(422.31,580.62)rotate(-89)\"><text x=\"-189.10\" y=\"3.07\" style=\"fill:rgb(0%,0%,0%);fill-opacity:1.0\">Prevotellaceae_YAB2003_group</text></g><g transform=\"translate(433.06,580.43)rotate(-273)\"><text x=\"15.00\" y=\"3.07\" style=\"fill:rgb(66.3%,66.3%,66.3%);fill-opacity:1.0\">Alistipes</text></g><g transform=\"translate(443.76,579.50)rotate(-277)\"><text x=\"15.00\" y=\"3.07\" style=\"fill:rgb(0%,0%,0%);fill-opacity:1.0\">Rikenellaceae_RC9_gut_group</text></g><g transform=\"translate(454.38,577.84)rotate(-281)\"><text x=\"15.00\" y=\"3.07\" style=\"fill:rgb(0%,0%,0%);fill-opacity:1.0\">Barnesiella</text></g><g transform=\"translate(464.85,575.45)rotate(-285)\"><text x=\"15.00\" y=\"3.07\" style=\"fill:rgb(0%,0%,0%);fill-opacity:1.0\">Coprobacter</text></g><g transform=\"translate(475.14,572.34)rotate(-289)\"><text x=\"15.00\" y=\"3.07\" style=\"fill:rgb(0%,0%,0%);fill-opacity:1.0\">Odoribacter</text></g><g transform=\"translate(485.19,568.53)rotate(-293)\"><text x=\"15.00\" y=\"3.07\" style=\"fill:rgb(0%,0%,0%);fill-opacity:1.0\">Butyricimonas</text></g><g transform=\"translate(494.95,564.04)rotate(-297)\"><text x=\"15.00\" y=\"3.07\" style=\"fill:rgb(100%,0%,0%);fill-opacity:1.0\">Bacteroides</text></g><g transform=\"translate(504.37,558.88)rotate(-301)\"><text x=\"15.00\" y=\"3.07\" style=\"fill:rgb(100%,0%,0%);fill-opacity:1.0\">Parabacteroides</text></g><g transform=\"translate(513.42,553.09)rotate(-305)\"><text x=\"15.00\" y=\"3.07\" style=\"fill:rgb(0%,0%,0%);fill-opacity:1.0\">Eggerthella</text></g><g transform=\"translate(522.05,546.68)rotate(-309)\"><text x=\"15.00\" y=\"3.07\" style=\"fill:rgb(0%,0%,0%);fill-opacity:1.0\">Gordonibacter</text></g><g transform=\"translate(530.21,539.70)rotate(-313)\"><text x=\"15.00\" y=\"3.07\" style=\"fill:rgb(0%,0%,0%);fill-opacity:1.0\">Slackia</text></g><g transform=\"translate(537.88,532.17)rotate(-316)\"><text x=\"15.00\" y=\"3.07\" style=\"fill:rgb(0%,0%,0%);fill-opacity:1.0\">Senegalimassilia</text></g><g transform=\"translate(545.00,524.13)rotate(-320)\"><text x=\"15.00\" y=\"3.07\" style=\"fill:rgb(0%,0%,0%);fill-opacity:1.0\">Enterorhabdus</text></g><g transform=\"translate(551.55,515.61)rotate(-324)\"><text x=\"15.00\" y=\"3.07\" style=\"fill:rgb(0%,0%,0%);fill-opacity:1.0\">Collinsella</text></g><g transform=\"translate(557.50,506.66)rotate(-328)\"><text x=\"15.00\" y=\"3.07\" style=\"fill:rgb(0%,0%,0%);fill-opacity:1.0\">Atopobium</text></g><g transform=\"translate(562.82,497.33)rotate(-332)\"><text x=\"15.00\" y=\"3.07\" style=\"fill:rgb(0%,0%,0%);fill-opacity:1.0\">Cronobacter</text></g><g transform=\"translate(567.49,487.65)rotate(-336)\"><text x=\"15.00\" y=\"3.07\" style=\"fill:rgb(0%,0%,0%);fill-opacity:1.0\">Escherichia/Shigella</text></g><g transform=\"translate(571.47,477.67)rotate(-340)\"><text x=\"15.00\" y=\"3.07\" style=\"fill:rgb(0%,0%,0%);fill-opacity:1.0\">Enterobacter</text></g><g transform=\"translate(574.75,467.44)rotate(-344)\"><text x=\"15.00\" y=\"3.07\" style=\"fill:rgb(0%,0%,0%);fill-opacity:1.0\">Yersinia</text></g><g transform=\"translate(577.33,457.01)rotate(-348)\"><text x=\"15.00\" y=\"3.07\" style=\"fill:rgb(0%,0%,0%);fill-opacity:1.0\">Serratia</text></g><g transform=\"translate(579.17,446.42)rotate(-352)\"><text x=\"15.00\" y=\"3.07\" style=\"fill:rgb(0%,0%,0%);fill-opacity:1.0\">Parasutterella</text></g><g transform=\"translate(580.28,435.74)rotate(-356)\"><text x=\"15.00\" y=\"3.07\" style=\"fill:rgb(0%,0%,0%);fill-opacity:1.0\">Cloacibacillus</text></g></g></g></g></g><g class=\"toyplot-coordinates-Cartesian\" id=\"td4aad622103945b18824201534ba7bcf\"><clipPath id=\"tf08560ad4843439f995816bdd406f34e\"><rect x=\"0.0\" y=\"50.0\" width=\"1000.0\" height=\"50.0\"></rect></clipPath><g clip-path=\"url(#tf08560ad4843439f995816bdd406f34e)\"></g><g transform=\"translate(500.0,42.0)\"><text x=\"-20.615\" y=\"-4.823\" style=\"fill:rgb(16.1%,15.3%,14.1%);fill-opacity:1.0;font-family:helvetica;font-size:14.0px;font-weight:bold;stroke:none;vertical-align:baseline;white-space:pre\">Labus</text></g></g><g class=\"toyplot-coordinates-Table\" id=\"t513357dc9637433c8eb64b0081126320\"><g transform=\"translate(800.0,275.0)\"><text x=\"-25.284000000000002\" y=\"-10.423\" style=\"fill:rgb(16.1%,15.3%,14.1%);fill-opacity:1.0;font-family:helvetica;font-size:14.0px;font-weight:bold;stroke:none;vertical-align:baseline;white-space:pre\">Phylum</text></g><g transform=\"translate(795.0,285.0)\"><g style=\"fill:rgb(100%,49.8%,0%);fill-opacity:1.0\" transform=\"translate(-5.55, -4.440892098500626e-16)\"><circle r=\"4.0\"></circle></g></g><g transform=\"translate(805.0,285.0)\"><text x=\"0\" y=\"3.066\" style=\"fill:rgb(16.1%,15.3%,14.1%);fill-opacity:1.0;font-family:helvetica;font-size:12.0px;font-weight:normal;stroke:none;vertical-align:baseline;white-space:pre\">Synergistota</text></g><g transform=\"translate(795.0,305.0)\"><g style=\"fill:rgb(21.6%,49.4%,72.2%);fill-opacity:1.0\" transform=\"translate(-5.55, -4.440892098500626e-16)\"><circle r=\"4.0\"></circle></g></g><g transform=\"translate(805.0,305.0)\"><text x=\"0\" y=\"3.066\" style=\"fill:rgb(16.1%,15.3%,14.1%);fill-opacity:1.0;font-family:helvetica;font-size:12.0px;font-weight:normal;stroke:none;vertical-align:baseline;white-space:pre\">Proteobacteria</text></g><g transform=\"translate(795.0,325.0)\"><g style=\"fill:rgb(59.6%,30.6%,63.9%);fill-opacity:1.0\" transform=\"translate(-5.55, -4.440892098500626e-16)\"><circle r=\"4.0\"></circle></g></g><g transform=\"translate(805.0,325.0)\"><text x=\"0\" y=\"3.066\" style=\"fill:rgb(16.1%,15.3%,14.1%);fill-opacity:1.0;font-family:helvetica;font-size:12.0px;font-weight:normal;stroke:none;vertical-align:baseline;white-space:pre\">Actinobacteriota</text></g><g transform=\"translate(795.0,345.0)\"><g style=\"fill:rgb(30.2%,68.6%,29%);fill-opacity:1.0\" transform=\"translate(-5.55, -4.440892098500626e-16)\"><circle r=\"4.0\"></circle></g></g><g transform=\"translate(805.0,345.0)\"><text x=\"0\" y=\"3.066\" style=\"fill:rgb(16.1%,15.3%,14.1%);fill-opacity:1.0;font-family:helvetica;font-size:12.0px;font-weight:normal;stroke:none;vertical-align:baseline;white-space:pre\">Bacteroidota</text></g><g transform=\"translate(795.0,365.0)\"><g style=\"fill:rgb(89.4%,10.2%,11%);fill-opacity:1.0\" transform=\"translate(-5.55, -4.440892098500626e-16)\"><circle r=\"4.0\"></circle></g></g><g transform=\"translate(805.0,365.0)\"><text x=\"0\" y=\"3.066\" style=\"fill:rgb(16.1%,15.3%,14.1%);fill-opacity:1.0;font-family:helvetica;font-size:12.0px;font-weight:normal;stroke:none;vertical-align:baseline;white-space:pre\">Firmicutes</text></g></g><g class=\"toyplot-coordinates-Table\" id=\"te79911c8f17f4391818c11548775541d\"><g transform=\"translate(800.0,425.0)\"><text x=\"-59.899\" y=\"-10.423\" style=\"fill:rgb(16.1%,15.3%,14.1%);fill-opacity:1.0;font-family:helvetica;font-size:14.0px;font-weight:bold;stroke:none;vertical-align:baseline;white-space:pre\">tascCODA Effects</text></g><g transform=\"translate(795.0,450.0)\"><g style=\"fill:rgb(0%,0%,0%);fill-opacity:1.0\" transform=\"translate(-5.55, -4.440892098500626e-16)\"><circle r=\"10.0\"></circle></g></g><g transform=\"translate(805.0,450.0)\"><text x=\"0\" y=\"3.066\" style=\"fill:rgb(16.1%,15.3%,14.1%);fill-opacity:1.0;font-family:helvetica;font-size:12.0px;font-weight:normal;stroke:none;vertical-align:baseline;white-space:pre\">0.978</text></g><g transform=\"translate(795.0,500.0)\"><g style=\"fill:rgb(100%,100%,100%);fill-opacity:1.0\" transform=\"translate(-5.55, -4.440892098500626e-16)\"><circle r=\"10.0\"></circle></g></g><g transform=\"translate(805.0,500.0)\"><text x=\"0\" y=\"3.066\" style=\"fill:rgb(16.1%,15.3%,14.1%);fill-opacity:1.0;font-family:helvetica;font-size:12.0px;font-weight:normal;stroke:none;vertical-align:baseline;white-space:pre\">-0.978</text></g></g></svg><div class=\"toyplot-behavior\"><script>(function()\n{\nvar modules={};\n})();</script></div></div>"
     },
     "metadata": {},
     "output_type": "display_data"
    }
   ],
   "source": [
    "for p in [-5, 0, 5]:\n",
    "    res = results[(p, 1)]\n",
    "\n",
    "    draw_tree(res.node_df, \"Labus\")"
   ],
   "metadata": {
    "collapsed": false,
    "pycharm": {
     "name": "#%%\n"
    }
   }
  },
  {
   "cell_type": "markdown",
   "source": [
    "## Using other covariates\n",
    "\n",
    "To get all covariates, and therefore effect sizes, on the same scale, we min-max normalize BMI and age"
   ],
   "metadata": {
    "collapsed": false,
    "pycharm": {
     "name": "#%% md\n"
    }
   }
  },
  {
   "cell_type": "code",
   "execution_count": 7,
   "outputs": [],
   "source": [
    "def normalize(x):\n",
    "    return (x-np.min(x))/(np.max(x)-np.min(x))"
   ],
   "metadata": {
    "collapsed": false,
    "pycharm": {
     "name": "#%%\n"
    }
   }
  },
  {
   "cell_type": "code",
   "execution_count": 8,
   "outputs": [
    {
     "data": {
      "text/plain": "               OTU host_disease     host_subtype  host_age host_sex  \\\nSample                                                                \nSRR5245600    ASV1      Healthy               HC        27     male   \nSRR5245601    ASV5      Healthy               HC        28   female   \nSRR5245602    ASV1      Healthy               HC        20   female   \nSRR5245603    ASV1      Healthy               HC        27   female   \nSRR5245604    ASV1          IBS            IBS-C        20   female   \nSRR5245605    ASV1      Healthy               HC        32   female   \nSRR5245606    ASV1      Healthy               HC        18   female   \nSRR5245607    ASV1      Healthy               HC        20   female   \nSRR5245608    ASV1      Healthy               HC        20   female   \nSRR5245609   ASV29          IBS            IBS-C        20   female   \nSRR5245610    ASV1          IBS            IBS-C        20   female   \nSRR5245611    ASV1      Healthy               HC        23     male   \nSRR5245612   ASV17          IBS            IBS-D        31     male   \nSRR5245613    ASV1          IBS            IBS-M        82     male   \nSRR5245614    ASV1          IBS            IBS-M        30   female   \nSRR5245615    ASV7          IBS            IBS-C        21   female   \nSRR5245616    ASV1          IBS            IBS-D        21   female   \nSRR5245617    ASV1      Healthy               HC        18   female   \nSRR5245618    ASV1      Healthy               HC        30   female   \nSRR5245619    ASV1          IBS            IBS-D        26     male   \nSRR5245620    ASV6          IBS            IBS-D        18   female   \nSRR5245621    ASV5          IBS            IBS-D        19     male   \nSRR5245622    ASV3          IBS            IBS-D        27   female   \nSRR5245623    ASV1          IBS            IBS-C        21   female   \nSRR5245624    ASV5          IBS            IBS-D        25     male   \nSRR5245625    ASV1          IBS            IBS-C        37   female   \nSRR5245626    ASV3      Healthy               HC        23     male   \nSRR5245627    ASV5      Healthy               HC        35     male   \nSRR5245628    ASV1      Healthy               HC        33   female   \nSRR5245629   ASV17          IBS            IBS-D        26   female   \nSRR5245630   ASV47          IBS            IBS-M        29   female   \nSRR5245631    ASV1          IBS            IBS-M        24   female   \nSRR5245632    ASV1      Healthy               HC        44     male   \nSRR5245633    ASV1      Healthy               HC        22     male   \nSRR5245634    ASV5          IBS            IBS-C        23   female   \nSRR5245635    ASV1      Healthy               HC        20   female   \nSRR5245636    ASV1      Healthy               HC        22     male   \nSRR5245637    ASV1      Healthy               HC        32   female   \nSRR5245638    ASV1      Healthy               HC        24     male   \nSRR5245639    ASV5          IBS            IBS-C        20   female   \nSRR5245640  ASV112          IBS  IBS-unspecified        36   female   \nSRR5245641   ASV17          IBS            IBS-C        28   female   \nSRR5245642    ASV1          IBS            IBS-M        20   female   \nSRR5245643    ASV1          IBS            IBS-C        32     male   \nSRR5245644    ASV1          IBS  IBS-unspecified        30     male   \nSRR5245645    ASV1          IBS            IBS-C        33   female   \nSRR5245646    ASV1          IBS            IBS-M        37   female   \nSRR5245647   ASV19      Healthy               HC        30     male   \nSRR5245648   ASV19          IBS            IBS-D        28     male   \nSRR5245649    ASV1      Healthy               HC        21   female   \nSRR5245650    ASV1          IBS            IBS-D        23   female   \nSRR5245651   ASV19      Healthy               HC        29   female   \n\n             host_bmi collection_date author sample_type Collection  \\\nSample                                                                \nSRR5245600  27.299999     14-Feb-2014  Labus       stool        1st   \nSRR5245601        NaN     13-Feb-2014  Labus       stool        1st   \nSRR5245602        NaN     14-Feb-2014  Labus       stool        1st   \nSRR5245603  36.796875     18-Feb-2014  Labus       stool        1st   \nSRR5245604        NaN     13-Feb-2014  Labus       stool        1st   \nSRR5245605  20.318630     07-Feb-2014  Labus       stool        1st   \nSRR5245606  21.219858     11-Feb-2014  Labus       stool        1st   \nSRR5245607  22.700001     10-Feb-2014  Labus       stool        1st   \nSRR5245608  20.908524     23-Jan-2014  Labus       stool        1st   \nSRR5245609  21.488180     15-Jan-2014  Labus       stool        1st   \nSRR5245610  24.007730     16-Jan-2014  Labus       stool        1st   \nSRR5245611  19.400000     20-Dec-2013  Labus       stool        1st   \nSRR5245612  24.258648     17-Dec-2013  Labus       stool        1st   \nSRR5245613  25.229736     20-Dec-2013  Labus       stool        1st   \nSRR5245614  18.375631     21-Jan-2014  Labus       stool        1st   \nSRR5245615  22.595028     13-Dec-2013  Labus       stool        1st   \nSRR5245616  18.993378     16-Dec-2013  Labus       stool        1st   \nSRR5245617  24.041176     20-Jan-2014  Labus       stool        1st   \nSRR5245618  32.025555     13-Nov-2013  Labus       stool        1st   \nSRR5245619  26.194981     26-Nov-2013  Labus       stool        1st   \nSRR5245620  23.203073     24-Oct-2013  Labus       stool        1st   \nSRR5245621  24.207989     01-Nov-2013  Labus       stool        1st   \nSRR5245622  22.713997     06-Nov-2013  Labus       stool        1st   \nSRR5245623  19.837410     11-Jan-2014  Labus       stool        1st   \nSRR5245624  29.451124     24-Oct-2013  Labus       stool        1st   \nSRR5245625  28.685726     02-Oct-2013  Labus       stool        1st   \nSRR5245626  22.551125     10-Oct-2013  Labus       stool        1st   \nSRR5245627  31.466234     10-Oct-2013  Labus       stool        1st   \nSRR5245628  33.474113     04-Oct-2013  Labus       stool        1st   \nSRR5245629  41.104691     11-Nov-2013  Labus       stool        1st   \nSRR5245630  20.668545     23-Sep-2013  Labus       stool        1st   \nSRR5245631  18.654007     24-Oct-2013  Labus       stool        1st   \nSRR5245632  25.237303     28-Aug-2013  Labus       stool        1st   \nSRR5245633  28.388304     15-Aug-2013  Labus       stool        1st   \nSRR5245634  23.104248     27-Oct-2013  Labus       stool        1st   \nSRR5245635  21.000000     25-Jul-2013  Labus       stool        1st   \nSRR5245636  24.100000     25-Jun-2013  Labus       stool        1st   \nSRR5245637  22.100000     26-Jun-2013  Labus       stool        1st   \nSRR5245638  22.900000     09-Jun-2013  Labus       stool        1st   \nSRR5245639  19.837742     29-Oct-2013  Labus       stool        1st   \nSRR5245640  20.546234     12-May-2013  Labus       stool        1st   \nSRR5245641  28.693878     28-Apr-2013  Labus       stool        1st   \nSRR5245642  22.998535     25-Apr-2013  Labus       stool        1st   \nSRR5245643  27.907372     24-Apr-2013  Labus       stool        1st   \nSRR5245644  26.467402     22-Oct-2013  Labus       stool        1st   \nSRR5245645  23.408949     09-May-2013  Labus       stool        1st   \nSRR5245646  19.723055     24-Apr-2013  Labus       stool        1st   \nSRR5245647  22.940010     14-Feb-2014  Labus       stool        1st   \nSRR5245648  20.672127     23-Apr-2013  Labus       stool        1st   \nSRR5245649  24.481203     17-Jul-2013  Labus       stool        1st   \nSRR5245650  29.048120     24-Oct-2013  Labus       stool        1st   \nSRR5245651  20.900478     29-Oct-2013  Labus       stool        1st   \n\n            host_age_norm  bmi_norm  \nSample                               \nSRR5245600       0.140625  0.392641  \nSRR5245601       0.156250       NaN  \nSRR5245602       0.031250       NaN  \nSRR5245603       0.140625  0.810471  \nSRR5245604       0.031250       NaN  \nSRR5245605       0.218750  0.085485  \nSRR5245606       0.000000  0.125136  \nSRR5245607       0.031250  0.190257  \nSRR5245608       0.031250  0.111438  \nSRR5245609       0.031250  0.136941  \nSRR5245610       0.031250  0.247793  \nSRR5245611       0.078125  0.045069  \nSRR5245612       0.203125  0.258832  \nSRR5245613       1.000000  0.301557  \nSRR5245614       0.187500  0.000000  \nSRR5245615       0.046875  0.185639  \nSRR5245616       0.046875  0.027179  \nSRR5245617       0.000000  0.249264  \nSRR5245618       0.187500  0.600549  \nSRR5245619       0.125000  0.344024  \nSRR5245620       0.000000  0.212391  \nSRR5245621       0.015625  0.256604  \nSRR5245622       0.140625  0.190873  \nSRR5245623       0.046875  0.064313  \nSRR5245624       0.109375  0.487283  \nSRR5245625       0.296875  0.453609  \nSRR5245626       0.078125  0.183707  \nSRR5245627       0.265625  0.575941  \nSRR5245628       0.234375  0.664281  \nSRR5245629       0.125000  1.000000  \nSRR5245630       0.171875  0.100880  \nSRR5245631       0.093750  0.012248  \nSRR5245632       0.406250  0.301890  \nSRR5245633       0.062500  0.440523  \nSRR5245634       0.078125  0.208043  \nSRR5245635       0.031250  0.115463  \nSRR5245636       0.062500  0.251852  \nSRR5245637       0.218750  0.163859  \nSRR5245638       0.093750  0.199057  \nSRR5245639       0.031250  0.064328  \nSRR5245640       0.281250  0.095499  \nSRR5245641       0.156250  0.453967  \nSRR5245642       0.031250  0.203392  \nSRR5245643       0.218750  0.419364  \nSRR5245644       0.187500  0.356010  \nSRR5245645       0.234375  0.221449  \nSRR5245646       0.296875  0.059282  \nSRR5245647       0.187500  0.200817  \nSRR5245648       0.156250  0.101038  \nSRR5245649       0.046875  0.268624  \nSRR5245650       0.078125  0.469553  \nSRR5245651       0.171875  0.111085  ",
      "text/html": "<div>\n<style scoped>\n    .dataframe tbody tr th:only-of-type {\n        vertical-align: middle;\n    }\n\n    .dataframe tbody tr th {\n        vertical-align: top;\n    }\n\n    .dataframe thead th {\n        text-align: right;\n    }\n</style>\n<table border=\"1\" class=\"dataframe\">\n  <thead>\n    <tr style=\"text-align: right;\">\n      <th></th>\n      <th>OTU</th>\n      <th>host_disease</th>\n      <th>host_subtype</th>\n      <th>host_age</th>\n      <th>host_sex</th>\n      <th>host_bmi</th>\n      <th>collection_date</th>\n      <th>author</th>\n      <th>sample_type</th>\n      <th>Collection</th>\n      <th>host_age_norm</th>\n      <th>bmi_norm</th>\n    </tr>\n    <tr>\n      <th>Sample</th>\n      <th></th>\n      <th></th>\n      <th></th>\n      <th></th>\n      <th></th>\n      <th></th>\n      <th></th>\n      <th></th>\n      <th></th>\n      <th></th>\n      <th></th>\n      <th></th>\n    </tr>\n  </thead>\n  <tbody>\n    <tr>\n      <th>SRR5245600</th>\n      <td>ASV1</td>\n      <td>Healthy</td>\n      <td>HC</td>\n      <td>27</td>\n      <td>male</td>\n      <td>27.299999</td>\n      <td>14-Feb-2014</td>\n      <td>Labus</td>\n      <td>stool</td>\n      <td>1st</td>\n      <td>0.140625</td>\n      <td>0.392641</td>\n    </tr>\n    <tr>\n      <th>SRR5245601</th>\n      <td>ASV5</td>\n      <td>Healthy</td>\n      <td>HC</td>\n      <td>28</td>\n      <td>female</td>\n      <td>NaN</td>\n      <td>13-Feb-2014</td>\n      <td>Labus</td>\n      <td>stool</td>\n      <td>1st</td>\n      <td>0.156250</td>\n      <td>NaN</td>\n    </tr>\n    <tr>\n      <th>SRR5245602</th>\n      <td>ASV1</td>\n      <td>Healthy</td>\n      <td>HC</td>\n      <td>20</td>\n      <td>female</td>\n      <td>NaN</td>\n      <td>14-Feb-2014</td>\n      <td>Labus</td>\n      <td>stool</td>\n      <td>1st</td>\n      <td>0.031250</td>\n      <td>NaN</td>\n    </tr>\n    <tr>\n      <th>SRR5245603</th>\n      <td>ASV1</td>\n      <td>Healthy</td>\n      <td>HC</td>\n      <td>27</td>\n      <td>female</td>\n      <td>36.796875</td>\n      <td>18-Feb-2014</td>\n      <td>Labus</td>\n      <td>stool</td>\n      <td>1st</td>\n      <td>0.140625</td>\n      <td>0.810471</td>\n    </tr>\n    <tr>\n      <th>SRR5245604</th>\n      <td>ASV1</td>\n      <td>IBS</td>\n      <td>IBS-C</td>\n      <td>20</td>\n      <td>female</td>\n      <td>NaN</td>\n      <td>13-Feb-2014</td>\n      <td>Labus</td>\n      <td>stool</td>\n      <td>1st</td>\n      <td>0.031250</td>\n      <td>NaN</td>\n    </tr>\n    <tr>\n      <th>SRR5245605</th>\n      <td>ASV1</td>\n      <td>Healthy</td>\n      <td>HC</td>\n      <td>32</td>\n      <td>female</td>\n      <td>20.318630</td>\n      <td>07-Feb-2014</td>\n      <td>Labus</td>\n      <td>stool</td>\n      <td>1st</td>\n      <td>0.218750</td>\n      <td>0.085485</td>\n    </tr>\n    <tr>\n      <th>SRR5245606</th>\n      <td>ASV1</td>\n      <td>Healthy</td>\n      <td>HC</td>\n      <td>18</td>\n      <td>female</td>\n      <td>21.219858</td>\n      <td>11-Feb-2014</td>\n      <td>Labus</td>\n      <td>stool</td>\n      <td>1st</td>\n      <td>0.000000</td>\n      <td>0.125136</td>\n    </tr>\n    <tr>\n      <th>SRR5245607</th>\n      <td>ASV1</td>\n      <td>Healthy</td>\n      <td>HC</td>\n      <td>20</td>\n      <td>female</td>\n      <td>22.700001</td>\n      <td>10-Feb-2014</td>\n      <td>Labus</td>\n      <td>stool</td>\n      <td>1st</td>\n      <td>0.031250</td>\n      <td>0.190257</td>\n    </tr>\n    <tr>\n      <th>SRR5245608</th>\n      <td>ASV1</td>\n      <td>Healthy</td>\n      <td>HC</td>\n      <td>20</td>\n      <td>female</td>\n      <td>20.908524</td>\n      <td>23-Jan-2014</td>\n      <td>Labus</td>\n      <td>stool</td>\n      <td>1st</td>\n      <td>0.031250</td>\n      <td>0.111438</td>\n    </tr>\n    <tr>\n      <th>SRR5245609</th>\n      <td>ASV29</td>\n      <td>IBS</td>\n      <td>IBS-C</td>\n      <td>20</td>\n      <td>female</td>\n      <td>21.488180</td>\n      <td>15-Jan-2014</td>\n      <td>Labus</td>\n      <td>stool</td>\n      <td>1st</td>\n      <td>0.031250</td>\n      <td>0.136941</td>\n    </tr>\n    <tr>\n      <th>SRR5245610</th>\n      <td>ASV1</td>\n      <td>IBS</td>\n      <td>IBS-C</td>\n      <td>20</td>\n      <td>female</td>\n      <td>24.007730</td>\n      <td>16-Jan-2014</td>\n      <td>Labus</td>\n      <td>stool</td>\n      <td>1st</td>\n      <td>0.031250</td>\n      <td>0.247793</td>\n    </tr>\n    <tr>\n      <th>SRR5245611</th>\n      <td>ASV1</td>\n      <td>Healthy</td>\n      <td>HC</td>\n      <td>23</td>\n      <td>male</td>\n      <td>19.400000</td>\n      <td>20-Dec-2013</td>\n      <td>Labus</td>\n      <td>stool</td>\n      <td>1st</td>\n      <td>0.078125</td>\n      <td>0.045069</td>\n    </tr>\n    <tr>\n      <th>SRR5245612</th>\n      <td>ASV17</td>\n      <td>IBS</td>\n      <td>IBS-D</td>\n      <td>31</td>\n      <td>male</td>\n      <td>24.258648</td>\n      <td>17-Dec-2013</td>\n      <td>Labus</td>\n      <td>stool</td>\n      <td>1st</td>\n      <td>0.203125</td>\n      <td>0.258832</td>\n    </tr>\n    <tr>\n      <th>SRR5245613</th>\n      <td>ASV1</td>\n      <td>IBS</td>\n      <td>IBS-M</td>\n      <td>82</td>\n      <td>male</td>\n      <td>25.229736</td>\n      <td>20-Dec-2013</td>\n      <td>Labus</td>\n      <td>stool</td>\n      <td>1st</td>\n      <td>1.000000</td>\n      <td>0.301557</td>\n    </tr>\n    <tr>\n      <th>SRR5245614</th>\n      <td>ASV1</td>\n      <td>IBS</td>\n      <td>IBS-M</td>\n      <td>30</td>\n      <td>female</td>\n      <td>18.375631</td>\n      <td>21-Jan-2014</td>\n      <td>Labus</td>\n      <td>stool</td>\n      <td>1st</td>\n      <td>0.187500</td>\n      <td>0.000000</td>\n    </tr>\n    <tr>\n      <th>SRR5245615</th>\n      <td>ASV7</td>\n      <td>IBS</td>\n      <td>IBS-C</td>\n      <td>21</td>\n      <td>female</td>\n      <td>22.595028</td>\n      <td>13-Dec-2013</td>\n      <td>Labus</td>\n      <td>stool</td>\n      <td>1st</td>\n      <td>0.046875</td>\n      <td>0.185639</td>\n    </tr>\n    <tr>\n      <th>SRR5245616</th>\n      <td>ASV1</td>\n      <td>IBS</td>\n      <td>IBS-D</td>\n      <td>21</td>\n      <td>female</td>\n      <td>18.993378</td>\n      <td>16-Dec-2013</td>\n      <td>Labus</td>\n      <td>stool</td>\n      <td>1st</td>\n      <td>0.046875</td>\n      <td>0.027179</td>\n    </tr>\n    <tr>\n      <th>SRR5245617</th>\n      <td>ASV1</td>\n      <td>Healthy</td>\n      <td>HC</td>\n      <td>18</td>\n      <td>female</td>\n      <td>24.041176</td>\n      <td>20-Jan-2014</td>\n      <td>Labus</td>\n      <td>stool</td>\n      <td>1st</td>\n      <td>0.000000</td>\n      <td>0.249264</td>\n    </tr>\n    <tr>\n      <th>SRR5245618</th>\n      <td>ASV1</td>\n      <td>Healthy</td>\n      <td>HC</td>\n      <td>30</td>\n      <td>female</td>\n      <td>32.025555</td>\n      <td>13-Nov-2013</td>\n      <td>Labus</td>\n      <td>stool</td>\n      <td>1st</td>\n      <td>0.187500</td>\n      <td>0.600549</td>\n    </tr>\n    <tr>\n      <th>SRR5245619</th>\n      <td>ASV1</td>\n      <td>IBS</td>\n      <td>IBS-D</td>\n      <td>26</td>\n      <td>male</td>\n      <td>26.194981</td>\n      <td>26-Nov-2013</td>\n      <td>Labus</td>\n      <td>stool</td>\n      <td>1st</td>\n      <td>0.125000</td>\n      <td>0.344024</td>\n    </tr>\n    <tr>\n      <th>SRR5245620</th>\n      <td>ASV6</td>\n      <td>IBS</td>\n      <td>IBS-D</td>\n      <td>18</td>\n      <td>female</td>\n      <td>23.203073</td>\n      <td>24-Oct-2013</td>\n      <td>Labus</td>\n      <td>stool</td>\n      <td>1st</td>\n      <td>0.000000</td>\n      <td>0.212391</td>\n    </tr>\n    <tr>\n      <th>SRR5245621</th>\n      <td>ASV5</td>\n      <td>IBS</td>\n      <td>IBS-D</td>\n      <td>19</td>\n      <td>male</td>\n      <td>24.207989</td>\n      <td>01-Nov-2013</td>\n      <td>Labus</td>\n      <td>stool</td>\n      <td>1st</td>\n      <td>0.015625</td>\n      <td>0.256604</td>\n    </tr>\n    <tr>\n      <th>SRR5245622</th>\n      <td>ASV3</td>\n      <td>IBS</td>\n      <td>IBS-D</td>\n      <td>27</td>\n      <td>female</td>\n      <td>22.713997</td>\n      <td>06-Nov-2013</td>\n      <td>Labus</td>\n      <td>stool</td>\n      <td>1st</td>\n      <td>0.140625</td>\n      <td>0.190873</td>\n    </tr>\n    <tr>\n      <th>SRR5245623</th>\n      <td>ASV1</td>\n      <td>IBS</td>\n      <td>IBS-C</td>\n      <td>21</td>\n      <td>female</td>\n      <td>19.837410</td>\n      <td>11-Jan-2014</td>\n      <td>Labus</td>\n      <td>stool</td>\n      <td>1st</td>\n      <td>0.046875</td>\n      <td>0.064313</td>\n    </tr>\n    <tr>\n      <th>SRR5245624</th>\n      <td>ASV5</td>\n      <td>IBS</td>\n      <td>IBS-D</td>\n      <td>25</td>\n      <td>male</td>\n      <td>29.451124</td>\n      <td>24-Oct-2013</td>\n      <td>Labus</td>\n      <td>stool</td>\n      <td>1st</td>\n      <td>0.109375</td>\n      <td>0.487283</td>\n    </tr>\n    <tr>\n      <th>SRR5245625</th>\n      <td>ASV1</td>\n      <td>IBS</td>\n      <td>IBS-C</td>\n      <td>37</td>\n      <td>female</td>\n      <td>28.685726</td>\n      <td>02-Oct-2013</td>\n      <td>Labus</td>\n      <td>stool</td>\n      <td>1st</td>\n      <td>0.296875</td>\n      <td>0.453609</td>\n    </tr>\n    <tr>\n      <th>SRR5245626</th>\n      <td>ASV3</td>\n      <td>Healthy</td>\n      <td>HC</td>\n      <td>23</td>\n      <td>male</td>\n      <td>22.551125</td>\n      <td>10-Oct-2013</td>\n      <td>Labus</td>\n      <td>stool</td>\n      <td>1st</td>\n      <td>0.078125</td>\n      <td>0.183707</td>\n    </tr>\n    <tr>\n      <th>SRR5245627</th>\n      <td>ASV5</td>\n      <td>Healthy</td>\n      <td>HC</td>\n      <td>35</td>\n      <td>male</td>\n      <td>31.466234</td>\n      <td>10-Oct-2013</td>\n      <td>Labus</td>\n      <td>stool</td>\n      <td>1st</td>\n      <td>0.265625</td>\n      <td>0.575941</td>\n    </tr>\n    <tr>\n      <th>SRR5245628</th>\n      <td>ASV1</td>\n      <td>Healthy</td>\n      <td>HC</td>\n      <td>33</td>\n      <td>female</td>\n      <td>33.474113</td>\n      <td>04-Oct-2013</td>\n      <td>Labus</td>\n      <td>stool</td>\n      <td>1st</td>\n      <td>0.234375</td>\n      <td>0.664281</td>\n    </tr>\n    <tr>\n      <th>SRR5245629</th>\n      <td>ASV17</td>\n      <td>IBS</td>\n      <td>IBS-D</td>\n      <td>26</td>\n      <td>female</td>\n      <td>41.104691</td>\n      <td>11-Nov-2013</td>\n      <td>Labus</td>\n      <td>stool</td>\n      <td>1st</td>\n      <td>0.125000</td>\n      <td>1.000000</td>\n    </tr>\n    <tr>\n      <th>SRR5245630</th>\n      <td>ASV47</td>\n      <td>IBS</td>\n      <td>IBS-M</td>\n      <td>29</td>\n      <td>female</td>\n      <td>20.668545</td>\n      <td>23-Sep-2013</td>\n      <td>Labus</td>\n      <td>stool</td>\n      <td>1st</td>\n      <td>0.171875</td>\n      <td>0.100880</td>\n    </tr>\n    <tr>\n      <th>SRR5245631</th>\n      <td>ASV1</td>\n      <td>IBS</td>\n      <td>IBS-M</td>\n      <td>24</td>\n      <td>female</td>\n      <td>18.654007</td>\n      <td>24-Oct-2013</td>\n      <td>Labus</td>\n      <td>stool</td>\n      <td>1st</td>\n      <td>0.093750</td>\n      <td>0.012248</td>\n    </tr>\n    <tr>\n      <th>SRR5245632</th>\n      <td>ASV1</td>\n      <td>Healthy</td>\n      <td>HC</td>\n      <td>44</td>\n      <td>male</td>\n      <td>25.237303</td>\n      <td>28-Aug-2013</td>\n      <td>Labus</td>\n      <td>stool</td>\n      <td>1st</td>\n      <td>0.406250</td>\n      <td>0.301890</td>\n    </tr>\n    <tr>\n      <th>SRR5245633</th>\n      <td>ASV1</td>\n      <td>Healthy</td>\n      <td>HC</td>\n      <td>22</td>\n      <td>male</td>\n      <td>28.388304</td>\n      <td>15-Aug-2013</td>\n      <td>Labus</td>\n      <td>stool</td>\n      <td>1st</td>\n      <td>0.062500</td>\n      <td>0.440523</td>\n    </tr>\n    <tr>\n      <th>SRR5245634</th>\n      <td>ASV5</td>\n      <td>IBS</td>\n      <td>IBS-C</td>\n      <td>23</td>\n      <td>female</td>\n      <td>23.104248</td>\n      <td>27-Oct-2013</td>\n      <td>Labus</td>\n      <td>stool</td>\n      <td>1st</td>\n      <td>0.078125</td>\n      <td>0.208043</td>\n    </tr>\n    <tr>\n      <th>SRR5245635</th>\n      <td>ASV1</td>\n      <td>Healthy</td>\n      <td>HC</td>\n      <td>20</td>\n      <td>female</td>\n      <td>21.000000</td>\n      <td>25-Jul-2013</td>\n      <td>Labus</td>\n      <td>stool</td>\n      <td>1st</td>\n      <td>0.031250</td>\n      <td>0.115463</td>\n    </tr>\n    <tr>\n      <th>SRR5245636</th>\n      <td>ASV1</td>\n      <td>Healthy</td>\n      <td>HC</td>\n      <td>22</td>\n      <td>male</td>\n      <td>24.100000</td>\n      <td>25-Jun-2013</td>\n      <td>Labus</td>\n      <td>stool</td>\n      <td>1st</td>\n      <td>0.062500</td>\n      <td>0.251852</td>\n    </tr>\n    <tr>\n      <th>SRR5245637</th>\n      <td>ASV1</td>\n      <td>Healthy</td>\n      <td>HC</td>\n      <td>32</td>\n      <td>female</td>\n      <td>22.100000</td>\n      <td>26-Jun-2013</td>\n      <td>Labus</td>\n      <td>stool</td>\n      <td>1st</td>\n      <td>0.218750</td>\n      <td>0.163859</td>\n    </tr>\n    <tr>\n      <th>SRR5245638</th>\n      <td>ASV1</td>\n      <td>Healthy</td>\n      <td>HC</td>\n      <td>24</td>\n      <td>male</td>\n      <td>22.900000</td>\n      <td>09-Jun-2013</td>\n      <td>Labus</td>\n      <td>stool</td>\n      <td>1st</td>\n      <td>0.093750</td>\n      <td>0.199057</td>\n    </tr>\n    <tr>\n      <th>SRR5245639</th>\n      <td>ASV5</td>\n      <td>IBS</td>\n      <td>IBS-C</td>\n      <td>20</td>\n      <td>female</td>\n      <td>19.837742</td>\n      <td>29-Oct-2013</td>\n      <td>Labus</td>\n      <td>stool</td>\n      <td>1st</td>\n      <td>0.031250</td>\n      <td>0.064328</td>\n    </tr>\n    <tr>\n      <th>SRR5245640</th>\n      <td>ASV112</td>\n      <td>IBS</td>\n      <td>IBS-unspecified</td>\n      <td>36</td>\n      <td>female</td>\n      <td>20.546234</td>\n      <td>12-May-2013</td>\n      <td>Labus</td>\n      <td>stool</td>\n      <td>1st</td>\n      <td>0.281250</td>\n      <td>0.095499</td>\n    </tr>\n    <tr>\n      <th>SRR5245641</th>\n      <td>ASV17</td>\n      <td>IBS</td>\n      <td>IBS-C</td>\n      <td>28</td>\n      <td>female</td>\n      <td>28.693878</td>\n      <td>28-Apr-2013</td>\n      <td>Labus</td>\n      <td>stool</td>\n      <td>1st</td>\n      <td>0.156250</td>\n      <td>0.453967</td>\n    </tr>\n    <tr>\n      <th>SRR5245642</th>\n      <td>ASV1</td>\n      <td>IBS</td>\n      <td>IBS-M</td>\n      <td>20</td>\n      <td>female</td>\n      <td>22.998535</td>\n      <td>25-Apr-2013</td>\n      <td>Labus</td>\n      <td>stool</td>\n      <td>1st</td>\n      <td>0.031250</td>\n      <td>0.203392</td>\n    </tr>\n    <tr>\n      <th>SRR5245643</th>\n      <td>ASV1</td>\n      <td>IBS</td>\n      <td>IBS-C</td>\n      <td>32</td>\n      <td>male</td>\n      <td>27.907372</td>\n      <td>24-Apr-2013</td>\n      <td>Labus</td>\n      <td>stool</td>\n      <td>1st</td>\n      <td>0.218750</td>\n      <td>0.419364</td>\n    </tr>\n    <tr>\n      <th>SRR5245644</th>\n      <td>ASV1</td>\n      <td>IBS</td>\n      <td>IBS-unspecified</td>\n      <td>30</td>\n      <td>male</td>\n      <td>26.467402</td>\n      <td>22-Oct-2013</td>\n      <td>Labus</td>\n      <td>stool</td>\n      <td>1st</td>\n      <td>0.187500</td>\n      <td>0.356010</td>\n    </tr>\n    <tr>\n      <th>SRR5245645</th>\n      <td>ASV1</td>\n      <td>IBS</td>\n      <td>IBS-C</td>\n      <td>33</td>\n      <td>female</td>\n      <td>23.408949</td>\n      <td>09-May-2013</td>\n      <td>Labus</td>\n      <td>stool</td>\n      <td>1st</td>\n      <td>0.234375</td>\n      <td>0.221449</td>\n    </tr>\n    <tr>\n      <th>SRR5245646</th>\n      <td>ASV1</td>\n      <td>IBS</td>\n      <td>IBS-M</td>\n      <td>37</td>\n      <td>female</td>\n      <td>19.723055</td>\n      <td>24-Apr-2013</td>\n      <td>Labus</td>\n      <td>stool</td>\n      <td>1st</td>\n      <td>0.296875</td>\n      <td>0.059282</td>\n    </tr>\n    <tr>\n      <th>SRR5245647</th>\n      <td>ASV19</td>\n      <td>Healthy</td>\n      <td>HC</td>\n      <td>30</td>\n      <td>male</td>\n      <td>22.940010</td>\n      <td>14-Feb-2014</td>\n      <td>Labus</td>\n      <td>stool</td>\n      <td>1st</td>\n      <td>0.187500</td>\n      <td>0.200817</td>\n    </tr>\n    <tr>\n      <th>SRR5245648</th>\n      <td>ASV19</td>\n      <td>IBS</td>\n      <td>IBS-D</td>\n      <td>28</td>\n      <td>male</td>\n      <td>20.672127</td>\n      <td>23-Apr-2013</td>\n      <td>Labus</td>\n      <td>stool</td>\n      <td>1st</td>\n      <td>0.156250</td>\n      <td>0.101038</td>\n    </tr>\n    <tr>\n      <th>SRR5245649</th>\n      <td>ASV1</td>\n      <td>Healthy</td>\n      <td>HC</td>\n      <td>21</td>\n      <td>female</td>\n      <td>24.481203</td>\n      <td>17-Jul-2013</td>\n      <td>Labus</td>\n      <td>stool</td>\n      <td>1st</td>\n      <td>0.046875</td>\n      <td>0.268624</td>\n    </tr>\n    <tr>\n      <th>SRR5245650</th>\n      <td>ASV1</td>\n      <td>IBS</td>\n      <td>IBS-D</td>\n      <td>23</td>\n      <td>female</td>\n      <td>29.048120</td>\n      <td>24-Oct-2013</td>\n      <td>Labus</td>\n      <td>stool</td>\n      <td>1st</td>\n      <td>0.078125</td>\n      <td>0.469553</td>\n    </tr>\n    <tr>\n      <th>SRR5245651</th>\n      <td>ASV19</td>\n      <td>Healthy</td>\n      <td>HC</td>\n      <td>29</td>\n      <td>female</td>\n      <td>20.900478</td>\n      <td>29-Oct-2013</td>\n      <td>Labus</td>\n      <td>stool</td>\n      <td>1st</td>\n      <td>0.171875</td>\n      <td>0.111085</td>\n    </tr>\n  </tbody>\n</table>\n</div>"
     },
     "execution_count": 8,
     "metadata": {},
     "output_type": "execute_result"
    }
   ],
   "source": [
    "data_lab = util.agg_ibs_data(\"Labus\", \"Genus\")\n",
    "data_lab.obs[\"host_age_norm\"] = normalize(data_lab.obs[\"host_age\"])\n",
    "data_lab.obs[\"bmi_norm\"] = normalize(data_lab.obs[\"host_bmi\"])\n",
    "data_lab.obs"
   ],
   "metadata": {
    "collapsed": false,
    "pycharm": {
     "name": "#%%\n"
    }
   }
  },
  {
   "cell_type": "markdown",
   "source": [
    "### IBS subtype\n",
    "\n",
    "Only for $\\phi=5$, we find 10 effects on the genus level.\n",
    "\n",
    "- For constipation, an increase in Anaerostipes, as well as decreases in Bacteroides, Agathobacter, Ruminococcus, Faecalibacterium.\n",
    "- For Diarrhea, decreases in Parabacteroides, Bacteroides\n",
    "- For mixed, an increase in Blautia and decreases in Parabacteroides, Faecalibacterium\n",
    "- For untetermined, nothing"
   ],
   "metadata": {
    "collapsed": false,
    "pycharm": {
     "name": "#%% md\n"
    }
   }
  },
  {
   "cell_type": "code",
   "execution_count": 27,
   "outputs": [
    {
     "name": "stderr",
     "output_type": "stream",
     "text": [
      "Trying to set attribute `.X` of view, copying.\n"
     ]
    },
    {
     "name": "stdout",
     "output_type": "stream",
     "text": [
      "Zero counts encountered in data! Added a pseudocount of 0.5.\n"
     ]
    },
    {
     "name": "stderr",
     "output_type": "stream",
     "text": [
      "/Users/johannes.ostner/Documents/PhD/tree_aggregation/tree_aggregation/tree_agg_model_sslasso.py:455: UserWarning: This feature is untested and might yield different results than expected. Please use sample_hmc().\n",
      "  warnings.warn(\n",
      "100%|██████████| 20000/20000 [03:37<00:00, 91.83it/s]\n"
     ]
    },
    {
     "name": "stdout",
     "output_type": "stream",
     "text": [
      "MCMC sampling finished. (276.674 sec)\n",
      "Acceptance rate: 86.6%\n"
     ]
    },
    {
     "name": "stderr",
     "output_type": "stream",
     "text": [
      "Trying to set attribute `.X` of view, copying.\n"
     ]
    },
    {
     "name": "stdout",
     "output_type": "stream",
     "text": [
      "Series([], Name: Final Parameter, dtype: float64)\n",
      "Zero counts encountered in data! Added a pseudocount of 0.5.\n"
     ]
    },
    {
     "name": "stderr",
     "output_type": "stream",
     "text": [
      "/Users/johannes.ostner/Documents/PhD/tree_aggregation/tree_aggregation/tree_agg_model_sslasso.py:455: UserWarning: This feature is untested and might yield different results than expected. Please use sample_hmc().\n",
      "  warnings.warn(\n",
      "100%|██████████| 20000/20000 [03:35<00:00, 92.99it/s]\n"
     ]
    },
    {
     "name": "stdout",
     "output_type": "stream",
     "text": [
      "MCMC sampling finished. (276.700 sec)\n",
      "Acceptance rate: 85.9%\n"
     ]
    },
    {
     "name": "stderr",
     "output_type": "stream",
     "text": [
      "Trying to set attribute `.X` of view, copying.\n"
     ]
    },
    {
     "name": "stdout",
     "output_type": "stream",
     "text": [
      "Series([], Name: Final Parameter, dtype: float64)\n",
      "Zero counts encountered in data! Added a pseudocount of 0.5.\n"
     ]
    },
    {
     "name": "stderr",
     "output_type": "stream",
     "text": [
      "/Users/johannes.ostner/Documents/PhD/tree_aggregation/tree_aggregation/tree_agg_model_sslasso.py:455: UserWarning: This feature is untested and might yield different results than expected. Please use sample_hmc().\n",
      "  warnings.warn(\n",
      "100%|██████████| 20000/20000 [03:40<00:00, 90.90it/s]\n"
     ]
    },
    {
     "name": "stdout",
     "output_type": "stream",
     "text": [
      "MCMC sampling finished. (279.581 sec)\n",
      "Acceptance rate: 86.7%\n",
      "Covariate                             Kingdom   Phylum        Class        Order                                Family                 Genus           \n",
      "host_subtype[T.IBS-C]_node            Bacteria  Bacteroidota  Bacteroidia  Bacteroidales                        Bacteroidaceae         Bacteroides        -0.426\n",
      "                                                Firmicutes    Clostridia   Lachnospirales                       Lachnospiraceae        Anaerostipes        0.438\n",
      "                                                                                                                                       Agathobacter       -0.819\n",
      "                                                                           Oscillospirales                      Ruminococcaceae        Ruminococcus       -0.262\n",
      "                                                                                                                                       Faecalibacterium   -0.320\n",
      "host_subtype[T.IBS-D]_node            Bacteria  Bacteroidota  Bacteroidia  Bacteroidales                        Tannerellaceae         Parabacteroides    -0.392\n",
      "                                                                                                                Bacteroidaceae         Bacteroides        -1.405\n",
      "host_subtype[T.IBS-M]_node            Bacteria  Bacteroidota  Bacteroidia  Bacteroidales                        Tannerellaceae         Parabacteroides    -0.424\n",
      "                                                Firmicutes    Clostridia   Lachnospirales                       Lachnospiraceae        Blautia             0.799\n",
      "                                                                           Oscillospirales                      Ruminococcaceae        Faecalibacterium   -0.285\n",
      "host_subtype[T.IBS-unspecified]_node  Bacteria  Firmicutes    Clostridia   Peptostreptococcales-Tissierellales  Peptostreptococcaceae  Romboutsia          0.259\n",
      "Name: Final Parameter, dtype: float64\n"
     ]
    }
   ],
   "source": [
    "res_subtypes = {}\n",
    "formula = \"host_subtype\"\n",
    "phis = [-5, 0, 5]\n",
    "for p in phis:\n",
    "    pa = {\"lambda_0\": 50, \"phi\": p, \"lambda_1\": 1}\n",
    "\n",
    "    res = run_tree_agg_Labus(\n",
    "                level=\"Genus\",\n",
    "                result_name=f\"subtype_phi_{p}\",\n",
    "                data=data_lab,\n",
    "                pen_args=pa,\n",
    "                formula=formula,\n",
    "                num_samples=20000\n",
    "            )\n",
    "    res_subtypes[phi] = res\n",
    "    print(res.node_df.loc[np.abs(res.node_df[\"Final Parameter\"]) != 0, \"Final Parameter\"])\n"
   ],
   "metadata": {
    "collapsed": false,
    "pycharm": {
     "name": "#%%\n"
    }
   }
  },
  {
   "cell_type": "markdown",
   "source": [
    "### Age\n",
    "\n",
    "We find nothing, for any value of $\\phi$"
   ],
   "metadata": {
    "collapsed": false
   }
  },
  {
   "cell_type": "code",
   "execution_count": 10,
   "outputs": [
    {
     "name": "stderr",
     "output_type": "stream",
     "text": [
      "Trying to set attribute `.X` of view, copying.\n"
     ]
    },
    {
     "name": "stdout",
     "output_type": "stream",
     "text": [
      "Zero counts encountered in data! Added a pseudocount of 0.5.\n"
     ]
    },
    {
     "name": "stderr",
     "output_type": "stream",
     "text": [
      "/Users/johannes.ostner/Documents/PhD/tree_aggregation/tree_aggregation/tree_agg_model_sslasso.py:455: UserWarning: This feature is untested and might yield different results than expected. Please use sample_hmc().\n",
      "  warnings.warn(\n",
      "100%|██████████| 20000/20000 [03:24<00:00, 97.77it/s] \n"
     ]
    },
    {
     "name": "stdout",
     "output_type": "stream",
     "text": [
      "MCMC sampling finished. (257.997 sec)\n",
      "Acceptance rate: 86.7%\n"
     ]
    },
    {
     "name": "stderr",
     "output_type": "stream",
     "text": [
      "Trying to set attribute `.X` of view, copying.\n"
     ]
    },
    {
     "name": "stdout",
     "output_type": "stream",
     "text": [
      "Series([], Name: Final Parameter, dtype: float64)\n",
      "Zero counts encountered in data! Added a pseudocount of 0.5.\n"
     ]
    },
    {
     "name": "stderr",
     "output_type": "stream",
     "text": [
      "/Users/johannes.ostner/Documents/PhD/tree_aggregation/tree_aggregation/tree_agg_model_sslasso.py:455: UserWarning: This feature is untested and might yield different results than expected. Please use sample_hmc().\n",
      "  warnings.warn(\n",
      "100%|██████████| 20000/20000 [03:24<00:00, 97.67it/s] \n"
     ]
    },
    {
     "name": "stdout",
     "output_type": "stream",
     "text": [
      "MCMC sampling finished. (256.458 sec)\n",
      "Acceptance rate: 86.0%\n"
     ]
    },
    {
     "name": "stderr",
     "output_type": "stream",
     "text": [
      "Trying to set attribute `.X` of view, copying.\n"
     ]
    },
    {
     "name": "stdout",
     "output_type": "stream",
     "text": [
      "Series([], Name: Final Parameter, dtype: float64)\n",
      "Zero counts encountered in data! Added a pseudocount of 0.5.\n"
     ]
    },
    {
     "name": "stderr",
     "output_type": "stream",
     "text": [
      "/Users/johannes.ostner/Documents/PhD/tree_aggregation/tree_aggregation/tree_agg_model_sslasso.py:455: UserWarning: This feature is untested and might yield different results than expected. Please use sample_hmc().\n",
      "  warnings.warn(\n",
      "100%|██████████| 20000/20000 [03:25<00:00, 97.38it/s] \n"
     ]
    },
    {
     "name": "stdout",
     "output_type": "stream",
     "text": [
      "MCMC sampling finished. (257.880 sec)\n",
      "Acceptance rate: 85.6%\n",
      "Series([], Name: Final Parameter, dtype: float64)\n"
     ]
    }
   ],
   "source": [
    "res_age = {}\n",
    "formula = \"host_age_norm\"\n",
    "\n",
    "for p in phis:\n",
    "    pa = {\"lambda_0\": 50, \"phi\": p, \"lambda_1\": 1}\n",
    "\n",
    "    res = run_tree_agg_Labus(\n",
    "                level=\"Genus\",\n",
    "                result_name=f\"age_phi_{p}\",\n",
    "                data=data_lab,\n",
    "                pen_args=pa,\n",
    "                formula=formula,\n",
    "                num_samples=20000\n",
    "            )\n",
    "    res_age[phi] = res\n",
    "    print(res.node_df.loc[np.abs(res.node_df[\"Final Parameter\"]) != 0, \"Final Parameter\"])"
   ],
   "metadata": {
    "collapsed": false,
    "pycharm": {
     "name": "#%%\n"
    }
   }
  },
  {
   "cell_type": "markdown",
   "source": [
    "### Sex\n",
    "\n",
    "We find nothing, for any value of $\\phi$"
   ],
   "metadata": {
    "collapsed": false
   }
  },
  {
   "cell_type": "code",
   "execution_count": 11,
   "outputs": [
    {
     "name": "stderr",
     "output_type": "stream",
     "text": [
      "Trying to set attribute `.X` of view, copying.\n"
     ]
    },
    {
     "name": "stdout",
     "output_type": "stream",
     "text": [
      "Zero counts encountered in data! Added a pseudocount of 0.5.\n"
     ]
    },
    {
     "name": "stderr",
     "output_type": "stream",
     "text": [
      "/Users/johannes.ostner/Documents/PhD/tree_aggregation/tree_aggregation/tree_agg_model_sslasso.py:455: UserWarning: This feature is untested and might yield different results than expected. Please use sample_hmc().\n",
      "  warnings.warn(\n",
      "100%|██████████| 20000/20000 [03:22<00:00, 98.64it/s] \n"
     ]
    },
    {
     "name": "stdout",
     "output_type": "stream",
     "text": [
      "MCMC sampling finished. (255.713 sec)\n",
      "Acceptance rate: 86.6%\n"
     ]
    },
    {
     "name": "stderr",
     "output_type": "stream",
     "text": [
      "Trying to set attribute `.X` of view, copying.\n"
     ]
    },
    {
     "name": "stdout",
     "output_type": "stream",
     "text": [
      "Series([], Name: Final Parameter, dtype: float64)\n",
      "Zero counts encountered in data! Added a pseudocount of 0.5.\n"
     ]
    },
    {
     "name": "stderr",
     "output_type": "stream",
     "text": [
      "/Users/johannes.ostner/Documents/PhD/tree_aggregation/tree_aggregation/tree_agg_model_sslasso.py:455: UserWarning: This feature is untested and might yield different results than expected. Please use sample_hmc().\n",
      "  warnings.warn(\n",
      "100%|██████████| 20000/20000 [03:22<00:00, 98.53it/s] \n"
     ]
    },
    {
     "name": "stdout",
     "output_type": "stream",
     "text": [
      "MCMC sampling finished. (254.973 sec)\n",
      "Acceptance rate: 86.6%\n"
     ]
    },
    {
     "name": "stderr",
     "output_type": "stream",
     "text": [
      "Trying to set attribute `.X` of view, copying.\n"
     ]
    },
    {
     "name": "stdout",
     "output_type": "stream",
     "text": [
      "Series([], Name: Final Parameter, dtype: float64)\n",
      "Zero counts encountered in data! Added a pseudocount of 0.5.\n"
     ]
    },
    {
     "name": "stderr",
     "output_type": "stream",
     "text": [
      "/Users/johannes.ostner/Documents/PhD/tree_aggregation/tree_aggregation/tree_agg_model_sslasso.py:455: UserWarning: This feature is untested and might yield different results than expected. Please use sample_hmc().\n",
      "  warnings.warn(\n",
      "100%|██████████| 20000/20000 [03:25<00:00, 97.42it/s] \n"
     ]
    },
    {
     "name": "stdout",
     "output_type": "stream",
     "text": [
      "MCMC sampling finished. (258.162 sec)\n",
      "Acceptance rate: 86.0%\n",
      "Series([], Name: Final Parameter, dtype: float64)\n"
     ]
    }
   ],
   "source": [
    "res_sex = {}\n",
    "formula = \"host_sex\"\n",
    "\n",
    "for p in phis:\n",
    "    pa = {\"lambda_0\": 50, \"phi\": p, \"lambda_1\": 1}\n",
    "\n",
    "    res = run_tree_agg_Labus(\n",
    "                level=\"Genus\",\n",
    "                result_name=f\"sex_phi_{p}\",\n",
    "                data=data_lab,\n",
    "                pen_args=pa,\n",
    "                formula=formula,\n",
    "                num_samples=20000\n",
    "            )\n",
    "    res_sex[phi] = res\n",
    "    print(res.node_df.loc[np.abs(res.node_df[\"Final Parameter\"]) != 0, \"Final Parameter\"])\n"
   ],
   "metadata": {
    "collapsed": false,
    "pycharm": {
     "name": "#%%\n"
    }
   }
  },
  {
   "cell_type": "markdown",
   "source": [
    "### BMI (3 samples left out)\n",
    "\n",
    "We find nothing, for any value of $\\phi$"
   ],
   "metadata": {
    "collapsed": false
   }
  },
  {
   "cell_type": "code",
   "execution_count": 12,
   "outputs": [
    {
     "name": "stderr",
     "output_type": "stream",
     "text": [
      "Trying to set attribute `.uns` of view, copying.\n",
      "Trying to set attribute `.X` of view, copying.\n"
     ]
    },
    {
     "name": "stdout",
     "output_type": "stream",
     "text": [
      "Zero counts encountered in data! Added a pseudocount of 0.5.\n"
     ]
    },
    {
     "name": "stderr",
     "output_type": "stream",
     "text": [
      "/Users/johannes.ostner/Documents/PhD/tree_aggregation/tree_aggregation/tree_agg_model_sslasso.py:455: UserWarning: This feature is untested and might yield different results than expected. Please use sample_hmc().\n",
      "  warnings.warn(\n",
      "100%|██████████| 20000/20000 [03:17<00:00, 101.36it/s]\n"
     ]
    },
    {
     "name": "stdout",
     "output_type": "stream",
     "text": [
      "MCMC sampling finished. (248.162 sec)\n",
      "Acceptance rate: 86.8%\n"
     ]
    },
    {
     "name": "stderr",
     "output_type": "stream",
     "text": [
      "Trying to set attribute `.uns` of view, copying.\n",
      "Trying to set attribute `.X` of view, copying.\n"
     ]
    },
    {
     "name": "stdout",
     "output_type": "stream",
     "text": [
      "Series([], Name: Final Parameter, dtype: float64)\n",
      "Zero counts encountered in data! Added a pseudocount of 0.5.\n"
     ]
    },
    {
     "name": "stderr",
     "output_type": "stream",
     "text": [
      "/Users/johannes.ostner/Documents/PhD/tree_aggregation/tree_aggregation/tree_agg_model_sslasso.py:455: UserWarning: This feature is untested and might yield different results than expected. Please use sample_hmc().\n",
      "  warnings.warn(\n",
      "100%|██████████| 20000/20000 [03:16<00:00, 101.58it/s]\n"
     ]
    },
    {
     "name": "stdout",
     "output_type": "stream",
     "text": [
      "MCMC sampling finished. (247.828 sec)\n",
      "Acceptance rate: 87.1%\n"
     ]
    },
    {
     "name": "stderr",
     "output_type": "stream",
     "text": [
      "Trying to set attribute `.uns` of view, copying.\n",
      "Trying to set attribute `.X` of view, copying.\n"
     ]
    },
    {
     "name": "stdout",
     "output_type": "stream",
     "text": [
      "Series([], Name: Final Parameter, dtype: float64)\n",
      "Zero counts encountered in data! Added a pseudocount of 0.5.\n"
     ]
    },
    {
     "name": "stderr",
     "output_type": "stream",
     "text": [
      "/Users/johannes.ostner/Documents/PhD/tree_aggregation/tree_aggregation/tree_agg_model_sslasso.py:455: UserWarning: This feature is untested and might yield different results than expected. Please use sample_hmc().\n",
      "  warnings.warn(\n",
      "100%|██████████| 20000/20000 [03:17<00:00, 101.16it/s]\n"
     ]
    },
    {
     "name": "stdout",
     "output_type": "stream",
     "text": [
      "MCMC sampling finished. (248.509 sec)\n",
      "Acceptance rate: 85.8%\n",
      "Series([], Name: Final Parameter, dtype: float64)\n"
     ]
    }
   ],
   "source": [
    "res_bmi = {}\n",
    "formula = \"bmi_norm\"\n",
    "\n",
    "for p in phis:\n",
    "    pa = {\"lambda_0\": 50, \"phi\": p, \"lambda_1\": 1}\n",
    "\n",
    "    res = run_tree_agg_Labus(\n",
    "                level=\"Genus\",\n",
    "                result_name=f\"bmi_phi_{p}\",\n",
    "                data=data_lab[~np.isnan(data_lab.obs[\"bmi_norm\"])],\n",
    "                pen_args=pa,\n",
    "                formula=formula,\n",
    "                num_samples=20000\n",
    "            )\n",
    "    res_bmi[phi] = res\n",
    "    print(res.node_df.loc[np.abs(res.node_df[\"Final Parameter\"]) != 0, \"Final Parameter\"])\n"
   ],
   "metadata": {
    "collapsed": false,
    "pycharm": {
     "name": "#%%\n"
    }
   }
  },
  {
   "cell_type": "markdown",
   "source": [
    "### All covariates, additive (3 samples left out)\n",
    "\n",
    "We find only effects on IBS subtype, which are 6 of the 10 effects found when using only IBS subtype"
   ],
   "metadata": {
    "collapsed": false
   }
  },
  {
   "cell_type": "code",
   "execution_count": 13,
   "outputs": [
    {
     "name": "stderr",
     "output_type": "stream",
     "text": [
      "Trying to set attribute `.uns` of view, copying.\n",
      "Trying to set attribute `.X` of view, copying.\n",
      "/Users/johannes.ostner/Documents/PhD/tree_aggregation/tree_aggregation/tree_agg_model_sslasso.py:455: UserWarning: This feature is untested and might yield different results than expected. Please use sample_hmc().\n",
      "  warnings.warn(\n"
     ]
    },
    {
     "name": "stdout",
     "output_type": "stream",
     "text": [
      "Zero counts encountered in data! Added a pseudocount of 0.5.\n"
     ]
    },
    {
     "name": "stderr",
     "output_type": "stream",
     "text": [
      "100%|██████████| 20000/20000 [03:31<00:00, 94.50it/s]\n"
     ]
    },
    {
     "name": "stdout",
     "output_type": "stream",
     "text": [
      "MCMC sampling finished. (265.943 sec)\n",
      "Acceptance rate: 86.7%\n"
     ]
    },
    {
     "name": "stderr",
     "output_type": "stream",
     "text": [
      "Trying to set attribute `.uns` of view, copying.\n",
      "Trying to set attribute `.X` of view, copying.\n"
     ]
    },
    {
     "name": "stdout",
     "output_type": "stream",
     "text": [
      "Series([], Name: Final Parameter, dtype: float64)\n",
      "Zero counts encountered in data! Added a pseudocount of 0.5.\n"
     ]
    },
    {
     "name": "stderr",
     "output_type": "stream",
     "text": [
      "/Users/johannes.ostner/Documents/PhD/tree_aggregation/tree_aggregation/tree_agg_model_sslasso.py:455: UserWarning: This feature is untested and might yield different results than expected. Please use sample_hmc().\n",
      "  warnings.warn(\n",
      "100%|██████████| 20000/20000 [03:34<00:00, 93.17it/s]\n"
     ]
    },
    {
     "name": "stdout",
     "output_type": "stream",
     "text": [
      "MCMC sampling finished. (270.008 sec)\n",
      "Acceptance rate: 85.7%\n"
     ]
    },
    {
     "name": "stderr",
     "output_type": "stream",
     "text": [
      "Trying to set attribute `.uns` of view, copying.\n",
      "Trying to set attribute `.X` of view, copying.\n"
     ]
    },
    {
     "name": "stdout",
     "output_type": "stream",
     "text": [
      "Series([], Name: Final Parameter, dtype: float64)\n",
      "Zero counts encountered in data! Added a pseudocount of 0.5.\n"
     ]
    },
    {
     "name": "stderr",
     "output_type": "stream",
     "text": [
      "/Users/johannes.ostner/Documents/PhD/tree_aggregation/tree_aggregation/tree_agg_model_sslasso.py:455: UserWarning: This feature is untested and might yield different results than expected. Please use sample_hmc().\n",
      "  warnings.warn(\n",
      "100%|██████████| 20000/20000 [03:34<00:00, 93.25it/s]\n"
     ]
    },
    {
     "name": "stdout",
     "output_type": "stream",
     "text": [
      "MCMC sampling finished. (270.797 sec)\n",
      "Acceptance rate: 87.1%\n",
      "Covariate                   Kingdom   Phylum        Class        Order           Family           Genus          \n",
      "host_subtype[T.IBS-C]_node  Bacteria  Bacteroidota  Bacteroidia  Bacteroidales   Bacteroidaceae   Bacteroides       -0.604\n",
      "                                      Firmicutes    Clostridia   Lachnospirales  Lachnospiraceae  Agathobacter      -0.313\n",
      "host_subtype[T.IBS-D]_node  Bacteria  Bacteroidota  Bacteroidia  Bacteroidales   Tannerellaceae   Parabacteroides   -0.265\n",
      "                                                                                 Bacteroidaceae   Bacteroides       -1.286\n",
      "host_subtype[T.IBS-M]_node  Bacteria  Bacteroidota  Bacteroidia  Bacteroidales   Tannerellaceae   Parabacteroides   -0.274\n",
      "                                      Firmicutes    Clostridia   Lachnospirales  Lachnospiraceae  Blautia            0.797\n",
      "Name: Final Parameter, dtype: float64\n"
     ]
    }
   ],
   "source": [
    "res_sum_all = {}\n",
    "formula = \"host_sex + host_subtype + bmi_norm + host_age_norm\"\n",
    "\n",
    "for p in phis:\n",
    "    pa = {\"lambda_0\": 50, \"phi\": p, \"lambda_1\": 1}\n",
    "\n",
    "    res = run_tree_agg_Labus(\n",
    "                level=\"Genus\",\n",
    "                result_name=f\"sum_all_phi_{p}\",\n",
    "                data=data_lab[~np.isnan(data_lab.obs[\"bmi_norm\"])],\n",
    "                pen_args=pa,\n",
    "                formula=formula,\n",
    "                num_samples=20000\n",
    "            )\n",
    "    res_sum_all[phi] = res\n",
    "    print(res.node_df.loc[np.abs(res.node_df[\"Final Parameter\"]) != 0, \"Final Parameter\"])\n"
   ],
   "metadata": {
    "collapsed": false,
    "pycharm": {
     "name": "#%%\n"
    }
   }
  },
  {
   "cell_type": "markdown",
   "source": [
    "### All covariates except BMI, additive\n",
    "\n",
    "We find only effects on IBS subtype, which are 6 of the 10 effects found when using only IBS subtype.\n",
    "5 of 6 are the same as when including BMI"
   ],
   "metadata": {
    "collapsed": false
   }
  },
  {
   "cell_type": "code",
   "execution_count": 14,
   "outputs": [
    {
     "name": "stderr",
     "output_type": "stream",
     "text": [
      "Trying to set attribute `.X` of view, copying.\n"
     ]
    },
    {
     "name": "stdout",
     "output_type": "stream",
     "text": [
      "Zero counts encountered in data! Added a pseudocount of 0.5.\n"
     ]
    },
    {
     "name": "stderr",
     "output_type": "stream",
     "text": [
      "/Users/johannes.ostner/Documents/PhD/tree_aggregation/tree_aggregation/tree_agg_model_sslasso.py:455: UserWarning: This feature is untested and might yield different results than expected. Please use sample_hmc().\n",
      "  warnings.warn(\n",
      "100%|██████████| 20000/20000 [03:37<00:00, 91.78it/s]\n"
     ]
    },
    {
     "name": "stdout",
     "output_type": "stream",
     "text": [
      "MCMC sampling finished. (274.751 sec)\n",
      "Acceptance rate: 86.2%\n"
     ]
    },
    {
     "name": "stderr",
     "output_type": "stream",
     "text": [
      "Trying to set attribute `.X` of view, copying.\n"
     ]
    },
    {
     "name": "stdout",
     "output_type": "stream",
     "text": [
      "Series([], Name: Final Parameter, dtype: float64)\n",
      "Zero counts encountered in data! Added a pseudocount of 0.5.\n"
     ]
    },
    {
     "name": "stderr",
     "output_type": "stream",
     "text": [
      "/Users/johannes.ostner/Documents/PhD/tree_aggregation/tree_aggregation/tree_agg_model_sslasso.py:455: UserWarning: This feature is untested and might yield different results than expected. Please use sample_hmc().\n",
      "  warnings.warn(\n",
      "100%|██████████| 20000/20000 [03:37<00:00, 92.10it/s]\n"
     ]
    },
    {
     "name": "stdout",
     "output_type": "stream",
     "text": [
      "MCMC sampling finished. (274.549 sec)\n",
      "Acceptance rate: 85.8%\n"
     ]
    },
    {
     "name": "stderr",
     "output_type": "stream",
     "text": [
      "Trying to set attribute `.X` of view, copying.\n"
     ]
    },
    {
     "name": "stdout",
     "output_type": "stream",
     "text": [
      "Series([], Name: Final Parameter, dtype: float64)\n",
      "Zero counts encountered in data! Added a pseudocount of 0.5.\n"
     ]
    },
    {
     "name": "stderr",
     "output_type": "stream",
     "text": [
      "/Users/johannes.ostner/Documents/PhD/tree_aggregation/tree_aggregation/tree_agg_model_sslasso.py:455: UserWarning: This feature is untested and might yield different results than expected. Please use sample_hmc().\n",
      "  warnings.warn(\n",
      "100%|██████████| 20000/20000 [03:39<00:00, 91.10it/s]\n"
     ]
    },
    {
     "name": "stdout",
     "output_type": "stream",
     "text": [
      "MCMC sampling finished. (275.540 sec)\n",
      "Acceptance rate: 88.6%\n",
      "Covariate                   Kingdom   Phylum        Class        Order           Family           Genus          \n",
      "host_subtype[T.IBS-C]_node  Bacteria  Bacteroidota  Bacteroidia  Bacteroidales   Bacteroidaceae   Bacteroides       -0.381\n",
      "                                      Firmicutes    Clostridia   Lachnospirales  Lachnospiraceae  Anaerostipes       0.282\n",
      "                                                                                                  Agathobacter      -0.573\n",
      "host_subtype[T.IBS-D]_node  Bacteria  Bacteroidota  Bacteroidia  Bacteroidales   Tannerellaceae   Parabacteroides   -0.263\n",
      "                                                                                 Bacteroidaceae   Bacteroides       -1.260\n",
      "host_subtype[T.IBS-M]_node  Bacteria  Firmicutes    Clostridia   Lachnospirales  Lachnospiraceae  Blautia            0.643\n",
      "Name: Final Parameter, dtype: float64\n"
     ]
    }
   ],
   "source": [
    "res_sum_nobmi = {}\n",
    "formula = \"host_sex + host_subtype + host_age_norm\"\n",
    "\n",
    "for p in phis:\n",
    "    pa = {\"lambda_0\": 50, \"phi\": p, \"lambda_1\": 1}\n",
    "\n",
    "    res = run_tree_agg_Labus(\n",
    "                level=\"Genus\",\n",
    "                result_name=f\"sum_nobmi_phi_{p}\",\n",
    "                data=data_lab,\n",
    "                pen_args=pa,\n",
    "                formula=formula,\n",
    "                num_samples=20000\n",
    "            )\n",
    "    res_sum_nobmi[phi] = res\n",
    "    print(res.node_df.loc[np.abs(res.node_df[\"Final Parameter\"]) != 0, \"Final Parameter\"])"
   ],
   "metadata": {
    "collapsed": false,
    "pycharm": {
     "name": "#%%\n"
    }
   }
  },
  {
   "cell_type": "markdown",
   "source": [
    "### All covariates except BMI, multiplicative\n",
    "\n",
    "We find 3 effects on IBS subtypes, as well as one interaction between sex and IBS-D that strengthens the decrease of Bacteroides"
   ],
   "metadata": {
    "collapsed": false
   }
  },
  {
   "cell_type": "code",
   "execution_count": 87,
   "outputs": [
    {
     "name": "stderr",
     "output_type": "stream",
     "text": [
      "Trying to set attribute `.uns` of view, copying.\n",
      "Trying to set attribute `.X` of view, copying.\n",
      "/Users/johannes.ostner/Documents/PhD/tree_aggregation/tree_aggregation/tree_agg_model_sslasso.py:455: UserWarning: This feature is untested and might yield different results than expected. Please use sample_hmc().\n",
      "  warnings.warn(\n"
     ]
    },
    {
     "name": "stdout",
     "output_type": "stream",
     "text": [
      "Zero counts encountered in data! Added a pseudocount of 0.5.\n"
     ]
    },
    {
     "name": "stderr",
     "output_type": "stream",
     "text": [
      "100%|██████████| 2000/2000 [00:46<00:00, 42.91it/s]\n"
     ]
    },
    {
     "name": "stdout",
     "output_type": "stream",
     "text": [
      "MCMC sampling finished. (70.615 sec)\n",
      "Acceptance rate: 85.3%\n"
     ]
    },
    {
     "name": "stderr",
     "output_type": "stream",
     "text": [
      "Trying to set attribute `.uns` of view, copying.\n",
      "Trying to set attribute `.X` of view, copying.\n"
     ]
    },
    {
     "name": "stdout",
     "output_type": "stream",
     "text": [
      "Series([], Name: Final Parameter, dtype: float64)\n",
      "Zero counts encountered in data! Added a pseudocount of 0.5.\n"
     ]
    },
    {
     "name": "stderr",
     "output_type": "stream",
     "text": [
      "/Users/johannes.ostner/Documents/PhD/tree_aggregation/tree_aggregation/tree_agg_model_sslasso.py:455: UserWarning: This feature is untested and might yield different results than expected. Please use sample_hmc().\n",
      "  warnings.warn(\n",
      "100%|██████████| 2000/2000 [00:45<00:00, 44.04it/s]\n"
     ]
    },
    {
     "name": "stdout",
     "output_type": "stream",
     "text": [
      "MCMC sampling finished. (76.155 sec)\n",
      "Acceptance rate: 87.4%\n"
     ]
    },
    {
     "name": "stderr",
     "output_type": "stream",
     "text": [
      "Trying to set attribute `.uns` of view, copying.\n",
      "Trying to set attribute `.X` of view, copying.\n"
     ]
    },
    {
     "name": "stdout",
     "output_type": "stream",
     "text": [
      "Series([], Name: Final Parameter, dtype: float64)\n",
      "Zero counts encountered in data! Added a pseudocount of 0.5.\n"
     ]
    },
    {
     "name": "stderr",
     "output_type": "stream",
     "text": [
      "/Users/johannes.ostner/Documents/PhD/tree_aggregation/tree_aggregation/tree_agg_model_sslasso.py:455: UserWarning: This feature is untested and might yield different results than expected. Please use sample_hmc().\n",
      "  warnings.warn(\n",
      "100%|██████████| 2000/2000 [00:46<00:00, 43.45it/s]\n"
     ]
    },
    {
     "name": "stdout",
     "output_type": "stream",
     "text": [
      "MCMC sampling finished. (61.972 sec)\n",
      "Acceptance rate: 87.4%\n",
      "Covariate                                    Kingdom   Phylum        Class        Order          Family          Genus      \n",
      "host_subtype[T.IBS-D]_node                   Bacteria  Bacteroidota  Bacteroidia  Bacteroidales  Bacteroidaceae  Bacteroides   -0.275\n",
      "host_sex[T.male]:host_subtype[T.IBS-D]_node  Bacteria  Bacteroidota  Bacteroidia  Bacteroidales  Bacteroidaceae  Bacteroides   -0.400\n",
      "Name: Final Parameter, dtype: float64\n"
     ]
    }
   ],
   "source": [
    "res_prod = {}\n",
    "formula = \"host_sex * host_subtype * host_age_norm * bmi_norm\"\n",
    "\n",
    "for p in phis:\n",
    "    pa = {\"lambda_0\": 50, \"phi\": p, \"lambda_1\": 1}\n",
    "\n",
    "    res = run_tree_agg_Labus(\n",
    "                level=\"Genus\",\n",
    "                result_name=f\"prod_phi_{p}\",\n",
    "                data=data_lab[~np.isnan(data_lab.obs[\"bmi_norm\"])],\n",
    "                pen_args=pa,\n",
    "                formula=formula,\n",
    "                num_samples=2000\n",
    "            )\n",
    "    res_prod[phi] = res\n",
    "    print(res.node_df.loc[np.abs(res.node_df[\"Final Parameter\"]) != 0, \"Final Parameter\"])"
   ],
   "metadata": {
    "collapsed": false,
    "pycharm": {
     "name": "#%%\n"
    }
   }
  },
  {
   "cell_type": "code",
   "execution_count": 86,
   "outputs": [
    {
     "name": "stderr",
     "output_type": "stream",
     "text": [
      "Trying to set attribute `.X` of view, copying.\n"
     ]
    },
    {
     "name": "stdout",
     "output_type": "stream",
     "text": [
      "Zero counts encountered in data! Added a pseudocount of 0.5.\n"
     ]
    },
    {
     "name": "stderr",
     "output_type": "stream",
     "text": [
      "/Users/johannes.ostner/Documents/PhD/tree_aggregation/tree_aggregation/tree_agg_model_sslasso.py:455: UserWarning: This feature is untested and might yield different results than expected. Please use sample_hmc().\n",
      "  warnings.warn(\n",
      "100%|██████████| 20000/20000 [04:07<00:00, 80.92it/s]\n"
     ]
    },
    {
     "name": "stdout",
     "output_type": "stream",
     "text": [
      "MCMC sampling finished. (317.126 sec)\n",
      "Acceptance rate: 84.9%\n"
     ]
    },
    {
     "name": "stderr",
     "output_type": "stream",
     "text": [
      "Trying to set attribute `.X` of view, copying.\n"
     ]
    },
    {
     "name": "stdout",
     "output_type": "stream",
     "text": [
      "Series([], Name: Final Parameter, dtype: float64)\n",
      "Zero counts encountered in data! Added a pseudocount of 0.5.\n"
     ]
    },
    {
     "name": "stderr",
     "output_type": "stream",
     "text": [
      "/Users/johannes.ostner/Documents/PhD/tree_aggregation/tree_aggregation/tree_agg_model_sslasso.py:455: UserWarning: This feature is untested and might yield different results than expected. Please use sample_hmc().\n",
      "  warnings.warn(\n",
      "100%|██████████| 20000/20000 [04:22<00:00, 76.33it/s]\n"
     ]
    },
    {
     "name": "stdout",
     "output_type": "stream",
     "text": [
      "MCMC sampling finished. (337.003 sec)\n",
      "Acceptance rate: 85.9%\n"
     ]
    },
    {
     "name": "stderr",
     "output_type": "stream",
     "text": [
      "Trying to set attribute `.X` of view, copying.\n"
     ]
    },
    {
     "name": "stdout",
     "output_type": "stream",
     "text": [
      "Series([], Name: Final Parameter, dtype: float64)\n",
      "Zero counts encountered in data! Added a pseudocount of 0.5.\n"
     ]
    },
    {
     "name": "stderr",
     "output_type": "stream",
     "text": [
      "/Users/johannes.ostner/Documents/PhD/tree_aggregation/tree_aggregation/tree_agg_model_sslasso.py:455: UserWarning: This feature is untested and might yield different results than expected. Please use sample_hmc().\n",
      "  warnings.warn(\n",
      "100%|██████████| 20000/20000 [04:15<00:00, 78.40it/s]\n"
     ]
    },
    {
     "name": "stdout",
     "output_type": "stream",
     "text": [
      "MCMC sampling finished. (329.225 sec)\n",
      "Acceptance rate: 85.5%\n",
      "Covariate                                    Kingdom   Phylum        Class        Order           Family           Genus       \n",
      "host_subtype[T.IBS-C]_node                   Bacteria  Firmicutes    Clostridia   Lachnospirales  Lachnospiraceae  Agathobacter   -0.252\n",
      "host_subtype[T.IBS-D]_node                   Bacteria  Bacteroidota  Bacteroidia  Bacteroidales   Bacteroidaceae   Bacteroides    -0.570\n",
      "host_subtype[T.IBS-M]_node                   Bacteria  Firmicutes    Clostridia   Lachnospirales  Lachnospiraceae  Blautia         0.277\n",
      "host_sex[T.male]:host_subtype[T.IBS-D]_node  Bacteria  Bacteroidota  Bacteroidia  Bacteroidales   Bacteroidaceae   Bacteroides    -0.628\n",
      "Name: Final Parameter, dtype: float64\n"
     ]
    }
   ],
   "source": [
    "res_prod_nobmi = {}\n",
    "formula = \"host_sex * host_subtype * host_age_norm\"\n",
    "\n",
    "for p in phis:\n",
    "    pa = {\"lambda_0\": 50, \"phi\": p, \"lambda_1\": 1}\n",
    "\n",
    "    res = run_tree_agg_Labus(\n",
    "                level=\"Genus\",\n",
    "                result_name=f\"prod_nobmi_phi_{p}\",\n",
    "                data=data_lab,\n",
    "                pen_args=pa,\n",
    "                formula=formula,\n",
    "                num_samples=20000\n",
    "            )\n",
    "    res_prod_nobmi[phi] = res\n",
    "    print(res.node_df.loc[np.abs(res.node_df[\"Final Parameter\"]) != 0, \"Final Parameter\"])"
   ],
   "metadata": {
    "collapsed": false,
    "pycharm": {
     "name": "#%%\n"
    }
   }
  },
  {
   "cell_type": "code",
   "execution_count": 85,
   "outputs": [
    {
     "name": "stderr",
     "output_type": "stream",
     "text": [
      "Trying to set attribute `.X` of view, copying.\n"
     ]
    },
    {
     "name": "stdout",
     "output_type": "stream",
     "text": [
      "Zero counts encountered in data! Added a pseudocount of 0.5.\n"
     ]
    },
    {
     "name": "stderr",
     "output_type": "stream",
     "text": [
      "/Users/johannes.ostner/Documents/PhD/tree_aggregation/tree_aggregation/tree_agg_model_sslasso.py:455: UserWarning: This feature is untested and might yield different results than expected. Please use sample_hmc().\n",
      "  warnings.warn(\n",
      "100%|██████████| 2000/2000 [00:26<00:00, 76.60it/s]\n"
     ]
    },
    {
     "name": "stdout",
     "output_type": "stream",
     "text": [
      "MCMC sampling finished. (44.989 sec)\n",
      "Acceptance rate: 86.6%\n"
     ]
    },
    {
     "name": "stderr",
     "output_type": "stream",
     "text": [
      "Trying to set attribute `.X` of view, copying.\n"
     ]
    },
    {
     "name": "stdout",
     "output_type": "stream",
     "text": [
      "Series([], Name: Final Parameter, dtype: float64)\n",
      "Zero counts encountered in data! Added a pseudocount of 0.5.\n"
     ]
    },
    {
     "name": "stderr",
     "output_type": "stream",
     "text": [
      "/Users/johannes.ostner/Documents/PhD/tree_aggregation/tree_aggregation/tree_agg_model_sslasso.py:455: UserWarning: This feature is untested and might yield different results than expected. Please use sample_hmc().\n",
      "  warnings.warn(\n",
      "100%|██████████| 2000/2000 [00:26<00:00, 76.03it/s]\n"
     ]
    },
    {
     "name": "stdout",
     "output_type": "stream",
     "text": [
      "MCMC sampling finished. (48.934 sec)\n",
      "Acceptance rate: 86.6%\n"
     ]
    },
    {
     "name": "stderr",
     "output_type": "stream",
     "text": [
      "Trying to set attribute `.X` of view, copying.\n"
     ]
    },
    {
     "name": "stdout",
     "output_type": "stream",
     "text": [
      "Series([], Name: Final Parameter, dtype: float64)\n",
      "Zero counts encountered in data! Added a pseudocount of 0.5.\n"
     ]
    },
    {
     "name": "stderr",
     "output_type": "stream",
     "text": [
      "/Users/johannes.ostner/Documents/PhD/tree_aggregation/tree_aggregation/tree_agg_model_sslasso.py:455: UserWarning: This feature is untested and might yield different results than expected. Please use sample_hmc().\n",
      "  warnings.warn(\n",
      "100%|██████████| 2000/2000 [00:26<00:00, 74.82it/s]\n"
     ]
    },
    {
     "name": "stdout",
     "output_type": "stream",
     "text": [
      "MCMC sampling finished. (44.939 sec)\n",
      "Acceptance rate: 90.1%\n",
      "Covariate                 Kingdom   Phylum        Class        Order            Family           Genus          \n",
      "host_sex[T.male]_node     Bacteria  Bacteroidota  Bacteroidia  Bacteroidales    Bacteroidaceae   Bacteroides       -0.327\n",
      "host_disease[T.IBS]_node  Bacteria  Bacteroidota  Bacteroidia  Bacteroidales    Tannerellaceae   Parabacteroides   -0.603\n",
      "                                                                                Bacteroidaceae   Bacteroides       -0.811\n",
      "                                    Firmicutes    Clostridia   Lachnospirales   Lachnospiraceae  Agathobacter      -0.324\n",
      "                                                               Oscillospirales  Ruminococcaceae  NaN               -0.350\n",
      "Name: Final Parameter, dtype: float64\n"
     ]
    }
   ],
   "source": [
    "res_prod_nobmi_general = {}\n",
    "formula = \"host_sex * host_disease * host_age_norm\"\n",
    "\n",
    "for p in phis:\n",
    "    pa = {\"lambda_0\": 50, \"phi\": p, \"lambda_1\": 1}\n",
    "\n",
    "    res = run_tree_agg_Labus(\n",
    "                level=\"Genus\",\n",
    "                result_name=f\"prod_nobmi_general_phi_{p}\",\n",
    "                data=data_lab,\n",
    "                pen_args=pa,\n",
    "                formula=formula,\n",
    "                num_samples=2000\n",
    "            )\n",
    "    res_prod_nobmi_general[phi] = res\n",
    "    print(res.node_df.loc[np.abs(res.node_df[\"Final Parameter\"]) != 0, \"Final Parameter\"])\n"
   ],
   "metadata": {
    "collapsed": false,
    "pycharm": {
     "name": "#%%\n"
    }
   }
  },
  {
   "cell_type": "markdown",
   "source": [
    "## Paper figures"
   ],
   "metadata": {
    "collapsed": false,
    "pycharm": {
     "name": "#%% md\n"
    }
   }
  },
  {
   "cell_type": "code",
   "execution_count": 4,
   "outputs": [
    {
     "name": "stdout",
     "output_type": "stream",
     "text": [
      "1.405\n"
     ]
    },
    {
     "ename": "IndexError",
     "evalue": "list index out of range",
     "output_type": "error",
     "traceback": [
      "\u001B[0;31m---------------------------------------------------------------------------\u001B[0m",
      "\u001B[0;31mIndexError\u001B[0m                                Traceback (most recent call last)",
      "\u001B[0;32m<ipython-input-4-ef1498d32f8d>\u001B[0m in \u001B[0;36m<module>\u001B[0;34m\u001B[0m\n\u001B[1;32m      9\u001B[0m     \u001B[0mndf\u001B[0m \u001B[0;34m=\u001B[0m \u001B[0mpd\u001B[0m\u001B[0;34m.\u001B[0m\u001B[0mread_csv\u001B[0m\u001B[0;34m(\u001B[0m\u001B[0;34mf\"../../../tascCODA_data/applications/labus_IBS/results/labus_genus_tree_agg_test_phi_{p}_l1_1.csv\"\u001B[0m\u001B[0;34m)\u001B[0m\u001B[0;34m\u001B[0m\u001B[0;34m\u001B[0m\u001B[0m\n\u001B[1;32m     10\u001B[0m     \u001B[0mall_df\u001B[0m\u001B[0;34m.\u001B[0m\u001B[0mappend\u001B[0m\u001B[0;34m(\u001B[0m\u001B[0mndf\u001B[0m\u001B[0;34m)\u001B[0m\u001B[0;34m\u001B[0m\u001B[0;34m\u001B[0m\u001B[0m\n\u001B[0;32m---> 11\u001B[0;31m     draw_tree(\n\u001B[0m\u001B[1;32m     12\u001B[0m         \u001B[0mndf\u001B[0m\u001B[0;34m,\u001B[0m\u001B[0;34m\u001B[0m\u001B[0;34m\u001B[0m\u001B[0m\n\u001B[1;32m     13\u001B[0m         \u001B[0mtitle\u001B[0m\u001B[0;34m=\u001B[0m\u001B[0;34mf\"Healthy vs. IBS, ={p}\"\u001B[0m\u001B[0;34m,\u001B[0m\u001B[0;34m\u001B[0m\u001B[0;34m\u001B[0m\u001B[0m\n",
      "\u001B[0;32m<ipython-input-3-384ffc67facf>\u001B[0m in \u001B[0;36mdraw_tree\u001B[0;34m(node_df, title, add_sccoda, tip_labels, save_path, eff_max)\u001B[0m\n\u001B[1;32m     21\u001B[0m \u001B[0;34m\u001B[0m\u001B[0m\n\u001B[1;32m     22\u001B[0m     \u001B[0;32mif\u001B[0m \u001B[0madd_sccoda\u001B[0m\u001B[0;34m:\u001B[0m\u001B[0;34m\u001B[0m\u001B[0;34m\u001B[0m\u001B[0m\n\u001B[0;32m---> 23\u001B[0;31m         \u001B[0mdata_sccoda\u001B[0m \u001B[0;34m=\u001B[0m \u001B[0mutil\u001B[0m\u001B[0;34m.\u001B[0m\u001B[0mread_authors_results\u001B[0m\u001B[0;34m(\u001B[0m\u001B[0;34m[\u001B[0m\u001B[0;34m\"Labus\"\u001B[0m\u001B[0;34m]\u001B[0m\u001B[0;34m,\u001B[0m \u001B[0mdata_dir\u001B[0m\u001B[0;34m,\u001B[0m \u001B[0mmethod\u001B[0m\u001B[0;34m=\u001B[0m\u001B[0;34m\"sccoda\"\u001B[0m\u001B[0;34m,\u001B[0m \u001B[0madd\u001B[0m\u001B[0;34m=\u001B[0m\u001B[0;32mNone\u001B[0m\u001B[0;34m)\u001B[0m\u001B[0;34m[\u001B[0m\u001B[0;34m\"Genus\"\u001B[0m\u001B[0;34m]\u001B[0m\u001B[0;34m\u001B[0m\u001B[0;34m\u001B[0m\u001B[0m\n\u001B[0m\u001B[1;32m     24\u001B[0m         label_colors = [\n\u001B[1;32m     25\u001B[0m             \u001B[0;34m\"darkgrey\"\u001B[0m \u001B[0;32mif\u001B[0m \u001B[0mn\u001B[0m\u001B[0;34m==\u001B[0m\u001B[0;34m\"Alistipes\"\u001B[0m\u001B[0;34m\u001B[0m\u001B[0;34m\u001B[0m\u001B[0m\n",
      "\u001B[0;32m~/Documents/PhD/tascCODA/tascCODA_reproducibility/applications/labus_IBS/ibs_util_functions.py\u001B[0m in \u001B[0;36mread_authors_results\u001B[0;34m(authors, data_dir, method, add)\u001B[0m\n\u001B[1;32m    152\u001B[0m         \u001B[0mll\u001B[0m \u001B[0;34m=\u001B[0m \u001B[0;34m[\u001B[0m\u001B[0;34m]\u001B[0m\u001B[0;34m\u001B[0m\u001B[0;34m\u001B[0m\u001B[0m\n\u001B[1;32m    153\u001B[0m         \u001B[0;32mfor\u001B[0m \u001B[0ma\u001B[0m \u001B[0;32min\u001B[0m \u001B[0mauthors\u001B[0m\u001B[0;34m:\u001B[0m\u001B[0;34m\u001B[0m\u001B[0;34m\u001B[0m\u001B[0m\n\u001B[0;32m--> 154\u001B[0;31m             \u001B[0msubdir_name\u001B[0m \u001B[0;34m=\u001B[0m \u001B[0;34m[\u001B[0m\u001B[0mx\u001B[0m \u001B[0;32mfor\u001B[0m \u001B[0mx\u001B[0m \u001B[0;32min\u001B[0m \u001B[0mos\u001B[0m\u001B[0;34m.\u001B[0m\u001B[0mlistdir\u001B[0m\u001B[0;34m(\u001B[0m\u001B[0mdata_dir\u001B[0m\u001B[0;34m)\u001B[0m \u001B[0;32mif\u001B[0m \u001B[0mx\u001B[0m\u001B[0;34m.\u001B[0m\u001B[0mstartswith\u001B[0m\u001B[0;34m(\u001B[0m\u001B[0ma\u001B[0m \u001B[0;34m+\u001B[0m \u001B[0;34m\"-\"\u001B[0m\u001B[0;34m)\u001B[0m\u001B[0;34m]\u001B[0m\u001B[0;34m[\u001B[0m\u001B[0;36m0\u001B[0m\u001B[0;34m]\u001B[0m\u001B[0;34m\u001B[0m\u001B[0;34m\u001B[0m\u001B[0m\n\u001B[0m\u001B[1;32m    155\u001B[0m             \u001B[0;32mfor\u001B[0m \u001B[0mf\u001B[0m \u001B[0;32min\u001B[0m \u001B[0mos\u001B[0m\u001B[0;34m.\u001B[0m\u001B[0mlistdir\u001B[0m\u001B[0;34m(\u001B[0m\u001B[0mdata_dir\u001B[0m \u001B[0;34m+\u001B[0m \u001B[0msubdir_name\u001B[0m\u001B[0;34m)\u001B[0m\u001B[0;34m:\u001B[0m\u001B[0;34m\u001B[0m\u001B[0;34m\u001B[0m\u001B[0m\n\u001B[1;32m    156\u001B[0m                 \u001B[0mstart\u001B[0m \u001B[0;34m=\u001B[0m \u001B[0;34mf\"{a.lower()}_{l.lower()}\"\u001B[0m\u001B[0;34m\u001B[0m\u001B[0;34m\u001B[0m\u001B[0m\n",
      "\u001B[0;31mIndexError\u001B[0m: list index out of range"
     ]
    },
    {
     "data": {
      "text/html": "<div class=\"toyplot\" id=\"t4410e81c357f4046848b1d2b985d349b\" style=\"text-align:center\"><svg class=\"toyplot-canvas-Canvas\" xmlns:toyplot=\"http://www.sandia.gov/toyplot\" xmlns:xlink=\"http://www.w3.org/1999/xlink\" xmlns=\"http://www.w3.org/2000/svg\" width=\"1000.0px\" height=\"1000.0px\" viewBox=\"0 0 1000.0 1000.0\" preserveAspectRatio=\"xMidYMid meet\" style=\"background-color:transparent;border-color:#292724;border-style:none;border-width:1.0;fill:rgb(16.1%,15.3%,14.1%);fill-opacity:1.0;font-family:Helvetica;font-size:12px;opacity:1.0;stroke:rgb(16.1%,15.3%,14.1%);stroke-opacity:1.0;stroke-width:1.0\" id=\"t03fd0d9893fb43c48592b7c952dbf6e0\"><g class=\"toyplot-coordinates-Cartesian\" id=\"t41063359233d4afe89800637575af624\"><clipPath id=\"t4782f784e4ae4ae28344d6aaf0efa94d\"><rect x=\"50.0\" y=\"50.0\" width=\"750.0\" height=\"750.0\"></rect></clipPath><g clip-path=\"url(#t4782f784e4ae4ae28344d6aaf0efa94d)\"></g></g></svg><div class=\"toyplot-behavior\"><script>(function()\n{\nvar modules={};\n})();</script></div></div>"
     },
     "metadata": {},
     "output_type": "display_data"
    }
   ],
   "source": [
    "all_df = []\n",
    "\n",
    "ndf_subtype = pd.read_csv(f\"../../../tascCODA_data/applications/labus_IBS/results/labus_genus_tree_agg_subtype_phi_5.csv\")\n",
    "all_df.append(ndf_subtype)\n",
    "max_eff = np.max([np.max(np.abs(x[\"Final Parameter\"])) for x in all_df])\n",
    "print(max_eff)\n",
    "\n",
    "for p in [-5, 0, 5]:\n",
    "    ndf = pd.read_csv(f\"../../../tascCODA_data/applications/labus_IBS/results/labus_genus_tree_agg_test_phi_{p}_l1_1.csv\")\n",
    "    all_df.append(ndf)\n",
    "    draw_tree(\n",
    "        ndf,\n",
    "        title=f\"Healthy vs. IBS, ={p}\",\n",
    "        eff_max=max_eff,\n",
    "        tip_labels=False,\n",
    "        # save_path=f\"./IBS_plots/IBS_tree_phi_{p}_notip.svg\"\n",
    "    )\n",
    "    draw_tree(\n",
    "        ndf,\n",
    "        title=f\"Healthy vs. IBS, ={p}\",\n",
    "        eff_max=max_eff,\n",
    "        tip_labels=True,\n",
    "        # save_path=f\"./IBS_plots/IBS_tree_phi_{p}.svg\"\n",
    "    )\n",
    "\n",
    "subtypes = pd.unique(ndf_subtype[\"Covariate\"])\n",
    "st_names = [re.findall(r\"IBS-[A-Za-z]+\", s)[0] for s in subtypes]\n",
    "\n",
    "for i in range(4):\n",
    "    draw_tree(\n",
    "        ndf_subtype[ndf_subtype[\"Covariate\"]==subtypes[i]],\n",
    "        title=f\"Healthy vs. {st_names[i]}, ={p}\",\n",
    "        eff_max=max_eff,\n",
    "        add_sccoda=False,\n",
    "        tip_labels=False,\n",
    "        # save_path=f\"./IBS_plots/subtype_tree_{st_names[i]}_notip.svg\"\n",
    "    )\n",
    "\n",
    "for i in range(4):\n",
    "    draw_tree(\n",
    "        ndf_subtype[ndf_subtype[\"Covariate\"]==subtypes[i]],\n",
    "        title=f\"Healthy vs. {st_names[i]}\",\n",
    "        eff_max=max_eff,\n",
    "        add_sccoda=False,\n",
    "        tip_labels=True,\n",
    "        # save_path=f\"./IBS_plots/subtype_tree_{st_names[i]}.svg\"\n",
    "    )"
   ],
   "metadata": {
    "collapsed": false,
    "pycharm": {
     "name": "#%%\n"
    }
   }
  },
  {
   "cell_type": "markdown",
   "source": [
    "## Get Latex for supplemental tables"
   ],
   "metadata": {
    "collapsed": false,
    "pycharm": {
     "name": "#%% md\n"
    }
   }
  },
  {
   "cell_type": "code",
   "execution_count": 4,
   "outputs": [
    {
     "name": "stdout",
     "output_type": "stream",
     "text": [
      "     phi   Kingdom        Phylum          Class              Order  \\\n",
      "119   -5  Bacteria    Firmicutes            NaN                NaN   \n",
      "0      0  Bacteria  Bacteroidota    Bacteroidia      Bacteroidales   \n",
      "1      0  Bacteria  Bacteroidota    Bacteroidia      Bacteroidales   \n",
      "101    0  Bacteria    Firmicutes     Clostridia    Oscillospirales   \n",
      "0      5  Bacteria  Bacteroidota    Bacteroidia      Bacteroidales   \n",
      "1      5  Bacteria  Bacteroidota    Bacteroidia      Bacteroidales   \n",
      "6      5  Bacteria  Bacteroidota    Bacteroidia      Bacteroidales   \n",
      "43     5  Bacteria    Firmicutes     Clostridia     Lachnospirales   \n",
      "58     5  Bacteria    Firmicutes     Clostridia    Oscillospirales   \n",
      "59     5  Bacteria    Firmicutes     Clostridia    Oscillospirales   \n",
      "89     5  Bacteria    Firmicutes  Negativicutes  Acidaminococcales   \n",
      "91     5  Bacteria    Firmicutes     Clostridia    Oscillospirales   \n",
      "\n",
      "                 Family                  Genus  Final Parameter  \n",
      "119                 NaN                    NaN           -0.313  \n",
      "0        Tannerellaceae        Parabacteroides           -0.156  \n",
      "1        Bacteroidaceae            Bacteroides           -0.662  \n",
      "101                 NaN                    NaN           -0.232  \n",
      "0        Tannerellaceae        Parabacteroides           -0.845  \n",
      "1        Bacteroidaceae            Bacteroides           -1.001  \n",
      "6        Prevotellaceae             Prevotella           -0.413  \n",
      "43      Lachnospiraceae           Agathobacter           -0.610  \n",
      "58      Ruminococcaceae        Subdoligranulum           -0.224  \n",
      "59      Ruminococcaceae       Faecalibacterium           -0.252  \n",
      "89   Acidaminococcaceae  Phascolarctobacterium           -0.250  \n",
      "91      Ruminococcaceae                    NaN           -0.340  \n",
      "\\begin{tabular}{rllllllr}\n",
      "\\toprule\n",
      " phi &  Kingdom &       Phylum &         Class &             Order &             Family &                 Genus &  Final Parameter \\\\\n",
      "\\midrule\n",
      "  -5 & Bacteria &   Firmicutes &           NaN &               NaN &                NaN &                   NaN &           -0.313 \\\\\n",
      "   0 & Bacteria & Bacteroidota &   Bacteroidia &     Bacteroidales &     Tannerellaceae &       Parabacteroides &           -0.156 \\\\\n",
      "   0 & Bacteria & Bacteroidota &   Bacteroidia &     Bacteroidales &     Bacteroidaceae &           Bacteroides &           -0.662 \\\\\n",
      "   0 & Bacteria &   Firmicutes &    Clostridia &   Oscillospirales &                NaN &                   NaN &           -0.232 \\\\\n",
      "   5 & Bacteria & Bacteroidota &   Bacteroidia &     Bacteroidales &     Tannerellaceae &       Parabacteroides &           -0.845 \\\\\n",
      "   5 & Bacteria & Bacteroidota &   Bacteroidia &     Bacteroidales &     Bacteroidaceae &           Bacteroides &           -1.001 \\\\\n",
      "   5 & Bacteria & Bacteroidota &   Bacteroidia &     Bacteroidales &     Prevotellaceae &            Prevotella &           -0.413 \\\\\n",
      "   5 & Bacteria &   Firmicutes &    Clostridia &    Lachnospirales &    Lachnospiraceae &          Agathobacter &           -0.610 \\\\\n",
      "   5 & Bacteria &   Firmicutes &    Clostridia &   Oscillospirales &    Ruminococcaceae &       Subdoligranulum &           -0.224 \\\\\n",
      "   5 & Bacteria &   Firmicutes &    Clostridia &   Oscillospirales &    Ruminococcaceae &      Faecalibacterium &           -0.252 \\\\\n",
      "   5 & Bacteria &   Firmicutes & Negativicutes & Acidaminococcales & Acidaminococcaceae & Phascolarctobacterium &           -0.250 \\\\\n",
      "   5 & Bacteria &   Firmicutes &    Clostridia &   Oscillospirales &    Ruminococcaceae &                   NaN &           -0.340 \\\\\n",
      "\\bottomrule\n",
      "\\end{tabular}\n",
      "\n"
     ]
    }
   ],
   "source": [
    "ndfs = []\n",
    "for p in [-5, 0, 5]:\n",
    "    ndf = pd.read_csv(f\"../../../tascCODA_data/applications/labus_IBS/results/labus_genus_tree_agg_test_phi_{p}_l1_1.csv\")\n",
    "    ndf[\"phi\"] = p\n",
    "    ndfs.append(ndf)\n",
    "\n",
    "all_ndf = pd.concat(ndfs)\n",
    "all_ndf[\"Condition\"] = [re.findall(r\"\\[.*\\]\", x)[0].replace(\"[T.\", \"\").replace(\"]\", \"\") for x in all_ndf[\"Covariate\"]]\n",
    "print(all_ndf.loc[all_ndf[\"Final Parameter\"] != 0, [\"phi\", \"Kingdom\", \"Phylum\", \"Class\", \"Order\", \"Family\", \"Genus\", \"Final Parameter\"]])\n",
    "print(all_ndf.loc[all_ndf[\"Final Parameter\"] != 0, [\"phi\", \"Kingdom\", \"Phylum\", \"Class\", \"Order\", \"Family\", \"Genus\", \"Final Parameter\"]].to_latex(index=False))"
   ],
   "metadata": {
    "collapsed": false,
    "pycharm": {
     "name": "#%%\n"
    }
   }
  },
  {
   "cell_type": "code",
   "execution_count": 6,
   "outputs": [
    {
     "name": "stdout",
     "output_type": "stream",
     "text": [
      "           Condition   Kingdom        Phylum        Class  \\\n",
      "1              IBS-C  Bacteria  Bacteroidota  Bacteroidia   \n",
      "41             IBS-C  Bacteria    Firmicutes   Clostridia   \n",
      "43             IBS-C  Bacteria    Firmicutes   Clostridia   \n",
      "57             IBS-C  Bacteria    Firmicutes   Clostridia   \n",
      "59             IBS-C  Bacteria    Firmicutes   Clostridia   \n",
      "121            IBS-D  Bacteria  Bacteroidota  Bacteroidia   \n",
      "122            IBS-D  Bacteria  Bacteroidota  Bacteroidia   \n",
      "242            IBS-M  Bacteria  Bacteroidota  Bacteroidia   \n",
      "287            IBS-M  Bacteria    Firmicutes   Clostridia   \n",
      "301            IBS-M  Bacteria    Firmicutes   Clostridia   \n",
      "436  IBS-unspecified  Bacteria    Firmicutes   Clostridia   \n",
      "\n",
      "                                   Order                 Family  \\\n",
      "1                          Bacteroidales         Bacteroidaceae   \n",
      "41                        Lachnospirales        Lachnospiraceae   \n",
      "43                        Lachnospirales        Lachnospiraceae   \n",
      "57                       Oscillospirales        Ruminococcaceae   \n",
      "59                       Oscillospirales        Ruminococcaceae   \n",
      "121                        Bacteroidales         Tannerellaceae   \n",
      "122                        Bacteroidales         Bacteroidaceae   \n",
      "242                        Bacteroidales         Tannerellaceae   \n",
      "287                       Lachnospirales        Lachnospiraceae   \n",
      "301                      Oscillospirales        Ruminococcaceae   \n",
      "436  Peptostreptococcales-Tissierellales  Peptostreptococcaceae   \n",
      "\n",
      "                Genus  Final Parameter  \n",
      "1         Bacteroides           -0.426  \n",
      "41       Anaerostipes            0.438  \n",
      "43       Agathobacter           -0.819  \n",
      "57       Ruminococcus           -0.262  \n",
      "59   Faecalibacterium           -0.320  \n",
      "121   Parabacteroides           -0.392  \n",
      "122       Bacteroides           -1.405  \n",
      "242   Parabacteroides           -0.424  \n",
      "287           Blautia            0.799  \n",
      "301  Faecalibacterium           -0.285  \n",
      "436        Romboutsia            0.259  \n",
      "\\begin{tabular}{lllllllr}\n",
      "\\toprule\n",
      "      Condition &  Kingdom &       Phylum &       Class &                               Order &                Family &            Genus &  Final Parameter \\\\\n",
      "\\midrule\n",
      "          IBS-C & Bacteria & Bacteroidota & Bacteroidia &                       Bacteroidales &        Bacteroidaceae &      Bacteroides &           -0.426 \\\\\n",
      "          IBS-C & Bacteria &   Firmicutes &  Clostridia &                      Lachnospirales &       Lachnospiraceae &     Anaerostipes &            0.438 \\\\\n",
      "          IBS-C & Bacteria &   Firmicutes &  Clostridia &                      Lachnospirales &       Lachnospiraceae &     Agathobacter &           -0.819 \\\\\n",
      "          IBS-C & Bacteria &   Firmicutes &  Clostridia &                     Oscillospirales &       Ruminococcaceae &     Ruminococcus &           -0.262 \\\\\n",
      "          IBS-C & Bacteria &   Firmicutes &  Clostridia &                     Oscillospirales &       Ruminococcaceae & Faecalibacterium &           -0.320 \\\\\n",
      "          IBS-D & Bacteria & Bacteroidota & Bacteroidia &                       Bacteroidales &        Tannerellaceae &  Parabacteroides &           -0.392 \\\\\n",
      "          IBS-D & Bacteria & Bacteroidota & Bacteroidia &                       Bacteroidales &        Bacteroidaceae &      Bacteroides &           -1.405 \\\\\n",
      "          IBS-M & Bacteria & Bacteroidota & Bacteroidia &                       Bacteroidales &        Tannerellaceae &  Parabacteroides &           -0.424 \\\\\n",
      "          IBS-M & Bacteria &   Firmicutes &  Clostridia &                      Lachnospirales &       Lachnospiraceae &          Blautia &            0.799 \\\\\n",
      "          IBS-M & Bacteria &   Firmicutes &  Clostridia &                     Oscillospirales &       Ruminococcaceae & Faecalibacterium &           -0.285 \\\\\n",
      "IBS-unspecified & Bacteria &   Firmicutes &  Clostridia & Peptostreptococcales-Tissierellales & Peptostreptococcaceae &       Romboutsia &            0.259 \\\\\n",
      "\\bottomrule\n",
      "\\end{tabular}\n",
      "\n"
     ]
    }
   ],
   "source": [
    "\n",
    "\n",
    "ndf_subtype = pd.read_csv(f\"../../../tascCODA_data/applications/labus_IBS/results/labus_genus_tree_agg_subtype_phi_5.csv\")\n",
    "ndf_subtype[\"Condition\"] = [re.findall(r\"\\[.*\\]\", x)[0].replace(\"[T.\", \"\").replace(\"]\", \"\") for x in ndf_subtype[\"Covariate\"]]\n",
    "print(ndf_subtype.loc[ndf_subtype[\"Final Parameter\"] != 0, [\"Condition\", \"Kingdom\", \"Phylum\", \"Class\", \"Order\", \"Family\", \"Genus\", \"Final Parameter\"]])\n",
    "print(ndf_subtype.loc[ndf_subtype[\"Final Parameter\"] != 0, [\"Condition\", \"Kingdom\", \"Phylum\", \"Class\", \"Order\", \"Family\", \"Genus\", \"Final Parameter\"]].to_latex(index=False))"
   ],
   "metadata": {
    "collapsed": false,
    "pycharm": {
     "name": "#%%\n"
    }
   }
  },
  {
   "cell_type": "code",
   "execution_count": null,
   "outputs": [],
   "source": [],
   "metadata": {
    "collapsed": false,
    "pycharm": {
     "name": "#%%\n"
    }
   }
  }
 ],
 "metadata": {
  "kernelspec": {
   "display_name": "Python 3",
   "language": "python",
   "name": "python3"
  },
  "language_info": {
   "codemirror_mode": {
    "name": "ipython",
    "version": 2
   },
   "file_extension": ".py",
   "mimetype": "text/x-python",
   "name": "python",
   "nbconvert_exporter": "python",
   "pygments_lexer": "ipython2",
   "version": "2.7.6"
  }
 },
 "nbformat": 4,
 "nbformat_minor": 0
}