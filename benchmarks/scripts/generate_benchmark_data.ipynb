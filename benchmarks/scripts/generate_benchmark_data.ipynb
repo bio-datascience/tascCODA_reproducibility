{
 "cells": [
  {
   "cell_type": "markdown",
   "metadata": {
    "collapsed": true,
    "pycharm": {
     "name": "#%% md\n"
    }
   },
   "source": [
    "# generating benchmark data\n",
    "\n",
    "## p=10"
   ]
  },
  {
   "cell_type": "code",
   "execution_count": 21,
   "outputs": [],
   "source": [
    "import pandas as pd\n",
    "import toytree as tt\n",
    "import numpy as np\n",
    "import anndata as ad\n",
    "import os\n",
    "import toyplot as tp\n",
    "import toyplot.svg\n",
    "\n",
    "import tree_aggregation.tree_data_generation as tgen\n"
   ],
   "metadata": {
    "collapsed": false,
    "pycharm": {
     "name": "#%%\n"
    }
   }
  },
  {
   "cell_type": "code",
   "execution_count": 3,
   "outputs": [
    {
     "name": "stdout",
     "output_type": "stream",
     "text": [
      "/Users/johannes.ostner/Documents/PhD/tree_aggregation/benchmarking_2/benchmark_0808/data/datasets2\n"
     ]
    }
   ],
   "source": [
    "# tree depth\n",
    "d = 5\n",
    "\n",
    "effect_sizes = [0.3, 0.5, 0.7, 0.9]\n",
    "# number of effects\n",
    "num_effects = 3\n",
    "# baseline parameter scale\n",
    "a_abs = 2\n",
    "\n",
    "# sampling depth\n",
    "N = 10000\n",
    "# dispersion\n",
    "theta = 499\n",
    "# samples per group\n",
    "num_samples = [5, 10, 30, 50]\n",
    "reps = 20\n",
    "\n",
    "\n",
    "# counter through all datasets\n",
    "id = 0\n",
    "dataset_path = os.path.abspath(\"../../benchmarking_2/benchmark_0808/data/datasets2\")\n",
    "print(dataset_path)"
   ],
   "metadata": {
    "collapsed": false,
    "pycharm": {
     "name": "#%%\n"
    }
   }
  },
  {
   "cell_type": "code",
   "execution_count": 104,
   "outputs": [
    {
     "data": {
      "text/plain": "(<toyplot.canvas.Canvas at 0x7f834396ab20>,\n <toyplot.coordinates.Cartesian at 0x7f8343b5b760>,\n <toytree.Render.ToytreeMark at 0x7f83442f9dc0>)"
     },
     "execution_count": 104,
     "metadata": {},
     "output_type": "execute_result"
    },
    {
     "data": {
      "text/html": "<div class=\"toyplot\" id=\"ta2db6e9d98174a9aa9ec3219f459105d\" style=\"text-align:center\"><svg class=\"toyplot-canvas-Canvas\" xmlns:toyplot=\"http://www.sandia.gov/toyplot\" xmlns:xlink=\"http://www.w3.org/1999/xlink\" xmlns=\"http://www.w3.org/2000/svg\" width=\"255.0px\" height=\"275.0px\" viewBox=\"0 0 255.0 275.0\" preserveAspectRatio=\"xMidYMid meet\" style=\"background-color:transparent;border-color:#292724;border-style:none;border-width:1.0;fill:rgb(16.1%,15.3%,14.1%);fill-opacity:1.0;font-family:Helvetica;font-size:12px;opacity:1.0;stroke:rgb(16.1%,15.3%,14.1%);stroke-opacity:1.0;stroke-width:1.0\" id=\"td253d5e6982d41f8a42569cb02d25492\"><g class=\"toyplot-coordinates-Cartesian\" id=\"t9fbca03982134b95bb484fae3a08b87a\"><clipPath id=\"tbdeec293fcaa498497fa792ca642c45b\"><rect x=\"30.0\" y=\"30.0\" width=\"195.0\" height=\"215.0\"></rect></clipPath><g clip-path=\"url(#tbdeec293fcaa498497fa792ca642c45b)\"><g class=\"toytree-mark-Toytree\" id=\"t3a0b80b999c0417fb0504c07798f166d\"><g class=\"toytree-Edges\" style=\"fill:none;stroke:rgb(14.9%,14.9%,14.9%);stroke-linecap:round;stroke-opacity:1;stroke-width:2\"><path d=\"M 50.0 116.3 L 50.0 73.8 L 86.0 73.8\" id=\"18,17\"></path><path d=\"M 50.0 116.3 L 50.0 158.7 L 86.0 158.7\" id=\"18,16\"></path><path d=\"M 86.0 73.8 L 86.0 73.8 L 122.1 73.8\" id=\"17,15\"></path><path d=\"M 86.0 158.7 L 86.0 158.7 L 122.1 158.7\" id=\"16,14\"></path><path d=\"M 122.1 73.8 L 122.1 61.0 L 158.1 61.0\" id=\"15,13\"></path><path d=\"M 122.1 73.8 L 122.1 86.5 L 158.1 86.5\" id=\"15,12\"></path><path d=\"M 122.1 158.7 L 122.1 129.0 L 158.1 129.0\" id=\"14,11\"></path><path d=\"M 122.1 158.7 L 122.1 188.5 L 158.1 188.5\" id=\"14,10\"></path><path d=\"M 158.1 61.0 L 158.1 61.0 L 194.1 61.0\" id=\"13,9\"></path><path d=\"M 158.1 86.5 L 158.1 78.0 L 194.1 78.0\" id=\"12,8\"></path><path d=\"M 158.1 86.5 L 158.1 95.0 L 194.1 95.0\" id=\"12,7\"></path><path d=\"M 158.1 129.0 L 158.1 112.0 L 194.1 112.0\" id=\"11,6\"></path><path d=\"M 158.1 129.0 L 158.1 129.0 L 194.1 129.0\" id=\"11,5\"></path><path d=\"M 158.1 129.0 L 158.1 146.0 L 194.1 146.0\" id=\"11,4\"></path><path d=\"M 158.1 188.5 L 158.1 163.0 L 194.1 163.0\" id=\"10,3\"></path><path d=\"M 158.1 188.5 L 158.1 180.0 L 194.1 180.0\" id=\"10,2\"></path><path d=\"M 158.1 188.5 L 158.1 197.0 L 194.1 197.0\" id=\"10,1\"></path><path d=\"M 158.1 188.5 L 158.1 214.0 L 194.1 214.0\" id=\"10,0\"></path></g><g class=\"toytree-AlignEdges\" style=\"stroke:rgb(66.3%,66.3%,66.3%);stroke-dasharray:2, 4;stroke-linecap:round;stroke-opacity:1.0;stroke-width:2\"><path d=\"M 194.1 214.0 L 194.1 214.0\"></path><path d=\"M 194.1 197.0 L 194.1 197.0\"></path><path d=\"M 194.1 180.0 L 194.1 180.0\"></path><path d=\"M 194.1 163.0 L 194.1 163.0\"></path><path d=\"M 194.1 146.0 L 194.1 146.0\"></path><path d=\"M 194.1 129.0 L 194.1 129.0\"></path><path d=\"M 194.1 112.0 L 194.1 112.0\"></path><path d=\"M 194.1 95.0 L 194.1 95.0\"></path><path d=\"M 194.1 78.0 L 194.1 78.0\"></path><path d=\"M 194.1 61.0 L 194.1 61.0\"></path></g><g class=\"toytree-Nodes\" style=\"fill:rgb(40%,76.1%,64.7%);fill-opacity:1.0;stroke:None;stroke-width:1\"><g id=\"node-0\" transform=\"translate(194.142,213.986)\"><circle r=\"0.0\"></circle></g><g id=\"node-1\" transform=\"translate(194.142,196.989)\"><circle r=\"0.0\"></circle></g><g id=\"node-2\" transform=\"translate(194.142,179.992)\"><circle r=\"0.0\"></circle></g><g id=\"node-3\" transform=\"translate(194.142,162.995)\"><circle r=\"0.0\"></circle></g><g id=\"node-4\" transform=\"translate(194.142,145.998)\"><circle r=\"0.0\"></circle></g><g id=\"node-5\" transform=\"translate(194.142,129.002)\"><circle r=\"0.0\"></circle></g><g id=\"node-6\" transform=\"translate(194.142,112.005)\"><circle r=\"0.0\"></circle></g><g id=\"node-7\" transform=\"translate(194.142,95.008)\"><circle r=\"0.0\"></circle></g><g id=\"node-8\" transform=\"translate(194.142,78.011)\"><circle r=\"0.0\"></circle></g><g id=\"node-9\" transform=\"translate(194.142,61.014)\"><circle r=\"0.0\"></circle></g><g id=\"node-10\" transform=\"translate(158.106,188.491)\"><circle r=\"5.0\"></circle></g><g id=\"node-11\" transform=\"translate(158.106,129.002)\"><circle r=\"5.0\"></circle></g><g id=\"node-12\" transform=\"translate(158.106,86.509)\"><circle r=\"5.0\"></circle></g><g id=\"node-13\" transform=\"translate(158.106,61.014)\"><circle r=\"5.0\"></circle></g><g id=\"node-14\" transform=\"translate(122.071,158.746)\"><circle r=\"5.0\"></circle></g><g id=\"node-15\" transform=\"translate(122.071,73.762)\"><circle r=\"5.0\"></circle></g><g id=\"node-16\" transform=\"translate(86.035,158.746)\"><circle r=\"5.0\"></circle></g><g id=\"node-17\" transform=\"translate(86.035,73.762)\"><circle r=\"5.0\"></circle></g><g id=\"node-18\" transform=\"translate(50.000,116.254)\"><circle r=\"0.0\"></circle></g></g><g class=\"toytree-NodeLabels\" style=\"fill:rgb(14.9%,14.9%,14.9%);fill-opacity:1.0;font-size:9px;stroke:none\"><g transform=\"translate(153.10,190.79)\"><text>10</text></g><g transform=\"translate(153.10,131.30)\"><text>11</text></g><g transform=\"translate(153.10,88.81)\"><text>12</text></g><g transform=\"translate(153.10,63.31)\"><text>13</text></g><g transform=\"translate(117.07,161.05)\"><text>14</text></g><g transform=\"translate(117.07,76.06)\"><text>15</text></g><g transform=\"translate(81.03,161.05)\"><text>16</text></g><g transform=\"translate(81.03,76.06)\"><text>17</text></g></g><g class=\"toytree-TipLabels\" style=\"fill:rgb(14.9%,14.9%,14.9%);fill-opacity:1.0;font-family:helvetica;font-size:11px;font-weight:normal;stroke:none;white-space:pre\"><g transform=\"translate(194.14,213.99)rotate(0)\"><text x=\"15.00\" y=\"2.81\" style=\"\">0</text></g><g transform=\"translate(194.14,196.99)rotate(0)\"><text x=\"15.00\" y=\"2.81\" style=\"\">1</text></g><g transform=\"translate(194.14,179.99)rotate(0)\"><text x=\"15.00\" y=\"2.81\" style=\"\">2</text></g><g transform=\"translate(194.14,163.00)rotate(0)\"><text x=\"15.00\" y=\"2.81\" style=\"\">3</text></g><g transform=\"translate(194.14,146.00)rotate(0)\"><text x=\"15.00\" y=\"2.81\" style=\"\">4</text></g><g transform=\"translate(194.14,129.00)rotate(0)\"><text x=\"15.00\" y=\"2.81\" style=\"\">5</text></g><g transform=\"translate(194.14,112.00)rotate(0)\"><text x=\"15.00\" y=\"2.81\" style=\"\">6</text></g><g transform=\"translate(194.14,95.01)rotate(0)\"><text x=\"15.00\" y=\"2.81\" style=\"\">7</text></g><g transform=\"translate(194.14,78.01)rotate(0)\"><text x=\"15.00\" y=\"2.81\" style=\"\">8</text></g><g transform=\"translate(194.14,61.01)rotate(0)\"><text x=\"15.00\" y=\"2.81\" style=\"\">9</text></g></g></g></g></g></svg><div class=\"toyplot-behavior\"><script>(function()\n{\nvar modules={};\n})();</script></div></div>"
     },
     "metadata": {},
     "output_type": "display_data"
    }
   ],
   "source": [
    "# Want everything to be reproducible - set a seed at every block\n",
    "np.random.seed(521)\n",
    "p = 10\n",
    "\n",
    "newick = tgen.generate_tree_levels(p, d)\n",
    "\n",
    "tree = tt.tree(newick)\n",
    "tree.draw(tip_labels_align=True, node_sizes=10, node_labels='idx')"
   ],
   "metadata": {
    "collapsed": false,
    "pycharm": {
     "name": "#%%\n"
    }
   }
  },
  {
   "cell_type": "code",
   "execution_count": 105,
   "outputs": [
    {
     "name": "stdout",
     "output_type": "stream",
     "text": [
      "effect_nodes: [12, 4, 0]\n",
      "effect_leaves: [8, 0, 4, 7]\n",
      "nodes: [12, 4, 0]\n",
      "leaves: [8, 0, 4, 7]\n"
     ]
    }
   ],
   "source": [
    "np.random.seed(56847)\n",
    "effect_nodes, effect_leaves = tgen.get_effect_nodes(\n",
    "    newick,\n",
    "    num_effects=num_effects,\n",
    "    num_leaves=p\n",
    ")\n",
    "\n",
    "print(f\"nodes: {effect_nodes}\")\n",
    "print(f\"leaves: {effect_leaves}\")\n",
    "\n",
    "tlc = [\"red\" if int(i) in effect_leaves else \"blue\" if int(i)==p-1 else \"black\" for i in tree.get_node_values(\"idx\", 1, 1)[-p:]]\n",
    "tlc.reverse()\n",
    "ref_nodes = [p.idx for p in tree.idx_dict[p-1].get_ancestors()][:-1]\n",
    "ref_nodes.append(p-1)\n",
    "\n",
    "canvas = tp.Canvas(width=800, height=1600)\n",
    "ax0 = canvas.cartesian(bounds=(0, 700, 0, 1600), padding=0)\n",
    "tree.draw(\n",
    "    # tip_labels=False,\n",
    "    node_sizes=[20 for i in tree.get_node_values(\"name\", 1, 1)],\n",
    "    node_labels=[x for x in tree.get_node_values(\"idx\", 1, 1)],\n",
    "    node_colors=[\"lightcoral\" if i in effect_nodes else \"lightblue\" if i in ref_nodes else \"lightgrey\" for i in tree.get_node_values(\"idx\", 1, 1)],\n",
    "    node_labels_style={\"font-size\": 10},\n",
    "    width=700,\n",
    "    height=1600,\n",
    "    node_style={\"stroke\": \"black\"},\n",
    "    axes=ax0,\n",
    "    tip_labels=\"name\",\n",
    "    tip_labels_colors=tlc,\n",
    ")\n",
    "tp.svg.render(canvas, \"../../paper_stuff/benchmark_tree_10.svg\")"
   ],
   "metadata": {
    "collapsed": false,
    "pycharm": {
     "name": "#%%\n"
    }
   }
  },
  {
   "cell_type": "code",
   "execution_count": 5,
   "outputs": [
    {
     "name": "stderr",
     "output_type": "stream",
     "text": [
      "/Users/johannes.ostner/opt/anaconda3/envs/scCODA_3/lib/python3.8/site-packages/anndata/_core/anndata.py:120: ImplicitModificationWarning: Transforming to str index.\n",
      "  warnings.warn(\"Transforming to str index.\", ImplicitModificationWarning)\n"
     ]
    }
   ],
   "source": [
    "np.random.seed(1234)\n",
    "for e in effect_sizes:\n",
    "    for n in num_samples:\n",
    "        for r in range(reps):\n",
    "\n",
    "            mu_0, mu_1 = tgen.generate_mu(\n",
    "                a_abs=a_abs,\n",
    "                num_leaves=p,\n",
    "                effect_nodes=effect_nodes,\n",
    "                effect_leaves=effect_leaves,\n",
    "                effect_size=e,\n",
    "                newick=newick\n",
    "            )\n",
    "\n",
    "            X = pd.DataFrame({\"x_0\": np.repeat([0,1], n)})\n",
    "            Y = np.zeros((n*2, p))\n",
    "            for i in range(n):\n",
    "                Y[i, :] = tgen.generate_one_sample(N, mu_0, theta)\n",
    "                Y[-(i+1), :] = tgen.generate_one_sample(N, mu_1, theta)\n",
    "\n",
    "            X = X.astype(np.float64)\n",
    "            Y = Y.astype(np.float64)\n",
    "\n",
    "            test_data = ad.AnnData(\n",
    "                X=Y,\n",
    "                obs=X,\n",
    "                uns={\n",
    "                    \"tree_newick\": newick,\n",
    "                    \"effect_nodes\": effect_nodes,\n",
    "                    \"effect_leaves\": effect_leaves,\n",
    "                    \"effect_size\": e,\n",
    "                    \"num_samples\": n,\n",
    "                }            )\n",
    "\n",
    "            test_data.write_h5ad(dataset_path + f\"/data_{id}\")\n",
    "            id += 1"
   ],
   "metadata": {
    "collapsed": false,
    "pycharm": {
     "name": "#%%\n"
    }
   }
  },
  {
   "cell_type": "markdown",
   "source": [
    "## p=30"
   ],
   "metadata": {
    "collapsed": false,
    "pycharm": {
     "name": "#%% md\n"
    }
   }
  },
  {
   "cell_type": "code",
   "execution_count": 106,
   "outputs": [
    {
     "data": {
      "text/plain": "(<toyplot.canvas.Canvas at 0x7f83445eee20>,\n <toyplot.coordinates.Cartesian at 0x7f8343943760>,\n <toytree.Render.ToytreeMark at 0x7f83442e0e50>)"
     },
     "execution_count": 106,
     "metadata": {},
     "output_type": "execute_result"
    },
    {
     "data": {
      "text/html": "<div class=\"toyplot\" id=\"tea435d61c8714c1da10b91a115643a28\" style=\"text-align:center\"><svg class=\"toyplot-canvas-Canvas\" xmlns:toyplot=\"http://www.sandia.gov/toyplot\" xmlns:xlink=\"http://www.w3.org/1999/xlink\" xmlns=\"http://www.w3.org/2000/svg\" width=\"260.0px\" height=\"540.0px\" viewBox=\"0 0 260.0 540.0\" preserveAspectRatio=\"xMidYMid meet\" style=\"background-color:transparent;border-color:#292724;border-style:none;border-width:1.0;fill:rgb(16.1%,15.3%,14.1%);fill-opacity:1.0;font-family:Helvetica;font-size:12px;opacity:1.0;stroke:rgb(16.1%,15.3%,14.1%);stroke-opacity:1.0;stroke-width:1.0\" id=\"te81f87dad03a483bb28d97a75704c5c4\"><g class=\"toyplot-coordinates-Cartesian\" id=\"t22f420ecb1034994b84780b6714ed991\"><clipPath id=\"t96b91edba4754a3d92cf8ff766bb106c\"><rect x=\"30.0\" y=\"30.0\" width=\"200.0\" height=\"480.0\"></rect></clipPath><g clip-path=\"url(#t96b91edba4754a3d92cf8ff766bb106c)\"><g class=\"toytree-mark-Toytree\" id=\"t5a6ea380fa1148f8900a15bc59811670\"><g class=\"toytree-Edges\" style=\"fill:none;stroke:rgb(14.9%,14.9%,14.9%);stroke-linecap:round;stroke-opacity:1;stroke-width:2\"><path d=\"M 50.0 226.7 L 50.0 226.7 L 84.9 226.7\" id=\"42,41\"></path><path d=\"M 84.9 226.7 L 84.9 97.8 L 119.8 97.8\" id=\"41,40\"></path><path d=\"M 84.9 226.7 L 84.9 200.0 L 119.8 200.0\" id=\"41,39\"></path><path d=\"M 84.9 226.7 L 84.9 382.4 L 119.8 382.4\" id=\"41,38\"></path><path d=\"M 119.8 97.8 L 119.8 97.8 L 154.7 97.8\" id=\"40,37\"></path><path d=\"M 119.8 200.0 L 119.8 148.0 L 154.7 148.0\" id=\"39,36\"></path><path d=\"M 119.8 200.0 L 119.8 169.5 L 154.7 169.5\" id=\"39,35\"></path><path d=\"M 119.8 200.0 L 119.8 212.6 L 154.7 212.6\" id=\"39,34\"></path><path d=\"M 119.8 200.0 L 119.8 270.0 L 154.7 270.0\" id=\"39,33\"></path><path d=\"M 119.8 382.4 L 119.8 320.2 L 154.7 320.2\" id=\"38,32\"></path><path d=\"M 119.8 382.4 L 119.8 377.6 L 154.7 377.6\" id=\"38,31\"></path><path d=\"M 119.8 382.4 L 119.8 449.4 L 154.7 449.4\" id=\"38,30\"></path><path d=\"M 154.7 97.8 L 154.7 61.9 L 189.6 61.9\" id=\"37,29\"></path><path d=\"M 154.7 97.8 L 154.7 76.3 L 189.6 76.3\" id=\"37,28\"></path><path d=\"M 154.7 97.8 L 154.7 90.6 L 189.6 90.6\" id=\"37,27\"></path><path d=\"M 154.7 97.8 L 154.7 105.0 L 189.6 105.0\" id=\"37,26\"></path><path d=\"M 154.7 97.8 L 154.7 119.3 L 189.6 119.3\" id=\"37,25\"></path><path d=\"M 154.7 97.8 L 154.7 133.7 L 189.6 133.7\" id=\"37,24\"></path><path d=\"M 154.7 148.0 L 154.7 148.0 L 189.6 148.0\" id=\"36,23\"></path><path d=\"M 154.7 169.5 L 154.7 162.4 L 189.6 162.4\" id=\"35,22\"></path><path d=\"M 154.7 169.5 L 154.7 176.7 L 189.6 176.7\" id=\"35,21\"></path><path d=\"M 154.7 212.6 L 154.7 191.1 L 189.6 191.1\" id=\"34,20\"></path><path d=\"M 154.7 212.6 L 154.7 205.4 L 189.6 205.4\" id=\"34,19\"></path><path d=\"M 154.7 212.6 L 154.7 219.8 L 189.6 219.8\" id=\"34,18\"></path><path d=\"M 154.7 212.6 L 154.7 234.1 L 189.6 234.1\" id=\"34,17\"></path><path d=\"M 154.7 270.0 L 154.7 248.5 L 189.6 248.5\" id=\"33,16\"></path><path d=\"M 154.7 270.0 L 154.7 262.8 L 189.6 262.8\" id=\"33,15\"></path><path d=\"M 154.7 270.0 L 154.7 277.2 L 189.6 277.2\" id=\"33,14\"></path><path d=\"M 154.7 270.0 L 154.7 291.5 L 189.6 291.5\" id=\"33,13\"></path><path d=\"M 154.7 320.2 L 154.7 305.9 L 189.6 305.9\" id=\"32,12\"></path><path d=\"M 154.7 320.2 L 154.7 320.2 L 189.6 320.2\" id=\"32,11\"></path><path d=\"M 154.7 320.2 L 154.7 334.6 L 189.6 334.6\" id=\"32,10\"></path><path d=\"M 154.7 377.6 L 154.7 348.9 L 189.6 348.9\" id=\"31,9\"></path><path d=\"M 154.7 377.6 L 154.7 363.3 L 189.6 363.3\" id=\"31,8\"></path><path d=\"M 154.7 377.6 L 154.7 377.6 L 189.6 377.6\" id=\"31,7\"></path><path d=\"M 154.7 377.6 L 154.7 392.0 L 189.6 392.0\" id=\"31,6\"></path><path d=\"M 154.7 377.6 L 154.7 406.3 L 189.6 406.3\" id=\"31,5\"></path><path d=\"M 154.7 449.4 L 154.7 420.7 L 189.6 420.7\" id=\"30,4\"></path><path d=\"M 154.7 449.4 L 154.7 435.0 L 189.6 435.0\" id=\"30,3\"></path><path d=\"M 154.7 449.4 L 154.7 449.4 L 189.6 449.4\" id=\"30,2\"></path><path d=\"M 154.7 449.4 L 154.7 463.7 L 189.6 463.7\" id=\"30,1\"></path><path d=\"M 154.7 449.4 L 154.7 478.1 L 189.6 478.1\" id=\"30,0\"></path></g><g class=\"toytree-AlignEdges\" style=\"stroke:rgb(66.3%,66.3%,66.3%);stroke-dasharray:2, 4;stroke-linecap:round;stroke-opacity:1.0;stroke-width:2\"><path d=\"M 189.6 478.1 L 189.6 478.1\"></path><path d=\"M 189.6 463.7 L 189.6 463.7\"></path><path d=\"M 189.6 449.4 L 189.6 449.4\"></path><path d=\"M 189.6 435.0 L 189.6 435.0\"></path><path d=\"M 189.6 420.7 L 189.6 420.7\"></path><path d=\"M 189.6 406.3 L 189.6 406.3\"></path><path d=\"M 189.6 392.0 L 189.6 392.0\"></path><path d=\"M 189.6 377.6 L 189.6 377.6\"></path><path d=\"M 189.6 363.3 L 189.6 363.3\"></path><path d=\"M 189.6 348.9 L 189.6 348.9\"></path><path d=\"M 189.6 334.6 L 189.6 334.6\"></path><path d=\"M 189.6 320.2 L 189.6 320.2\"></path><path d=\"M 189.6 305.9 L 189.6 305.9\"></path><path d=\"M 189.6 291.5 L 189.6 291.5\"></path><path d=\"M 189.6 277.2 L 189.6 277.2\"></path><path d=\"M 189.6 262.8 L 189.6 262.8\"></path><path d=\"M 189.6 248.5 L 189.6 248.5\"></path><path d=\"M 189.6 234.1 L 189.6 234.1\"></path><path d=\"M 189.6 219.8 L 189.6 219.8\"></path><path d=\"M 189.6 205.4 L 189.6 205.4\"></path><path d=\"M 189.6 191.1 L 189.6 191.1\"></path><path d=\"M 189.6 176.7 L 189.6 176.7\"></path><path d=\"M 189.6 162.4 L 189.6 162.4\"></path><path d=\"M 189.6 148.0 L 189.6 148.0\"></path><path d=\"M 189.6 133.7 L 189.6 133.7\"></path><path d=\"M 189.6 119.3 L 189.6 119.3\"></path><path d=\"M 189.6 105.0 L 189.6 105.0\"></path><path d=\"M 189.6 90.6 L 189.6 90.6\"></path><path d=\"M 189.6 76.3 L 189.6 76.3\"></path><path d=\"M 189.6 61.9 L 189.6 61.9\"></path></g><g class=\"toytree-Nodes\" style=\"fill:rgb(40%,76.1%,64.7%);fill-opacity:1.0;stroke:None;stroke-width:1\"><g id=\"node-0\" transform=\"translate(189.622,478.083)\"><circle r=\"0.0\"></circle></g><g id=\"node-1\" transform=\"translate(189.622,463.732)\"><circle r=\"0.0\"></circle></g><g id=\"node-2\" transform=\"translate(189.622,449.382)\"><circle r=\"0.0\"></circle></g><g id=\"node-3\" transform=\"translate(189.622,435.031)\"><circle r=\"0.0\"></circle></g><g id=\"node-4\" transform=\"translate(189.622,420.680)\"><circle r=\"0.0\"></circle></g><g id=\"node-5\" transform=\"translate(189.622,406.330)\"><circle r=\"0.0\"></circle></g><g id=\"node-6\" transform=\"translate(189.622,391.979)\"><circle r=\"0.0\"></circle></g><g id=\"node-7\" transform=\"translate(189.622,377.629)\"><circle r=\"0.0\"></circle></g><g id=\"node-8\" transform=\"translate(189.622,363.278)\"><circle r=\"0.0\"></circle></g><g id=\"node-9\" transform=\"translate(189.622,348.928)\"><circle r=\"0.0\"></circle></g><g id=\"node-10\" transform=\"translate(189.622,334.577)\"><circle r=\"0.0\"></circle></g><g id=\"node-11\" transform=\"translate(189.622,320.227)\"><circle r=\"0.0\"></circle></g><g id=\"node-12\" transform=\"translate(189.622,305.876)\"><circle r=\"0.0\"></circle></g><g id=\"node-13\" transform=\"translate(189.622,291.526)\"><circle r=\"0.0\"></circle></g><g id=\"node-14\" transform=\"translate(189.622,277.175)\"><circle r=\"0.0\"></circle></g><g id=\"node-15\" transform=\"translate(189.622,262.825)\"><circle r=\"0.0\"></circle></g><g id=\"node-16\" transform=\"translate(189.622,248.474)\"><circle r=\"0.0\"></circle></g><g id=\"node-17\" transform=\"translate(189.622,234.124)\"><circle r=\"0.0\"></circle></g><g id=\"node-18\" transform=\"translate(189.622,219.773)\"><circle r=\"0.0\"></circle></g><g id=\"node-19\" transform=\"translate(189.622,205.423)\"><circle r=\"0.0\"></circle></g><g id=\"node-20\" transform=\"translate(189.622,191.072)\"><circle r=\"0.0\"></circle></g><g id=\"node-21\" transform=\"translate(189.622,176.722)\"><circle r=\"0.0\"></circle></g><g id=\"node-22\" transform=\"translate(189.622,162.371)\"><circle r=\"0.0\"></circle></g><g id=\"node-23\" transform=\"translate(189.622,148.021)\"><circle r=\"0.0\"></circle></g><g id=\"node-24\" transform=\"translate(189.622,133.670)\"><circle r=\"0.0\"></circle></g><g id=\"node-25\" transform=\"translate(189.622,119.320)\"><circle r=\"0.0\"></circle></g><g id=\"node-26\" transform=\"translate(189.622,104.969)\"><circle r=\"0.0\"></circle></g><g id=\"node-27\" transform=\"translate(189.622,90.618)\"><circle r=\"0.0\"></circle></g><g id=\"node-28\" transform=\"translate(189.622,76.268)\"><circle r=\"0.0\"></circle></g><g id=\"node-29\" transform=\"translate(189.622,61.917)\"><circle r=\"0.0\"></circle></g><g id=\"node-30\" transform=\"translate(154.717,449.382)\"><circle r=\"5.0\"></circle></g><g id=\"node-31\" transform=\"translate(154.717,377.629)\"><circle r=\"5.0\"></circle></g><g id=\"node-32\" transform=\"translate(154.717,320.227)\"><circle r=\"5.0\"></circle></g><g id=\"node-33\" transform=\"translate(154.717,270.000)\"><circle r=\"5.0\"></circle></g><g id=\"node-34\" transform=\"translate(154.717,212.598)\"><circle r=\"5.0\"></circle></g><g id=\"node-35\" transform=\"translate(154.717,169.546)\"><circle r=\"5.0\"></circle></g><g id=\"node-36\" transform=\"translate(154.717,148.021)\"><circle r=\"5.0\"></circle></g><g id=\"node-37\" transform=\"translate(154.717,97.794)\"><circle r=\"5.0\"></circle></g><g id=\"node-38\" transform=\"translate(119.811,382.412)\"><circle r=\"5.0\"></circle></g><g id=\"node-39\" transform=\"translate(119.811,200.041)\"><circle r=\"5.0\"></circle></g><g id=\"node-40\" transform=\"translate(119.811,97.794)\"><circle r=\"5.0\"></circle></g><g id=\"node-41\" transform=\"translate(84.906,226.749)\"><circle r=\"5.0\"></circle></g><g id=\"node-42\" transform=\"translate(50.000,226.749)\"><circle r=\"0.0\"></circle></g></g><g class=\"toytree-NodeLabels\" style=\"fill:rgb(14.9%,14.9%,14.9%);fill-opacity:1.0;font-size:9px;stroke:none\"><g transform=\"translate(149.71,451.68)\"><text>30</text></g><g transform=\"translate(149.71,379.93)\"><text>31</text></g><g transform=\"translate(149.71,322.53)\"><text>32</text></g><g transform=\"translate(149.71,272.30)\"><text>33</text></g><g transform=\"translate(149.71,214.90)\"><text>34</text></g><g transform=\"translate(149.71,171.85)\"><text>35</text></g><g transform=\"translate(149.71,150.32)\"><text>36</text></g><g transform=\"translate(149.71,100.09)\"><text>37</text></g><g transform=\"translate(114.81,384.71)\"><text>38</text></g><g transform=\"translate(114.81,202.34)\"><text>39</text></g><g transform=\"translate(114.81,100.09)\"><text>40</text></g><g transform=\"translate(79.90,229.05)\"><text>41</text></g></g><g class=\"toytree-TipLabels\" style=\"fill:rgb(14.9%,14.9%,14.9%);fill-opacity:1.0;font-family:helvetica;font-size:11px;font-weight:normal;stroke:none;white-space:pre\"><g transform=\"translate(189.62,478.08)rotate(0)\"><text x=\"15.00\" y=\"2.81\" style=\"\">0</text></g><g transform=\"translate(189.62,463.73)rotate(0)\"><text x=\"15.00\" y=\"2.81\" style=\"\">1</text></g><g transform=\"translate(189.62,449.38)rotate(0)\"><text x=\"15.00\" y=\"2.81\" style=\"\">2</text></g><g transform=\"translate(189.62,435.03)rotate(0)\"><text x=\"15.00\" y=\"2.81\" style=\"\">3</text></g><g transform=\"translate(189.62,420.68)rotate(0)\"><text x=\"15.00\" y=\"2.81\" style=\"\">4</text></g><g transform=\"translate(189.62,406.33)rotate(0)\"><text x=\"15.00\" y=\"2.81\" style=\"\">5</text></g><g transform=\"translate(189.62,391.98)rotate(0)\"><text x=\"15.00\" y=\"2.81\" style=\"\">6</text></g><g transform=\"translate(189.62,377.63)rotate(0)\"><text x=\"15.00\" y=\"2.81\" style=\"\">7</text></g><g transform=\"translate(189.62,363.28)rotate(0)\"><text x=\"15.00\" y=\"2.81\" style=\"\">8</text></g><g transform=\"translate(189.62,348.93)rotate(0)\"><text x=\"15.00\" y=\"2.81\" style=\"\">9</text></g><g transform=\"translate(189.62,334.58)rotate(0)\"><text x=\"15.00\" y=\"2.81\" style=\"\">10</text></g><g transform=\"translate(189.62,320.23)rotate(0)\"><text x=\"15.00\" y=\"2.81\" style=\"\">11</text></g><g transform=\"translate(189.62,305.88)rotate(0)\"><text x=\"15.00\" y=\"2.81\" style=\"\">12</text></g><g transform=\"translate(189.62,291.53)rotate(0)\"><text x=\"15.00\" y=\"2.81\" style=\"\">13</text></g><g transform=\"translate(189.62,277.18)rotate(0)\"><text x=\"15.00\" y=\"2.81\" style=\"\">14</text></g><g transform=\"translate(189.62,262.82)rotate(0)\"><text x=\"15.00\" y=\"2.81\" style=\"\">15</text></g><g transform=\"translate(189.62,248.47)rotate(0)\"><text x=\"15.00\" y=\"2.81\" style=\"\">16</text></g><g transform=\"translate(189.62,234.12)rotate(0)\"><text x=\"15.00\" y=\"2.81\" style=\"\">17</text></g><g transform=\"translate(189.62,219.77)rotate(0)\"><text x=\"15.00\" y=\"2.81\" style=\"\">18</text></g><g transform=\"translate(189.62,205.42)rotate(0)\"><text x=\"15.00\" y=\"2.81\" style=\"\">19</text></g><g transform=\"translate(189.62,191.07)rotate(0)\"><text x=\"15.00\" y=\"2.81\" style=\"\">20</text></g><g transform=\"translate(189.62,176.72)rotate(0)\"><text x=\"15.00\" y=\"2.81\" style=\"\">21</text></g><g transform=\"translate(189.62,162.37)rotate(0)\"><text x=\"15.00\" y=\"2.81\" style=\"\">22</text></g><g transform=\"translate(189.62,148.02)rotate(0)\"><text x=\"15.00\" y=\"2.81\" style=\"\">23</text></g><g transform=\"translate(189.62,133.67)rotate(0)\"><text x=\"15.00\" y=\"2.81\" style=\"\">24</text></g><g transform=\"translate(189.62,119.32)rotate(0)\"><text x=\"15.00\" y=\"2.81\" style=\"\">25</text></g><g transform=\"translate(189.62,104.97)rotate(0)\"><text x=\"15.00\" y=\"2.81\" style=\"\">26</text></g><g transform=\"translate(189.62,90.62)rotate(0)\"><text x=\"15.00\" y=\"2.81\" style=\"\">27</text></g><g transform=\"translate(189.62,76.27)rotate(0)\"><text x=\"15.00\" y=\"2.81\" style=\"\">28</text></g><g transform=\"translate(189.62,61.92)rotate(0)\"><text x=\"15.00\" y=\"2.81\" style=\"\">29</text></g></g></g></g></g></svg><div class=\"toyplot-behavior\"><script>(function()\n{\nvar modules={};\n})();</script></div></div>"
     },
     "metadata": {},
     "output_type": "display_data"
    }
   ],
   "source": [
    "# Want everything to be reproducible - set a seed at every block\n",
    "np.random.seed(96)\n",
    "p = 30\n",
    "id = 320\n",
    "\n",
    "newick = tgen.generate_tree_levels(p, d)\n",
    "\n",
    "tree = tt.tree(newick)\n",
    "tree.draw(tip_labels_align=True, node_sizes=10, node_labels='idx')"
   ],
   "metadata": {
    "collapsed": false,
    "pycharm": {
     "name": "#%%\n"
    }
   }
  },
  {
   "cell_type": "code",
   "execution_count": 107,
   "outputs": [
    {
     "name": "stdout",
     "output_type": "stream",
     "text": [
      "effect_nodes: [33, 7, 0]\n",
      "effect_leaves: [0, 7, 13, 14, 15, 16]\n",
      "nodes: [33, 7, 0]\n",
      "leaves: [0, 7, 13, 14, 15, 16]\n"
     ]
    }
   ],
   "source": [
    "np.random.seed(76)\n",
    "effect_nodes, effect_leaves = tgen.get_effect_nodes(\n",
    "    newick,\n",
    "    num_effects=num_effects,\n",
    "    num_leaves=p\n",
    ")\n",
    "\n",
    "print(f\"nodes: {effect_nodes}\")\n",
    "print(f\"leaves: {effect_leaves}\")\n",
    "\n",
    "tlc = [\"red\" if int(i) in effect_leaves else \"blue\" if int(i)==p-1 else \"black\" for i in tree.get_node_values(\"idx\", 1, 1)[-p:]]\n",
    "tlc.reverse()\n",
    "ref_nodes = [p.idx for p in tree.idx_dict[p-1].get_ancestors()][:-1]\n",
    "ref_nodes.append(p-1)\n",
    "\n",
    "canvas = tp.Canvas(width=800, height=1600)\n",
    "ax0 = canvas.cartesian(bounds=(0, 700, 0, 1600), padding=0)\n",
    "tree.draw(\n",
    "    # tip_labels=False,\n",
    "    node_sizes=[20 for i in tree.get_node_values(\"name\", 1, 1)],\n",
    "    node_labels=[x for x in tree.get_node_values(\"idx\", 1, 1)],\n",
    "    node_colors=[\"lightcoral\" if i in effect_nodes else \"lightblue\" if i in ref_nodes else \"lightgrey\" for i in tree.get_node_values(\"idx\", 1, 1)],\n",
    "    node_labels_style={\"font-size\": 10},\n",
    "    width=700,\n",
    "    height=1600,\n",
    "    node_style={\"stroke\": \"black\"},\n",
    "    axes=ax0,\n",
    "    tip_labels=\"name\",\n",
    "    tip_labels_colors=tlc,\n",
    ")\n",
    "tp.svg.render(canvas, \"../../paper_stuff/benchmark_tree_30.svg\")"
   ],
   "metadata": {
    "collapsed": false,
    "pycharm": {
     "name": "#%%\n"
    }
   }
  },
  {
   "cell_type": "code",
   "execution_count": 8,
   "outputs": [],
   "source": [
    "np.random.seed(1234)\n",
    "for e in effect_sizes:\n",
    "    for n in num_samples:\n",
    "        for r in range(reps):\n",
    "\n",
    "            mu_0, mu_1 = tgen.generate_mu(\n",
    "                a_abs=a_abs,\n",
    "                num_leaves=p,\n",
    "                effect_nodes=effect_nodes,\n",
    "                effect_leaves=effect_leaves,\n",
    "                effect_size=e,\n",
    "                newick=newick\n",
    "            )\n",
    "\n",
    "            X = pd.DataFrame({\"x_0\": np.repeat([0,1], n)})\n",
    "            Y = np.zeros((n*2, p))\n",
    "            for i in range(n):\n",
    "                Y[i, :] = tgen.generate_one_sample(N, mu_0, theta)\n",
    "                Y[-(i+1), :] = tgen.generate_one_sample(N, mu_1, theta)\n",
    "\n",
    "            X = X.astype(np.float64)\n",
    "            Y = Y.astype(np.float64)\n",
    "\n",
    "            test_data = ad.AnnData(\n",
    "                X=Y,\n",
    "                obs=X,\n",
    "                uns={\n",
    "                    \"tree_newick\": newick,\n",
    "                    \"effect_nodes\": effect_nodes,\n",
    "                    \"effect_leaves\": effect_leaves,\n",
    "                    \"effect_size\": e,\n",
    "                    \"num_samples\": n,\n",
    "                }\n",
    "            )\n",
    "\n",
    "            test_data.write_h5ad(dataset_path + f\"/data_{id}\")\n",
    "            id += 1\n"
   ],
   "metadata": {
    "collapsed": false,
    "pycharm": {
     "name": "#%%\n"
    }
   }
  },
  {
   "cell_type": "markdown",
   "source": [
    "## p=50"
   ],
   "metadata": {
    "collapsed": false,
    "pycharm": {
     "name": "#%% md\n"
    }
   }
  },
  {
   "cell_type": "code",
   "execution_count": 108,
   "outputs": [
    {
     "data": {
      "text/plain": "(<toyplot.canvas.Canvas at 0x7f83442d6b20>,\n <toyplot.coordinates.Cartesian at 0x7f8343bdb5e0>,\n <toytree.Render.ToytreeMark at 0x7f83445eeb20>)"
     },
     "execution_count": 108,
     "metadata": {},
     "output_type": "execute_result"
    },
    {
     "data": {
      "text/html": "<div class=\"toyplot\" id=\"t3cf12b90990e415d9a0c21893e84437c\" style=\"text-align:center\"><svg class=\"toyplot-canvas-Canvas\" xmlns:toyplot=\"http://www.sandia.gov/toyplot\" xmlns:xlink=\"http://www.w3.org/1999/xlink\" xmlns=\"http://www.w3.org/2000/svg\" width=\"260.0px\" height=\"900.0px\" viewBox=\"0 0 260.0 900.0\" preserveAspectRatio=\"xMidYMid meet\" style=\"background-color:transparent;border-color:#292724;border-style:none;border-width:1.0;fill:rgb(16.1%,15.3%,14.1%);fill-opacity:1.0;font-family:Helvetica;font-size:12px;opacity:1.0;stroke:rgb(16.1%,15.3%,14.1%);stroke-opacity:1.0;stroke-width:1.0\" id=\"t76c2d920d3b442f3844718bd489b1b8c\"><g class=\"toyplot-coordinates-Cartesian\" id=\"tb234d80849ab4a80872c285fcb8d1b49\"><clipPath id=\"tf6359d8be6be41b2bb6ceec326468ac4\"><rect x=\"30.0\" y=\"30.0\" width=\"200.0\" height=\"840.0\"></rect></clipPath><g clip-path=\"url(#tf6359d8be6be41b2bb6ceec326468ac4)\"><g class=\"toytree-mark-Toytree\" id=\"t99727a4a5a444c3d90e872de9fdadeae\"><g class=\"toytree-Edges\" style=\"fill:none;stroke:rgb(14.9%,14.9%,14.9%);stroke-linecap:round;stroke-opacity:1;stroke-width:2\"><path d=\"M 50.0 368.6 L 50.0 186.2 L 84.9 186.2\" id=\"69,68\"></path><path d=\"M 50.0 368.6 L 50.0 550.9 L 84.9 550.9\" id=\"69,67\"></path><path d=\"M 84.9 186.2 L 84.9 93.9 L 119.8 93.9\" id=\"68,66\"></path><path d=\"M 84.9 186.2 L 84.9 278.5 L 119.8 278.5\" id=\"68,65\"></path><path d=\"M 84.9 550.9 L 84.9 457.9 L 119.8 457.9\" id=\"67,64\"></path><path d=\"M 84.9 550.9 L 84.9 643.9 L 119.8 643.9\" id=\"67,63\"></path><path d=\"M 119.8 93.9 L 119.8 70.1 L 154.7 70.1\" id=\"66,62\"></path><path d=\"M 119.8 93.9 L 119.8 117.6 L 154.7 117.6\" id=\"66,61\"></path><path d=\"M 119.8 278.5 L 119.8 188.8 L 154.7 188.8\" id=\"65,60\"></path><path d=\"M 119.8 278.5 L 119.8 275.9 L 154.7 275.9\" id=\"65,59\"></path><path d=\"M 119.8 278.5 L 119.8 370.9 L 154.7 370.9\" id=\"65,58\"></path><path d=\"M 119.8 457.9 L 119.8 434.2 L 154.7 434.2\" id=\"64,57\"></path><path d=\"M 119.8 457.9 L 119.8 481.7 L 154.7 481.7\" id=\"64,56\"></path><path d=\"M 119.8 643.9 L 119.8 521.2 L 154.7 521.2\" id=\"63,55\"></path><path d=\"M 119.8 643.9 L 119.8 552.9 L 154.7 552.9\" id=\"63,54\"></path><path d=\"M 119.8 643.9 L 119.8 600.4 L 154.7 600.4\" id=\"63,53\"></path><path d=\"M 119.8 643.9 L 119.8 655.8 L 154.7 655.8\" id=\"63,52\"></path><path d=\"M 119.8 643.9 L 119.8 727.0 L 154.7 727.0\" id=\"63,51\"></path><path d=\"M 119.8 643.9 L 119.8 806.1 L 154.7 806.1\" id=\"63,50\"></path><path d=\"M 154.7 70.1 L 154.7 62.2 L 189.6 62.2\" id=\"62,49\"></path><path d=\"M 154.7 70.1 L 154.7 78.0 L 189.6 78.0\" id=\"62,48\"></path><path d=\"M 154.7 117.6 L 154.7 93.9 L 189.6 93.9\" id=\"61,47\"></path><path d=\"M 154.7 117.6 L 154.7 109.7 L 189.6 109.7\" id=\"61,46\"></path><path d=\"M 154.7 117.6 L 154.7 125.5 L 189.6 125.5\" id=\"61,45\"></path><path d=\"M 154.7 117.6 L 154.7 141.4 L 189.6 141.4\" id=\"61,44\"></path><path d=\"M 154.7 188.8 L 154.7 157.2 L 189.6 157.2\" id=\"60,43\"></path><path d=\"M 154.7 188.8 L 154.7 173.0 L 189.6 173.0\" id=\"60,42\"></path><path d=\"M 154.7 188.8 L 154.7 188.8 L 189.6 188.8\" id=\"60,41\"></path><path d=\"M 154.7 188.8 L 154.7 204.7 L 189.6 204.7\" id=\"60,40\"></path><path d=\"M 154.7 188.8 L 154.7 220.5 L 189.6 220.5\" id=\"60,39\"></path><path d=\"M 154.7 275.9 L 154.7 236.3 L 189.6 236.3\" id=\"59,38\"></path><path d=\"M 154.7 275.9 L 154.7 252.2 L 189.6 252.2\" id=\"59,37\"></path><path d=\"M 154.7 275.9 L 154.7 268.0 L 189.6 268.0\" id=\"59,36\"></path><path d=\"M 154.7 275.9 L 154.7 283.8 L 189.6 283.8\" id=\"59,35\"></path><path d=\"M 154.7 275.9 L 154.7 299.6 L 189.6 299.6\" id=\"59,34\"></path><path d=\"M 154.7 275.9 L 154.7 315.5 L 189.6 315.5\" id=\"59,33\"></path><path d=\"M 154.7 370.9 L 154.7 331.3 L 189.6 331.3\" id=\"58,32\"></path><path d=\"M 154.7 370.9 L 154.7 347.1 L 189.6 347.1\" id=\"58,31\"></path><path d=\"M 154.7 370.9 L 154.7 362.9 L 189.6 362.9\" id=\"58,30\"></path><path d=\"M 154.7 370.9 L 154.7 378.8 L 189.6 378.8\" id=\"58,29\"></path><path d=\"M 154.7 370.9 L 154.7 394.6 L 189.6 394.6\" id=\"58,28\"></path><path d=\"M 154.7 370.9 L 154.7 410.4 L 189.6 410.4\" id=\"58,27\"></path><path d=\"M 154.7 434.2 L 154.7 426.3 L 189.6 426.3\" id=\"57,26\"></path><path d=\"M 154.7 434.2 L 154.7 442.1 L 189.6 442.1\" id=\"57,25\"></path><path d=\"M 154.7 481.7 L 154.7 457.9 L 189.6 457.9\" id=\"56,24\"></path><path d=\"M 154.7 481.7 L 154.7 473.7 L 189.6 473.7\" id=\"56,23\"></path><path d=\"M 154.7 481.7 L 154.7 489.6 L 189.6 489.6\" id=\"56,22\"></path><path d=\"M 154.7 481.7 L 154.7 505.4 L 189.6 505.4\" id=\"56,21\"></path><path d=\"M 154.7 521.2 L 154.7 521.2 L 189.6 521.2\" id=\"55,20\"></path><path d=\"M 154.7 552.9 L 154.7 537.1 L 189.6 537.1\" id=\"54,19\"></path><path d=\"M 154.7 552.9 L 154.7 552.9 L 189.6 552.9\" id=\"54,18\"></path><path d=\"M 154.7 552.9 L 154.7 568.7 L 189.6 568.7\" id=\"54,17\"></path><path d=\"M 154.7 600.4 L 154.7 584.5 L 189.6 584.5\" id=\"53,16\"></path><path d=\"M 154.7 600.4 L 154.7 600.4 L 189.6 600.4\" id=\"53,15\"></path><path d=\"M 154.7 600.4 L 154.7 616.2 L 189.6 616.2\" id=\"53,14\"></path><path d=\"M 154.7 655.8 L 154.7 632.0 L 189.6 632.0\" id=\"52,13\"></path><path d=\"M 154.7 655.8 L 154.7 647.8 L 189.6 647.8\" id=\"52,12\"></path><path d=\"M 154.7 655.8 L 154.7 663.7 L 189.6 663.7\" id=\"52,11\"></path><path d=\"M 154.7 655.8 L 154.7 679.5 L 189.6 679.5\" id=\"52,10\"></path><path d=\"M 154.7 727.0 L 154.7 695.3 L 189.6 695.3\" id=\"51,9\"></path><path d=\"M 154.7 727.0 L 154.7 711.2 L 189.6 711.2\" id=\"51,8\"></path><path d=\"M 154.7 727.0 L 154.7 727.0 L 189.6 727.0\" id=\"51,7\"></path><path d=\"M 154.7 727.0 L 154.7 742.8 L 189.6 742.8\" id=\"51,6\"></path><path d=\"M 154.7 727.0 L 154.7 758.6 L 189.6 758.6\" id=\"51,5\"></path><path d=\"M 154.7 806.1 L 154.7 774.5 L 189.6 774.5\" id=\"50,4\"></path><path d=\"M 154.7 806.1 L 154.7 790.3 L 189.6 790.3\" id=\"50,3\"></path><path d=\"M 154.7 806.1 L 154.7 806.1 L 189.6 806.1\" id=\"50,2\"></path><path d=\"M 154.7 806.1 L 154.7 822.0 L 189.6 822.0\" id=\"50,1\"></path><path d=\"M 154.7 806.1 L 154.7 837.8 L 189.6 837.8\" id=\"50,0\"></path></g><g class=\"toytree-AlignEdges\" style=\"stroke:rgb(66.3%,66.3%,66.3%);stroke-dasharray:2, 4;stroke-linecap:round;stroke-opacity:1.0;stroke-width:2\"><path d=\"M 189.6 837.8 L 189.6 837.8\"></path><path d=\"M 189.6 822.0 L 189.6 822.0\"></path><path d=\"M 189.6 806.1 L 189.6 806.1\"></path><path d=\"M 189.6 790.3 L 189.6 790.3\"></path><path d=\"M 189.6 774.5 L 189.6 774.5\"></path><path d=\"M 189.6 758.6 L 189.6 758.6\"></path><path d=\"M 189.6 742.8 L 189.6 742.8\"></path><path d=\"M 189.6 727.0 L 189.6 727.0\"></path><path d=\"M 189.6 711.2 L 189.6 711.2\"></path><path d=\"M 189.6 695.3 L 189.6 695.3\"></path><path d=\"M 189.6 679.5 L 189.6 679.5\"></path><path d=\"M 189.6 663.7 L 189.6 663.7\"></path><path d=\"M 189.6 647.8 L 189.6 647.8\"></path><path d=\"M 189.6 632.0 L 189.6 632.0\"></path><path d=\"M 189.6 616.2 L 189.6 616.2\"></path><path d=\"M 189.6 600.4 L 189.6 600.4\"></path><path d=\"M 189.6 584.5 L 189.6 584.5\"></path><path d=\"M 189.6 568.7 L 189.6 568.7\"></path><path d=\"M 189.6 552.9 L 189.6 552.9\"></path><path d=\"M 189.6 537.1 L 189.6 537.1\"></path><path d=\"M 189.6 521.2 L 189.6 521.2\"></path><path d=\"M 189.6 505.4 L 189.6 505.4\"></path><path d=\"M 189.6 489.6 L 189.6 489.6\"></path><path d=\"M 189.6 473.7 L 189.6 473.7\"></path><path d=\"M 189.6 457.9 L 189.6 457.9\"></path><path d=\"M 189.6 442.1 L 189.6 442.1\"></path><path d=\"M 189.6 426.3 L 189.6 426.3\"></path><path d=\"M 189.6 410.4 L 189.6 410.4\"></path><path d=\"M 189.6 394.6 L 189.6 394.6\"></path><path d=\"M 189.6 378.8 L 189.6 378.8\"></path><path d=\"M 189.6 362.9 L 189.6 362.9\"></path><path d=\"M 189.6 347.1 L 189.6 347.1\"></path><path d=\"M 189.6 331.3 L 189.6 331.3\"></path><path d=\"M 189.6 315.5 L 189.6 315.5\"></path><path d=\"M 189.6 299.6 L 189.6 299.6\"></path><path d=\"M 189.6 283.8 L 189.6 283.8\"></path><path d=\"M 189.6 268.0 L 189.6 268.0\"></path><path d=\"M 189.6 252.2 L 189.6 252.2\"></path><path d=\"M 189.6 236.3 L 189.6 236.3\"></path><path d=\"M 189.6 220.5 L 189.6 220.5\"></path><path d=\"M 189.6 204.7 L 189.6 204.7\"></path><path d=\"M 189.6 188.8 L 189.6 188.8\"></path><path d=\"M 189.6 173.0 L 189.6 173.0\"></path><path d=\"M 189.6 157.2 L 189.6 157.2\"></path><path d=\"M 189.6 141.4 L 189.6 141.4\"></path><path d=\"M 189.6 125.5 L 189.6 125.5\"></path><path d=\"M 189.6 109.7 L 189.6 109.7\"></path><path d=\"M 189.6 93.9 L 189.6 93.9\"></path><path d=\"M 189.6 78.0 L 189.6 78.0\"></path><path d=\"M 189.6 62.2 L 189.6 62.2\"></path></g><g class=\"toytree-Nodes\" style=\"fill:rgb(40%,76.1%,64.7%);fill-opacity:1.0;stroke:None;stroke-width:1\"><g id=\"node-0\" transform=\"translate(189.622,837.785)\"><circle r=\"0.0\"></circle></g><g id=\"node-1\" transform=\"translate(189.622,821.957)\"><circle r=\"0.0\"></circle></g><g id=\"node-2\" transform=\"translate(189.622,806.129)\"><circle r=\"0.0\"></circle></g><g id=\"node-3\" transform=\"translate(189.622,790.301)\"><circle r=\"0.0\"></circle></g><g id=\"node-4\" transform=\"translate(189.622,774.473)\"><circle r=\"0.0\"></circle></g><g id=\"node-5\" transform=\"translate(189.622,758.645)\"><circle r=\"0.0\"></circle></g><g id=\"node-6\" transform=\"translate(189.622,742.817)\"><circle r=\"0.0\"></circle></g><g id=\"node-7\" transform=\"translate(189.622,726.989)\"><circle r=\"0.0\"></circle></g><g id=\"node-8\" transform=\"translate(189.622,711.161)\"><circle r=\"0.0\"></circle></g><g id=\"node-9\" transform=\"translate(189.622,695.333)\"><circle r=\"0.0\"></circle></g><g id=\"node-10\" transform=\"translate(189.622,679.505)\"><circle r=\"0.0\"></circle></g><g id=\"node-11\" transform=\"translate(189.622,663.677)\"><circle r=\"0.0\"></circle></g><g id=\"node-12\" transform=\"translate(189.622,647.849)\"><circle r=\"0.0\"></circle></g><g id=\"node-13\" transform=\"translate(189.622,632.021)\"><circle r=\"0.0\"></circle></g><g id=\"node-14\" transform=\"translate(189.622,616.193)\"><circle r=\"0.0\"></circle></g><g id=\"node-15\" transform=\"translate(189.622,600.366)\"><circle r=\"0.0\"></circle></g><g id=\"node-16\" transform=\"translate(189.622,584.538)\"><circle r=\"0.0\"></circle></g><g id=\"node-17\" transform=\"translate(189.622,568.710)\"><circle r=\"0.0\"></circle></g><g id=\"node-18\" transform=\"translate(189.622,552.882)\"><circle r=\"0.0\"></circle></g><g id=\"node-19\" transform=\"translate(189.622,537.054)\"><circle r=\"0.0\"></circle></g><g id=\"node-20\" transform=\"translate(189.622,521.226)\"><circle r=\"0.0\"></circle></g><g id=\"node-21\" transform=\"translate(189.622,505.398)\"><circle r=\"0.0\"></circle></g><g id=\"node-22\" transform=\"translate(189.622,489.570)\"><circle r=\"0.0\"></circle></g><g id=\"node-23\" transform=\"translate(189.622,473.742)\"><circle r=\"0.0\"></circle></g><g id=\"node-24\" transform=\"translate(189.622,457.914)\"><circle r=\"0.0\"></circle></g><g id=\"node-25\" transform=\"translate(189.622,442.086)\"><circle r=\"0.0\"></circle></g><g id=\"node-26\" transform=\"translate(189.622,426.258)\"><circle r=\"0.0\"></circle></g><g id=\"node-27\" transform=\"translate(189.622,410.430)\"><circle r=\"0.0\"></circle></g><g id=\"node-28\" transform=\"translate(189.622,394.602)\"><circle r=\"0.0\"></circle></g><g id=\"node-29\" transform=\"translate(189.622,378.774)\"><circle r=\"0.0\"></circle></g><g id=\"node-30\" transform=\"translate(189.622,362.946)\"><circle r=\"0.0\"></circle></g><g id=\"node-31\" transform=\"translate(189.622,347.118)\"><circle r=\"0.0\"></circle></g><g id=\"node-32\" transform=\"translate(189.622,331.290)\"><circle r=\"0.0\"></circle></g><g id=\"node-33\" transform=\"translate(189.622,315.462)\"><circle r=\"0.0\"></circle></g><g id=\"node-34\" transform=\"translate(189.622,299.634)\"><circle r=\"0.0\"></circle></g><g id=\"node-35\" transform=\"translate(189.622,283.807)\"><circle r=\"0.0\"></circle></g><g id=\"node-36\" transform=\"translate(189.622,267.979)\"><circle r=\"0.0\"></circle></g><g id=\"node-37\" transform=\"translate(189.622,252.151)\"><circle r=\"0.0\"></circle></g><g id=\"node-38\" transform=\"translate(189.622,236.323)\"><circle r=\"0.0\"></circle></g><g id=\"node-39\" transform=\"translate(189.622,220.495)\"><circle r=\"0.0\"></circle></g><g id=\"node-40\" transform=\"translate(189.622,204.667)\"><circle r=\"0.0\"></circle></g><g id=\"node-41\" transform=\"translate(189.622,188.839)\"><circle r=\"0.0\"></circle></g><g id=\"node-42\" transform=\"translate(189.622,173.011)\"><circle r=\"0.0\"></circle></g><g id=\"node-43\" transform=\"translate(189.622,157.183)\"><circle r=\"0.0\"></circle></g><g id=\"node-44\" transform=\"translate(189.622,141.355)\"><circle r=\"0.0\"></circle></g><g id=\"node-45\" transform=\"translate(189.622,125.527)\"><circle r=\"0.0\"></circle></g><g id=\"node-46\" transform=\"translate(189.622,109.699)\"><circle r=\"0.0\"></circle></g><g id=\"node-47\" transform=\"translate(189.622,93.871)\"><circle r=\"0.0\"></circle></g><g id=\"node-48\" transform=\"translate(189.622,78.043)\"><circle r=\"0.0\"></circle></g><g id=\"node-49\" transform=\"translate(189.622,62.215)\"><circle r=\"0.0\"></circle></g><g id=\"node-50\" transform=\"translate(154.717,806.129)\"><circle r=\"5.0\"></circle></g><g id=\"node-51\" transform=\"translate(154.717,726.989)\"><circle r=\"5.0\"></circle></g><g id=\"node-52\" transform=\"translate(154.717,655.763)\"><circle r=\"5.0\"></circle></g><g id=\"node-53\" transform=\"translate(154.717,600.366)\"><circle r=\"5.0\"></circle></g><g id=\"node-54\" transform=\"translate(154.717,552.882)\"><circle r=\"5.0\"></circle></g><g id=\"node-55\" transform=\"translate(154.717,521.226)\"><circle r=\"5.0\"></circle></g><g id=\"node-56\" transform=\"translate(154.717,481.656)\"><circle r=\"5.0\"></circle></g><g id=\"node-57\" transform=\"translate(154.717,434.172)\"><circle r=\"5.0\"></circle></g><g id=\"node-58\" transform=\"translate(154.717,370.860)\"><circle r=\"5.0\"></circle></g><g id=\"node-59\" transform=\"translate(154.717,275.893)\"><circle r=\"5.0\"></circle></g><g id=\"node-60\" transform=\"translate(154.717,188.839)\"><circle r=\"5.0\"></circle></g><g id=\"node-61\" transform=\"translate(154.717,117.613)\"><circle r=\"5.0\"></circle></g><g id=\"node-62\" transform=\"translate(154.717,70.129)\"><circle r=\"5.0\"></circle></g><g id=\"node-63\" transform=\"translate(119.811,643.892)\"><circle r=\"5.0\"></circle></g><g id=\"node-64\" transform=\"translate(119.811,457.914)\"><circle r=\"5.0\"></circle></g><g id=\"node-65\" transform=\"translate(119.811,278.531)\"><circle r=\"5.0\"></circle></g><g id=\"node-66\" transform=\"translate(119.811,93.871)\"><circle r=\"5.0\"></circle></g><g id=\"node-67\" transform=\"translate(84.906,550.903)\"><circle r=\"5.0\"></circle></g><g id=\"node-68\" transform=\"translate(84.906,186.201)\"><circle r=\"5.0\"></circle></g><g id=\"node-69\" transform=\"translate(50.000,368.552)\"><circle r=\"0.0\"></circle></g></g><g class=\"toytree-NodeLabels\" style=\"fill:rgb(14.9%,14.9%,14.9%);fill-opacity:1.0;font-size:9px;stroke:none\"><g transform=\"translate(149.71,808.43)\"><text>50</text></g><g transform=\"translate(149.71,729.29)\"><text>51</text></g><g transform=\"translate(149.71,658.06)\"><text>52</text></g><g transform=\"translate(149.71,602.67)\"><text>53</text></g><g transform=\"translate(149.71,555.18)\"><text>54</text></g><g transform=\"translate(149.71,523.53)\"><text>55</text></g><g transform=\"translate(149.71,483.96)\"><text>56</text></g><g transform=\"translate(149.71,436.47)\"><text>57</text></g><g transform=\"translate(149.71,373.16)\"><text>58</text></g><g transform=\"translate(149.71,278.19)\"><text>59</text></g><g transform=\"translate(149.71,191.14)\"><text>60</text></g><g transform=\"translate(149.71,119.91)\"><text>61</text></g><g transform=\"translate(149.71,72.43)\"><text>62</text></g><g transform=\"translate(114.81,646.19)\"><text>63</text></g><g transform=\"translate(114.81,460.21)\"><text>64</text></g><g transform=\"translate(114.81,280.83)\"><text>65</text></g><g transform=\"translate(114.81,96.17)\"><text>66</text></g><g transform=\"translate(79.90,553.20)\"><text>67</text></g><g transform=\"translate(79.90,188.50)\"><text>68</text></g></g><g class=\"toytree-TipLabels\" style=\"fill:rgb(14.9%,14.9%,14.9%);fill-opacity:1.0;font-family:helvetica;font-size:11px;font-weight:normal;stroke:none;white-space:pre\"><g transform=\"translate(189.62,837.78)rotate(0)\"><text x=\"15.00\" y=\"2.81\" style=\"\">0</text></g><g transform=\"translate(189.62,821.96)rotate(0)\"><text x=\"15.00\" y=\"2.81\" style=\"\">1</text></g><g transform=\"translate(189.62,806.13)rotate(0)\"><text x=\"15.00\" y=\"2.81\" style=\"\">2</text></g><g transform=\"translate(189.62,790.30)rotate(0)\"><text x=\"15.00\" y=\"2.81\" style=\"\">3</text></g><g transform=\"translate(189.62,774.47)rotate(0)\"><text x=\"15.00\" y=\"2.81\" style=\"\">4</text></g><g transform=\"translate(189.62,758.65)rotate(0)\"><text x=\"15.00\" y=\"2.81\" style=\"\">5</text></g><g transform=\"translate(189.62,742.82)rotate(0)\"><text x=\"15.00\" y=\"2.81\" style=\"\">6</text></g><g transform=\"translate(189.62,726.99)rotate(0)\"><text x=\"15.00\" y=\"2.81\" style=\"\">7</text></g><g transform=\"translate(189.62,711.16)rotate(0)\"><text x=\"15.00\" y=\"2.81\" style=\"\">8</text></g><g transform=\"translate(189.62,695.33)rotate(0)\"><text x=\"15.00\" y=\"2.81\" style=\"\">9</text></g><g transform=\"translate(189.62,679.51)rotate(0)\"><text x=\"15.00\" y=\"2.81\" style=\"\">10</text></g><g transform=\"translate(189.62,663.68)rotate(0)\"><text x=\"15.00\" y=\"2.81\" style=\"\">11</text></g><g transform=\"translate(189.62,647.85)rotate(0)\"><text x=\"15.00\" y=\"2.81\" style=\"\">12</text></g><g transform=\"translate(189.62,632.02)rotate(0)\"><text x=\"15.00\" y=\"2.81\" style=\"\">13</text></g><g transform=\"translate(189.62,616.19)rotate(0)\"><text x=\"15.00\" y=\"2.81\" style=\"\">14</text></g><g transform=\"translate(189.62,600.37)rotate(0)\"><text x=\"15.00\" y=\"2.81\" style=\"\">15</text></g><g transform=\"translate(189.62,584.54)rotate(0)\"><text x=\"15.00\" y=\"2.81\" style=\"\">16</text></g><g transform=\"translate(189.62,568.71)rotate(0)\"><text x=\"15.00\" y=\"2.81\" style=\"\">17</text></g><g transform=\"translate(189.62,552.88)rotate(0)\"><text x=\"15.00\" y=\"2.81\" style=\"\">18</text></g><g transform=\"translate(189.62,537.05)rotate(0)\"><text x=\"15.00\" y=\"2.81\" style=\"\">19</text></g><g transform=\"translate(189.62,521.23)rotate(0)\"><text x=\"15.00\" y=\"2.81\" style=\"\">20</text></g><g transform=\"translate(189.62,505.40)rotate(0)\"><text x=\"15.00\" y=\"2.81\" style=\"\">21</text></g><g transform=\"translate(189.62,489.57)rotate(0)\"><text x=\"15.00\" y=\"2.81\" style=\"\">22</text></g><g transform=\"translate(189.62,473.74)rotate(0)\"><text x=\"15.00\" y=\"2.81\" style=\"\">23</text></g><g transform=\"translate(189.62,457.91)rotate(0)\"><text x=\"15.00\" y=\"2.81\" style=\"\">24</text></g><g transform=\"translate(189.62,442.09)rotate(0)\"><text x=\"15.00\" y=\"2.81\" style=\"\">25</text></g><g transform=\"translate(189.62,426.26)rotate(0)\"><text x=\"15.00\" y=\"2.81\" style=\"\">26</text></g><g transform=\"translate(189.62,410.43)rotate(0)\"><text x=\"15.00\" y=\"2.81\" style=\"\">27</text></g><g transform=\"translate(189.62,394.60)rotate(0)\"><text x=\"15.00\" y=\"2.81\" style=\"\">28</text></g><g transform=\"translate(189.62,378.77)rotate(0)\"><text x=\"15.00\" y=\"2.81\" style=\"\">29</text></g><g transform=\"translate(189.62,362.95)rotate(0)\"><text x=\"15.00\" y=\"2.81\" style=\"\">30</text></g><g transform=\"translate(189.62,347.12)rotate(0)\"><text x=\"15.00\" y=\"2.81\" style=\"\">31</text></g><g transform=\"translate(189.62,331.29)rotate(0)\"><text x=\"15.00\" y=\"2.81\" style=\"\">32</text></g><g transform=\"translate(189.62,315.46)rotate(0)\"><text x=\"15.00\" y=\"2.81\" style=\"\">33</text></g><g transform=\"translate(189.62,299.63)rotate(0)\"><text x=\"15.00\" y=\"2.81\" style=\"\">34</text></g><g transform=\"translate(189.62,283.81)rotate(0)\"><text x=\"15.00\" y=\"2.81\" style=\"\">35</text></g><g transform=\"translate(189.62,267.98)rotate(0)\"><text x=\"15.00\" y=\"2.81\" style=\"\">36</text></g><g transform=\"translate(189.62,252.15)rotate(0)\"><text x=\"15.00\" y=\"2.81\" style=\"\">37</text></g><g transform=\"translate(189.62,236.32)rotate(0)\"><text x=\"15.00\" y=\"2.81\" style=\"\">38</text></g><g transform=\"translate(189.62,220.49)rotate(0)\"><text x=\"15.00\" y=\"2.81\" style=\"\">39</text></g><g transform=\"translate(189.62,204.67)rotate(0)\"><text x=\"15.00\" y=\"2.81\" style=\"\">40</text></g><g transform=\"translate(189.62,188.84)rotate(0)\"><text x=\"15.00\" y=\"2.81\" style=\"\">41</text></g><g transform=\"translate(189.62,173.01)rotate(0)\"><text x=\"15.00\" y=\"2.81\" style=\"\">42</text></g><g transform=\"translate(189.62,157.18)rotate(0)\"><text x=\"15.00\" y=\"2.81\" style=\"\">43</text></g><g transform=\"translate(189.62,141.35)rotate(0)\"><text x=\"15.00\" y=\"2.81\" style=\"\">44</text></g><g transform=\"translate(189.62,125.53)rotate(0)\"><text x=\"15.00\" y=\"2.81\" style=\"\">45</text></g><g transform=\"translate(189.62,109.70)rotate(0)\"><text x=\"15.00\" y=\"2.81\" style=\"\">46</text></g><g transform=\"translate(189.62,93.87)rotate(0)\"><text x=\"15.00\" y=\"2.81\" style=\"\">47</text></g><g transform=\"translate(189.62,78.04)rotate(0)\"><text x=\"15.00\" y=\"2.81\" style=\"\">48</text></g><g transform=\"translate(189.62,62.22)rotate(0)\"><text x=\"15.00\" y=\"2.81\" style=\"\">49</text></g></g></g></g></g></svg><div class=\"toyplot-behavior\"><script>(function()\n{\nvar modules={};\n})();</script></div></div>"
     },
     "metadata": {},
     "output_type": "display_data"
    }
   ],
   "source": [
    "# Want everything to be reproducible - set a seed at every block\n",
    "np.random.seed(96)\n",
    "p = 50\n",
    "id = 640\n",
    "\n",
    "newick = tgen.generate_tree_levels(p, d)\n",
    "\n",
    "tree = tt.tree(newick)\n",
    "tree.draw(tip_labels_align=True, node_sizes=10, node_labels='idx')"
   ],
   "metadata": {
    "collapsed": false,
    "pycharm": {
     "name": "#%%\n"
    }
   }
  },
  {
   "cell_type": "code",
   "execution_count": 109,
   "outputs": [
    {
     "name": "stdout",
     "output_type": "stream",
     "text": [
      "effect_nodes: [61, 40, 5]\n",
      "effect_leaves: [5, 40, 44, 45, 46, 47]\n",
      "nodes: [61, 40, 5]\n",
      "leaves: [5, 40, 44, 45, 46, 47]\n"
     ]
    }
   ],
   "source": [
    "np.random.seed(4657)\n",
    "effect_nodes, effect_leaves = tgen.get_effect_nodes(\n",
    "    newick,\n",
    "    num_effects=num_effects,\n",
    "    num_leaves=p\n",
    ")\n",
    "\n",
    "print(f\"nodes: {effect_nodes}\")\n",
    "print(f\"leaves: {effect_leaves}\")\n",
    "\n",
    "tlc = [\"red\" if int(i) in effect_leaves else \"blue\" if int(i)==p-1 else \"black\" for i in tree.get_node_values(\"idx\", 1, 1)[-p:]]\n",
    "tlc.reverse()\n",
    "ref_nodes = [p.idx for p in tree.idx_dict[p-1].get_ancestors()][:-1]\n",
    "ref_nodes.append(p-1)\n",
    "\n",
    "canvas = tp.Canvas(width=800, height=1600)\n",
    "ax0 = canvas.cartesian(bounds=(0, 700, 0, 1600), padding=0)\n",
    "tree.draw(\n",
    "    # tip_labels=False,\n",
    "    node_sizes=[20 for i in tree.get_node_values(\"name\", 1, 1)],\n",
    "    node_labels=[x for x in tree.get_node_values(\"idx\", 1, 1)],\n",
    "    node_colors=[\"lightcoral\" if i in effect_nodes else \"lightblue\" if i in ref_nodes else \"lightgrey\" for i in tree.get_node_values(\"idx\", 1, 1)],\n",
    "    node_labels_style={\"font-size\": 10},\n",
    "    width=700,\n",
    "    height=1600,\n",
    "    node_style={\"stroke\": \"black\"},\n",
    "    axes=ax0,\n",
    "    tip_labels=\"name\",\n",
    "    tip_labels_colors=tlc\n",
    ")\n",
    "tp.svg.render(canvas, \"../../paper_stuff/benchmark_tree_50.svg\")"
   ],
   "metadata": {
    "collapsed": false,
    "pycharm": {
     "name": "#%%\n"
    }
   }
  },
  {
   "cell_type": "code",
   "execution_count": 11,
   "outputs": [],
   "source": [
    "np.random.seed(1234)\n",
    "for e in effect_sizes:\n",
    "    for n in num_samples:\n",
    "        for r in range(reps):\n",
    "\n",
    "            mu_0, mu_1 = tgen.generate_mu(\n",
    "                a_abs=a_abs,\n",
    "                num_leaves=p,\n",
    "                effect_nodes=effect_nodes,\n",
    "                effect_leaves=effect_leaves,\n",
    "                effect_size=e,\n",
    "                newick=newick\n",
    "            )\n",
    "\n",
    "            X = pd.DataFrame({\"x_0\": np.repeat([0,1], n)})\n",
    "            Y = np.zeros((n*2, p))\n",
    "            for i in range(n):\n",
    "                Y[i, :] = tgen.generate_one_sample(N, mu_0, theta)\n",
    "                Y[-(i+1), :] = tgen.generate_one_sample(N, mu_1, theta)\n",
    "\n",
    "            X = X.astype(np.float64)\n",
    "            Y = Y.astype(np.float64)\n",
    "\n",
    "            test_data = ad.AnnData(\n",
    "                X=Y,\n",
    "                obs=X,\n",
    "                uns={\n",
    "                    \"tree_newick\": newick,\n",
    "                    \"effect_nodes\": effect_nodes,\n",
    "                    \"effect_leaves\": effect_leaves,\n",
    "                    \"effect_size\": e,\n",
    "                    \"num_samples\": n,\n",
    "                }            )\n",
    "\n",
    "            test_data.write_h5ad(dataset_path + f\"/data_{id}\")\n",
    "            id += 1"
   ],
   "metadata": {
    "collapsed": false,
    "pycharm": {
     "name": "#%%\n"
    }
   }
  },
  {
   "cell_type": "markdown",
   "source": [
    "## p=100"
   ],
   "metadata": {
    "collapsed": false,
    "pycharm": {
     "name": "#%% md\n"
    }
   }
  },
  {
   "cell_type": "code",
   "execution_count": 110,
   "outputs": [
    {
     "data": {
      "text/plain": "(<toyplot.canvas.Canvas at 0x7f83439ba760>,\n <toyplot.coordinates.Cartesian at 0x7f83439435e0>,\n <toytree.Render.ToytreeMark at 0x7f8343ca9d30>)"
     },
     "execution_count": 110,
     "metadata": {},
     "output_type": "execute_result"
    },
    {
     "data": {
      "text/html": "<div class=\"toyplot\" id=\"t0f8478ce2fb9499cba83e95c7b3ccca5\" style=\"text-align:center\"><svg class=\"toyplot-canvas-Canvas\" xmlns:toyplot=\"http://www.sandia.gov/toyplot\" xmlns:xlink=\"http://www.w3.org/1999/xlink\" xmlns=\"http://www.w3.org/2000/svg\" width=\"260.0px\" height=\"1000.0px\" viewBox=\"0 0 260.0 1000.0\" preserveAspectRatio=\"xMidYMid meet\" style=\"background-color:transparent;border-color:#292724;border-style:none;border-width:1.0;fill:rgb(16.1%,15.3%,14.1%);fill-opacity:1.0;font-family:Helvetica;font-size:12px;opacity:1.0;stroke:rgb(16.1%,15.3%,14.1%);stroke-opacity:1.0;stroke-width:1.0\" id=\"t4a325392d6cc4f15873edd1dd704d641\"><g class=\"toyplot-coordinates-Cartesian\" id=\"t6650f5febf884c01b056095a134c7cf2\"><clipPath id=\"t1c99f81162ea4f27b37a126ac81182ee\"><rect x=\"30.0\" y=\"30.0\" width=\"200.0\" height=\"940.0\"></rect></clipPath><g clip-path=\"url(#t1c99f81162ea4f27b37a126ac81182ee)\"><g class=\"toytree-mark-Toytree\" id=\"tbc209eeb58954344a6465ca5fd87e4c7\"><g class=\"toytree-Edges\" style=\"fill:none;stroke:rgb(14.9%,14.9%,14.9%);stroke-linecap:round;stroke-opacity:1;stroke-width:2\"><path d=\"M 50.0 419.8 L 50.0 129.9 L 84.9 129.9\" id=\"142,141\"></path><path d=\"M 50.0 419.8 L 50.0 408.4 L 84.9 408.4\" id=\"142,140\"></path><path d=\"M 50.0 419.8 L 50.0 721.3 L 84.9 721.3\" id=\"142,139\"></path><path d=\"M 84.9 129.9 L 84.9 84.4 L 119.8 84.4\" id=\"141,138\"></path><path d=\"M 84.9 129.9 L 84.9 175.5 L 119.8 175.5\" id=\"141,137\"></path><path d=\"M 84.9 408.4 L 84.9 292.2 L 119.8 292.2\" id=\"140,136\"></path><path d=\"M 84.9 408.4 L 84.9 318.7 L 119.8 318.7\" id=\"140,135\"></path><path d=\"M 84.9 408.4 L 84.9 361.5 L 119.8 361.5\" id=\"140,134\"></path><path d=\"M 84.9 408.4 L 84.9 422.6 L 119.8 422.6\" id=\"140,133\"></path><path d=\"M 84.9 408.4 L 84.9 491.2 L 119.8 491.2\" id=\"140,132\"></path><path d=\"M 84.9 408.4 L 84.9 564.1 L 119.8 564.1\" id=\"140,131\"></path><path d=\"M 84.9 721.3 L 84.9 623.8 L 119.8 623.8\" id=\"139,130\"></path><path d=\"M 84.9 721.3 L 84.9 670.2 L 119.8 670.2\" id=\"139,129\"></path><path d=\"M 84.9 721.3 L 84.9 734.3 L 119.8 734.3\" id=\"139,128\"></path><path d=\"M 84.9 721.3 L 84.9 856.7 L 119.8 856.7\" id=\"139,127\"></path><path d=\"M 119.8 84.4 L 119.8 84.4 L 154.7 84.4\" id=\"138,126\"></path><path d=\"M 119.8 175.5 L 119.8 119.7 L 154.7 119.7\" id=\"137,125\"></path><path d=\"M 119.8 175.5 L 119.8 137.4 L 154.7 137.4\" id=\"137,124\"></path><path d=\"M 119.8 175.5 L 119.8 164.0 L 154.7 164.0\" id=\"137,123\"></path><path d=\"M 119.8 175.5 L 119.8 203.7 L 154.7 203.7\" id=\"137,122\"></path><path d=\"M 119.8 175.5 L 119.8 252.4 L 154.7 252.4\" id=\"137,121\"></path><path d=\"M 119.8 292.2 L 119.8 292.2 L 154.7 292.2\" id=\"136,120\"></path><path d=\"M 119.8 318.7 L 119.8 309.9 L 154.7 309.9\" id=\"135,119\"></path><path d=\"M 119.8 318.7 L 119.8 327.6 L 154.7 327.6\" id=\"135,118\"></path><path d=\"M 119.8 361.5 L 119.8 345.2 L 154.7 345.2\" id=\"134,117\"></path><path d=\"M 119.8 361.5 L 119.8 358.5 L 154.7 358.5\" id=\"134,116\"></path><path d=\"M 119.8 361.5 L 119.8 380.6 L 154.7 380.6\" id=\"134,115\"></path><path d=\"M 119.8 422.6 L 119.8 407.1 L 154.7 407.1\" id=\"133,114\"></path><path d=\"M 119.8 422.6 L 119.8 438.1 L 154.7 438.1\" id=\"133,113\"></path><path d=\"M 119.8 491.2 L 119.8 473.5 L 154.7 473.5\" id=\"132,112\"></path><path d=\"M 119.8 491.2 L 119.8 508.8 L 154.7 508.8\" id=\"132,111\"></path><path d=\"M 119.8 564.1 L 119.8 544.2 L 154.7 544.2\" id=\"131,110\"></path><path d=\"M 119.8 564.1 L 119.8 584.0 L 154.7 584.0\" id=\"131,109\"></path><path d=\"M 119.8 623.8 L 119.8 623.8 L 154.7 623.8\" id=\"130,108\"></path><path d=\"M 119.8 670.2 L 119.8 654.8 L 154.7 654.8\" id=\"129,107\"></path><path d=\"M 119.8 670.2 L 119.8 685.7 L 154.7 685.7\" id=\"129,106\"></path><path d=\"M 119.8 734.3 L 119.8 707.8 L 154.7 707.8\" id=\"128,105\"></path><path d=\"M 119.8 734.3 L 119.8 729.9 L 154.7 729.9\" id=\"128,104\"></path><path d=\"M 119.8 734.3 L 119.8 765.3 L 154.7 765.3\" id=\"128,103\"></path><path d=\"M 119.8 856.7 L 119.8 805.1 L 154.7 805.1\" id=\"127,102\"></path><path d=\"M 119.8 856.7 L 119.8 853.7 L 154.7 853.7\" id=\"127,101\"></path><path d=\"M 119.8 856.7 L 119.8 911.2 L 154.7 911.2\" id=\"127,100\"></path><path d=\"M 154.7 84.4 L 154.7 62.3 L 189.6 62.3\" id=\"126,99\"></path><path d=\"M 154.7 84.4 L 154.7 71.1 L 189.6 71.1\" id=\"126,98\"></path><path d=\"M 154.7 84.4 L 154.7 79.9 L 189.6 79.9\" id=\"126,97\"></path><path d=\"M 154.7 84.4 L 154.7 88.8 L 189.6 88.8\" id=\"126,96\"></path><path d=\"M 154.7 84.4 L 154.7 97.6 L 189.6 97.6\" id=\"126,95\"></path><path d=\"M 154.7 84.4 L 154.7 106.5 L 189.6 106.5\" id=\"126,94\"></path><path d=\"M 154.7 119.7 L 154.7 115.3 L 189.6 115.3\" id=\"125,93\"></path><path d=\"M 154.7 119.7 L 154.7 124.2 L 189.6 124.2\" id=\"125,92\"></path><path d=\"M 154.7 137.4 L 154.7 133.0 L 189.6 133.0\" id=\"124,91\"></path><path d=\"M 154.7 137.4 L 154.7 141.8 L 189.6 141.8\" id=\"124,90\"></path><path d=\"M 154.7 164.0 L 154.7 150.7 L 189.6 150.7\" id=\"123,89\"></path><path d=\"M 154.7 164.0 L 154.7 159.5 L 189.6 159.5\" id=\"123,88\"></path><path d=\"M 154.7 164.0 L 154.7 168.4 L 189.6 168.4\" id=\"123,87\"></path><path d=\"M 154.7 164.0 L 154.7 177.2 L 189.6 177.2\" id=\"123,86\"></path><path d=\"M 154.7 203.7 L 154.7 186.1 L 189.6 186.1\" id=\"122,85\"></path><path d=\"M 154.7 203.7 L 154.7 194.9 L 189.6 194.9\" id=\"122,84\"></path><path d=\"M 154.7 203.7 L 154.7 203.7 L 189.6 203.7\" id=\"122,83\"></path><path d=\"M 154.7 203.7 L 154.7 212.6 L 189.6 212.6\" id=\"122,82\"></path><path d=\"M 154.7 203.7 L 154.7 221.4 L 189.6 221.4\" id=\"122,81\"></path><path d=\"M 154.7 252.4 L 154.7 230.3 L 189.6 230.3\" id=\"121,80\"></path><path d=\"M 154.7 252.4 L 154.7 239.1 L 189.6 239.1\" id=\"121,79\"></path><path d=\"M 154.7 252.4 L 154.7 248.0 L 189.6 248.0\" id=\"121,78\"></path><path d=\"M 154.7 252.4 L 154.7 256.8 L 189.6 256.8\" id=\"121,77\"></path><path d=\"M 154.7 252.4 L 154.7 265.7 L 189.6 265.7\" id=\"121,76\"></path><path d=\"M 154.7 252.4 L 154.7 274.5 L 189.6 274.5\" id=\"121,75\"></path><path d=\"M 154.7 292.2 L 154.7 283.3 L 189.6 283.3\" id=\"120,74\"></path><path d=\"M 154.7 292.2 L 154.7 292.2 L 189.6 292.2\" id=\"120,73\"></path><path d=\"M 154.7 292.2 L 154.7 301.0 L 189.6 301.0\" id=\"120,72\"></path><path d=\"M 154.7 309.9 L 154.7 309.9 L 189.6 309.9\" id=\"119,71\"></path><path d=\"M 154.7 327.6 L 154.7 318.7 L 189.6 318.7\" id=\"118,70\"></path><path d=\"M 154.7 327.6 L 154.7 327.6 L 189.6 327.6\" id=\"118,69\"></path><path d=\"M 154.7 327.6 L 154.7 336.4 L 189.6 336.4\" id=\"118,68\"></path><path d=\"M 154.7 345.2 L 154.7 345.2 L 189.6 345.2\" id=\"117,67\"></path><path d=\"M 154.7 358.5 L 154.7 354.1 L 189.6 354.1\" id=\"116,66\"></path><path d=\"M 154.7 358.5 L 154.7 362.9 L 189.6 362.9\" id=\"116,65\"></path><path d=\"M 154.7 380.6 L 154.7 371.8 L 189.6 371.8\" id=\"115,64\"></path><path d=\"M 154.7 380.6 L 154.7 380.6 L 189.6 380.6\" id=\"115,63\"></path><path d=\"M 154.7 380.6 L 154.7 389.5 L 189.6 389.5\" id=\"115,62\"></path><path d=\"M 154.7 407.1 L 154.7 398.3 L 189.6 398.3\" id=\"114,61\"></path><path d=\"M 154.7 407.1 L 154.7 407.1 L 189.6 407.1\" id=\"114,60\"></path><path d=\"M 154.7 407.1 L 154.7 416.0 L 189.6 416.0\" id=\"114,59\"></path><path d=\"M 154.7 438.1 L 154.7 424.8 L 189.6 424.8\" id=\"113,58\"></path><path d=\"M 154.7 438.1 L 154.7 433.7 L 189.6 433.7\" id=\"113,57\"></path><path d=\"M 154.7 438.1 L 154.7 442.5 L 189.6 442.5\" id=\"113,56\"></path><path d=\"M 154.7 438.1 L 154.7 451.4 L 189.6 451.4\" id=\"113,55\"></path><path d=\"M 154.7 473.5 L 154.7 460.2 L 189.6 460.2\" id=\"112,54\"></path><path d=\"M 154.7 473.5 L 154.7 469.0 L 189.6 469.0\" id=\"112,53\"></path><path d=\"M 154.7 473.5 L 154.7 477.9 L 189.6 477.9\" id=\"112,52\"></path><path d=\"M 154.7 473.5 L 154.7 486.7 L 189.6 486.7\" id=\"112,51\"></path><path d=\"M 154.7 508.8 L 154.7 495.6 L 189.6 495.6\" id=\"111,50\"></path><path d=\"M 154.7 508.8 L 154.7 504.4 L 189.6 504.4\" id=\"111,49\"></path><path d=\"M 154.7 508.8 L 154.7 513.3 L 189.6 513.3\" id=\"111,48\"></path><path d=\"M 154.7 508.8 L 154.7 522.1 L 189.6 522.1\" id=\"111,47\"></path><path d=\"M 154.7 544.2 L 154.7 531.0 L 189.6 531.0\" id=\"110,46\"></path><path d=\"M 154.7 544.2 L 154.7 539.8 L 189.6 539.8\" id=\"110,45\"></path><path d=\"M 154.7 544.2 L 154.7 548.6 L 189.6 548.6\" id=\"110,44\"></path><path d=\"M 154.7 544.2 L 154.7 557.5 L 189.6 557.5\" id=\"110,43\"></path><path d=\"M 154.7 584.0 L 154.7 566.3 L 189.6 566.3\" id=\"109,42\"></path><path d=\"M 154.7 584.0 L 154.7 575.2 L 189.6 575.2\" id=\"109,41\"></path><path d=\"M 154.7 584.0 L 154.7 584.0 L 189.6 584.0\" id=\"109,40\"></path><path d=\"M 154.7 584.0 L 154.7 592.9 L 189.6 592.9\" id=\"109,39\"></path><path d=\"M 154.7 584.0 L 154.7 601.7 L 189.6 601.7\" id=\"109,38\"></path><path d=\"M 154.7 623.8 L 154.7 610.5 L 189.6 610.5\" id=\"108,37\"></path><path d=\"M 154.7 623.8 L 154.7 619.4 L 189.6 619.4\" id=\"108,36\"></path><path d=\"M 154.7 623.8 L 154.7 628.2 L 189.6 628.2\" id=\"108,35\"></path><path d=\"M 154.7 623.8 L 154.7 637.1 L 189.6 637.1\" id=\"108,34\"></path><path d=\"M 154.7 654.8 L 154.7 645.9 L 189.6 645.9\" id=\"107,33\"></path><path d=\"M 154.7 654.8 L 154.7 654.8 L 189.6 654.8\" id=\"107,32\"></path><path d=\"M 154.7 654.8 L 154.7 663.6 L 189.6 663.6\" id=\"107,31\"></path><path d=\"M 154.7 685.7 L 154.7 672.4 L 189.6 672.4\" id=\"106,30\"></path><path d=\"M 154.7 685.7 L 154.7 681.3 L 189.6 681.3\" id=\"106,29\"></path><path d=\"M 154.7 685.7 L 154.7 690.1 L 189.6 690.1\" id=\"106,28\"></path><path d=\"M 154.7 685.7 L 154.7 699.0 L 189.6 699.0\" id=\"106,27\"></path><path d=\"M 154.7 707.8 L 154.7 707.8 L 189.6 707.8\" id=\"105,26\"></path><path d=\"M 154.7 729.9 L 154.7 716.7 L 189.6 716.7\" id=\"104,25\"></path><path d=\"M 154.7 729.9 L 154.7 725.5 L 189.6 725.5\" id=\"104,24\"></path><path d=\"M 154.7 729.9 L 154.7 734.3 L 189.6 734.3\" id=\"104,23\"></path><path d=\"M 154.7 729.9 L 154.7 743.2 L 189.6 743.2\" id=\"104,22\"></path><path d=\"M 154.7 765.3 L 154.7 752.0 L 189.6 752.0\" id=\"103,21\"></path><path d=\"M 154.7 765.3 L 154.7 760.9 L 189.6 760.9\" id=\"103,20\"></path><path d=\"M 154.7 765.3 L 154.7 769.7 L 189.6 769.7\" id=\"103,19\"></path><path d=\"M 154.7 765.3 L 154.7 778.6 L 189.6 778.6\" id=\"103,18\"></path><path d=\"M 154.7 805.1 L 154.7 787.4 L 189.6 787.4\" id=\"102,17\"></path><path d=\"M 154.7 805.1 L 154.7 796.3 L 189.6 796.3\" id=\"102,16\"></path><path d=\"M 154.7 805.1 L 154.7 805.1 L 189.6 805.1\" id=\"102,15\"></path><path d=\"M 154.7 805.1 L 154.7 813.9 L 189.6 813.9\" id=\"102,14\"></path><path d=\"M 154.7 805.1 L 154.7 822.8 L 189.6 822.8\" id=\"102,13\"></path><path d=\"M 154.7 853.7 L 154.7 831.6 L 189.6 831.6\" id=\"101,12\"></path><path d=\"M 154.7 853.7 L 154.7 840.5 L 189.6 840.5\" id=\"101,11\"></path><path d=\"M 154.7 853.7 L 154.7 849.3 L 189.6 849.3\" id=\"101,10\"></path><path d=\"M 154.7 853.7 L 154.7 858.2 L 189.6 858.2\" id=\"101,9\"></path><path d=\"M 154.7 853.7 L 154.7 867.0 L 189.6 867.0\" id=\"101,8\"></path><path d=\"M 154.7 853.7 L 154.7 875.8 L 189.6 875.8\" id=\"101,7\"></path><path d=\"M 154.7 911.2 L 154.7 884.7 L 189.6 884.7\" id=\"100,6\"></path><path d=\"M 154.7 911.2 L 154.7 893.5 L 189.6 893.5\" id=\"100,5\"></path><path d=\"M 154.7 911.2 L 154.7 902.4 L 189.6 902.4\" id=\"100,4\"></path><path d=\"M 154.7 911.2 L 154.7 911.2 L 189.6 911.2\" id=\"100,3\"></path><path d=\"M 154.7 911.2 L 154.7 920.1 L 189.6 920.1\" id=\"100,2\"></path><path d=\"M 154.7 911.2 L 154.7 928.9 L 189.6 928.9\" id=\"100,1\"></path><path d=\"M 154.7 911.2 L 154.7 937.7 L 189.6 937.7\" id=\"100,0\"></path></g><g class=\"toytree-AlignEdges\" style=\"stroke:rgb(66.3%,66.3%,66.3%);stroke-dasharray:2, 4;stroke-linecap:round;stroke-opacity:1.0;stroke-width:2\"><path d=\"M 189.6 937.7 L 189.6 937.7\"></path><path d=\"M 189.6 928.9 L 189.6 928.9\"></path><path d=\"M 189.6 920.1 L 189.6 920.1\"></path><path d=\"M 189.6 911.2 L 189.6 911.2\"></path><path d=\"M 189.6 902.4 L 189.6 902.4\"></path><path d=\"M 189.6 893.5 L 189.6 893.5\"></path><path d=\"M 189.6 884.7 L 189.6 884.7\"></path><path d=\"M 189.6 875.8 L 189.6 875.8\"></path><path d=\"M 189.6 867.0 L 189.6 867.0\"></path><path d=\"M 189.6 858.2 L 189.6 858.2\"></path><path d=\"M 189.6 849.3 L 189.6 849.3\"></path><path d=\"M 189.6 840.5 L 189.6 840.5\"></path><path d=\"M 189.6 831.6 L 189.6 831.6\"></path><path d=\"M 189.6 822.8 L 189.6 822.8\"></path><path d=\"M 189.6 813.9 L 189.6 813.9\"></path><path d=\"M 189.6 805.1 L 189.6 805.1\"></path><path d=\"M 189.6 796.3 L 189.6 796.3\"></path><path d=\"M 189.6 787.4 L 189.6 787.4\"></path><path d=\"M 189.6 778.6 L 189.6 778.6\"></path><path d=\"M 189.6 769.7 L 189.6 769.7\"></path><path d=\"M 189.6 760.9 L 189.6 760.9\"></path><path d=\"M 189.6 752.0 L 189.6 752.0\"></path><path d=\"M 189.6 743.2 L 189.6 743.2\"></path><path d=\"M 189.6 734.3 L 189.6 734.3\"></path><path d=\"M 189.6 725.5 L 189.6 725.5\"></path><path d=\"M 189.6 716.7 L 189.6 716.7\"></path><path d=\"M 189.6 707.8 L 189.6 707.8\"></path><path d=\"M 189.6 699.0 L 189.6 699.0\"></path><path d=\"M 189.6 690.1 L 189.6 690.1\"></path><path d=\"M 189.6 681.3 L 189.6 681.3\"></path><path d=\"M 189.6 672.4 L 189.6 672.4\"></path><path d=\"M 189.6 663.6 L 189.6 663.6\"></path><path d=\"M 189.6 654.8 L 189.6 654.8\"></path><path d=\"M 189.6 645.9 L 189.6 645.9\"></path><path d=\"M 189.6 637.1 L 189.6 637.1\"></path><path d=\"M 189.6 628.2 L 189.6 628.2\"></path><path d=\"M 189.6 619.4 L 189.6 619.4\"></path><path d=\"M 189.6 610.5 L 189.6 610.5\"></path><path d=\"M 189.6 601.7 L 189.6 601.7\"></path><path d=\"M 189.6 592.9 L 189.6 592.9\"></path><path d=\"M 189.6 584.0 L 189.6 584.0\"></path><path d=\"M 189.6 575.2 L 189.6 575.2\"></path><path d=\"M 189.6 566.3 L 189.6 566.3\"></path><path d=\"M 189.6 557.5 L 189.6 557.5\"></path><path d=\"M 189.6 548.6 L 189.6 548.6\"></path><path d=\"M 189.6 539.8 L 189.6 539.8\"></path><path d=\"M 189.6 531.0 L 189.6 531.0\"></path><path d=\"M 189.6 522.1 L 189.6 522.1\"></path><path d=\"M 189.6 513.3 L 189.6 513.3\"></path><path d=\"M 189.6 504.4 L 189.6 504.4\"></path><path d=\"M 189.6 495.6 L 189.6 495.6\"></path><path d=\"M 189.6 486.7 L 189.6 486.7\"></path><path d=\"M 189.6 477.9 L 189.6 477.9\"></path><path d=\"M 189.6 469.0 L 189.6 469.0\"></path><path d=\"M 189.6 460.2 L 189.6 460.2\"></path><path d=\"M 189.6 451.4 L 189.6 451.4\"></path><path d=\"M 189.6 442.5 L 189.6 442.5\"></path><path d=\"M 189.6 433.7 L 189.6 433.7\"></path><path d=\"M 189.6 424.8 L 189.6 424.8\"></path><path d=\"M 189.6 416.0 L 189.6 416.0\"></path><path d=\"M 189.6 407.1 L 189.6 407.1\"></path><path d=\"M 189.6 398.3 L 189.6 398.3\"></path><path d=\"M 189.6 389.5 L 189.6 389.5\"></path><path d=\"M 189.6 380.6 L 189.6 380.6\"></path><path d=\"M 189.6 371.8 L 189.6 371.8\"></path><path d=\"M 189.6 362.9 L 189.6 362.9\"></path><path d=\"M 189.6 354.1 L 189.6 354.1\"></path><path d=\"M 189.6 345.2 L 189.6 345.2\"></path><path d=\"M 189.6 336.4 L 189.6 336.4\"></path><path d=\"M 189.6 327.6 L 189.6 327.6\"></path><path d=\"M 189.6 318.7 L 189.6 318.7\"></path><path d=\"M 189.6 309.9 L 189.6 309.9\"></path><path d=\"M 189.6 301.0 L 189.6 301.0\"></path><path d=\"M 189.6 292.2 L 189.6 292.2\"></path><path d=\"M 189.6 283.3 L 189.6 283.3\"></path><path d=\"M 189.6 274.5 L 189.6 274.5\"></path><path d=\"M 189.6 265.7 L 189.6 265.7\"></path><path d=\"M 189.6 256.8 L 189.6 256.8\"></path><path d=\"M 189.6 248.0 L 189.6 248.0\"></path><path d=\"M 189.6 239.1 L 189.6 239.1\"></path><path d=\"M 189.6 230.3 L 189.6 230.3\"></path><path d=\"M 189.6 221.4 L 189.6 221.4\"></path><path d=\"M 189.6 212.6 L 189.6 212.6\"></path><path d=\"M 189.6 203.7 L 189.6 203.7\"></path><path d=\"M 189.6 194.9 L 189.6 194.9\"></path><path d=\"M 189.6 186.1 L 189.6 186.1\"></path><path d=\"M 189.6 177.2 L 189.6 177.2\"></path><path d=\"M 189.6 168.4 L 189.6 168.4\"></path><path d=\"M 189.6 159.5 L 189.6 159.5\"></path><path d=\"M 189.6 150.7 L 189.6 150.7\"></path><path d=\"M 189.6 141.8 L 189.6 141.8\"></path><path d=\"M 189.6 133.0 L 189.6 133.0\"></path><path d=\"M 189.6 124.2 L 189.6 124.2\"></path><path d=\"M 189.6 115.3 L 189.6 115.3\"></path><path d=\"M 189.6 106.5 L 189.6 106.5\"></path><path d=\"M 189.6 97.6 L 189.6 97.6\"></path><path d=\"M 189.6 88.8 L 189.6 88.8\"></path><path d=\"M 189.6 79.9 L 189.6 79.9\"></path><path d=\"M 189.6 71.1 L 189.6 71.1\"></path><path d=\"M 189.6 62.3 L 189.6 62.3\"></path></g><g class=\"toytree-Nodes\" style=\"fill:rgb(40%,76.1%,64.7%);fill-opacity:1.0;stroke:None;stroke-width:1\"><g id=\"node-0\" transform=\"translate(189.622,937.743)\"><circle r=\"0.0\"></circle></g><g id=\"node-1\" transform=\"translate(189.622,928.900)\"><circle r=\"0.0\"></circle></g><g id=\"node-2\" transform=\"translate(189.622,920.057)\"><circle r=\"0.0\"></circle></g><g id=\"node-3\" transform=\"translate(189.622,911.213)\"><circle r=\"0.0\"></circle></g><g id=\"node-4\" transform=\"translate(189.622,902.370)\"><circle r=\"0.0\"></circle></g><g id=\"node-5\" transform=\"translate(189.622,893.527)\"><circle r=\"0.0\"></circle></g><g id=\"node-6\" transform=\"translate(189.622,884.683)\"><circle r=\"0.0\"></circle></g><g id=\"node-7\" transform=\"translate(189.622,875.840)\"><circle r=\"0.0\"></circle></g><g id=\"node-8\" transform=\"translate(189.622,866.997)\"><circle r=\"0.0\"></circle></g><g id=\"node-9\" transform=\"translate(189.622,858.154)\"><circle r=\"0.0\"></circle></g><g id=\"node-10\" transform=\"translate(189.622,849.310)\"><circle r=\"0.0\"></circle></g><g id=\"node-11\" transform=\"translate(189.622,840.467)\"><circle r=\"0.0\"></circle></g><g id=\"node-12\" transform=\"translate(189.622,831.624)\"><circle r=\"0.0\"></circle></g><g id=\"node-13\" transform=\"translate(189.622,822.780)\"><circle r=\"0.0\"></circle></g><g id=\"node-14\" transform=\"translate(189.622,813.937)\"><circle r=\"0.0\"></circle></g><g id=\"node-15\" transform=\"translate(189.622,805.094)\"><circle r=\"0.0\"></circle></g><g id=\"node-16\" transform=\"translate(189.622,796.250)\"><circle r=\"0.0\"></circle></g><g id=\"node-17\" transform=\"translate(189.622,787.407)\"><circle r=\"0.0\"></circle></g><g id=\"node-18\" transform=\"translate(189.622,778.564)\"><circle r=\"0.0\"></circle></g><g id=\"node-19\" transform=\"translate(189.622,769.721)\"><circle r=\"0.0\"></circle></g><g id=\"node-20\" transform=\"translate(189.622,760.877)\"><circle r=\"0.0\"></circle></g><g id=\"node-21\" transform=\"translate(189.622,752.034)\"><circle r=\"0.0\"></circle></g><g id=\"node-22\" transform=\"translate(189.622,743.191)\"><circle r=\"0.0\"></circle></g><g id=\"node-23\" transform=\"translate(189.622,734.347)\"><circle r=\"0.0\"></circle></g><g id=\"node-24\" transform=\"translate(189.622,725.504)\"><circle r=\"0.0\"></circle></g><g id=\"node-25\" transform=\"translate(189.622,716.661)\"><circle r=\"0.0\"></circle></g><g id=\"node-26\" transform=\"translate(189.622,707.817)\"><circle r=\"0.0\"></circle></g><g id=\"node-27\" transform=\"translate(189.622,698.974)\"><circle r=\"0.0\"></circle></g><g id=\"node-28\" transform=\"translate(189.622,690.131)\"><circle r=\"0.0\"></circle></g><g id=\"node-29\" transform=\"translate(189.622,681.288)\"><circle r=\"0.0\"></circle></g><g id=\"node-30\" transform=\"translate(189.622,672.444)\"><circle r=\"0.0\"></circle></g><g id=\"node-31\" transform=\"translate(189.622,663.601)\"><circle r=\"0.0\"></circle></g><g id=\"node-32\" transform=\"translate(189.622,654.758)\"><circle r=\"0.0\"></circle></g><g id=\"node-33\" transform=\"translate(189.622,645.914)\"><circle r=\"0.0\"></circle></g><g id=\"node-34\" transform=\"translate(189.622,637.071)\"><circle r=\"0.0\"></circle></g><g id=\"node-35\" transform=\"translate(189.622,628.228)\"><circle r=\"0.0\"></circle></g><g id=\"node-36\" transform=\"translate(189.622,619.385)\"><circle r=\"0.0\"></circle></g><g id=\"node-37\" transform=\"translate(189.622,610.541)\"><circle r=\"0.0\"></circle></g><g id=\"node-38\" transform=\"translate(189.622,601.698)\"><circle r=\"0.0\"></circle></g><g id=\"node-39\" transform=\"translate(189.622,592.855)\"><circle r=\"0.0\"></circle></g><g id=\"node-40\" transform=\"translate(189.622,584.011)\"><circle r=\"0.0\"></circle></g><g id=\"node-41\" transform=\"translate(189.622,575.168)\"><circle r=\"0.0\"></circle></g><g id=\"node-42\" transform=\"translate(189.622,566.325)\"><circle r=\"0.0\"></circle></g><g id=\"node-43\" transform=\"translate(189.622,557.481)\"><circle r=\"0.0\"></circle></g><g id=\"node-44\" transform=\"translate(189.622,548.638)\"><circle r=\"0.0\"></circle></g><g id=\"node-45\" transform=\"translate(189.622,539.795)\"><circle r=\"0.0\"></circle></g><g id=\"node-46\" transform=\"translate(189.622,530.952)\"><circle r=\"0.0\"></circle></g><g id=\"node-47\" transform=\"translate(189.622,522.108)\"><circle r=\"0.0\"></circle></g><g id=\"node-48\" transform=\"translate(189.622,513.265)\"><circle r=\"0.0\"></circle></g><g id=\"node-49\" transform=\"translate(189.622,504.422)\"><circle r=\"0.0\"></circle></g><g id=\"node-50\" transform=\"translate(189.622,495.578)\"><circle r=\"0.0\"></circle></g><g id=\"node-51\" transform=\"translate(189.622,486.735)\"><circle r=\"0.0\"></circle></g><g id=\"node-52\" transform=\"translate(189.622,477.892)\"><circle r=\"0.0\"></circle></g><g id=\"node-53\" transform=\"translate(189.622,469.048)\"><circle r=\"0.0\"></circle></g><g id=\"node-54\" transform=\"translate(189.622,460.205)\"><circle r=\"0.0\"></circle></g><g id=\"node-55\" transform=\"translate(189.622,451.362)\"><circle r=\"0.0\"></circle></g><g id=\"node-56\" transform=\"translate(189.622,442.519)\"><circle r=\"0.0\"></circle></g><g id=\"node-57\" transform=\"translate(189.622,433.675)\"><circle r=\"0.0\"></circle></g><g id=\"node-58\" transform=\"translate(189.622,424.832)\"><circle r=\"0.0\"></circle></g><g id=\"node-59\" transform=\"translate(189.622,415.989)\"><circle r=\"0.0\"></circle></g><g id=\"node-60\" transform=\"translate(189.622,407.145)\"><circle r=\"0.0\"></circle></g><g id=\"node-61\" transform=\"translate(189.622,398.302)\"><circle r=\"0.0\"></circle></g><g id=\"node-62\" transform=\"translate(189.622,389.459)\"><circle r=\"0.0\"></circle></g><g id=\"node-63\" transform=\"translate(189.622,380.615)\"><circle r=\"0.0\"></circle></g><g id=\"node-64\" transform=\"translate(189.622,371.772)\"><circle r=\"0.0\"></circle></g><g id=\"node-65\" transform=\"translate(189.622,362.929)\"><circle r=\"0.0\"></circle></g><g id=\"node-66\" transform=\"translate(189.622,354.086)\"><circle r=\"0.0\"></circle></g><g id=\"node-67\" transform=\"translate(189.622,345.242)\"><circle r=\"0.0\"></circle></g><g id=\"node-68\" transform=\"translate(189.622,336.399)\"><circle r=\"0.0\"></circle></g><g id=\"node-69\" transform=\"translate(189.622,327.556)\"><circle r=\"0.0\"></circle></g><g id=\"node-70\" transform=\"translate(189.622,318.712)\"><circle r=\"0.0\"></circle></g><g id=\"node-71\" transform=\"translate(189.622,309.869)\"><circle r=\"0.0\"></circle></g><g id=\"node-72\" transform=\"translate(189.622,301.026)\"><circle r=\"0.0\"></circle></g><g id=\"node-73\" transform=\"translate(189.622,292.183)\"><circle r=\"0.0\"></circle></g><g id=\"node-74\" transform=\"translate(189.622,283.339)\"><circle r=\"0.0\"></circle></g><g id=\"node-75\" transform=\"translate(189.622,274.496)\"><circle r=\"0.0\"></circle></g><g id=\"node-76\" transform=\"translate(189.622,265.653)\"><circle r=\"0.0\"></circle></g><g id=\"node-77\" transform=\"translate(189.622,256.809)\"><circle r=\"0.0\"></circle></g><g id=\"node-78\" transform=\"translate(189.622,247.966)\"><circle r=\"0.0\"></circle></g><g id=\"node-79\" transform=\"translate(189.622,239.123)\"><circle r=\"0.0\"></circle></g><g id=\"node-80\" transform=\"translate(189.622,230.279)\"><circle r=\"0.0\"></circle></g><g id=\"node-81\" transform=\"translate(189.622,221.436)\"><circle r=\"0.0\"></circle></g><g id=\"node-82\" transform=\"translate(189.622,212.593)\"><circle r=\"0.0\"></circle></g><g id=\"node-83\" transform=\"translate(189.622,203.750)\"><circle r=\"0.0\"></circle></g><g id=\"node-84\" transform=\"translate(189.622,194.906)\"><circle r=\"0.0\"></circle></g><g id=\"node-85\" transform=\"translate(189.622,186.063)\"><circle r=\"0.0\"></circle></g><g id=\"node-86\" transform=\"translate(189.622,177.220)\"><circle r=\"0.0\"></circle></g><g id=\"node-87\" transform=\"translate(189.622,168.376)\"><circle r=\"0.0\"></circle></g><g id=\"node-88\" transform=\"translate(189.622,159.533)\"><circle r=\"0.0\"></circle></g><g id=\"node-89\" transform=\"translate(189.622,150.690)\"><circle r=\"0.0\"></circle></g><g id=\"node-90\" transform=\"translate(189.622,141.846)\"><circle r=\"0.0\"></circle></g><g id=\"node-91\" transform=\"translate(189.622,133.003)\"><circle r=\"0.0\"></circle></g><g id=\"node-92\" transform=\"translate(189.622,124.160)\"><circle r=\"0.0\"></circle></g><g id=\"node-93\" transform=\"translate(189.622,115.317)\"><circle r=\"0.0\"></circle></g><g id=\"node-94\" transform=\"translate(189.622,106.473)\"><circle r=\"0.0\"></circle></g><g id=\"node-95\" transform=\"translate(189.622,97.630)\"><circle r=\"0.0\"></circle></g><g id=\"node-96\" transform=\"translate(189.622,88.787)\"><circle r=\"0.0\"></circle></g><g id=\"node-97\" transform=\"translate(189.622,79.943)\"><circle r=\"0.0\"></circle></g><g id=\"node-98\" transform=\"translate(189.622,71.100)\"><circle r=\"0.0\"></circle></g><g id=\"node-99\" transform=\"translate(189.622,62.257)\"><circle r=\"0.0\"></circle></g><g id=\"node-100\" transform=\"translate(154.717,911.213)\"><circle r=\"5.0\"></circle></g><g id=\"node-101\" transform=\"translate(154.717,853.732)\"><circle r=\"5.0\"></circle></g><g id=\"node-102\" transform=\"translate(154.717,805.094)\"><circle r=\"5.0\"></circle></g><g id=\"node-103\" transform=\"translate(154.717,765.299)\"><circle r=\"5.0\"></circle></g><g id=\"node-104\" transform=\"translate(154.717,729.926)\"><circle r=\"5.0\"></circle></g><g id=\"node-105\" transform=\"translate(154.717,707.817)\"><circle r=\"5.0\"></circle></g><g id=\"node-106\" transform=\"translate(154.717,685.709)\"><circle r=\"5.0\"></circle></g><g id=\"node-107\" transform=\"translate(154.717,654.758)\"><circle r=\"5.0\"></circle></g><g id=\"node-108\" transform=\"translate(154.717,623.806)\"><circle r=\"5.0\"></circle></g><g id=\"node-109\" transform=\"translate(154.717,584.011)\"><circle r=\"5.0\"></circle></g><g id=\"node-110\" transform=\"translate(154.717,544.216)\"><circle r=\"5.0\"></circle></g><g id=\"node-111\" transform=\"translate(154.717,508.843)\"><circle r=\"5.0\"></circle></g><g id=\"node-112\" transform=\"translate(154.717,473.470)\"><circle r=\"5.0\"></circle></g><g id=\"node-113\" transform=\"translate(154.717,438.097)\"><circle r=\"5.0\"></circle></g><g id=\"node-114\" transform=\"translate(154.717,407.145)\"><circle r=\"5.0\"></circle></g><g id=\"node-115\" transform=\"translate(154.717,380.615)\"><circle r=\"5.0\"></circle></g><g id=\"node-116\" transform=\"translate(154.717,358.507)\"><circle r=\"5.0\"></circle></g><g id=\"node-117\" transform=\"translate(154.717,345.242)\"><circle r=\"5.0\"></circle></g><g id=\"node-118\" transform=\"translate(154.717,327.556)\"><circle r=\"5.0\"></circle></g><g id=\"node-119\" transform=\"translate(154.717,309.869)\"><circle r=\"5.0\"></circle></g><g id=\"node-120\" transform=\"translate(154.717,292.183)\"><circle r=\"5.0\"></circle></g><g id=\"node-121\" transform=\"translate(154.717,252.388)\"><circle r=\"5.0\"></circle></g><g id=\"node-122\" transform=\"translate(154.717,203.750)\"><circle r=\"5.0\"></circle></g><g id=\"node-123\" transform=\"translate(154.717,163.955)\"><circle r=\"5.0\"></circle></g><g id=\"node-124\" transform=\"translate(154.717,137.425)\"><circle r=\"5.0\"></circle></g><g id=\"node-125\" transform=\"translate(154.717,119.738)\"><circle r=\"5.0\"></circle></g><g id=\"node-126\" transform=\"translate(154.717,84.365)\"><circle r=\"5.0\"></circle></g><g id=\"node-127\" transform=\"translate(119.811,856.680)\"><circle r=\"5.0\"></circle></g><g id=\"node-128\" transform=\"translate(119.811,734.347)\"><circle r=\"5.0\"></circle></g><g id=\"node-129\" transform=\"translate(119.811,670.233)\"><circle r=\"5.0\"></circle></g><g id=\"node-130\" transform=\"translate(119.811,623.806)\"><circle r=\"5.0\"></circle></g><g id=\"node-131\" transform=\"translate(119.811,564.114)\"><circle r=\"5.0\"></circle></g><g id=\"node-132\" transform=\"translate(119.811,491.157)\"><circle r=\"5.0\"></circle></g><g id=\"node-133\" transform=\"translate(119.811,422.621)\"><circle r=\"5.0\"></circle></g><g id=\"node-134\" transform=\"translate(119.811,361.455)\"><circle r=\"5.0\"></circle></g><g id=\"node-135\" transform=\"translate(119.811,318.712)\"><circle r=\"5.0\"></circle></g><g id=\"node-136\" transform=\"translate(119.811,292.183)\"><circle r=\"5.0\"></circle></g><g id=\"node-137\" transform=\"translate(119.811,175.451)\"><circle r=\"5.0\"></circle></g><g id=\"node-138\" transform=\"translate(119.811,84.365)\"><circle r=\"5.0\"></circle></g><g id=\"node-139\" transform=\"translate(84.906,721.267)\"><circle r=\"5.0\"></circle></g><g id=\"node-140\" transform=\"translate(84.906,408.374)\"><circle r=\"5.0\"></circle></g><g id=\"node-141\" transform=\"translate(84.906,129.908)\"><circle r=\"5.0\"></circle></g><g id=\"node-142\" transform=\"translate(50.000,419.849)\"><circle r=\"0.0\"></circle></g></g><g class=\"toytree-NodeLabels\" style=\"fill:rgb(14.9%,14.9%,14.9%);fill-opacity:1.0;font-size:9px;stroke:none\"><g transform=\"translate(147.21,913.51)\"><text>100</text></g><g transform=\"translate(147.21,856.03)\"><text>101</text></g><g transform=\"translate(147.21,807.39)\"><text>102</text></g><g transform=\"translate(147.21,767.60)\"><text>103</text></g><g transform=\"translate(147.21,732.23)\"><text>104</text></g><g transform=\"translate(147.21,710.12)\"><text>105</text></g><g transform=\"translate(147.21,688.01)\"><text>106</text></g><g transform=\"translate(147.21,657.06)\"><text>107</text></g><g transform=\"translate(147.21,626.11)\"><text>108</text></g><g transform=\"translate(147.21,586.31)\"><text>109</text></g><g transform=\"translate(147.21,546.52)\"><text>110</text></g><g transform=\"translate(147.21,511.14)\"><text>111</text></g><g transform=\"translate(147.21,475.77)\"><text>112</text></g><g transform=\"translate(147.21,440.40)\"><text>113</text></g><g transform=\"translate(147.21,409.44)\"><text>114</text></g><g transform=\"translate(147.21,382.91)\"><text>115</text></g><g transform=\"translate(147.21,360.81)\"><text>116</text></g><g transform=\"translate(147.21,347.54)\"><text>117</text></g><g transform=\"translate(147.21,329.86)\"><text>118</text></g><g transform=\"translate(147.21,312.17)\"><text>119</text></g><g transform=\"translate(147.21,294.48)\"><text>120</text></g><g transform=\"translate(147.21,254.69)\"><text>121</text></g><g transform=\"translate(147.21,206.05)\"><text>122</text></g><g transform=\"translate(147.21,166.25)\"><text>123</text></g><g transform=\"translate(147.21,139.72)\"><text>124</text></g><g transform=\"translate(147.21,122.04)\"><text>125</text></g><g transform=\"translate(147.21,86.66)\"><text>126</text></g><g transform=\"translate(112.31,858.98)\"><text>127</text></g><g transform=\"translate(112.31,736.65)\"><text>128</text></g><g transform=\"translate(112.31,672.53)\"><text>129</text></g><g transform=\"translate(112.31,626.11)\"><text>130</text></g><g transform=\"translate(112.31,566.41)\"><text>131</text></g><g transform=\"translate(112.31,493.46)\"><text>132</text></g><g transform=\"translate(112.31,424.92)\"><text>133</text></g><g transform=\"translate(112.31,363.75)\"><text>134</text></g><g transform=\"translate(112.31,321.01)\"><text>135</text></g><g transform=\"translate(112.31,294.48)\"><text>136</text></g><g transform=\"translate(112.31,177.75)\"><text>137</text></g><g transform=\"translate(112.31,86.66)\"><text>138</text></g><g transform=\"translate(77.40,723.57)\"><text>139</text></g><g transform=\"translate(77.40,410.67)\"><text>140</text></g><g transform=\"translate(77.40,132.21)\"><text>141</text></g></g><g class=\"toytree-TipLabels\" style=\"fill:rgb(14.9%,14.9%,14.9%);fill-opacity:1.0;font-family:helvetica;font-size:11px;font-weight:normal;stroke:none;white-space:pre\"><g transform=\"translate(189.62,937.74)rotate(0)\"><text x=\"15.00\" y=\"2.81\" style=\"\">0</text></g><g transform=\"translate(189.62,928.90)rotate(0)\"><text x=\"15.00\" y=\"2.81\" style=\"\">1</text></g><g transform=\"translate(189.62,920.06)rotate(0)\"><text x=\"15.00\" y=\"2.81\" style=\"\">2</text></g><g transform=\"translate(189.62,911.21)rotate(0)\"><text x=\"15.00\" y=\"2.81\" style=\"\">3</text></g><g transform=\"translate(189.62,902.37)rotate(0)\"><text x=\"15.00\" y=\"2.81\" style=\"\">4</text></g><g transform=\"translate(189.62,893.53)rotate(0)\"><text x=\"15.00\" y=\"2.81\" style=\"\">5</text></g><g transform=\"translate(189.62,884.68)rotate(0)\"><text x=\"15.00\" y=\"2.81\" style=\"\">6</text></g><g transform=\"translate(189.62,875.84)rotate(0)\"><text x=\"15.00\" y=\"2.81\" style=\"\">7</text></g><g transform=\"translate(189.62,867.00)rotate(0)\"><text x=\"15.00\" y=\"2.81\" style=\"\">8</text></g><g transform=\"translate(189.62,858.15)rotate(0)\"><text x=\"15.00\" y=\"2.81\" style=\"\">9</text></g><g transform=\"translate(189.62,849.31)rotate(0)\"><text x=\"15.00\" y=\"2.81\" style=\"\">10</text></g><g transform=\"translate(189.62,840.47)rotate(0)\"><text x=\"15.00\" y=\"2.81\" style=\"\">11</text></g><g transform=\"translate(189.62,831.62)rotate(0)\"><text x=\"15.00\" y=\"2.81\" style=\"\">12</text></g><g transform=\"translate(189.62,822.78)rotate(0)\"><text x=\"15.00\" y=\"2.81\" style=\"\">13</text></g><g transform=\"translate(189.62,813.94)rotate(0)\"><text x=\"15.00\" y=\"2.81\" style=\"\">14</text></g><g transform=\"translate(189.62,805.09)rotate(0)\"><text x=\"15.00\" y=\"2.81\" style=\"\">15</text></g><g transform=\"translate(189.62,796.25)rotate(0)\"><text x=\"15.00\" y=\"2.81\" style=\"\">16</text></g><g transform=\"translate(189.62,787.41)rotate(0)\"><text x=\"15.00\" y=\"2.81\" style=\"\">17</text></g><g transform=\"translate(189.62,778.56)rotate(0)\"><text x=\"15.00\" y=\"2.81\" style=\"\">18</text></g><g transform=\"translate(189.62,769.72)rotate(0)\"><text x=\"15.00\" y=\"2.81\" style=\"\">19</text></g><g transform=\"translate(189.62,760.88)rotate(0)\"><text x=\"15.00\" y=\"2.81\" style=\"\">20</text></g><g transform=\"translate(189.62,752.03)rotate(0)\"><text x=\"15.00\" y=\"2.81\" style=\"\">21</text></g><g transform=\"translate(189.62,743.19)rotate(0)\"><text x=\"15.00\" y=\"2.81\" style=\"\">22</text></g><g transform=\"translate(189.62,734.35)rotate(0)\"><text x=\"15.00\" y=\"2.81\" style=\"\">23</text></g><g transform=\"translate(189.62,725.50)rotate(0)\"><text x=\"15.00\" y=\"2.81\" style=\"\">24</text></g><g transform=\"translate(189.62,716.66)rotate(0)\"><text x=\"15.00\" y=\"2.81\" style=\"\">25</text></g><g transform=\"translate(189.62,707.82)rotate(0)\"><text x=\"15.00\" y=\"2.81\" style=\"\">26</text></g><g transform=\"translate(189.62,698.97)rotate(0)\"><text x=\"15.00\" y=\"2.81\" style=\"\">27</text></g><g transform=\"translate(189.62,690.13)rotate(0)\"><text x=\"15.00\" y=\"2.81\" style=\"\">28</text></g><g transform=\"translate(189.62,681.29)rotate(0)\"><text x=\"15.00\" y=\"2.81\" style=\"\">29</text></g><g transform=\"translate(189.62,672.44)rotate(0)\"><text x=\"15.00\" y=\"2.81\" style=\"\">30</text></g><g transform=\"translate(189.62,663.60)rotate(0)\"><text x=\"15.00\" y=\"2.81\" style=\"\">31</text></g><g transform=\"translate(189.62,654.76)rotate(0)\"><text x=\"15.00\" y=\"2.81\" style=\"\">32</text></g><g transform=\"translate(189.62,645.91)rotate(0)\"><text x=\"15.00\" y=\"2.81\" style=\"\">33</text></g><g transform=\"translate(189.62,637.07)rotate(0)\"><text x=\"15.00\" y=\"2.81\" style=\"\">34</text></g><g transform=\"translate(189.62,628.23)rotate(0)\"><text x=\"15.00\" y=\"2.81\" style=\"\">35</text></g><g transform=\"translate(189.62,619.38)rotate(0)\"><text x=\"15.00\" y=\"2.81\" style=\"\">36</text></g><g transform=\"translate(189.62,610.54)rotate(0)\"><text x=\"15.00\" y=\"2.81\" style=\"\">37</text></g><g transform=\"translate(189.62,601.70)rotate(0)\"><text x=\"15.00\" y=\"2.81\" style=\"\">38</text></g><g transform=\"translate(189.62,592.85)rotate(0)\"><text x=\"15.00\" y=\"2.81\" style=\"\">39</text></g><g transform=\"translate(189.62,584.01)rotate(0)\"><text x=\"15.00\" y=\"2.81\" style=\"\">40</text></g><g transform=\"translate(189.62,575.17)rotate(0)\"><text x=\"15.00\" y=\"2.81\" style=\"\">41</text></g><g transform=\"translate(189.62,566.32)rotate(0)\"><text x=\"15.00\" y=\"2.81\" style=\"\">42</text></g><g transform=\"translate(189.62,557.48)rotate(0)\"><text x=\"15.00\" y=\"2.81\" style=\"\">43</text></g><g transform=\"translate(189.62,548.64)rotate(0)\"><text x=\"15.00\" y=\"2.81\" style=\"\">44</text></g><g transform=\"translate(189.62,539.79)rotate(0)\"><text x=\"15.00\" y=\"2.81\" style=\"\">45</text></g><g transform=\"translate(189.62,530.95)rotate(0)\"><text x=\"15.00\" y=\"2.81\" style=\"\">46</text></g><g transform=\"translate(189.62,522.11)rotate(0)\"><text x=\"15.00\" y=\"2.81\" style=\"\">47</text></g><g transform=\"translate(189.62,513.26)rotate(0)\"><text x=\"15.00\" y=\"2.81\" style=\"\">48</text></g><g transform=\"translate(189.62,504.42)rotate(0)\"><text x=\"15.00\" y=\"2.81\" style=\"\">49</text></g><g transform=\"translate(189.62,495.58)rotate(0)\"><text x=\"15.00\" y=\"2.81\" style=\"\">50</text></g><g transform=\"translate(189.62,486.74)rotate(0)\"><text x=\"15.00\" y=\"2.81\" style=\"\">51</text></g><g transform=\"translate(189.62,477.89)rotate(0)\"><text x=\"15.00\" y=\"2.81\" style=\"\">52</text></g><g transform=\"translate(189.62,469.05)rotate(0)\"><text x=\"15.00\" y=\"2.81\" style=\"\">53</text></g><g transform=\"translate(189.62,460.21)rotate(0)\"><text x=\"15.00\" y=\"2.81\" style=\"\">54</text></g><g transform=\"translate(189.62,451.36)rotate(0)\"><text x=\"15.00\" y=\"2.81\" style=\"\">55</text></g><g transform=\"translate(189.62,442.52)rotate(0)\"><text x=\"15.00\" y=\"2.81\" style=\"\">56</text></g><g transform=\"translate(189.62,433.68)rotate(0)\"><text x=\"15.00\" y=\"2.81\" style=\"\">57</text></g><g transform=\"translate(189.62,424.83)rotate(0)\"><text x=\"15.00\" y=\"2.81\" style=\"\">58</text></g><g transform=\"translate(189.62,415.99)rotate(0)\"><text x=\"15.00\" y=\"2.81\" style=\"\">59</text></g><g transform=\"translate(189.62,407.15)rotate(0)\"><text x=\"15.00\" y=\"2.81\" style=\"\">60</text></g><g transform=\"translate(189.62,398.30)rotate(0)\"><text x=\"15.00\" y=\"2.81\" style=\"\">61</text></g><g transform=\"translate(189.62,389.46)rotate(0)\"><text x=\"15.00\" y=\"2.81\" style=\"\">62</text></g><g transform=\"translate(189.62,380.62)rotate(0)\"><text x=\"15.00\" y=\"2.81\" style=\"\">63</text></g><g transform=\"translate(189.62,371.77)rotate(0)\"><text x=\"15.00\" y=\"2.81\" style=\"\">64</text></g><g transform=\"translate(189.62,362.93)rotate(0)\"><text x=\"15.00\" y=\"2.81\" style=\"\">65</text></g><g transform=\"translate(189.62,354.09)rotate(0)\"><text x=\"15.00\" y=\"2.81\" style=\"\">66</text></g><g transform=\"translate(189.62,345.24)rotate(0)\"><text x=\"15.00\" y=\"2.81\" style=\"\">67</text></g><g transform=\"translate(189.62,336.40)rotate(0)\"><text x=\"15.00\" y=\"2.81\" style=\"\">68</text></g><g transform=\"translate(189.62,327.56)rotate(0)\"><text x=\"15.00\" y=\"2.81\" style=\"\">69</text></g><g transform=\"translate(189.62,318.71)rotate(0)\"><text x=\"15.00\" y=\"2.81\" style=\"\">70</text></g><g transform=\"translate(189.62,309.87)rotate(0)\"><text x=\"15.00\" y=\"2.81\" style=\"\">71</text></g><g transform=\"translate(189.62,301.03)rotate(0)\"><text x=\"15.00\" y=\"2.81\" style=\"\">72</text></g><g transform=\"translate(189.62,292.18)rotate(0)\"><text x=\"15.00\" y=\"2.81\" style=\"\">73</text></g><g transform=\"translate(189.62,283.34)rotate(0)\"><text x=\"15.00\" y=\"2.81\" style=\"\">74</text></g><g transform=\"translate(189.62,274.50)rotate(0)\"><text x=\"15.00\" y=\"2.81\" style=\"\">75</text></g><g transform=\"translate(189.62,265.65)rotate(0)\"><text x=\"15.00\" y=\"2.81\" style=\"\">76</text></g><g transform=\"translate(189.62,256.81)rotate(0)\"><text x=\"15.00\" y=\"2.81\" style=\"\">77</text></g><g transform=\"translate(189.62,247.97)rotate(0)\"><text x=\"15.00\" y=\"2.81\" style=\"\">78</text></g><g transform=\"translate(189.62,239.12)rotate(0)\"><text x=\"15.00\" y=\"2.81\" style=\"\">79</text></g><g transform=\"translate(189.62,230.28)rotate(0)\"><text x=\"15.00\" y=\"2.81\" style=\"\">80</text></g><g transform=\"translate(189.62,221.44)rotate(0)\"><text x=\"15.00\" y=\"2.81\" style=\"\">81</text></g><g transform=\"translate(189.62,212.59)rotate(0)\"><text x=\"15.00\" y=\"2.81\" style=\"\">82</text></g><g transform=\"translate(189.62,203.75)rotate(0)\"><text x=\"15.00\" y=\"2.81\" style=\"\">83</text></g><g transform=\"translate(189.62,194.91)rotate(0)\"><text x=\"15.00\" y=\"2.81\" style=\"\">84</text></g><g transform=\"translate(189.62,186.06)rotate(0)\"><text x=\"15.00\" y=\"2.81\" style=\"\">85</text></g><g transform=\"translate(189.62,177.22)rotate(0)\"><text x=\"15.00\" y=\"2.81\" style=\"\">86</text></g><g transform=\"translate(189.62,168.38)rotate(0)\"><text x=\"15.00\" y=\"2.81\" style=\"\">87</text></g><g transform=\"translate(189.62,159.53)rotate(0)\"><text x=\"15.00\" y=\"2.81\" style=\"\">88</text></g><g transform=\"translate(189.62,150.69)rotate(0)\"><text x=\"15.00\" y=\"2.81\" style=\"\">89</text></g><g transform=\"translate(189.62,141.85)rotate(0)\"><text x=\"15.00\" y=\"2.81\" style=\"\">90</text></g><g transform=\"translate(189.62,133.00)rotate(0)\"><text x=\"15.00\" y=\"2.81\" style=\"\">91</text></g><g transform=\"translate(189.62,124.16)rotate(0)\"><text x=\"15.00\" y=\"2.81\" style=\"\">92</text></g><g transform=\"translate(189.62,115.32)rotate(0)\"><text x=\"15.00\" y=\"2.81\" style=\"\">93</text></g><g transform=\"translate(189.62,106.47)rotate(0)\"><text x=\"15.00\" y=\"2.81\" style=\"\">94</text></g><g transform=\"translate(189.62,97.63)rotate(0)\"><text x=\"15.00\" y=\"2.81\" style=\"\">95</text></g><g transform=\"translate(189.62,88.79)rotate(0)\"><text x=\"15.00\" y=\"2.81\" style=\"\">96</text></g><g transform=\"translate(189.62,79.94)rotate(0)\"><text x=\"15.00\" y=\"2.81\" style=\"\">97</text></g><g transform=\"translate(189.62,71.10)rotate(0)\"><text x=\"15.00\" y=\"2.81\" style=\"\">98</text></g><g transform=\"translate(189.62,62.26)rotate(0)\"><text x=\"15.00\" y=\"2.81\" style=\"\">99</text></g></g></g></g></g></svg><div class=\"toyplot-behavior\"><script>(function()\n{\nvar modules={};\n})();</script></div></div>"
     },
     "metadata": {},
     "output_type": "display_data"
    }
   ],
   "source": [
    "# Want everything to be reproducible - set a seed at every block\n",
    "np.random.seed(96)\n",
    "p = 100\n",
    "id = 960\n",
    "\n",
    "newick = tgen.generate_tree_levels(p, d)\n",
    "\n",
    "tree = tt.tree(newick)\n",
    "tree.draw(tip_labels_align=True, node_sizes=10, node_labels='idx')"
   ],
   "metadata": {
    "collapsed": false,
    "pycharm": {
     "name": "#%%\n"
    }
   }
  },
  {
   "cell_type": "code",
   "execution_count": 111,
   "outputs": [
    {
     "name": "stdout",
     "output_type": "stream",
     "text": [
      "effect_nodes: [113, 72, 28]\n",
      "effect_leaves: [72, 55, 56, 57, 58, 28]\n",
      "nodes: [113, 72, 28]\n",
      "leaves: [72, 55, 56, 57, 58, 28]\n"
     ]
    }
   ],
   "source": [
    "np.random.seed(6543)\n",
    "effect_nodes, effect_leaves = tgen.get_effect_nodes(\n",
    "    newick,\n",
    "    num_effects=num_effects,\n",
    "    num_leaves=p\n",
    ")\n",
    "\n",
    "print(f\"nodes: {effect_nodes}\")\n",
    "print(f\"leaves: {effect_leaves}\")\n",
    "\n",
    "tlc = [\"red\" if int(i) in effect_leaves else \"blue\" if int(i)==p-1 else \"black\" for i in tree.get_node_values(\"idx\", 1, 1)[-p:]]\n",
    "tlc.reverse()\n",
    "ref_nodes = [p.idx for p in tree.idx_dict[p-1].get_ancestors()][:-1]\n",
    "ref_nodes.append(p-1)\n",
    "\n",
    "canvas = tp.Canvas(width=800, height=1600)\n",
    "ax0 = canvas.cartesian(bounds=(0, 700, 0, 1600), padding=0)\n",
    "tree.draw(\n",
    "    # tip_labels=False,\n",
    "    node_sizes=[15 for i in tree.get_node_values(\"name\", 1, 1)],\n",
    "    node_labels=[x for x in tree.get_node_values(\"idx\", 1, 1)],\n",
    "    node_colors=[\"lightcoral\" if i in effect_nodes else \"lightblue\" if i in ref_nodes else \"lightgrey\" for i in tree.get_node_values(\"idx\", 1, 1)],\n",
    "    node_labels_style={\"font-size\": 8},\n",
    "    width=700,\n",
    "    height=1600,\n",
    "    node_style={\"stroke\": \"black\"},\n",
    "    axes=ax0,\n",
    "    tip_labels=\"name\",\n",
    "    tip_labels_colors=tlc\n",
    ")\n",
    "tp.svg.render(canvas, \"../../paper_stuff/benchmark_tree_100.svg\")"
   ],
   "metadata": {
    "collapsed": false,
    "pycharm": {
     "name": "#%%\n"
    }
   }
  },
  {
   "cell_type": "code",
   "execution_count": 14,
   "outputs": [],
   "source": [
    "np.random.seed(1234)\n",
    "for e in effect_sizes:\n",
    "    for n in num_samples:\n",
    "        for r in range(reps):\n",
    "\n",
    "            mu_0, mu_1 = tgen.generate_mu(\n",
    "                a_abs=a_abs,\n",
    "                num_leaves=p,\n",
    "                effect_nodes=effect_nodes,\n",
    "                effect_leaves=effect_leaves,\n",
    "                effect_size=e,\n",
    "                newick=newick\n",
    "            )\n",
    "\n",
    "            X = pd.DataFrame({\"x_0\": np.repeat([0,1], n)})\n",
    "            Y = np.zeros((n*2, p))\n",
    "            for i in range(n):\n",
    "                Y[i, :] = tgen.generate_one_sample(N, mu_0, theta)\n",
    "                Y[-(i+1), :] = tgen.generate_one_sample(N, mu_1, theta)\n",
    "\n",
    "            X = X.astype(np.float64)\n",
    "            Y = Y.astype(np.float64)\n",
    "\n",
    "            test_data = ad.AnnData(\n",
    "                X=Y,\n",
    "                obs=X,\n",
    "                uns={\n",
    "                    \"tree_newick\": newick,\n",
    "                    \"effect_nodes\": effect_nodes,\n",
    "                    \"effect_leaves\": effect_leaves,\n",
    "                    \"effect_size\": e,\n",
    "                    \"num_samples\": n,\n",
    "                }            )\n",
    "\n",
    "            test_data.write_h5ad(dataset_path + f\"/data_{id}\")\n",
    "            id += 1"
   ],
   "metadata": {
    "collapsed": false,
    "pycharm": {
     "name": "#%%\n"
    }
   }
  },
  {
   "cell_type": "code",
   "execution_count": 14,
   "outputs": [],
   "source": [],
   "metadata": {
    "collapsed": false,
    "pycharm": {
     "name": "#%%\n"
    }
   }
  }
 ],
 "metadata": {
  "kernelspec": {
   "display_name": "Python 3",
   "language": "python",
   "name": "python3"
  },
  "language_info": {
   "codemirror_mode": {
    "name": "ipython",
    "version": 2
   },
   "file_extension": ".py",
   "mimetype": "text/x-python",
   "name": "python",
   "nbconvert_exporter": "python",
   "pygments_lexer": "ipython2",
   "version": "2.7.6"
  }
 },
 "nbformat": 4,
 "nbformat_minor": 0
}