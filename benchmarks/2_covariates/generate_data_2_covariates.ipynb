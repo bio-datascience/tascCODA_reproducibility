{
 "cells": [
  {
   "cell_type": "markdown",
   "metadata": {
    "collapsed": true,
    "pycharm": {
     "name": "#%% md\n"
    }
   },
   "source": [
    "# Generating benchmark data with 2 covariates\n",
    "\n",
    "## p=30"
   ]
  },
  {
   "cell_type": "code",
   "execution_count": 6,
   "outputs": [],
   "source": [
    "import pandas as pd\n",
    "import toytree as tt\n",
    "import numpy as np\n",
    "import anndata as ad\n",
    "import os\n",
    "import toyplot as tp\n",
    "import toyplot.svg\n",
    "import seaborn as sns\n",
    "\n",
    "import benchmarks.scripts.tree_data_generation as tgen"
   ],
   "metadata": {
    "collapsed": false,
    "pycharm": {
     "name": "#%%\n"
    }
   }
  },
  {
   "cell_type": "code",
   "execution_count": 7,
   "outputs": [
    {
     "name": "stdout",
     "output_type": "stream",
     "text": [
      "/Users/johannes.ostner/Documents/PhD/tascCODA/tascCODA_data/benchmarks/2_covariates/datasets\n"
     ]
    }
   ],
   "source": [
    "# tree depth\n",
    "d = 5\n",
    "\n",
    "effect_sizes = [0.3, 0.5, 0.7, 0.9]\n",
    "# number of effects\n",
    "num_effects = 3\n",
    "# baseline parameter scale\n",
    "a_abs = 2\n",
    "\n",
    "# sampling depth\n",
    "N = 10000\n",
    "# dispersion\n",
    "theta = 499\n",
    "# samples per group\n",
    "num_samples = [10]\n",
    "reps = 10\n",
    "\n",
    "\n",
    "# counter through all datasets\n",
    "id = 0\n",
    "dataset_path = os.path.abspath(\"../../../tascCODA_data/benchmarks/2_covariates/datasets/\")\n",
    "print(dataset_path)"
   ],
   "metadata": {
    "collapsed": false,
    "pycharm": {
     "name": "#%%\n"
    }
   }
  },
  {
   "cell_type": "code",
   "execution_count": 8,
   "outputs": [
    {
     "data": {
      "text/plain": "(<toyplot.canvas.Canvas at 0x7fb40b9f0640>,\n <toyplot.coordinates.Cartesian at 0x7fb40b9c8fa0>,\n <toytree.Render.ToytreeMark at 0x7fb40b98adf0>)"
     },
     "execution_count": 8,
     "metadata": {},
     "output_type": "execute_result"
    },
    {
     "data": {
      "text/html": "<div class=\"toyplot\" id=\"tf94e57e5a5d3481c9433a2f4d1d00bed\" style=\"text-align:center\"><svg class=\"toyplot-canvas-Canvas\" xmlns:toyplot=\"http://www.sandia.gov/toyplot\" xmlns:xlink=\"http://www.w3.org/1999/xlink\" xmlns=\"http://www.w3.org/2000/svg\" width=\"260.0px\" height=\"540.0px\" viewBox=\"0 0 260.0 540.0\" preserveAspectRatio=\"xMidYMid meet\" style=\"background-color:transparent;border-color:#292724;border-style:none;border-width:1.0;fill:rgb(16.1%,15.3%,14.1%);fill-opacity:1.0;font-family:Helvetica;font-size:12px;opacity:1.0;stroke:rgb(16.1%,15.3%,14.1%);stroke-opacity:1.0;stroke-width:1.0\" id=\"t83e9a077bae84538854adbd5d4d8d698\"><g class=\"toyplot-coordinates-Cartesian\" id=\"t439a152745294078abf9f911a15fbf1c\"><clipPath id=\"t6c78588774464b72be616b56821f6cd0\"><rect x=\"30.0\" y=\"30.0\" width=\"200.0\" height=\"480.0\"></rect></clipPath><g clip-path=\"url(#t6c78588774464b72be616b56821f6cd0)\"><g class=\"toytree-mark-Toytree\" id=\"t8a33014bbda24155b3c3fe6548d14bef\"><g class=\"toytree-Edges\" style=\"fill:none;stroke:rgb(14.9%,14.9%,14.9%);stroke-linecap:round;stroke-opacity:1;stroke-width:2\"><path d=\"M 50.0 226.7 L 50.0 226.7 L 84.9 226.7\" id=\"42,41\"></path><path d=\"M 84.9 226.7 L 84.9 97.8 L 119.8 97.8\" id=\"41,40\"></path><path d=\"M 84.9 226.7 L 84.9 200.0 L 119.8 200.0\" id=\"41,39\"></path><path d=\"M 84.9 226.7 L 84.9 382.4 L 119.8 382.4\" id=\"41,38\"></path><path d=\"M 119.8 97.8 L 119.8 97.8 L 154.7 97.8\" id=\"40,37\"></path><path d=\"M 119.8 200.0 L 119.8 148.0 L 154.7 148.0\" id=\"39,36\"></path><path d=\"M 119.8 200.0 L 119.8 169.5 L 154.7 169.5\" id=\"39,35\"></path><path d=\"M 119.8 200.0 L 119.8 212.6 L 154.7 212.6\" id=\"39,34\"></path><path d=\"M 119.8 200.0 L 119.8 270.0 L 154.7 270.0\" id=\"39,33\"></path><path d=\"M 119.8 382.4 L 119.8 320.2 L 154.7 320.2\" id=\"38,32\"></path><path d=\"M 119.8 382.4 L 119.8 377.6 L 154.7 377.6\" id=\"38,31\"></path><path d=\"M 119.8 382.4 L 119.8 449.4 L 154.7 449.4\" id=\"38,30\"></path><path d=\"M 154.7 97.8 L 154.7 61.9 L 189.6 61.9\" id=\"37,29\"></path><path d=\"M 154.7 97.8 L 154.7 76.3 L 189.6 76.3\" id=\"37,28\"></path><path d=\"M 154.7 97.8 L 154.7 90.6 L 189.6 90.6\" id=\"37,27\"></path><path d=\"M 154.7 97.8 L 154.7 105.0 L 189.6 105.0\" id=\"37,26\"></path><path d=\"M 154.7 97.8 L 154.7 119.3 L 189.6 119.3\" id=\"37,25\"></path><path d=\"M 154.7 97.8 L 154.7 133.7 L 189.6 133.7\" id=\"37,24\"></path><path d=\"M 154.7 148.0 L 154.7 148.0 L 189.6 148.0\" id=\"36,23\"></path><path d=\"M 154.7 169.5 L 154.7 162.4 L 189.6 162.4\" id=\"35,22\"></path><path d=\"M 154.7 169.5 L 154.7 176.7 L 189.6 176.7\" id=\"35,21\"></path><path d=\"M 154.7 212.6 L 154.7 191.1 L 189.6 191.1\" id=\"34,20\"></path><path d=\"M 154.7 212.6 L 154.7 205.4 L 189.6 205.4\" id=\"34,19\"></path><path d=\"M 154.7 212.6 L 154.7 219.8 L 189.6 219.8\" id=\"34,18\"></path><path d=\"M 154.7 212.6 L 154.7 234.1 L 189.6 234.1\" id=\"34,17\"></path><path d=\"M 154.7 270.0 L 154.7 248.5 L 189.6 248.5\" id=\"33,16\"></path><path d=\"M 154.7 270.0 L 154.7 262.8 L 189.6 262.8\" id=\"33,15\"></path><path d=\"M 154.7 270.0 L 154.7 277.2 L 189.6 277.2\" id=\"33,14\"></path><path d=\"M 154.7 270.0 L 154.7 291.5 L 189.6 291.5\" id=\"33,13\"></path><path d=\"M 154.7 320.2 L 154.7 305.9 L 189.6 305.9\" id=\"32,12\"></path><path d=\"M 154.7 320.2 L 154.7 320.2 L 189.6 320.2\" id=\"32,11\"></path><path d=\"M 154.7 320.2 L 154.7 334.6 L 189.6 334.6\" id=\"32,10\"></path><path d=\"M 154.7 377.6 L 154.7 348.9 L 189.6 348.9\" id=\"31,9\"></path><path d=\"M 154.7 377.6 L 154.7 363.3 L 189.6 363.3\" id=\"31,8\"></path><path d=\"M 154.7 377.6 L 154.7 377.6 L 189.6 377.6\" id=\"31,7\"></path><path d=\"M 154.7 377.6 L 154.7 392.0 L 189.6 392.0\" id=\"31,6\"></path><path d=\"M 154.7 377.6 L 154.7 406.3 L 189.6 406.3\" id=\"31,5\"></path><path d=\"M 154.7 449.4 L 154.7 420.7 L 189.6 420.7\" id=\"30,4\"></path><path d=\"M 154.7 449.4 L 154.7 435.0 L 189.6 435.0\" id=\"30,3\"></path><path d=\"M 154.7 449.4 L 154.7 449.4 L 189.6 449.4\" id=\"30,2\"></path><path d=\"M 154.7 449.4 L 154.7 463.7 L 189.6 463.7\" id=\"30,1\"></path><path d=\"M 154.7 449.4 L 154.7 478.1 L 189.6 478.1\" id=\"30,0\"></path></g><g class=\"toytree-AlignEdges\" style=\"stroke:rgb(66.3%,66.3%,66.3%);stroke-dasharray:2, 4;stroke-linecap:round;stroke-opacity:1.0;stroke-width:2\"><path d=\"M 189.6 478.1 L 189.6 478.1\"></path><path d=\"M 189.6 463.7 L 189.6 463.7\"></path><path d=\"M 189.6 449.4 L 189.6 449.4\"></path><path d=\"M 189.6 435.0 L 189.6 435.0\"></path><path d=\"M 189.6 420.7 L 189.6 420.7\"></path><path d=\"M 189.6 406.3 L 189.6 406.3\"></path><path d=\"M 189.6 392.0 L 189.6 392.0\"></path><path d=\"M 189.6 377.6 L 189.6 377.6\"></path><path d=\"M 189.6 363.3 L 189.6 363.3\"></path><path d=\"M 189.6 348.9 L 189.6 348.9\"></path><path d=\"M 189.6 334.6 L 189.6 334.6\"></path><path d=\"M 189.6 320.2 L 189.6 320.2\"></path><path d=\"M 189.6 305.9 L 189.6 305.9\"></path><path d=\"M 189.6 291.5 L 189.6 291.5\"></path><path d=\"M 189.6 277.2 L 189.6 277.2\"></path><path d=\"M 189.6 262.8 L 189.6 262.8\"></path><path d=\"M 189.6 248.5 L 189.6 248.5\"></path><path d=\"M 189.6 234.1 L 189.6 234.1\"></path><path d=\"M 189.6 219.8 L 189.6 219.8\"></path><path d=\"M 189.6 205.4 L 189.6 205.4\"></path><path d=\"M 189.6 191.1 L 189.6 191.1\"></path><path d=\"M 189.6 176.7 L 189.6 176.7\"></path><path d=\"M 189.6 162.4 L 189.6 162.4\"></path><path d=\"M 189.6 148.0 L 189.6 148.0\"></path><path d=\"M 189.6 133.7 L 189.6 133.7\"></path><path d=\"M 189.6 119.3 L 189.6 119.3\"></path><path d=\"M 189.6 105.0 L 189.6 105.0\"></path><path d=\"M 189.6 90.6 L 189.6 90.6\"></path><path d=\"M 189.6 76.3 L 189.6 76.3\"></path><path d=\"M 189.6 61.9 L 189.6 61.9\"></path></g><g class=\"toytree-Nodes\" style=\"fill:rgb(40%,76.1%,64.7%);fill-opacity:1.0;stroke:None;stroke-width:1\"><g id=\"node-0\" transform=\"translate(189.622,478.083)\"><circle r=\"0.0\"></circle></g><g id=\"node-1\" transform=\"translate(189.622,463.732)\"><circle r=\"0.0\"></circle></g><g id=\"node-2\" transform=\"translate(189.622,449.382)\"><circle r=\"0.0\"></circle></g><g id=\"node-3\" transform=\"translate(189.622,435.031)\"><circle r=\"0.0\"></circle></g><g id=\"node-4\" transform=\"translate(189.622,420.680)\"><circle r=\"0.0\"></circle></g><g id=\"node-5\" transform=\"translate(189.622,406.330)\"><circle r=\"0.0\"></circle></g><g id=\"node-6\" transform=\"translate(189.622,391.979)\"><circle r=\"0.0\"></circle></g><g id=\"node-7\" transform=\"translate(189.622,377.629)\"><circle r=\"0.0\"></circle></g><g id=\"node-8\" transform=\"translate(189.622,363.278)\"><circle r=\"0.0\"></circle></g><g id=\"node-9\" transform=\"translate(189.622,348.928)\"><circle r=\"0.0\"></circle></g><g id=\"node-10\" transform=\"translate(189.622,334.577)\"><circle r=\"0.0\"></circle></g><g id=\"node-11\" transform=\"translate(189.622,320.227)\"><circle r=\"0.0\"></circle></g><g id=\"node-12\" transform=\"translate(189.622,305.876)\"><circle r=\"0.0\"></circle></g><g id=\"node-13\" transform=\"translate(189.622,291.526)\"><circle r=\"0.0\"></circle></g><g id=\"node-14\" transform=\"translate(189.622,277.175)\"><circle r=\"0.0\"></circle></g><g id=\"node-15\" transform=\"translate(189.622,262.825)\"><circle r=\"0.0\"></circle></g><g id=\"node-16\" transform=\"translate(189.622,248.474)\"><circle r=\"0.0\"></circle></g><g id=\"node-17\" transform=\"translate(189.622,234.124)\"><circle r=\"0.0\"></circle></g><g id=\"node-18\" transform=\"translate(189.622,219.773)\"><circle r=\"0.0\"></circle></g><g id=\"node-19\" transform=\"translate(189.622,205.423)\"><circle r=\"0.0\"></circle></g><g id=\"node-20\" transform=\"translate(189.622,191.072)\"><circle r=\"0.0\"></circle></g><g id=\"node-21\" transform=\"translate(189.622,176.722)\"><circle r=\"0.0\"></circle></g><g id=\"node-22\" transform=\"translate(189.622,162.371)\"><circle r=\"0.0\"></circle></g><g id=\"node-23\" transform=\"translate(189.622,148.021)\"><circle r=\"0.0\"></circle></g><g id=\"node-24\" transform=\"translate(189.622,133.670)\"><circle r=\"0.0\"></circle></g><g id=\"node-25\" transform=\"translate(189.622,119.320)\"><circle r=\"0.0\"></circle></g><g id=\"node-26\" transform=\"translate(189.622,104.969)\"><circle r=\"0.0\"></circle></g><g id=\"node-27\" transform=\"translate(189.622,90.618)\"><circle r=\"0.0\"></circle></g><g id=\"node-28\" transform=\"translate(189.622,76.268)\"><circle r=\"0.0\"></circle></g><g id=\"node-29\" transform=\"translate(189.622,61.917)\"><circle r=\"0.0\"></circle></g><g id=\"node-30\" transform=\"translate(154.717,449.382)\"><circle r=\"5.0\"></circle></g><g id=\"node-31\" transform=\"translate(154.717,377.629)\"><circle r=\"5.0\"></circle></g><g id=\"node-32\" transform=\"translate(154.717,320.227)\"><circle r=\"5.0\"></circle></g><g id=\"node-33\" transform=\"translate(154.717,270.000)\"><circle r=\"5.0\"></circle></g><g id=\"node-34\" transform=\"translate(154.717,212.598)\"><circle r=\"5.0\"></circle></g><g id=\"node-35\" transform=\"translate(154.717,169.546)\"><circle r=\"5.0\"></circle></g><g id=\"node-36\" transform=\"translate(154.717,148.021)\"><circle r=\"5.0\"></circle></g><g id=\"node-37\" transform=\"translate(154.717,97.794)\"><circle r=\"5.0\"></circle></g><g id=\"node-38\" transform=\"translate(119.811,382.412)\"><circle r=\"5.0\"></circle></g><g id=\"node-39\" transform=\"translate(119.811,200.041)\"><circle r=\"5.0\"></circle></g><g id=\"node-40\" transform=\"translate(119.811,97.794)\"><circle r=\"5.0\"></circle></g><g id=\"node-41\" transform=\"translate(84.906,226.749)\"><circle r=\"5.0\"></circle></g><g id=\"node-42\" transform=\"translate(50.000,226.749)\"><circle r=\"0.0\"></circle></g></g><g class=\"toytree-NodeLabels\" style=\"fill:rgb(14.9%,14.9%,14.9%);fill-opacity:1.0;font-size:9px;stroke:none\"><g transform=\"translate(149.71,451.68)\"><text>30</text></g><g transform=\"translate(149.71,379.93)\"><text>31</text></g><g transform=\"translate(149.71,322.53)\"><text>32</text></g><g transform=\"translate(149.71,272.30)\"><text>33</text></g><g transform=\"translate(149.71,214.90)\"><text>34</text></g><g transform=\"translate(149.71,171.85)\"><text>35</text></g><g transform=\"translate(149.71,150.32)\"><text>36</text></g><g transform=\"translate(149.71,100.09)\"><text>37</text></g><g transform=\"translate(114.81,384.71)\"><text>38</text></g><g transform=\"translate(114.81,202.34)\"><text>39</text></g><g transform=\"translate(114.81,100.09)\"><text>40</text></g><g transform=\"translate(79.90,229.05)\"><text>41</text></g></g><g class=\"toytree-TipLabels\" style=\"fill:rgb(14.9%,14.9%,14.9%);fill-opacity:1.0;font-family:helvetica;font-size:11px;font-weight:normal;stroke:none;white-space:pre\"><g transform=\"translate(189.62,478.08)rotate(0)\"><text x=\"15.00\" y=\"2.81\" style=\"\">0</text></g><g transform=\"translate(189.62,463.73)rotate(0)\"><text x=\"15.00\" y=\"2.81\" style=\"\">1</text></g><g transform=\"translate(189.62,449.38)rotate(0)\"><text x=\"15.00\" y=\"2.81\" style=\"\">2</text></g><g transform=\"translate(189.62,435.03)rotate(0)\"><text x=\"15.00\" y=\"2.81\" style=\"\">3</text></g><g transform=\"translate(189.62,420.68)rotate(0)\"><text x=\"15.00\" y=\"2.81\" style=\"\">4</text></g><g transform=\"translate(189.62,406.33)rotate(0)\"><text x=\"15.00\" y=\"2.81\" style=\"\">5</text></g><g transform=\"translate(189.62,391.98)rotate(0)\"><text x=\"15.00\" y=\"2.81\" style=\"\">6</text></g><g transform=\"translate(189.62,377.63)rotate(0)\"><text x=\"15.00\" y=\"2.81\" style=\"\">7</text></g><g transform=\"translate(189.62,363.28)rotate(0)\"><text x=\"15.00\" y=\"2.81\" style=\"\">8</text></g><g transform=\"translate(189.62,348.93)rotate(0)\"><text x=\"15.00\" y=\"2.81\" style=\"\">9</text></g><g transform=\"translate(189.62,334.58)rotate(0)\"><text x=\"15.00\" y=\"2.81\" style=\"\">10</text></g><g transform=\"translate(189.62,320.23)rotate(0)\"><text x=\"15.00\" y=\"2.81\" style=\"\">11</text></g><g transform=\"translate(189.62,305.88)rotate(0)\"><text x=\"15.00\" y=\"2.81\" style=\"\">12</text></g><g transform=\"translate(189.62,291.53)rotate(0)\"><text x=\"15.00\" y=\"2.81\" style=\"\">13</text></g><g transform=\"translate(189.62,277.18)rotate(0)\"><text x=\"15.00\" y=\"2.81\" style=\"\">14</text></g><g transform=\"translate(189.62,262.82)rotate(0)\"><text x=\"15.00\" y=\"2.81\" style=\"\">15</text></g><g transform=\"translate(189.62,248.47)rotate(0)\"><text x=\"15.00\" y=\"2.81\" style=\"\">16</text></g><g transform=\"translate(189.62,234.12)rotate(0)\"><text x=\"15.00\" y=\"2.81\" style=\"\">17</text></g><g transform=\"translate(189.62,219.77)rotate(0)\"><text x=\"15.00\" y=\"2.81\" style=\"\">18</text></g><g transform=\"translate(189.62,205.42)rotate(0)\"><text x=\"15.00\" y=\"2.81\" style=\"\">19</text></g><g transform=\"translate(189.62,191.07)rotate(0)\"><text x=\"15.00\" y=\"2.81\" style=\"\">20</text></g><g transform=\"translate(189.62,176.72)rotate(0)\"><text x=\"15.00\" y=\"2.81\" style=\"\">21</text></g><g transform=\"translate(189.62,162.37)rotate(0)\"><text x=\"15.00\" y=\"2.81\" style=\"\">22</text></g><g transform=\"translate(189.62,148.02)rotate(0)\"><text x=\"15.00\" y=\"2.81\" style=\"\">23</text></g><g transform=\"translate(189.62,133.67)rotate(0)\"><text x=\"15.00\" y=\"2.81\" style=\"\">24</text></g><g transform=\"translate(189.62,119.32)rotate(0)\"><text x=\"15.00\" y=\"2.81\" style=\"\">25</text></g><g transform=\"translate(189.62,104.97)rotate(0)\"><text x=\"15.00\" y=\"2.81\" style=\"\">26</text></g><g transform=\"translate(189.62,90.62)rotate(0)\"><text x=\"15.00\" y=\"2.81\" style=\"\">27</text></g><g transform=\"translate(189.62,76.27)rotate(0)\"><text x=\"15.00\" y=\"2.81\" style=\"\">28</text></g><g transform=\"translate(189.62,61.92)rotate(0)\"><text x=\"15.00\" y=\"2.81\" style=\"\">29</text></g></g></g></g></g></svg><div class=\"toyplot-behavior\"><script>(function()\n{\nvar modules={};\n})();</script></div></div>"
     },
     "metadata": {},
     "output_type": "display_data"
    }
   ],
   "source": [
    "# Want everything to be reproducible - set a seed at every block\n",
    "np.random.seed(96)\n",
    "p = 30\n",
    "id = 0\n",
    "\n",
    "newick = tgen.generate_tree_levels(p, d)\n",
    "\n",
    "tree = tt.tree(newick)\n",
    "tree.draw(tip_labels_align=True, node_sizes=10, node_labels='idx')"
   ],
   "metadata": {
    "collapsed": false,
    "pycharm": {
     "name": "#%%\n"
    }
   }
  },
  {
   "cell_type": "code",
   "execution_count": 9,
   "outputs": [
    {
     "name": "stdout",
     "output_type": "stream",
     "text": [
      "effect_nodes: [33, 7, 0]\n",
      "effect_leaves: [0, 7, 13, 14, 15, 16]\n",
      "nodes: [33, 7, 0]\n",
      "leaves: [0, 7, 13, 14, 15, 16]\n"
     ]
    },
    {
     "data": {
      "text/plain": "(None,\n <toyplot.coordinates.Cartesian at 0x7fb40b999250>,\n <toytree.Render.ToytreeMark at 0x7fb40b997fa0>)"
     },
     "execution_count": 9,
     "metadata": {},
     "output_type": "execute_result"
    },
    {
     "data": {
      "text/html": "<div class=\"toyplot\" id=\"te7a8c3a1cdc744e9a53d3c2a9f6c8d5b\" style=\"text-align:center\"><svg class=\"toyplot-canvas-Canvas\" xmlns:toyplot=\"http://www.sandia.gov/toyplot\" xmlns:xlink=\"http://www.w3.org/1999/xlink\" xmlns=\"http://www.w3.org/2000/svg\" width=\"800.0px\" height=\"1600.0px\" viewBox=\"0 0 800.0 1600.0\" preserveAspectRatio=\"xMidYMid meet\" style=\"background-color:transparent;border-color:#292724;border-style:none;border-width:1.0;fill:rgb(16.1%,15.3%,14.1%);fill-opacity:1.0;font-family:Helvetica;font-size:12px;opacity:1.0;stroke:rgb(16.1%,15.3%,14.1%);stroke-opacity:1.0;stroke-width:1.0\" id=\"t743975461ef5444b8680847e47250f99\"><g class=\"toyplot-coordinates-Cartesian\" id=\"t5e66023616004656b8470727c1ef0060\"><clipPath id=\"t0cc52af5c4d5402db5051cd638ad8c43\"><rect x=\"-20.0\" y=\"-20.0\" width=\"740.0\" height=\"1640.0\"></rect></clipPath><g clip-path=\"url(#t0cc52af5c4d5402db5051cd638ad8c43)\"><g class=\"toytree-mark-Toytree\" id=\"t91c49a04d2c0448fa858fec37f84dcd2\"><g class=\"toytree-Edges\" style=\"fill:none;stroke:rgb(14.9%,14.9%,14.9%);stroke-linecap:round;stroke-opacity:1;stroke-width:2\"><path d=\"M 18.8 658.0 L 18.8 658.0 L 183.6 658.0\" id=\"42,41\"></path><path d=\"M 183.6 658.0 L 183.6 184.4 L 348.4 184.4\" id=\"41,40\"></path><path d=\"M 183.6 658.0 L 183.6 559.9 L 348.4 559.9\" id=\"41,39\"></path><path d=\"M 183.6 658.0 L 183.6 1229.6 L 348.4 1229.6\" id=\"41,38\"></path><path d=\"M 348.4 184.4 L 348.4 184.4 L 513.2 184.4\" id=\"40,37\"></path><path d=\"M 348.4 559.9 L 348.4 368.9 L 513.2 368.9\" id=\"39,36\"></path><path d=\"M 348.4 559.9 L 348.4 447.9 L 513.2 447.9\" id=\"39,35\"></path><path d=\"M 348.4 559.9 L 348.4 606.0 L 513.2 606.0\" id=\"39,34\"></path><path d=\"M 348.4 559.9 L 348.4 816.8 L 513.2 816.8\" id=\"39,33\"></path><path d=\"M 348.4 1229.6 L 348.4 1001.2 L 513.2 1001.2\" id=\"38,32\"></path><path d=\"M 348.4 1229.6 L 348.4 1212.0 L 513.2 1212.0\" id=\"38,31\"></path><path d=\"M 348.4 1229.6 L 348.4 1475.5 L 513.2 1475.5\" id=\"38,30\"></path><path d=\"M 513.2 184.4 L 513.2 52.7 L 678.0 52.7\" id=\"37,29\"></path><path d=\"M 513.2 184.4 L 513.2 105.4 L 678.0 105.4\" id=\"37,28\"></path><path d=\"M 513.2 184.4 L 513.2 158.1 L 678.0 158.1\" id=\"37,27\"></path><path d=\"M 513.2 184.4 L 513.2 210.8 L 678.0 210.8\" id=\"37,26\"></path><path d=\"M 513.2 184.4 L 513.2 263.5 L 678.0 263.5\" id=\"37,25\"></path><path d=\"M 513.2 184.4 L 513.2 316.2 L 678.0 316.2\" id=\"37,24\"></path><path d=\"M 513.2 368.9 L 513.2 368.9 L 678.0 368.9\" id=\"36,23\"></path><path d=\"M 513.2 447.9 L 513.2 421.6 L 678.0 421.6\" id=\"35,22\"></path><path d=\"M 513.2 447.9 L 513.2 474.3 L 678.0 474.3\" id=\"35,21\"></path><path d=\"M 513.2 606.0 L 513.2 527.0 L 678.0 527.0\" id=\"34,20\"></path><path d=\"M 513.2 606.0 L 513.2 579.7 L 678.0 579.7\" id=\"34,19\"></path><path d=\"M 513.2 606.0 L 513.2 632.4 L 678.0 632.4\" id=\"34,18\"></path><path d=\"M 513.2 606.0 L 513.2 685.1 L 678.0 685.1\" id=\"34,17\"></path><path d=\"M 513.2 816.8 L 513.2 737.8 L 678.0 737.8\" id=\"33,16\"></path><path d=\"M 513.2 816.8 L 513.2 790.4 L 678.0 790.4\" id=\"33,15\"></path><path d=\"M 513.2 816.8 L 513.2 843.1 L 678.0 843.1\" id=\"33,14\"></path><path d=\"M 513.2 816.8 L 513.2 895.8 L 678.0 895.8\" id=\"33,13\"></path><path d=\"M 513.2 1001.2 L 513.2 948.5 L 678.0 948.5\" id=\"32,12\"></path><path d=\"M 513.2 1001.2 L 513.2 1001.2 L 678.0 1001.2\" id=\"32,11\"></path><path d=\"M 513.2 1001.2 L 513.2 1053.9 L 678.0 1053.9\" id=\"32,10\"></path><path d=\"M 513.2 1212.0 L 513.2 1106.6 L 678.0 1106.6\" id=\"31,9\"></path><path d=\"M 513.2 1212.0 L 513.2 1159.3 L 678.0 1159.3\" id=\"31,8\"></path><path d=\"M 513.2 1212.0 L 513.2 1212.0 L 678.0 1212.0\" id=\"31,7\"></path><path d=\"M 513.2 1212.0 L 513.2 1264.7 L 678.0 1264.7\" id=\"31,6\"></path><path d=\"M 513.2 1212.0 L 513.2 1317.4 L 678.0 1317.4\" id=\"31,5\"></path><path d=\"M 513.2 1475.5 L 513.2 1370.1 L 678.0 1370.1\" id=\"30,4\"></path><path d=\"M 513.2 1475.5 L 513.2 1422.8 L 678.0 1422.8\" id=\"30,3\"></path><path d=\"M 513.2 1475.5 L 513.2 1475.5 L 678.0 1475.5\" id=\"30,2\"></path><path d=\"M 513.2 1475.5 L 513.2 1528.2 L 678.0 1528.2\" id=\"30,1\"></path><path d=\"M 513.2 1475.5 L 513.2 1580.9 L 678.0 1580.9\" id=\"30,0\"></path></g><g class=\"toytree-Nodes\" style=\"fill:rgb(40%,76.1%,64.7%);fill-opacity:1.0;stroke:rgb(0%,0%,0%);stroke-opacity:1.0;stroke-width:1\"><g fill=\"rgb(94.1%,50.2%,50.2%)\" fill-opacity=\"1.0\" id=\"node-0\" transform=\"translate(678.010,1580.897)\"><circle r=\"10.0\"></circle></g><g fill=\"rgb(82.7%,82.7%,82.7%)\" fill-opacity=\"1.0\" id=\"node-1\" transform=\"translate(678.010,1528.201)\"><circle r=\"10.0\"></circle></g><g fill=\"rgb(82.7%,82.7%,82.7%)\" fill-opacity=\"1.0\" id=\"node-2\" transform=\"translate(678.010,1475.504)\"><circle r=\"10.0\"></circle></g><g fill=\"rgb(82.7%,82.7%,82.7%)\" fill-opacity=\"1.0\" id=\"node-3\" transform=\"translate(678.010,1422.808)\"><circle r=\"10.0\"></circle></g><g fill=\"rgb(82.7%,82.7%,82.7%)\" fill-opacity=\"1.0\" id=\"node-4\" transform=\"translate(678.010,1370.111)\"><circle r=\"10.0\"></circle></g><g fill=\"rgb(82.7%,82.7%,82.7%)\" fill-opacity=\"1.0\" id=\"node-5\" transform=\"translate(678.010,1317.415)\"><circle r=\"10.0\"></circle></g><g fill=\"rgb(82.7%,82.7%,82.7%)\" fill-opacity=\"1.0\" id=\"node-6\" transform=\"translate(678.010,1264.718)\"><circle r=\"10.0\"></circle></g><g fill=\"rgb(94.1%,50.2%,50.2%)\" fill-opacity=\"1.0\" id=\"node-7\" transform=\"translate(678.010,1212.021)\"><circle r=\"10.0\"></circle></g><g fill=\"rgb(82.7%,82.7%,82.7%)\" fill-opacity=\"1.0\" id=\"node-8\" transform=\"translate(678.010,1159.325)\"><circle r=\"10.0\"></circle></g><g fill=\"rgb(82.7%,82.7%,82.7%)\" fill-opacity=\"1.0\" id=\"node-9\" transform=\"translate(678.010,1106.628)\"><circle r=\"10.0\"></circle></g><g fill=\"rgb(82.7%,82.7%,82.7%)\" fill-opacity=\"1.0\" id=\"node-10\" transform=\"translate(678.010,1053.932)\"><circle r=\"10.0\"></circle></g><g fill=\"rgb(82.7%,82.7%,82.7%)\" fill-opacity=\"1.0\" id=\"node-11\" transform=\"translate(678.010,1001.235)\"><circle r=\"10.0\"></circle></g><g fill=\"rgb(82.7%,82.7%,82.7%)\" fill-opacity=\"1.0\" id=\"node-12\" transform=\"translate(678.010,948.538)\"><circle r=\"10.0\"></circle></g><g fill=\"rgb(82.7%,82.7%,82.7%)\" fill-opacity=\"1.0\" id=\"node-13\" transform=\"translate(678.010,895.842)\"><circle r=\"10.0\"></circle></g><g fill=\"rgb(82.7%,82.7%,82.7%)\" fill-opacity=\"1.0\" id=\"node-14\" transform=\"translate(678.010,843.145)\"><circle r=\"10.0\"></circle></g><g fill=\"rgb(82.7%,82.7%,82.7%)\" fill-opacity=\"1.0\" id=\"node-15\" transform=\"translate(678.010,790.449)\"><circle r=\"10.0\"></circle></g><g fill=\"rgb(82.7%,82.7%,82.7%)\" fill-opacity=\"1.0\" id=\"node-16\" transform=\"translate(678.010,737.752)\"><circle r=\"10.0\"></circle></g><g fill=\"rgb(82.7%,82.7%,82.7%)\" fill-opacity=\"1.0\" id=\"node-17\" transform=\"translate(678.010,685.056)\"><circle r=\"10.0\"></circle></g><g fill=\"rgb(82.7%,82.7%,82.7%)\" fill-opacity=\"1.0\" id=\"node-18\" transform=\"translate(678.010,632.359)\"><circle r=\"10.0\"></circle></g><g fill=\"rgb(82.7%,82.7%,82.7%)\" fill-opacity=\"1.0\" id=\"node-19\" transform=\"translate(678.010,579.662)\"><circle r=\"10.0\"></circle></g><g fill=\"rgb(82.7%,82.7%,82.7%)\" fill-opacity=\"1.0\" id=\"node-20\" transform=\"translate(678.010,526.966)\"><circle r=\"10.0\"></circle></g><g fill=\"rgb(82.7%,82.7%,82.7%)\" fill-opacity=\"1.0\" id=\"node-21\" transform=\"translate(678.010,474.269)\"><circle r=\"10.0\"></circle></g><g fill=\"rgb(82.7%,82.7%,82.7%)\" fill-opacity=\"1.0\" id=\"node-22\" transform=\"translate(678.010,421.573)\"><circle r=\"10.0\"></circle></g><g fill=\"rgb(82.7%,82.7%,82.7%)\" fill-opacity=\"1.0\" id=\"node-23\" transform=\"translate(678.010,368.876)\"><circle r=\"10.0\"></circle></g><g fill=\"rgb(82.7%,82.7%,82.7%)\" fill-opacity=\"1.0\" id=\"node-24\" transform=\"translate(678.010,316.179)\"><circle r=\"10.0\"></circle></g><g fill=\"rgb(82.7%,82.7%,82.7%)\" fill-opacity=\"1.0\" id=\"node-25\" transform=\"translate(678.010,263.483)\"><circle r=\"10.0\"></circle></g><g fill=\"rgb(82.7%,82.7%,82.7%)\" fill-opacity=\"1.0\" id=\"node-26\" transform=\"translate(678.010,210.786)\"><circle r=\"10.0\"></circle></g><g fill=\"rgb(82.7%,82.7%,82.7%)\" fill-opacity=\"1.0\" id=\"node-27\" transform=\"translate(678.010,158.090)\"><circle r=\"10.0\"></circle></g><g fill=\"rgb(82.7%,82.7%,82.7%)\" fill-opacity=\"1.0\" id=\"node-28\" transform=\"translate(678.010,105.393)\"><circle r=\"10.0\"></circle></g><g fill=\"rgb(67.8%,84.7%,90.2%)\" fill-opacity=\"1.0\" id=\"node-29\" transform=\"translate(678.010,52.697)\"><circle r=\"10.0\"></circle></g><g fill=\"rgb(82.7%,82.7%,82.7%)\" fill-opacity=\"1.0\" id=\"node-30\" transform=\"translate(513.216,1475.504)\"><circle r=\"10.0\"></circle></g><g fill=\"rgb(82.7%,82.7%,82.7%)\" fill-opacity=\"1.0\" id=\"node-31\" transform=\"translate(513.216,1212.021)\"><circle r=\"10.0\"></circle></g><g fill=\"rgb(82.7%,82.7%,82.7%)\" fill-opacity=\"1.0\" id=\"node-32\" transform=\"translate(513.216,1001.235)\"><circle r=\"10.0\"></circle></g><g fill=\"rgb(94.1%,50.2%,50.2%)\" fill-opacity=\"1.0\" id=\"node-33\" transform=\"translate(513.216,816.797)\"><circle r=\"10.0\"></circle></g><g fill=\"rgb(82.7%,82.7%,82.7%)\" fill-opacity=\"1.0\" id=\"node-34\" transform=\"translate(513.216,606.011)\"><circle r=\"10.0\"></circle></g><g fill=\"rgb(82.7%,82.7%,82.7%)\" fill-opacity=\"1.0\" id=\"node-35\" transform=\"translate(513.216,447.921)\"><circle r=\"10.0\"></circle></g><g fill=\"rgb(82.7%,82.7%,82.7%)\" fill-opacity=\"1.0\" id=\"node-36\" transform=\"translate(513.216,368.876)\"><circle r=\"10.0\"></circle></g><g fill=\"rgb(67.8%,84.7%,90.2%)\" fill-opacity=\"1.0\" id=\"node-37\" transform=\"translate(513.216,184.438)\"><circle r=\"10.0\"></circle></g><g fill=\"rgb(82.7%,82.7%,82.7%)\" fill-opacity=\"1.0\" id=\"node-38\" transform=\"translate(348.422,1229.587)\"><circle r=\"10.0\"></circle></g><g fill=\"rgb(82.7%,82.7%,82.7%)\" fill-opacity=\"1.0\" id=\"node-39\" transform=\"translate(348.422,559.901)\"><circle r=\"10.0\"></circle></g><g fill=\"rgb(67.8%,84.7%,90.2%)\" fill-opacity=\"1.0\" id=\"node-40\" transform=\"translate(348.422,184.438)\"><circle r=\"10.0\"></circle></g><g fill=\"rgb(67.8%,84.7%,90.2%)\" fill-opacity=\"1.0\" id=\"node-41\" transform=\"translate(183.628,657.975)\"><circle r=\"10.0\"></circle></g><g fill=\"rgb(82.7%,82.7%,82.7%)\" fill-opacity=\"1.0\" id=\"node-42\" transform=\"translate(18.834,657.975)\"><circle r=\"10.0\"></circle></g></g><g class=\"toytree-NodeLabels\" style=\"fill:rgb(14.9%,14.9%,14.9%);fill-opacity:1.0;font-size:10;stroke:none\"><g transform=\"translate(675.23,1583.45)\"><text>0</text></g><g transform=\"translate(675.23,1530.76)\"><text>1</text></g><g transform=\"translate(675.23,1478.06)\"><text>2</text></g><g transform=\"translate(675.23,1425.36)\"><text>3</text></g><g transform=\"translate(675.23,1372.67)\"><text>4</text></g><g transform=\"translate(675.23,1319.97)\"><text>5</text></g><g transform=\"translate(675.23,1267.27)\"><text>6</text></g><g transform=\"translate(675.23,1214.58)\"><text>7</text></g><g transform=\"translate(675.23,1161.88)\"><text>8</text></g><g transform=\"translate(675.23,1109.18)\"><text>9</text></g><g transform=\"translate(672.45,1056.49)\"><text>10</text></g><g transform=\"translate(672.45,1003.79)\"><text>11</text></g><g transform=\"translate(672.45,951.09)\"><text>12</text></g><g transform=\"translate(672.45,898.40)\"><text>13</text></g><g transform=\"translate(672.45,845.70)\"><text>14</text></g><g transform=\"translate(672.45,793.00)\"><text>15</text></g><g transform=\"translate(672.45,740.31)\"><text>16</text></g><g transform=\"translate(672.45,687.61)\"><text>17</text></g><g transform=\"translate(672.45,634.91)\"><text>18</text></g><g transform=\"translate(672.45,582.22)\"><text>19</text></g><g transform=\"translate(672.45,529.52)\"><text>20</text></g><g transform=\"translate(672.45,476.82)\"><text>21</text></g><g transform=\"translate(672.45,424.13)\"><text>22</text></g><g transform=\"translate(672.45,371.43)\"><text>23</text></g><g transform=\"translate(672.45,318.73)\"><text>24</text></g><g transform=\"translate(672.45,266.04)\"><text>25</text></g><g transform=\"translate(672.45,213.34)\"><text>26</text></g><g transform=\"translate(672.45,160.64)\"><text>27</text></g><g transform=\"translate(672.45,107.95)\"><text>28</text></g><g transform=\"translate(672.45,55.25)\"><text>29</text></g><g transform=\"translate(507.66,1478.06)\"><text>30</text></g><g transform=\"translate(507.66,1214.58)\"><text>31</text></g><g transform=\"translate(507.66,1003.79)\"><text>32</text></g><g transform=\"translate(507.66,819.35)\"><text>33</text></g><g transform=\"translate(507.66,608.57)\"><text>34</text></g><g transform=\"translate(507.66,450.48)\"><text>35</text></g><g transform=\"translate(507.66,371.43)\"><text>36</text></g><g transform=\"translate(507.66,186.99)\"><text>37</text></g><g transform=\"translate(342.86,1232.14)\"><text>38</text></g><g transform=\"translate(342.86,562.46)\"><text>39</text></g><g transform=\"translate(342.86,186.99)\"><text>40</text></g><g transform=\"translate(178.07,660.53)\"><text>41</text></g><g transform=\"translate(13.27,660.53)\"><text>42</text></g></g><g class=\"toytree-TipLabels\" style=\"fill:rgb(14.9%,14.9%,14.9%);fill-opacity:1.0;font-family:helvetica;font-size:11px;font-weight:normal;stroke:none;white-space:pre\"><g transform=\"translate(678.01,1580.90)rotate(0)\"><text x=\"15.00\" y=\"2.81\" style=\"fill:rgb(100%,0%,0%);fill-opacity:1.0\">0</text></g><g transform=\"translate(678.01,1528.20)rotate(0)\"><text x=\"15.00\" y=\"2.81\" style=\"fill:rgb(0%,0%,0%);fill-opacity:1.0\">1</text></g><g transform=\"translate(678.01,1475.50)rotate(0)\"><text x=\"15.00\" y=\"2.81\" style=\"fill:rgb(0%,0%,0%);fill-opacity:1.0\">2</text></g><g transform=\"translate(678.01,1422.81)rotate(0)\"><text x=\"15.00\" y=\"2.81\" style=\"fill:rgb(0%,0%,0%);fill-opacity:1.0\">3</text></g><g transform=\"translate(678.01,1370.11)rotate(0)\"><text x=\"15.00\" y=\"2.81\" style=\"fill:rgb(0%,0%,0%);fill-opacity:1.0\">4</text></g><g transform=\"translate(678.01,1317.41)rotate(0)\"><text x=\"15.00\" y=\"2.81\" style=\"fill:rgb(0%,0%,0%);fill-opacity:1.0\">5</text></g><g transform=\"translate(678.01,1264.72)rotate(0)\"><text x=\"15.00\" y=\"2.81\" style=\"fill:rgb(0%,0%,0%);fill-opacity:1.0\">6</text></g><g transform=\"translate(678.01,1212.02)rotate(0)\"><text x=\"15.00\" y=\"2.81\" style=\"fill:rgb(100%,0%,0%);fill-opacity:1.0\">7</text></g><g transform=\"translate(678.01,1159.32)rotate(0)\"><text x=\"15.00\" y=\"2.81\" style=\"fill:rgb(0%,0%,0%);fill-opacity:1.0\">8</text></g><g transform=\"translate(678.01,1106.63)rotate(0)\"><text x=\"15.00\" y=\"2.81\" style=\"fill:rgb(0%,0%,0%);fill-opacity:1.0\">9</text></g><g transform=\"translate(678.01,1053.93)rotate(0)\"><text x=\"15.00\" y=\"2.81\" style=\"fill:rgb(0%,0%,0%);fill-opacity:1.0\">10</text></g><g transform=\"translate(678.01,1001.24)rotate(0)\"><text x=\"15.00\" y=\"2.81\" style=\"fill:rgb(0%,0%,0%);fill-opacity:1.0\">11</text></g><g transform=\"translate(678.01,948.54)rotate(0)\"><text x=\"15.00\" y=\"2.81\" style=\"fill:rgb(0%,0%,0%);fill-opacity:1.0\">12</text></g><g transform=\"translate(678.01,895.84)rotate(0)\"><text x=\"15.00\" y=\"2.81\" style=\"fill:rgb(100%,0%,0%);fill-opacity:1.0\">13</text></g><g transform=\"translate(678.01,843.15)rotate(0)\"><text x=\"15.00\" y=\"2.81\" style=\"fill:rgb(100%,0%,0%);fill-opacity:1.0\">14</text></g><g transform=\"translate(678.01,790.45)rotate(0)\"><text x=\"15.00\" y=\"2.81\" style=\"fill:rgb(100%,0%,0%);fill-opacity:1.0\">15</text></g><g transform=\"translate(678.01,737.75)rotate(0)\"><text x=\"15.00\" y=\"2.81\" style=\"fill:rgb(100%,0%,0%);fill-opacity:1.0\">16</text></g><g transform=\"translate(678.01,685.06)rotate(0)\"><text x=\"15.00\" y=\"2.81\" style=\"fill:rgb(0%,0%,0%);fill-opacity:1.0\">17</text></g><g transform=\"translate(678.01,632.36)rotate(0)\"><text x=\"15.00\" y=\"2.81\" style=\"fill:rgb(0%,0%,0%);fill-opacity:1.0\">18</text></g><g transform=\"translate(678.01,579.66)rotate(0)\"><text x=\"15.00\" y=\"2.81\" style=\"fill:rgb(0%,0%,0%);fill-opacity:1.0\">19</text></g><g transform=\"translate(678.01,526.97)rotate(0)\"><text x=\"15.00\" y=\"2.81\" style=\"fill:rgb(0%,0%,0%);fill-opacity:1.0\">20</text></g><g transform=\"translate(678.01,474.27)rotate(0)\"><text x=\"15.00\" y=\"2.81\" style=\"fill:rgb(0%,0%,0%);fill-opacity:1.0\">21</text></g><g transform=\"translate(678.01,421.57)rotate(0)\"><text x=\"15.00\" y=\"2.81\" style=\"fill:rgb(0%,0%,0%);fill-opacity:1.0\">22</text></g><g transform=\"translate(678.01,368.88)rotate(0)\"><text x=\"15.00\" y=\"2.81\" style=\"fill:rgb(0%,0%,0%);fill-opacity:1.0\">23</text></g><g transform=\"translate(678.01,316.18)rotate(0)\"><text x=\"15.00\" y=\"2.81\" style=\"fill:rgb(0%,0%,0%);fill-opacity:1.0\">24</text></g><g transform=\"translate(678.01,263.48)rotate(0)\"><text x=\"15.00\" y=\"2.81\" style=\"fill:rgb(0%,0%,0%);fill-opacity:1.0\">25</text></g><g transform=\"translate(678.01,210.79)rotate(0)\"><text x=\"15.00\" y=\"2.81\" style=\"fill:rgb(0%,0%,0%);fill-opacity:1.0\">26</text></g><g transform=\"translate(678.01,158.09)rotate(0)\"><text x=\"15.00\" y=\"2.81\" style=\"fill:rgb(0%,0%,0%);fill-opacity:1.0\">27</text></g><g transform=\"translate(678.01,105.39)rotate(0)\"><text x=\"15.00\" y=\"2.81\" style=\"fill:rgb(0%,0%,0%);fill-opacity:1.0\">28</text></g><g transform=\"translate(678.01,52.70)rotate(0)\"><text x=\"15.00\" y=\"2.81\" style=\"fill:rgb(0%,0%,100%);fill-opacity:1.0\">29</text></g></g></g></g><g class=\"toyplot-coordinates-Axis\" id=\"td9c161c0157546ca878b94e185f2dea5\" transform=\"translate(0.0,1600.0)translate(0,20.0)\"><line x1=\"18.83360776590357\" y1=\"0\" x2=\"678.0098795725308\" y2=\"0\" style=\"\"></line><g><g transform=\"translate(18.83360776590357,6)\"><text x=\"-4.445\" y=\"8.555\" style=\"fill:rgb(16.1%,15.3%,14.1%);fill-opacity:1.0;font-family:helvetica;font-size:10.0px;font-weight:normal;stroke:none;vertical-align:baseline;white-space:pre\">-4</text></g><g transform=\"translate(183.6276757175604,6)\"><text x=\"-4.445\" y=\"8.555\" style=\"fill:rgb(16.1%,15.3%,14.1%);fill-opacity:1.0;font-family:helvetica;font-size:10.0px;font-weight:normal;stroke:none;vertical-align:baseline;white-space:pre\">-3</text></g><g transform=\"translate(348.4217436692172,6)\"><text x=\"-4.445\" y=\"8.555\" style=\"fill:rgb(16.1%,15.3%,14.1%);fill-opacity:1.0;font-family:helvetica;font-size:10.0px;font-weight:normal;stroke:none;vertical-align:baseline;white-space:pre\">-2</text></g><g transform=\"translate(513.2158116208741,6)\"><text x=\"-4.445\" y=\"8.555\" style=\"fill:rgb(16.1%,15.3%,14.1%);fill-opacity:1.0;font-family:helvetica;font-size:10.0px;font-weight:normal;stroke:none;vertical-align:baseline;white-space:pre\">-1</text></g><g transform=\"translate(678.0098795725308,6)\"><text x=\"-2.78\" y=\"8.555\" style=\"fill:rgb(16.1%,15.3%,14.1%);fill-opacity:1.0;font-family:helvetica;font-size:10.0px;font-weight:normal;stroke:none;vertical-align:baseline;white-space:pre\">0</text></g></g><g class=\"toyplot-coordinates-Axis-coordinates\" style=\"visibility:hidden\" transform=\"\"><line x1=\"0\" x2=\"0\" y1=\"-3.0\" y2=\"4.5\" style=\"stroke:rgb(43.9%,50.2%,56.5%);stroke-opacity:1.0;stroke-width:1.0\"></line><text x=\"0\" y=\"-6\" style=\"alignment-baseline:alphabetic;fill:rgb(43.9%,50.2%,56.5%);fill-opacity:1.0;font-size:10px;font-weight:normal;stroke:none;text-anchor:middle\"></text></g></g><g class=\"toyplot-coordinates-Axis\" id=\"teb8c0f4f759e40228040ab6a17114f75\" transform=\"translate(0.0,1600.0)rotate(-90.0)translate(0,-20.0)\"><line x1=\"19.102511321531495\" y1=\"0\" x2=\"1547.303417044051\" y2=\"0\" style=\"\"></line><g><g transform=\"translate(19.102511321531495,-6)\"><text x=\"-2.78\" y=\"-4.440892098500626e-16\" style=\"fill:rgb(16.1%,15.3%,14.1%);fill-opacity:1.0;font-family:helvetica;font-size:10.0px;font-weight:normal;stroke:none;vertical-align:baseline;white-space:pre\">0</text></g><g transform=\"translate(546.068340881021,-6)\"><text x=\"-5.56\" y=\"-4.440892098500626e-16\" style=\"fill:rgb(16.1%,15.3%,14.1%);fill-opacity:1.0;font-family:helvetica;font-size:10.0px;font-weight:normal;stroke:none;vertical-align:baseline;white-space:pre\">10</text></g><g transform=\"translate(1073.0341704405105,-6)\"><text x=\"-5.56\" y=\"-4.440892098500626e-16\" style=\"fill:rgb(16.1%,15.3%,14.1%);fill-opacity:1.0;font-family:helvetica;font-size:10.0px;font-weight:normal;stroke:none;vertical-align:baseline;white-space:pre\">20</text></g><g transform=\"translate(1600.0,-6)\"><text x=\"-5.56\" y=\"-4.440892098500626e-16\" style=\"fill:rgb(16.1%,15.3%,14.1%);fill-opacity:1.0;font-family:helvetica;font-size:10.0px;font-weight:normal;stroke:none;vertical-align:baseline;white-space:pre\">30</text></g></g><g class=\"toyplot-coordinates-Axis-coordinates\" style=\"visibility:hidden\" transform=\"\"><line x1=\"0\" x2=\"0\" y1=\"3.0\" y2=\"-4.5\" style=\"stroke:rgb(43.9%,50.2%,56.5%);stroke-opacity:1.0;stroke-width:1.0\"></line><text x=\"0\" y=\"6\" style=\"alignment-baseline:hanging;fill:rgb(43.9%,50.2%,56.5%);fill-opacity:1.0;font-size:10px;font-weight:normal;stroke:none;text-anchor:middle\"></text></g></g></g></svg><div class=\"toyplot-behavior\"><script>(function()\n{\nvar modules={};\nmodules[\"toyplot/canvas/id\"] = \"t743975461ef5444b8680847e47250f99\";\nmodules[\"toyplot/canvas\"] = (function(canvas_id)\n    {\n        return document.querySelector(\"#\" + canvas_id);\n    })(modules[\"toyplot/canvas/id\"]);\nmodules[\"toyplot.coordinates.Axis\"] = (\n        function(canvas)\n        {\n            function sign(x)\n            {\n                return x < 0 ? -1 : x > 0 ? 1 : 0;\n            }\n\n            function mix(a, b, amount)\n            {\n                return ((1.0 - amount) * a) + (amount * b);\n            }\n\n            function log(x, base)\n            {\n                return Math.log(Math.abs(x)) / Math.log(base);\n            }\n\n            function in_range(a, x, b)\n            {\n                var left = Math.min(a, b);\n                var right = Math.max(a, b);\n                return left <= x && x <= right;\n            }\n\n            function inside(range, projection)\n            {\n                for(var i = 0; i != projection.length; ++i)\n                {\n                    var segment = projection[i];\n                    if(in_range(segment.range.min, range, segment.range.max))\n                        return true;\n                }\n                return false;\n            }\n\n            function to_domain(range, projection)\n            {\n                for(var i = 0; i != projection.length; ++i)\n                {\n                    var segment = projection[i];\n                    if(in_range(segment.range.bounds.min, range, segment.range.bounds.max))\n                    {\n                        if(segment.scale == \"linear\")\n                        {\n                            var amount = (range - segment.range.min) / (segment.range.max - segment.range.min);\n                            return mix(segment.domain.min, segment.domain.max, amount)\n                        }\n                        else if(segment.scale[0] == \"log\")\n                        {\n                            var amount = (range - segment.range.min) / (segment.range.max - segment.range.min);\n                            var base = segment.scale[1];\n                            return sign(segment.domain.min) * Math.pow(base, mix(log(segment.domain.min, base), log(segment.domain.max, base), amount));\n                        }\n                    }\n                }\n            }\n\n            var axes = {};\n\n            function display_coordinates(e)\n            {\n                var current = canvas.createSVGPoint();\n                current.x = e.clientX;\n                current.y = e.clientY;\n\n                for(var axis_id in axes)\n                {\n                    var axis = document.querySelector(\"#\" + axis_id);\n                    var coordinates = axis.querySelector(\".toyplot-coordinates-Axis-coordinates\");\n                    if(coordinates)\n                    {\n                        var projection = axes[axis_id];\n                        var local = current.matrixTransform(axis.getScreenCTM().inverse());\n                        if(inside(local.x, projection))\n                        {\n                            var domain = to_domain(local.x, projection);\n                            coordinates.style.visibility = \"visible\";\n                            coordinates.setAttribute(\"transform\", \"translate(\" + local.x + \")\");\n                            var text = coordinates.querySelector(\"text\");\n                            text.textContent = domain.toFixed(2);\n                        }\n                        else\n                        {\n                            coordinates.style.visibility= \"hidden\";\n                        }\n                    }\n                }\n            }\n\n            canvas.addEventListener(\"click\", display_coordinates);\n\n            var module = {};\n            module.show_coordinates = function(axis_id, projection)\n            {\n                axes[axis_id] = projection;\n            }\n\n            return module;\n        })(modules[\"toyplot/canvas\"]);\n(function(axis, axis_id, projection)\n        {\n            axis.show_coordinates(axis_id, projection);\n        })(modules[\"toyplot.coordinates.Axis\"],\"td9c161c0157546ca878b94e185f2dea5\",[{\"domain\": {\"bounds\": {\"max\": Infinity, \"min\": -Infinity}, \"max\": 0.13344000000000023, \"min\": -4.114285714285714}, \"range\": {\"bounds\": {\"max\": Infinity, \"min\": -Infinity}, \"max\": 700.0, \"min\": 0.0}, \"scale\": \"linear\"}]);\n(function(axis, axis_id, projection)\n        {\n            axis.show_coordinates(axis_id, projection);\n        })(modules[\"toyplot.coordinates.Axis\"],\"teb8c0f4f759e40228040ab6a17114f75\",[{\"domain\": {\"bounds\": {\"max\": Infinity, \"min\": -Infinity}, \"max\": 30.0, \"min\": -0.36250000000000004}, \"range\": {\"bounds\": {\"max\": Infinity, \"min\": -Infinity}, \"max\": 1600.0, \"min\": 0.0}, \"scale\": \"linear\"}]);\n})();</script></div></div>"
     },
     "metadata": {},
     "output_type": "display_data"
    }
   ],
   "source": [
    "np.random.seed(76)\n",
    "effect_nodes, effect_leaves = tgen.get_effect_nodes(\n",
    "    newick,\n",
    "    num_effects=num_effects,\n",
    "    num_leaves=p\n",
    ")\n",
    "\n",
    "print(f\"nodes: {effect_nodes}\")\n",
    "print(f\"leaves: {effect_leaves}\")\n",
    "\n",
    "tlc = [\"red\" if int(i) in effect_leaves else \"blue\" if int(i)==p-1 else \"black\" for i in tree.get_node_values(\"idx\", 1, 1)[-p:]]\n",
    "tlc.reverse()\n",
    "ref_nodes = [p.idx for p in tree.idx_dict[p-1].get_ancestors()][:-1]\n",
    "ref_nodes.append(p-1)\n",
    "\n",
    "canvas = tp.Canvas(width=800, height=1600)\n",
    "ax0 = canvas.cartesian(bounds=(0, 700, 0, 1600), padding=0)\n",
    "tree.draw(\n",
    "    # tip_labels=False,\n",
    "    node_sizes=[20 for i in tree.get_node_values(\"name\", 1, 1)],\n",
    "    node_labels=[x for x in tree.get_node_values(\"idx\", 1, 1)],\n",
    "    node_colors=[\"lightcoral\" if i in effect_nodes else \"lightblue\" if i in ref_nodes else \"lightgrey\" for i in tree.get_node_values(\"idx\", 1, 1)],\n",
    "    node_labels_style={\"font-size\": 10},\n",
    "    width=700,\n",
    "    height=1600,\n",
    "    node_style={\"stroke\": \"black\"},\n",
    "    axes=ax0,\n",
    "    tip_labels=\"name\",\n",
    "    tip_labels_colors=tlc,\n",
    ")\n",
    "# tp.svg.render(canvas, \"./plots/benchmark_tree_30.svg\")"
   ],
   "metadata": {
    "collapsed": false,
    "pycharm": {
     "name": "#%%\n"
    }
   }
  },
  {
   "cell_type": "code",
   "execution_count": 10,
   "outputs": [
    {
     "name": "stderr",
     "output_type": "stream",
     "text": [
      "/Users/johannes.ostner/opt/anaconda3/envs/scCODA_3/lib/python3.8/site-packages/anndata/_core/anndata.py:120: ImplicitModificationWarning: Transforming to str index.\n",
      "  warnings.warn(\"Transforming to str index.\", ImplicitModificationWarning)\n"
     ]
    }
   ],
   "source": [
    "id = 0\n",
    "\n",
    "x1_nodes = [39]\n",
    "x1_leaves = np.arange(13, 24, 1)\n",
    "beta_1 = np.zeros(p)\n",
    "beta_1[x1_leaves] = 3\n",
    "\n",
    "np.random.seed(1234)\n",
    "for e in effect_sizes:\n",
    "    for n in num_samples:\n",
    "        for r in range(reps):\n",
    "\n",
    "            mu_0, mu_1 = tgen.generate_mu(\n",
    "                a_abs=a_abs,\n",
    "                num_leaves=p,\n",
    "                effect_nodes=effect_nodes,\n",
    "                effect_leaves=effect_leaves,\n",
    "                effect_size=e,\n",
    "                newick=newick\n",
    "            )\n",
    "\n",
    "            X = pd.DataFrame({\"x_0\": np.repeat([0,1], n), \"x_1\": np.random.uniform(0, 1, 2*n)})\n",
    "\n",
    "            Y = np.zeros((n*2, p))\n",
    "            for i in range(n):\n",
    "                #Y[i, :] = np.sum(mu_0) * (mu_0 + beta_1*X.loc[i+n, \"x_1\"])/np.sum(mu_0 + beta_1*X.loc[i+n, \"x_1\"])\n",
    "                #Y[i+n, :] = np.sum(mu_1) * (mu_1 + beta_1*X.loc[i+n, \"x_1\"])/np.sum(mu_1 + beta_1*X.loc[i+n, \"x_1\"])\n",
    "                Y[i, :] = np.exp(np.log(mu_0) + beta_1*X.loc[i, \"x_1\"])\n",
    "                Y[i+n, :] = np.exp(np.log(mu_1) + beta_1*X.loc[i+n, \"x_1\"])\n",
    "\n",
    "            X = X.astype(np.float64)\n",
    "            Y = Y.astype(np.float64)\n",
    "\n",
    "            test_data = ad.AnnData(\n",
    "                X=Y,\n",
    "                obs=X,\n",
    "                uns={\n",
    "                    \"tree_newick\": newick,\n",
    "                    \"effect_nodes\": effect_nodes,\n",
    "                    \"effect_leaves\": effect_leaves,\n",
    "                    \"effect_size\": e,\n",
    "                    \"num_samples\": n,\n",
    "                }\n",
    "            )\n",
    "\n",
    "            # test_data.write_h5ad(dataset_path + f\"/data_{id}\")\n",
    "            id += 1\n",
    "\n"
   ],
   "metadata": {
    "collapsed": false,
    "pycharm": {
     "name": "#%%\n"
    }
   }
  }
 ],
 "metadata": {
  "kernelspec": {
   "display_name": "Python 3",
   "language": "python",
   "name": "python3"
  },
  "language_info": {
   "codemirror_mode": {
    "name": "ipython",
    "version": 2
   },
   "file_extension": ".py",
   "mimetype": "text/x-python",
   "name": "python",
   "nbconvert_exporter": "python",
   "pygments_lexer": "ipython2",
   "version": "2.7.6"
  }
 },
 "nbformat": 4,
 "nbformat_minor": 0
}